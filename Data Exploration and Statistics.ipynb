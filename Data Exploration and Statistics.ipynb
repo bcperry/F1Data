{
 "cells": [
  {
   "cell_type": "code",
   "execution_count": 1,
   "metadata": {},
   "outputs": [],
   "source": [
    "import asyncio\n",
    "import json\n",
    "import logging\n",
    "\n",
    "from signalr_async.net import Hub\n",
    "from signalr_async.net.client import SignalRClient\n",
    "\n",
    "import merger\n",
    "# from scoreboard import Scoreboard\n",
    "\n",
    "logging.basicConfig(level=logging.DEBUG)\n",
    "# s = Scoreboard()\n",
    "\n",
    "\n",
    "class F1SignalRClient(SignalRClient):\n",
    "    driver_list = {}\n",
    "    timing_data = {}\n",
    "    session_data = {}\n",
    "    session_info = {}\n",
    "\n",
    "    def LapCount(self, lc):\n",
    "        pass\n",
    "\n",
    "    def SessionData(self, session_data):\n",
    "        merger.merge(self.session_data, session_data)\n",
    "\n",
    "    def SessionInfo(self, session_info):\n",
    "        merger.merge(self.session_info, session_info)\n",
    "\n",
    "    def DriverList(self, drivers):\n",
    "        merger.merge(self.driver_list, drivers)\n",
    "\n",
    "    def TimingData(self, timing):\n",
    "        merger.merge(self.timing_data, timing)\n",
    "\n",
    "        for driver_number in timing[\"Lines\"]:\n",
    "            driver = self.driver_list[driver_number]\n",
    "            driver_timing = self.timing_data[\"Lines\"][driver_number]\n",
    "            gap = ''\n",
    "            color = driver['TeamColour']\n",
    "            pos = driver_timing['Position']\n",
    "            if not color:\n",
    "                color = 'ffffff'\n",
    "\n",
    "            if self.session_info['Type'] == \"Qualifying\":\n",
    "                current_part = int(self.timing_data['SessionPart'])\n",
    "                current_entries = self.timing_data['NoEntries'][current_part - 1]\n",
    "                if driver_timing['Position'] == '1':\n",
    "                    gap = driver_timing['BestLapTimes'][current_part - 1]['Value']\n",
    "                elif int(driver_timing['Position']) > current_entries:\n",
    "                    gap = 'KO'\n",
    "                else:\n",
    "                    gap = driver_timing['Stats'][current_part - 1]['TimeDiffToFastest']\n",
    "            elif self.session_info['Type'] == \"Practice\":\n",
    "                if 'TimeDiffToFastest' in driver_timing:\n",
    "                    gap = driver_timing['TimeDiffToFastest']\n",
    "                if driver_timing['Position'] == '1':\n",
    "                    gap = driver_timing['BestLapTime']['Value']\n",
    "            elif self.session_info['Type'] == \"Race\":\n",
    "                if 'GapToLeader' in driver_timing:  # race\n",
    "                    print(\"GapToLeader\")\n",
    "                    gap = driver_timing['GapToLeader']\n",
    "\n",
    "            # s.scoreboard[driver_number] = {\n",
    "            #     \"Pos\": pos,\n",
    "            #     \"TLA\": driver['Tla'],\n",
    "            #     \"Gap\": gap,\n",
    "            #     \"Color\": (int(color[:2], 16), int(color[2:4], 16), int(color[4:], 16)),\n",
    "            # }\n",
    "\n",
    "    async def _process_message(self, message):\n",
    "        if hasattr(message, \"result\"):\n",
    "            print(message)\n",
    "            for k in message.result:\n",
    "                print(k)\n",
    "                if hasattr(self, k):\n",
    "                    getattr(self, k)(message.result[k])\n",
    "                else:\n",
    "                    print(k, message.result[k])\n",
    "        elif hasattr(message, \"arguments\"):\n",
    "            k, v, t = message.arguments\n",
    "            if hasattr(self, k):\n",
    "                getattr(self, k)(v)\n",
    "            else:\n",
    "                print(k, v)\n",
    "\n",
    "\n",
    "_connection_url = 'https://livetiming.formula1.com/signalr'\n",
    "hub = Hub(\"streaming\")\n",
    "\n",
    "\n",
    "async def run_client():\n",
    "    async with F1SignalRClient(\n",
    "            _connection_url,\n",
    "            [hub],\n",
    "            keepalive_interval=5,\n",
    "    ) as client:\n",
    "        await hub.invoke(\"Subscribe\", [\"Heartbeat\", \"CarData.z\", \"Position.z\",\n",
    "                       \"ExtrapolatedClock\", \"TopThree\", \"RcmSeries\",\n",
    "                       \"TimingStats\", \"TimingAppData\",\n",
    "                       \"WeatherData\", \"TrackStatus\", \"DriverList\",\n",
    "                       \"RaceControlMessages\", \"SessionInfo\",\n",
    "                       \"SessionData\", \"LapCount\", \"TimingData\"])\n",
    "        await client.wait(timeout=5)\n",
    "\n"
   ]
  },
  {
   "cell_type": "code",
   "execution_count": 2,
   "metadata": {},
   "outputs": [
    {
     "name": "stderr",
     "output_type": "stream",
     "text": [
      "DEBUG:signalr_async.client:Starting connection with disconnected state\n",
      "DEBUG:signalr_async.client:Negotiation started\n",
      "DEBUG:signalr_async.client:Negotiation response: {'Url': '/signalr', 'ConnectionToken': 'G/MpRHIkt5CfupPe4/G9Fe4qGqxXKmHG8ZITD7Tpz2yAT604ffmOvTdjTJAjQPQiOpkr3NmRm3oPd3+HHFz5pz9Syi8jCob2xat5oCCicwmrEEXx25fR/r1F1DY4PJdQ', 'ConnectionId': '5f29b661-9465-4562-868b-0a2e290f2f90', 'KeepAliveTimeout': 20.0, 'DisconnectTimeout': 30.0, 'ConnectionTimeout': 110.0, 'TryWebSockets': True, 'ProtocolVersion': '1.5', 'TransportConnectTimeout': 10.0, 'LongPollDelay': 1.0}\n",
      "DEBUG:signalr_async.client:Connecting to wss://livetiming.formula1.com/signalr/connect?clientProtocol=1.5&connectionData=%5B%7B%22name%22:+%22streaming%22%7D%5D&transport=webSockets&connectionToken=G/MpRHIkt5CfupPe4/G9Fe4qGqxXKmHG8ZITD7Tpz2yAT604ffmOvTdjTJAjQPQiOpkr3NmRm3oPd3%2BHHFz5pz9Syi8jCob2xat5oCCicwmrEEXx25fR/r1F1DY4PJdQ\n",
      "DEBUG:signalr_async.client:Initializing\n",
      "DEBUG:signalr_async.client:Raw message received: WSMessage(type=<WSMsgType.TEXT: 1>, data='{\"C\":\"d-F23263D5-B,0|Df,0|Dg,1\",\"S\":1,\"M\":[]}', extra='')\n",
      "DEBUG:signalr_async.client:Sending: message_content='{}', is_binary=False\n",
      "DEBUG:signalr_async.client:Tasks created\n",
      "DEBUG:signalr_async.client:Client started successfully\n",
      "DEBUG:signalr_async.client:Sending: message_content='{\"H\": \"streaming\", \"M\": \"Subscribe\", \"A\": [[\"Heartbeat\", \"CarData.z\", \"Position.z\", \"ExtrapolatedClock\", \"TopThree\", \"RcmSeries\", \"TimingStats\", \"TimingAppData\", \"WeatherData\", \"TrackStatus\", \"DriverList\", \"RaceControlMessages\", \"SessionInfo\", \"SessionData\", \"LapCount\", \"TimingData\"]], \"I\": \"0\"}', is_binary=False\n",
      "DEBUG:signalr_async.client:Raw message received: WSMessage(type=<WSMsgType.TEXT: 1>, data='{\"C\":\"d-F23263D5-B,0|Df,0|Dg,2|d,94\",\"G\":\"0FxlD4NushY7+bZkpMrOe0Es8IdFQdEP2hlksEz2ZFQ8BZkr2ECDLL3xtbt/5hrVNqw2lpUgqKwnqqrPycQG9xlanY99tcaIo6yz//L/j6Gvc9RHoKg4uxOY8O3++aN7O3nLsGiHlx+Yk5LiUQ8wFw==\",\"M\":[]}', extra='')\n",
      "DEBUG:signalr_async.client:Raw message received: WSMessage(type=<WSMsgType.TEXT: 1>, data='{\"C\":\"d-F23263D5-B,0|Df,0|Dg,3|d,94|p,89A\",\"G\":\"pZHgxGW1JvPHeOL34Z5edhNU0mgOTibAffWc4WyAbnpHCT5Re+1niuEsUVA+pqH1CaG0prbT7Hetso7s46r7GOecMBd9ZgZSPBQUsfnfX+hhSLZhJy5EW4kgYpapQERZE4GO62KXuuGfEO7bxZmwk5w1kMJzTedH5f0Pk7CcPg0=\",\"M\":[]}', extra='')\n",
      "DEBUG:signalr_async.client:Raw message received: WSMessage(type=<WSMsgType.TEXT: 1>, data='{\"C\":\"d-F23263D5-B,0|Df,0|Dg,4|d,94|p,89A|o,899\",\"G\":\"4GgiyRPK4Z/5A3ViM7mAhjTubn4BVSCUFhXSkHBrWQnSgb9c8Fo5JrMctNhwJjIKvoSPckb0E2lMiCaoZ2Nev9TuBSz7KV2K9h/tyLNbljPUehYnnzZUjeRtUvcmf6LvWr6lj6gn1tE9koPLwXrDHWd2UhofU/EbS6Spn6I/xYGdyfH0a71V1DUvIKtjadcpzX+eJKV6olNog6QoepGLpA==\",\"M\":[]}', extra='')\n",
      "DEBUG:signalr_async.client:Raw message received: WSMessage(type=<WSMsgType.TEXT: 1>, data='{\"C\":\"d-F23263D5-B,0|Df,0|Dg,5|d,94|p,89A|o,899|a,1\",\"G\":\"1/VFY+aZFnFXIrIUbFmIqI6HTgpA9PXhmoW9JdEgdyD3+TtWstzvI4nX2Q+qDdpAFSFD1R/RZjF5jnO0ggRNjs1xDcZ3alGq4zcgpvf563FhVw6k2gD8ODPVxIVdAeu+b0C5BL9pScS2Cjsu2TRXgzkPz982a7RRnoiRdg3DJ3gQ+zesHKGFxMsFeUp9Vsz86Df3SulTiYA87cV38YsylTn58VNxL7erdFdLQP1OxeA=\",\"M\":[]}', extra='')\n",
      "DEBUG:signalr_async.client:Raw message received: WSMessage(type=<WSMsgType.TEXT: 1>, data='{\"C\":\"d-F23263D5-B,0|Df,0|Dg,6|d,94|p,89A|o,899|a,1|Y,D\",\"G\":\"66O+rpuJtokxMPHR7ZcH3INi6UCdK+QUPG38ZyKXW6NO15nz87ZUcng82OTpAqUb5ge5xpmoruDt86NOhX0lOj8LTceJvx9xEsdfhm24yAuCz15O7opEOyMQLZKxTRFeJQnmK8HAiMO3Wza1+3QrTxGzS8m7VFqX/prxBA1IOTMCGIfdBn6o8QFL4SVf3hzpd2Wi3mMycIvc42BfYWlJqIkMoWNZjh/sxRvOGBBVk8tRQtzMozXAGfCxbAD71IHxWc7+S2YFTXERVZp/l+bl7Q==\",\"M\":[]}', extra='')\n",
      "DEBUG:signalr_async.client:Raw message received: WSMessage(type=<WSMsgType.TEXT: 1>, data='{\"C\":\"d-F23263D5-B,0|Df,0|Dg,7|d,94|p,89A|o,899|a,1|Y,D|Dh,0\",\"G\":\"O5XK3N8VdPMTZjXs7TxVorZQKRokZo6pYKLSu47zo3uu4AE5zjK1udTR0s1tUb8m96Gd9A6129HfK5KpVkmeFvrqqUML6gQV7KTMqrznD8yLucUg+fhWrs3jn91MEzE5gBF+bA/I7gxAQdy0b8+LaTIpmU+JPXy1tIsEBnB74u7bia6rt4/wklCBQjmmc78LtRIwCjmv6cMbgvZtc8iW/wrD7Qz8ipHou2g1kVAIwKWUVddi4/3BDN49ybqQ22uYjVnaIW9c1V5+x5zi2IqyCki5bIsFZuPUDtXKGL0HBdk=\",\"M\":[]}', extra='')\n",
      "DEBUG:signalr_async.client:Raw message received: WSMessage(type=<WSMsgType.TEXT: 1>, data='{\"C\":\"d-F23263D5-B,0|Df,0|Dg,8|d,94|p,89A|o,899|a,1|Y,D|Dh,0|n,1\",\"G\":\"N4fvh4fi6CAwx4y6ZhJKOgiBfi6m9dBw6I801l0MqWcAqCY0hfVnkQe1cAGK0zdKvNKrBqJRofmgAqaFakNFUKNdQ+sszfzoqtdS1YpBuCyS8ZbT4TK36NOPFa2N2ZmPHfS7MC67PjOnjIYPhckZdOusCFOEIkpfJLIWnYPaU1v1UjvwBTwDBU7gvRy+HU8G6jTApX6233ZIQNJab/VomSdFOMFoHTCSHRUGoCD1tqFrcNj1paWXRPHy92aHulfD5KOF2+vC198ZwS5hFWEW24vDFAP+b9u7iYC2VvWoPDbmDUIZt96cH/k3MJNlFC5L5UqyZj+UwZ4o0hyJo6v2FQ==\",\"M\":[]}', extra='')\n",
      "DEBUG:signalr_async.client:Raw message received: WSMessage(type=<WSMsgType.TEXT: 1>, data='{\"C\":\"d-F23263D5-B,0|Df,0|Dg,9|d,94|p,89A|o,899|a,1|Y,D|Dh,0|n,1|W,2\",\"G\":\"ATKkV7n3t2TfXrUZyFZDksBnGqPPD9K+8NwpyzBGzwCoF0IODAdrgRP3tfhEjepMueWedcV3TiIlWyUvKXs9wuiCdJGyYQ9Ay8W9J7t/jgjq3iwGJMqtnmdLMtuO/BG2fi9B3Q/lYQg2q7ViBy+RwFSkPRXCaRVX2J97JNG4PbaChHaIbuebgZFfAzgtKGjlcaWjyZQDJgnHDMdgWotfl7xv6AtjtMCEJmY6zlEX0fBQjl08rFmhFGwmHiWOMvYd3JDw8ryZ+s6a5O4UrtLHtHfXz29IHhTGzHrQmV8ZD0EDFwQkMmC6vbufPLcTtnd7pw73dsaLJj3GqR//k5rKWV/QThTyspGVRgIN32SCy9g=\",\"M\":[]}', extra='')\n",
      "DEBUG:signalr_async.client:Raw message received: WSMessage(type=<WSMsgType.TEXT: 1>, data='{\"C\":\"d-F23263D5-B,0|Df,0|Dg,A|d,94|p,89A|o,899|a,1|Y,D|Dh,0|n,1|W,2|c,25\",\"G\":\"V9smKBrMHnMhGcvuqGRBW06u+FcQzUMxWabUe2Op7Sb3U0aR/iJzp878YGUs52XbnsuYXYBHjwEle46K2T5sp07LSFG4tklOyQMX/UCSGgJMtPMfkIltOuJFgBwC1L5qlm0qKMSOcsVCwh0LWai3DpQKvy4nQAr8NJjWs9eaTEEpp//XuCsnhdechcBTi4vCdBM+zzzVV/2Pkq+2oarEv7EJDjqTbdmQtVRu/grMbfBIBNGWpvED4ERHP4DyNCQg2pg4ugIydIUoxw9Nl8P0rqYlVnZCL/ELrUyDwmr5CwG4Qa+IJifssZrfYEV0yVlBNUG5IOGslnX77fUniooBXASEWOXm7eQnhDMlvuLv3zv8xnlpfTHW0P55synAqPJAyqZXBTRNIKV48n9JigMOuw==\",\"M\":[]}', extra='')\n",
      "DEBUG:signalr_async.client:Raw message received: WSMessage(type=<WSMsgType.TEXT: 1>, data='{\"C\":\"d-F23263D5-B,0|Df,0|Dg,B|d,94|p,89A|o,899|a,1|Y,D|Dh,0|n,1|W,2|c,25|i,1\",\"G\":\"B3aWdpwIgEVFwL/f2ZByEA5ad9T8JJcsiJQZB82GC7mKrQCK4C2PrQNMEq6FlIAXjkaSn9J8Xizi4l3wQd8dCKuVo89qK2cRIs4tMCb7K35z7CunuPzeT4ekYCpnT7TfJSIurBgJTO1ILJVCPm/ZaiznOFrFT3K29TLlgo1027sBPCIK7aymn8t65sJgWRu2pTtg6SJ3tCQiJ9IOUj/LfPzrlczXuLH9lzTuD4cz2RC7y5iXFaiyLLzpxClLmamNWN6EQhxzo9evgC07QTYBk46/+uL1DMyLeeYoynkkRGkbM3qr5CVwohRRLrZUxW2jHStDn4YTLSsQEzh+fjQTwGQSsnA5goIcoxZQDmEaphp4DZADndhbMYI49AB6pP5pwhMlt6/nFw/DssEaGhivAYNfKnw/217WesGOApPUgl0=\",\"M\":[]}', extra='')\n",
      "DEBUG:signalr_async.client:Raw message received: WSMessage(type=<WSMsgType.TEXT: 1>, data='{\"C\":\"d-F23263D5-B,0|Df,0|Dg,C|d,94|p,89A|o,899|a,1|Y,D|Dh,0|n,1|W,2|c,25|i,1|X,C\",\"G\":\"Z4g6EwG3WQJ6DO2y8xWPb1IyUKjBR4erlzF2CFyMRZuoB0XKu5XLuhMsKCJW7l2msfvnxUzyO9goV/oYt6uHkutaP+idJViJ+XFhFINNY6jU23TzyLRxIjzuCra5OMTndg6YCGcji0gopX8HxIQuG9CfhJ92fjOPMBAqSkhxd5yNlhb1at6K6jRNHSAbrF8ZlWtEm+xf8kAjiXOJOCLKWoeOd3DEXJYH0cq6VX/pBZ0uR7Zhh+ocoRgJmy7dE2Q6ntcFnvbCaNVvyixfNgEFu3U0/5/3BcPtpGyPkLxwTNXPN7ScJYNiQziBXuj0r4k5kF8bpPIEWfpGy0X8GWQaAK1eMzbxZNvacOCqCaGdhypKm8jge9htScJIoYjZ2eyCbNNXKlBUeooYkBX+tZ9IDEurFiyyJJMlqUrxNUnpRX53ANDe/0RYs7oKIRTYAwi4PYFkso98vVXocGxPhme93w==\",\"M\":[]}', extra='')\n",
      "DEBUG:signalr_async.client:Raw message received: WSMessage(type=<WSMsgType.TEXT: 1>, data='{\"C\":\"d-F23263D5-B,0|Df,0|Dg,D|d,94|p,89A|o,899|a,1|Y,D|Dh,0|n,1|W,2|c,25|i,1|X,C|k,3\",\"G\":\"Qo2Nz9+yl+3G2fdMjrIMR5fEdGY5t/Jg14kzn1VMDvrmievpMbUPgftNHuBYOZxHtq02M2KRO2HEzJx6CKyIwJi2zO7g7sEKeG4VE/jdDV1vT7zRAxX1aw4aIKXnTXAWjFVFIh1FUyDY31jCOwlQd+eKtJIysI+5wkeRv4mvgGpDgraQ+X4azmbqmETY8BrAPym4mD1gmkqjwskw2kQS80KrMEswugPrMvL9zv/Bs/bXofTEZG5vOEmjI+No+eMzOvFrGnI6d52s/shY3/LDXzsE9u41TrkPOnSDSHYn4hBw+ozYNV+HJIdYJSnvYssP85wxp2DBUvXIe1hWe1VCHR7NbNvC/fMKgQiYGZ9LcGLG28EsJ+h6q1wLF2ty9m1m2D6sQEkE1bHQWQntreQkXexMdysSRuqjL9b7mcgSSJVxlJ6+E0N7Tij5HmDybgJ0m40Am8Iw5v87z+sYOlkC6AaPkO8kxgBgydmFCWOgVtDQlSf7LPKh7OhCw2hLqRZi\",\"M\":[]}', extra='')\n",
      "DEBUG:signalr_async.client:Raw message received: WSMessage(type=<WSMsgType.TEXT: 1>, data='{\"C\":\"d-F23263D5-B,0|Df,0|Dg,E|d,94|p,89A|o,899|a,1|Y,D|Dh,0|n,1|W,2|c,25|i,1|X,C|k,3|l,1\",\"G\":\"1THM1Hu8P5/+QaHH8toSSh+7eWMH+l9wrG5lEF38EvWcOTv8WUGPtqgHJiDsyoCk0BXbas11bqjakrF2NFVQMcTlbKvm6oJjX2VNKNgLeMMPmnILR2QZ0YAwiqUt54EubVmcMNUGdCmZU1Da0NeWGcBWgczveXzsTpXIExZT7RgeUL9IDdyTpQPjaONFWXg2fkD9TeRGiiQHE1skQHUI7xn5hAXYNs6oPK1UIJS9L9CeEjaRksLwgDBbrzOf3HgOLHc70MBfNQ4UAfxoRvdb91ju3SRdhBI75wbfmlNxXVFy7QcVadt1M9npSF3UslaIZDFDs6DhTfOAP8eqitUg+6vzc4ylCW06lhuKIvLOlnvyoW7EtzCgTWVXKLx6UlNKCYjAgLKjRiTiW5TmYZ6zmDx4bNT9Qt+aq2BSkjnzg4I0jkRvLQQGZ90IFIjrCXeSg6xupByoJeDBN+Cf6RJ35eYBRyLYlbJ+AwdTj0hO6ZXSrzqHlyEmKUm7FI9d3USTeqHQ1mA1tMA6UwD67Y4VAQ==\",\"M\":[]}', extra='')\n",
      "DEBUG:signalr_async.client:Raw message received: WSMessage(type=<WSMsgType.TEXT: 1>, data='{\"C\":\"d-F23263D5-B,0|Df,0|Dg,F|d,94|p,89A|o,899|a,1|Y,D|Dh,0|n,1|W,2|c,25|i,1|X,C|k,3|l,1|r,2\",\"G\":\"clBZFkodgN+m5aIdY8qgJd62l0LuoQc8guguua9m1T2nD/tfES8up/b0EyY3udth5d+EWK9GjG/+V4h1LtX7goxt4SVBKWnIt/A+q+SiPsJGlQNg0PzHYSMYKCBdZBtnV3PpYKcet7F6MENt1Ktow5ylsWePe8A7A+QILbjcv3asG9NMUvvBFdNn469uJtcVsjuLFNFhTwGUBhIjnPSdoeAeN7POIQyFNZ68ls7r79qMLL4KFqP/xtk3zOo++5SCrtxI5mvX3twmhMOGKrLkbFUFV+XHASZKQPHG0sawxtFiwBM5KY0ujhVQXbw0DvZaM92rnTuSdMZZmvvrSkf5CebMqUsrDPcFeUFr4wzaaPCn3Z8nfJsY0TNGEX8ZjcJ5nCAQ9nQ2NbWe3W4i8SuxPpT3giZY2EaGh6Mw9ek/Y38gaMuU1KkH529aWj0o4h7mdoo4p5UFBaiwbgGLP/eg9RLvUmHoNBj+wWyjyOBoOYuJN9WRZxpbpOVzoJfnNCf8Oe4kRUinmSHHC7/cvmk5qCVrWDHFDbeFovgjBOpH92h4PikBSgtnFF5p348zg8EU\",\"M\":[]}', extra='')\n",
      "DEBUG:signalr_async.client:Raw message received: WSMessage(type=<WSMsgType.TEXT: 1>, data='{\"C\":\"d-F23263D5-B,0|Df,0|Dg,10|d,94|p,89A|o,899|a,1|Y,D|Dh,0|n,1|W,2|c,25|i,1|X,C|k,3|l,1|r,2|Z,1\",\"G\":\"3TlaT8OWAWZfgSOBIb4pMkDw6uBH1VSnKCWK54fCBUaTZPnrlp7lRnLSoDKY5Aua0UR0RvaCWH1w++cPWZnZmqpY6UNDSSWVkROO1MmJ/R0F11On3p4w0QP5h8kLjJbG3QmVTR0ATkAZHJgigzvFWbx0KPu+HdBHvoLSEbzbBgv2sbjz7HbS9QDlllmo/sQSPj8zigYMc4IoJIgLx0EyWWrZqNQLRtZl9ehWJKeRiLTU0vuUFyk1zMy9I4YcPDcvhkM0ZKhBaavhXAcuH9z+P6l5D1jtxMuJBHVnhBjHdIRh/Q9hWXBxBr0zB4o7xZhXXBcm9AJBT+0orwVa2v/6I0jveKE/LoF6wK+egBkr3/s9Z+Ay9VpI4Wn1127yF+D6D3IPm1efnT/EI/lnT+Ehxb3CKaaQV+qiejLOckTvF+q2WXYulnqO5hYZCBEfa3kE9dThTApUq1MwBiJdbbE5xsm4/83waUisVywyETTGBryKDKdkeXKKL0AgSFkWTe1c7EWz4giFiaVw+IGMrQl1DccRw0q+2koGZM93gVNAqBHbBwC6OnEMCSZC8Xdwip3I4bc+WHntrqT8jY42zjQvlQ==\",\"M\":[]}', extra='')\n",
      "DEBUG:signalr_async.client:Raw message received: WSMessage(type=<WSMsgType.TEXT: 1>, data='{\"C\":\"d-F23263D5-B,0|Df,0|Dg,11|d,94|p,89A|o,899|a,1|Y,D|Dh,0|n,1|W,2|c,25|i,1|X,C|k,3|l,1|r,2|Z,1|s,59F\",\"G\":\"eUtx7LusprVpWWi18pg5D6ylP5tGufP+20cfK+pWN4KN37K+EqYtg6VGR+Iu43lkGo6Kh5whMjZ8z5O0DxdtWA5Q9b0PHnM5OgJHA8ENfrfMtZlKNsn+yBV2Jtl5WYyo81ryQ/hq3dkEp570uMPUiL3XVRhIzsbYM3vR2Gk+VPU+23qY/zvmiOMPMA52Gv0uH+vDq1lyx4U3KRgjIxfGadMmbdyrK9mlanYEG7sdvloomYqBX9hrUafKwe18wkB/JK2hUe3gpwTa6z4ARvZ96X+Xwk7SaO4RFwVnIYXJjBZGyHAa59RpNrMWlQFkJxvmWTBoWObN/vSCn0XZYv1za8FYCNIANInrdvftnrsLpASyXHI29bONi9gBWSfGAcC71qQxjGgHLyuzgUPsr5o426P9oY7uuKI/9vtGjSOt+P4YAsshll0368tslgd0wCE79/SkvYRt3E0y1pDNIleimgGod7bNVgzJjrGPn5V8yj2emMf7Fm/xGCLMfDBQja40cRdUNkH9WPN0zehZ6eCXDmaLsAMhPLtZi2iFL5eAcZcPYi6AkZhn5gWCL8zXGmC/+vOnH49BRirSM73AVuFxqIIsK04jZi9MC66N+mpx/jM=\",\"M\":[]}', extra='')\n",
      "DEBUG:signalr_async.client:Raw message received: WSMessage(type=<WSMsgType.TEXT: 1>, data='{\"R\":{\"Heartbeat\":{\"Utc\":\"2023-03-19T16:38:05.6876071Z\",\"_kf\":true},\"CarData.z\":\"7ZS9DsIwDITfxXOp4vyarBVvAAuIoUKVQEIdoFvVd6dNZwZuoYMXJ4p8kn0XfSMd+uH16N6ULyOdhhtlssa6nXE73h85ZieZXS1WxMj+TBU17WvuHomX0tzbvu+e5cFQNhXZUl2pvtSw3pdjmkoDpPOgjs3vQi5CdEOGR43oqIKGgZpj4fjR/K1DhUAc644JFDrUHI/+nBDAUSPqakLNEcycWfodUL5mkRS8AkoBpYBSQG0QUMFLMlb5pHxSPimftsenJBJjTAooBZQCSgH1F0Bdpw8=\",\"Position.z\":\"7ZY9a8NADIb/i2Y7WNJ975lbqIc2pYMpGUyJU2J3Mv7v9UcI55Kq1PMtxoZ7kO6VeHAPj+e27upzA+G1h7I+HduuOn1CACqI84Jz9CWawC4g75xXZBQdIIN9013qYwuhB5weT13VfY2f8NCUl+r9YzzyDCFH9iaDFwi6UBkcICC6IQOSEPR2RnIdI0pCyOkZoQIjBAuJUYxLZ97FzIbboNibYjczBm3MGLFOsdQhverNiYxa6rCNMyAxA2K+3idG5AhwQcjG1yFxojxNcmrNr+qw2Bpd66wQMelfErBiGe1nZnyJGBYjuL85Su7t7kS1FnszC4Mq3jbz/9isGAFPZydkWu4b48QISC2M8TdkGLK/DKJ244xo3JxkkGSQZJBkkA0GYavQY/oHSQZJBkkG2WIQqzUyczJIMkgySDLIT4O8Dd8=\",\"ExtrapolatedClock\":{\"Utc\":\"2023-03-19T16:38:15.6399535Z\",\"Remaining\":\"02:00:00\",\"Extrapolating\":false,\"_kf\":true},\"TopThree\":{\"Withheld\":false,\"Lines\":[{\"Position\":\"1\",\"ShowPosition\":true,\"RacingNumber\":\"11\",\"Tla\":\"PER\",\"BroadcastName\":\"S PEREZ\",\"FullName\":\"Sergio PEREZ\",\"LapTime\":\"\",\"LapState\":64,\"DiffToAhead\":\"LAP 1\",\"DiffToLeader\":\"LAP 1\",\"OverallFastest\":false,\"PersonalFastest\":false,\"Team\":\"Red Bull Racing\",\"TeamColour\":\"3671C6\"},{\"Position\":\"2\",\"ShowPosition\":true,\"RacingNumber\":\"14\",\"Tla\":\"ALO\",\"BroadcastName\":\"F ALONSO\",\"FullName\":\"Fernando ALONSO\",\"LapTime\":\"\",\"LapState\":64,\"DiffToAhead\":\"\",\"DiffToLeader\":\"\",\"OverallFastest\":false,\"PersonalFastest\":false,\"Team\":\"Aston Martin\",\"TeamColour\":\"358C75\"},{\"Position\":\"3\",\"ShowPosition\":true,\"RacingNumber\":\"63\",\"Tla\":\"RUS\",\"BroadcastName\":\"G RUSSELL\",\"FullName\":\"George RUSSELL\",\"LapTime\":\"\",\"LapState\":64,\"DiffToAhead\":\"\",\"DiffToLeader\":\"\",\"OverallFastest\":false,\"PersonalFastest\":false,\"Team\":\"Mercedes\",\"TeamColour\":\"6CD3BF\"}],\"_kf\":true},\"TimingStats\":{\"Withheld\":false,\"Lines\":{\"1\":{\"Line\":1,\"RacingNumber\":\"1\",\"PersonalBestLapTime\":{\"Value\":\"\"},\"BestSectors\":[{\"Value\":\"\"},{\"Value\":\"\"},{\"Value\":\"\"}],\"BestSpeeds\":{\"I1\":{\"Value\":\"\"},\"I2\":{\"Value\":\"\"},\"FL\":{\"Value\":\"\"},\"ST\":{\"Value\":\"\"}}},\"2\":{\"Line\":2,\"RacingNumber\":\"2\",\"PersonalBestLapTime\":{\"Value\":\"\"},\"BestSectors\":[{\"Value\":\"\"},{\"Value\":\"\"},{\"Value\":\"\"}],\"BestSpeeds\":{\"I1\":{\"Value\":\"\"},\"I2\":{\"Value\":\"\"},\"FL\":{\"Value\":\"\"},\"ST\":{\"Value\":\"\"}}},\"4\":{\"Line\":3,\"RacingNumber\":\"4\",\"PersonalBestLapTime\":{\"Value\":\"\"},\"BestSectors\":[{\"Value\":\"\"},{\"Value\":\"\"},{\"Value\":\"\"}],\"BestSpeeds\":{\"I1\":{\"Value\":\"\"},\"I2\":{\"Value\":\"\"},\"FL\":{\"Value\":\"\"},\"ST\":{\"Value\":\"\"}}},\"10\":{\"Line\":4,\"RacingNumber\":\"10\",\"PersonalBestLapTime\":{\"Value\":\"\"},\"BestSectors\":[{\"Value\":\"\"},{\"Value\":\"\"},{\"Value\":\"\"}],\"BestSpeeds\":{\"I1\":{\"Value\":\"\"},\"I2\":{\"Value\":\"\"},\"FL\":{\"Value\":\"\"},\"ST\":{\"Value\":\"\"}}},\"11\":{\"Line\":5,\"RacingNumber\":\"11\",\"PersonalBestLapTime\":{\"Value\":\"\"},\"BestSectors\":[{\"Value\":\"\"},{\"Value\":\"\"},{\"Value\":\"\"}],\"BestSpeeds\":{\"I1\":{\"Value\":\"\"},\"I2\":{\"Value\":\"\"},\"FL\":{\"Value\":\"\"},\"ST\":{\"Value\":\"\"}}},\"14\":{\"Line\":6,\"RacingNumber\":\"14\",\"PersonalBestLapTime\":{\"Value\":\"\"},\"BestSectors\":[{\"Value\":\"\"},{\"Value\":\"\"},{\"Value\":\"\"}],\"BestSpeeds\":{\"I1\":{\"Value\":\"\"},\"I2\":{\"Value\":\"\"},\"FL\":{\"Value\":\"\"},\"ST\":{\"Value\":\"\"}}},\"16\":{\"Line\":7,\"RacingNumber\":\"16\",\"PersonalBestLapTime\":{\"Value\":\"\"},\"BestSectors\":[{\"Value\":\"\"},{\"Value\":\"\"},{\"Value\":\"\"}],\"BestSpeeds\":{\"I1\":{\"Value\":\"\"},\"I2\":{\"Value\":\"\"},\"FL\":{\"Value\":\"\"},\"ST\":{\"Value\":\"\"}}},\"18\":{\"Line\":8,\"RacingNumber\":\"18\",\"PersonalBestLapTime\":{\"Value\":\"\"},\"BestSectors\":[{\"Value\":\"\"},{\"Value\":\"\"},{\"Value\":\"\"}],\"BestSpeeds\":{\"I1\":{\"Value\":\"\"},\"I2\":{\"Value\":\"\"},\"FL\":{\"Value\":\"\"},\"ST\":{\"Value\":\"\"}}},\"20\":{\"Line\":9,\"RacingNumber\":\"20\",\"PersonalBestLapTime\":{\"Value\":\"\"},\"BestSectors\":[{\"Value\":\"\"},{\"Value\":\"\"},{\"Value\":\"\"}],\"BestSpeeds\":{\"I1\":{\"Value\":\"\"},\"I2\":{\"Value\":\"\"},\"FL\":{\"Value\":\"\"},\"ST\":{\"Value\":\"\"}}},\"21\":{\"Line\":10,\"RacingNumber\":\"21\",\"PersonalBestLapTime\":{\"Value\":\"\"},\"BestSectors\":[{\"Value\":\"\"},{\"Value\":\"\"},{\"Value\":\"\"}],\"BestSpeeds\":{\"I1\":{\"Value\":\"\"},\"I2\":{\"Value\":\"\"},\"FL\":{\"Value\":\"\"},\"ST\":{\"Value\":\"\"}}},\"22\":{\"Line\":11,\"RacingNumber\":\"22\",\"PersonalBestLapTime\":{\"Value\":\"\"},\"BestSectors\":[{\"Value\":\"\"},{\"Value\":\"\"},{\"Value\":\"\"}],\"BestSpeeds\":{\"I1\":{\"Value\":\"\"},\"I2\":{\"Value\":\"\"},\"FL\":{\"Value\":\"\"},\"ST\":{\"Value\":\"\"}}},\"23\":{\"Line\":12,\"RacingNumber\":\"23\",\"PersonalBestLapTime\":{\"Value\":\"\"},\"BestSectors\":[{\"Value\":\"\"},{\"Value\":\"\"},{\"Value\":\"\"}],\"BestSpeeds\":{\"I1\":{\"Value\":\"\"},\"I2\":{\"Value\":\"\"},\"FL\":{\"Value\":\"\"},\"ST\":{\"Value\":\"\"}}},\"24\":{\"Line\":13,\"RacingNumber\":\"24\",\"PersonalBestLapTime\":{\"Value\":\"\"},\"BestSectors\":[{\"Value\":\"\"},{\"Value\":\"\"},{\"Value\":\"\"}],\"BestSpeeds\":{\"I1\":{\"Value\":\"\"},\"I2\":{\"Value\":\"\"},\"FL\":{\"Value\":\"\"},\"ST\":{\"Value\":\"\"}}},\"27\":{\"Line\":14,\"RacingNumber\":\"27\",\"PersonalBestLapTime\":{\"Value\":\"\"},\"BestSectors\":[{\"Value\":\"\"},{\"Value\":\"\"},{\"Value\":\"\"}],\"BestSpeeds\":{\"I1\":{\"Value\":\"\"},\"I2\":{\"Value\":\"\"},\"FL\":{\"Value\":\"\"},\"ST\":{\"Value\":\"\"}}},\"31\":{\"Line\":15,\"RacingNumber\":\"31\",\"PersonalBestLapTime\":{\"Value\":\"\"},\"BestSectors\":[{\"Value\":\"\"},{\"Value\":\"\"},{\"Value\":\"\"}],\"BestSpeeds\":{\"I1\":{\"Value\":\"\"},\"I2\":{\"Value\":\"\"},\"FL\":{\"Value\":\"\"},\"ST\":{\"Value\":\"\"}}},\"44\":{\"Line\":16,\"RacingNumber\":\"44\",\"PersonalBestLapTime\":{\"Value\":\"\"},\"BestSectors\":[{\"Value\":\"\"},{\"Value\":\"\"},{\"Value\":\"\"}],\"BestSpeeds\":{\"I1\":{\"Value\":\"\"},\"I2\":{\"Value\":\"\"},\"FL\":{\"Value\":\"\"},\"ST\":{\"Value\":\"\"}}},\"55\":{\"Line\":17,\"RacingNumber\":\"55\",\"PersonalBestLapTime\":{\"Value\":\"\"},\"BestSectors\":[{\"Value\":\"\"},{\"Value\":\"\"},{\"Value\":\"\"}],\"BestSpeeds\":{\"I1\":{\"Value\":\"\"},\"I2\":{\"Value\":\"\"},\"FL\":{\"Value\":\"\"},\"ST\":{\"Value\":\"\"}}},\"63\":{\"Line\":18,\"RacingNumber\":\"63\",\"PersonalBestLapTime\":{\"Value\":\"\"},\"BestSectors\":[{\"Value\":\"\"},{\"Value\":\"\"},{\"Value\":\"\"}],\"BestSpeeds\":{\"I1\":{\"Value\":\"\"},\"I2\":{\"Value\":\"\"},\"FL\":{\"Value\":\"\"},\"ST\":{\"Value\":\"\"}}},\"77\":{\"Line\":19,\"RacingNumber\":\"77\",\"PersonalBestLapTime\":{\"Value\":\"\"},\"BestSectors\":[{\"Value\":\"\"},{\"Value\":\"\"},{\"Value\":\"\"}],\"BestSpeeds\":{\"I1\":{\"Value\":\"\"},\"I2\":{\"Value\":\"\"},\"FL\":{\"Value\":\"\"},\"ST\":{\"Value\":\"\"}}},\"81\":{\"Line\":20,\"RacingNumber\":\"81\",\"PersonalBestLapTime\":{\"Value\":\"\"},\"BestSectors\":[{\"Value\":\"\"},{\"Value\":\"\"},{\"Value\":\"\"}],\"BestSpeeds\":{\"I1\":{\"Value\":\"\"},\"I2\":{\"Value\":\"\"},\"FL\":{\"Value\":\"\"},\"ST\":{\"Value\":\"\"}}}},\"SessionType\":\"Race\",\"_kf\":true},\"TimingAppData\":{\"Lines\":{\"1\":{\"RacingNumber\":\"1\",\"Stints\":[],\"Line\":15,\"GridPos\":\"15\"},\"2\":{\"RacingNumber\":\"2\",\"Stints\":[],\"Line\":20,\"GridPos\":\"20\"},\"4\":{\"RacingNumber\":\"4\",\"Stints\":[],\"Line\":19,\"GridPos\":\"19\"},\"10\":{\"RacingNumber\":\"10\",\"Stints\":[],\"Line\":9,\"GridPos\":\"9\"},\"11\":{\"RacingNumber\":\"11\",\"Stints\":[],\"Line\":1,\"GridPos\":\"1\"},\"14\":{\"RacingNumber\":\"14\",\"Stints\":[],\"Line\":2,\"GridPos\":\"2\"},\"16\":{\"RacingNumber\":\"16\",\"Stints\":[],\"Line\":12,\"GridPos\":\"12\"},\"18\":{\"RacingNumber\":\"18\",\"Stints\":[],\"Line\":5,\"GridPos\":\"5\"},\"20\":{\"RacingNumber\":\"20\",\"Stints\":[],\"Line\":13,\"GridPos\":\"13\"},\"21\":{\"RacingNumber\":\"21\",\"Stints\":[],\"Line\":18,\"GridPos\":\"18\"},\"22\":{\"RacingNumber\":\"22\",\"Stints\":[],\"Line\":16,\"GridPos\":\"16\"},\"23\":{\"RacingNumber\":\"23\",\"Stints\":[],\"Line\":17,\"GridPos\":\"17\"},\"24\":{\"RacingNumber\":\"24\",\"Stints\":[],\"Line\":11,\"GridPos\":\"11\"},\"27\":{\"RacingNumber\":\"27\",\"Stints\":[],\"Line\":10,\"GridPos\":\"10\"},\"31\":{\"RacingNumber\":\"31\",\"Stints\":[],\"Line\":6,\"GridPos\":\"6\"},\"44\":{\"RacingNumber\":\"44\",\"Stints\":[],\"Line\":7,\"GridPos\":\"7\"},\"55\":{\"RacingNumber\":\"55\",\"Stints\":[],\"Line\":4,\"GridPos\":\"4\"},\"63\":{\"RacingNumber\":\"63\",\"Stints\":[],\"Line\":3,\"GridPos\":\"3\"},\"77\":{\"RacingNumber\":\"77\",\"Stints\":[],\"Line\":14,\"GridPos\":\"14\"},\"81\":{\"RacingNumber\":\"81\",\"Stints\":[],\"Line\":8,\"GridPos\":\"8\"}},\"_kf\":true},\"WeatherData\":{\"AirTemp\":\"26.1\",\"Humidity\":\"58.0\",\"Pressure\":\"1010.7\",\"Rainfall\":\"0\",\"TrackTemp\":\"32.4\",\"WindDirection\":\"318\",\"WindSpeed\":\"2.9\",\"_kf\":true},\"TrackStatus\":{\"Status\":\"1\",\"Message\":\"AllClear\",\"_kf\":true},\"DriverList\":{\"11\":{\"RacingNumber\":\"11\",\"BroadcastName\":\"S PEREZ\",\"FullName\":\"Sergio PEREZ\",\"Tla\":\"PER\",\"Line\":1,\"TeamName\":\"Red Bull Racing\",\"TeamColour\":\"3671C6\",\"FirstName\":\"Sergio\",\"LastName\":\"Perez\",\"Reference\":\"SERPER01\",\"CountryCode\":\"MEX\",\"HeadshotUrl\":\"https://www.formula1.com/content/dam/fom-website/drivers/S/SERPER01_Sergio_Perez/serper01.png.transform/1col/image.png\"},\"14\":{\"RacingNumber\":\"14\",\"BroadcastName\":\"F ALONSO\",\"FullName\":\"Fernando ALONSO\",\"Tla\":\"ALO\",\"Line\":2,\"TeamName\":\"Aston Martin\",\"TeamColour\":\"358C75\",\"FirstName\":\"Fernando\",\"LastName\":\"Alonso\",\"Reference\":\"FERALO01\",\"CountryCode\":\"ESP\",\"HeadshotUrl\":\"https://www.formula1.com/content/dam/fom-website/drivers/F/FERALO01_Fernando_Alonso/feralo01.png.transform/1col/image.png\"},\"63\":{\"RacingNumber\":\"63\",\"BroadcastName\":\"G RUSSELL\",\"FullName\":\"George RUSSELL\",\"Tla\":\"RUS\",\"Line\":3,\"TeamName\":\"Mercedes\",\"TeamColour\":\"6CD3BF\",\"FirstName\":\"George\",\"LastName\":\"Russell\",\"Reference\":\"GEORUS01\",\"CountryCode\":\"GBR\",\"HeadshotUrl\":\"https://www.formula1.com/content/dam/fom-website/drivers/G/GEORUS01_George_Russell/georus01.png.transform/1col/image.png\"},\"55\":{\"RacingNumber\":\"55\",\"BroadcastName\":\"C SAINZ\",\"FullName\":\"Carlos SAINZ\",\"Tla\":\"SAI\",\"Line\":4,\"TeamName\":\"Ferrari\",\"TeamColour\":\"F91536\",\"FirstName\":\"Carlos\",\"LastName\":\"Sainz\",\"Reference\":\"CARSAI01\",\"CountryCode\":\"ESP\",\"HeadshotUrl\":\"https://www.formula1.com/content/dam/fom-website/drivers/C/CARSAI01_Carlos_Sainz/carsai01.png.transform/1col/image.png\"},\"18\":{\"RacingNumber\":\"18\",\"BroadcastName\":\"L STROLL\",\"FullName\":\"Lance STROLL\",\"Tla\":\"STR\",\"Line\":5,\"TeamName\":\"Aston Martin\",\"TeamColour\":\"358C75\",\"FirstName\":\"Lance\",\"LastName\":\"Stroll\",\"Reference\":\"LANSTR01\",\"CountryCode\":\"CAN\",\"HeadshotUrl\":\"https://www.formula1.com/content/dam/fom-website/drivers/L/LANSTR01_Lance_Stroll/lanstr01.png.transform/1col/image.png\"},\"31\":{\"RacingNumber\":\"31\",\"BroadcastName\":\"E OCON\",\"FullName\":\"Esteban OCON\",\"Tla\":\"OCO\",\"Line\":6,\"TeamName\":\"Alpine\",\"TeamColour\":\"2293D1\",\"FirstName\":\"Esteban\",\"LastName\":\"Ocon\",\"Reference\":\"ESTOCO01\",\"CountryCode\":\"FRA\",\"HeadshotUrl\":\"https://www.formula1.com/content/dam/fom-website/drivers/E/ESTOCO01_Esteban_Ocon/estoco01.png.transform/1col/image.png\"},\"44\":{\"RacingNumber\":\"44\",\"BroadcastName\":\"L HAMILTON\",\"FullName\":\"Lewis HAMILTON\",\"Tla\":\"HAM\",\"Line\":7,\"TeamName\":\"Mercedes\",\"TeamColour\":\"6CD3BF\",\"FirstName\":\"Lewis\",\"LastName\":\"Hamilton\",\"Reference\":\"LEWHAM01\",\"CountryCode\":\"GBR\",\"HeadshotUrl\":\"https://www.formula1.com/content/dam/fom-website/drivers/L/LEWHAM01_Lewis_Hamilton/lewham01.png.transform/1col/image.png\"},\"81\":{\"RacingNumber\":\"81\",\"BroadcastName\":\"O PIASTRI\",\"FullName\":\"Oscar PIASTRI\",\"Tla\":\"PIA\",\"Line\":8,\"TeamName\":\"McLaren\",\"TeamColour\":\"F58020\",\"FirstName\":\"Oscar\",\"LastName\":\"Piastri\",\"Reference\":\"OSCPIA01\",\"CountryCode\":\"AUS\",\"HeadshotUrl\":\"https://www.formula1.com/content/dam/fom-website/drivers/O/OSCPIA01_Oscar_Piastri/oscpia01.png.transform/1col/image.png\"},\"10\":{\"RacingNumber\":\"10\",\"BroadcastName\":\"P GASLY\",\"FullName\":\"Pierre GASLY\",\"Tla\":\"GAS\",\"Line\":9,\"TeamName\":\"Alpine\",\"TeamColour\":\"2293D1\",\"FirstName\":\"Pierre\",\"LastName\":\"Gasly\",\"Reference\":\"PIEGAS01\",\"CountryCode\":\"FRA\",\"HeadshotUrl\":\"https://www.formula1.com/content/dam/fom-website/drivers/P/PIEGAS01_Pierre_Gasly/piegas01.png.transform/1col/image.png\"},\"27\":{\"RacingNumber\":\"27\",\"BroadcastName\":\"N HULKENBERG\",\"FullName\":\"Nico HULKENBERG\",\"Tla\":\"HUL\",\"Line\":10,\"TeamName\":\"Haas F1 Team\",\"TeamColour\":\"B6BABD\",\"FirstName\":\"Nico\",\"LastName\":\"Hulkenberg\",\"Reference\":\"NICHUL01\",\"CountryCode\":\"GER\",\"HeadshotUrl\":\"https://www.formula1.com/content/dam/fom-website/drivers/N/NICHUL01_Nico_Hulkenberg/nichul01.png.transform/1col/image.png\"},\"24\":{\"RacingNumber\":\"24\",\"BroadcastName\":\"G ZHOU\",\"FullName\":\"ZHOU Guanyu\",\"Tla\":\"ZHO\",\"Line\":11,\"TeamName\":\"Alfa Romeo\",\"TeamColour\":\"C92D4B\",\"FirstName\":\"Guanyu\",\"LastName\":\"Zhou\",\"Reference\":\"GUAZHO01\",\"NameFormat\":\"LastNameIsPrimary\",\"CountryCode\":\"CHN\",\"HeadshotUrl\":\"https://www.formula1.com/content/dam/fom-website/drivers/G/GUAZHO01_Guanyu_Zhou/guazho01.png.transform/1col/image.png\"},\"16\":{\"RacingNumber\":\"16\",\"BroadcastName\":\"C LECLERC\",\"FullName\":\"Charles LECLERC\",\"Tla\":\"LEC\",\"Line\":12,\"TeamName\":\"Ferrari\",\"TeamColour\":\"F91536\",\"FirstName\":\"Charles\",\"LastName\":\"Leclerc\",\"Reference\":\"CHALEC01\",\"CountryCode\":\"MON\",\"HeadshotUrl\":\"https://www.formula1.com/content/dam/fom-website/drivers/C/CHALEC01_Charles_Leclerc/chalec01.png.transform/1col/image.png\"},\"20\":{\"RacingNumber\":\"20\",\"BroadcastName\":\"K MAGNUSSEN\",\"FullName\":\"Kevin MAGNUSSEN\",\"Tla\":\"MAG\",\"Line\":13,\"TeamName\":\"Haas F1 Team\",\"TeamColour\":\"B6BABD\",\"FirstName\":\"Kevin\",\"LastName\":\"Magnussen\",\"Reference\":\"KEVMAG01\",\"CountryCode\":\"DEN\",\"HeadshotUrl\":\"https://www.formula1.com/content/dam/fom-website/drivers/K/KEVMAG01_Kevin_Magnussen/kevmag01.png.transform/1col/image.png\"},\"77\":{\"RacingNumber\":\"77\",\"BroadcastName\":\"V BOTTAS\",\"FullName\":\"Valtteri BOTTAS\",\"Tla\":\"BOT\",\"Line\":14,\"TeamName\":\"Alfa Romeo\",\"TeamColour\":\"C92D4B\",\"FirstName\":\"Valtteri\",\"LastName\":\"Bottas\",\"Reference\":\"VALBOT01\",\"CountryCode\":\"FIN\",\"HeadshotUrl\":\"https://www.formula1.com/content/dam/fom-website/drivers/V/VALBOT01_Valtteri_Bottas/valbot01.png.transform/1col/image.png\"},\"1\":{\"RacingNumber\":\"1\",\"BroadcastName\":\"M VERSTAPPEN\",\"FullName\":\"Max VERSTAPPEN\",\"Tla\":\"VER\",\"Line\":15,\"TeamName\":\"Red Bull Racing\",\"TeamColour\":\"3671C6\",\"FirstName\":\"Max\",\"LastName\":\"Verstappen\",\"Reference\":\"MAXVER01\",\"CountryCode\":\"NED\",\"HeadshotUrl\":\"https://www.formula1.com/content/dam/fom-website/drivers/M/MAXVER01_Max_Verstappen/maxver01.png.transform/1col/image.png\"},\"22\":{\"RacingNumber\":\"22\",\"BroadcastName\":\"Y TSUNODA\",\"FullName\":\"Yuki TSUNODA\",\"Tla\":\"TSU\",\"Line\":16,\"TeamName\":\"AlphaTauri\",\"TeamColour\":\"5E8FAA\",\"FirstName\":\"Yuki\",\"LastName\":\"Tsunoda\",\"Reference\":\"YUKTSU01\",\"CountryCode\":\"JPN\",\"HeadshotUrl\":\"https://www.formula1.com/content/dam/fom-website/drivers/Y/YUKTSU01_Yuki_Tsunoda/yuktsu01.png.transform/1col/image.png\"},\"23\":{\"RacingNumber\":\"23\",\"BroadcastName\":\"A ALBON\",\"FullName\":\"Alexander ALBON\",\"Tla\":\"ALB\",\"Line\":17,\"TeamName\":\"Williams\",\"TeamColour\":\"37BEDD\",\"FirstName\":\"Alexander\",\"LastName\":\"Albon\",\"Reference\":\"ALEALB01\",\"CountryCode\":\"THA\",\"HeadshotUrl\":\"https://www.formula1.com/content/dam/fom-website/drivers/A/ALEALB01_Alexander_Albon/alealb01.png.transform/1col/image.png\"},\"21\":{\"RacingNumber\":\"21\",\"BroadcastName\":\"N DE VRIES\",\"FullName\":\"Nyck DE VRIES\",\"Tla\":\"DEV\",\"Line\":18,\"TeamName\":\"AlphaTauri\",\"TeamColour\":\"5E8FAA\",\"FirstName\":\"Nyck\",\"LastName\":\"De Vries\",\"Reference\":\"NYCDEV01\",\"CountryCode\":\"NED\",\"HeadshotUrl\":\"https://www.formula1.com/content/dam/fom-website/drivers/N/NYCDEV01_Nyck_De%20Vries/nycdev01.png.transform/1col/image.png\"},\"4\":{\"RacingNumber\":\"4\",\"BroadcastName\":\"L NORRIS\",\"FullName\":\"Lando NORRIS\",\"Tla\":\"NOR\",\"Line\":19,\"TeamName\":\"McLaren\",\"TeamColour\":\"F58020\",\"FirstName\":\"Lando\",\"LastName\":\"Norris\",\"Reference\":\"LANNOR01\",\"CountryCode\":\"GBR\",\"HeadshotUrl\":\"https://www.formula1.com/content/dam/fom-website/drivers/L/LANNOR01_Lando_Norris/lannor01.png.transform/1col/image.png\"},\"2\":{\"RacingNumber\":\"2\",\"BroadcastName\":\"L SARGEANT\",\"FullName\":\"Logan SARGEANT\",\"Tla\":\"SAR\",\"Line\":20,\"TeamName\":\"Williams\",\"TeamColour\":\"37BEDD\",\"FirstName\":\"Logan\",\"LastName\":\"Sargeant\",\"Reference\":\"LOGSAR01\",\"CountryCode\":\"USA\",\"HeadshotUrl\":\"https://www.formula1.com/content/dam/fom-website/drivers/L/LOGSAR01_Logan_Sargeant/logsar01.png.transform/1col/image.png\"},\"_kf\":true},\"RaceControlMessages\":{\"Messages\":[{\"Utc\":\"2023-03-19T16:10:31\",\"Lap\":1,\"Category\":\"Other\",\"Message\":\"PINK HEAD PADDING MATERIAL MUST BE USED\"},{\"Utc\":\"2023-03-19T16:20:00\",\"Lap\":1,\"Category\":\"Flag\",\"Flag\":\"GREEN\",\"Scope\":\"Track\",\"Message\":\"GREEN LIGHT - PIT EXIT OPEN\"},{\"Utc\":\"2023-03-19T16:30:00\",\"Lap\":1,\"Category\":\"Other\",\"Message\":\"PIT EXIT CLOSED\"}],\"_kf\":true},\"SessionInfo\":{\"Meeting\":{\"Key\":1142,\"Name\":\"Saudi Arabian Grand Prix\",\"OfficialName\":\"FORMULA 1 STC SAUDI ARABIAN GRAND PRIX 2023\",\"Location\":\"Jeddah\",\"Country\":{\"Key\":153,\"Code\":\"KSA\",\"Name\":\"Saudi Arabia\"},\"Circuit\":{\"Key\":149,\"ShortName\":\"Jeddah\"}},\"ArchiveStatus\":{\"Status\":\"Generating\"},\"Key\":7779,\"Type\":\"Race\",\"Name\":\"Race\",\"StartDate\":\"2023-03-19T20:00:00\",\"EndDate\":\"2023-03-19T22:00:00\",\"GmtOffset\":\"03:00:00\",\"Path\":\"2023/2023-03-19_Saudi_Arabian_Grand_Prix/2023-03-19_Race/\",\"_kf\":true},\"SessionData\":{\"Series\":[{\"Utc\":\"2023-03-19T16:01:05.191Z\",\"Lap\":1}],\"StatusSeries\":[{\"Utc\":\"2023-03-19T16:00:41.957Z\",\"TrackStatus\":\"AllClear\"}],\"_kf\":true},\"LapCount\":{\"CurrentLap\":1,\"TotalLaps\":50,\"_kf\":true},\"TimingData\":{\"Lines\":{\"11\":{\"GapToLeader\":\"LAP 1\",\"IntervalToPositionAhead\":{\"Value\":\"LAP 1\",\"Catching\":false},\"Line\":1,\"Position\":\"1\",\"ShowPosition\":true,\"RacingNumber\":\"11\",\"Retired\":false,\"InPit\":false,\"PitOut\":false,\"Stopped\":false,\"Status\":64,\"Sectors\":[{\"Stopped\":false,\"Value\":\"\",\"Status\":0,\"OverallFastest\":false,\"PersonalFastest\":false,\"Segments\":[{\"Status\":2064},{\"Status\":2064},{\"Status\":2064},{\"Status\":2048},{\"Status\":2048},{\"Status\":2048},{\"Status\":2048},{\"Status\":2048},{\"Status\":2048}]},{\"Stopped\":false,\"Value\":\"\",\"Status\":0,\"OverallFastest\":false,\"PersonalFastest\":false,\"Segments\":[{\"Status\":2048},{\"Status\":2048},{\"Status\":2048},{\"Status\":2048},{\"Status\":2048},{\"Status\":2048},{\"Status\":2048}]},{\"Stopped\":false,\"Value\":\"\",\"Status\":0,\"OverallFastest\":false,\"PersonalFastest\":false,\"Segments\":[{\"Status\":2048},{\"Status\":2048},{\"Status\":2048},{\"Status\":2048},{\"Status\":2048},{\"Status\":2048},{\"Status\":2048},{\"Status\":2048},{\"Status\":2048}]}],\"Speeds\":{\"I1\":{\"Value\":\"\",\"Status\":0,\"OverallFastest\":false,\"PersonalFastest\":false},\"I2\":{\"Value\":\"\",\"Status\":0,\"OverallFastest\":false,\"PersonalFastest\":false},\"FL\":{\"Value\":\"\",\"Status\":0,\"OverallFastest\":false,\"PersonalFastest\":false},\"ST\":{\"Value\":\"\",\"Status\":0,\"OverallFastest\":false,\"PersonalFastest\":false}},\"BestLapTime\":{\"Value\":\"\"},\"LastLapTime\":{\"Value\":\"\",\"Status\":0,\"OverallFastest\":false,\"PersonalFastest\":false}},\"14\":{\"GapToLeader\":\"\",\"IntervalToPositionAhead\":{\"Value\":\"\",\"Catching\":false},\"Line\":2,\"Position\":\"2\",\"ShowPosition\":true,\"RacingNumber\":\"14\",\"Retired\":false,\"InPit\":false,\"PitOut\":false,\"Stopped\":false,\"Status\":64,\"Sectors\":[{\"Stopped\":false,\"Value\":\"\",\"Status\":0,\"OverallFastest\":false,\"PersonalFastest\":false,\"Segments\":[{\"Status\":2064},{\"Status\":2064},{\"Status\":2064},{\"Status\":2048},{\"Status\":2048},{\"Status\":2048},{\"Status\":2048},{\"Status\":2048},{\"Status\":2048}]},{\"Stopped\":false,\"Value\":\"\",\"Status\":0,\"OverallFastest\":false,\"PersonalFastest\":false,\"Segments\":[{\"Status\":2048},{\"Status\":2048},{\"Status\":2048},{\"Status\":2048},{\"Status\":2048},{\"Status\":2048},{\"Status\":2048}]},{\"Stopped\":false,\"Value\":\"\",\"Status\":0,\"OverallFastest\":false,\"PersonalFastest\":false,\"Segments\":[{\"Status\":2048},{\"Status\":2048},{\"Status\":2048},{\"Status\":2048},{\"Status\":2048},{\"Status\":2048},{\"Status\":2048},{\"Status\":2048},{\"Status\":2048}]}],\"Speeds\":{\"I1\":{\"Value\":\"\",\"Status\":0,\"OverallFastest\":false,\"PersonalFastest\":false},\"I2\":{\"Value\":\"\",\"Status\":0,\"OverallFastest\":false,\"PersonalFastest\":false},\"FL\":{\"Value\":\"\",\"Status\":0,\"OverallFastest\":false,\"PersonalFastest\":false},\"ST\":{\"Value\":\"\",\"Status\":0,\"OverallFastest\":false,\"PersonalFastest\":false}},\"BestLapTime\":{\"Value\":\"\"},\"LastLapTime\":{\"Value\":\"\",\"Status\":0,\"OverallFastest\":false,\"PersonalFastest\":false}},\"63\":{\"GapToLeader\":\"\",\"IntervalToPositionAhead\":{\"Value\":\"\",\"Catching\":false},\"Line\":3,\"Position\":\"3\",\"ShowPosition\":true,\"RacingNumber\":\"63\",\"Retired\":false,\"InPit\":false,\"PitOut\":false,\"Stopped\":false,\"Status\":64,\"Sectors\":[{\"Stopped\":false,\"Value\":\"\",\"Status\":0,\"OverallFastest\":false,\"PersonalFastest\":false,\"Segments\":[{\"Status\":2064},{\"Status\":2064},{\"Status\":2064},{\"Status\":2048},{\"Status\":2048},{\"Status\":2048},{\"Status\":2048},{\"Status\":2048},{\"Status\":2048}]},{\"Stopped\":false,\"Value\":\"\",\"Status\":0,\"OverallFastest\":false,\"PersonalFastest\":false,\"Segments\":[{\"Status\":2048},{\"Status\":2048},{\"Status\":2048},{\"Status\":2048},{\"Status\":2048},{\"Status\":2048},{\"Status\":2048}]},{\"Stopped\":false,\"Value\":\"\",\"Status\":0,\"OverallFastest\":false,\"PersonalFastest\":false,\"Segments\":[{\"Status\":2048},{\"Status\":2048},{\"Status\":2048},{\"Status\":2048},{\"Status\":2048},{\"Status\":2048},{\"Status\":2048},{\"Status\":2048},{\"Status\":0}]}],\"Speeds\":{\"I1\":{\"Value\":\"\",\"Status\":0,\"OverallFastest\":false,\"PersonalFastest\":false},\"I2\":{\"Value\":\"\",\"Status\":0,\"OverallFastest\":false,\"PersonalFastest\":false},\"FL\":{\"Value\":\"\",\"Status\":0,\"OverallFastest\":false,\"PersonalFastest\":false},\"ST\":{\"Value\":\"\",\"Status\":0,\"OverallFastest\":false,\"PersonalFastest\":false}},\"BestLapTime\":{\"Value\":\"\"},\"LastLapTime\":{\"Value\":\"\",\"Status\":0,\"OverallFastest\":false,\"PersonalFastest\":false}},\"55\":{\"GapToLeader\":\"\",\"IntervalToPositionAhead\":{\"Value\":\"\",\"Catching\":false},\"Line\":4,\"Position\":\"4\",\"ShowPosition\":true,\"RacingNumber\":\"55\",\"Retired\":false,\"InPit\":false,\"PitOut\":false,\"Stopped\":false,\"Status\":64,\"Sectors\":[{\"Stopped\":false,\"Value\":\"\",\"Status\":0,\"OverallFastest\":false,\"PersonalFastest\":false,\"Segments\":[{\"Status\":2064},{\"Status\":2064},{\"Status\":2064},{\"Status\":2048},{\"Status\":2048},{\"Status\":2048},{\"Status\":2048},{\"Status\":2048},{\"Status\":2048}]},{\"Stopped\":false,\"Value\":\"\",\"Status\":0,\"OverallFastest\":false,\"PersonalFastest\":false,\"Segments\":[{\"Status\":2048},{\"Status\":2048},{\"Status\":2048},{\"Status\":2048},{\"Status\":2048},{\"Status\":2048},{\"Status\":2048}]},{\"Stopped\":false,\"Value\":\"\",\"Status\":0,\"OverallFastest\":false,\"PersonalFastest\":false,\"Segments\":[{\"Status\":2048},{\"Status\":2048},{\"Status\":2048},{\"Status\":2048},{\"Status\":2048},{\"Status\":2048},{\"Status\":2048},{\"Status\":2048},{\"Status\":2048}]}],\"Speeds\":{\"I1\":{\"Value\":\"\",\"Status\":0,\"OverallFastest\":false,\"PersonalFastest\":false},\"I2\":{\"Value\":\"\",\"Status\":0,\"OverallFastest\":false,\"PersonalFastest\":false},\"FL\":{\"Value\":\"\",\"Status\":0,\"OverallFastest\":false,\"PersonalFastest\":false},\"ST\":{\"Value\":\"\",\"Status\":0,\"OverallFastest\":false,\"PersonalFastest\":false}},\"BestLapTime\":{\"Value\":\"\"},\"LastLapTime\":{\"Value\":\"\",\"Status\":0,\"OverallFastest\":false,\"PersonalFastest\":false}},\"18\":{\"GapToLeader\":\"\",\"IntervalToPositionAhead\":{\"Value\":\"\",\"Catching\":false},\"Line\":5,\"Position\":\"5\",\"ShowPosition\":true,\"RacingNumber\":\"18\",\"Retired\":false,\"InPit\":false,\"PitOut\":false,\"Stopped\":false,\"Status\":64,\"Sectors\":[{\"Stopped\":false,\"Value\":\"\",\"Status\":0,\"OverallFastest\":false,\"PersonalFastest\":false,\"Segments\":[{\"Status\":2064},{\"Status\":2064},{\"Status\":2064},{\"Status\":2048},{\"Status\":2048},{\"Status\":2048},{\"Status\":2048},{\"Status\":2048},{\"Status\":2048}]},{\"Stopped\":false,\"Value\":\"\",\"Status\":0,\"OverallFastest\":false,\"PersonalFastest\":false,\"Segments\":[{\"Status\":2048},{\"Status\":2048},{\"Status\":2048},{\"Status\":2048},{\"Status\":2048},{\"Status\":2048},{\"Status\":2048}]},{\"Stopped\":false,\"Value\":\"\",\"Status\":0,\"OverallFastest\":false,\"PersonalFastest\":false,\"Segments\":[{\"Status\":2048},{\"Status\":2048},{\"Status\":2048},{\"Status\":2048},{\"Status\":2048},{\"Status\":2048},{\"Status\":2048},{\"Status\":2048},{\"Status\":2048}]}],\"Speeds\":{\"I1\":{\"Value\":\"\",\"Status\":0,\"OverallFastest\":false,\"PersonalFastest\":false},\"I2\":{\"Value\":\"\",\"Status\":0,\"OverallFastest\":false,\"PersonalFastest\":false},\"FL\":{\"Value\":\"\",\"Status\":0,\"OverallFastest\":false,\"PersonalFastest\":false},\"ST\":{\"Value\":\"\",\"Status\":0,\"OverallFastest\":false,\"PersonalFastest\":false}},\"BestLapTime\":{\"Value\":\"\"},\"LastLapTime\":{\"Value\":\"\",\"Status\":0,\"OverallFastest\":false,\"PersonalFastest\":false}},\"31\":{\"GapToLeader\":\"\",\"IntervalToPositionAhead\":{\"Value\":\"\",\"Catching\":false},\"Line\":6,\"Position\":\"6\",\"ShowPosition\":true,\"RacingNumber\":\"31\",\"Retired\":false,\"InPit\":false,\"PitOut\":false,\"Stopped\":false,\"Status\":64,\"Sectors\":[{\"Stopped\":false,\"Value\":\"\",\"Status\":0,\"OverallFastest\":false,\"PersonalFastest\":false,\"Segments\":[{\"Status\":2064},{\"Status\":2064},{\"Status\":2064},{\"Status\":2048},{\"Status\":2048},{\"Status\":2048},{\"Status\":2048},{\"Status\":2048},{\"Status\":2048}]},{\"Stopped\":false,\"Value\":\"\",\"Status\":0,\"OverallFastest\":false,\"PersonalFastest\":false,\"Segments\":[{\"Status\":2048},{\"Status\":2048},{\"Status\":2048},{\"Status\":2048},{\"Status\":2048},{\"Status\":2048},{\"Status\":2048}]},{\"Stopped\":false,\"Value\":\"\",\"Status\":0,\"OverallFastest\":false,\"PersonalFastest\":false,\"Segments\":[{\"Status\":2048},{\"Status\":2048},{\"Status\":2048},{\"Status\":2048},{\"Status\":2048},{\"Status\":2048},{\"Status\":2048},{\"Status\":2048},{\"Status\":2048}]}],\"Speeds\":{\"I1\":{\"Value\":\"\",\"Status\":0,\"OverallFastest\":false,\"PersonalFastest\":false},\"I2\":{\"Value\":\"\",\"Status\":0,\"OverallFastest\":false,\"PersonalFastest\":false},\"FL\":{\"Value\":\"\",\"Status\":0,\"OverallFastest\":false,\"PersonalFastest\":false},\"ST\":{\"Value\":\"\",\"Status\":0,\"OverallFastest\":false,\"PersonalFastest\":false}},\"BestLapTime\":{\"Value\":\"\"},\"LastLapTime\":{\"Value\":\"\",\"Status\":0,\"OverallFastest\":false,\"PersonalFastest\":false}},\"44\":{\"GapToLeader\":\"\",\"IntervalToPositionAhead\":{\"Value\":\"\",\"Catching\":false},\"Line\":7,\"Position\":\"7\",\"ShowPosition\":true,\"RacingNumber\":\"44\",\"Retired\":false,\"InPit\":false,\"PitOut\":false,\"Stopped\":false,\"Status\":64,\"Sectors\":[{\"Stopped\":false,\"Value\":\"\",\"Status\":0,\"OverallFastest\":false,\"PersonalFastest\":false,\"Segments\":[{\"Status\":2064},{\"Status\":2064},{\"Status\":2064},{\"Status\":2048},{\"Status\":2048},{\"Status\":2048},{\"Status\":2048},{\"Status\":2048},{\"Status\":2048}]},{\"Stopped\":false,\"Value\":\"\",\"Status\":0,\"OverallFastest\":false,\"PersonalFastest\":false,\"Segments\":[{\"Status\":2048},{\"Status\":2048},{\"Status\":2048},{\"Status\":2048},{\"Status\":2048},{\"Status\":2048},{\"Status\":2048}]},{\"Stopped\":false,\"Value\":\"\",\"Status\":0,\"OverallFastest\":false,\"PersonalFastest\":false,\"Segments\":[{\"Status\":2048},{\"Status\":2048},{\"Status\":2048},{\"Status\":2048},{\"Status\":2048},{\"Status\":2048},{\"Status\":2048},{\"Status\":2048},{\"Status\":2048}]}],\"Speeds\":{\"I1\":{\"Value\":\"\",\"Status\":0,\"OverallFastest\":false,\"PersonalFastest\":false},\"I2\":{\"Value\":\"\",\"Status\":0,\"OverallFastest\":false,\"PersonalFastest\":false},\"FL\":{\"Value\":\"\",\"Status\":0,\"OverallFastest\":false,\"PersonalFastest\":false},\"ST\":{\"Value\":\"\",\"Status\":0,\"OverallFastest\":false,\"PersonalFastest\":false}},\"BestLapTime\":{\"Value\":\"\"},\"LastLapTime\":{\"Value\":\"\",\"Status\":0,\"OverallFastest\":false,\"PersonalFastest\":false}},\"81\":{\"GapToLeader\":\"\",\"IntervalToPositionAhead\":{\"Value\":\"\",\"Catching\":false},\"Line\":8,\"Position\":\"8\",\"ShowPosition\":true,\"RacingNumber\":\"81\",\"Retired\":false,\"InPit\":false,\"PitOut\":false,\"Stopped\":false,\"Status\":64,\"Sectors\":[{\"Stopped\":false,\"Value\":\"\",\"Status\":0,\"OverallFastest\":false,\"PersonalFastest\":false,\"Segments\":[{\"Status\":2064},{\"Status\":2064},{\"Status\":2064},{\"Status\":2048},{\"Status\":2048},{\"Status\":2048},{\"Status\":2048},{\"Status\":2048},{\"Status\":2048}]},{\"Stopped\":false,\"Value\":\"\",\"Status\":0,\"OverallFastest\":false,\"PersonalFastest\":false,\"Segments\":[{\"Status\":2048},{\"Status\":2048},{\"Status\":2048},{\"Status\":2048},{\"Status\":2048},{\"Status\":2048},{\"Status\":2048}]},{\"Stopped\":false,\"Value\":\"\",\"Status\":0,\"OverallFastest\":false,\"PersonalFastest\":false,\"Segments\":[{\"Status\":2048},{\"Status\":2048},{\"Status\":2048},{\"Status\":2048},{\"Status\":2048},{\"Status\":2048},{\"Status\":2048},{\"Status\":2048},{\"Status\":2048}]}],\"Speeds\":{\"I1\":{\"Value\":\"\",\"Status\":0,\"OverallFastest\":false,\"PersonalFastest\":false},\"I2\":{\"Value\":\"\",\"Status\":0,\"OverallFastest\":false,\"PersonalFastest\":false},\"FL\":{\"Value\":\"\",\"Status\":0,\"OverallFastest\":false,\"PersonalFastest\":false},\"ST\":{\"Value\":\"\",\"Status\":0,\"OverallFastest\":false,\"PersonalFastest\":false}},\"BestLapTime\":{\"Value\":\"\"},\"LastLapTime\":{\"Value\":\"\",\"Status\":0,\"OverallFastest\":false,\"PersonalFastest\":false}},\"10\":{\"GapToLeader\":\"\",\"IntervalToPositionAhead\":{\"Value\":\"\",\"Catching\":false},\"Line\":9,\"Position\":\"9\",\"ShowPosition\":true,\"RacingNumber\":\"10\",\"Retired\":false,\"InPit\":false,\"PitOut\":false,\"Stopped\":false,\"Status\":64,\"Sectors\":[{\"Stopped\":false,\"Value\":\"\",\"Status\":0,\"OverallFastest\":false,\"PersonalFastest\":false,\"Segments\":[{\"Status\":2064},{\"Status\":2064},{\"Status\":2064},{\"Status\":2048},{\"Status\":2048},{\"Status\":2048},{\"Status\":2048},{\"Status\":2048},{\"Status\":2048}]},{\"Stopped\":false,\"Value\":\"\",\"Status\":0,\"OverallFastest\":false,\"PersonalFastest\":false,\"Segments\":[{\"Status\":2048},{\"Status\":2048},{\"Status\":2048},{\"Status\":2048},{\"Status\":2048},{\"Status\":2048},{\"Status\":2048}]},{\"Stopped\":false,\"Value\":\"\",\"Status\":0,\"OverallFastest\":false,\"PersonalFastest\":false,\"Segments\":[{\"Status\":2048},{\"Status\":2048},{\"Status\":2048},{\"Status\":2048},{\"Status\":2048},{\"Status\":2048},{\"Status\":2048},{\"Status\":2048},{\"Status\":2048}]}],\"Speeds\":{\"I1\":{\"Value\":\"\",\"Status\":0,\"OverallFastest\":false,\"PersonalFastest\":false},\"I2\":{\"Value\":\"\",\"Status\":0,\"OverallFastest\":false,\"PersonalFastest\":false},\"FL\":{\"Value\":\"\",\"Status\":0,\"OverallFastest\":false,\"PersonalFastest\":false},\"ST\":{\"Value\":\"\",\"Status\":0,\"OverallFastest\":false,\"PersonalFastest\":false}},\"BestLapTime\":{\"Value\":\"\"},\"LastLapTime\":{\"Value\":\"\",\"Status\":0,\"OverallFastest\":false,\"PersonalFastest\":false}},\"27\":{\"GapToLeader\":\"\",\"IntervalToPositionAhead\":{\"Value\":\"\",\"Catching\":false},\"Line\":10,\"Position\":\"10\",\"ShowPosition\":true,\"RacingNumber\":\"27\",\"Retired\":false,\"InPit\":false,\"PitOut\":false,\"Stopped\":false,\"Status\":64,\"Sectors\":[{\"Stopped\":false,\"Value\":\"\",\"Status\":0,\"OverallFastest\":false,\"PersonalFastest\":false,\"Segments\":[{\"Status\":2064},{\"Status\":2064},{\"Status\":2064},{\"Status\":2048},{\"Status\":2048},{\"Status\":2048},{\"Status\":2048},{\"Status\":2048},{\"Status\":2048}]},{\"Stopped\":false,\"Value\":\"\",\"Status\":0,\"OverallFastest\":false,\"PersonalFastest\":false,\"Segments\":[{\"Status\":2048},{\"Status\":2048},{\"Status\":2048},{\"Status\":2048},{\"Status\":2048},{\"Status\":2048},{\"Status\":2048}]},{\"Stopped\":false,\"Value\":\"\",\"Status\":0,\"OverallFastest\":false,\"PersonalFastest\":false,\"Segments\":[{\"Status\":2048},{\"Status\":2048},{\"Status\":2048},{\"Status\":2048},{\"Status\":2048},{\"Status\":2048},{\"Status\":2048},{\"Status\":2048},{\"Status\":2048}]}],\"Speeds\":{\"I1\":{\"Value\":\"\",\"Status\":0,\"OverallFastest\":false,\"PersonalFastest\":false},\"I2\":{\"Value\":\"\",\"Status\":0,\"OverallFastest\":false,\"PersonalFastest\":false},\"FL\":{\"Value\":\"\",\"Status\":0,\"OverallFastest\":false,\"PersonalFastest\":false},\"ST\":{\"Value\":\"\",\"Status\":0,\"OverallFastest\":false,\"PersonalFastest\":false}},\"BestLapTime\":{\"Value\":\"\"},\"LastLapTime\":{\"Value\":\"\",\"Status\":0,\"OverallFastest\":false,\"PersonalFastest\":false}},\"24\":{\"GapToLeader\":\"\",\"IntervalToPositionAhead\":{\"Value\":\"\",\"Catching\":false},\"Line\":11,\"Position\":\"11\",\"ShowPosition\":true,\"RacingNumber\":\"24\",\"Retired\":false,\"InPit\":false,\"PitOut\":false,\"Stopped\":false,\"Status\":64,\"Sectors\":[{\"Stopped\":false,\"Value\":\"\",\"Status\":0,\"OverallFastest\":false,\"PersonalFastest\":false,\"Segments\":[{\"Status\":2064},{\"Status\":2064},{\"Status\":2064},{\"Status\":2048},{\"Status\":2048},{\"Status\":2048},{\"Status\":2048},{\"Status\":2048},{\"Status\":2048}]},{\"Stopped\":false,\"Value\":\"\",\"Status\":0,\"OverallFastest\":false,\"PersonalFastest\":false,\"Segments\":[{\"Status\":2048},{\"Status\":2048},{\"Status\":2048},{\"Status\":2048},{\"Status\":2048},{\"Status\":2048},{\"Status\":2048}]},{\"Stopped\":false,\"Value\":\"\",\"Status\":0,\"OverallFastest\":false,\"PersonalFastest\":false,\"Segments\":[{\"Status\":2048},{\"Status\":2048},{\"Status\":2048},{\"Status\":2048},{\"Status\":2048},{\"Status\":2048},{\"Status\":2048},{\"Status\":2048},{\"Status\":2048}]}],\"Speeds\":{\"I1\":{\"Value\":\"\",\"Status\":0,\"OverallFastest\":false,\"PersonalFastest\":false},\"I2\":{\"Value\":\"\",\"Status\":0,\"OverallFastest\":false,\"PersonalFastest\":false},\"FL\":{\"Value\":\"\",\"Status\":0,\"OverallFastest\":false,\"PersonalFastest\":false},\"ST\":{\"Value\":\"\",\"Status\":0,\"OverallFastest\":false,\"PersonalFastest\":false}},\"BestLapTime\":{\"Value\":\"\"},\"LastLapTime\":{\"Value\":\"\",\"Status\":0,\"OverallFastest\":false,\"PersonalFastest\":false}},\"16\":{\"GapToLeader\":\"\",\"IntervalToPositionAhead\":{\"Value\":\"\",\"Catching\":false},\"Line\":12,\"Position\":\"12\",\"ShowPosition\":true,\"RacingNumber\":\"16\",\"Retired\":false,\"InPit\":false,\"PitOut\":false,\"Stopped\":false,\"Status\":64,\"Sectors\":[{\"Stopped\":false,\"Value\":\"\",\"Status\":0,\"OverallFastest\":false,\"PersonalFastest\":false,\"Segments\":[{\"Status\":2064},{\"Status\":2064},{\"Status\":2064},{\"Status\":2048},{\"Status\":2048},{\"Status\":2048},{\"Status\":2048},{\"Status\":2048},{\"Status\":2048}]},{\"Stopped\":false,\"Value\":\"\",\"Status\":0,\"OverallFastest\":false,\"PersonalFastest\":false,\"Segments\":[{\"Status\":2048},{\"Status\":2048},{\"Status\":2048},{\"Status\":2048},{\"Status\":2048},{\"Status\":2048},{\"Status\":2048}]},{\"Stopped\":false,\"Value\":\"\",\"Status\":0,\"OverallFastest\":false,\"PersonalFastest\":false,\"Segments\":[{\"Status\":2048},{\"Status\":2048},{\"Status\":2048},{\"Status\":2048},{\"Status\":2048},{\"Status\":2048},{\"Status\":2048},{\"Status\":2048},{\"Status\":2048}]}],\"Speeds\":{\"I1\":{\"Value\":\"\",\"Status\":0,\"OverallFastest\":false,\"PersonalFastest\":false},\"I2\":{\"Value\":\"\",\"Status\":0,\"OverallFastest\":false,\"PersonalFastest\":false},\"FL\":{\"Value\":\"\",\"Status\":0,\"OverallFastest\":false,\"PersonalFastest\":false},\"ST\":{\"Value\":\"\",\"Status\":0,\"OverallFastest\":false,\"PersonalFastest\":false}},\"BestLapTime\":{\"Value\":\"\"},\"LastLapTime\":{\"Value\":\"\",\"Status\":0,\"OverallFastest\":false,\"PersonalFastest\":false}},\"20\":{\"GapToLeader\":\"\",\"IntervalToPositionAhead\":{\"Value\":\"\",\"Catching\":false},\"Line\":13,\"Position\":\"13\",\"ShowPosition\":true,\"RacingNumber\":\"20\",\"Retired\":false,\"InPit\":false,\"PitOut\":false,\"Stopped\":false,\"Status\":64,\"Sectors\":[{\"Stopped\":false,\"Value\":\"\",\"Status\":0,\"OverallFastest\":false,\"PersonalFastest\":false,\"Segments\":[{\"Status\":2064},{\"Status\":2064},{\"Status\":2064},{\"Status\":2048},{\"Status\":2048},{\"Status\":2048},{\"Status\":2048},{\"Status\":2048},{\"Status\":2048}]},{\"Stopped\":false,\"Value\":\"\",\"Status\":0,\"OverallFastest\":false,\"PersonalFastest\":false,\"Segments\":[{\"Status\":2048},{\"Status\":2048},{\"Status\":2048},{\"Status\":2048},{\"Status\":2048},{\"Status\":2048},{\"Status\":2048}]},{\"Stopped\":false,\"Value\":\"\",\"Status\":0,\"OverallFastest\":false,\"PersonalFastest\":false,\"Segments\":[{\"Status\":2048},{\"Status\":2048},{\"Status\":2048},{\"Status\":2048},{\"Status\":2048},{\"Status\":2048},{\"Status\":2048},{\"Status\":2048},{\"Status\":2048}]}],\"Speeds\":{\"I1\":{\"Value\":\"\",\"Status\":0,\"OverallFastest\":false,\"PersonalFastest\":false},\"I2\":{\"Value\":\"\",\"Status\":0,\"OverallFastest\":false,\"PersonalFastest\":false},\"FL\":{\"Value\":\"\",\"Status\":0,\"OverallFastest\":false,\"PersonalFastest\":false},\"ST\":{\"Value\":\"\",\"Status\":0,\"OverallFastest\":false,\"PersonalFastest\":false}},\"BestLapTime\":{\"Value\":\"\"},\"LastLapTime\":{\"Value\":\"\",\"Status\":0,\"OverallFastest\":false,\"PersonalFastest\":false}},\"77\":{\"GapToLeader\":\"\",\"IntervalToPositionAhead\":{\"Value\":\"\",\"Catching\":false},\"Line\":14,\"Position\":\"14\",\"ShowPosition\":true,\"RacingNumber\":\"77\",\"Retired\":false,\"InPit\":false,\"PitOut\":false,\"Stopped\":false,\"Status\":64,\"Sectors\":[{\"Stopped\":false,\"Value\":\"\",\"Status\":0,\"OverallFastest\":false,\"PersonalFastest\":false,\"Segments\":[{\"Status\":2064},{\"Status\":2064},{\"Status\":2064},{\"Status\":2048},{\"Status\":2048},{\"Status\":2048},{\"Status\":2048},{\"Status\":2048},{\"Status\":2048}]},{\"Stopped\":false,\"Value\":\"\",\"Status\":0,\"OverallFastest\":false,\"PersonalFastest\":false,\"Segments\":[{\"Status\":2048},{\"Status\":2048},{\"Status\":2048},{\"Status\":2048},{\"Status\":2048},{\"Status\":2048},{\"Status\":2048}]},{\"Stopped\":false,\"Value\":\"\",\"Status\":0,\"OverallFastest\":false,\"PersonalFastest\":false,\"Segments\":[{\"Status\":2048},{\"Status\":2048},{\"Status\":2048},{\"Status\":2048},{\"Status\":2048},{\"Status\":2048},{\"Status\":2048},{\"Status\":2048},{\"Status\":2048}]}],\"Speeds\":{\"I1\":{\"Value\":\"\",\"Status\":0,\"OverallFastest\":false,\"PersonalFastest\":false},\"I2\":{\"Value\":\"\",\"Status\":0,\"OverallFastest\":false,\"PersonalFastest\":false},\"FL\":{\"Value\":\"\",\"Status\":0,\"OverallFastest\":false,\"PersonalFastest\":false},\"ST\":{\"Value\":\"\",\"Status\":0,\"OverallFastest\":false,\"PersonalFastest\":false}},\"BestLapTime\":{\"Value\":\"\"},\"LastLapTime\":{\"Value\":\"\",\"Status\":0,\"OverallFastest\":false,\"PersonalFastest\":false}},\"1\":{\"GapToLeader\":\"\",\"IntervalToPositionAhead\":{\"Value\":\"\",\"Catching\":false},\"Line\":15,\"Position\":\"15\",\"ShowPosition\":true,\"RacingNumber\":\"1\",\"Retired\":false,\"InPit\":false,\"PitOut\":false,\"Stopped\":false,\"Status\":64,\"Sectors\":[{\"Stopped\":false,\"Value\":\"\",\"Status\":0,\"OverallFastest\":false,\"PersonalFastest\":false,\"Segments\":[{\"Status\":2064},{\"Status\":2064},{\"Status\":2064},{\"Status\":2048},{\"Status\":2048},{\"Status\":2048},{\"Status\":2048},{\"Status\":2048},{\"Status\":2048}]},{\"Stopped\":false,\"Value\":\"\",\"Status\":0,\"OverallFastest\":false,\"PersonalFastest\":false,\"Segments\":[{\"Status\":2048},{\"Status\":2048},{\"Status\":2048},{\"Status\":2048},{\"Status\":2048},{\"Status\":2048},{\"Status\":2048}]},{\"Stopped\":false,\"Value\":\"\",\"Status\":0,\"OverallFastest\":false,\"PersonalFastest\":false,\"Segments\":[{\"Status\":2048},{\"Status\":2048},{\"Status\":2048},{\"Status\":2048},{\"Status\":2048},{\"Status\":2048},{\"Status\":2048},{\"Status\":2048},{\"Status\":2048}]}],\"Speeds\":{\"I1\":{\"Value\":\"\",\"Status\":0,\"OverallFastest\":false,\"PersonalFastest\":false},\"I2\":{\"Value\":\"\",\"Status\":0,\"OverallFastest\":false,\"PersonalFastest\":false},\"FL\":{\"Value\":\"\",\"Status\":0,\"OverallFastest\":false,\"PersonalFastest\":false},\"ST\":{\"Value\":\"\",\"Status\":0,\"OverallFastest\":false,\"PersonalFastest\":false}},\"BestLapTime\":{\"Value\":\"\"},\"LastLapTime\":{\"Value\":\"\",\"Status\":0,\"OverallFastest\":false,\"PersonalFastest\":false}},\"22\":{\"GapToLeader\":\"\",\"IntervalToPositionAhead\":{\"Value\":\"\",\"Catching\":false},\"Line\":16,\"Position\":\"16\",\"ShowPosition\":true,\"RacingNumber\":\"22\",\"Retired\":false,\"InPit\":false,\"PitOut\":false,\"Stopped\":false,\"Status\":64,\"Sectors\":[{\"Stopped\":false,\"Value\":\"\",\"Status\":0,\"OverallFastest\":false,\"PersonalFastest\":false,\"Segments\":[{\"Status\":2064},{\"Status\":2064},{\"Status\":2064},{\"Status\":2048},{\"Status\":2048},{\"Status\":2048},{\"Status\":2048},{\"Status\":2048},{\"Status\":2048}]},{\"Stopped\":false,\"Value\":\"\",\"Status\":0,\"OverallFastest\":false,\"PersonalFastest\":false,\"Segments\":[{\"Status\":2048},{\"Status\":2048},{\"Status\":2048},{\"Status\":2048},{\"Status\":2048},{\"Status\":2048},{\"Status\":2048}]},{\"Stopped\":false,\"Value\":\"\",\"Status\":0,\"OverallFastest\":false,\"PersonalFastest\":false,\"Segments\":[{\"Status\":2048},{\"Status\":2048},{\"Status\":2048},{\"Status\":2048},{\"Status\":2048},{\"Status\":2048},{\"Status\":2048},{\"Status\":2048},{\"Status\":2048}]}],\"Speeds\":{\"I1\":{\"Value\":\"\",\"Status\":0,\"OverallFastest\":false,\"PersonalFastest\":false},\"I2\":{\"Value\":\"\",\"Status\":0,\"OverallFastest\":false,\"PersonalFastest\":false},\"FL\":{\"Value\":\"\",\"Status\":0,\"OverallFastest\":false,\"PersonalFastest\":false},\"ST\":{\"Value\":\"\",\"Status\":0,\"OverallFastest\":false,\"PersonalFastest\":false}},\"BestLapTime\":{\"Value\":\"\"},\"LastLapTime\":{\"Value\":\"\",\"Status\":0,\"OverallFastest\":false,\"PersonalFastest\":false}},\"23\":{\"GapToLeader\":\"\",\"IntervalToPositionAhead\":{\"Value\":\"\",\"Catching\":false},\"Line\":17,\"Position\":\"17\",\"ShowPosition\":true,\"RacingNumber\":\"23\",\"Retired\":false,\"InPit\":false,\"PitOut\":false,\"Stopped\":false,\"Status\":64,\"Sectors\":[{\"Stopped\":false,\"Value\":\"\",\"Status\":0,\"OverallFastest\":false,\"PersonalFastest\":false,\"Segments\":[{\"Status\":2064},{\"Status\":2064},{\"Status\":2064},{\"Status\":2048},{\"Status\":2048},{\"Status\":2048},{\"Status\":2048},{\"Status\":2048},{\"Status\":2048}]},{\"Stopped\":false,\"Value\":\"\",\"Status\":0,\"OverallFastest\":false,\"PersonalFastest\":false,\"Segments\":[{\"Status\":2048},{\"Status\":2048},{\"Status\":2048},{\"Status\":2048},{\"Status\":2048},{\"Status\":2048},{\"Status\":2048}]},{\"Stopped\":false,\"Value\":\"\",\"Status\":0,\"OverallFastest\":false,\"PersonalFastest\":false,\"Segments\":[{\"Status\":2048},{\"Status\":2048},{\"Status\":2048},{\"Status\":2048},{\"Status\":2048},{\"Status\":2048},{\"Status\":2048},{\"Status\":2048},{\"Status\":2048}]}],\"Speeds\":{\"I1\":{\"Value\":\"\",\"Status\":0,\"OverallFastest\":false,\"PersonalFastest\":false},\"I2\":{\"Value\":\"\",\"Status\":0,\"OverallFastest\":false,\"PersonalFastest\":false},\"FL\":{\"Value\":\"\",\"Status\":0,\"OverallFastest\":false,\"PersonalFastest\":false},\"ST\":{\"Value\":\"\",\"Status\":0,\"OverallFastest\":false,\"PersonalFastest\":false}},\"BestLapTime\":{\"Value\":\"\"},\"LastLapTime\":{\"Value\":\"\",\"Status\":0,\"OverallFastest\":false,\"PersonalFastest\":false}},\"21\":{\"GapToLeader\":\"\",\"IntervalToPositionAhead\":{\"Value\":\"\",\"Catching\":false},\"Line\":18,\"Position\":\"18\",\"ShowPosition\":true,\"RacingNumber\":\"21\",\"Retired\":false,\"InPit\":false,\"PitOut\":false,\"Stopped\":false,\"Status\":64,\"Sectors\":[{\"Stopped\":false,\"Value\":\"\",\"Status\":0,\"OverallFastest\":false,\"PersonalFastest\":false,\"Segments\":[{\"Status\":2064},{\"Status\":2064},{\"Status\":2064},{\"Status\":2048},{\"Status\":2048},{\"Status\":2048},{\"Status\":2048},{\"Status\":2048},{\"Status\":2048}]},{\"Stopped\":false,\"Value\":\"\",\"Status\":0,\"OverallFastest\":false,\"PersonalFastest\":false,\"Segments\":[{\"Status\":2048},{\"Status\":2048},{\"Status\":2048},{\"Status\":2048},{\"Status\":2048},{\"Status\":2048},{\"Status\":2048}]},{\"Stopped\":false,\"Value\":\"\",\"Status\":0,\"OverallFastest\":false,\"PersonalFastest\":false,\"Segments\":[{\"Status\":2048},{\"Status\":2048},{\"Status\":2048},{\"Status\":2048},{\"Status\":2048},{\"Status\":2048},{\"Status\":2048},{\"Status\":2048},{\"Status\":2048}]}],\"Speeds\":{\"I1\":{\"Value\":\"\",\"Status\":0,\"OverallFastest\":false,\"PersonalFastest\":false},\"I2\":{\"Value\":\"\",\"Status\":0,\"OverallFastest\":false,\"PersonalFastest\":false},\"FL\":{\"Value\":\"\",\"Status\":0,\"OverallFastest\":false,\"PersonalFastest\":false},\"ST\":{\"Value\":\"\",\"Status\":0,\"OverallFastest\":false,\"PersonalFastest\":false}},\"BestLapTime\":{\"Value\":\"\"},\"LastLapTime\":{\"Value\":\"\",\"Status\":0,\"OverallFastest\":false,\"PersonalFastest\":false}},\"4\":{\"GapToLeader\":\"\",\"IntervalToPositionAhead\":{\"Value\":\"\",\"Catching\":false},\"Line\":19,\"Position\":\"19\",\"ShowPosition\":true,\"RacingNumber\":\"4\",\"Retired\":false,\"InPit\":false,\"PitOut\":false,\"Stopped\":false,\"Status\":64,\"Sectors\":[{\"Stopped\":false,\"Value\":\"\",\"Status\":0,\"OverallFastest\":false,\"PersonalFastest\":false,\"Segments\":[{\"Status\":2064},{\"Status\":2064},{\"Status\":2064},{\"Status\":2048},{\"Status\":2048},{\"Status\":2048},{\"Status\":2048},{\"Status\":2048},{\"Status\":2048}]},{\"Stopped\":false,\"Value\":\"\",\"Status\":0,\"OverallFastest\":false,\"PersonalFastest\":false,\"Segments\":[{\"Status\":2048},{\"Status\":2048},{\"Status\":2048},{\"Status\":2048},{\"Status\":2048},{\"Status\":2048},{\"Status\":2048}]},{\"Stopped\":false,\"Value\":\"\",\"Status\":0,\"OverallFastest\":false,\"PersonalFastest\":false,\"Segments\":[{\"Status\":2048},{\"Status\":2048},{\"Status\":2048},{\"Status\":2048},{\"Status\":2048},{\"Status\":2048},{\"Status\":2048},{\"Status\":2048},{\"Status\":2048}]}],\"Speeds\":{\"I1\":{\"Value\":\"\",\"Status\":0,\"OverallFastest\":false,\"PersonalFastest\":false},\"I2\":{\"Value\":\"\",\"Status\":0,\"OverallFastest\":false,\"PersonalFastest\":false},\"FL\":{\"Value\":\"\",\"Status\":0,\"OverallFastest\":false,\"PersonalFastest\":false},\"ST\":{\"Value\":\"\",\"Status\":0,\"OverallFastest\":false,\"PersonalFastest\":false}},\"BestLapTime\":{\"Value\":\"\"},\"LastLapTime\":{\"Value\":\"\",\"Status\":0,\"OverallFastest\":false,\"PersonalFastest\":false}},\"2\":{\"GapToLeader\":\"\",\"IntervalToPositionAhead\":{\"Value\":\"\",\"Catching\":false},\"Line\":20,\"Position\":\"20\",\"ShowPosition\":true,\"RacingNumber\":\"2\",\"Retired\":false,\"InPit\":false,\"PitOut\":false,\"Stopped\":false,\"Status\":64,\"Sectors\":[{\"Stopped\":false,\"Value\":\"\",\"Status\":0,\"OverallFastest\":false,\"PersonalFastest\":false,\"Segments\":[{\"Status\":2064},{\"Status\":2064},{\"Status\":2064},{\"Status\":2048},{\"Status\":2048},{\"Status\":2048},{\"Status\":2048},{\"Status\":2048},{\"Status\":2048}]},{\"Stopped\":false,\"Value\":\"\",\"Status\":0,\"OverallFastest\":false,\"PersonalFastest\":false,\"Segments\":[{\"Status\":2048},{\"Status\":2048},{\"Status\":2048},{\"Status\":2048},{\"Status\":2048},{\"Status\":2048},{\"Status\":2048}]},{\"Stopped\":false,\"Value\":\"\",\"Status\":0,\"OverallFastest\":false,\"PersonalFastest\":false,\"Segments\":[{\"Status\":2048},{\"Status\":2048},{\"Status\":2048},{\"Status\":2048},{\"Status\":2048},{\"Status\":2048},{\"Status\":2048},{\"Status\":2048},{\"Status\":0}]}],\"Speeds\":{\"I1\":{\"Value\":\"\",\"Status\":0,\"OverallFastest\":false,\"PersonalFastest\":false},\"I2\":{\"Value\":\"\",\"Status\":0,\"OverallFastest\":false,\"PersonalFastest\":false},\"FL\":{\"Value\":\"\",\"Status\":0,\"OverallFastest\":false,\"PersonalFastest\":false},\"ST\":{\"Value\":\"\",\"Status\":0,\"OverallFastest\":false,\"PersonalFastest\":false}},\"BestLapTime\":{\"Value\":\"\"},\"LastLapTime\":{\"Value\":\"\",\"Status\":0,\"OverallFastest\":false,\"PersonalFastest\":false}}},\"Withheld\":false,\"_kf\":true}},\"I\":\"0\"}', extra='')\n",
      "DEBUG:signalr_async.client:Raw message received: WSMessage(type=<WSMsgType.TEXT: 1>, data='{\"C\":\"d-F23263D5-B,0|Df,0|Dg,11|d,94|p,89B|o,89A|a,1|Y,D|Dh,0|n,1|W,2|c,25|i,1|X,C|k,3|l,1|r,2|Z,1|s,59F\",\"M\":[{\"H\":\"Streaming\",\"M\":\"feed\",\"A\":[\"CarData.z\",\"7ZQxC8IwEIX/y82t5JJckmYt/gNdFIciBQXpoN1K/7ttugu+RYdbLiHcg7v3wjfRfhif9/5F+TzRcbxSJmusq42ruTlwyC5llh2bJnCSE1XUds+leyJeS3vrhqF/lAdD2VRkS3Wl+lJlu6/HPJcGSOdBHZvvhVyE6IYMjxrQURMaBmqOheNH87cOFQJxbDtGUOhQczz6c0TAUQPqakTNSZg5i/QToLxtJDIroBRQCigF1P8BSlIjPnoFlAJKAaWA+gmgLvMb\",\"2023-03-19T16:38:15.5895474Z\"]},{\"H\":\"Streaming\",\"M\":\"feed\",\"A\":[\"Position.z\",\"7Za7asNAEEX/ZWrJ7Mzs7Kt3nUBcJA4pTHAhguVgK5XRv0cPY9bBmRDX2wgJdJi7d1cHneBxf2y6Zt9Cej3Bqtltj91m9wkJyBDXhmuMK3SJQ0K7CFEQaQ0VLNvu0GyPkE6A4+Wp23RfwyM8tKvD5v1jeOUZUo0cXQUvkMTYCtaQEENfAWkIRj8hteSI1RAKMiFkMEPQaIxlnJPFkDN3rAbVbJbDxDj0OePUOWaeQ3KVLaiMneewzzsgtQNiPq8nR/QKcEbI58shdUd53MkxWryaw2o0Os+5QtSmf2nAq2MkTsxwkzGsVnD75Fg9280dFVGzuZlBm5829//avFoBj++OyHi4L0xQKyA7My5ekL6v/hKILFDEeJJikGKQYpBikDsMwjh8OqH8gxSDFIMUg9xjEPFiTPDFIMUgxSDFID8N8tZ/Aw==\",\"2023-03-19T16:38:15.5750087Z\"]}]}', extra='')\n"
     ]
    },
    {
     "name": "stdout",
     "output_type": "stream",
     "text": [
      "HubResult(invocation_id='0', result={'Heartbeat': {'Utc': '2023-03-19T16:38:05.6876071Z', '_kf': True}, 'CarData.z': '7ZS9DsIwDITfxXOp4vyarBVvAAuIoUKVQEIdoFvVd6dNZwZuoYMXJ4p8kn0XfSMd+uH16N6ULyOdhhtlssa6nXE73h85ZieZXS1WxMj+TBU17WvuHomX0tzbvu+e5cFQNhXZUl2pvtSw3pdjmkoDpPOgjs3vQi5CdEOGR43oqIKGgZpj4fjR/K1DhUAc644JFDrUHI/+nBDAUSPqakLNEcycWfodUL5mkRS8AkoBpYBSQG0QUMFLMlb5pHxSPimftsenJBJjTAooBZQCSgH1F0Bdpw8=', 'Position.z': '7ZY9a8NADIb/i2Y7WNJ975lbqIc2pYMpGUyJU2J3Mv7v9UcI55Kq1PMtxoZ7kO6VeHAPj+e27upzA+G1h7I+HduuOn1CACqI84Jz9CWawC4g75xXZBQdIIN9013qYwuhB5weT13VfY2f8NCUl+r9YzzyDCFH9iaDFwi6UBkcICC6IQOSEPR2RnIdI0pCyOkZoQIjBAuJUYxLZ97FzIbboNibYjczBm3MGLFOsdQhverNiYxa6rCNMyAxA2K+3idG5AhwQcjG1yFxojxNcmrNr+qw2Bpd66wQMelfErBiGe1nZnyJGBYjuL85Su7t7kS1FnszC4Mq3jbz/9isGAFPZydkWu4b48QISC2M8TdkGLK/DKJ244xo3JxkkGSQZJBkkA0GYavQY/oHSQZJBkkG2WIQqzUyczJIMkgySDLIT4O8Dd8=', 'ExtrapolatedClock': {'Utc': '2023-03-19T16:38:15.6399535Z', 'Remaining': '02:00:00', 'Extrapolating': False, '_kf': True}, 'TopThree': {'Withheld': False, 'Lines': [{'Position': '1', 'ShowPosition': True, 'RacingNumber': '11', 'Tla': 'PER', 'BroadcastName': 'S PEREZ', 'FullName': 'Sergio PEREZ', 'LapTime': '', 'LapState': 64, 'DiffToAhead': 'LAP 1', 'DiffToLeader': 'LAP 1', 'OverallFastest': False, 'PersonalFastest': False, 'Team': 'Red Bull Racing', 'TeamColour': '3671C6'}, {'Position': '2', 'ShowPosition': True, 'RacingNumber': '14', 'Tla': 'ALO', 'BroadcastName': 'F ALONSO', 'FullName': 'Fernando ALONSO', 'LapTime': '', 'LapState': 64, 'DiffToAhead': '', 'DiffToLeader': '', 'OverallFastest': False, 'PersonalFastest': False, 'Team': 'Aston Martin', 'TeamColour': '358C75'}, {'Position': '3', 'ShowPosition': True, 'RacingNumber': '63', 'Tla': 'RUS', 'BroadcastName': 'G RUSSELL', 'FullName': 'George RUSSELL', 'LapTime': '', 'LapState': 64, 'DiffToAhead': '', 'DiffToLeader': '', 'OverallFastest': False, 'PersonalFastest': False, 'Team': 'Mercedes', 'TeamColour': '6CD3BF'}], '_kf': True}, 'TimingStats': {'Withheld': False, 'Lines': {'1': {'Line': 1, 'RacingNumber': '1', 'PersonalBestLapTime': {'Value': ''}, 'BestSectors': [{'Value': ''}, {'Value': ''}, {'Value': ''}], 'BestSpeeds': {'I1': {'Value': ''}, 'I2': {'Value': ''}, 'FL': {'Value': ''}, 'ST': {'Value': ''}}}, '2': {'Line': 2, 'RacingNumber': '2', 'PersonalBestLapTime': {'Value': ''}, 'BestSectors': [{'Value': ''}, {'Value': ''}, {'Value': ''}], 'BestSpeeds': {'I1': {'Value': ''}, 'I2': {'Value': ''}, 'FL': {'Value': ''}, 'ST': {'Value': ''}}}, '4': {'Line': 3, 'RacingNumber': '4', 'PersonalBestLapTime': {'Value': ''}, 'BestSectors': [{'Value': ''}, {'Value': ''}, {'Value': ''}], 'BestSpeeds': {'I1': {'Value': ''}, 'I2': {'Value': ''}, 'FL': {'Value': ''}, 'ST': {'Value': ''}}}, '10': {'Line': 4, 'RacingNumber': '10', 'PersonalBestLapTime': {'Value': ''}, 'BestSectors': [{'Value': ''}, {'Value': ''}, {'Value': ''}], 'BestSpeeds': {'I1': {'Value': ''}, 'I2': {'Value': ''}, 'FL': {'Value': ''}, 'ST': {'Value': ''}}}, '11': {'Line': 5, 'RacingNumber': '11', 'PersonalBestLapTime': {'Value': ''}, 'BestSectors': [{'Value': ''}, {'Value': ''}, {'Value': ''}], 'BestSpeeds': {'I1': {'Value': ''}, 'I2': {'Value': ''}, 'FL': {'Value': ''}, 'ST': {'Value': ''}}}, '14': {'Line': 6, 'RacingNumber': '14', 'PersonalBestLapTime': {'Value': ''}, 'BestSectors': [{'Value': ''}, {'Value': ''}, {'Value': ''}], 'BestSpeeds': {'I1': {'Value': ''}, 'I2': {'Value': ''}, 'FL': {'Value': ''}, 'ST': {'Value': ''}}}, '16': {'Line': 7, 'RacingNumber': '16', 'PersonalBestLapTime': {'Value': ''}, 'BestSectors': [{'Value': ''}, {'Value': ''}, {'Value': ''}], 'BestSpeeds': {'I1': {'Value': ''}, 'I2': {'Value': ''}, 'FL': {'Value': ''}, 'ST': {'Value': ''}}}, '18': {'Line': 8, 'RacingNumber': '18', 'PersonalBestLapTime': {'Value': ''}, 'BestSectors': [{'Value': ''}, {'Value': ''}, {'Value': ''}], 'BestSpeeds': {'I1': {'Value': ''}, 'I2': {'Value': ''}, 'FL': {'Value': ''}, 'ST': {'Value': ''}}}, '20': {'Line': 9, 'RacingNumber': '20', 'PersonalBestLapTime': {'Value': ''}, 'BestSectors': [{'Value': ''}, {'Value': ''}, {'Value': ''}], 'BestSpeeds': {'I1': {'Value': ''}, 'I2': {'Value': ''}, 'FL': {'Value': ''}, 'ST': {'Value': ''}}}, '21': {'Line': 10, 'RacingNumber': '21', 'PersonalBestLapTime': {'Value': ''}, 'BestSectors': [{'Value': ''}, {'Value': ''}, {'Value': ''}], 'BestSpeeds': {'I1': {'Value': ''}, 'I2': {'Value': ''}, 'FL': {'Value': ''}, 'ST': {'Value': ''}}}, '22': {'Line': 11, 'RacingNumber': '22', 'PersonalBestLapTime': {'Value': ''}, 'BestSectors': [{'Value': ''}, {'Value': ''}, {'Value': ''}], 'BestSpeeds': {'I1': {'Value': ''}, 'I2': {'Value': ''}, 'FL': {'Value': ''}, 'ST': {'Value': ''}}}, '23': {'Line': 12, 'RacingNumber': '23', 'PersonalBestLapTime': {'Value': ''}, 'BestSectors': [{'Value': ''}, {'Value': ''}, {'Value': ''}], 'BestSpeeds': {'I1': {'Value': ''}, 'I2': {'Value': ''}, 'FL': {'Value': ''}, 'ST': {'Value': ''}}}, '24': {'Line': 13, 'RacingNumber': '24', 'PersonalBestLapTime': {'Value': ''}, 'BestSectors': [{'Value': ''}, {'Value': ''}, {'Value': ''}], 'BestSpeeds': {'I1': {'Value': ''}, 'I2': {'Value': ''}, 'FL': {'Value': ''}, 'ST': {'Value': ''}}}, '27': {'Line': 14, 'RacingNumber': '27', 'PersonalBestLapTime': {'Value': ''}, 'BestSectors': [{'Value': ''}, {'Value': ''}, {'Value': ''}], 'BestSpeeds': {'I1': {'Value': ''}, 'I2': {'Value': ''}, 'FL': {'Value': ''}, 'ST': {'Value': ''}}}, '31': {'Line': 15, 'RacingNumber': '31', 'PersonalBestLapTime': {'Value': ''}, 'BestSectors': [{'Value': ''}, {'Value': ''}, {'Value': ''}], 'BestSpeeds': {'I1': {'Value': ''}, 'I2': {'Value': ''}, 'FL': {'Value': ''}, 'ST': {'Value': ''}}}, '44': {'Line': 16, 'RacingNumber': '44', 'PersonalBestLapTime': {'Value': ''}, 'BestSectors': [{'Value': ''}, {'Value': ''}, {'Value': ''}], 'BestSpeeds': {'I1': {'Value': ''}, 'I2': {'Value': ''}, 'FL': {'Value': ''}, 'ST': {'Value': ''}}}, '55': {'Line': 17, 'RacingNumber': '55', 'PersonalBestLapTime': {'Value': ''}, 'BestSectors': [{'Value': ''}, {'Value': ''}, {'Value': ''}], 'BestSpeeds': {'I1': {'Value': ''}, 'I2': {'Value': ''}, 'FL': {'Value': ''}, 'ST': {'Value': ''}}}, '63': {'Line': 18, 'RacingNumber': '63', 'PersonalBestLapTime': {'Value': ''}, 'BestSectors': [{'Value': ''}, {'Value': ''}, {'Value': ''}], 'BestSpeeds': {'I1': {'Value': ''}, 'I2': {'Value': ''}, 'FL': {'Value': ''}, 'ST': {'Value': ''}}}, '77': {'Line': 19, 'RacingNumber': '77', 'PersonalBestLapTime': {'Value': ''}, 'BestSectors': [{'Value': ''}, {'Value': ''}, {'Value': ''}], 'BestSpeeds': {'I1': {'Value': ''}, 'I2': {'Value': ''}, 'FL': {'Value': ''}, 'ST': {'Value': ''}}}, '81': {'Line': 20, 'RacingNumber': '81', 'PersonalBestLapTime': {'Value': ''}, 'BestSectors': [{'Value': ''}, {'Value': ''}, {'Value': ''}], 'BestSpeeds': {'I1': {'Value': ''}, 'I2': {'Value': ''}, 'FL': {'Value': ''}, 'ST': {'Value': ''}}}}, 'SessionType': 'Race', '_kf': True}, 'TimingAppData': {'Lines': {'1': {'RacingNumber': '1', 'Stints': [], 'Line': 15, 'GridPos': '15'}, '2': {'RacingNumber': '2', 'Stints': [], 'Line': 20, 'GridPos': '20'}, '4': {'RacingNumber': '4', 'Stints': [], 'Line': 19, 'GridPos': '19'}, '10': {'RacingNumber': '10', 'Stints': [], 'Line': 9, 'GridPos': '9'}, '11': {'RacingNumber': '11', 'Stints': [], 'Line': 1, 'GridPos': '1'}, '14': {'RacingNumber': '14', 'Stints': [], 'Line': 2, 'GridPos': '2'}, '16': {'RacingNumber': '16', 'Stints': [], 'Line': 12, 'GridPos': '12'}, '18': {'RacingNumber': '18', 'Stints': [], 'Line': 5, 'GridPos': '5'}, '20': {'RacingNumber': '20', 'Stints': [], 'Line': 13, 'GridPos': '13'}, '21': {'RacingNumber': '21', 'Stints': [], 'Line': 18, 'GridPos': '18'}, '22': {'RacingNumber': '22', 'Stints': [], 'Line': 16, 'GridPos': '16'}, '23': {'RacingNumber': '23', 'Stints': [], 'Line': 17, 'GridPos': '17'}, '24': {'RacingNumber': '24', 'Stints': [], 'Line': 11, 'GridPos': '11'}, '27': {'RacingNumber': '27', 'Stints': [], 'Line': 10, 'GridPos': '10'}, '31': {'RacingNumber': '31', 'Stints': [], 'Line': 6, 'GridPos': '6'}, '44': {'RacingNumber': '44', 'Stints': [], 'Line': 7, 'GridPos': '7'}, '55': {'RacingNumber': '55', 'Stints': [], 'Line': 4, 'GridPos': '4'}, '63': {'RacingNumber': '63', 'Stints': [], 'Line': 3, 'GridPos': '3'}, '77': {'RacingNumber': '77', 'Stints': [], 'Line': 14, 'GridPos': '14'}, '81': {'RacingNumber': '81', 'Stints': [], 'Line': 8, 'GridPos': '8'}}, '_kf': True}, 'WeatherData': {'AirTemp': '26.1', 'Humidity': '58.0', 'Pressure': '1010.7', 'Rainfall': '0', 'TrackTemp': '32.4', 'WindDirection': '318', 'WindSpeed': '2.9', '_kf': True}, 'TrackStatus': {'Status': '1', 'Message': 'AllClear', '_kf': True}, 'DriverList': {'11': {'RacingNumber': '11', 'BroadcastName': 'S PEREZ', 'FullName': 'Sergio PEREZ', 'Tla': 'PER', 'Line': 1, 'TeamName': 'Red Bull Racing', 'TeamColour': '3671C6', 'FirstName': 'Sergio', 'LastName': 'Perez', 'Reference': 'SERPER01', 'CountryCode': 'MEX', 'HeadshotUrl': 'https://www.formula1.com/content/dam/fom-website/drivers/S/SERPER01_Sergio_Perez/serper01.png.transform/1col/image.png'}, '14': {'RacingNumber': '14', 'BroadcastName': 'F ALONSO', 'FullName': 'Fernando ALONSO', 'Tla': 'ALO', 'Line': 2, 'TeamName': 'Aston Martin', 'TeamColour': '358C75', 'FirstName': 'Fernando', 'LastName': 'Alonso', 'Reference': 'FERALO01', 'CountryCode': 'ESP', 'HeadshotUrl': 'https://www.formula1.com/content/dam/fom-website/drivers/F/FERALO01_Fernando_Alonso/feralo01.png.transform/1col/image.png'}, '63': {'RacingNumber': '63', 'BroadcastName': 'G RUSSELL', 'FullName': 'George RUSSELL', 'Tla': 'RUS', 'Line': 3, 'TeamName': 'Mercedes', 'TeamColour': '6CD3BF', 'FirstName': 'George', 'LastName': 'Russell', 'Reference': 'GEORUS01', 'CountryCode': 'GBR', 'HeadshotUrl': 'https://www.formula1.com/content/dam/fom-website/drivers/G/GEORUS01_George_Russell/georus01.png.transform/1col/image.png'}, '55': {'RacingNumber': '55', 'BroadcastName': 'C SAINZ', 'FullName': 'Carlos SAINZ', 'Tla': 'SAI', 'Line': 4, 'TeamName': 'Ferrari', 'TeamColour': 'F91536', 'FirstName': 'Carlos', 'LastName': 'Sainz', 'Reference': 'CARSAI01', 'CountryCode': 'ESP', 'HeadshotUrl': 'https://www.formula1.com/content/dam/fom-website/drivers/C/CARSAI01_Carlos_Sainz/carsai01.png.transform/1col/image.png'}, '18': {'RacingNumber': '18', 'BroadcastName': 'L STROLL', 'FullName': 'Lance STROLL', 'Tla': 'STR', 'Line': 5, 'TeamName': 'Aston Martin', 'TeamColour': '358C75', 'FirstName': 'Lance', 'LastName': 'Stroll', 'Reference': 'LANSTR01', 'CountryCode': 'CAN', 'HeadshotUrl': 'https://www.formula1.com/content/dam/fom-website/drivers/L/LANSTR01_Lance_Stroll/lanstr01.png.transform/1col/image.png'}, '31': {'RacingNumber': '31', 'BroadcastName': 'E OCON', 'FullName': 'Esteban OCON', 'Tla': 'OCO', 'Line': 6, 'TeamName': 'Alpine', 'TeamColour': '2293D1', 'FirstName': 'Esteban', 'LastName': 'Ocon', 'Reference': 'ESTOCO01', 'CountryCode': 'FRA', 'HeadshotUrl': 'https://www.formula1.com/content/dam/fom-website/drivers/E/ESTOCO01_Esteban_Ocon/estoco01.png.transform/1col/image.png'}, '44': {'RacingNumber': '44', 'BroadcastName': 'L HAMILTON', 'FullName': 'Lewis HAMILTON', 'Tla': 'HAM', 'Line': 7, 'TeamName': 'Mercedes', 'TeamColour': '6CD3BF', 'FirstName': 'Lewis', 'LastName': 'Hamilton', 'Reference': 'LEWHAM01', 'CountryCode': 'GBR', 'HeadshotUrl': 'https://www.formula1.com/content/dam/fom-website/drivers/L/LEWHAM01_Lewis_Hamilton/lewham01.png.transform/1col/image.png'}, '81': {'RacingNumber': '81', 'BroadcastName': 'O PIASTRI', 'FullName': 'Oscar PIASTRI', 'Tla': 'PIA', 'Line': 8, 'TeamName': 'McLaren', 'TeamColour': 'F58020', 'FirstName': 'Oscar', 'LastName': 'Piastri', 'Reference': 'OSCPIA01', 'CountryCode': 'AUS', 'HeadshotUrl': 'https://www.formula1.com/content/dam/fom-website/drivers/O/OSCPIA01_Oscar_Piastri/oscpia01.png.transform/1col/image.png'}, '10': {'RacingNumber': '10', 'BroadcastName': 'P GASLY', 'FullName': 'Pierre GASLY', 'Tla': 'GAS', 'Line': 9, 'TeamName': 'Alpine', 'TeamColour': '2293D1', 'FirstName': 'Pierre', 'LastName': 'Gasly', 'Reference': 'PIEGAS01', 'CountryCode': 'FRA', 'HeadshotUrl': 'https://www.formula1.com/content/dam/fom-website/drivers/P/PIEGAS01_Pierre_Gasly/piegas01.png.transform/1col/image.png'}, '27': {'RacingNumber': '27', 'BroadcastName': 'N HULKENBERG', 'FullName': 'Nico HULKENBERG', 'Tla': 'HUL', 'Line': 10, 'TeamName': 'Haas F1 Team', 'TeamColour': 'B6BABD', 'FirstName': 'Nico', 'LastName': 'Hulkenberg', 'Reference': 'NICHUL01', 'CountryCode': 'GER', 'HeadshotUrl': 'https://www.formula1.com/content/dam/fom-website/drivers/N/NICHUL01_Nico_Hulkenberg/nichul01.png.transform/1col/image.png'}, '24': {'RacingNumber': '24', 'BroadcastName': 'G ZHOU', 'FullName': 'ZHOU Guanyu', 'Tla': 'ZHO', 'Line': 11, 'TeamName': 'Alfa Romeo', 'TeamColour': 'C92D4B', 'FirstName': 'Guanyu', 'LastName': 'Zhou', 'Reference': 'GUAZHO01', 'NameFormat': 'LastNameIsPrimary', 'CountryCode': 'CHN', 'HeadshotUrl': 'https://www.formula1.com/content/dam/fom-website/drivers/G/GUAZHO01_Guanyu_Zhou/guazho01.png.transform/1col/image.png'}, '16': {'RacingNumber': '16', 'BroadcastName': 'C LECLERC', 'FullName': 'Charles LECLERC', 'Tla': 'LEC', 'Line': 12, 'TeamName': 'Ferrari', 'TeamColour': 'F91536', 'FirstName': 'Charles', 'LastName': 'Leclerc', 'Reference': 'CHALEC01', 'CountryCode': 'MON', 'HeadshotUrl': 'https://www.formula1.com/content/dam/fom-website/drivers/C/CHALEC01_Charles_Leclerc/chalec01.png.transform/1col/image.png'}, '20': {'RacingNumber': '20', 'BroadcastName': 'K MAGNUSSEN', 'FullName': 'Kevin MAGNUSSEN', 'Tla': 'MAG', 'Line': 13, 'TeamName': 'Haas F1 Team', 'TeamColour': 'B6BABD', 'FirstName': 'Kevin', 'LastName': 'Magnussen', 'Reference': 'KEVMAG01', 'CountryCode': 'DEN', 'HeadshotUrl': 'https://www.formula1.com/content/dam/fom-website/drivers/K/KEVMAG01_Kevin_Magnussen/kevmag01.png.transform/1col/image.png'}, '77': {'RacingNumber': '77', 'BroadcastName': 'V BOTTAS', 'FullName': 'Valtteri BOTTAS', 'Tla': 'BOT', 'Line': 14, 'TeamName': 'Alfa Romeo', 'TeamColour': 'C92D4B', 'FirstName': 'Valtteri', 'LastName': 'Bottas', 'Reference': 'VALBOT01', 'CountryCode': 'FIN', 'HeadshotUrl': 'https://www.formula1.com/content/dam/fom-website/drivers/V/VALBOT01_Valtteri_Bottas/valbot01.png.transform/1col/image.png'}, '1': {'RacingNumber': '1', 'BroadcastName': 'M VERSTAPPEN', 'FullName': 'Max VERSTAPPEN', 'Tla': 'VER', 'Line': 15, 'TeamName': 'Red Bull Racing', 'TeamColour': '3671C6', 'FirstName': 'Max', 'LastName': 'Verstappen', 'Reference': 'MAXVER01', 'CountryCode': 'NED', 'HeadshotUrl': 'https://www.formula1.com/content/dam/fom-website/drivers/M/MAXVER01_Max_Verstappen/maxver01.png.transform/1col/image.png'}, '22': {'RacingNumber': '22', 'BroadcastName': 'Y TSUNODA', 'FullName': 'Yuki TSUNODA', 'Tla': 'TSU', 'Line': 16, 'TeamName': 'AlphaTauri', 'TeamColour': '5E8FAA', 'FirstName': 'Yuki', 'LastName': 'Tsunoda', 'Reference': 'YUKTSU01', 'CountryCode': 'JPN', 'HeadshotUrl': 'https://www.formula1.com/content/dam/fom-website/drivers/Y/YUKTSU01_Yuki_Tsunoda/yuktsu01.png.transform/1col/image.png'}, '23': {'RacingNumber': '23', 'BroadcastName': 'A ALBON', 'FullName': 'Alexander ALBON', 'Tla': 'ALB', 'Line': 17, 'TeamName': 'Williams', 'TeamColour': '37BEDD', 'FirstName': 'Alexander', 'LastName': 'Albon', 'Reference': 'ALEALB01', 'CountryCode': 'THA', 'HeadshotUrl': 'https://www.formula1.com/content/dam/fom-website/drivers/A/ALEALB01_Alexander_Albon/alealb01.png.transform/1col/image.png'}, '21': {'RacingNumber': '21', 'BroadcastName': 'N DE VRIES', 'FullName': 'Nyck DE VRIES', 'Tla': 'DEV', 'Line': 18, 'TeamName': 'AlphaTauri', 'TeamColour': '5E8FAA', 'FirstName': 'Nyck', 'LastName': 'De Vries', 'Reference': 'NYCDEV01', 'CountryCode': 'NED', 'HeadshotUrl': 'https://www.formula1.com/content/dam/fom-website/drivers/N/NYCDEV01_Nyck_De%20Vries/nycdev01.png.transform/1col/image.png'}, '4': {'RacingNumber': '4', 'BroadcastName': 'L NORRIS', 'FullName': 'Lando NORRIS', 'Tla': 'NOR', 'Line': 19, 'TeamName': 'McLaren', 'TeamColour': 'F58020', 'FirstName': 'Lando', 'LastName': 'Norris', 'Reference': 'LANNOR01', 'CountryCode': 'GBR', 'HeadshotUrl': 'https://www.formula1.com/content/dam/fom-website/drivers/L/LANNOR01_Lando_Norris/lannor01.png.transform/1col/image.png'}, '2': {'RacingNumber': '2', 'BroadcastName': 'L SARGEANT', 'FullName': 'Logan SARGEANT', 'Tla': 'SAR', 'Line': 20, 'TeamName': 'Williams', 'TeamColour': '37BEDD', 'FirstName': 'Logan', 'LastName': 'Sargeant', 'Reference': 'LOGSAR01', 'CountryCode': 'USA', 'HeadshotUrl': 'https://www.formula1.com/content/dam/fom-website/drivers/L/LOGSAR01_Logan_Sargeant/logsar01.png.transform/1col/image.png'}, '_kf': True}, 'RaceControlMessages': {'Messages': [{'Utc': '2023-03-19T16:10:31', 'Lap': 1, 'Category': 'Other', 'Message': 'PINK HEAD PADDING MATERIAL MUST BE USED'}, {'Utc': '2023-03-19T16:20:00', 'Lap': 1, 'Category': 'Flag', 'Flag': 'GREEN', 'Scope': 'Track', 'Message': 'GREEN LIGHT - PIT EXIT OPEN'}, {'Utc': '2023-03-19T16:30:00', 'Lap': 1, 'Category': 'Other', 'Message': 'PIT EXIT CLOSED'}], '_kf': True}, 'SessionInfo': {'Meeting': {'Key': 1142, 'Name': 'Saudi Arabian Grand Prix', 'OfficialName': 'FORMULA 1 STC SAUDI ARABIAN GRAND PRIX 2023', 'Location': 'Jeddah', 'Country': {'Key': 153, 'Code': 'KSA', 'Name': 'Saudi Arabia'}, 'Circuit': {'Key': 149, 'ShortName': 'Jeddah'}}, 'ArchiveStatus': {'Status': 'Generating'}, 'Key': 7779, 'Type': 'Race', 'Name': 'Race', 'StartDate': '2023-03-19T20:00:00', 'EndDate': '2023-03-19T22:00:00', 'GmtOffset': '03:00:00', 'Path': '2023/2023-03-19_Saudi_Arabian_Grand_Prix/2023-03-19_Race/', '_kf': True}, 'SessionData': {'Series': [{'Utc': '2023-03-19T16:01:05.191Z', 'Lap': 1}], 'StatusSeries': [{'Utc': '2023-03-19T16:00:41.957Z', 'TrackStatus': 'AllClear'}], '_kf': True}, 'LapCount': {'CurrentLap': 1, 'TotalLaps': 50, '_kf': True}, 'TimingData': {'Lines': {'11': {'GapToLeader': 'LAP 1', 'IntervalToPositionAhead': {'Value': 'LAP 1', 'Catching': False}, 'Line': 1, 'Position': '1', 'ShowPosition': True, 'RacingNumber': '11', 'Retired': False, 'InPit': False, 'PitOut': False, 'Stopped': False, 'Status': 64, 'Sectors': [{'Stopped': False, 'Value': '', 'Status': 0, 'OverallFastest': False, 'PersonalFastest': False, 'Segments': [{'Status': 2064}, {'Status': 2064}, {'Status': 2064}, {'Status': 2048}, {'Status': 2048}, {'Status': 2048}, {'Status': 2048}, {'Status': 2048}, {'Status': 2048}]}, {'Stopped': False, 'Value': '', 'Status': 0, 'OverallFastest': False, 'PersonalFastest': False, 'Segments': [{'Status': 2048}, {'Status': 2048}, {'Status': 2048}, {'Status': 2048}, {'Status': 2048}, {'Status': 2048}, {'Status': 2048}]}, {'Stopped': False, 'Value': '', 'Status': 0, 'OverallFastest': False, 'PersonalFastest': False, 'Segments': [{'Status': 2048}, {'Status': 2048}, {'Status': 2048}, {'Status': 2048}, {'Status': 2048}, {'Status': 2048}, {'Status': 2048}, {'Status': 2048}, {'Status': 2048}]}], 'Speeds': {'I1': {'Value': '', 'Status': 0, 'OverallFastest': False, 'PersonalFastest': False}, 'I2': {'Value': '', 'Status': 0, 'OverallFastest': False, 'PersonalFastest': False}, 'FL': {'Value': '', 'Status': 0, 'OverallFastest': False, 'PersonalFastest': False}, 'ST': {'Value': '', 'Status': 0, 'OverallFastest': False, 'PersonalFastest': False}}, 'BestLapTime': {'Value': ''}, 'LastLapTime': {'Value': '', 'Status': 0, 'OverallFastest': False, 'PersonalFastest': False}}, '14': {'GapToLeader': '', 'IntervalToPositionAhead': {'Value': '', 'Catching': False}, 'Line': 2, 'Position': '2', 'ShowPosition': True, 'RacingNumber': '14', 'Retired': False, 'InPit': False, 'PitOut': False, 'Stopped': False, 'Status': 64, 'Sectors': [{'Stopped': False, 'Value': '', 'Status': 0, 'OverallFastest': False, 'PersonalFastest': False, 'Segments': [{'Status': 2064}, {'Status': 2064}, {'Status': 2064}, {'Status': 2048}, {'Status': 2048}, {'Status': 2048}, {'Status': 2048}, {'Status': 2048}, {'Status': 2048}]}, {'Stopped': False, 'Value': '', 'Status': 0, 'OverallFastest': False, 'PersonalFastest': False, 'Segments': [{'Status': 2048}, {'Status': 2048}, {'Status': 2048}, {'Status': 2048}, {'Status': 2048}, {'Status': 2048}, {'Status': 2048}]}, {'Stopped': False, 'Value': '', 'Status': 0, 'OverallFastest': False, 'PersonalFastest': False, 'Segments': [{'Status': 2048}, {'Status': 2048}, {'Status': 2048}, {'Status': 2048}, {'Status': 2048}, {'Status': 2048}, {'Status': 2048}, {'Status': 2048}, {'Status': 2048}]}], 'Speeds': {'I1': {'Value': '', 'Status': 0, 'OverallFastest': False, 'PersonalFastest': False}, 'I2': {'Value': '', 'Status': 0, 'OverallFastest': False, 'PersonalFastest': False}, 'FL': {'Value': '', 'Status': 0, 'OverallFastest': False, 'PersonalFastest': False}, 'ST': {'Value': '', 'Status': 0, 'OverallFastest': False, 'PersonalFastest': False}}, 'BestLapTime': {'Value': ''}, 'LastLapTime': {'Value': '', 'Status': 0, 'OverallFastest': False, 'PersonalFastest': False}}, '63': {'GapToLeader': '', 'IntervalToPositionAhead': {'Value': '', 'Catching': False}, 'Line': 3, 'Position': '3', 'ShowPosition': True, 'RacingNumber': '63', 'Retired': False, 'InPit': False, 'PitOut': False, 'Stopped': False, 'Status': 64, 'Sectors': [{'Stopped': False, 'Value': '', 'Status': 0, 'OverallFastest': False, 'PersonalFastest': False, 'Segments': [{'Status': 2064}, {'Status': 2064}, {'Status': 2064}, {'Status': 2048}, {'Status': 2048}, {'Status': 2048}, {'Status': 2048}, {'Status': 2048}, {'Status': 2048}]}, {'Stopped': False, 'Value': '', 'Status': 0, 'OverallFastest': False, 'PersonalFastest': False, 'Segments': [{'Status': 2048}, {'Status': 2048}, {'Status': 2048}, {'Status': 2048}, {'Status': 2048}, {'Status': 2048}, {'Status': 2048}]}, {'Stopped': False, 'Value': '', 'Status': 0, 'OverallFastest': False, 'PersonalFastest': False, 'Segments': [{'Status': 2048}, {'Status': 2048}, {'Status': 2048}, {'Status': 2048}, {'Status': 2048}, {'Status': 2048}, {'Status': 2048}, {'Status': 2048}, {'Status': 0}]}], 'Speeds': {'I1': {'Value': '', 'Status': 0, 'OverallFastest': False, 'PersonalFastest': False}, 'I2': {'Value': '', 'Status': 0, 'OverallFastest': False, 'PersonalFastest': False}, 'FL': {'Value': '', 'Status': 0, 'OverallFastest': False, 'PersonalFastest': False}, 'ST': {'Value': '', 'Status': 0, 'OverallFastest': False, 'PersonalFastest': False}}, 'BestLapTime': {'Value': ''}, 'LastLapTime': {'Value': '', 'Status': 0, 'OverallFastest': False, 'PersonalFastest': False}}, '55': {'GapToLeader': '', 'IntervalToPositionAhead': {'Value': '', 'Catching': False}, 'Line': 4, 'Position': '4', 'ShowPosition': True, 'RacingNumber': '55', 'Retired': False, 'InPit': False, 'PitOut': False, 'Stopped': False, 'Status': 64, 'Sectors': [{'Stopped': False, 'Value': '', 'Status': 0, 'OverallFastest': False, 'PersonalFastest': False, 'Segments': [{'Status': 2064}, {'Status': 2064}, {'Status': 2064}, {'Status': 2048}, {'Status': 2048}, {'Status': 2048}, {'Status': 2048}, {'Status': 2048}, {'Status': 2048}]}, {'Stopped': False, 'Value': '', 'Status': 0, 'OverallFastest': False, 'PersonalFastest': False, 'Segments': [{'Status': 2048}, {'Status': 2048}, {'Status': 2048}, {'Status': 2048}, {'Status': 2048}, {'Status': 2048}, {'Status': 2048}]}, {'Stopped': False, 'Value': '', 'Status': 0, 'OverallFastest': False, 'PersonalFastest': False, 'Segments': [{'Status': 2048}, {'Status': 2048}, {'Status': 2048}, {'Status': 2048}, {'Status': 2048}, {'Status': 2048}, {'Status': 2048}, {'Status': 2048}, {'Status': 2048}]}], 'Speeds': {'I1': {'Value': '', 'Status': 0, 'OverallFastest': False, 'PersonalFastest': False}, 'I2': {'Value': '', 'Status': 0, 'OverallFastest': False, 'PersonalFastest': False}, 'FL': {'Value': '', 'Status': 0, 'OverallFastest': False, 'PersonalFastest': False}, 'ST': {'Value': '', 'Status': 0, 'OverallFastest': False, 'PersonalFastest': False}}, 'BestLapTime': {'Value': ''}, 'LastLapTime': {'Value': '', 'Status': 0, 'OverallFastest': False, 'PersonalFastest': False}}, '18': {'GapToLeader': '', 'IntervalToPositionAhead': {'Value': '', 'Catching': False}, 'Line': 5, 'Position': '5', 'ShowPosition': True, 'RacingNumber': '18', 'Retired': False, 'InPit': False, 'PitOut': False, 'Stopped': False, 'Status': 64, 'Sectors': [{'Stopped': False, 'Value': '', 'Status': 0, 'OverallFastest': False, 'PersonalFastest': False, 'Segments': [{'Status': 2064}, {'Status': 2064}, {'Status': 2064}, {'Status': 2048}, {'Status': 2048}, {'Status': 2048}, {'Status': 2048}, {'Status': 2048}, {'Status': 2048}]}, {'Stopped': False, 'Value': '', 'Status': 0, 'OverallFastest': False, 'PersonalFastest': False, 'Segments': [{'Status': 2048}, {'Status': 2048}, {'Status': 2048}, {'Status': 2048}, {'Status': 2048}, {'Status': 2048}, {'Status': 2048}]}, {'Stopped': False, 'Value': '', 'Status': 0, 'OverallFastest': False, 'PersonalFastest': False, 'Segments': [{'Status': 2048}, {'Status': 2048}, {'Status': 2048}, {'Status': 2048}, {'Status': 2048}, {'Status': 2048}, {'Status': 2048}, {'Status': 2048}, {'Status': 2048}]}], 'Speeds': {'I1': {'Value': '', 'Status': 0, 'OverallFastest': False, 'PersonalFastest': False}, 'I2': {'Value': '', 'Status': 0, 'OverallFastest': False, 'PersonalFastest': False}, 'FL': {'Value': '', 'Status': 0, 'OverallFastest': False, 'PersonalFastest': False}, 'ST': {'Value': '', 'Status': 0, 'OverallFastest': False, 'PersonalFastest': False}}, 'BestLapTime': {'Value': ''}, 'LastLapTime': {'Value': '', 'Status': 0, 'OverallFastest': False, 'PersonalFastest': False}}, '31': {'GapToLeader': '', 'IntervalToPositionAhead': {'Value': '', 'Catching': False}, 'Line': 6, 'Position': '6', 'ShowPosition': True, 'RacingNumber': '31', 'Retired': False, 'InPit': False, 'PitOut': False, 'Stopped': False, 'Status': 64, 'Sectors': [{'Stopped': False, 'Value': '', 'Status': 0, 'OverallFastest': False, 'PersonalFastest': False, 'Segments': [{'Status': 2064}, {'Status': 2064}, {'Status': 2064}, {'Status': 2048}, {'Status': 2048}, {'Status': 2048}, {'Status': 2048}, {'Status': 2048}, {'Status': 2048}]}, {'Stopped': False, 'Value': '', 'Status': 0, 'OverallFastest': False, 'PersonalFastest': False, 'Segments': [{'Status': 2048}, {'Status': 2048}, {'Status': 2048}, {'Status': 2048}, {'Status': 2048}, {'Status': 2048}, {'Status': 2048}]}, {'Stopped': False, 'Value': '', 'Status': 0, 'OverallFastest': False, 'PersonalFastest': False, 'Segments': [{'Status': 2048}, {'Status': 2048}, {'Status': 2048}, {'Status': 2048}, {'Status': 2048}, {'Status': 2048}, {'Status': 2048}, {'Status': 2048}, {'Status': 2048}]}], 'Speeds': {'I1': {'Value': '', 'Status': 0, 'OverallFastest': False, 'PersonalFastest': False}, 'I2': {'Value': '', 'Status': 0, 'OverallFastest': False, 'PersonalFastest': False}, 'FL': {'Value': '', 'Status': 0, 'OverallFastest': False, 'PersonalFastest': False}, 'ST': {'Value': '', 'Status': 0, 'OverallFastest': False, 'PersonalFastest': False}}, 'BestLapTime': {'Value': ''}, 'LastLapTime': {'Value': '', 'Status': 0, 'OverallFastest': False, 'PersonalFastest': False}}, '44': {'GapToLeader': '', 'IntervalToPositionAhead': {'Value': '', 'Catching': False}, 'Line': 7, 'Position': '7', 'ShowPosition': True, 'RacingNumber': '44', 'Retired': False, 'InPit': False, 'PitOut': False, 'Stopped': False, 'Status': 64, 'Sectors': [{'Stopped': False, 'Value': '', 'Status': 0, 'OverallFastest': False, 'PersonalFastest': False, 'Segments': [{'Status': 2064}, {'Status': 2064}, {'Status': 2064}, {'Status': 2048}, {'Status': 2048}, {'Status': 2048}, {'Status': 2048}, {'Status': 2048}, {'Status': 2048}]}, {'Stopped': False, 'Value': '', 'Status': 0, 'OverallFastest': False, 'PersonalFastest': False, 'Segments': [{'Status': 2048}, {'Status': 2048}, {'Status': 2048}, {'Status': 2048}, {'Status': 2048}, {'Status': 2048}, {'Status': 2048}]}, {'Stopped': False, 'Value': '', 'Status': 0, 'OverallFastest': False, 'PersonalFastest': False, 'Segments': [{'Status': 2048}, {'Status': 2048}, {'Status': 2048}, {'Status': 2048}, {'Status': 2048}, {'Status': 2048}, {'Status': 2048}, {'Status': 2048}, {'Status': 2048}]}], 'Speeds': {'I1': {'Value': '', 'Status': 0, 'OverallFastest': False, 'PersonalFastest': False}, 'I2': {'Value': '', 'Status': 0, 'OverallFastest': False, 'PersonalFastest': False}, 'FL': {'Value': '', 'Status': 0, 'OverallFastest': False, 'PersonalFastest': False}, 'ST': {'Value': '', 'Status': 0, 'OverallFastest': False, 'PersonalFastest': False}}, 'BestLapTime': {'Value': ''}, 'LastLapTime': {'Value': '', 'Status': 0, 'OverallFastest': False, 'PersonalFastest': False}}, '81': {'GapToLeader': '', 'IntervalToPositionAhead': {'Value': '', 'Catching': False}, 'Line': 8, 'Position': '8', 'ShowPosition': True, 'RacingNumber': '81', 'Retired': False, 'InPit': False, 'PitOut': False, 'Stopped': False, 'Status': 64, 'Sectors': [{'Stopped': False, 'Value': '', 'Status': 0, 'OverallFastest': False, 'PersonalFastest': False, 'Segments': [{'Status': 2064}, {'Status': 2064}, {'Status': 2064}, {'Status': 2048}, {'Status': 2048}, {'Status': 2048}, {'Status': 2048}, {'Status': 2048}, {'Status': 2048}]}, {'Stopped': False, 'Value': '', 'Status': 0, 'OverallFastest': False, 'PersonalFastest': False, 'Segments': [{'Status': 2048}, {'Status': 2048}, {'Status': 2048}, {'Status': 2048}, {'Status': 2048}, {'Status': 2048}, {'Status': 2048}]}, {'Stopped': False, 'Value': '', 'Status': 0, 'OverallFastest': False, 'PersonalFastest': False, 'Segments': [{'Status': 2048}, {'Status': 2048}, {'Status': 2048}, {'Status': 2048}, {'Status': 2048}, {'Status': 2048}, {'Status': 2048}, {'Status': 2048}, {'Status': 2048}]}], 'Speeds': {'I1': {'Value': '', 'Status': 0, 'OverallFastest': False, 'PersonalFastest': False}, 'I2': {'Value': '', 'Status': 0, 'OverallFastest': False, 'PersonalFastest': False}, 'FL': {'Value': '', 'Status': 0, 'OverallFastest': False, 'PersonalFastest': False}, 'ST': {'Value': '', 'Status': 0, 'OverallFastest': False, 'PersonalFastest': False}}, 'BestLapTime': {'Value': ''}, 'LastLapTime': {'Value': '', 'Status': 0, 'OverallFastest': False, 'PersonalFastest': False}}, '10': {'GapToLeader': '', 'IntervalToPositionAhead': {'Value': '', 'Catching': False}, 'Line': 9, 'Position': '9', 'ShowPosition': True, 'RacingNumber': '10', 'Retired': False, 'InPit': False, 'PitOut': False, 'Stopped': False, 'Status': 64, 'Sectors': [{'Stopped': False, 'Value': '', 'Status': 0, 'OverallFastest': False, 'PersonalFastest': False, 'Segments': [{'Status': 2064}, {'Status': 2064}, {'Status': 2064}, {'Status': 2048}, {'Status': 2048}, {'Status': 2048}, {'Status': 2048}, {'Status': 2048}, {'Status': 2048}]}, {'Stopped': False, 'Value': '', 'Status': 0, 'OverallFastest': False, 'PersonalFastest': False, 'Segments': [{'Status': 2048}, {'Status': 2048}, {'Status': 2048}, {'Status': 2048}, {'Status': 2048}, {'Status': 2048}, {'Status': 2048}]}, {'Stopped': False, 'Value': '', 'Status': 0, 'OverallFastest': False, 'PersonalFastest': False, 'Segments': [{'Status': 2048}, {'Status': 2048}, {'Status': 2048}, {'Status': 2048}, {'Status': 2048}, {'Status': 2048}, {'Status': 2048}, {'Status': 2048}, {'Status': 2048}]}], 'Speeds': {'I1': {'Value': '', 'Status': 0, 'OverallFastest': False, 'PersonalFastest': False}, 'I2': {'Value': '', 'Status': 0, 'OverallFastest': False, 'PersonalFastest': False}, 'FL': {'Value': '', 'Status': 0, 'OverallFastest': False, 'PersonalFastest': False}, 'ST': {'Value': '', 'Status': 0, 'OverallFastest': False, 'PersonalFastest': False}}, 'BestLapTime': {'Value': ''}, 'LastLapTime': {'Value': '', 'Status': 0, 'OverallFastest': False, 'PersonalFastest': False}}, '27': {'GapToLeader': '', 'IntervalToPositionAhead': {'Value': '', 'Catching': False}, 'Line': 10, 'Position': '10', 'ShowPosition': True, 'RacingNumber': '27', 'Retired': False, 'InPit': False, 'PitOut': False, 'Stopped': False, 'Status': 64, 'Sectors': [{'Stopped': False, 'Value': '', 'Status': 0, 'OverallFastest': False, 'PersonalFastest': False, 'Segments': [{'Status': 2064}, {'Status': 2064}, {'Status': 2064}, {'Status': 2048}, {'Status': 2048}, {'Status': 2048}, {'Status': 2048}, {'Status': 2048}, {'Status': 2048}]}, {'Stopped': False, 'Value': '', 'Status': 0, 'OverallFastest': False, 'PersonalFastest': False, 'Segments': [{'Status': 2048}, {'Status': 2048}, {'Status': 2048}, {'Status': 2048}, {'Status': 2048}, {'Status': 2048}, {'Status': 2048}]}, {'Stopped': False, 'Value': '', 'Status': 0, 'OverallFastest': False, 'PersonalFastest': False, 'Segments': [{'Status': 2048}, {'Status': 2048}, {'Status': 2048}, {'Status': 2048}, {'Status': 2048}, {'Status': 2048}, {'Status': 2048}, {'Status': 2048}, {'Status': 2048}]}], 'Speeds': {'I1': {'Value': '', 'Status': 0, 'OverallFastest': False, 'PersonalFastest': False}, 'I2': {'Value': '', 'Status': 0, 'OverallFastest': False, 'PersonalFastest': False}, 'FL': {'Value': '', 'Status': 0, 'OverallFastest': False, 'PersonalFastest': False}, 'ST': {'Value': '', 'Status': 0, 'OverallFastest': False, 'PersonalFastest': False}}, 'BestLapTime': {'Value': ''}, 'LastLapTime': {'Value': '', 'Status': 0, 'OverallFastest': False, 'PersonalFastest': False}}, '24': {'GapToLeader': '', 'IntervalToPositionAhead': {'Value': '', 'Catching': False}, 'Line': 11, 'Position': '11', 'ShowPosition': True, 'RacingNumber': '24', 'Retired': False, 'InPit': False, 'PitOut': False, 'Stopped': False, 'Status': 64, 'Sectors': [{'Stopped': False, 'Value': '', 'Status': 0, 'OverallFastest': False, 'PersonalFastest': False, 'Segments': [{'Status': 2064}, {'Status': 2064}, {'Status': 2064}, {'Status': 2048}, {'Status': 2048}, {'Status': 2048}, {'Status': 2048}, {'Status': 2048}, {'Status': 2048}]}, {'Stopped': False, 'Value': '', 'Status': 0, 'OverallFastest': False, 'PersonalFastest': False, 'Segments': [{'Status': 2048}, {'Status': 2048}, {'Status': 2048}, {'Status': 2048}, {'Status': 2048}, {'Status': 2048}, {'Status': 2048}]}, {'Stopped': False, 'Value': '', 'Status': 0, 'OverallFastest': False, 'PersonalFastest': False, 'Segments': [{'Status': 2048}, {'Status': 2048}, {'Status': 2048}, {'Status': 2048}, {'Status': 2048}, {'Status': 2048}, {'Status': 2048}, {'Status': 2048}, {'Status': 2048}]}], 'Speeds': {'I1': {'Value': '', 'Status': 0, 'OverallFastest': False, 'PersonalFastest': False}, 'I2': {'Value': '', 'Status': 0, 'OverallFastest': False, 'PersonalFastest': False}, 'FL': {'Value': '', 'Status': 0, 'OverallFastest': False, 'PersonalFastest': False}, 'ST': {'Value': '', 'Status': 0, 'OverallFastest': False, 'PersonalFastest': False}}, 'BestLapTime': {'Value': ''}, 'LastLapTime': {'Value': '', 'Status': 0, 'OverallFastest': False, 'PersonalFastest': False}}, '16': {'GapToLeader': '', 'IntervalToPositionAhead': {'Value': '', 'Catching': False}, 'Line': 12, 'Position': '12', 'ShowPosition': True, 'RacingNumber': '16', 'Retired': False, 'InPit': False, 'PitOut': False, 'Stopped': False, 'Status': 64, 'Sectors': [{'Stopped': False, 'Value': '', 'Status': 0, 'OverallFastest': False, 'PersonalFastest': False, 'Segments': [{'Status': 2064}, {'Status': 2064}, {'Status': 2064}, {'Status': 2048}, {'Status': 2048}, {'Status': 2048}, {'Status': 2048}, {'Status': 2048}, {'Status': 2048}]}, {'Stopped': False, 'Value': '', 'Status': 0, 'OverallFastest': False, 'PersonalFastest': False, 'Segments': [{'Status': 2048}, {'Status': 2048}, {'Status': 2048}, {'Status': 2048}, {'Status': 2048}, {'Status': 2048}, {'Status': 2048}]}, {'Stopped': False, 'Value': '', 'Status': 0, 'OverallFastest': False, 'PersonalFastest': False, 'Segments': [{'Status': 2048}, {'Status': 2048}, {'Status': 2048}, {'Status': 2048}, {'Status': 2048}, {'Status': 2048}, {'Status': 2048}, {'Status': 2048}, {'Status': 2048}]}], 'Speeds': {'I1': {'Value': '', 'Status': 0, 'OverallFastest': False, 'PersonalFastest': False}, 'I2': {'Value': '', 'Status': 0, 'OverallFastest': False, 'PersonalFastest': False}, 'FL': {'Value': '', 'Status': 0, 'OverallFastest': False, 'PersonalFastest': False}, 'ST': {'Value': '', 'Status': 0, 'OverallFastest': False, 'PersonalFastest': False}}, 'BestLapTime': {'Value': ''}, 'LastLapTime': {'Value': '', 'Status': 0, 'OverallFastest': False, 'PersonalFastest': False}}, '20': {'GapToLeader': '', 'IntervalToPositionAhead': {'Value': '', 'Catching': False}, 'Line': 13, 'Position': '13', 'ShowPosition': True, 'RacingNumber': '20', 'Retired': False, 'InPit': False, 'PitOut': False, 'Stopped': False, 'Status': 64, 'Sectors': [{'Stopped': False, 'Value': '', 'Status': 0, 'OverallFastest': False, 'PersonalFastest': False, 'Segments': [{'Status': 2064}, {'Status': 2064}, {'Status': 2064}, {'Status': 2048}, {'Status': 2048}, {'Status': 2048}, {'Status': 2048}, {'Status': 2048}, {'Status': 2048}]}, {'Stopped': False, 'Value': '', 'Status': 0, 'OverallFastest': False, 'PersonalFastest': False, 'Segments': [{'Status': 2048}, {'Status': 2048}, {'Status': 2048}, {'Status': 2048}, {'Status': 2048}, {'Status': 2048}, {'Status': 2048}]}, {'Stopped': False, 'Value': '', 'Status': 0, 'OverallFastest': False, 'PersonalFastest': False, 'Segments': [{'Status': 2048}, {'Status': 2048}, {'Status': 2048}, {'Status': 2048}, {'Status': 2048}, {'Status': 2048}, {'Status': 2048}, {'Status': 2048}, {'Status': 2048}]}], 'Speeds': {'I1': {'Value': '', 'Status': 0, 'OverallFastest': False, 'PersonalFastest': False}, 'I2': {'Value': '', 'Status': 0, 'OverallFastest': False, 'PersonalFastest': False}, 'FL': {'Value': '', 'Status': 0, 'OverallFastest': False, 'PersonalFastest': False}, 'ST': {'Value': '', 'Status': 0, 'OverallFastest': False, 'PersonalFastest': False}}, 'BestLapTime': {'Value': ''}, 'LastLapTime': {'Value': '', 'Status': 0, 'OverallFastest': False, 'PersonalFastest': False}}, '77': {'GapToLeader': '', 'IntervalToPositionAhead': {'Value': '', 'Catching': False}, 'Line': 14, 'Position': '14', 'ShowPosition': True, 'RacingNumber': '77', 'Retired': False, 'InPit': False, 'PitOut': False, 'Stopped': False, 'Status': 64, 'Sectors': [{'Stopped': False, 'Value': '', 'Status': 0, 'OverallFastest': False, 'PersonalFastest': False, 'Segments': [{'Status': 2064}, {'Status': 2064}, {'Status': 2064}, {'Status': 2048}, {'Status': 2048}, {'Status': 2048}, {'Status': 2048}, {'Status': 2048}, {'Status': 2048}]}, {'Stopped': False, 'Value': '', 'Status': 0, 'OverallFastest': False, 'PersonalFastest': False, 'Segments': [{'Status': 2048}, {'Status': 2048}, {'Status': 2048}, {'Status': 2048}, {'Status': 2048}, {'Status': 2048}, {'Status': 2048}]}, {'Stopped': False, 'Value': '', 'Status': 0, 'OverallFastest': False, 'PersonalFastest': False, 'Segments': [{'Status': 2048}, {'Status': 2048}, {'Status': 2048}, {'Status': 2048}, {'Status': 2048}, {'Status': 2048}, {'Status': 2048}, {'Status': 2048}, {'Status': 2048}]}], 'Speeds': {'I1': {'Value': '', 'Status': 0, 'OverallFastest': False, 'PersonalFastest': False}, 'I2': {'Value': '', 'Status': 0, 'OverallFastest': False, 'PersonalFastest': False}, 'FL': {'Value': '', 'Status': 0, 'OverallFastest': False, 'PersonalFastest': False}, 'ST': {'Value': '', 'Status': 0, 'OverallFastest': False, 'PersonalFastest': False}}, 'BestLapTime': {'Value': ''}, 'LastLapTime': {'Value': '', 'Status': 0, 'OverallFastest': False, 'PersonalFastest': False}}, '1': {'GapToLeader': '', 'IntervalToPositionAhead': {'Value': '', 'Catching': False}, 'Line': 15, 'Position': '15', 'ShowPosition': True, 'RacingNumber': '1', 'Retired': False, 'InPit': False, 'PitOut': False, 'Stopped': False, 'Status': 64, 'Sectors': [{'Stopped': False, 'Value': '', 'Status': 0, 'OverallFastest': False, 'PersonalFastest': False, 'Segments': [{'Status': 2064}, {'Status': 2064}, {'Status': 2064}, {'Status': 2048}, {'Status': 2048}, {'Status': 2048}, {'Status': 2048}, {'Status': 2048}, {'Status': 2048}]}, {'Stopped': False, 'Value': '', 'Status': 0, 'OverallFastest': False, 'PersonalFastest': False, 'Segments': [{'Status': 2048}, {'Status': 2048}, {'Status': 2048}, {'Status': 2048}, {'Status': 2048}, {'Status': 2048}, {'Status': 2048}]}, {'Stopped': False, 'Value': '', 'Status': 0, 'OverallFastest': False, 'PersonalFastest': False, 'Segments': [{'Status': 2048}, {'Status': 2048}, {'Status': 2048}, {'Status': 2048}, {'Status': 2048}, {'Status': 2048}, {'Status': 2048}, {'Status': 2048}, {'Status': 2048}]}], 'Speeds': {'I1': {'Value': '', 'Status': 0, 'OverallFastest': False, 'PersonalFastest': False}, 'I2': {'Value': '', 'Status': 0, 'OverallFastest': False, 'PersonalFastest': False}, 'FL': {'Value': '', 'Status': 0, 'OverallFastest': False, 'PersonalFastest': False}, 'ST': {'Value': '', 'Status': 0, 'OverallFastest': False, 'PersonalFastest': False}}, 'BestLapTime': {'Value': ''}, 'LastLapTime': {'Value': '', 'Status': 0, 'OverallFastest': False, 'PersonalFastest': False}}, '22': {'GapToLeader': '', 'IntervalToPositionAhead': {'Value': '', 'Catching': False}, 'Line': 16, 'Position': '16', 'ShowPosition': True, 'RacingNumber': '22', 'Retired': False, 'InPit': False, 'PitOut': False, 'Stopped': False, 'Status': 64, 'Sectors': [{'Stopped': False, 'Value': '', 'Status': 0, 'OverallFastest': False, 'PersonalFastest': False, 'Segments': [{'Status': 2064}, {'Status': 2064}, {'Status': 2064}, {'Status': 2048}, {'Status': 2048}, {'Status': 2048}, {'Status': 2048}, {'Status': 2048}, {'Status': 2048}]}, {'Stopped': False, 'Value': '', 'Status': 0, 'OverallFastest': False, 'PersonalFastest': False, 'Segments': [{'Status': 2048}, {'Status': 2048}, {'Status': 2048}, {'Status': 2048}, {'Status': 2048}, {'Status': 2048}, {'Status': 2048}]}, {'Stopped': False, 'Value': '', 'Status': 0, 'OverallFastest': False, 'PersonalFastest': False, 'Segments': [{'Status': 2048}, {'Status': 2048}, {'Status': 2048}, {'Status': 2048}, {'Status': 2048}, {'Status': 2048}, {'Status': 2048}, {'Status': 2048}, {'Status': 2048}]}], 'Speeds': {'I1': {'Value': '', 'Status': 0, 'OverallFastest': False, 'PersonalFastest': False}, 'I2': {'Value': '', 'Status': 0, 'OverallFastest': False, 'PersonalFastest': False}, 'FL': {'Value': '', 'Status': 0, 'OverallFastest': False, 'PersonalFastest': False}, 'ST': {'Value': '', 'Status': 0, 'OverallFastest': False, 'PersonalFastest': False}}, 'BestLapTime': {'Value': ''}, 'LastLapTime': {'Value': '', 'Status': 0, 'OverallFastest': False, 'PersonalFastest': False}}, '23': {'GapToLeader': '', 'IntervalToPositionAhead': {'Value': '', 'Catching': False}, 'Line': 17, 'Position': '17', 'ShowPosition': True, 'RacingNumber': '23', 'Retired': False, 'InPit': False, 'PitOut': False, 'Stopped': False, 'Status': 64, 'Sectors': [{'Stopped': False, 'Value': '', 'Status': 0, 'OverallFastest': False, 'PersonalFastest': False, 'Segments': [{'Status': 2064}, {'Status': 2064}, {'Status': 2064}, {'Status': 2048}, {'Status': 2048}, {'Status': 2048}, {'Status': 2048}, {'Status': 2048}, {'Status': 2048}]}, {'Stopped': False, 'Value': '', 'Status': 0, 'OverallFastest': False, 'PersonalFastest': False, 'Segments': [{'Status': 2048}, {'Status': 2048}, {'Status': 2048}, {'Status': 2048}, {'Status': 2048}, {'Status': 2048}, {'Status': 2048}]}, {'Stopped': False, 'Value': '', 'Status': 0, 'OverallFastest': False, 'PersonalFastest': False, 'Segments': [{'Status': 2048}, {'Status': 2048}, {'Status': 2048}, {'Status': 2048}, {'Status': 2048}, {'Status': 2048}, {'Status': 2048}, {'Status': 2048}, {'Status': 2048}]}], 'Speeds': {'I1': {'Value': '', 'Status': 0, 'OverallFastest': False, 'PersonalFastest': False}, 'I2': {'Value': '', 'Status': 0, 'OverallFastest': False, 'PersonalFastest': False}, 'FL': {'Value': '', 'Status': 0, 'OverallFastest': False, 'PersonalFastest': False}, 'ST': {'Value': '', 'Status': 0, 'OverallFastest': False, 'PersonalFastest': False}}, 'BestLapTime': {'Value': ''}, 'LastLapTime': {'Value': '', 'Status': 0, 'OverallFastest': False, 'PersonalFastest': False}}, '21': {'GapToLeader': '', 'IntervalToPositionAhead': {'Value': '', 'Catching': False}, 'Line': 18, 'Position': '18', 'ShowPosition': True, 'RacingNumber': '21', 'Retired': False, 'InPit': False, 'PitOut': False, 'Stopped': False, 'Status': 64, 'Sectors': [{'Stopped': False, 'Value': '', 'Status': 0, 'OverallFastest': False, 'PersonalFastest': False, 'Segments': [{'Status': 2064}, {'Status': 2064}, {'Status': 2064}, {'Status': 2048}, {'Status': 2048}, {'Status': 2048}, {'Status': 2048}, {'Status': 2048}, {'Status': 2048}]}, {'Stopped': False, 'Value': '', 'Status': 0, 'OverallFastest': False, 'PersonalFastest': False, 'Segments': [{'Status': 2048}, {'Status': 2048}, {'Status': 2048}, {'Status': 2048}, {'Status': 2048}, {'Status': 2048}, {'Status': 2048}]}, {'Stopped': False, 'Value': '', 'Status': 0, 'OverallFastest': False, 'PersonalFastest': False, 'Segments': [{'Status': 2048}, {'Status': 2048}, {'Status': 2048}, {'Status': 2048}, {'Status': 2048}, {'Status': 2048}, {'Status': 2048}, {'Status': 2048}, {'Status': 2048}]}], 'Speeds': {'I1': {'Value': '', 'Status': 0, 'OverallFastest': False, 'PersonalFastest': False}, 'I2': {'Value': '', 'Status': 0, 'OverallFastest': False, 'PersonalFastest': False}, 'FL': {'Value': '', 'Status': 0, 'OverallFastest': False, 'PersonalFastest': False}, 'ST': {'Value': '', 'Status': 0, 'OverallFastest': False, 'PersonalFastest': False}}, 'BestLapTime': {'Value': ''}, 'LastLapTime': {'Value': '', 'Status': 0, 'OverallFastest': False, 'PersonalFastest': False}}, '4': {'GapToLeader': '', 'IntervalToPositionAhead': {'Value': '', 'Catching': False}, 'Line': 19, 'Position': '19', 'ShowPosition': True, 'RacingNumber': '4', 'Retired': False, 'InPit': False, 'PitOut': False, 'Stopped': False, 'Status': 64, 'Sectors': [{'Stopped': False, 'Value': '', 'Status': 0, 'OverallFastest': False, 'PersonalFastest': False, 'Segments': [{'Status': 2064}, {'Status': 2064}, {'Status': 2064}, {'Status': 2048}, {'Status': 2048}, {'Status': 2048}, {'Status': 2048}, {'Status': 2048}, {'Status': 2048}]}, {'Stopped': False, 'Value': '', 'Status': 0, 'OverallFastest': False, 'PersonalFastest': False, 'Segments': [{'Status': 2048}, {'Status': 2048}, {'Status': 2048}, {'Status': 2048}, {'Status': 2048}, {'Status': 2048}, {'Status': 2048}]}, {'Stopped': False, 'Value': '', 'Status': 0, 'OverallFastest': False, 'PersonalFastest': False, 'Segments': [{'Status': 2048}, {'Status': 2048}, {'Status': 2048}, {'Status': 2048}, {'Status': 2048}, {'Status': 2048}, {'Status': 2048}, {'Status': 2048}, {'Status': 2048}]}], 'Speeds': {'I1': {'Value': '', 'Status': 0, 'OverallFastest': False, 'PersonalFastest': False}, 'I2': {'Value': '', 'Status': 0, 'OverallFastest': False, 'PersonalFastest': False}, 'FL': {'Value': '', 'Status': 0, 'OverallFastest': False, 'PersonalFastest': False}, 'ST': {'Value': '', 'Status': 0, 'OverallFastest': False, 'PersonalFastest': False}}, 'BestLapTime': {'Value': ''}, 'LastLapTime': {'Value': '', 'Status': 0, 'OverallFastest': False, 'PersonalFastest': False}}, '2': {'GapToLeader': '', 'IntervalToPositionAhead': {'Value': '', 'Catching': False}, 'Line': 20, 'Position': '20', 'ShowPosition': True, 'RacingNumber': '2', 'Retired': False, 'InPit': False, 'PitOut': False, 'Stopped': False, 'Status': 64, 'Sectors': [{'Stopped': False, 'Value': '', 'Status': 0, 'OverallFastest': False, 'PersonalFastest': False, 'Segments': [{'Status': 2064}, {'Status': 2064}, {'Status': 2064}, {'Status': 2048}, {'Status': 2048}, {'Status': 2048}, {'Status': 2048}, {'Status': 2048}, {'Status': 2048}]}, {'Stopped': False, 'Value': '', 'Status': 0, 'OverallFastest': False, 'PersonalFastest': False, 'Segments': [{'Status': 2048}, {'Status': 2048}, {'Status': 2048}, {'Status': 2048}, {'Status': 2048}, {'Status': 2048}, {'Status': 2048}]}, {'Stopped': False, 'Value': '', 'Status': 0, 'OverallFastest': False, 'PersonalFastest': False, 'Segments': [{'Status': 2048}, {'Status': 2048}, {'Status': 2048}, {'Status': 2048}, {'Status': 2048}, {'Status': 2048}, {'Status': 2048}, {'Status': 2048}, {'Status': 0}]}], 'Speeds': {'I1': {'Value': '', 'Status': 0, 'OverallFastest': False, 'PersonalFastest': False}, 'I2': {'Value': '', 'Status': 0, 'OverallFastest': False, 'PersonalFastest': False}, 'FL': {'Value': '', 'Status': 0, 'OverallFastest': False, 'PersonalFastest': False}, 'ST': {'Value': '', 'Status': 0, 'OverallFastest': False, 'PersonalFastest': False}}, 'BestLapTime': {'Value': ''}, 'LastLapTime': {'Value': '', 'Status': 0, 'OverallFastest': False, 'PersonalFastest': False}}}, 'Withheld': False, '_kf': True}}, error=None, error_data=None, is_hub_exception=None, progress_update=None, state=None)\n",
      "Heartbeat\n",
      "Heartbeat {'Utc': '2023-03-19T16:38:05.6876071Z', '_kf': True}\n",
      "CarData.z\n",
      "CarData.z 7ZS9DsIwDITfxXOp4vyarBVvAAuIoUKVQEIdoFvVd6dNZwZuoYMXJ4p8kn0XfSMd+uH16N6ULyOdhhtlssa6nXE73h85ZieZXS1WxMj+TBU17WvuHomX0tzbvu+e5cFQNhXZUl2pvtSw3pdjmkoDpPOgjs3vQi5CdEOGR43oqIKGgZpj4fjR/K1DhUAc644JFDrUHI/+nBDAUSPqakLNEcycWfodUL5mkRS8AkoBpYBSQG0QUMFLMlb5pHxSPimftsenJBJjTAooBZQCSgH1F0Bdpw8=\n",
      "Position.z\n",
      "Position.z 7ZY9a8NADIb/i2Y7WNJ975lbqIc2pYMpGUyJU2J3Mv7v9UcI55Kq1PMtxoZ7kO6VeHAPj+e27upzA+G1h7I+HduuOn1CACqI84Jz9CWawC4g75xXZBQdIIN9013qYwuhB5weT13VfY2f8NCUl+r9YzzyDCFH9iaDFwi6UBkcICC6IQOSEPR2RnIdI0pCyOkZoQIjBAuJUYxLZ97FzIbboNibYjczBm3MGLFOsdQhverNiYxa6rCNMyAxA2K+3idG5AhwQcjG1yFxojxNcmrNr+qw2Bpd66wQMelfErBiGe1nZnyJGBYjuL85Su7t7kS1FnszC4Mq3jbz/9isGAFPZydkWu4b48QISC2M8TdkGLK/DKJ244xo3JxkkGSQZJBkkA0GYavQY/oHSQZJBkkG2WIQqzUyczJIMkgySDLIT4O8Dd8=\n",
      "ExtrapolatedClock\n",
      "ExtrapolatedClock {'Utc': '2023-03-19T16:38:15.6399535Z', 'Remaining': '02:00:00', 'Extrapolating': False, '_kf': True}\n",
      "TopThree\n",
      "TopThree {'Withheld': False, 'Lines': [{'Position': '1', 'ShowPosition': True, 'RacingNumber': '11', 'Tla': 'PER', 'BroadcastName': 'S PEREZ', 'FullName': 'Sergio PEREZ', 'LapTime': '', 'LapState': 64, 'DiffToAhead': 'LAP 1', 'DiffToLeader': 'LAP 1', 'OverallFastest': False, 'PersonalFastest': False, 'Team': 'Red Bull Racing', 'TeamColour': '3671C6'}, {'Position': '2', 'ShowPosition': True, 'RacingNumber': '14', 'Tla': 'ALO', 'BroadcastName': 'F ALONSO', 'FullName': 'Fernando ALONSO', 'LapTime': '', 'LapState': 64, 'DiffToAhead': '', 'DiffToLeader': '', 'OverallFastest': False, 'PersonalFastest': False, 'Team': 'Aston Martin', 'TeamColour': '358C75'}, {'Position': '3', 'ShowPosition': True, 'RacingNumber': '63', 'Tla': 'RUS', 'BroadcastName': 'G RUSSELL', 'FullName': 'George RUSSELL', 'LapTime': '', 'LapState': 64, 'DiffToAhead': '', 'DiffToLeader': '', 'OverallFastest': False, 'PersonalFastest': False, 'Team': 'Mercedes', 'TeamColour': '6CD3BF'}], '_kf': True}\n",
      "TimingStats\n",
      "TimingStats {'Withheld': False, 'Lines': {'1': {'Line': 1, 'RacingNumber': '1', 'PersonalBestLapTime': {'Value': ''}, 'BestSectors': [{'Value': ''}, {'Value': ''}, {'Value': ''}], 'BestSpeeds': {'I1': {'Value': ''}, 'I2': {'Value': ''}, 'FL': {'Value': ''}, 'ST': {'Value': ''}}}, '2': {'Line': 2, 'RacingNumber': '2', 'PersonalBestLapTime': {'Value': ''}, 'BestSectors': [{'Value': ''}, {'Value': ''}, {'Value': ''}], 'BestSpeeds': {'I1': {'Value': ''}, 'I2': {'Value': ''}, 'FL': {'Value': ''}, 'ST': {'Value': ''}}}, '4': {'Line': 3, 'RacingNumber': '4', 'PersonalBestLapTime': {'Value': ''}, 'BestSectors': [{'Value': ''}, {'Value': ''}, {'Value': ''}], 'BestSpeeds': {'I1': {'Value': ''}, 'I2': {'Value': ''}, 'FL': {'Value': ''}, 'ST': {'Value': ''}}}, '10': {'Line': 4, 'RacingNumber': '10', 'PersonalBestLapTime': {'Value': ''}, 'BestSectors': [{'Value': ''}, {'Value': ''}, {'Value': ''}], 'BestSpeeds': {'I1': {'Value': ''}, 'I2': {'Value': ''}, 'FL': {'Value': ''}, 'ST': {'Value': ''}}}, '11': {'Line': 5, 'RacingNumber': '11', 'PersonalBestLapTime': {'Value': ''}, 'BestSectors': [{'Value': ''}, {'Value': ''}, {'Value': ''}], 'BestSpeeds': {'I1': {'Value': ''}, 'I2': {'Value': ''}, 'FL': {'Value': ''}, 'ST': {'Value': ''}}}, '14': {'Line': 6, 'RacingNumber': '14', 'PersonalBestLapTime': {'Value': ''}, 'BestSectors': [{'Value': ''}, {'Value': ''}, {'Value': ''}], 'BestSpeeds': {'I1': {'Value': ''}, 'I2': {'Value': ''}, 'FL': {'Value': ''}, 'ST': {'Value': ''}}}, '16': {'Line': 7, 'RacingNumber': '16', 'PersonalBestLapTime': {'Value': ''}, 'BestSectors': [{'Value': ''}, {'Value': ''}, {'Value': ''}], 'BestSpeeds': {'I1': {'Value': ''}, 'I2': {'Value': ''}, 'FL': {'Value': ''}, 'ST': {'Value': ''}}}, '18': {'Line': 8, 'RacingNumber': '18', 'PersonalBestLapTime': {'Value': ''}, 'BestSectors': [{'Value': ''}, {'Value': ''}, {'Value': ''}], 'BestSpeeds': {'I1': {'Value': ''}, 'I2': {'Value': ''}, 'FL': {'Value': ''}, 'ST': {'Value': ''}}}, '20': {'Line': 9, 'RacingNumber': '20', 'PersonalBestLapTime': {'Value': ''}, 'BestSectors': [{'Value': ''}, {'Value': ''}, {'Value': ''}], 'BestSpeeds': {'I1': {'Value': ''}, 'I2': {'Value': ''}, 'FL': {'Value': ''}, 'ST': {'Value': ''}}}, '21': {'Line': 10, 'RacingNumber': '21', 'PersonalBestLapTime': {'Value': ''}, 'BestSectors': [{'Value': ''}, {'Value': ''}, {'Value': ''}], 'BestSpeeds': {'I1': {'Value': ''}, 'I2': {'Value': ''}, 'FL': {'Value': ''}, 'ST': {'Value': ''}}}, '22': {'Line': 11, 'RacingNumber': '22', 'PersonalBestLapTime': {'Value': ''}, 'BestSectors': [{'Value': ''}, {'Value': ''}, {'Value': ''}], 'BestSpeeds': {'I1': {'Value': ''}, 'I2': {'Value': ''}, 'FL': {'Value': ''}, 'ST': {'Value': ''}}}, '23': {'Line': 12, 'RacingNumber': '23', 'PersonalBestLapTime': {'Value': ''}, 'BestSectors': [{'Value': ''}, {'Value': ''}, {'Value': ''}], 'BestSpeeds': {'I1': {'Value': ''}, 'I2': {'Value': ''}, 'FL': {'Value': ''}, 'ST': {'Value': ''}}}, '24': {'Line': 13, 'RacingNumber': '24', 'PersonalBestLapTime': {'Value': ''}, 'BestSectors': [{'Value': ''}, {'Value': ''}, {'Value': ''}], 'BestSpeeds': {'I1': {'Value': ''}, 'I2': {'Value': ''}, 'FL': {'Value': ''}, 'ST': {'Value': ''}}}, '27': {'Line': 14, 'RacingNumber': '27', 'PersonalBestLapTime': {'Value': ''}, 'BestSectors': [{'Value': ''}, {'Value': ''}, {'Value': ''}], 'BestSpeeds': {'I1': {'Value': ''}, 'I2': {'Value': ''}, 'FL': {'Value': ''}, 'ST': {'Value': ''}}}, '31': {'Line': 15, 'RacingNumber': '31', 'PersonalBestLapTime': {'Value': ''}, 'BestSectors': [{'Value': ''}, {'Value': ''}, {'Value': ''}], 'BestSpeeds': {'I1': {'Value': ''}, 'I2': {'Value': ''}, 'FL': {'Value': ''}, 'ST': {'Value': ''}}}, '44': {'Line': 16, 'RacingNumber': '44', 'PersonalBestLapTime': {'Value': ''}, 'BestSectors': [{'Value': ''}, {'Value': ''}, {'Value': ''}], 'BestSpeeds': {'I1': {'Value': ''}, 'I2': {'Value': ''}, 'FL': {'Value': ''}, 'ST': {'Value': ''}}}, '55': {'Line': 17, 'RacingNumber': '55', 'PersonalBestLapTime': {'Value': ''}, 'BestSectors': [{'Value': ''}, {'Value': ''}, {'Value': ''}], 'BestSpeeds': {'I1': {'Value': ''}, 'I2': {'Value': ''}, 'FL': {'Value': ''}, 'ST': {'Value': ''}}}, '63': {'Line': 18, 'RacingNumber': '63', 'PersonalBestLapTime': {'Value': ''}, 'BestSectors': [{'Value': ''}, {'Value': ''}, {'Value': ''}], 'BestSpeeds': {'I1': {'Value': ''}, 'I2': {'Value': ''}, 'FL': {'Value': ''}, 'ST': {'Value': ''}}}, '77': {'Line': 19, 'RacingNumber': '77', 'PersonalBestLapTime': {'Value': ''}, 'BestSectors': [{'Value': ''}, {'Value': ''}, {'Value': ''}], 'BestSpeeds': {'I1': {'Value': ''}, 'I2': {'Value': ''}, 'FL': {'Value': ''}, 'ST': {'Value': ''}}}, '81': {'Line': 20, 'RacingNumber': '81', 'PersonalBestLapTime': {'Value': ''}, 'BestSectors': [{'Value': ''}, {'Value': ''}, {'Value': ''}], 'BestSpeeds': {'I1': {'Value': ''}, 'I2': {'Value': ''}, 'FL': {'Value': ''}, 'ST': {'Value': ''}}}}, 'SessionType': 'Race', '_kf': True}\n",
      "TimingAppData\n",
      "TimingAppData {'Lines': {'1': {'RacingNumber': '1', 'Stints': [], 'Line': 15, 'GridPos': '15'}, '2': {'RacingNumber': '2', 'Stints': [], 'Line': 20, 'GridPos': '20'}, '4': {'RacingNumber': '4', 'Stints': [], 'Line': 19, 'GridPos': '19'}, '10': {'RacingNumber': '10', 'Stints': [], 'Line': 9, 'GridPos': '9'}, '11': {'RacingNumber': '11', 'Stints': [], 'Line': 1, 'GridPos': '1'}, '14': {'RacingNumber': '14', 'Stints': [], 'Line': 2, 'GridPos': '2'}, '16': {'RacingNumber': '16', 'Stints': [], 'Line': 12, 'GridPos': '12'}, '18': {'RacingNumber': '18', 'Stints': [], 'Line': 5, 'GridPos': '5'}, '20': {'RacingNumber': '20', 'Stints': [], 'Line': 13, 'GridPos': '13'}, '21': {'RacingNumber': '21', 'Stints': [], 'Line': 18, 'GridPos': '18'}, '22': {'RacingNumber': '22', 'Stints': [], 'Line': 16, 'GridPos': '16'}, '23': {'RacingNumber': '23', 'Stints': [], 'Line': 17, 'GridPos': '17'}, '24': {'RacingNumber': '24', 'Stints': [], 'Line': 11, 'GridPos': '11'}, '27': {'RacingNumber': '27', 'Stints': [], 'Line': 10, 'GridPos': '10'}, '31': {'RacingNumber': '31', 'Stints': [], 'Line': 6, 'GridPos': '6'}, '44': {'RacingNumber': '44', 'Stints': [], 'Line': 7, 'GridPos': '7'}, '55': {'RacingNumber': '55', 'Stints': [], 'Line': 4, 'GridPos': '4'}, '63': {'RacingNumber': '63', 'Stints': [], 'Line': 3, 'GridPos': '3'}, '77': {'RacingNumber': '77', 'Stints': [], 'Line': 14, 'GridPos': '14'}, '81': {'RacingNumber': '81', 'Stints': [], 'Line': 8, 'GridPos': '8'}}, '_kf': True}\n",
      "WeatherData\n",
      "WeatherData {'AirTemp': '26.1', 'Humidity': '58.0', 'Pressure': '1010.7', 'Rainfall': '0', 'TrackTemp': '32.4', 'WindDirection': '318', 'WindSpeed': '2.9', '_kf': True}\n",
      "TrackStatus\n",
      "TrackStatus {'Status': '1', 'Message': 'AllClear', '_kf': True}\n",
      "DriverList\n",
      "RaceControlMessages\n",
      "RaceControlMessages {'Messages': [{'Utc': '2023-03-19T16:10:31', 'Lap': 1, 'Category': 'Other', 'Message': 'PINK HEAD PADDING MATERIAL MUST BE USED'}, {'Utc': '2023-03-19T16:20:00', 'Lap': 1, 'Category': 'Flag', 'Flag': 'GREEN', 'Scope': 'Track', 'Message': 'GREEN LIGHT - PIT EXIT OPEN'}, {'Utc': '2023-03-19T16:30:00', 'Lap': 1, 'Category': 'Other', 'Message': 'PIT EXIT CLOSED'}], '_kf': True}\n",
      "SessionInfo\n",
      "SessionData\n",
      "LapCount\n",
      "TimingData\n",
      "GapToLeader\n",
      "GapToLeader\n",
      "GapToLeader\n",
      "GapToLeader\n",
      "GapToLeader\n",
      "GapToLeader\n",
      "GapToLeader\n",
      "GapToLeader\n",
      "GapToLeader\n",
      "GapToLeader\n",
      "GapToLeader\n",
      "GapToLeader\n",
      "GapToLeader\n",
      "GapToLeader\n",
      "GapToLeader\n",
      "GapToLeader\n",
      "GapToLeader\n",
      "GapToLeader\n",
      "GapToLeader\n",
      "GapToLeader\n",
      "CarData.z 7ZQxC8IwEIX/y82t5JJckmYt/gNdFIciBQXpoN1K/7ttugu+RYdbLiHcg7v3wjfRfhif9/5F+TzRcbxSJmusq42ruTlwyC5llh2bJnCSE1XUds+leyJeS3vrhqF/lAdD2VRkS3Wl+lJlu6/HPJcGSOdBHZvvhVyE6IYMjxrQURMaBmqOheNH87cOFQJxbDtGUOhQczz6c0TAUQPqakTNSZg5i/QToLxtJDIroBRQCigF1P8BSlIjPnoFlAJKAaWA+gmgLvMb\n",
      "Position.z 7Za7asNAEEX/ZWrJ7Mzs7Kt3nUBcJA4pTHAhguVgK5XRv0cPY9bBmRDX2wgJdJi7d1cHneBxf2y6Zt9Cej3Bqtltj91m9wkJyBDXhmuMK3SJQ0K7CFEQaQ0VLNvu0GyPkE6A4+Wp23RfwyM8tKvD5v1jeOUZUo0cXQUvkMTYCtaQEENfAWkIRj8hteSI1RAKMiFkMEPQaIxlnJPFkDN3rAbVbJbDxDj0OePUOWaeQ3KVLaiMneewzzsgtQNiPq8nR/QKcEbI58shdUd53MkxWryaw2o0Os+5QtSmf2nAq2MkTsxwkzGsVnD75Fg9280dFVGzuZlBm5829//avFoBj++OyHi4L0xQKyA7My5ekL6v/hKILFDEeJJikGKQYpBikDsMwjh8OqH8gxSDFIMUg9xjEPFiTPDFIMUgxSDFID8N8tZ/Aw==\n"
     ]
    },
    {
     "name": "stderr",
     "output_type": "stream",
     "text": [
      "DEBUG:signalr_async.client:Raw message received: WSMessage(type=<WSMsgType.TEXT: 1>, data='{\"C\":\"d-F23263D5-B,0|Df,0|Dg,11|d,94|p,89C|o,89B|a,1|Y,D|Dh,0|n,1|W,2|c,25|i,1|X,C|k,3|l,1|r,2|Z,1|s,59F\",\"M\":[{\"H\":\"Streaming\",\"M\":\"feed\",\"A\":[\"CarData.z\",\"7ZS9CsMwDITfRXMSLP/ba+gbtEtLh1ACLZQMbbaQd2/izB16SzNokY3RgXRnvokOw/h69G/Kl4lO440yaaVNrUzN6cg+m5jZNSEmxyGeqaK2ey3dE/Fa2ns3DP2zPCjKqiJdqinVluq2+3rMc2mAdBbUsfpdyEWIbsjwqB4dNaJhoOZoOH40f21QIRDHtmMAhQY1x6I/xzlwVI+6GlBzImbOIv0OKN8on2xwVgAlgBJACaD2Byirk9WaBVACKAGUAGp/gAoqmaiCAEoAJYASQP0FUNf5Aw==\",\"2023-03-19T16:38:16.7093807Z\"]},{\"H\":\"Streaming\",\"M\":\"feed\",\"A\":[\"Position.z\",\"7ZQ9a8MwEIb/y8120OlOn3vmFpqhTekQSgZTkpTEnYL/e/0RglLSK/V8i5FBD/fqlXjO8Hg4NW1z2EN+PcOq2W1P7Wb3CRmssVQbqjGt0GeKGd0iJE7B2TVUsNy3x2Z7gnwGHD5P7ab96n/hYb86bt4/+i3PkGuk5Ct4gewMV7CGjBi7CqyEYAojUrsSYQmx0Y2INVggaCSGCadkKZbMjNOgmI0pjozHUDJenGOmOdbdZIsiw9McCmUHVuzAEl3OUyJyBTghNpTHseKN0nCTQ7R0M4fEaPYy5wYRm/6lgSCOcWlk+kXBkFjB/ZfDcra7N+qcmM1PDHL52vz/awtiBTTsHZDhcV+ZKFZgeWJ8uiJdV/1lEL8wxIliUIOoQdQgapAZBrG9QUwkNYgaRA2iBplhEHYcAyc1iBpEDaIGmWEQ3xuE2alB1CBqEDXIT4O8dd8=\",\"2023-03-19T16:38:16.6548445Z\"]}]}', extra='')\n"
     ]
    },
    {
     "name": "stdout",
     "output_type": "stream",
     "text": [
      "CarData.z 7ZS9CsMwDITfRXMSLP/ba+gbtEtLh1ACLZQMbbaQd2/izB16SzNokY3RgXRnvokOw/h69G/Kl4lO440yaaVNrUzN6cg+m5jZNSEmxyGeqaK2ey3dE/Fa2ns3DP2zPCjKqiJdqinVluq2+3rMc2mAdBbUsfpdyEWIbsjwqB4dNaJhoOZoOH40f21QIRDHtmMAhQY1x6I/xzlwVI+6GlBzImbOIv0OKN8on2xwVgAlgBJACaD2Byirk9WaBVACKAGUAGp/gAoqmaiCAEoAJYASQP0FUNf5Aw==\n",
      "Position.z 7ZQ9a8MwEIb/y8120OlOn3vmFpqhTekQSgZTkpTEnYL/e/0RglLSK/V8i5FBD/fqlXjO8Hg4NW1z2EN+PcOq2W1P7Wb3CRmssVQbqjGt0GeKGd0iJE7B2TVUsNy3x2Z7gnwGHD5P7ab96n/hYb86bt4/+i3PkGuk5Ct4gewMV7CGjBi7CqyEYAojUrsSYQmx0Y2INVggaCSGCadkKZbMjNOgmI0pjozHUDJenGOmOdbdZIsiw9McCmUHVuzAEl3OUyJyBTghNpTHseKN0nCTQ7R0M4fEaPYy5wYRm/6lgSCOcWlk+kXBkFjB/ZfDcra7N+qcmM1PDHL52vz/awtiBTTsHZDhcV+ZKFZgeWJ8uiJdV/1lEL8wxIliUIOoQdQgapAZBrG9QUwkNYgaRA2iBplhEHYcAyc1iBpEDaIGmWEQ3xuE2alB1CBqEDXIT4O8dd8=\n"
     ]
    },
    {
     "name": "stderr",
     "output_type": "stream",
     "text": [
      "DEBUG:signalr_async.client:Raw message received: WSMessage(type=<WSMsgType.TEXT: 1>, data='{\"C\":\"d-F23263D5-B,0|Df,0|Dg,11|d,94|p,89C|o,89C|a,1|Y,D|Dh,0|n,1|W,2|c,25|i,1|X,C|k,3|l,1|r,2|Z,1|s,59F\",\"M\":[{\"H\":\"Streaming\",\"M\":\"feed\",\"A\":[\"Position.z\",\"7Ze7asNAEEX/ZWrJaB777F0nEBWJQwoRXIhgOdhKZfTv0cOYdXAmxPU2QoI9zN27ywGd4HF/bPt230F8PUHd7rbHvtl9QgSqiMuKSww12sg+ol15Fo8ON1DAuusP7fYI8QQ4PZ76pv8aP+Ghqw/N+8e45BliiRxsAS8QTSUFbCAi+qEA0hAMbkZKkyKiIeTNjFCFCYKVxgjjkiz4lLljN6hmE/YzY9GljFXnVMscMlfZvMrIModd2gGpHRDzeT8poleAC0Iu3Q6pJ8rTSU7RwtUcVqPRec4Vojb9SwNOHWPCzIwvCcNqBbdvjujZbp6oMWo2uzAo6W2z/6/NqRXwtHZCpst9YbxaAcnC2HBBhqH4yyBuRUacYc4GyQbJBskGucMgguIoZIFkgWSBZIHcIRCHYscfmWyQbJBskGyQnwZ5G74B\",\"2023-03-19T16:38:17.7146834Z\"]}]}', extra='')\n",
      "DEBUG:signalr_async.client:Raw message received: WSMessage(type=<WSMsgType.TEXT: 1>, data='{\"C\":\"d-F23263D5-B,0|Df,0|Dg,11|d,94|p,89D|o,89C|a,1|Y,D|Dh,0|n,1|W,2|c,25|i,1|X,C|k,3|l,1|r,2|Z,1|s,59F\",\"M\":[{\"H\":\"Streaming\",\"M\":\"feed\",\"A\":[\"CarData.z\",\"7ZS9CkIxDIXfJbNK07Tpzyq+gS6Kg4igIHdQt8t9d7XODp7NkiUtJQeSc8o30mp43C6nO9XdSJvHkSp552XuZM5lzVolV9ZF1iJR05ZmtDzcXt0j8bssz4dhOF3bg6PqZuRblVZDq/Fzfx/T1BogXQB17H4XchOiGzI8qqKjZjQM1BwPx4/m7wUVAnF8dkygUFBzAvpzYgRHVdTVhJqTMXNe0u+ASgsORTj0A6gcDFGGKENUR4iSUHyO0g2iWKMYo4xRxqh+GKVavGTfEaOSGqOMUcaov2LUfnoC\",\"2023-03-19T16:38:17.6692382Z\"]}]}', extra='')\n"
     ]
    },
    {
     "name": "stdout",
     "output_type": "stream",
     "text": [
      "Position.z 7Ze7asNAEEX/ZWrJaB777F0nEBWJQwoRXIhgOdhKZfTv0cOYdXAmxPU2QoI9zN27ywGd4HF/bPt230F8PUHd7rbHvtl9QgSqiMuKSww12sg+ol15Fo8ON1DAuusP7fYI8QQ4PZ76pv8aP+Ghqw/N+8e45BliiRxsAS8QTSUFbCAi+qEA0hAMbkZKkyKiIeTNjFCFCYKVxgjjkiz4lLljN6hmE/YzY9GljFXnVMscMlfZvMrIModd2gGpHRDzeT8poleAC0Iu3Q6pJ8rTSU7RwtUcVqPRec4Vojb9SwNOHWPCzIwvCcNqBbdvjujZbp6oMWo2uzAo6W2z/6/NqRXwtHZCpst9YbxaAcnC2HBBhqH4yyBuRUacYc4GyQbJBskGucMgguIoZIFkgWSBZIHcIRCHYscfmWyQbJBskGyQnwZ5G74B\n",
      "CarData.z 7ZS9CkIxDIXfJbNK07Tpzyq+gS6Kg4igIHdQt8t9d7XODp7NkiUtJQeSc8o30mp43C6nO9XdSJvHkSp552XuZM5lzVolV9ZF1iJR05ZmtDzcXt0j8bssz4dhOF3bg6PqZuRblVZDq/Fzfx/T1BogXQB17H4XchOiGzI8qqKjZjQM1BwPx4/m7wUVAnF8dkygUFBzAvpzYgRHVdTVhJqTMXNe0u+ASgsORTj0A6gcDFGGKENUR4iSUHyO0g2iWKMYo4xRxqh+GKVavGTfEaOSGqOMUcaov2LUfnoC\n"
     ]
    },
    {
     "name": "stderr",
     "output_type": "stream",
     "text": [
      "DEBUG:signalr_async.client:Raw message received: WSMessage(type=<WSMsgType.TEXT: 1>, data='{\"C\":\"d-F23263D5-B,0|Df,0|Dg,11|d,95|p,89D|o,89C|a,1|Y,D|Dh,0|n,1|W,2|c,25|i,1|X,C|k,3|l,1|r,2|Z,1|s,59F\",\"M\":[{\"H\":\"Streaming\",\"M\":\"feed\",\"A\":[\"Heartbeat\",{\"Utc\":\"2023-03-19T16:38:20.7032184Z\",\"_kf\":true},\"2023-03-19T16:38:19.885Z\"]}]}', extra='')\n"
     ]
    },
    {
     "name": "stdout",
     "output_type": "stream",
     "text": [
      "Heartbeat {'Utc': '2023-03-19T16:38:20.7032184Z', '_kf': True}\n"
     ]
    },
    {
     "name": "stderr",
     "output_type": "stream",
     "text": [
      "DEBUG:signalr_async.client:Raw message received: WSMessage(type=<WSMsgType.TEXT: 1>, data='{\"C\":\"d-F23263D5-B,0|Df,0|Dg,11|d,95|p,89E|o,89C|a,1|Y,D|Dh,0|n,1|W,2|c,25|i,1|X,C|k,3|l,1|r,2|Z,1|s,59F\",\"M\":[{\"H\":\"Streaming\",\"M\":\"feed\",\"A\":[\"CarData.z\",\"7ZS/CoMwEMbf5WYtuVzMv1X6Bu3S0kGK0EJxsG7iu6txFWm/rcXlEsL9yN13x9fTsenaZ/2meO3p3N0pklZaciU5hxPbKD6yPxgbmIO+UEZl1U7ZPfEcykfVNPUrPSiKKiOdoqRoUiyW+3wMQ0qAOANyrFZAdlq2WU4s2iTD1drvwaVUj85jTZ9PftTwBqAroAUFgXEsPToQFFQcg25OUYClWlRVh4rjMXEmdMujrA3KB/tPHuV2j9o9aveon/Ko2zAC\",\"2023-03-19T16:38:18.6690896Z\"]}]}', extra='')\n",
      "DEBUG:signalr_async.client:Raw message received: WSMessage(type=<WSMsgType.TEXT: 1>, data='{\"C\":\"d-F23263D5-B,0|Df,0|Dg,11|d,95|p,89E|o,89D|a,1|Y,D|Dh,0|n,1|W,2|c,25|i,1|X,C|k,3|l,1|r,2|Z,1|s,59F\",\"M\":[{\"H\":\"Streaming\",\"M\":\"feed\",\"A\":[\"Position.z\",\"7ZQ/S8RAEMW/y9SJZGb2f3+1gin0xCLIFUEuJ5dYhXx3s9nj2Mg5onWasIH98d68Hd4ID6e+HdpTB+FlhLo9HvqhOX5AAKqIy4pL9DWawC6gu9OstHZ2DwXsuuHcHnoII2D8PA7N8Dn/wn1Xn5u39/nKE4QS2ZsCniHoShWwh4DopgJIQtDbBSl1jigJIacXhCrMEKwkRjEmZ97lzD+mQdGbYrcwBm3OGFGnSjqkV96cyKikwzbPgMQMiPkyT47IEWBCyObjkPiiHF8yWvMrHRat0UVnhYhJ/5CAFWW0X5j5kDEsRnB7c5Ts7eaLai16M4lBlW+b+XtsVoyA492IxOW+Mk6MgFRijL8i01T83iBubpB5hbYG2Rpka5CtQb43yOv0BQ==\",\"2023-03-19T16:38:18.8345131Z\"]}]}', extra='')\n"
     ]
    },
    {
     "name": "stdout",
     "output_type": "stream",
     "text": [
      "CarData.z 7ZS/CoMwEMbf5WYtuVzMv1X6Bu3S0kGK0EJxsG7iu6txFWm/rcXlEsL9yN13x9fTsenaZ/2meO3p3N0pklZaciU5hxPbKD6yPxgbmIO+UEZl1U7ZPfEcykfVNPUrPSiKKiOdoqRoUiyW+3wMQ0qAOANyrFZAdlq2WU4s2iTD1drvwaVUj85jTZ9PftTwBqAroAUFgXEsPToQFFQcg25OUYClWlRVh4rjMXEmdMujrA3KB/tPHuV2j9o9aveon/Ko2zAC\n",
      "Position.z 7ZQ/S8RAEMW/y9SJZGb2f3+1gin0xCLIFUEuJ5dYhXx3s9nj2Mg5onWasIH98d68Hd4ID6e+HdpTB+FlhLo9HvqhOX5AAKqIy4pL9DWawC6gu9OstHZ2DwXsuuHcHnoII2D8PA7N8Dn/wn1Xn5u39/nKE4QS2ZsCniHoShWwh4DopgJIQtDbBSl1jigJIacXhCrMEKwkRjEmZ97lzD+mQdGbYrcwBm3OGFGnSjqkV96cyKikwzbPgMQMiPkyT47IEWBCyObjkPiiHF8yWvMrHRat0UVnhYhJ/5CAFWW0X5j5kDEsRnB7c5Ts7eaLai16M4lBlW+b+XtsVoyA492IxOW+Mk6MgFRijL8i01T83iBubpB5hbYG2Rpka5CtQb43yOv0BQ==\n"
     ]
    },
    {
     "name": "stderr",
     "output_type": "stream",
     "text": [
      "DEBUG:signalr_async.client:Raw message received: WSMessage(type=<WSMsgType.TEXT: 1>, data='{\"C\":\"d-F23263D5-B,0|Df,0|Dg,11|d,95|p,89F|o,89E|a,1|Y,D|Dh,0|n,1|W,2|c,25|i,1|X,C|k,3|l,1|r,2|Z,1|s,59F\",\"M\":[{\"H\":\"Streaming\",\"M\":\"feed\",\"A\":[\"CarData.z\",\"7de9CsIwEAfwd7m5Si6Xj0tW8Q10URyKCArSQbuVvrs1XVX0NsMt11Lyp8kl/GgHWHf97XK6Q94PsO2PkMEaSwtDC0wbDJk4Iy85JONT3EEDq/Y2jR4An2V1brvudC0PDGTTgC2VSnWl+vn+eRnHMkCUc8IcmhdBjISfs1iy0kWieLbh9+A8VZbux6v+fPNGKz4B0iNgSRoUbMe8xigMkrQ5TnpyvBdONUi7GqXNYVlzpuh7o9ISORnEUJNRpEapUWpUPUaR48RcE1FOiVKilKh6iPITUZ5dTUYFNUqNUqPqMSpORtm6vqP0V0+NUqP+y6jD+AA=\",\"2023-03-19T16:38:19.7489288Z\"]},{\"H\":\"Streaming\",\"M\":\"feed\",\"A\":[\"Position.z\",\"7ZQ9a8NADIb/i2Y7WCfd5565hWZoUzqYksGUJCVxp+D/Xn+EcKapSj1rMWe4B0mvjucCj8dz0zbHA6TXC2ya/e7c1vtPSGAqQ2VFJcYNukQhYVhFyxw5bqGA9aE9NbszpAvg8Hlq6/ar/4WHw+ZUv3/0V54hlUjRFfACyVZcwBYSYugKMBKC0Y9IaXOEJcQEOyKmwgzBSmKYcOoshpxZMA2KvTGFkXHoc8aJdaqpjrGz3oLI8FSHfJ6BETMwRNd5ckSOACfE+HwcI26Uhk0OrcVZHRJbM9c6M0RM+pcEvFjGxpHpDxlDYgT3Xw7Lvd3dqLVib25ikPPX5v4fmxcjoOHugAyP+8YEMQLDE+PiDem64i+DxFW/I3beqkHUIGoQNcgCg3A/i7GoBlGDqEHUIAsMYiNTDGoQNYgaRA2yxCDec78dNYgaRA2iBvlhkLfuGw==\",\"2023-03-19T16:38:19.7743711Z\"]}]}', extra='')\n"
     ]
    },
    {
     "name": "stdout",
     "output_type": "stream",
     "text": [
      "CarData.z 7de9CsIwEAfwd7m5Si6Xj0tW8Q10URyKCArSQbuVvrs1XVX0NsMt11Lyp8kl/GgHWHf97XK6Q94PsO2PkMEaSwtDC0wbDJk4Iy85JONT3EEDq/Y2jR4An2V1brvudC0PDGTTgC2VSnWl+vn+eRnHMkCUc8IcmhdBjISfs1iy0kWieLbh9+A8VZbux6v+fPNGKz4B0iNgSRoUbMe8xigMkrQ5TnpyvBdONUi7GqXNYVlzpuh7o9ISORnEUJNRpEapUWpUPUaR48RcE1FOiVKilKh6iPITUZ5dTUYFNUqNUqPqMSpORtm6vqP0V0+NUqP+y6jD+AA=\n",
      "Position.z 7ZQ9a8NADIb/i2Y7WCfd5565hWZoUzqYksGUJCVxp+D/Xn+EcKapSj1rMWe4B0mvjucCj8dz0zbHA6TXC2ya/e7c1vtPSGAqQ2VFJcYNukQhYVhFyxw5bqGA9aE9NbszpAvg8Hlq6/ar/4WHw+ZUv3/0V54hlUjRFfACyVZcwBYSYugKMBKC0Y9IaXOEJcQEOyKmwgzBSmKYcOoshpxZMA2KvTGFkXHoc8aJdaqpjrGz3oLI8FSHfJ6BETMwRNd5ckSOACfE+HwcI26Uhk0OrcVZHRJbM9c6M0RM+pcEvFjGxpHpDxlDYgT3Xw7Lvd3dqLVib25ikPPX5v4fmxcjoOHugAyP+8YEMQLDE+PiDem64i+DxFW/I3beqkHUIGoQNcgCg3A/i7GoBlGDqEHUIAsMYiNTDGoQNYgaRA2yxCDec78dNYgaRA2iBvlhkLfuGw==\n"
     ]
    },
    {
     "name": "stderr",
     "output_type": "stream",
     "text": [
      "DEBUG:signalr_async.client:Connection keepalive\n",
      "DEBUG:signalr_async.client:Sending: message_content='{}', is_binary=False\n",
      "DEBUG:signalr_async.client:Raw message received: WSMessage(type=<WSMsgType.TEXT: 1>, data='{\"C\":\"d-F23263D5-B,0|Df,0|Dg,11|d,95|p,8A0|o,89F|a,1|Y,D|Dh,0|n,1|W,2|c,25|i,1|X,C|k,3|l,1|r,2|Z,1|s,59F\",\"M\":[{\"H\":\"Streaming\",\"M\":\"feed\",\"A\":[\"CarData.z\",\"7ZSxCsIwEIbf5eZWkrs0ObOKb6CL4lCkoCAd1K303W3TtRT9J5Us11Dykcuf4+to2z7v1+ZB8djR/nmmSGxYSiOlXe+sj6KRzcqwqnp3oII29X3Y3ZEdy+ZSt21zSz8MRVMQpyqpulSraT1++j5tgDgHctbMgDaILLM2seglLdyt/xycWlX0PebyeedEhicAHQEWFASeY7pjAEFBw3Ho5FQV2KpHUw1oOIqFM6BLjnJela3PjsqOyo7KjvpKRylr8Br+yVEhOyo7Kjvqpxx16l8=\",\"2023-03-19T16:38:20.8287687Z\"]},{\"H\":\"Streaming\",\"M\":\"feed\",\"A\":[\"Position.z\",\"7ZQ7a8NAEIT/y9ZSuH3cs0+dQFQkDilMcCGC7WArldB/jx7GnIOzIa6vERLcx8zOnqaHx/2x7dr9DtJrD0273Ry79fYTEpAhrg3XGBt0iUMic2dQmCWsoIL7XXdoN0dIPeD0eOrW3df4CQ+75rB+/xiPPEOqkaOr4AWSNVLBChJiGCogDcHoZ6S2OSIaQsHOCBnMEDQaI4yLsxhy5oZpUPUmHGbGoc8Zp+qYRYfshbegMrLosM8zIDUDYj7NkyN6BLgg5PNxSN0oT5ucrMULHVat0UnnAlGT/iUBr8rYODPjS8awGsH1myO6t6sbtVb15hYGJb9t7v+xeTUCns5OyHS5z0xQIyBZGBfPyDBUfzeIWCHnY2mQ0iClQUqD3NAgIcr4j5YCKQVSCqQUyM8CeRu+AQ==\",\"2023-03-19T16:38:20.894201Z\"]}]}', extra='')\n"
     ]
    },
    {
     "name": "stdout",
     "output_type": "stream",
     "text": [
      "CarData.z 7ZSxCsIwEIbf5eZWkrs0ObOKb6CL4lCkoCAd1K303W3TtRT9J5Us11Dykcuf4+to2z7v1+ZB8djR/nmmSGxYSiOlXe+sj6KRzcqwqnp3oII29X3Y3ZEdy+ZSt21zSz8MRVMQpyqpulSraT1++j5tgDgHctbMgDaILLM2seglLdyt/xycWlX0PebyeedEhicAHQEWFASeY7pjAEFBw3Ho5FQV2KpHUw1oOIqFM6BLjnJela3PjsqOyo7KjvpKRylr8Br+yVEhOyo7Kjvqpxx16l8=\n",
      "Position.z 7ZQ7a8NAEIT/y9ZSuH3cs0+dQFQkDilMcCGC7WArldB/jx7GnIOzIa6vERLcx8zOnqaHx/2x7dr9DtJrD0273Ry79fYTEpAhrg3XGBt0iUMic2dQmCWsoIL7XXdoN0dIPeD0eOrW3df4CQ+75rB+/xiPPEOqkaOr4AWSNVLBChJiGCogDcHoZ6S2OSIaQsHOCBnMEDQaI4yLsxhy5oZpUPUmHGbGoc8Zp+qYRYfshbegMrLosM8zIDUDYj7NkyN6BLgg5PNxSN0oT5ucrMULHVat0UnnAlGT/iUBr8rYODPjS8awGsH1myO6t6sbtVb15hYGJb9t7v+xeTUCns5OyHS5z0xQIyBZGBfPyDBUfzeIWCHnY2mQ0iClQUqD3NAgIcr4j5YCKQVSCqQUyM8CeRu+AQ==\n"
     ]
    },
    {
     "name": "stderr",
     "output_type": "stream",
     "text": [
      "DEBUG:signalr_async.client:Raw message received: WSMessage(type=<WSMsgType.TEXT: 1>, data='{\"C\":\"d-F23263D5-B,0|Df,0|Dg,11|d,95|p,8A1|o,8A0|a,1|Y,D|Dh,0|n,1|W,2|c,25|i,1|X,C|k,3|l,1|r,2|Z,1|s,59F\",\"M\":[{\"H\":\"Streaming\",\"M\":\"feed\",\"A\":[\"CarData.z\",\"7ZSxDoIwEIbf5WYwvWspbVfiG+iicSCGRBPDgGyEdxfKagj+i9F0OUjTL1z/Ht9A+7bv7s2TwnmgY3+lQKJE50rn7A9sg3ZBeMfOlWzsiTKq6m7aPRDPpbrVbds84oKioDKSWHWsJtZieZ8f4xg3QJwBOVZvQM+8jnJE0TMy3Kz9HFxadeh1vItnyxcFHgB0AkSjIHAdyxlLENRoOAadnKIAW7VoqiUajsPCmdA1RRlxtvT8N4ra9NcnQSVBJUH9hqCseGu8SYJKgkqCSoL6iqAu4ws=\",\"2023-03-19T16:38:21.6296494Z\"]},{\"H\":\"Streaming\",\"M\":\"feed\",\"A\":[\"Position.z\",\"7ZY9a8NADIb/i2a7nKTTfe2dW2iGNqWDKRlMSVISdwr+7/VHCGeaqjTzLcaGe5D0nnjwCR73x7Zr9ztIrydYtdvNsWu2n5CADHFtuMa4Qpc4JMI7gxYDhTVUcL/rDu3mCOkEOD6euqb7Gj7hYbc6NO8fw5FnSDVydBW8QBJjK1hDQgx9BaQhGP2E1JIjVkMoyISQwQxBozGWce4shpy5YRpUe7McJsahzxmn1jFzHZJFb0Fl7FyHfZ4BqRkQ83meHNEjwBkhn49D6o3yeJNja3FRh9XW6FxngahJ/5KAV8tInJjhJWNYjeD65li9t6s3KqL25mYGbb5t7v+xeTUCHs+OyLjcFyaoEZCdGRcvSN9XfxsEo6AIF4MUgxSDFIPcYBAWGTaoCKQIpAikCOQGgbgoxsfyC1IMUgxSDPLDIG/9Nw==\",\"2023-03-19T16:38:21.6950793Z\"]}]}', extra='')\n"
     ]
    },
    {
     "name": "stdout",
     "output_type": "stream",
     "text": [
      "CarData.z 7ZSxDoIwEIbf5WYwvWspbVfiG+iicSCGRBPDgGyEdxfKagj+i9F0OUjTL1z/Ht9A+7bv7s2TwnmgY3+lQKJE50rn7A9sg3ZBeMfOlWzsiTKq6m7aPRDPpbrVbds84oKioDKSWHWsJtZieZ8f4xg3QJwBOVZvQM+8jnJE0TMy3Kz9HFxadeh1vItnyxcFHgB0AkSjIHAdyxlLENRoOAadnKIAW7VoqiUajsPCmdA1RRlxtvT8N4ra9NcnQSVBJUH9hqCseGu8SYJKgkqCSoL6iqAu4ws=\n",
      "Position.z 7ZY9a8NADIb/i2a7nKTTfe2dW2iGNqWDKRlMSVISdwr+7/VHCGeaqjTzLcaGe5D0nnjwCR73x7Zr9ztIrydYtdvNsWu2n5CADHFtuMa4Qpc4JMI7gxYDhTVUcL/rDu3mCOkEOD6euqb7Gj7hYbc6NO8fw5FnSDVydBW8QBJjK1hDQgx9BaQhGP2E1JIjVkMoyISQwQxBozGWce4shpy5YRpUe7McJsahzxmn1jFzHZJFb0Fl7FyHfZ4BqRkQ83meHNEjwBkhn49D6o3yeJNja3FRh9XW6FxngahJ/5KAV8tInJjhJWNYjeD65li9t6s3KqL25mYGbb5t7v+xeTUCHs+OyLjcFyaoEZCdGRcvSN9XfxsEo6AIF4MUgxSDFIPcYBAWGTaoCKQIpAikCOQGgbgoxsfyC1IMUgxSDPLDIG/9Nw==\n"
     ]
    },
    {
     "name": "stderr",
     "output_type": "stream",
     "text": [
      "DEBUG:signalr_async.client:Raw message received: WSMessage(type=<WSMsgType.TEXT: 1>, data='{}', extra='')\n",
      "DEBUG:signalr_async.client:Raw message received: WSMessage(type=<WSMsgType.TEXT: 1>, data='{\"C\":\"d-F23263D5-B,0|Df,0|Dg,11|d,95|p,8A2|o,8A1|a,1|Y,D|Dh,0|n,1|W,2|c,25|i,1|X,C|k,3|l,1|r,2|Z,1|s,59F\",\"M\":[{\"H\":\"Streaming\",\"M\":\"feed\",\"A\":[\"CarData.z\",\"7ZS9CsMwDITfRXMSLMv/a+gbtEtLh1ACLZQMabaQd2/izB16Szt4kY3RgXRnvpkOwzQ++hely0yn6UaJtNJSK6k5HtklCUlzE1x0LPZMFbXduHbPxFtp790w9M/8oCipinSukqvJ1e737ViW3ADpDKhj9b2QsxDdkOFRHTpqQMNAzdFw/Gj+WlAhEMe+oweFgppj0J9jLTiqQ131qDkBM2eVfgaUbsREazgUQBVAFUAVQP0foHyIxjtfAFUAVQBVAPUTQF2XNw==\",\"2023-03-19T16:38:22.7894767Z\"]},{\"H\":\"Streaming\",\"M\":\"feed\",\"A\":[\"Position.z\",\"7ZY9a8NADIb/i2Y7nKT73jO30AxtSodQMpgSpyTuFPzf67NDONNUpZ5vMTbcg6T3xIMv8Hg8N11zbCG+XmDTHPbnbnf4hAikiGvFNYYN2sg+Eq48G2X8FipYt92p2Z8hXgDT46nbdV/DJzy0m9Pu/WM48gyxRg62gheIRukKthARfV8BSQgGNyK1yREtIeTNiJDCDEElMZpx6iz4nFkwDYq9afYjY9HljBXrqKkOmVlvXmT0VIddngGJGRDzdZ4ckSPACSGXj0PijXK6ydRamNVhsTW61pkhYtK/JODEMiaMzPCSMSxGcH9ztNzb3Rs1RuzNTgzqfNvs/2NzYgScziYkLfeN8WIEpCfGhhvS99VfAqEVolFodDFIMUgxSDHIAoMMmxBcKAIpAikCKQJZIBDLOrAtvyDFIMUgxSA/DPLWfwM=\",\"2023-03-19T16:38:22.6349364Z\"]}]}', extra='')\n"
     ]
    },
    {
     "name": "stdout",
     "output_type": "stream",
     "text": [
      "CarData.z 7ZS9CsMwDITfRXMSLMv/a+gbtEtLh1ACLZQMabaQd2/izB16Szt4kY3RgXRnvpkOwzQ++hely0yn6UaJtNJSK6k5HtklCUlzE1x0LPZMFbXduHbPxFtp790w9M/8oCipinSukqvJ1e737ViW3ADpDKhj9b2QsxDdkOFRHTpqQMNAzdFw/Gj+WlAhEMe+oweFgppj0J9jLTiqQ131qDkBM2eVfgaUbsREazgUQBVAFUAVQP0foHyIxjtfAFUAVQBVAPUTQF2XNw==\n",
      "Position.z 7ZY9a8NADIb/i2Y7nKT73jO30AxtSodQMpgSpyTuFPzf67NDONNUpZ5vMTbcg6T3xIMv8Hg8N11zbCG+XmDTHPbnbnf4hAikiGvFNYYN2sg+Eq48G2X8FipYt92p2Z8hXgDT46nbdV/DJzy0m9Pu/WM48gyxRg62gheIRukKthARfV8BSQgGNyK1yREtIeTNiJDCDEElMZpx6iz4nFkwDYq9afYjY9HljBXrqKkOmVlvXmT0VIddngGJGRDzdZ4ckSPACSGXj0PijXK6ydRamNVhsTW61pkhYtK/JODEMiaMzPCSMSxGcH9ztNzb3Rs1RuzNTgzqfNvs/2NzYgScziYkLfeN8WIEpCfGhhvS99VfAqEVolFodDFIMUgxSDHIAoMMmxBcKAIpAikCKQJZIBDLOrAtvyDFIMUgxSA/DPLWfwM=\n"
     ]
    },
    {
     "name": "stderr",
     "output_type": "stream",
     "text": [
      "DEBUG:signalr_async.client:Raw message received: WSMessage(type=<WSMsgType.TEXT: 1>, data='{\"C\":\"d-F23263D5-B,0|Df,0|Dg,11|d,95|p,8A3|o,8A2|a,1|Y,D|Dh,0|n,1|W,2|c,25|i,1|X,C|k,3|l,1|r,2|Z,1|s,59F\",\"M\":[{\"H\":\"Streaming\",\"M\":\"feed\",\"A\":[\"CarData.z\",\"7ZSxDsIwDET/xXOLEttJm6yIP4AFxFChSiChDtCt6r9TwszALXTw4kSRT7LvojfRbhgft/5J+TTRYbxQJnYstZPap72PWdrMvEltUo1ypIq23WPpnsi/y/baDUN/Lw+OsquIS5VStdTwub+PeS4NkE5BnXe/C30Roht6eNSIjtqiYaDmMBw/mj8LKgTi+OzYgEJBzVH054QAjhpRVxvUnBYzZ5F+B5RsOCZ1mgxQBigDlAFqfYDSmKQJwQBlgDJAGaDWB6jGJVHHBigDlAHKAPUXQJ3nFw==\",\"2023-03-19T16:38:23.7093402Z\"]},{\"H\":\"Streaming\",\"M\":\"feed\",\"A\":[\"Position.z\",\"7ZY9a8NADIb/i2Y7nKT73jO30AxtSodQMpiSpCTuFPzf648QLiVVqWctxoZ7kPTqePAZHg+npm0Oe8ivZ1g1u+2p3ew+IQMZ4tpwjWmFPnPMRIvobDK8hgqW+/bYbE+Qz4DD46ndtF/9JzzsV8fN+0d/5BlyjZx8BS+QnbEVrCEjxq4CkhBMYURqVyJWQii6ESGDBYJGYizj1FmKJTNjGhR7sxxHxmMoGS/WMVMdcje9RZGxUx0OZQYkZkDMl3lKRI4AJ4RCOQ6JG+Vhk0Nr6aYOi63Rpc4NIib9SwJBLOPSyPQvBcNiBPdvjpV7u7tR58Te/MSgLW+b/39sQYyAh7MDMlzuKxPFCMhOjE9XpOuqvwTCC0QbPVs1iBpEDaIGmWEQ7nekfyDqD/WH+mOOP5yzIXmvBlGDqEHUIDMMEtgGn0gNogZRg6hBfhrkrfsG\",\"2023-03-19T16:38:23.7347692Z\"]}]}', extra='')\n"
     ]
    },
    {
     "name": "stdout",
     "output_type": "stream",
     "text": [
      "CarData.z 7ZSxDsIwDET/xXOLEttJm6yIP4AFxFChSiChDtCt6r9TwszALXTw4kSRT7LvojfRbhgft/5J+TTRYbxQJnYstZPap72PWdrMvEltUo1ypIq23WPpnsi/y/baDUN/Lw+OsquIS5VStdTwub+PeS4NkE5BnXe/C30Roht6eNSIjtqiYaDmMBw/mj8LKgTi+OzYgEJBzVH054QAjhpRVxvUnBYzZ5F+B5RsOCZ1mgxQBigDlAFqfYDSmKQJwQBlgDJAGaDWB6jGJVHHBigDlAHKAPUXQJ3nFw==\n",
      "Position.z 7ZY9a8NADIb/i2Y7nKT73jO30AxtSodQMpiSpCTuFPzf648QLiVVqWctxoZ7kPTqePAZHg+npm0Oe8ivZ1g1u+2p3ew+IQMZ4tpwjWmFPnPMRIvobDK8hgqW+/bYbE+Qz4DD46ndtF/9JzzsV8fN+0d/5BlyjZx8BS+QnbEVrCEjxq4CkhBMYURqVyJWQii6ESGDBYJGYizj1FmKJTNjGhR7sxxHxmMoGS/WMVMdcje9RZGxUx0OZQYkZkDMl3lKRI4AJ4RCOQ6JG+Vhk0Nr6aYOi63Rpc4NIib9SwJBLOPSyPQvBcNiBPdvjpV7u7tR58Te/MSgLW+b/39sQYyAh7MDMlzuKxPFCMhOjE9XpOuqvwTCC0QbPVs1iBpEDaIGmWEQ7nekfyDqD/WH+mOOP5yzIXmvBlGDqEHUIDMMEtgGn0gNogZRg6hBfhrkrfsG\n"
     ]
    },
    {
     "name": "stderr",
     "output_type": "stream",
     "text": [
      "DEBUG:signalr_async.client:Raw message received: WSMessage(type=<WSMsgType.TEXT: 1>, data='{\"C\":\"d-F23263D5-B,0|Df,0|Dg,11|d,95|p,8A4|o,8A3|a,1|Y,D|Dh,0|n,1|W,2|c,25|i,1|X,C|k,3|l,1|r,2|Z,1|s,59F\",\"M\":[{\"H\":\"Streaming\",\"M\":\"feed\",\"A\":[\"CarData.z\",\"7da9CsIwEAfwd7lZJfeRNskqvoEuikMRQUE6qFvpu1vj7ND/1OGGXkrJ0ctd+dGBdv37eb++qJwGOrwvVEiC6DromvOem6KpiG6yZQ1mR1rRtntOuwfib9jeur6/PuqDQCWsSGrUGq3G+Lv/LuNYN0B5BuZxmJ/INRE9IcOlNmipCR0G2hyBx4/OXxRNBMbxO2MLJiraHEO/nBjBUhu0qy3anIQ1Z0r9D5Rt2LK0DpQD5UA5UEsESlOW6XKgHCgHyoFaHlBx+oPiKA6UA+VAOVDLAypJ5lab+UBxsPqmujpSjpQj5UjhSJ3HDw==\",\"2023-03-19T16:38:24.8291736Z\"]},{\"H\":\"Streaming\",\"M\":\"feed\",\"A\":[\"Position.z\",\"7ZQ7a8NAEIT/y9ZSuN29d586gahIHFKI4EIEy8FSKqH/Hj2MOQVnQ1xfI05wHzM7e8wAj8eu6ZtjC/F1gKo57Lu+PnxCBFLEpeISQ4U2so+k7xRqR9buoID7tj81+w7iADh/nvq6/5p+4aGtTvX7x3TlGWKJHGwBLxCN0gXsICL6sQCSEAxuQUqTIlpCyJsFIYUJgkpiNOPqLPiUuWEaFL1p9gtj0aWMFXXUqkNm482LjF512KUZkJgBMZ/nSRE5AlwRcuk4JG6U503O1sJGh0VrdNbZIGLSvyTgRBkTFmY6JAyLEVx/OVr2dnWjxoje7MqgTl+b/X9sToyA57szMj/uC+PFCEivjA0XZByLvxtEs7aWfG6Q3CC5QXKD3NAgbmoQdJQbJDdIbpDcID8b5G38Bg==\",\"2023-03-19T16:38:24.7346172Z\"]}]}', extra='')\n"
     ]
    },
    {
     "name": "stdout",
     "output_type": "stream",
     "text": [
      "CarData.z 7da9CsIwEAfwd7lZJfeRNskqvoEuikMRQUE6qFvpu1vj7ND/1OGGXkrJ0ctd+dGBdv37eb++qJwGOrwvVEiC6DromvOem6KpiG6yZQ1mR1rRtntOuwfib9jeur6/PuqDQCWsSGrUGq3G+Lv/LuNYN0B5BuZxmJ/INRE9IcOlNmipCR0G2hyBx4/OXxRNBMbxO2MLJiraHEO/nBjBUhu0qy3anIQ1Z0r9D5Rt2LK0DpQD5UA5UEsESlOW6XKgHCgHyoFaHlBx+oPiKA6UA+VAOVDLAypJ5lab+UBxsPqmujpSjpQj5UjhSJ3HDw==\n",
      "Position.z 7ZQ7a8NAEIT/y9ZSuN29d586gahIHFKI4EIEy8FSKqH/Hj2MOQVnQ1xfI05wHzM7e8wAj8eu6ZtjC/F1gKo57Lu+PnxCBFLEpeISQ4U2so+k7xRqR9buoID7tj81+w7iADh/nvq6/5p+4aGtTvX7x3TlGWKJHGwBLxCN0gXsICL6sQCSEAxuQUqTIlpCyJsFIYUJgkpiNOPqLPiUuWEaFL1p9gtj0aWMFXXUqkNm482LjF512KUZkJgBMZ/nSRE5AlwRcuk4JG6U503O1sJGh0VrdNbZIGLSvyTgRBkTFmY6JAyLEVx/OVr2dnWjxoje7MqgTl+b/X9sToyA57szMj/uC+PFCEivjA0XZByLvxtEs7aWfG6Q3CC5QXKD3NAgbmoQdJQbJDdIbpDcID8b5G38Bg==\n"
     ]
    },
    {
     "name": "stderr",
     "output_type": "stream",
     "text": [
      "DEBUG:signalr_async.client:Connection keepalive\n",
      "DEBUG:signalr_async.client:Sending: message_content='{}', is_binary=False\n",
      "DEBUG:signalr_async.client:Raw message received: WSMessage(type=<WSMsgType.TEXT: 1>, data='{\"C\":\"d-F23263D5-B,0|Df,0|Dg,11|d,95|p,8A5|o,8A4|a,1|Y,D|Dh,0|n,1|W,2|c,25|i,1|X,C|k,3|l,1|r,2|Z,1|s,59F\",\"M\":[{\"H\":\"Streaming\",\"M\":\"feed\",\"A\":[\"CarData.z\",\"7ZS/CsIwEIff5eZW7i5/mmQtvoEuikORgoJ0qN1K390aHRxE6i063HIJIR+5/BK+Edbd0J/bK6T9CNvhCAkY2ZRoSoob8smExG5FIRJFt4MC6qafd49A91Kfmq5rL3kBIWEBnKvJ1UIitAW452jnCU5T3rSAxUziC2eFHOH3IGVw2S3fnChu1UtbDcITWRoOS8Nh6fuzkYKC53jcsRKCRhqOlf4c54StemmqlTScIAtnRj9JymHEikklpZJSSamk/lNS3ke0waqkVFIqKZXUzyR1mG4=\",\"2023-03-19T16:38:25.6690484Z\"]},{\"H\":\"Streaming\",\"M\":\"feed\",\"A\":[\"Position.z\",\"7ZQ7a8NAEIT/y9ZSuH3cs0+dQFQkDilMcCGC7WArldB/jx7GnIOzIa6vERLcx8zOnqaHx/2x7dr9DtJrD0273Ry79fYTEpAhrg3XGBt0iUMie2esWBfcCiq433WHdnOE1ANOj6du3X2Nn/Cwaw7r94/xyDOkGjm6Cl4gWSMVrCAhhqEC0hCMfkZqmyOiIRTsjJDBDEGjMcK4OIshZ26YBlVvwmFmHPqccaqOWXTIXngLKiOLDvs8A1IzIObTPDmiR4ALQj4fh9SN8rTJyVq80GHVGp10LhA16V8S8KqMjTMzvmQMqxFcvzmie7u6UWtVb25hUPLb5v4fm1cj4OnshEyX+8wENQKShXHxjAxD9XeDiJfx3/GlQUqDlAYpDXJDgzgWCUZKg5QGKQ1SGuRng7wN3w==\",\"2023-03-19T16:38:25.6344804Z\"]}]}', extra='')\n"
     ]
    },
    {
     "name": "stdout",
     "output_type": "stream",
     "text": [
      "CarData.z 7ZS/CsIwEIff5eZW7i5/mmQtvoEuikORgoJ0qN1K390aHRxE6i063HIJIR+5/BK+Edbd0J/bK6T9CNvhCAkY2ZRoSoob8smExG5FIRJFt4MC6qafd49A91Kfmq5rL3kBIWEBnKvJ1UIitAW452jnCU5T3rSAxUziC2eFHOH3IGVw2S3fnChu1UtbDcITWRoOS8Nh6fuzkYKC53jcsRKCRhqOlf4c54StemmqlTScIAtnRj9JymHEikklpZJSSamk/lNS3ke0waqkVFIqKZXUzyR1mG4=\n",
      "Position.z 7ZQ7a8NAEIT/y9ZSuH3cs0+dQFQkDilMcCGC7WArldB/jx7GnIOzIa6vERLcx8zOnqaHx/2x7dr9DtJrD0273Ry79fYTEpAhrg3XGBt0iUMie2esWBfcCiq433WHdnOE1ANOj6du3X2Nn/Cwaw7r94/xyDOkGjm6Cl4gWSMVrCAhhqEC0hCMfkZqmyOiIRTsjJDBDEGjMcK4OIshZ26YBlVvwmFmHPqccaqOWXTIXngLKiOLDvs8A1IzIObTPDmiR4ALQj4fh9SN8rTJyVq80GHVGp10LhA16V8S8KqMjTMzvmQMqxFcvzmie7u6UWtVb25hUPLb5v4fm1cj4OnshEyX+8wENQKShXHxjAxD9XeDiJfx3/GlQUqDlAYpDXJDgzgWCUZKg5QGKQ1SGuRng7wN3w==\n"
     ]
    },
    {
     "name": "stderr",
     "output_type": "stream",
     "text": [
      "DEBUG:signalr_async.client:Raw message received: WSMessage(type=<WSMsgType.TEXT: 1>, data='{\"C\":\"d-F23263D5-B,0|Df,0|Dg,11|d,95|p,8A6|o,8A5|a,1|Y,D|Dh,0|n,1|W,2|c,25|i,1|X,C|k,3|l,1|r,2|Z,1|s,59F\",\"M\":[{\"H\":\"Streaming\",\"M\":\"feed\",\"A\":[\"CarData.z\",\"7dSxCgIxDAbgd8l8SprmYtpVfANdFAcRQUFu0NuOe3fP6uAgokHQIUvvKP1pmpavg1nTng67M+RVB4t2CxkIKY4wjkKaB8lRM8kYSVNiWkIF081pWN1BuA7T/aZpdscygZCxAipjLCNDDsgV1PcvDz/Y92XRG1ksSXzIsTEX8PNgKMH3TvlkR3OpYi1VjTuStTlkbQ5Z75+iNWi4jtsZJ8ZgtDaHrS+nro2lirWrE2tz1NacIfoKKRqQEtbPkXryXhwoB8qBcqC+ClSNmiiKA+VAOVAO1P8BJaIJMThQDpQD5UD9H1AJVYXZgXKgHCgH6idArfsL\",\"2023-03-19T16:38:26.9088644Z\"]},{\"H\":\"Streaming\",\"M\":\"feed\",\"A\":[\"Position.z\",\"7ZbBaoQwEIbfZc5aMjNJTHLvuYV6aLf0IGUPUtYtqz2J7141yxLLdkr3nIso+DF//sQPR3g89u3QHjsIryPU7WHfD83hEwKQIi4Vl+hrtIFdIHunjNZo7Q4KuO+GU7vvIYyAy+VpaIav+REeuvrUvH/MrzxDKJG9LeAFglG6gB0ERDcVQBKCvlqR0qSIlhByZkVIYYKgkhjNGJN5lzI3rAbFbJrdylisUsaKc1ScQ2aTzYmMjnO4SjsgsQNiPq8nReQKMCJUpcshcUd52cklmt/MYTEanedsELHpXxqoxDHGr8x8kzAsVnD95Gg529UdNUbMZiODOj1t9v+1VWIFvLy7IMvhvjBOrIB0ZKy/INNU/G0QMvPnYCkbJBskGyQb5AaDmNkgWuV/kGyQbJBskFsM4rwm53w2SDZINkg2yE+DvE3f\",\"2023-03-19T16:38:26.8942889Z\"]}]}', extra='')\n"
     ]
    },
    {
     "name": "stdout",
     "output_type": "stream",
     "text": [
      "CarData.z 7dSxCgIxDAbgd8l8SprmYtpVfANdFAcRQUFu0NuOe3fP6uAgokHQIUvvKP1pmpavg1nTng67M+RVB4t2CxkIKY4wjkKaB8lRM8kYSVNiWkIF081pWN1BuA7T/aZpdscygZCxAipjLCNDDsgV1PcvDz/Y92XRG1ksSXzIsTEX8PNgKMH3TvlkR3OpYi1VjTuStTlkbQ5Z75+iNWi4jtsZJ8ZgtDaHrS+nro2lirWrE2tz1NacIfoKKRqQEtbPkXryXhwoB8qBcqC+ClSNmiiKA+VAOVAO1P8BJaIJMThQDpQD5UD9H1AJVYXZgXKgHCgH6idArfsL\n",
      "Position.z 7ZbBaoQwEIbfZc5aMjNJTHLvuYV6aLf0IGUPUtYtqz2J7141yxLLdkr3nIso+DF//sQPR3g89u3QHjsIryPU7WHfD83hEwKQIi4Vl+hrtIFdIHunjNZo7Q4KuO+GU7vvIYyAy+VpaIav+REeuvrUvH/MrzxDKJG9LeAFglG6gB0ERDcVQBKCvlqR0qSIlhByZkVIYYKgkhjNGJN5lzI3rAbFbJrdylisUsaKc1ScQ2aTzYmMjnO4SjsgsQNiPq8nReQKMCJUpcshcUd52cklmt/MYTEanedsELHpXxqoxDHGr8x8kzAsVnD95Gg529UdNUbMZiODOj1t9v+1VWIFvLy7IMvhvjBOrIB0ZKy/INNU/G0QMvPnYCkbJBskGyQb5AaDmNkgWuV/kGyQbJBskFsM4rwm53w2SDZINkg2yE+DvE3f\n"
     ]
    },
    {
     "name": "stderr",
     "output_type": "stream",
     "text": [
      "DEBUG:signalr_async.client:Raw message received: WSMessage(type=<WSMsgType.TEXT: 1>, data='{\"C\":\"d-F23263D5-B,0|Df,0|Dg,11|d,95|p,8A7|o,8A6|a,1|Y,D|Dh,0|n,1|W,2|c,25|i,1|X,C|k,3|l,1|r,2|Z,1|s,59F\",\"M\":[{\"H\":\"Streaming\",\"M\":\"feed\",\"A\":[\"CarData.z\",\"7ZYxC4MwEIX/y81akktMzqzSf9AuLR2kCC0UB+sm/nc17oW+pR1uuYSQB3fvhY9MdOzH4dm9KV0nOo93SsSGXWlcaeuTDclJ4niwXoTFX6igph3W2xPZrTSPtu+7Vz4wlExBnKvL1eda7fttmed8AdJ5UGfN90KbheiEFm41oK0KGgZqDsPxo/mzQ4VAHPuMERQ61ByPvpyqAlsNqKsRNUcwc1bpJ0A5kVhzrYBSQCmgFFD/B6j1+xQ5BgWUAkoBpYD6CaBu8wI=\",\"2023-03-19T16:38:27.8287276Z\"]},{\"H\":\"Streaming\",\"M\":\"feed\",\"A\":[\"Position.z\",\"7ZQ9a8MwEIb/y8120d3pe+/cQj20KR1MyWBKnBK7k/F/rz9CkEt6pZm1GBn0cK9eiWeAx2PX9M2xhfg6QNUc9l1fHz4hAiniUnGJoUIb2Udyd8ppsmh2UMB925+afQdxAJw/T33df02/8NBWp/r9Y9ryDLFEDraAF4hG6QJ2EBH9WABJCAa3IKVJES0h5M2CkMIEQSUxmnFNFnzK3HAaFLNp9gtj0aWMFeeodQ6ZTTYvMnqdwy7tgMQOiPl8nhSRK8AVIZceh8Qb5fkm52hhM4fFaHSes0HEpn9pwIljTFiYaZEwLFZw/eVoOdvVGzVGzGZXBnX62uz/a3NiBTzvnZH5cV8YL1ZAemVsuCDjWPxtEJ4MgiZkg2SDZINkg9xgEMMaA9pskGyQbJBskBsMYoNG6zgbJBskGyQb5KdB3sZv\",\"2023-03-19T16:38:27.6941673Z\"]}]}', extra='')\n"
     ]
    },
    {
     "name": "stdout",
     "output_type": "stream",
     "text": [
      "CarData.z 7ZYxC4MwEIX/y81akktMzqzSf9AuLR2kCC0UB+sm/nc17oW+pR1uuYSQB3fvhY9MdOzH4dm9KV0nOo93SsSGXWlcaeuTDclJ4niwXoTFX6igph3W2xPZrTSPtu+7Vz4wlExBnKvL1eda7fttmed8AdJ5UGfN90KbheiEFm41oK0KGgZqDsPxo/mzQ4VAHPuMERQ61ByPvpyqAlsNqKsRNUcwc1bpJ0A5kVhzrYBSQCmgFFD/B6j1+xQ5BgWUAkoBpYD6CaBu8wI=\n",
      "Position.z 7ZQ9a8MwEIb/y8120d3pe+/cQj20KR1MyWBKnBK7k/F/rz9CkEt6pZm1GBn0cK9eiWeAx2PX9M2xhfg6QNUc9l1fHz4hAiniUnGJoUIb2Udyd8ppsmh2UMB925+afQdxAJw/T33df02/8NBWp/r9Y9ryDLFEDraAF4hG6QJ2EBH9WABJCAa3IKVJES0h5M2CkMIEQSUxmnFNFnzK3HAaFLNp9gtj0aWMFeeodQ6ZTTYvMnqdwy7tgMQOiPl8nhSRK8AVIZceh8Qb5fkm52hhM4fFaHSes0HEpn9pwIljTFiYaZEwLFZw/eVoOdvVGzVGzGZXBnX62uz/a3NiBTzvnZH5cV8YL1ZAemVsuCDjWPxtEJ4MgiZkg2SDZINkg9xgEMMaA9pskGyQbJBskBsMYoNG6zgbJBskGyQb5KdB3sZv\n"
     ]
    },
    {
     "name": "stderr",
     "output_type": "stream",
     "text": [
      "DEBUG:signalr_async.client:Raw message received: WSMessage(type=<WSMsgType.TEXT: 1>, data='{\"C\":\"d-F23263D5-B,0|Df,0|Dg,11|d,95|p,8A8|o,8A6|a,1|Y,D|Dh,0|n,1|W,2|c,25|i,1|X,C|k,3|l,1|r,2|Z,1|s,59F\",\"M\":[{\"H\":\"Streaming\",\"M\":\"feed\",\"A\":[\"CarData.z\",\"7ZS/CsJADMbfJXNb7i73fxXfQBfFoUhBQTpUt9J3t73ODv1AdMiSHEc+Lvly/Eba96/h3j0pn0c6vq6UySjDteJap4P2mWM2oUkxBsV8oop27TBXj6SXsLu1fd89yoWirCoyJXKJtkS3npc0TaUA0llQp9V2oS5CdEINt+rRViO6DNQcA68f3b9hVAisY50xgEJGzbHoz3EObNWjrgbUnIiZM0s/Ayo2xifvtdsOKK1sealkgZRASiAlkPoSpKxJnkMUSAmkBFICqf+EVFDJJW8FUgIpgZRA6meQukxv\",\"2023-03-19T16:38:28.7095964Z\"]}]}', extra='')\n",
      "DEBUG:signalr_async.client:Raw message received: WSMessage(type=<WSMsgType.TEXT: 1>, data='{\"C\":\"d-F23263D5-B,0|Df,0|Dg,11|d,95|p,8A8|o,8A7|a,1|Y,D|Dh,0|n,1|W,2|c,25|i,1|X,C|k,3|l,1|r,2|Z,1|s,59F\",\"M\":[{\"H\":\"Streaming\",\"M\":\"feed\",\"A\":[\"Position.z\",\"7ZS7asNAEEX/ZWrJ7Mzsu3edQFwkDilMcCGC7WArldG/Rw9j1sSZENXTiBXsYe7eXc4ZHg+npm0Oe8ivZ1g1u+2p3ew+IQMZ4tpwjWmFPnPMFBYpOSR0a6hguW+PzfYE+Qw4fJ7aTfvV/8LDfnXcvH/0W54h18jJV/AC2RlbwRoyYuwqIAnBFEakdiViJYSiGxEyWCBoJMYyTslSLJkZp0Exm+U4Mh5DyXhxjpnmkLvJFkXGTnM4lB2Q2AExX85TInIFOCEUyuOQeKM83OQQLd3MYTEaXebcIGLTvzQQxDEujUy/KBgWK7j/cqyc7e6NOidm8xODtnxt/v+1BbECHvYOyPC4r0wUKyA7MT5dka6r/jJIXGBwJllSg6hB1CBqkBkGYXbGp6gGUYOoQdQgMwzie4OQVYOoQdQgapA5BolsU1KDqEHUIGqQnwZ5674B\",\"2023-03-19T16:38:28.8349948Z\"]}]}', extra='')\n"
     ]
    },
    {
     "name": "stdout",
     "output_type": "stream",
     "text": [
      "CarData.z 7ZS/CsJADMbfJXNb7i73fxXfQBfFoUhBQTpUt9J3t73ODv1AdMiSHEc+Lvly/Eba96/h3j0pn0c6vq6UySjDteJap4P2mWM2oUkxBsV8oop27TBXj6SXsLu1fd89yoWirCoyJXKJtkS3npc0TaUA0llQp9V2oS5CdEINt+rRViO6DNQcA68f3b9hVAisY50xgEJGzbHoz3EObNWjrgbUnIiZM0s/Ayo2xifvtdsOKK1sealkgZRASiAlkPoSpKxJnkMUSAmkBFICqf+EVFDJJW8FUgIpgZRA6meQukxv\n",
      "Position.z 7ZS7asNAEEX/ZWrJ7Mzsu3edQFwkDilMcCGC7WArldG/Rw9j1sSZENXTiBXsYe7eXc4ZHg+npm0Oe8ivZ1g1u+2p3ew+IQMZ4tpwjWmFPnPMFBYpOSR0a6hguW+PzfYE+Qw4fJ7aTfvV/8LDfnXcvH/0W54h18jJV/AC2RlbwRoyYuwqIAnBFEakdiViJYSiGxEyWCBoJMYyTslSLJkZp0Exm+U4Mh5DyXhxjpnmkLvJFkXGTnM4lB2Q2AExX85TInIFOCEUyuOQeKM83OQQLd3MYTEaXebcIGLTvzQQxDEujUy/KBgWK7j/cqyc7e6NOidm8xODtnxt/v+1BbECHvYOyPC4r0wUKyA7MT5dka6r/jJIXGBwJllSg6hB1CBqkBkGYXbGp6gGUYOoQdQgMwzie4OQVYOoQdQgapA5BolsU1KDqEHUIGqQnwZ5674B\n"
     ]
    },
    {
     "name": "stderr",
     "output_type": "stream",
     "text": [
      "DEBUG:signalr_async.client:Raw message received: WSMessage(type=<WSMsgType.TEXT: 1>, data='{\"C\":\"d-F23263D5-B,0|Df,0|Dg,11|d,95|p,8A9|o,8A8|a,1|Y,D|Dh,0|n,1|W,2|c,25|i,1|X,C|k,3|l,1|r,2|Z,1|s,59F\",\"M\":[{\"H\":\"Streaming\",\"M\":\"feed\",\"A\":[\"CarData.z\",\"7ZexCsIwEIbf5eZaLneXmGQtvoEuioOIoCAdtFvpu1ujg4OC3mKHW66l5COXP+Ej7WHRdpfT4Qp508Oq20MGQuIZ8sylpQuZY6ZYp5i8F7eGCprdZRzdg7uX5rhr28O5fEDIWAGVyqUKZIdSgX8+ZXzBYSiDvmCxkPjCiZJz+DvoCvjdKt/MqG41aFuNyhlJGw5pwyHt/hNrQcV2PNY4V4KsDUe0J8d7ZatBm+pcG07UhTOinyWVaifJM4pJyiRlkjJJTVNSEpJEZpOUScokZZKapqQCJfEpmqRMUiYpk9Q0JRXHmxSJ/e6ZpExSJqn/SWo73AA=\",\"2023-03-19T16:38:29.8694244Z\"]},{\"H\":\"Streaming\",\"M\":\"feed\",\"A\":[\"Position.z\",\"7ZQ7a8NAEIT/y9ZSuN29d586gahIHFKI4EIEy8FSKqH/Hj2MOQVnQ1xfI05wHzM7e8wAj8eu6ZtjC/F1gKo57Lu+PnxCBFLEpeISQ4U2so8U7pTTwXi9gwLu2/7U7DuIA+D8eerr/mv6hYe2OtXvH9OVZ4glcrAFvEA0Shewg4joxwJIQjC4BSlNimgJIW8WhBQmCCqJ0Yyrs+BT5oZpUPSm2S+MRZcyVtRRqw6ZjTcvMnrVYZdmQGIGxHyeJ0XkCHBFyKXjkLhRnjc5WwsbHRat0Vlng4hJ/5KAE2VMWJjpkDAsRnD95WjZ29WNGiN6syuDOn1t9v+xOTECnu/OyPy4L4wXIyC9MjZckHEs/m4QDjqo4HKD5AbJDZIb5IYGcU57Q7lAcoHkAskF8rNA3sZv\",\"2023-03-19T16:38:29.774852Z\"]}]}', extra='')\n"
     ]
    },
    {
     "name": "stdout",
     "output_type": "stream",
     "text": [
      "CarData.z 7ZexCsIwEIbf5eZaLneXmGQtvoEuioOIoCAdtFvpu1ujg4OC3mKHW66l5COXP+Ej7WHRdpfT4Qp508Oq20MGQuIZ8sylpQuZY6ZYp5i8F7eGCprdZRzdg7uX5rhr28O5fEDIWAGVyqUKZIdSgX8+ZXzBYSiDvmCxkPjCiZJz+DvoCvjdKt/MqG41aFuNyhlJGw5pwyHt/hNrQcV2PNY4V4KsDUe0J8d7ZatBm+pcG07UhTOinyWVaifJM4pJyiRlkjJJTVNSEpJEZpOUScokZZKapqQCJfEpmqRMUiYpk9Q0JRXHmxSJ/e6ZpExSJqn/SWo73AA=\n",
      "Position.z 7ZQ7a8NAEIT/y9ZSuN29d586gahIHFKI4EIEy8FSKqH/Hj2MOQVnQ1xfI05wHzM7e8wAj8eu6ZtjC/F1gKo57Lu+PnxCBFLEpeISQ4U2so8U7pTTwXi9gwLu2/7U7DuIA+D8eerr/mv6hYe2OtXvH9OVZ4glcrAFvEA0Shewg4joxwJIQjC4BSlNimgJIW8WhBQmCCqJ0Yyrs+BT5oZpUPSm2S+MRZcyVtRRqw6ZjTcvMnrVYZdmQGIGxHyeJ0XkCHBFyKXjkLhRnjc5WwsbHRat0Vlng4hJ/5KAE2VMWJjpkDAsRnD95WjZ29WNGiN6syuDOn1t9v+xOTECnu/OyPy4L4wXIyC9MjZckHEs/m4QDjqo4HKD5AbJDZIb5IYGcU57Q7lAcoHkAskF8rNA3sZv\n"
     ]
    },
    {
     "name": "stderr",
     "output_type": "stream",
     "text": [
      "DEBUG:signalr_async.client:Connection keepalive\n",
      "DEBUG:signalr_async.client:Sending: message_content='{}', is_binary=False\n",
      "DEBUG:signalr_async.client:Raw message received: WSMessage(type=<WSMsgType.TEXT: 1>, data='{\"C\":\"d-F23263D5-B,0|Df,0|Dg,11|d,95|p,8AA|o,8A8|a,1|Y,D|Dh,0|n,1|W,2|c,25|i,1|X,C|k,3|l,1|r,2|Z,1|s,59F\",\"M\":[{\"H\":\"Streaming\",\"M\":\"feed\",\"A\":[\"CarData.z\",\"7ZSxCsIwEIbf5eZWLndJmmQtvoEuikORgoJ00G6l726NDg5F2pscbrmEkI9c/oRvgG3X36/tA9JxgH1/hgSExCVyaeLO+MQhMW5MiFx5PkABdXOfdg9gXqW+NF3X3vICQsICKFfO1UIyaAtwn9FOExzHvGkBi5nEL84KOYPrQZPBZbecOVHcqpe2GoQnkjQckoZD0vcnloKC53jfsRKCLA3HSn+Oc8JWvTTVShpOkIUzob8k5TAyRXWUOkodpY76T0cFH6lydr2kZv6LCkoFpYJSQa0V1Gl8Ag==\",\"2023-03-19T16:38:30.8692754Z\"]}]}', extra='')\n",
      "DEBUG:signalr_async.client:Raw message received: WSMessage(type=<WSMsgType.TEXT: 1>, data='{\"C\":\"d-F23263D5-B,0|Df,0|Dg,11|d,95|p,8AA|o,8A9|a,1|Y,D|Dh,0|n,1|W,2|c,25|i,1|X,C|k,3|l,1|r,2|Z,1|s,59F\",\"M\":[{\"H\":\"Streaming\",\"M\":\"feed\",\"A\":[\"Position.z\",\"7ZS7asMwFIbf5cx20bnounduoRnalA6mZDAlSUncKfjd60sIcklPaWYtRgZ9nF+/xHeCx/2x7dr9DtLrCVbtdnPsmu0nJCBDXBuuMa7QJQ6JzR2iBGN4DRXc77pDuzlCOgGOn6eu6b6GX3jYrQ7N+8ew5RlSjRxdBS+QrJEK1pAQQ18BaQhGPyG1zRHREAp2QshghqDRGGGck8WQMzecBtVswmFiHPqcceocM88hu8gWVEbmOezzDkjtgJjP58kRvQKcEfL5cUi9UR5vcowWF3NYjUbnOQtEbfqXBrw6xsaJGRYZw2oF11+O6Nmu3qi1ajY3Myj5a3P/r82rFfC4d0TGx31hgloBycy4eEH6vvrbIOTFe1cEUgRSBFIEcoNAZBCI2GKQYpBikGKQWwwSUFzkWAxSDFIMUgzy0yBv/Tc=\",\"2023-03-19T16:38:30.8146939Z\"]}]}', extra='')\n"
     ]
    },
    {
     "name": "stdout",
     "output_type": "stream",
     "text": [
      "CarData.z 7ZSxCsIwEIbf5eZWLndJmmQtvoEuikORgoJ00G6l726NDg5F2pscbrmEkI9c/oRvgG3X36/tA9JxgH1/hgSExCVyaeLO+MQhMW5MiFx5PkABdXOfdg9gXqW+NF3X3vICQsICKFfO1UIyaAtwn9FOExzHvGkBi5nEL84KOYPrQZPBZbecOVHcqpe2GoQnkjQckoZD0vcnloKC53jfsRKCLA3HSn+Oc8JWvTTVShpOkIUzob8k5TAyRXWUOkodpY76T0cFH6lydr2kZv6LCkoFpYJSQa0V1Gl8Ag==\n",
      "Position.z 7ZS7asMwFIbf5cx20bnounduoRnalA6mZDAlSUncKfjd60sIcklPaWYtRgZ9nF+/xHeCx/2x7dr9DtLrCVbtdnPsmu0nJCBDXBuuMa7QJQ6JzR2iBGN4DRXc77pDuzlCOgGOn6eu6b6GX3jYrQ7N+8ew5RlSjRxdBS+QrJEK1pAQQ18BaQhGPyG1zRHREAp2QshghqDRGGGck8WQMzecBtVswmFiHPqcceocM88hu8gWVEbmOezzDkjtgJjP58kRvQKcEfL5cUi9UR5vcowWF3NYjUbnOQtEbfqXBrw6xsaJGRYZw2oF11+O6Nmu3qi1ajY3Myj5a3P/r82rFfC4d0TGx31hgloBycy4eEH6vvrbIOTFe1cEUgRSBFIEcoNAZBCI2GKQYpBikGKQWwwSUFzkWAxSDFIMUgzy0yBv/Tc=\n"
     ]
    },
    {
     "name": "stderr",
     "output_type": "stream",
     "text": [
      "DEBUG:signalr_async.client:Raw message received: WSMessage(type=<WSMsgType.TEXT: 1>, data='{\"C\":\"d-F23263D5-B,0|Df,0|Dg,11|d,95|p,8AB|o,8AA|a,1|Y,D|Dh,0|n,1|W,2|c,25|i,1|X,C|k,3|l,1|r,2|Z,1|s,59F\",\"M\":[{\"H\":\"Streaming\",\"M\":\"feed\",\"A\":[\"CarData.z\",\"7de/CsIwEAbwd7m5Su7yp0nW4hvoojgUKShIB+1W+u626S74LXa45VpCPkjuyg860qEfXo/uTfky0mm4USYxYnfG7jgdOWQbs+W9CUmc5zNV1LSvefdIvJTm3vZ99ywLhrKpSEq1pbpS/fq+PKapbIByDsyx+T3IJYjekOGjBvSoER0G2hyBx4/OXywaBMax3rEGgxZtjkO/HO/Bowa0qzXanIg1Z45+A0okibBToBQoBUqB2h5QThInjgqUAqVAKVDbA8rHxCHqL54CpUApUBsEqp6BstErUAqUAqVA/QWo6/QB\",\"2023-03-19T16:38:31.7891385Z\"]},{\"H\":\"Streaming\",\"M\":\"feed\",\"A\":[\"Position.z\",\"7Zc9a8MwEIb/y8120N1Jp489cwvN0KZ0MCWDKUlK4k7B/73+CEGh6ZVm1mJs0MO9eiUe8Ake98e2a/c7SK8nWLXbzbFrtp+QgAxxbbjGuEJJHBKbRfRWJMoaKljuukO7OUI6AY6Pp67pvoZPeNitDs37x7DkGVKNHKWCF0jO2ArWkBBDXwFpCEY/IbXLEashFNyEkMEMQaMxlnFOFkPO3LEbVLNZDhMj6HNG1DlmnkPuKltQGTvPYZ93QGoHxHzeT47oFeCMkM+3Q+qJ8niSY7R4NYfVaHSec4WoTf/SgFfHuDgxw0vGsFrB7Ztj9Ww3T9Q5NZvMDNr8tsn/a/NqBTyuHZHxcl+YoFZAdmYkXpC+r/4yCC4wWmHBYpBikGKQYpA7DGLRiiFfDFIMUgxSDHKHQSJbR1z+YopBikGKQX4Y5K3/Bg==\",\"2023-03-19T16:38:31.9345236Z\"]}]}', extra='')\n"
     ]
    },
    {
     "name": "stdout",
     "output_type": "stream",
     "text": [
      "CarData.z 7de/CsIwEAbwd7m5Su7yp0nW4hvoojgUKShIB+1W+u626S74LXa45VpCPkjuyg860qEfXo/uTfky0mm4USYxYnfG7jgdOWQbs+W9CUmc5zNV1LSvefdIvJTm3vZ99ywLhrKpSEq1pbpS/fq+PKapbIByDsyx+T3IJYjekOGjBvSoER0G2hyBx4/OXywaBMax3rEGgxZtjkO/HO/Bowa0qzXanIg1Z45+A0okibBToBQoBUqB2h5QThInjgqUAqVAKVDbA8rHxCHqL54CpUApUBsEqp6BstErUAqUAqVA/QWo6/QB\n",
      "Position.z 7Zc9a8MwEIb/y8120N1Jp489cwvN0KZ0MCWDKUlK4k7B/73+CEGh6ZVm1mJs0MO9eiUe8Ake98e2a/c7SK8nWLXbzbFrtp+QgAxxbbjGuEJJHBKbRfRWJMoaKljuukO7OUI6AY6Pp67pvoZPeNitDs37x7DkGVKNHKWCF0jO2ArWkBBDXwFpCEY/IbXLEashFNyEkMEMQaMxlnFOFkPO3LEbVLNZDhMj6HNG1DlmnkPuKltQGTvPYZ93QGoHxHzeT47oFeCMkM+3Q+qJ8niSY7R4NYfVaHSec4WoTf/SgFfHuDgxw0vGsFrB7Ztj9Ww3T9Q5NZvMDNr8tsn/a/NqBTyuHZHxcl+YoFZAdmYkXpC+r/4yCC4wWmHBYpBikGKQYpA7DGLRiiFfDFIMUgxSDHKHQSJbR1z+YopBikGKQX4Y5K3/Bg==\n"
     ]
    },
    {
     "name": "stderr",
     "output_type": "stream",
     "text": [
      "DEBUG:signalr_async.client:Raw message received: WSMessage(type=<WSMsgType.TEXT: 1>, data='{}', extra='')\n",
      "DEBUG:signalr_async.client:Raw message received: WSMessage(type=<WSMsgType.TEXT: 1>, data='{\"C\":\"d-F23263D5-B,0|Df,0|Dg,11|d,95|p,8AC|o,8AB|a,1|Y,D|Dh,0|n,1|W,2|c,25|i,1|X,C|k,3|l,1|r,2|Z,1|s,59F\",\"M\":[{\"H\":\"Streaming\",\"M\":\"feed\",\"A\":[\"CarData.z\",\"7Ze/CsIwEMbf5eYq96eNSdbiG+iiOBQRFKSDdit9d2vcBb9J5Za7EPKRu+/CDzLSuh9ul9Od8n6k7XCkTMpqC7aFpI2EbDGbLlmTsMqOKmq723x6JHmG9tz1/elaNpgyV6QlWol1ic1r/UzTVA5AuhrUCX8ulCJEOxS41ICWGtFhoOYoPH50/mqoEBjHq8cVKDTUnBp9OU0DlhpQV1eoOREzZ5a+A5Rx4sDRAeWAckA5oL4PUEETiwGAEq7LTSV/F6QkmDinnFPOqf/hVIoxBf6fn56E6IxyRjmjfotRh+kB\",\"2023-03-19T16:38:32.9889601Z\"]},{\"H\":\"Streaming\",\"M\":\"feed\",\"A\":[\"Position.z\",\"7ZS7asNAEEX/ZWrJaB777F0nEBWJQwoRXIhgOdhKZfTv0cOYdXAmxPU2QoI9zN27q3OCx/2x7dt9B/H1BHW72x77ZvcJEagiLisuMdRoI/vIuApBDIrZQAHrrj+02yPEE+D0eOqb/mv8hIeuPjTvH+OSZ4glcrAFvEA0lRSwgYjohwJIQzC4GSlNioiGkDczQhUmCFYaI4xLsuBT5o7doJpN2M+MRZcyVp1TLXPIXGXzKiPLHHZpB6R2QMzn/aSIXgEuCLl0O6SeKE8nOUULV3NYjUbnOVeI2vQvDTh1jAkzM74kDKsV3L45ome7eaLGqNnswqCkt83+vzanVsDT2gmZLveF8WoFJAtjwwUZhuIvg9CKWMT5LJAskCyQLJA7BGJGgTBJNkg2SDZINsgdBnFOxn8oCyQLJAskC+SnQN6Gbw==\",\"2023-03-19T16:38:32.774396Z\"]}]}', extra='')\n"
     ]
    },
    {
     "name": "stdout",
     "output_type": "stream",
     "text": [
      "CarData.z 7Ze/CsIwEMbf5eYq96eNSdbiG+iiOBQRFKSDdit9d2vcBb9J5Za7EPKRu+/CDzLSuh9ul9Od8n6k7XCkTMpqC7aFpI2EbDGbLlmTsMqOKmq723x6JHmG9tz1/elaNpgyV6QlWol1ic1r/UzTVA5AuhrUCX8ulCJEOxS41ICWGtFhoOYoPH50/mqoEBjHq8cVKDTUnBp9OU0DlhpQV1eoOREzZ5a+A5Rx4sDRAeWAckA5oL4PUEETiwGAEq7LTSV/F6QkmDinnFPOqf/hVIoxBf6fn56E6IxyRjmjfotRh+kB\n",
      "Position.z 7ZS7asNAEEX/ZWrJaB777F0nEBWJQwoRXIhgOdhKZfTv0cOYdXAmxPU2QoI9zN27q3OCx/2x7dt9B/H1BHW72x77ZvcJEagiLisuMdRoI/vIuApBDIrZQAHrrj+02yPEE+D0eOqb/mv8hIeuPjTvH+OSZ4glcrAFvEA0lRSwgYjohwJIQzC4GSlNioiGkDczQhUmCFYaI4xLsuBT5o7doJpN2M+MRZcyVp1TLXPIXGXzKiPLHHZpB6R2QMzn/aSIXgEuCLl0O6SeKE8nOUULV3NYjUbnOVeI2vQvDTh1jAkzM74kDKsV3L45ome7eaLGqNnswqCkt83+vzanVsDT2gmZLveF8WoFJAtjwwUZhuIvg9CKWMT5LJAskCyQLJA7BGJGgTBJNkg2SDZINsgdBnFOxn8oCyQLJAskC+SnQN6Gbw==\n"
     ]
    },
    {
     "name": "stderr",
     "output_type": "stream",
     "text": [
      "DEBUG:signalr_async.client:Raw message received: WSMessage(type=<WSMsgType.TEXT: 1>, data='{\"C\":\"d-F23263D5-B,0|Df,0|Dg,11|d,96|p,8AC|o,8AB|a,1|Y,D|Dh,0|n,1|W,2|c,25|i,1|X,C|k,3|l,1|r,2|Z,1|s,59F\",\"M\":[{\"H\":\"Streaming\",\"M\":\"feed\",\"A\":[\"Heartbeat\",{\"Utc\":\"2023-03-19T16:38:35.7188512Z\",\"_kf\":true},\"2023-03-19T16:38:34.932Z\"]}]}', extra='')\n"
     ]
    },
    {
     "name": "stdout",
     "output_type": "stream",
     "text": [
      "Heartbeat {'Utc': '2023-03-19T16:38:35.7188512Z', '_kf': True}\n"
     ]
    },
    {
     "name": "stderr",
     "output_type": "stream",
     "text": [
      "DEBUG:signalr_async.client:Raw message received: WSMessage(type=<WSMsgType.TEXT: 1>, data='{\"C\":\"d-F23263D5-B,0|Df,0|Dg,11|d,96|p,8AD|o,8AC|a,1|Y,D|Dh,0|n,1|W,2|c,25|i,1|X,C|k,3|l,1|r,2|Z,1|s,59F\",\"M\":[{\"H\":\"Streaming\",\"M\":\"feed\",\"A\":[\"CarData.z\",\"7ZQ9C8IwEIb/y81Vcrl8NWvxH+iiOBQpKEgH7Vb6323TtRR9N0uWayh5yOXN8fR0aLvXo3lTvPR06m4USSstOyU7Lo/sooQoshcVStbuTAVV9Wvc3RNPpbrXbds80w9FURWkU5VUTap2Xk+fYUgbIM6AHKsFkD27dZYTi16S4W7d7+DcakDfYymfb07U8ASgI6AFBYHnmO/oQVDQcAw6OdaCrTo0VY+GE7BwRnTNUdaE4D1vyFG6zI7KjsqO2o6j/Ogo4+2GHCU6Oyo7Kjvqrxx1HT4=\",\"2023-03-19T16:38:33.7488475Z\"]},{\"H\":\"Streaming\",\"M\":\"feed\",\"A\":[\"Position.z\",\"7ZS7asNAEEX/ZWrJ7Dz22adOIC4ShxQmuBDBcrCVyujfo4cx6+BMsOtthAQ6zN27wznC0+7QdM2uhfR2hGWz3Ry69fYLEpAhrg3XGJfoEofEvDBRWDyvoIKHtts3mwOkI+D4eO7W3ffwCY/tcr/++Bx+eYFUI0dXwSska6SCFSTE0FdAGoLRT0htc0Q0hIKdEDKYIWg0RhjnZDHkzB2nQTWbcJgYhz5nnDrHzHPIXmQLKiPzHPZ5B6R2QMyn8+SIXgHOCPn8OKTeKI83OUaLF3NYjUanOReI2vQfDXh1jI0TM7xkDKsVXN8c0bNdvVFr1WxuZlDybXO31+bVCnj8d0TG5T4zQa2AZGZcPCN9X/1vEPbCRkIxSDFIMUgxyB0GsVaGxZFikGKQYpBikJsNIguDQsbbYpBikGKQYpDfBnnvfwA=\",\"2023-03-19T16:38:34.0142075Z\"]}]}', extra='')\n"
     ]
    },
    {
     "name": "stdout",
     "output_type": "stream",
     "text": [
      "CarData.z 7ZQ9C8IwEIb/y81Vcrl8NWvxH+iiOBQpKEgH7Vb6323TtRR9N0uWayh5yOXN8fR0aLvXo3lTvPR06m4USSstOyU7Lo/sooQoshcVStbuTAVV9Wvc3RNPpbrXbds80w9FURWkU5VUTap2Xk+fYUgbIM6AHKsFkD27dZYTi16S4W7d7+DcakDfYymfb07U8ASgI6AFBYHnmO/oQVDQcAw6OdaCrTo0VY+GE7BwRnTNUdaE4D1vyFG6zI7KjsqO2o6j/Ogo4+2GHCU6Oyo7Kjvqrxx1HT4=\n",
      "Position.z 7ZS7asNAEEX/ZWrJ7Dz22adOIC4ShxQmuBDBcrCVyujfo4cx6+BMsOtthAQ6zN27wznC0+7QdM2uhfR2hGWz3Ry69fYLEpAhrg3XGJfoEofEvDBRWDyvoIKHtts3mwOkI+D4eO7W3ffwCY/tcr/++Bx+eYFUI0dXwSska6SCFSTE0FdAGoLRT0htc0Q0hIKdEDKYIWg0RhjnZDHkzB2nQTWbcJgYhz5nnDrHzHPIXmQLKiPzHPZ5B6R2QMyn8+SIXgHOCPn8OKTeKI83OUaLF3NYjUanOReI2vQfDXh1jI0TM7xkDKsVXN8c0bNdvVFr1WxuZlDybXO31+bVCnj8d0TG5T4zQa2AZGZcPCN9X/1vEPbCRkIxSDFIMUgxyB0GsVaGxZFikGKQYpBikJsNIguDQsbbYpBikGKQYpDfBnnvfwA=\n"
     ]
    },
    {
     "name": "stderr",
     "output_type": "stream",
     "text": [
      "DEBUG:signalr_async.client:Raw message received: WSMessage(type=<WSMsgType.TEXT: 1>, data='{\"C\":\"d-F23263D5-B,0|Df,0|Dg,11|d,96|p,8AE|o,8AD|a,1|Y,D|Dh,0|n,1|W,2|c,25|i,1|X,C|k,3|l,1|r,2|Z,1|s,59F\",\"M\":[{\"H\":\"Streaming\",\"M\":\"feed\",\"A\":[\"CarData.z\",\"7da9CoMwEAfwd7nZllwu36v0DdqlpYMUoYXi0LqJ716Nq0h7k5VbTgn5Y3IJP+zg0LSvR/2GdOng1N4ggVaadop2GI/oEoVEZo8m+ODpDAWU1WuY3QGOpbxXTVM/84CCpArQuVKuJlc7vY+Pvs8TWDnDzKGaCaInvZzFnOVuEtmrdb8Hp6UG7nnM9eebL2r2DeBeAU3cIOM4pj16ZpC4zTHcm2Mtc6mO21XPbU7gNWeILhlFg1HW+y0ZRWKUGCVGbccoOxilA4pRYpQYJUat0ihvgovBilFilBglRq3SqGiic5v6j9JRjBKjxKi/MurafwA=\",\"2023-03-19T16:38:34.9496681Z\"]},{\"H\":\"Streaming\",\"M\":\"feed\",\"A\":[\"Position.z\",\"7ZQ7a8NAEIT/y9ZSuN29d586gahIHFKI4EIEy8FSKqH/Hj2MOQVnQ1xfIyS4j5mdPc0Aj8eu6ZtjC/F1gKo57Lu+PnxCBFLEpeISQ4U2so+s79Bp9Ew7KOC+7U/NvoM4AM6Pp77uv6ZPeGirU/3+MR15hlgiB1vAC0SjdAE7iIh+LIAkBINbkNKkiJYQ8mZBSGGCoJIYzbg6Cz5lbpgGRW+a/cJYdCljRR216pDZePMio1cddmkGJGZAzOd5UkSOAFeEXDoOiRvleZOztbDRYdEanXU2iJj0Lwk4UcaEhZleEobFCK7fHC17u7pRY0RvdmVQp7fN/j82J0bA89kZmS/3hfFiBKRXxoYLMo7F3w1i2Ew/K+cGyQ2SGyQ3yA0N4o1RLrjcILlBcoPkBvnZIG/jNw==\",\"2023-03-19T16:38:34.8550797Z\"]}]}', extra='')\n"
     ]
    },
    {
     "name": "stdout",
     "output_type": "stream",
     "text": [
      "CarData.z 7da9CoMwEAfwd7nZllwu36v0DdqlpYMUoYXi0LqJ716Nq0h7k5VbTgn5Y3IJP+zg0LSvR/2GdOng1N4ggVaadop2GI/oEoVEZo8m+ODpDAWU1WuY3QGOpbxXTVM/84CCpArQuVKuJlc7vY+Pvs8TWDnDzKGaCaInvZzFnOVuEtmrdb8Hp6UG7nnM9eebL2r2DeBeAU3cIOM4pj16ZpC4zTHcm2Mtc6mO21XPbU7gNWeILhlFg1HW+y0ZRWKUGCVGbccoOxilA4pRYpQYJUat0ihvgovBilFilBglRq3SqGiic5v6j9JRjBKjxKi/MurafwA=\n",
      "Position.z 7ZQ7a8NAEIT/y9ZSuN29d586gahIHFKI4EIEy8FSKqH/Hj2MOQVnQ1xfIyS4j5mdPc0Aj8eu6ZtjC/F1gKo57Lu+PnxCBFLEpeISQ4U2so+s79Bp9Ew7KOC+7U/NvoM4AM6Pp77uv6ZPeGirU/3+MR15hlgiB1vAC0SjdAE7iIh+LIAkBINbkNKkiJYQ8mZBSGGCoJIYzbg6Cz5lbpgGRW+a/cJYdCljRR216pDZePMio1cddmkGJGZAzOd5UkSOAFeEXDoOiRvleZOztbDRYdEanXU2iJj0Lwk4UcaEhZleEobFCK7fHC17u7pRY0RvdmVQp7fN/j82J0bA89kZmS/3hfFiBKRXxoYLMo7F3w1i2Ew/K+cGyQ2SGyQ3yA0N4o1RLrjcILlBcoPkBvnZIG/jNw==\n"
     ]
    },
    {
     "name": "stderr",
     "output_type": "stream",
     "text": [
      "DEBUG:signalr_async.client:Connection keepalive\n",
      "DEBUG:signalr_async.client:Sending: message_content='{}', is_binary=False\n",
      "DEBUG:signalr_async.client:Raw message received: WSMessage(type=<WSMsgType.TEXT: 1>, data='{\"C\":\"d-F23263D5-B,0|Df,0|Dg,11|d,96|p,8AF|o,8AE|a,1|Y,D|Dh,0|n,1|W,2|c,25|i,1|X,C|k,3|l,1|r,2|Z,1|s,59F\",\"M\":[{\"H\":\"Streaming\",\"M\":\"feed\",\"A\":[\"CarData.z\",\"7de9CsIwEAfwd7m5Si6Xj0tW8Q10URyKFBSkg3YrfXdruoroTbXcci0hf5pcwg/aw7bt7tfmAfnYw747QwZrLK0MrTDtMGTiTH6NnAJZOkAFm/o+zu4BX2Vzqdu2uZUBA9lUYEulUl2pfnp/PYahTBDlnDCH5k0QI+HnLJasdJMoXm34PTgtlaXn8a4/33zRim+A9ApYkgYFxzHtMQqDJG2Ok94c74VLDdKuRmlzWNacMfrJKHIpGGY1So1So9SoWRoVbPIhRjVKjVKj1KhZGsWjUcQL+tfz5NUoNUqNWo5RiZNHtxiiEiUVSoVSof5KqNPwBA==\",\"2023-03-19T16:38:35.989514Z\"]},{\"H\":\"Streaming\",\"M\":\"feed\",\"A\":[\"Position.z\",\"7ZQ7a8NAEIT/y9ZSuN29d586gahIHFKI4EIEy8FSKqH/Hj2MOQVnQ1xfI05wHzM7e8wAj8eu6ZtjC/F1gKo57Lu+PnxCBFLEpeISQ4U2so9s7oiNIgw7KOC+7U/NvoM4AM6fp77uv6ZfeGirU/3+MV15hlgiB1vAC0SjdAE7iIh+LIAkBINbkNKkiJYQ8mZBSGGCoJIYzbg6Cz5lbpgGRW+a/cJYdCljRR216pDZePMio1cddmkGJGZAzOd5UkSOAFeEXDoOiRvleZOztbDRYdEanXU2iJj0Lwk4UcaEhZkOCcNiBNdfjpa9Xd2oMaI3uzKo09dm/x+bEyPg+e6MzI/7wngxAtIrY8MFGcfi7wbRTgdvdG6Q3CC5QXKD3NAgAXVAb3KD5AbJDZIb5GeDvI3f\",\"2023-03-19T16:38:35.9149185Z\"]}]}', extra='')\n"
     ]
    },
    {
     "name": "stdout",
     "output_type": "stream",
     "text": [
      "CarData.z 7de9CsIwEAfwd7m5Si6Xj0tW8Q10URyKFBSkg3YrfXdruoroTbXcci0hf5pcwg/aw7bt7tfmAfnYw747QwZrLK0MrTDtMGTiTH6NnAJZOkAFm/o+zu4BX2Vzqdu2uZUBA9lUYEulUl2pfnp/PYahTBDlnDCH5k0QI+HnLJasdJMoXm34PTgtlaXn8a4/33zRim+A9ApYkgYFxzHtMQqDJG2Ok94c74VLDdKuRmlzWNacMfrJKHIpGGY1So1So9SoWRoVbPIhRjVKjVKj1KhZGsWjUcQL+tfz5NUoNUqNWo5RiZNHtxiiEiUVSoVSof5KqNPwBA==\n",
      "Position.z 7ZQ7a8NAEIT/y9ZSuN29d586gahIHFKI4EIEy8FSKqH/Hj2MOQVnQ1xfI05wHzM7e8wAj8eu6ZtjC/F1gKo57Lu+PnxCBFLEpeISQ4U2so9s7oiNIgw7KOC+7U/NvoM4AM6fp77uv6ZfeGirU/3+MV15hlgiB1vAC0SjdAE7iIh+LIAkBINbkNKkiJYQ8mZBSGGCoJIYzbg6Cz5lbpgGRW+a/cJYdCljRR216pDZePMio1cddmkGJGZAzOd5UkSOAFeEXDoOiRvleZOztbDRYdEanXU2iJj0Lwk4UcaEhZkOCcNiBNdfjpa9Xd2oMaI3uzKo09dm/x+bEyPg+e6MzI/7wngxAtIrY8MFGcfi7wbRTgdvdG6Q3CC5QXKD3NAgAXVAb3KD5AbJDZIb5GeDvI3f\n"
     ]
    },
    {
     "name": "stderr",
     "output_type": "stream",
     "text": [
      "DEBUG:signalr_async.client:Raw message received: WSMessage(type=<WSMsgType.TEXT: 1>, data='{\"C\":\"d-F23263D5-B,0|Df,0|Dg,11|d,96|p,8B0|o,8AF|a,1|Y,D|Dh,0|n,1|W,2|c,25|i,1|X,C|k,3|l,1|r,2|Z,1|s,59F\",\"M\":[{\"H\":\"Streaming\",\"M\":\"feed\",\"A\":[\"CarData.z\",\"7ZSxDoIwEIbf5WYw7V1paVfiG+iicSCGRBPDgGyEdxfKagj+i9F0OUjTL1z/Ht9A+7bv7s2TwnmgY3+lQKxYciW59gdtg5RB7I7ZG1fKiTKq6m7aPZCeS3Wr27Z5xAVFQWXEsUqsJtZieZ8f4xg3QJwBOa3egFZ4HdURRc+o4Wbt5+DSaolex7t4tnyR4QFAJ4AFBYHrWM7oQFDQcAw6OUUBtmrRVB0aTomFM6FrijLWG8PubxS16a9PgkqCSoL6DUF55cU5nQSVBJUElQT1FUFdxhc=\",\"2023-03-19T16:38:36.9093771Z\"]},{\"H\":\"Streaming\",\"M\":\"feed\",\"A\":[\"Position.z\",\"7ZY7a8NAEIT/y9ZSuH3cs0+dQFQkDilMcCGC5WArldF/jx7GnImzIa6vERLcx8zOHoOO8Lg7tH276yC9HqFpt5tDv95+QgIyxLXhGmODLnFI7O7ISnAurqCC+67ft5sDpCPg9Hjq1/3X+AkPXbNfv3+MR54h1cjRVfACyRqpYAUJMQwVkIZg9DNS2xwRDaFgZ4QMZggajRHGxVkMOXPDNKh6Ew4z49DnjFN1zKJD9sJbUBlZdNjnGZCaATGf5skRPQJcEPL5OKRulKdNTtbihQ6r1uikc4GoSf+SgFdlbJyZ8SVjWI3g+s0R3dvVjVqrenMLg5LfNvf/2LwaAU9nJ2S63GcmqBGQLIyLZ2QYqr8bRLwEZikNUhqkNEhpkBsaxFvx0ZR/kNIgpUFKg/xokLfhGw==\",\"2023-03-19T16:38:36.7547909Z\"]}]}', extra='')\n"
     ]
    },
    {
     "name": "stdout",
     "output_type": "stream",
     "text": [
      "CarData.z 7ZSxDoIwEIbf5WYw7V1paVfiG+iicSCGRBPDgGyEdxfKagj+i9F0OUjTL1z/Ht9A+7bv7s2TwnmgY3+lQKxYciW59gdtg5RB7I7ZG1fKiTKq6m7aPZCeS3Wr27Z5xAVFQWXEsUqsJtZieZ8f4xg3QJwBOa3egFZ4HdURRc+o4Wbt5+DSaolex7t4tnyR4QFAJ4AFBYHrWM7oQFDQcAw6OUUBtmrRVB0aTomFM6FrijLWG8PubxS16a9PgkqCSoL6DUF55cU5nQSVBJUElQT1FUFdxhc=\n",
      "Position.z 7ZY7a8NAEIT/y9ZSuH3cs0+dQFQkDilMcCGC5WArldF/jx7GnImzIa6vERLcx8zOHoOO8Lg7tH276yC9HqFpt5tDv95+QgIyxLXhGmODLnFI7O7ISnAurqCC+67ft5sDpCPg9Hjq1/3X+AkPXbNfv3+MR54h1cjRVfACyRqpYAUJMQwVkIZg9DNS2xwRDaFgZ4QMZggajRHGxVkMOXPDNKh6Ew4z49DnjFN1zKJD9sJbUBlZdNjnGZCaATGf5skRPQJcEPL5OKRulKdNTtbihQ6r1uikc4GoSf+SgFdlbJyZ8SVjWI3g+s0R3dvVjVqrenMLg5LfNvf/2LwaAU9nJ2S63GcmqBGQLIyLZ2QYqr8bRLwEZikNUhqkNEhpkBsaxFvx0ZR/kNIgpUFKg/xokLfhGw==\n"
     ]
    },
    {
     "name": "stderr",
     "output_type": "stream",
     "text": [
      "DEBUG:signalr_async.client:Raw message received: WSMessage(type=<WSMsgType.TEXT: 1>, data='{\"C\":\"d-F23263D5-B,0|Df,0|Dg,11|d,96|p,8B1|o,8B0|a,1|Y,D|Dh,0|n,1|W,2|c,25|i,1|X,C|k,3|l,1|r,2|Z,1|s,59F\",\"M\":[{\"H\":\"Streaming\",\"M\":\"feed\",\"A\":[\"CarData.z\",\"7ZTNCsIwEITfZc+tJLv5a67FN9CL4qFIQUF60N5K3902vQvORQ8LYRJCBnZnwzfRfhif9/5F+TzRcbxSJjYstZHaNgcbsqQsccfcyLJOVFHbPZfXE9lV2ls3DP2jXBjKpiIuKkVdUb+d122eywPI50CfNd8bbTGiHVq41ICWmtBhoOEwPH50/iyoERjH1mMEjYKG49Cf4z1YakBTjWg4CQtnsX4ClDcNp5gUUAooBZQC6v8AFVPDLjgFlAJKAaWA+gmgLvMb\",\"2023-03-19T16:38:37.7892464Z\"]},{\"H\":\"Streaming\",\"M\":\"feed\",\"A\":[\"Position.z\",\"7ZQ9SwNBEIb/y9R3srMz+9lbK5hCIxZBUhySiyRnFe6/ex8hbCSOePU04QL7MO++OzwneNwfm67Zt5BfT7Bqdttjt9l9QgZrLNWGakwr9JlipnBnkINDWkMF9213aLZHyCfA8eep23Rfw194aFeHzfvHcOQZco2UfAUvkJ3hCtaQEWNfgZUQTGFCalciLCE2ugmxBgsEjcQw4ZwsxZJZcBsUszHFifEYSsaLc8w8x7qrbFFkeJ5DoezAih1YovN9SkSuAGfEhvI6VnxRGl9yjJau5pAYzZ7nXCFi0780EMQxLk3M8FEwJFZwe3NYznbzRZ0Ts/mZQS63zf+/tiBWQOPZERmX+8JEsQLLM+PTBen76m+D2MBhOKwGUYOoQdQgCwzCjn3koAZRg6hB1CALDOKRvTdqEDWIGkQNssQgkdgPm6MGUYOoQdQgPw3y1n8D\",\"2023-03-19T16:38:37.8346277Z\"]}]}', extra='')\n"
     ]
    },
    {
     "name": "stdout",
     "output_type": "stream",
     "text": [
      "CarData.z 7ZTNCsIwEITfZc+tJLv5a67FN9CL4qFIQUF60N5K3902vQvORQ8LYRJCBnZnwzfRfhif9/5F+TzRcbxSJjYstZHaNgcbsqQsccfcyLJOVFHbPZfXE9lV2ls3DP2jXBjKpiIuKkVdUb+d122eywPI50CfNd8bbTGiHVq41ICWmtBhoOEwPH50/iyoERjH1mMEjYKG49Cf4z1YakBTjWg4CQtnsX4ClDcNp5gUUAooBZQC6v8AFVPDLjgFlAJKAaWA+gmgLvMb\n",
      "Position.z 7ZQ9SwNBEIb/y9R3srMz+9lbK5hCIxZBUhySiyRnFe6/ex8hbCSOePU04QL7MO++OzwneNwfm67Zt5BfT7Bqdttjt9l9QgZrLNWGakwr9JlipnBnkINDWkMF9213aLZHyCfA8eep23Rfw194aFeHzfvHcOQZco2UfAUvkJ3hCtaQEWNfgZUQTGFCalciLCE2ugmxBgsEjcQw4ZwsxZJZcBsUszHFifEYSsaLc8w8x7qrbFFkeJ5DoezAih1YovN9SkSuAGfEhvI6VnxRGl9yjJau5pAYzZ7nXCFi0780EMQxLk3M8FEwJFZwe3NYznbzRZ0Ts/mZQS63zf+/tiBWQOPZERmX+8JEsQLLM+PTBen76m+D2MBhOKwGUYOoQdQgCwzCjn3koAZRg6hB1CALDOKRvTdqEDWIGkQNssQgkdgPm6MGUYOoQdQgPw3y1n8D\n"
     ]
    },
    {
     "name": "stderr",
     "output_type": "stream",
     "text": [
      "DEBUG:signalr_async.client:Raw message received: WSMessage(type=<WSMsgType.TEXT: 1>, data='{\"C\":\"d-F23263D5-B,0|Df,0|Dg,11|d,96|p,8B2|o,8B1|a,1|Y,D|Dh,0|n,1|W,2|c,25|i,1|X,C|k,3|l,1|r,2|Z,1|s,59F\",\"M\":[{\"H\":\"Streaming\",\"M\":\"feed\",\"A\":[\"CarData.z\",\"7ZTNCsIwEITfZc+tZPOfXotvoBfFQ5GCgvRQeyt9d9P0LjgXe1gIkxAysDsbvpmOwzQ++zc115nO050a0kqbWpma04l9Y2JeB46JozcXqqjtxvx6Jl6lfXTD0L/KhaJGVaSLmqK2qNvO67Ys5QHks6CP1e9GLka0Q4ZL9WipER0GGo6Gx4/OXxvUCIxj6zGARoOGY9Gf4xxYqkdTDWg4EQsnW78ByqnEJgmgBFACKAHUDgEVMqBUSgIoAZQASgC1P0Alm1SwLIASQAmgBFB/AdRt+QA=\",\"2023-03-19T16:38:38.9490741Z\"]},{\"H\":\"Streaming\",\"M\":\"feed\",\"A\":[\"Position.z\",\"7ZZNS8NAEIb/y5wT2dmZ/bx7VrAHrXgo0kOQptLGU8l/Nx+lbKWOmPNACAnkYd59d3nICR73x6Zr9i3k1xOsmt322G12n5DBGku1oRrTCn2mOFx3htilQGuo4L7tDs32CPkEON6euk33NbzCQ7s6bN4/hk+eIddIyVfwAtkZrmANGTH2FVgJwRQmpHYlwhJio5sQa7BA0EgME87JUiyZBatBMRtTnBiPoWS8OMfMc6y7yhZFhuc5FMoOrNiBJTqvp0TkCnBGbCiXY8UdpXEnx2jpag6J0ex5zhUiNv1LA0Ec49LEDA8FQ2IFt08Oy9lu7qhzYjY/M8jlafP/ry2IFdD47YiMh/vCRLECyzPj0wXp++pvg9jAzpuoBlGDqEHUIAsM4gaDoLNqEDWIGkQNssAgITBH1n8QNYgaRA2yxCCJmL1xahA1iBpEDfLTIG/9Nw==\",\"2023-03-19T16:38:38.9344605Z\"]}]}', extra='')\n"
     ]
    },
    {
     "name": "stdout",
     "output_type": "stream",
     "text": [
      "CarData.z 7ZTNCsIwEITfZc+tZPOfXotvoBfFQ5GCgvRQeyt9d9P0LjgXe1gIkxAysDsbvpmOwzQ++zc115nO050a0kqbWpma04l9Y2JeB46JozcXqqjtxvx6Jl6lfXTD0L/KhaJGVaSLmqK2qNvO67Ys5QHks6CP1e9GLka0Q4ZL9WipER0GGo6Gx4/OXxvUCIxj6zGARoOGY9Gf4xxYqkdTDWg4EQsnW78ByqnEJgmgBFACKAHUDgEVMqBUSgIoAZQASgC1P0Alm1SwLIASQAmgBFB/AdRt+QA=\n",
      "Position.z 7ZZNS8NAEIb/y5wT2dmZ/bx7VrAHrXgo0kOQptLGU8l/Nx+lbKWOmPNACAnkYd59d3nICR73x6Zr9i3k1xOsmt322G12n5DBGku1oRrTCn2mOFx3htilQGuo4L7tDs32CPkEON6euk33NbzCQ7s6bN4/hk+eIddIyVfwAtkZrmANGTH2FVgJwRQmpHYlwhJio5sQa7BA0EgME87JUiyZBatBMRtTnBiPoWS8OMfMc6y7yhZFhuc5FMoOrNiBJTqvp0TkCnBGbCiXY8UdpXEnx2jpag6J0ex5zhUiNv1LA0Ec49LEDA8FQ2IFt08Oy9lu7qhzYjY/M8jlafP/ry2IFdD47YiMh/vCRLECyzPj0wXp++pvg9jAzpuoBlGDqEHUIAsM4gaDoLNqEDWIGkQNssAgITBH1n8QNYgaRA2yxCCJmL1xahA1iBpEDfLTIG/9Nw==\n"
     ]
    },
    {
     "name": "stderr",
     "output_type": "stream",
     "text": [
      "DEBUG:signalr_async.client:Raw message received: WSMessage(type=<WSMsgType.TEXT: 1>, data='{\"C\":\"d-F23263D5-B,0|Df,0|Dg,11|d,96|p,8B3|o,8B2|a,1|Y,D|Dh,0|n,1|W,2|c,25|i,1|X,C|k,3|l,1|r,2|Z,1|s,59F\",\"M\":[{\"H\":\"Streaming\",\"M\":\"feed\",\"A\":[\"CarData.z\",\"7dSxCoMwEAbgd7lZS5JLYpJV+gbt0tJBitBCcbBu4rs3xr3Qf6nDLadIfrjcyTfTcZjGZ/+mdJ3pPN0pkVGGa8W1jiftE4fE8aBDVBzMhSpquzGfnkmvpX10w9C/ygdFSVVkSuVSbalue18fy1IOQDkL5rT6PahLEL2hhlv1aKsBXQY6HAOvH92/YTQIrGO7YwMGGR2ORf8c58BWPTrVBh1OwIaTo9+A4gyUCl6AEqAEKAFqf0A5G2KwUYASoAQoAWp/QDUZKOdYgBKgBCgBan9AxQyUcVqAEqAEKAHqL0Ddlg8=\",\"2023-03-19T16:38:39.9489251Z\"]},{\"H\":\"Streaming\",\"M\":\"feed\",\"A\":[\"Position.z\",\"7ZS7asNAEEX/ZWrJ7Dz22adOIC4ShxQmuBDBcrCVyujfo4cx6+BMsOtthAR7uLN3V+cIT7tD0zW7FtLbEZbNdnPo1tsvSECGuDZcY1yiSxwSxwWiCDOuoIKHtts3mwOkI+D4eO7W3ffwCY/tcr/++ByWvECqkaOr4BWSNVLBChJi6CsgDcHoJ6S2OSIaQsFOCBnMEDQaI4zzZDHkzB27QXU24TAxDn3OODXHzDlkL2YLKiNzDvu8A1I7IObTfnJErwBnhHy+HVJPlMeTHEeLFzmsjkannAtEbfqPBrwaY+PEDC8Zw2oF12+O6LNdPVFr1dnczAx/Xca422vzagU8rh2R8XKfmaBWQDIzLp6Rvq/+NwhHGS6BKwYpBikGKQa5wyDWCzumYpBikGKQYpBbDSJmYVCGGC4GKQYpBikG+W2Q9/4H\",\"2023-03-19T16:38:40.0142963Z\"]}]}', extra='')\n"
     ]
    },
    {
     "name": "stdout",
     "output_type": "stream",
     "text": [
      "CarData.z 7dSxCoMwEAbgd7lZS5JLYpJV+gbt0tJBitBCcbBu4rs3xr3Qf6nDLadIfrjcyTfTcZjGZ/+mdJ3pPN0pkVGGa8W1jiftE4fE8aBDVBzMhSpquzGfnkmvpX10w9C/ygdFSVVkSuVSbalue18fy1IOQDkL5rT6PahLEL2hhlv1aKsBXQY6HAOvH92/YTQIrGO7YwMGGR2ORf8c58BWPTrVBh1OwIaTo9+A4gyUCl6AEqAEKAFqf0A5G2KwUYASoAQoAWp/QDUZKOdYgBKgBCgBan9AxQyUcVqAEqAEKAHqL0Ddlg8=\n",
      "Position.z 7ZS7asNAEEX/ZWrJ7Dz22adOIC4ShxQmuBDBcrCVyujfo4cx6+BMsOtthAR7uLN3V+cIT7tD0zW7FtLbEZbNdnPo1tsvSECGuDZcY1yiSxwSxwWiCDOuoIKHtts3mwOkI+D4eO7W3ffwCY/tcr/++ByWvECqkaOr4BWSNVLBChJi6CsgDcHoJ6S2OSIaQsFOCBnMEDQaI4zzZDHkzB27QXU24TAxDn3OODXHzDlkL2YLKiNzDvu8A1I7IObTfnJErwBnhHy+HVJPlMeTHEeLFzmsjkannAtEbfqPBrwaY+PEDC8Zw2oF12+O6LNdPVFr1dnczAx/Xca422vzagU8rh2R8XKfmaBWQDIzLp6Rvq/+NwhHGS6BKwYpBikGKQa5wyDWCzumYpBikGKQYpBbDSJmYVCGGC4GKQYpBikG+W2Q9/4H\n"
     ]
    },
    {
     "name": "stderr",
     "output_type": "stream",
     "text": [
      "DEBUG:signalr_async.client:Connection keepalive\n",
      "DEBUG:signalr_async.client:Sending: message_content='{}', is_binary=False\n",
      "DEBUG:signalr_async.client:Raw message received: WSMessage(type=<WSMsgType.TEXT: 1>, data='{\"C\":\"d-F23263D5-B,0|Df,0|Dg,11|d,96|p,8B4|o,8B3|a,1|Y,D|Dh,0|n,1|W,2|c,25|i,1|X,C|k,3|l,1|r,2|Z,1|s,59F\",\"M\":[{\"H\":\"Streaming\",\"M\":\"feed\",\"A\":[\"CarData.z\",\"7ZYxC8IwEIX/y81Vcndpes0q/gNdFIcigoJ00G6l/90ad8E3FbzlEkIe3L0XPjLSth8et8uT8nGk/XCmTBJEV0FX3O44ZbUcw1rEzFQPVNGme8y3R+J32Vy7vr/cy0GgHCqSUrXUWGr92b+XaSoXIF0EdRx+F3IRohMy3GpCWzU0DNQcgeNH8xdFhUAcnxkbUKioORF9OXUNtppQVxvUHMPMmaXfAFUHs8jmgHJAOaAcUMsDlIk1bfQflAPKAeWAWhygeB1mQCVtlwYoluSMckY5o/6EUafpBQ==\",\"2023-03-19T16:38:41.0287639Z\"]},{\"H\":\"Streaming\",\"M\":\"feed\",\"A\":[\"Position.z\",\"7Za7asNAEEX/ZWrJ7Mzsu0+dQFwkDilMcCGC5WArldG/Rw9j1sSZYNfTCAn2MHfvLgcd4Wl3aLpm10J+O8Ky2W4O3Xr7BRnIENeGa0xL9JljtmaBzlJwuIIKHtpu32wOkI+A4+O5W3ffwyc8tsv9+uNzWPICuUZOvoJXyM7YClaQEWNfAUkIpjAhtSsRKyEU3YSQwQJBIzGWcU6WYsncsRsUs1mOE+MxlIwX55h5DrmLbFFk7DyHQ9kBiR0Q82k/JSJXgDNCodwOiSfK40mO0dLFHBaj0WnOBSI2/UcDQRzj0sQMLwXDYgXXb46Vs109UefEbH5m0Ja3zd9eWxAr4HHtiIyX+8xEsQKyM+PTGen76n+D2MEglJwaRA2iBlGD3GEQj5aM/oOoQdQgapC7DBKTRU9eDaIGUYOoQW42CC6Mc8hR/0HUIGoQNcgvg7z3Pw==\",\"2023-03-19T16:38:41.0551381Z\"]}]}', extra='')\n"
     ]
    },
    {
     "name": "stdout",
     "output_type": "stream",
     "text": [
      "CarData.z 7ZYxC8IwEIX/y81Vcndpes0q/gNdFIcigoJ00G6l/90ad8E3FbzlEkIe3L0XPjLSth8et8uT8nGk/XCmTBJEV0FX3O44ZbUcw1rEzFQPVNGme8y3R+J32Vy7vr/cy0GgHCqSUrXUWGr92b+XaSoXIF0EdRx+F3IRohMy3GpCWzU0DNQcgeNH8xdFhUAcnxkbUKioORF9OXUNtppQVxvUHMPMmaXfAFUHs8jmgHJAOaAcUMsDlIk1bfQflAPKAeWAWhygeB1mQCVtlwYoluSMckY5o/6EUafpBQ==\n",
      "Position.z 7Za7asNAEEX/ZWrJ7Mzsu0+dQFwkDilMcCGC5WArldG/Rw9j1sSZYNfTCAn2MHfvLgcd4Wl3aLpm10J+O8Ky2W4O3Xr7BRnIENeGa0xL9JljtmaBzlJwuIIKHtpu32wOkI+A4+O5W3ffwyc8tsv9+uNzWPICuUZOvoJXyM7YClaQEWNfAUkIpjAhtSsRKyEU3YSQwQJBIzGWcU6WYsncsRsUs1mOE+MxlIwX55h5DrmLbFFk7DyHQ9kBiR0Q82k/JSJXgDNCodwOiSfK40mO0dLFHBaj0WnOBSI2/UcDQRzj0sQMLwXDYgXXb46Vs109UefEbH5m0Ja3zd9eWxAr4HHtiIyX+8xEsQKyM+PTGen76n+D2MEglJwaRA2iBlGD3GEQj5aM/oOoQdQgapC7DBKTRU9eDaIGUYOoQW42CC6Mc8hR/0HUIGoQNcgvg7z3Pw==\n"
     ]
    },
    {
     "name": "stderr",
     "output_type": "stream",
     "text": [
      "DEBUG:signalr_async.client:Raw message received: WSMessage(type=<WSMsgType.TEXT: 1>, data='{\"C\":\"d-F23263D5-B,0|Df,0|Dg,11|d,96|p,8B5|o,8B4|a,1|Y,D|Dh,0|n,1|W,2|c,25|i,1|X,C|k,3|l,1|r,2|Z,1|s,59F\",\"M\":[{\"H\":\"Streaming\",\"M\":\"feed\",\"A\":[\"CarData.z\",\"7ZTPCsIwDMbfJedtNE2X/rkO30AvigcRQUF2mLuNvbuuXofMnAYLlLSUfjT5En4D7Nq+e9xekE4DHPorJLDGUmmoxLhHThSSw4pc8MjhCAU0l+7zegCcQnO/tO3tmS8MJFOAzZFydDnW3/O0jWN+INK5GR36yAukaP7/E7NQWiTOZbtIyNJUg7QfUnOseAKkI2BJKhS041ujFwpJao6TTk5dC1Nlqateak6QmfOR/mIUc5zW+hjFXhmljFJGKaOq6CJbH1fIKFJGKaOUUZtnlK3QRDa0Qka5WhmljFJGbYNR5/EN\",\"2023-03-19T16:38:42.1096039Z\"]},{\"H\":\"Streaming\",\"M\":\"feed\",\"A\":[\"Position.z\",\"7ZQ9a8MwEIb/y8120en0vXduoR7alA6mZDAlTondyfi/17JCkEt6pZm1GBn0cK9eiWeCx+PQjd2xh/A6QdMd9sPYHj4hgBSSakE1+gZNIBcU3hFq4Z3ZQQX3/Xjq9gOECTB+nsZ2/Fp+4aFvTu37x7LlGUKN5E0FLxC0UBXsICC6uQLJIejtitQ6RxSHSKdXRArMEBQcowhTMu9y5obTIJtNkVsZgzZnDDtHpDlSb7I5llFpDtm8A8l2IInO58kRvgJMiLT5cSR7oxRvMkbzmznERpPnORuEbfqXBiw7RvuVWRYZQ2wF11+O4rNdvVGt2WwmMajy12b+X5tlK6C4NyLxcV8Yx1YgVWKMvyDzXP1tEE1aGI3FIMUgxSDFIDcYxC4GIWWLQYpBikGKQW4wiF8MIhQVgxSDFIMUg/w0yNv8DQ==\",\"2023-03-19T16:38:41.9350043Z\"]}]}', extra='')\n",
      "DEBUG:signalr_async.client:Raw message received: WSMessage(type=<WSMsgType.TEXT: 1>, data='{}', extra='')\n"
     ]
    },
    {
     "name": "stdout",
     "output_type": "stream",
     "text": [
      "CarData.z 7ZTPCsIwDMbfJedtNE2X/rkO30AvigcRQUF2mLuNvbuuXofMnAYLlLSUfjT5En4D7Nq+e9xekE4DHPorJLDGUmmoxLhHThSSw4pc8MjhCAU0l+7zegCcQnO/tO3tmS8MJFOAzZFydDnW3/O0jWN+INK5GR36yAukaP7/E7NQWiTOZbtIyNJUg7QfUnOseAKkI2BJKhS041ujFwpJao6TTk5dC1Nlqateak6QmfOR/mIUc5zW+hjFXhmljFJGKaOq6CJbH1fIKFJGKaOUUZtnlK3QRDa0Qka5WhmljFJGbYNR5/EN\n",
      "Position.z 7ZQ9a8MwEIb/y8120en0vXduoR7alA6mZDAlTondyfi/17JCkEt6pZm1GBn0cK9eiWeCx+PQjd2xh/A6QdMd9sPYHj4hgBSSakE1+gZNIBcU3hFq4Z3ZQQX3/Xjq9gOECTB+nsZ2/Fp+4aFvTu37x7LlGUKN5E0FLxC0UBXsICC6uQLJIejtitQ6RxSHSKdXRArMEBQcowhTMu9y5obTIJtNkVsZgzZnDDtHpDlSb7I5llFpDtm8A8l2IInO58kRvgJMiLT5cSR7oxRvMkbzmznERpPnORuEbfqXBiw7RvuVWRYZQ2wF11+O4rNdvVGt2WwmMajy12b+X5tlK6C4NyLxcV8Yx1YgVWKMvyDzXP1tEE1aGI3FIMUgxSDFIDcYxC4GIWWLQYpBikGKQW4wiF8MIhQVgxSDFIMUg/w0yNv8DQ==\n"
     ]
    },
    {
     "name": "stderr",
     "output_type": "stream",
     "text": [
      "DEBUG:signalr_async.client:Raw message received: WSMessage(type=<WSMsgType.TEXT: 1>, data='{\"C\":\"d-F23263D5-B,0|Df,0|Dg,11|d,96|p,8B6|o,8B5|a,1|Y,D|Dh,0|n,1|W,2|c,25|i,1|X,C|k,3|l,1|r,2|Z,1|s,59F\",\"M\":[{\"H\":\"Streaming\",\"M\":\"feed\",\"A\":[\"CarData.z\",\"7ZS/CgIxDMbfJbMeTZr+SVfxDXRRHA45UJAb9Lbj3l2tq4hmOjBLWko+mnwJvxHW/XA9dzco+xG2wxEKkCO/dH6JssFYfC5MDUUJ2dEOFrBqr4/sEfAZVqe277tLfXBQ3AKoRl8j1xhe9+cxTTVBpeM3OkwYv5Ci+/1PrEJtk/iu2q+EUVtq1s5Daw6pN0C7AuS1QsU4Xj0mpdBrzWHt5oSgLDVqXU1ac7LOnIf0E6OCk8Cc5scoEmOUMcoYZYxqJAsnynNjFFFkY5Qxyhj194zyDbIwy+wQJYYoQ5Qh6l8QdZju\",\"2023-03-19T16:38:43.149449Z\"]},{\"H\":\"Streaming\",\"M\":\"feed\",\"A\":[\"Position.z\",\"7ZTLagJBEEX/pdajTD36uc86gbhIDFlIcDEENehkJfPvmYdIG0wFXddm6IE+1O3bzTnC0+7QtM1uC/ntCItmsz60q80XZKCaeFbzDNMCfeaYhebEklwMS6jgYdvum/UB8hFw+Dy3q/a7/4XH7WK/+vjst7xAniEnX8ErZFdLBUvIiLGrgDQEUxiRmSsR0RCKbkSoxgLBWmOEcUqWYsnccRpUswnHkfEYSsarc+ppDrmLbFFlZJrDoeyA1A6I+XSeEtErwAmhUB6H1Bvl4SaHaOliDqvR6DTnAlGb/qOBoI5xaWT6RcGwWsH1lyN6tqs36pyazU8MSvna/O21BbUCHvYOyPC4z0xUKyCZGJ/OSNdV/xtEeoNQZDOIGcQMYga5wyAeJdVoAjGBmEBMIHcIJKFE58QMYgYxg5hBbjYIzzFIRJfMIGYQM4gZ5LdB3rsf\",\"2023-03-19T16:38:43.1748159Z\"]}]}', extra='')\n"
     ]
    },
    {
     "name": "stdout",
     "output_type": "stream",
     "text": [
      "CarData.z 7ZS/CgIxDMbfJbMeTZr+SVfxDXRRHA45UJAb9Lbj3l2tq4hmOjBLWko+mnwJvxHW/XA9dzco+xG2wxEKkCO/dH6JssFYfC5MDUUJ2dEOFrBqr4/sEfAZVqe277tLfXBQ3AKoRl8j1xhe9+cxTTVBpeM3OkwYv5Ci+/1PrEJtk/iu2q+EUVtq1s5Daw6pN0C7AuS1QsU4Xj0mpdBrzWHt5oSgLDVqXU1ac7LOnIf0E6OCk8Cc5scoEmOUMcoYZYxqJAsnynNjFFFkY5Qxyhj194zyDbIwy+wQJYYoQ5Qh6l8QdZju\n",
      "Position.z 7ZTLagJBEEX/pdajTD36uc86gbhIDFlIcDEENehkJfPvmYdIG0wFXddm6IE+1O3bzTnC0+7QtM1uC/ntCItmsz60q80XZKCaeFbzDNMCfeaYhebEklwMS6jgYdvum/UB8hFw+Dy3q/a7/4XH7WK/+vjst7xAniEnX8ErZFdLBUvIiLGrgDQEUxiRmSsR0RCKbkSoxgLBWmOEcUqWYsnccRpUswnHkfEYSsarc+ppDrmLbFFlZJrDoeyA1A6I+XSeEtErwAmhUB6H1Bvl4SaHaOliDqvR6DTnAlGb/qOBoI5xaWT6RcGwWsH1lyN6tqs36pyazU8MSvna/O21BbUCHvYOyPC4z0xUKyCZGJ/OSNdV/xtEeoNQZDOIGcQMYga5wyAeJdVoAjGBmEBMIHcIJKFE58QMYgYxg5hBbjYIzzFIRJfMIGYQM4gZ5LdB3rsf\n"
     ]
    },
    {
     "name": "stderr",
     "output_type": "stream",
     "text": [
      "DEBUG:signalr_async.client:Raw message received: WSMessage(type=<WSMsgType.TEXT: 1>, data='{\"C\":\"d-F23263D5-B,0|Df,0|Dg,11|d,96|p,8B7|o,8B5|a,1|Y,D|Dh,0|n,1|W,2|c,25|i,1|X,C|k,3|l,1|r,2|Z,1|s,59F\",\"M\":[{\"H\":\"Streaming\",\"M\":\"feed\",\"A\":[\"CarData.z\",\"7ZbBCsIwDIbfJWcdSZN1ba/iG+hF8TBEUJAd1NvYu7t11yEzp6G5pKX0p8nf9KMtbJvX43Z5Qjq2sH+dIYFDx2vkNcUd+cQhCRcsUSjKAVawqR/97hZoCJtr3TSXe15ASLgClyPnKDmW43wYui5vUOlkQifsZYaU8PszKQu1RdJUtrOEXptq0N6H1hyn7gBtCzjWChXXMdZYKYWsNUe0nVOWylS91tVKa07QmdNLPzGqwsje0wIZNevhG6OMUcaoH2dUDJEdh6UximMZjFHGKGPU3zNKCpLIiIv7R3FFbIwyRhmj/oNRp+4N\",\"2023-03-19T16:38:44.1493001Z\"]}]}', extra='')\n",
      "DEBUG:signalr_async.client:Raw message received: WSMessage(type=<WSMsgType.TEXT: 1>, data='{\"C\":\"d-F23263D5-B,0|Df,0|Dg,11|d,96|p,8B7|o,8B6|a,1|Y,D|Dh,0|n,1|W,2|c,25|i,1|X,C|k,3|l,1|r,2|Z,1|s,59F\",\"M\":[{\"H\":\"Streaming\",\"M\":\"feed\",\"A\":[\"Position.z\",\"7ZQ7a8NAEIT/y9aSud29d+86gahIHFKI4EIEy8FSKqH/Hj2MORNng1NfI05wHzM7e8wAj8eu6ZtjC/F1gKo57Lu+PnxCBFLEpeISQ4U2so+aNxS0C87uoIBt25+afQdxAJw/T33df02/8NBWp/r9Y7ryDLFEDraAF4hG6QJ2EBH9WABJCAa3IKVJES0h5M2CkMIEQSUxmnF1FnzK/GMaFL1p9gtj0aWMFXXUqkPmypsXGb3qsEszIDEDYj7PkyJyBLgi5NJxSNwoz5ucrYUrHRat0VnnChGT/iUBJ8qYsDDTIWFYjOD2y9Gyt5sbNUb0ZlcGdfra7P2xOTECnu/OyPy4L4wXIyC9MjZckHEs/m4QMzWIoVwguUBygeQCubtA9Eahtt7nBskNkhskN8iPBnkbvwE=\",\"2023-03-19T16:38:44.0146882Z\"]}]}', extra='')\n"
     ]
    },
    {
     "name": "stdout",
     "output_type": "stream",
     "text": [
      "CarData.z 7ZbBCsIwDIbfJWcdSZN1ba/iG+hF8TBEUJAd1NvYu7t11yEzp6G5pKX0p8nf9KMtbJvX43Z5Qjq2sH+dIYFDx2vkNcUd+cQhCRcsUSjKAVawqR/97hZoCJtr3TSXe15ASLgClyPnKDmW43wYui5vUOlkQifsZYaU8PszKQu1RdJUtrOEXptq0N6H1hyn7gBtCzjWChXXMdZYKYWsNUe0nVOWylS91tVKa07QmdNLPzGqwsje0wIZNevhG6OMUcaoH2dUDJEdh6UximMZjFHGKGPU3zNKCpLIiIv7R3FFbIwyRhmj/oNRp+4N\n",
      "Position.z 7ZQ7a8NAEIT/y9aSud29d+86gahIHFKI4EIEy8FSKqH/Hj2MORNng1NfI05wHzM7e8wAj8eu6ZtjC/F1gKo57Lu+PnxCBFLEpeISQ4U2so+aNxS0C87uoIBt25+afQdxAJw/T33df02/8NBWp/r9Y7ryDLFEDraAF4hG6QJ2EBH9WABJCAa3IKVJES0h5M2CkMIEQSUxmnF1FnzK/GMaFL1p9gtj0aWMFXXUqkPmypsXGb3qsEszIDEDYj7PkyJyBLgi5NJxSNwoz5ucrYUrHRat0VnnChGT/iUBJ8qYsDDTIWFYjOD2y9Gyt5sbNUb0ZlcGdfra7P2xOTECnu/OyPy4L4wXIyC9MjZckHEs/m4QMzWIoVwguUBygeQCubtA9Eahtt7nBskNkhskN8iPBnkbvwE=\n"
     ]
    },
    {
     "name": "stderr",
     "output_type": "stream",
     "text": [
      "DEBUG:signalr_async.client:Raw message received: WSMessage(type=<WSMsgType.TEXT: 1>, data='{\"C\":\"d-F23263D5-B,0|Df,0|Dg,11|d,96|p,8B8|o,8B7|a,1|Y,D|Dh,0|n,1|W,2|c,25|i,1|X,C|k,3|l,1|r,2|Z,1|s,59F\",\"M\":[{\"H\":\"Streaming\",\"M\":\"feed\",\"A\":[\"CarData.z\",\"7ZS/CoNADMbfJbPK5XL/V+kbtEtLBylCC8WhdRPfvXquUmwmoVlyx5GPS76E3wCHrn892jekywCn/gYJtNJUKioxHtElCsmYilTU3tkzFFA3ryl7AJxDfW+6rn3mBwVJFaBzpBxNjna5z8c45gSWzqzoKOiwQYrq9z8xC7lN4lq1m4SOW2rgzoNrjmZvAHcFNHGFjHEsPXqmkLjmGO7mWMss1XFd9VxzAs+cSfqNUXZilPG4O0ZFZYVRwihhlDCq8hOj0PsdMsoIo4RRwihhVBVNxIBxd4wKjoRRwihh1H8w6jp+AA==\",\"2023-03-19T16:38:44.9491819Z\"]},{\"H\":\"Streaming\",\"M\":\"feed\",\"A\":[\"Position.z\",\"7ZQ7a8NAEIT/y9aSuX3cs3edQFQkDilMcCGC7WArldB/jyUZcw7OBqe+RpzgPmZ29pgeHvfHtmv3O0ivPTTtdnPs1ttPSECGuDZcY2zQJQ5JZMFeHLNdQQXLXXdoN0dIPeD4eerW3dfpFx52zWH9/nG68gypRo6ughdI1kgFK0iIYaiANASjn5Da5ohoCAU7IWQwQ9BojDDOzmLImX9Mg6o34TAxDn3OOFXHzDpkr7wFlZFZh32eAakZEPN5nhzRI8AZIZ+PQ+pGedzkaC1e6bBqjc46V4ia9C8JeFXGxok5HTKG1QhuvxzRvd3cqLWqNzczKPlrc/fH5tUIeLw7IuPjvjBBjYBkZly8IMNQ/d0g3ov15EuDlAYpDVIa5O4GsQvDYpmxNEhpkNIgpUF+Nsjb8A0=\",\"2023-03-19T16:38:45.0345331Z\"]}]}', extra='')\n"
     ]
    },
    {
     "name": "stdout",
     "output_type": "stream",
     "text": [
      "CarData.z 7ZS/CoNADMbfJbPK5XL/V+kbtEtLBylCC8WhdRPfvXquUmwmoVlyx5GPS76E3wCHrn892jekywCn/gYJtNJUKioxHtElCsmYilTU3tkzFFA3ryl7AJxDfW+6rn3mBwVJFaBzpBxNjna5z8c45gSWzqzoKOiwQYrq9z8xC7lN4lq1m4SOW2rgzoNrjmZvAHcFNHGFjHEsPXqmkLjmGO7mWMss1XFd9VxzAs+cSfqNUXZilPG4O0ZFZYVRwihhlDCq8hOj0PsdMsoIo4RRwihhVBVNxIBxd4wKjoRRwihh1H8w6jp+AA==\n",
      "Position.z 7ZQ7a8NAEIT/y9aSuX3cs3edQFQkDilMcCGC7WArldB/jyUZcw7OBqe+RpzgPmZ29pgeHvfHtmv3O0ivPTTtdnPs1ttPSECGuDZcY2zQJQ5JZMFeHLNdQQXLXXdoN0dIPeD4eerW3dfpFx52zWH9/nG68gypRo6ughdI1kgFK0iIYaiANASjn5Da5ohoCAU7IWQwQ9BojDDOzmLImX9Mg6o34TAxDn3OOFXHzDpkr7wFlZFZh32eAakZEPN5nhzRI8AZIZ+PQ+pGedzkaC1e6bBqjc46V4ia9C8JeFXGxok5HTKG1QhuvxzRvd3cqLWqNzczKPlrc/fH5tUIeLw7IuPjvjBBjYBkZly8IMNQ/d0g3ov15EuDlAYpDVIa5O4GsQvDYpmxNEhpkNIgpUF+Nsjb8A0=\n"
     ]
    },
    {
     "name": "stderr",
     "output_type": "stream",
     "text": [
      "DEBUG:signalr_async.client:Connection keepalive\n",
      "DEBUG:signalr_async.client:Sending: message_content='{}', is_binary=False\n",
      "DEBUG:signalr_async.client:Raw message received: WSMessage(type=<WSMsgType.TEXT: 1>, data='{\"C\":\"d-F23263D5-B,0|Df,0|Dg,11|d,96|p,8B8|o,8B8|a,1|Y,D|Dh,0|n,1|W,2|c,25|i,1|X,C|k,3|l,1|r,2|Z,1|s,59F\",\"M\":[{\"H\":\"Streaming\",\"M\":\"feed\",\"A\":[\"Position.z\",\"7Zc9a8NADIb/i2Y7nE66z71zC83QpnQIJYMpcUriTsH/vf4I4UJTlWTWYs5wD5LeOx7sIzztDk3X7FrIb0dYNtvNoVtvvyCDNZZqQzWmJfpMMbNbWMecUlhBBQ9tt282B8hHwPHx3K277+EVHtvlfv3xOWx5gVwjJV/BK2RnuIIVZMTYV2AlBFOYkNqVCEuIjW5CrMECQSMxTDh3lmLJ3DENir0xxYnxGErGi3XMXMe6i96iyPBch0KZgRUzsESneUpEjgBnxIZyHCueKI0nObaWLuqQ2Jo91blAxKT/SCCIZVyamGFRMCRGcP3msNzb1RN1TuzNzwxyedv87bEFMQIa947IeLnPTBQjsDwzPp2Rvq/+NwgPswTHahA1iBpEDXKHQVxgdohqEDWIGkQNcodBwmAQa/QvRg2iBlGD3G4QvzCBKTj9BlGDqEHUIL8M8t7/AA==\",\"2023-03-19T16:38:46.0743751Z\"]}]}', extra='')\n",
      "DEBUG:signalr_async.client:Raw message received: WSMessage(type=<WSMsgType.TEXT: 1>, data='{\"C\":\"d-F23263D5-B,0|Df,0|Dg,11|d,96|p,8B9|o,8B8|a,1|Y,D|Dh,0|n,1|W,2|c,25|i,1|X,C|k,3|l,1|r,2|Z,1|s,59F\",\"M\":[{\"H\":\"Streaming\",\"M\":\"feed\",\"A\":[\"CarData.z\",\"7ZfPCsIwDMbfJWcnSdP/1+Eb6EXxIDJQkB10t7F3d6vXITOngbmkpfSjydfwo+1h13bPe/OCfOrh0F0hg0HDFXJFaU8+c8zWbQkTuZCOsIH68hx390BTqG+Xtm0eZQEh4wZMiVyiLdF95tMwDGWDSGdndBxDWCAl/P1MKkJpkTSX7SKhl6YapfchNceIO0DaAoalQsF1fGoMQiFLzbHSznFOmKqXuhqk5kSZOaP0G6PYJjKGV8eoZFgZpYxSRimjtgET+kTrY5TTd5QyShmljPLTXw8xru+vl4JVRimjlFH/wajz8AY=\",\"2023-03-19T16:38:46.1090089Z\"]}]}', extra='')\n"
     ]
    },
    {
     "name": "stdout",
     "output_type": "stream",
     "text": [
      "Position.z 7Zc9a8NADIb/i2Y7nE66z71zC83QpnQIJYMpcUriTsH/vf4I4UJTlWTWYs5wD5LeOx7sIzztDk3X7FrIb0dYNtvNoVtvvyCDNZZqQzWmJfpMMbNbWMecUlhBBQ9tt282B8hHwPHx3K277+EVHtvlfv3xOWx5gVwjJV/BK2RnuIIVZMTYV2AlBFOYkNqVCEuIjW5CrMECQSMxTDh3lmLJ3DENir0xxYnxGErGi3XMXMe6i96iyPBch0KZgRUzsESneUpEjgBnxIZyHCueKI0nObaWLuqQ2Jo91blAxKT/SCCIZVyamGFRMCRGcP3msNzb1RN1TuzNzwxyedv87bEFMQIa947IeLnPTBQjsDwzPp2Rvq/+NwgPswTHahA1iBpEDXKHQVxgdohqEDWIGkQNcodBwmAQa/QvRg2iBlGD3G4QvzCBKTj9BlGDqEHUIL8M8t7/AA==\n",
      "CarData.z 7ZfPCsIwDMbfJWcnSdP/1+Eb6EXxIDJQkB10t7F3d6vXITOngbmkpfSjydfwo+1h13bPe/OCfOrh0F0hg0HDFXJFaU8+c8zWbQkTuZCOsIH68hx390BTqG+Xtm0eZQEh4wZMiVyiLdF95tMwDGWDSGdndBxDWCAl/P1MKkJpkTSX7SKhl6YapfchNceIO0DaAoalQsF1fGoMQiFLzbHSznFOmKqXuhqk5kSZOaP0G6PYJjKGV8eoZFgZpYxSRimjtgET+kTrY5TTd5QyShmljPLTXw8xru+vl4JVRimjlFH/wajz8AY=\n"
     ]
    },
    {
     "name": "stderr",
     "output_type": "stream",
     "text": [
      "DEBUG:signalr_async.client:Raw message received: WSMessage(type=<WSMsgType.TEXT: 1>, data='{\"C\":\"d-F23263D5-B,0|Df,0|Dg,11|d,96|p,8BA|o,8B9|a,1|Y,D|Dh,0|n,1|W,2|c,25|i,1|X,C|k,3|l,1|r,2|Z,1|s,59F\",\"M\":[{\"H\":\"Streaming\",\"M\":\"feed\",\"A\":[\"CarData.z\",\"7Za/CsIwEMbf5ea25O/1klV8A10UhyIFBemgbqXvbpuuReo3FcxyCSEfufvu+JGe9t37eW9fFM89Hd9XimSUsaWypQ4HzdFKdFwZliDenKigXfMcb/ekp7C7NV3XPtKBoqgKMinaFF2Kft5PyzCkC5DOLehsYL1CqtXvb+okRIvUS9muEjKaqqD9QM0x8ASgI2AsKgTaMddYg0KLmuPQyfEeTJVRV2vUHMHMGaXfGOWVBBfq7TEqmMyozKjMqMyoSlhk/LNsjVFOCWdGZUZlRv0Hoy7DBw==\",\"2023-03-19T16:38:46.8688961Z\"]},{\"H\":\"Streaming\",\"M\":\"feed\",\"A\":[\"Position.z\",\"7ZQ9a8MwEIb/y8128H1IlrR3bqEZ2pQOoWQwJU5J3Cn4v9cfISglvZLMtxgZ9PCeXonnCE+7Q9M1uxbS2xGWzXZz6NbbL0hAFXFZcYlxiT5xSOIX6IQ9xRUU8NB2+2ZzgHQEHD/P3br7Hn7hsV3u1x+fw5YXSCVy9AW8QnKVFLCChBj6AkhDMNYTUrocEQ2h4CaEKswQrDRGGOfJYsiZO06D6mzCYWI81jnj1ZxqziF3MVtQGZlzuM47ILUDYj6dJ0f0CnBGqM6PQ+qN8niT42jxIofV0eiUc4GoTf/RQK3GuDgxwyJjWK3g+ssRfbarN+qcOpufGZT8tfnba6vVCnjcOyLj4z4zQa2AZGZ8PCN9X/xvEGEZ4pwZxAxiBjGD3GEQF2WIMYOYQcwgZpB7DBJRSIKYQcwgZhAzyM0GqRc4GASDCcQEYgIxgfwWyHv/Aw==\",\"2023-03-19T16:38:47.114218Z\"]}]}', extra='')\n"
     ]
    },
    {
     "name": "stdout",
     "output_type": "stream",
     "text": [
      "CarData.z 7Za/CsIwEMbf5ea25O/1klV8A10UhyIFBemgbqXvbpuuReo3FcxyCSEfufvu+JGe9t37eW9fFM89Hd9XimSUsaWypQ4HzdFKdFwZliDenKigXfMcb/ekp7C7NV3XPtKBoqgKMinaFF2Kft5PyzCkC5DOLehsYL1CqtXvb+okRIvUS9muEjKaqqD9QM0x8ASgI2AsKgTaMddYg0KLmuPQyfEeTJVRV2vUHMHMGaXfGOWVBBfq7TEqmMyozKjMqMyoSlhk/LNsjVFOCWdGZUZlRv0Hoy7DBw==\n",
      "Position.z 7ZQ9a8MwEIb/y8128H1IlrR3bqEZ2pQOoWQwJU5J3Cn4v9cfISglvZLMtxgZ9PCeXonnCE+7Q9M1uxbS2xGWzXZz6NbbL0hAFXFZcYlxiT5xSOIX6IQ9xRUU8NB2+2ZzgHQEHD/P3br7Hn7hsV3u1x+fw5YXSCVy9AW8QnKVFLCChBj6AkhDMNYTUrocEQ2h4CaEKswQrDRGGOfJYsiZO06D6mzCYWI81jnj1ZxqziF3MVtQGZlzuM47ILUDYj6dJ0f0CnBGqM6PQ+qN8niT42jxIofV0eiUc4GoTf/RQK3GuDgxwyJjWK3g+ssRfbarN+qcOpufGZT8tfnba6vVCnjcOyLj4z4zQa2AZGZ8PCN9X/xvEGEZ4pwZxAxiBjGD3GEQF2WIMYOYQcwgZpB7DBJRSIKYQcwgZhAzyM0GqRc4GASDCcQEYgIxgfwWyHv/Aw==\n"
     ]
    },
    {
     "name": "stderr",
     "output_type": "stream",
     "text": [
      "DEBUG:signalr_async.client:Raw message received: WSMessage(type=<WSMsgType.TEXT: 1>, data='{\"C\":\"d-F23263D5-B,0|Df,0|Dg,11|d,96|p,8BB|o,8BA|a,1|Y,D|Dh,0|n,1|W,2|c,25|i,1|X,C|k,3|l,1|r,2|Z,1|s,59F\",\"M\":[{\"H\":\"Streaming\",\"M\":\"feed\",\"A\":[\"CarData.z\",\"7de/asMwEAbwd7k5MfdHtj5pDX2DdknpEEqgheIhzWb87k2UNQT3JtPecjZGH5ZO8g880dN4Pn0ev6m+TvRyfqdKympbtq2UZxmqoabcqQJJbU8b2h1Ol9ETybXsPg7jePxqD5gqb0hbtVZTq/3t/nqZ5zbAlUt3claABVHh379TWtC7SLk320XBwTtVePfD2xx1nwDvEVDzBh3bcVtjdgbN25zkPTl975zq4O1q9jYHvuZcoo+MMgACrM2oxGnRhx9GhVFh1B83qgcySlqfUShhVBgVRoVRXWHkpKsjSiR+9YKoICqIQidcskhenVE8WBgVRoVR/8Oot/kH\",\"2023-03-19T16:38:48.1097117Z\"]},{\"H\":\"Streaming\",\"M\":\"feed\",\"A\":[\"Position.z\",\"7ZY9a8MwEIb/y8120N3p9LV3bqEe2pQOoWQwJUlJ3Mn4vze2Q1BKeiWZtRgb9HCvXokH9/C0O7Rdu9tCeuuhaTfrQ7fafEECMsS14Rpjgy5xSNYvSCxG55dQwcO227frA6QecHw8d6vu+/gJj9tmv/r4PC55gVQjR1fBKyQxtoIlJMQwVEAagtFPSC05YjWEgkwIGcwQNBpjGedkMeTMHbtBNZvlMDEOfc44dY6Z55BcZAsqY+c57PMOSO2AmE/7yRG9ApwR8vl2SD1RHk9yjBYv5rAajU5zLhC16T8a8OoYiRNzfMkYViu4fnOsnu3qiYqo2dzMoM1vm7u9Nq9WwOPaERkv95kJagVkZ8bFMzIM1f8GERYUWwRSBFIEUgRyh0BcFKRYfkGKQYpBikFuN0hYGC/GYywGKQYpBikG+W2Q9+EH\",\"2023-03-19T16:38:48.0750719Z\"]}]}', extra='')\n"
     ]
    },
    {
     "name": "stdout",
     "output_type": "stream",
     "text": [
      "CarData.z 7de/asMwEAbwd7k5MfdHtj5pDX2DdknpEEqgheIhzWb87k2UNQT3JtPecjZGH5ZO8g880dN4Pn0ev6m+TvRyfqdKympbtq2UZxmqoabcqQJJbU8b2h1Ol9ETybXsPg7jePxqD5gqb0hbtVZTq/3t/nqZ5zbAlUt3claABVHh379TWtC7SLk320XBwTtVePfD2xx1nwDvEVDzBh3bcVtjdgbN25zkPTl975zq4O1q9jYHvuZcoo+MMgACrM2oxGnRhx9GhVFh1B83qgcySlqfUShhVBgVRoVRXWHkpKsjSiR+9YKoICqIQidcskhenVE8WBgVRoVR/8Oot/kH\n",
      "Position.z 7ZY9a8MwEIb/y8120N3p9LV3bqEe2pQOoWQwJUlJ3Mn4vze2Q1BKeiWZtRgb9HCvXokH9/C0O7Rdu9tCeuuhaTfrQ7fafEECMsS14Rpjgy5xSNYvSCxG55dQwcO227frA6QecHw8d6vu+/gJj9tmv/r4PC55gVQjR1fBKyQxtoIlJMQwVEAagtFPSC05YjWEgkwIGcwQNBpjGedkMeTMHbtBNZvlMDEOfc44dY6Z55BcZAsqY+c57PMOSO2AmE/7yRG9ApwR8vl2SD1RHk9yjBYv5rAajU5zLhC16T8a8OoYiRNzfMkYViu4fnOsnu3qiYqo2dzMoM1vm7u9Nq9WwOPaERkv95kJagVkZ8bFMzIM1f8GERYUWwRSBFIEUgRyh0BcFKRYfkGKQYpBikFuN0hYGC/GYywGKQYpBikG+W2Q9+EH\n"
     ]
    },
    {
     "name": "stderr",
     "output_type": "stream",
     "text": [
      "DEBUG:signalr_async.client:Raw message received: WSMessage(type=<WSMsgType.TEXT: 1>, data='{\"C\":\"d-F23263D5-B,0|Df,0|Dg,11|d,97|p,8BB|o,8BA|a,1|Y,D|Dh,0|n,1|W,2|c,25|i,1|X,C|k,3|l,1|r,2|Z,1|s,59F\",\"M\":[{\"H\":\"Streaming\",\"M\":\"feed\",\"A\":[\"Heartbeat\",{\"Utc\":\"2023-03-19T16:38:50.7345021Z\",\"_kf\":true},\"2023-03-19T16:38:49.979Z\"]}]}', extra='')\n"
     ]
    },
    {
     "name": "stdout",
     "output_type": "stream",
     "text": [
      "Heartbeat {'Utc': '2023-03-19T16:38:50.7345021Z', '_kf': True}\n"
     ]
    },
    {
     "name": "stderr",
     "output_type": "stream",
     "text": [
      "DEBUG:signalr_async.client:Raw message received: WSMessage(type=<WSMsgType.TEXT: 1>, data='{\"C\":\"d-F23263D5-B,0|Df,0|Dg,11|d,97|p,8BC|o,8BB|a,1|Y,D|Dh,0|n,1|W,2|c,25|i,1|X,C|k,3|l,1|r,2|Z,1|s,59F\",\"M\":[{\"H\":\"Streaming\",\"M\":\"feed\",\"A\":[\"CarData.z\",\"7de9CsIwEAfwd7m5LXeX76ziG+iiOIgICtKhupW+uzGuInpTobdcS8ifJpfwg46w7h/D9XyHvB9h+zhBBkY2LZqW0oZ8NjHb2BmbfPC8gwZWx6HMHoFeZXU59v35VgcQMjbAtZpaba3u/f56TFOdIMrZDzmL5H6IEv7/TapB6Sbp02p/CnrpUqP0PKTNYfENkF4BNtKg4DjeewzCoJE2x0pvjnPCpXppV4O0OVHWnBL9ZpTD5B272RlFapQapUapUcWoUIxiTvMzypIapUapUWpUl2JyEcPsjMIY1Cg1So1avFGpo2JU+d+bn1FGjVKj1KiFGHWYng==\",\"2023-03-19T16:38:49.1895509Z\"]},{\"H\":\"Streaming\",\"M\":\"feed\",\"A\":[\"Position.z\",\"7Za7asNAEEX/ZWrJ7Mzsu0+dQFQkDilMcCGC5WApldC/Rw9jVsSZYNfbCAn2MHfvLgf18HRs664+NhDfeqjqw77tdocviECKuFRcYqjQRvZR+w2xUdrZLRTw0HSnet9C7AGnx3O3677HT3hsqtPu43Nc8gKxRA62gFeII1jAFiKiHwogCcHgZqQ0KaIlhLyZEVKYIKgkRjMuyYJPmTt2g2I2zX5mLLqUseIctcwhs8rmRUYvc9ilHZDYATGf95MicgW4IOTS7ZB4ojyd5BQtrOawGI3Oc1aI2PQfDThxjAkzM74kDIsVXL85Ws529USNEbPZhUGd3jZ7e21OrICntRMyXe4L48UKSC+MDRdkGIr/DWKMDsGHbJBskGyQbJA7DOJGg1hvskGyQbJBskFuNkjYqNEgRPkfJBskGyQb5JdB3ocf\",\"2023-03-19T16:38:49.0549229Z\"]}]}', extra='')\n"
     ]
    },
    {
     "name": "stdout",
     "output_type": "stream",
     "text": [
      "CarData.z 7de9CsIwEAfwd7m5LXeX76ziG+iiOIgICtKhupW+uzGuInpTobdcS8ifJpfwg46w7h/D9XyHvB9h+zhBBkY2LZqW0oZ8NjHb2BmbfPC8gwZWx6HMHoFeZXU59v35VgcQMjbAtZpaba3u/f56TFOdIMrZDzmL5H6IEv7/TapB6Sbp02p/CnrpUqP0PKTNYfENkF4BNtKg4DjeewzCoJE2x0pvjnPCpXppV4O0OVHWnBL9ZpTD5B272RlFapQapUapUcWoUIxiTvMzypIapUapUWpUl2JyEcPsjMIY1Cg1So1avFGpo2JU+d+bn1FGjVKj1KiFGHWYng==\n",
      "Position.z 7Za7asNAEEX/ZWrJ7Mzsu0+dQFQkDilMcCGC5WApldC/Rw9jVsSZYNfbCAn2MHfvLgf18HRs664+NhDfeqjqw77tdocviECKuFRcYqjQRvZR+w2xUdrZLRTw0HSnet9C7AGnx3O3677HT3hsqtPu43Nc8gKxRA62gFeII1jAFiKiHwogCcHgZqQ0KaIlhLyZEVKYIKgkRjMuyYJPmTt2g2I2zX5mLLqUseIctcwhs8rmRUYvc9ilHZDYATGf95MicgW4IOTS7ZB4ojyd5BQtrOawGI3Oc1aI2PQfDThxjAkzM74kDIsVXL85Ws529USNEbPZhUGd3jZ7e21OrICntRMyXe4L48UKSC+MDRdkGIr/DWKMDsGHbJBskGyQbJA7DOJGg1hvskGyQbJBskFuNkjYqNEgRPkfJBskGyQb5JdB3ocf\n"
     ]
    },
    {
     "name": "stderr",
     "output_type": "stream",
     "text": [
      "DEBUG:signalr_async.client:Raw message received: WSMessage(type=<WSMsgType.TEXT: 1>, data='{\"C\":\"d-F23263D5-B,0|Df,0|Dg,11|d,97|p,8BD|o,8BC|a,1|Y,D|Dh,0|n,1|W,2|c,25|i,1|X,C|k,3|l,1|r,2|Z,1|s,59F\",\"M\":[{\"H\":\"Streaming\",\"M\":\"feed\",\"A\":[\"CarData.z\",\"7ZTPCsIwDMbfJec5mjb9exXfQC+KhyEDBdlBvY29u113HTJzGiyXtJR8NPkSfj0cus/r0b4hXXo4fW6QQCttdsrsMB7RJRMSxZp0tGjpDBXsm1fO7gHHsL83Xdc+y4OCpCrQJZoSqUQ73cdjGEoCS0czOlKeFkhR/f8nFiG3SZyrdpHQcUsN3HlwzdHsDeCugDZcIWMcU4+eKTRcc4i7OdYyS3VcVz3XnMAzJ0t/McpTJBfWhyjjBFGCKEGUIKqOGVHGr5BROgijhFHCqK0zyqoaQ8w8WB2iEAVRgihB1EYQdR2+\",\"2023-03-19T16:38:50.189402Z\"]},{\"H\":\"Streaming\",\"M\":\"feed\",\"A\":[\"Position.z\",\"7ZY9a8NADIb/i2Y7WNJ9751baIY2pUMoGUyJUxJ3Cv7vPdshXEqqksxajA33IN0r8eAjPO0Obd/uOkhvR1i2282hX2+/IAE1xHXDNcYlusQhmbggb0KIdgUVPHT9vt0cIB0Bx8dzv+6/8yc8dsv9+uMzH3mBVCNHV8ErJNuYClaQEMNQAUkIRj8htS0RIyEU7IRQgwWCjcQYxrmzGErmjtug2JvhMDEOfck4sU4z1yF70VsQGTPXYV9mQGIGxHy6T4nIEeCMkC+vQ+JEeZzk2Fq8qMNia3Sqc4GISf+RgBfL2Dgx+aVgWIzg+uYYuberE7VW7M3NDJpy29ztsXkxAh7Pjsi43GcmiBGQmRkXz8gwVP8bxOQZOUtqEDWIGkQNcodBfP4HyeugBlGDqEHUIHcYJHrjA6MaRA2iBlGD3GoQ2yzyjLwNQQ2iBlGDqEF+G+R9+AE=\",\"2023-03-19T16:38:50.1347588Z\"]}]}', extra='')\n"
     ]
    },
    {
     "name": "stdout",
     "output_type": "stream",
     "text": [
      "CarData.z 7ZTPCsIwDMbfJec5mjb9exXfQC+KhyEDBdlBvY29u113HTJzGiyXtJR8NPkSfj0cus/r0b4hXXo4fW6QQCttdsrsMB7RJRMSxZp0tGjpDBXsm1fO7gHHsL83Xdc+y4OCpCrQJZoSqUQ73cdjGEoCS0czOlKeFkhR/f8nFiG3SZyrdpHQcUsN3HlwzdHsDeCugDZcIWMcU4+eKTRcc4i7OdYyS3VcVz3XnMAzJ0t/McpTJBfWhyjjBFGCKEGUIKqOGVHGr5BROgijhFHCqK0zyqoaQ8w8WB2iEAVRgihB1EYQdR2+\n",
      "Position.z 7ZY9a8NADIb/i2Y7WNJ9751baIY2pUMoGUyJUxJ3Cv7vPdshXEqqksxajA33IN0r8eAjPO0Obd/uOkhvR1i2282hX2+/IAE1xHXDNcYlusQhmbggb0KIdgUVPHT9vt0cIB0Bx8dzv+6/8yc8dsv9+uMzH3mBVCNHV8ErJNuYClaQEMNQAUkIRj8htS0RIyEU7IRQgwWCjcQYxrmzGErmjtug2JvhMDEOfck4sU4z1yF70VsQGTPXYV9mQGIGxHy6T4nIEeCMkC+vQ+JEeZzk2Fq8qMNia3Sqc4GISf+RgBfL2Dgx+aVgWIzg+uYYuberE7VW7M3NDJpy29ztsXkxAh7Pjsi43GcmiBGQmRkXz8gwVP8bxOQZOUtqEDWIGkQNcodBfP4HyeugBlGDqEHUIHcYJHrjA6MaRA2iBlGD3GoQ2yzyjLwNQQ2iBlGDqEF+G+R9+AE=\n"
     ]
    },
    {
     "name": "stderr",
     "output_type": "stream",
     "text": [
      "DEBUG:signalr_async.client:Connection keepalive\n",
      "DEBUG:signalr_async.client:Sending: message_content='{}', is_binary=False\n",
      "DEBUG:signalr_async.client:Raw message received: WSMessage(type=<WSMsgType.TEXT: 1>, data='{\"C\":\"d-F23263D5-B,0|Df,0|Dg,11|d,97|p,8BE|o,8BD|a,1|Y,D|Dh,0|n,1|W,2|c,25|i,1|X,C|k,3|l,1|r,2|Z,1|s,59F\",\"M\":[{\"H\":\"Streaming\",\"M\":\"feed\",\"A\":[\"CarData.z\",\"7Za7qgJBDIbfJbUuuc21Fd/A03iwEBEUZAvdbtl3V8dWDho4IJgmMwz5mcw/4SMjLPvhfNxfoP6O8DPsoAIjyxxlTmVFsUquATvRIimHNcxgsT3fskege1gctn2/P7UDhIoz4BalRW0xPPb3ZZpagkmnT3SKnF6QEr5/JzWh9ZH0rNqXhNFaarb+h9UcNneAtQVYrELDdzzemIxCsZqj1s4JwVhqtLqarOZkmzk36V+MilxEkn4eozQ4o5xRzqivZxR1GAsnip/GKCnkc5QzyhnljKKOubBmK6II9b8gxeyDlEPKIfUlkNpMVw==\",\"2023-03-19T16:38:51.229248Z\"]},{\"H\":\"Streaming\",\"M\":\"feed\",\"A\":[\"Position.z\",\"7ZS7asNAEEX/ZWrJaB777FMnEBWJQwoTXIhgOdhKZfTv0cOYVXAm2PUWEhLsYe7eXc4JnvbHpmv2LcS3E9TNbnvsNrsviEAVcVlxiaFGG9lHU60YxQ3PGgp4aLtDsz1CPAGOr+du030Pv/DY1ofNx+ew5AViiRxsAa8w0FLAGiKi7wsgDcHgJqQ0KSIaQt5MCFWYIFhpjDDOyYJPmTt2g2o2YT8xFl3KWHVONc8hs8jmVUbmOezSDkjtgJjP+0kRvQKcEXLpdkg9UR5PcowWFnNYjUbnOQtEbfqPBpw6xoSJGT4ShtUKrt8c0bNdPVFj1Gx2ZlDS22Zvr82pFfC4dkTGy31hvFoByczYcEH6vvjfIJbFevLZINkg2SDZIHcYxAexwpwNkg2SDZINcrNBcEVOjDcmGyQbJBskG+S3Qd77Hw==\",\"2023-03-19T16:38:51.2745855Z\"]}]}', extra='')\n"
     ]
    },
    {
     "name": "stdout",
     "output_type": "stream",
     "text": [
      "CarData.z 7Za7qgJBDIbfJbUuuc21Fd/A03iwEBEUZAvdbtl3V8dWDho4IJgmMwz5mcw/4SMjLPvhfNxfoP6O8DPsoAIjyxxlTmVFsUquATvRIimHNcxgsT3fskege1gctn2/P7UDhIoz4BalRW0xPPb3ZZpagkmnT3SKnF6QEr5/JzWh9ZH0rNqXhNFaarb+h9UcNneAtQVYrELDdzzemIxCsZqj1s4JwVhqtLqarOZkmzk36V+MilxEkn4eozQ4o5xRzqivZxR1GAsnip/GKCnkc5QzyhnljKKOubBmK6II9b8gxeyDlEPKIfUlkNpMVw==\n",
      "Position.z 7ZS7asNAEEX/ZWrJaB777FMnEBWJQwoTXIhgOdhKZfTv0cOYVXAm2PUWEhLsYe7eXc4JnvbHpmv2LcS3E9TNbnvsNrsviEAVcVlxiaFGG9lHU60YxQ3PGgp4aLtDsz1CPAGOr+du030Pv/DY1ofNx+ew5AViiRxsAa8w0FLAGiKi7wsgDcHgJqQ0KSIaQt5MCFWYIFhpjDDOyYJPmTt2g2o2YT8xFl3KWHVONc8hs8jmVUbmOezSDkjtgJjP+0kRvQKcEXLpdkg9UR5PcowWFnNYjUbnOQtEbfqPBpw6xoSJGT4ShtUKrt8c0bNdPVFj1Gx2ZlDS22Zvr82pFfC4dkTGy31hvFoByczYcEH6vvjfIJbFevLZINkg2SDZIHcYxAexwpwNkg2SDZINcrNBcEVOjDcmGyQbJBskG+S3Qd77Hw==\n"
     ]
    },
    {
     "name": "stderr",
     "output_type": "stream",
     "text": [
      "DEBUG:signalr_async.client:Raw message received: WSMessage(type=<WSMsgType.TEXT: 1>, data='{\"C\":\"d-F23263D5-B,0|Df,0|Dg,11|d,97|p,8BF|o,8BE|a,1|Y,D|Dh,0|n,1|W,2|c,25|i,1|X,C|k,3|l,1|r,2|Z,1|s,59F\",\"M\":[{\"H\":\"Streaming\",\"M\":\"feed\",\"A\":[\"CarData.z\",\"7ZSxCsIwEIbf5eZWcpekTbIW30AXxaFIQUE61G6l726brkXqvyiS5RJCfnL33+UbaN/23b15UjgPdOyvFEiU6FzpnP2Bi6BdsLwz4oWdOVFGVd1NtwfiOVS3um2bRzxQFFRGEqOO0cRol/28jGO8AOnMio69uA1SVp+/yVGIFslr2W4SFmiqDu0Hao7AE4COgGhUCLRjqbEEhRo1x6CTYy2YaoG6WqLmOMycSfqOUU48W/9riNr06ROfEp8Sn/6cT9551qZMgEqASoBKgPoKoC7jCw==\",\"2023-03-19T16:38:51.9891347Z\"]},{\"H\":\"Streaming\",\"M\":\"feed\",\"A\":[\"Position.z\",\"7Za7asNAEEX/ZWrJ7Dz22adOIC4ShxQmuBDBcrCVyujfo4cx6+BMsOtthAR7mJk7y0FHeNodmq7ZtZDejrBstptDt95+QQIyxLXhGuMSXeKQLC4ExTqhFVTw0Hb7ZnOAdAQcH8/duvsePuGxXe7XH5/DkRdINXJ0FbxCskYqWEFCDH0FpCEY/YTUNkdEQyjYCSGDGYJGY4Rx7iyGnLljGlR7Ew4T49DnjFPrmLkO2YvegsrIXId9ngGpGRDzaZ4c0SPAGSGfj0PqRnnc5NhavKjDamt0qnOBqEn/kYBXy9g4McNLxrAawfWbI3pvVzdqrdqbmxmU/La522PzagQ8nh2R8XKfmaBGQDIzLp6Rvq/+N4iNYtnFYpBikGKQYpA7DBKGfxDDUgxSDFIMUgxys0FoYYZZPBeBFIEUgRSB/BbIe/8D\",\"2023-03-19T16:38:52.014473Z\"]}]}', extra='')\n",
      "DEBUG:signalr_async.client:Raw message received: WSMessage(type=<WSMsgType.TEXT: 1>, data='{}', extra='')\n"
     ]
    },
    {
     "name": "stdout",
     "output_type": "stream",
     "text": [
      "CarData.z 7ZSxCsIwEIbf5eZWcpekTbIW30AXxaFIQUE61G6l726brkXqvyiS5RJCfnL33+UbaN/23b15UjgPdOyvFEiU6FzpnP2Bi6BdsLwz4oWdOVFGVd1NtwfiOVS3um2bRzxQFFRGEqOO0cRol/28jGO8AOnMio69uA1SVp+/yVGIFslr2W4SFmiqDu0Hao7AE4COgGhUCLRjqbEEhRo1x6CTYy2YaoG6WqLmOMycSfqOUU48W/9riNr06ROfEp8Sn/6cT9551qZMgEqASoBKgPoKoC7jCw==\n",
      "Position.z 7Za7asNAEEX/ZWrJ7Dz22adOIC4ShxQmuBDBcrCVyujfo4cx6+BMsOtthAR7mJk7y0FHeNodmq7ZtZDejrBstptDt95+QQIyxLXhGuMSXeKQLC4ExTqhFVTw0Hb7ZnOAdAQcH8/duvsePuGxXe7XH5/DkRdINXJ0FbxCskYqWEFCDH0FpCEY/YTUNkdEQyjYCSGDGYJGY4Rx7iyGnLljGlR7Ew4T49DnjFPrmLkO2YvegsrIXId9ngGpGRDzaZ4c0SPAGSGfj0PqRnnc5NhavKjDamt0qnOBqEn/kYBXy9g4McNLxrAawfWbI3pvVzdqrdqbmxmU/La522PzagQ8nh2R8XKfmaBGQDIzLp6Rvq/+N4iNYtnFYpBikGKQYpA7DBKGfxDDUgxSDFIMUgxys0FoYYZZPBeBFIEUgRSB/BbIe/8D\n"
     ]
    },
    {
     "name": "stderr",
     "output_type": "stream",
     "text": [
      "DEBUG:signalr_async.client:Raw message received: WSMessage(type=<WSMsgType.TEXT: 1>, data='{\"C\":\"d-F23263D5-B,0|Df,0|Dg,11|d,97|p,8C0|o,8BF|a,1|Y,D|Dh,0|n,1|W,2|c,25|i,1|X,C|k,3|l,1|r,2|Z,1|s,59F\",\"M\":[{\"H\":\"Streaming\",\"M\":\"feed\",\"A\":[\"CarData.z\",\"7da/CsIwEAbwd7m5lUsuzb+1+Aa6KA5FCgrSQbuVvrtt3AW/xQ63XEvIB8ld+dGJ9sP4vPcvyueJjuOVMlm2UrPUJh2MzxJzY3fCiWMwJ6qo7Z7L7onMWtpbNwz9oywwZa7IliqlulKbz/v6mOeyAco5MGf496ApQfSGBj6qR48a0WGgzbHw+NH5W0GDwDg+dwxgUNDmOPTLaRrwqB7takCbE7HmLNFvQDmf2ItToBQoBUqB2h5Q3iaWFBUoBUqBUqC2B1Rc/qAWoRQoBUqBUqC2BpTs2McUJChQCpQCpUD9BajL/AY=\",\"2023-03-19T16:38:53.0689737Z\"]},{\"H\":\"Streaming\",\"M\":\"feed\",\"A\":[\"Position.z\",\"7ZY9a8MwEIb/y8120N3pe+/cQjO0KR1CyWBKnBK7U/B/b2SFoJT0SjJrMTb44V69kh98gKfd0I3drof4doBlt90M43r7BRFIEbeKWwxLtJF9NLSgoDUrs4IGHvpx320GiAfAdHke1+P38REe++V+/fF5fOUFYoscbAOvEI3SDawgIvqpAZIQDG5GWlMiWkLImxkhhQWCSmI0Y04WfMncsRoUs2n2M2PRlYwV56g8h8xFNi8yOs9hV3ZAYgfEfFpPicgVYEbIlcshcUc57WSKFi7msBiNTnMuELHpPxpw4hgTZuZ4UzAsVnD95Gg529UdNUbMZjODujxt9vbanFgBp3cTkg73mfFiBaQzY8MZmabmf4PY9DmgrwapBqkGqQa5wyDOaTau/oNUg1SDVIPcbhBeoNEUgqsGqQapBqkG+W2Q9+kH\",\"2023-03-19T16:38:53.1542997Z\"]}]}', extra='')\n"
     ]
    },
    {
     "name": "stdout",
     "output_type": "stream",
     "text": [
      "CarData.z 7da/CsIwEAbwd7m5lUsuzb+1+Aa6KA5FCgrSQbuVvrtt3AW/xQ63XEvIB8ld+dGJ9sP4vPcvyueJjuOVMlm2UrPUJh2MzxJzY3fCiWMwJ6qo7Z7L7onMWtpbNwz9oywwZa7IliqlulKbz/v6mOeyAco5MGf496ApQfSGBj6qR48a0WGgzbHw+NH5W0GDwDg+dwxgUNDmOPTLaRrwqB7takCbE7HmLNFvQDmf2ItToBQoBUqB2h5Q3iaWFBUoBUqBUqC2B1Rc/qAWoRQoBUqBUqC2BpTs2McUJChQCpQCpUD9BajL/AY=\n",
      "Position.z 7ZY9a8MwEIb/y8120N3pe+/cQjO0KR1CyWBKnBK7U/B/b2SFoJT0SjJrMTb44V69kh98gKfd0I3drof4doBlt90M43r7BRFIEbeKWwxLtJF9NLSgoDUrs4IGHvpx320GiAfAdHke1+P38REe++V+/fF5fOUFYoscbAOvEI3SDawgIvqpAZIQDG5GWlMiWkLImxkhhQWCSmI0Y04WfMncsRoUs2n2M2PRlYwV56g8h8xFNi8yOs9hV3ZAYgfEfFpPicgVYEbIlcshcUc57WSKFi7msBiNTnMuELHpPxpw4hgTZuZ4UzAsVnD95Gg529UdNUbMZjODujxt9vbanFgBp3cTkg73mfFiBaQzY8MZmabmf4PY9DmgrwapBqkGqQa5wyDOaTau/oNUg1SDVIPcbhBeoNEUgqsGqQapBqkG+W2Q9+kH\n"
     ]
    },
    {
     "name": "stderr",
     "output_type": "stream",
     "text": [
      "DEBUG:signalr_async.client:Raw message received: WSMessage(type=<WSMsgType.TEXT: 1>, data='{\"C\":\"d-F23263D5-B,0|Df,0|Dg,11|d,97|p,8C1|o,8C0|a,1|Y,D|Dh,0|n,1|W,2|c,25|i,1|X,C|k,3|l,1|r,2|Z,1|s,59F\",\"M\":[{\"H\":\"Streaming\",\"M\":\"feed\",\"A\":[\"CarData.z\",\"7daxCoMwEAbgd7lZJckl8cwqfYN2aekgRWihOLRu4rtX417ov9ThllNCfkju5MOJDsP4evRvSpeJTuONEjnjuDRc2uZoY2JJgSsXpfGez1RQ272W3RPZtbT3bhj6Z14wlExBLlfO1ecatvf1Mc95A5TzYM6a34M2B9EbWvioET2qoMNAm+Pg8aPzd4wGgXFsd6zBIKPN8eiXEwJ41Ih2tUabI1hzlug3oIKRxjTqk/qkPqlP+/MpRhEJQYFSoBQoBWp/QElcfdI/KAVKgVKgdgeUr4wTYRsVKAVKgVKg/gLUdf4A\",\"2023-03-19T16:38:54.0288316Z\"]},{\"H\":\"Streaming\",\"M\":\"feed\",\"A\":[\"Position.z\",\"7ZbLSsNQEIbfZdZJyVzOde9awSy04qJIF0HaShtXIe9uLqWcQh2xi4JyNiGB8zEz/xw+0sHD7tC0zW4L8aWDutmsD+1q8wERqCIuKy4x1Ggj+2h4wU7IWl5CAXfbdt+sDxA7wPHx2K7az+ET7rf1fvX2Phx5glgiB1vAM0RTSQFLiIi+L4A0BIObkNKkiGgIeTMhVGGCYKUxwjh3FnzKXDENqr0J+4mx6FLGqnWquQ6Zs968yshch12aAakZEPNxnhTRI8AZIZeOQ+pGedzk2Fo4q8Nqa3Ssc4aoSX+TgFPLmDAxw0vCsBrB5Zsjem8XN2qM2pudGZT0ttnfx+bUCHg8OyLj5T4xXo2AZGZsOCF9X/xsEMdCiDYbJBskGyQb5AqDBBT0QjcziMkGyQbJBvk3BpEFOjNMc7t/kGyQbJBskD9jkNf+Cw==\",\"2023-03-19T16:38:54.1751446Z\"]}]}', extra='')\n"
     ]
    },
    {
     "name": "stdout",
     "output_type": "stream",
     "text": [
      "CarData.z 7daxCoMwEAbgd7lZJckl8cwqfYN2aekgRWihOLRu4rtX417ov9ThllNCfkju5MOJDsP4evRvSpeJTuONEjnjuDRc2uZoY2JJgSsXpfGez1RQ272W3RPZtbT3bhj6Z14wlExBLlfO1ecatvf1Mc95A5TzYM6a34M2B9EbWvioET2qoMNAm+Pg8aPzd4wGgXFsd6zBIKPN8eiXEwJ41Ih2tUabI1hzlug3oIKRxjTqk/qkPqlP+/MpRhEJQYFSoBQoBWp/QElcfdI/KAVKgVKgdgeUr4wTYRsVKAVKgVKg/gLUdf4A\n",
      "Position.z 7ZbLSsNQEIbfZdZJyVzOde9awSy04qJIF0HaShtXIe9uLqWcQh2xi4JyNiGB8zEz/xw+0sHD7tC0zW4L8aWDutmsD+1q8wERqCIuKy4x1Ggj+2h4wU7IWl5CAXfbdt+sDxA7wPHx2K7az+ET7rf1fvX2Phx5glgiB1vAM0RTSQFLiIi+L4A0BIObkNKkiGgIeTMhVGGCYKUxwjh3FnzKXDENqr0J+4mx6FLGqnWquQ6Zs968yshch12aAakZEPNxnhTRI8AZIZeOQ+pGedzk2Fo4q8Nqa3Ssc4aoSX+TgFPLmDAxw0vCsBrB5Zsjem8XN2qM2pudGZT0ttnfx+bUCHg8OyLj5T4xXo2AZGZsOCF9X/xsEMdCiDYbJBskGyQb5AqDBBT0QjcziMkGyQbJBvk3BpEFOjNMc7t/kGyQbJBskD9jkNf+Cw==\n"
     ]
    },
    {
     "name": "stderr",
     "output_type": "stream",
     "text": [
      "DEBUG:signalr_async.client:Raw message received: WSMessage(type=<WSMsgType.TEXT: 1>, data='{\"C\":\"d-F23263D5-B,0|Df,0|Dg,11|d,97|p,8C2|o,8C1|a,1|Y,D|Dh,0|n,1|W,2|c,25|i,1|X,C|k,3|l,1|r,2|Z,1|s,59F\",\"M\":[{\"H\":\"Streaming\",\"M\":\"feed\",\"A\":[\"CarData.z\",\"7ZY/C8IwEMW/y81tSS7/rlmL30AXxUGkoCAdtFvpd9emu+Bb7HDLJYQ8uHsv/MhEu2F83vsX5dNEh/FKmdiwq42rbbu3MTvJwTfMIoaPVFF3eX4uT2SX0t0uw9A/yoGhbCriUl2pvtSw7pdlnssFSOdBnTW/C20RohNauNWItipoGKg5DMeP5s8OFQJxrDMmUOhQczz6ckIAW42oqwk1RzBzPtJvfArSJi9BAaWAUkApoLYHKOE2WRYFlAJKAaWA2hqgQmNiG1PUH5QCSgGlgPoPoM7zGw==\",\"2023-03-19T16:38:55.0696765Z\"]},{\"H\":\"Streaming\",\"M\":\"feed\",\"A\":[\"Position.z\",\"7ZY9a8MwEIb/y8120Ol0+to7t1APbUqHUDKYEqck7hT832tbIcglvZLMWowNfrhXr+QHn+Bpf2z7dt9BfDtB0+62x36z+4IIWmmqFdUYGrSRfGSzImTURGuo4KHrD+32CPEEOF2e+03/PT7CY9ccNh+f4ysvEGukYCt4hcjKVLCGiOiHCrSEYHAzUjNniJEQ7XlGtMIMQSUxhjAlCz5n7lgNitkM+Zmx6HLGinNUmqN5kc2LjElzyOUdaLGDcTPP68kRuQJMiHb5crS4o8QmRQuLOSRG0+c5C0Rs+o8GnDiGw8yMNxlDYgXXT46Rs13dUWYxm00Mmvy02dtrc2IFNL07IdPhvjBerECbxNhwQYah+t8g7Fh58sUgxSDFIMUgdxjE4/jpuPIPUgxSDFIMcrtBeIWjQRS6YpBikGKQYpDfBnkffgA=\",\"2023-03-19T16:38:55.1150017Z\"]}]}', extra='')\n"
     ]
    },
    {
     "name": "stdout",
     "output_type": "stream",
     "text": [
      "CarData.z 7ZY/C8IwEMW/y81tSS7/rlmL30AXxUGkoCAdtFvpd9emu+Bb7HDLJYQ8uHsv/MhEu2F83vsX5dNEh/FKmdiwq42rbbu3MTvJwTfMIoaPVFF3eX4uT2SX0t0uw9A/yoGhbCriUl2pvtSw7pdlnssFSOdBnTW/C20RohNauNWItipoGKg5DMeP5s8OFQJxrDMmUOhQczz6ckIAW42oqwk1RzBzPtJvfArSJi9BAaWAUkApoLYHKOE2WRYFlAJKAaWA2hqgQmNiG1PUH5QCSgGlgPoPoM7zGw==\n",
      "Position.z 7ZY9a8MwEIb/y8120Ol0+to7t1APbUqHUDKYEqck7hT832tbIcglvZLMWowNfrhXr+QHn+Bpf2z7dt9BfDtB0+62x36z+4IIWmmqFdUYGrSRfGSzImTURGuo4KHrD+32CPEEOF2e+03/PT7CY9ccNh+f4ysvEGukYCt4hcjKVLCGiOiHCrSEYHAzUjNniJEQ7XlGtMIMQSUxhjAlCz5n7lgNitkM+Zmx6HLGinNUmqN5kc2LjElzyOUdaLGDcTPP68kRuQJMiHb5crS4o8QmRQuLOSRG0+c5C0Rs+o8GnDiGw8yMNxlDYgXXT46Rs13dUWYxm00Mmvy02dtrc2IFNL07IdPhvjBerECbxNhwQYah+t8g7Fh58sUgxSDFIMUgdxjE4/jpuPIPUgxSDFIMcrtBeIWjQRS6YpBikGKQYpDfBnkffgA=\n"
     ]
    },
    {
     "name": "stderr",
     "output_type": "stream",
     "text": [
      "DEBUG:signalr_async.client:Connection keepalive\n",
      "DEBUG:signalr_async.client:Sending: message_content='{}', is_binary=False\n",
      "DEBUG:signalr_async.client:Raw message received: WSMessage(type=<WSMsgType.TEXT: 1>, data='{\"C\":\"d-F23263D5-B,0|Df,0|Dg,11|d,97|p,8C3|o,8C2|a,1|Y,D|Dh,0|n,1|W,2|c,25|i,1|X,C|k,3|l,1|r,2|Z,1|s,59F\",\"M\":[{\"H\":\"Streaming\",\"M\":\"feed\",\"A\":[\"CarData.z\",\"7daxCsIwEAbgd7m5llySS5Os4hvoojgUERSkg3YrfXdjugv+ix1uuZaQH5K78tGJdsP4vF9flE8THcYLZbLGuo1xG057DtnFLNI6k4LnIzW07Z9l80T8KdtbPwzXR10wlE1DtlZXq69VlvfPY57rBijnwRyb34Ncg+gNGT5qQI8a0WGgzbHw+NH5W4cGgXEsd+zAoEOb49EvRwQ8akC72qHNiVhzSvSbT1J8YvYKlAKlQClQ6wOqM0kiRwVKgVKgFKj1AZUKUMKdAqVAKVAK1NqACi37JCz6B6VAKVAK1H+AOs9v\",\"2023-03-19T16:38:56.1495158Z\"]},{\"H\":\"Streaming\",\"M\":\"feed\",\"A\":[\"Position.z\",\"7ZQ9a8MwFEX/y5vt4Pehz71zC83QpnQIJYMpcUriTsH/vbYVglLSV5JZi5FBh3d1Jc4RnnaHtm93HcS3Iyzb7ebQr7dfEIEa4rrhGsMSbWQfjVkISjCWVlDBQ9fv280B4hFw+jz36/57/IXHbrlff3yOW14g1sjBVvAK0TRSwQoioh8qIA3B4GakNiZDREPImxmhBjMEG40RxpQs+Jy54zSoZhP2M2PR5YxV5zRpDpmLbF5lJM1hl3dAagfEfDpPjugVYELI5cch9UbZSIoWLuawGo1Ocy4Qtek/GnDqGBNmZlxkDKsVXH85ome7eqPGqNlsYlDy12Zvr82pFfC0d0Kmx31mvFoBSWJsOCPDUP1vEDsahIpBikGKQYpB7jKIH+8ocDFIMUgxSDHI7QaxC3TiBW0xSDFIMUgxyG+DvA8/\",\"2023-03-19T16:38:56.1748416Z\"]}]}', extra='')\n"
     ]
    },
    {
     "name": "stdout",
     "output_type": "stream",
     "text": [
      "CarData.z 7daxCsIwEAbgd7m5llySS5Os4hvoojgUERSkg3YrfXdjugv+ix1uuZaQH5K78tGJdsP4vF9flE8THcYLZbLGuo1xG057DtnFLNI6k4LnIzW07Z9l80T8KdtbPwzXR10wlE1DtlZXq69VlvfPY57rBijnwRyb34Ncg+gNGT5qQI8a0WGgzbHw+NH5W4cGgXEsd+zAoEOb49EvRwQ8akC72qHNiVhzSvSbT1J8YvYKlAKlQClQ6wOqM0kiRwVKgVKgFKj1AZUKUMKdAqVAKVAK1NqACi37JCz6B6VAKVAK1H+AOs9v\n",
      "Position.z 7ZQ9a8MwFEX/y5vt4Pehz71zC83QpnQIJYMpcUriTsH/vbYVglLSV5JZi5FBh3d1Jc4RnnaHtm93HcS3Iyzb7ebQr7dfEIEa4rrhGsMSbWQfjVkISjCWVlDBQ9fv280B4hFw+jz36/57/IXHbrlff3yOW14g1sjBVvAK0TRSwQoioh8qIA3B4GakNiZDREPImxmhBjMEG40RxpQs+Jy54zSoZhP2M2PR5YxV5zRpDpmLbF5lJM1hl3dAagfEfDpPjugVYELI5cch9UbZSIoWLuawGo1Ocy4Qtek/GnDqGBNmZlxkDKsVXH85ome7eqPGqNlsYlDy12Zvr82pFfC0d0Kmx31mvFoBSWJsOCPDUP1vEDsahIpBikGKQYpB7jKIH+8ocDFIMUgxSDHI7QaxC3TiBW0xSDFIMUgxyG+DvA8/\n"
     ]
    },
    {
     "name": "stderr",
     "output_type": "stream",
     "text": [
      "DEBUG:signalr_async.client:Raw message received: WSMessage(type=<WSMsgType.TEXT: 1>, data='{\"C\":\"d-F23263D5-B,0|Df,0|Dg,11|d,97|p,8C4|o,8C3|a,1|Y,D|Dh,0|n,1|W,2|c,25|i,1|X,C|k,3|l,1|r,2|Z,1|s,59F\",\"M\":[{\"H\":\"Streaming\",\"M\":\"feed\",\"A\":[\"CarData.z\",\"7dQ9CoNAEAXgu0ytsruz/63kBkmTkEKCkECwSOzEu0fXPpDXxGKaUWQfzM7IN9FhGF+P/k35MtFpvFEmowzXimudjtpnjtn5hmOyUbkzVdR2r+X0RHot7b0bhv5ZPijKqiJTKpdqS3Xb+/qY53IAylkwp9XvQV2C6A013KpHW43oMtDhGHj96P4No0FgHdsdAxhkdDgW/XOcA1v16FQDOpyIDWeJfgPK2WRdEJ/EJ/FJfNqfT2HxyQQvQAlQApQAtTegQqNM4uisACVACVAC1P6AMj6xTUmAEqAEKAHqL0Bd5w8=\",\"2023-03-19T16:38:57.2693499Z\"]},{\"H\":\"Streaming\",\"M\":\"feed\",\"A\":[\"Position.z\",\"7ZQ9a8MwEIb/y8120J1On3vnFuqhTekQSgZT4pTEnYL/e20rBLmkV5JZi7FBD/fq9fGc4Gl/bPt230F8O0HT7rbHfrP7ggikSNdK1xgatFH7aOxKG/bItIYKHrr+0G6PEE+A0+O53/Tf4yc8ds1h8/E5HnmBWKMOtoJXiEZxBWuIiH6ogCQEg5uR2pgMYQkhb2aEFGYIKolhjSlZ8Dlzx21QzMbaz4xFlzNWnKPSHDKLbF5kOM3RLu+AxA5I6/N9ckSuABNCLr8OiX903JsULSzmaDEanecsELHpPxpw4hgTZmZ8yRgtVnB9c1jOdvWPGiNms4lBzrfN3l6bEyvQ09kJmZb7wnixAuLE2HBBhqH63yDWsLPeFoMUgxSDFIPcbBC3UoGdQlcMUgxSDFIMcodByLF1zMUgxSDFIMUgvw3yPvwA\",\"2023-03-19T16:38:57.2746744Z\"]}]}', extra='')\n"
     ]
    },
    {
     "name": "stdout",
     "output_type": "stream",
     "text": [
      "CarData.z 7dQ9CoNAEAXgu0ytsruz/63kBkmTkEKCkECwSOzEu0fXPpDXxGKaUWQfzM7IN9FhGF+P/k35MtFpvFEmowzXimudjtpnjtn5hmOyUbkzVdR2r+X0RHot7b0bhv5ZPijKqiJTKpdqS3Xb+/qY53IAylkwp9XvQV2C6A013KpHW43oMtDhGHj96P4No0FgHdsdAxhkdDgW/XOcA1v16FQDOpyIDWeJfgPK2WRdEJ/EJ/FJfNqfT2HxyQQvQAlQApQAtTegQqNM4uisACVACVAC1P6AMj6xTUmAEqAEKAHqL0Bd5w8=\n",
      "Position.z 7ZQ9a8MwEIb/y8120J1On3vnFuqhTekQSgZT4pTEnYL/e20rBLmkV5JZi7FBD/fq9fGc4Gl/bPt230F8O0HT7rbHfrP7ggikSNdK1xgatFH7aOxKG/bItIYKHrr+0G6PEE+A0+O53/Tf4yc8ds1h8/E5HnmBWKMOtoJXiEZxBWuIiH6ogCQEg5uR2pgMYQkhb2aEFGYIKolhjSlZ8Dlzx21QzMbaz4xFlzNWnKPSHDKLbF5kOM3RLu+AxA5I6/N9ckSuABNCLr8OiX903JsULSzmaDEanecsELHpPxpw4hgTZmZ8yRgtVnB9c1jOdvWPGiNms4lBzrfN3l6bEyvQ09kJmZb7wnixAuLE2HBBhqH63yDWsLPeFoMUgxSDFIPcbBC3UoGdQlcMUgxSDFIMcodByLF1zMUgxSDFIMUgvw3yPvwA\n"
     ]
    },
    {
     "name": "stderr",
     "output_type": "stream",
     "text": [
      "DEBUG:signalr_async.client:Raw message received: WSMessage(type=<WSMsgType.TEXT: 1>, data='{\"C\":\"d-F23263D5-B,0|Df,0|Dg,11|d,97|p,8C5|o,8C4|a,1|Y,D|Dh,0|n,1|W,2|c,25|i,1|X,C|k,3|l,1|r,2|Z,1|s,59F\",\"M\":[{\"H\":\"Streaming\",\"M\":\"feed\",\"A\":[\"CarData.z\",\"7ZQxCwIxDIX/S2ZP0qTttV0P/4EuioPIgYLcoLcd99/16i74Fh2ypKXkQfJe+SbaDOP92j+oHCbajWcqJCzasDYub10smkpo1z5mFdY9rag73V/dE7mldJfTMPS3+sBUeEVSq9bqaw3v+3LMc22AdB7UOf5e6KoQ3dDBo0Z01ISGgZojcPxo/qKoEIjjvWMLChU1x6M/JwRw1Ii62qLmJMycl/QToFLMEjkZoAxQBigD1L8BKq1Zsmj0BigDlAHKAPV/gFLOLgfjk/HJ+GR8+gmfjvMT\",\"2023-03-19T16:38:58.309195Z\"]},{\"H\":\"Streaming\",\"M\":\"feed\",\"A\":[\"Position.z\",\"7ZQ9a8MwEIb/y8120J3u9LV3bqEZ2pQOoWQwJUlJ3Cn4vze2QlBKeiWZtRgZ9HCvXonnAE/bfdd32w2ktwPMu/Vq3y/XX5CADNnW2BbjHF2yIYmf2chOHC6ggYdNv+tWe0gHwPHz3C/77+MvPG7mu+XH53HLC6QWbXQNvEISww0sICGGoQHSEIx+QlqRAmENoSATQgYLBI3GsMWcLIaSueM0qGZjGybGoS8Zp84xeQ7JRbagMpznWF92QGoHZO3pPCWiV4AZIV8eh9QbtcI5WryYY9VodJpzgahN/9GAV8dInJjjomCsWsH1l8N6tqs3KqJmc5lBLl+bu702r1Zgx70jMj7uMxPUCogz4+IZGYbmf4N4ZGe8VINUg1SDVIPcbJAwM8IiEqpBqkGqQapB7jAIeRYirgapBqkGqQb5bZD34Qc=\",\"2023-03-19T16:38:58.2745224Z\"]}]}', extra='')\n"
     ]
    },
    {
     "name": "stdout",
     "output_type": "stream",
     "text": [
      "CarData.z 7ZQxCwIxDIX/S2ZP0qTttV0P/4EuioPIgYLcoLcd99/16i74Fh2ypKXkQfJe+SbaDOP92j+oHCbajWcqJCzasDYub10smkpo1z5mFdY9rag73V/dE7mldJfTMPS3+sBUeEVSq9bqaw3v+3LMc22AdB7UOf5e6KoQ3dDBo0Z01ISGgZojcPxo/qKoEIjjvWMLChU1x6M/JwRw1Ii62qLmJMycl/QToFLMEjkZoAxQBigD1L8BKq1Zsmj0BigDlAHKAPV/gFLOLgfjk/HJ+GR8+gmfjvMT\n",
      "Position.z 7ZQ9a8MwEIb/y8120J3u9LV3bqEZ2pQOoWQwJUlJ3Cn4vze2QlBKeiWZtRgZ9HCvXonnAE/bfdd32w2ktwPMu/Vq3y/XX5CADNnW2BbjHF2yIYmf2chOHC6ggYdNv+tWe0gHwPHz3C/77+MvPG7mu+XH53HLC6QWbXQNvEISww0sICGGoQHSEIx+QlqRAmENoSATQgYLBI3GsMWcLIaSueM0qGZjGybGoS8Zp84xeQ7JRbagMpznWF92QGoHZO3pPCWiV4AZIV8eh9QbtcI5WryYY9VodJpzgahN/9GAV8dInJjjomCsWsH1l8N6tqs3KqJmc5lBLl+bu702r1Zgx70jMj7uMxPUCogz4+IZGYbmf4N4ZGe8VINUg1SDVIPcbJAwM8IiEqpBqkGqQapB7jAIeRYirgapBqkGqQb5bZD34Qc=\n"
     ]
    },
    {
     "name": "stderr",
     "output_type": "stream",
     "text": [
      "DEBUG:signalr_async.client:Raw message received: WSMessage(type=<WSMsgType.TEXT: 1>, data='{\"C\":\"d-F23263D5-B,0|Df,0|Dg,11|d,97|p,8C6|o,8C5|a,1|Y,D|Dh,0|n,1|W,2|c,25|i,1|X,C|k,3|l,1|r,2|Z,1|s,59F\",\"M\":[{\"H\":\"Streaming\",\"M\":\"feed\",\"A\":[\"CarData.z\",\"7Zc/C8IwEMW/y81tufxtkrX4DXRRHIoUFKSDdiv97qbpLvgWO9xyCSEP7t4LP8hMh3F6PYY3pctMp+lGiTRrU7OpVTwqn0xILjSOo/LOnqmirn/l2zOptXT3fhyHZzlgSlyRLtWUakt1235dlqVcgHQW1Cn+XaiKEJ1Qwa16tNWAhoGao+H40fy1QYVAHNuMLSg0qDkWfTnOga161NUWNSdg5mTpN0C1GVDGBQGUAEoAJYDaG6Bio2xkHwVQAigBlABqh4AyGVCW5YsngBJACaD+A6jr8gE=\",\"2023-03-19T16:38:59.3490404Z\"]},{\"H\":\"Streaming\",\"M\":\"feed\",\"A\":[\"Position.z\",\"7ZY9a8NADIb/i2Y7WDrd5965hWZoUzqEksGUOCVxp+D/XtsXwoWmKsmsxdhwD5LeEw8+wtPu0PbtroP0doRlu90c+vX2CxJQQ6ZuTI1xiS6ZkGxYWM/sXVhBBQ9dv283B0hHwOnx3K/77/ETHrvlfv3xOR55gVSjia6CV0i24QpWkBDDUAFJCEY/I7W1BcISQsHOCDVYINhIDBvMncVQMndMg2JvbMLMOPQl48Q6Ta5D9qK3IDKc6xhfZkBiBmTMaZ4SkSPAjJAvxyHxRo3l3Fq8qGPE1uhU5wIRk/4jAS+WsXFmxpeCMWIE1zeH5d6u3qi1Ym8uM8jltrnbY/NiBGY6OyHTcp+ZIEZAnBkXz8gwVP8bxFtmjqwGUYOoQdQgdxgkjrOQRTWIGkQNoga52SBxgWN4kb0aRA2iBlGD3GGQUR/Gkv6DqEHUIGqQXwZ5H34A\",\"2023-03-19T16:38:59.3943521Z\"]}]}', extra='')\n"
     ]
    },
    {
     "name": "stdout",
     "output_type": "stream",
     "text": [
      "CarData.z 7Zc/C8IwEMW/y81tufxtkrX4DXRRHIoUFKSDdiv97qbpLvgWO9xyCSEP7t4LP8hMh3F6PYY3pctMp+lGiTRrU7OpVTwqn0xILjSOo/LOnqmirn/l2zOptXT3fhyHZzlgSlyRLtWUakt1235dlqVcgHQW1Cn+XaiKEJ1Qwa16tNWAhoGao+H40fy1QYVAHNuMLSg0qDkWfTnOga161NUWNSdg5mTpN0C1GVDGBQGUAEoAJYDaG6Bio2xkHwVQAigBlABqh4AyGVCW5YsngBJACaD+A6jr8gE=\n",
      "Position.z 7ZY9a8NADIb/i2Y7WDrd5965hWZoUzqEksGUOCVxp+D/XtsXwoWmKsmsxdhwD5LeEw8+wtPu0PbtroP0doRlu90c+vX2CxJQQ6ZuTI1xiS6ZkGxYWM/sXVhBBQ9dv283B0hHwOnx3K/77/ETHrvlfv3xOR55gVSjia6CV0i24QpWkBDDUAFJCEY/I7W1BcISQsHOCDVYINhIDBvMncVQMndMg2JvbMLMOPQl48Q6Ta5D9qK3IDKc6xhfZkBiBmTMaZ4SkSPAjJAvxyHxRo3l3Fq8qGPE1uhU5wIRk/4jAS+WsXFmxpeCMWIE1zeH5d6u3qi1Ym8uM8jltrnbY/NiBGY6OyHTcp+ZIEZAnBkXz8gwVP8bxFtmjqwGUYOoQdQgdxgkjrOQRTWIGkQNoga52SBxgWN4kb0aRA2iBlGD3GGQUR/Gkv6DqEHUIGqQXwZ5H34A\n"
     ]
    },
    {
     "name": "stderr",
     "output_type": "stream",
     "text": [
      "DEBUG:signalr_async.client:Raw message received: WSMessage(type=<WSMsgType.TEXT: 1>, data='{\"C\":\"d-F23263D5-B,0|Df,0|Dg,11|d,97|p,8C6|o,8C5|a,1|Y,D|Dh,0|n,1|W,2|c,26|i,1|X,C|k,3|l,1|r,2|Z,1|s,59F\",\"M\":[{\"H\":\"Streaming\",\"M\":\"feed\",\"A\":[\"WeatherData\",{\"AirTemp\":\"26.1\",\"Humidity\":\"58.0\",\"Pressure\":\"1010.9\",\"Rainfall\":\"0\",\"TrackTemp\":\"32.5\",\"WindDirection\":\"291\",\"WindSpeed\":\"2.7\",\"_kf\":true},\"2023-03-19T16:39:00.01Z\"]}]}', extra='')\n"
     ]
    },
    {
     "name": "stdout",
     "output_type": "stream",
     "text": [
      "WeatherData {'AirTemp': '26.1', 'Humidity': '58.0', 'Pressure': '1010.9', 'Rainfall': '0', 'TrackTemp': '32.5', 'WindDirection': '291', 'WindSpeed': '2.7', '_kf': True}\n"
     ]
    },
    {
     "name": "stderr",
     "output_type": "stream",
     "text": [
      "DEBUG:signalr_async.client:Raw message received: WSMessage(type=<WSMsgType.TEXT: 1>, data='{\"C\":\"d-F23263D5-B,0|Df,0|Dg,11|d,97|p,8C7|o,8C6|a,1|Y,D|Dh,0|n,1|W,2|c,26|i,1|X,C|k,3|l,1|r,2|Z,1|s,59F\",\"M\":[{\"H\":\"Streaming\",\"M\":\"feed\",\"A\":[\"CarData.z\",\"7ZS9CsJAEITfZesk7P3lftrgG2ijWAQJKEiKmO7Iu5tcesFptNhm7zh2YHfm+DIdxnl6DC9Kl0yn+UaJNGtTs6lVPKo2mZBcbDyHGLw9U0VdP63dmdRWuns/jsOzPDAlrkiXakq1pbr9vh3LUhognQV1ir8XqiJEN1TwqC06akDDQM3RcPxo/tqgQiCOfUcPCg1qjkV/jnPgqC3qqkfNCZg5q/QToOIKKOe9AEoAJYASQP0VoGJibrQOkWMQQAmgBFACqJ8A6rq8AQ==\",\"2023-03-19T16:39:00.2289098Z\"]},{\"H\":\"Streaming\",\"M\":\"feed\",\"A\":[\"Position.z\",\"7ZRPS8NAEMW/y5yTsjOzs//unhXsQSseivQQxFbaeCr57ibZUrZSR+p5LyGB/fHevNm8IzzsDl3f7baQXo6w7D42h3798QkJyBC3hluMS3SJQ5K4ELFMPqyggbttv+82B0hHwOnx2K/7r/ET7rfL/frtfTzyBKlFjq6BZ0hibAMrSIhhaIA0BKOfkVakQKyGUJAZIYMFgkZjLGN2FkPJ/GMaVL1ZDjPj0JeMU3VM1iG58BZUxmYd9mUGpGZAzKd5SkSPADNCvhyH1I2y2GwtXuiwao1OOheImvQvCXhVRuLMjC8Fw2oE12+O1b1d3aiI6s1lBm1529ztsXk1Ap7OTsh0uc9MUCMgmxkXz8gwNH83iBdL0dvaILVBaoPUBrmtQWIyZjHuiMafqDZIbZDaILVBfjbI6/AN\",\"2023-03-19T16:39:00.1342396Z\"]}]}', extra='')\n"
     ]
    },
    {
     "name": "stdout",
     "output_type": "stream",
     "text": [
      "CarData.z 7ZS9CsJAEITfZesk7P3lftrgG2ijWAQJKEiKmO7Iu5tcesFptNhm7zh2YHfm+DIdxnl6DC9Kl0yn+UaJNGtTs6lVPKo2mZBcbDyHGLw9U0VdP63dmdRWuns/jsOzPDAlrkiXakq1pbr9vh3LUhognQV1ir8XqiJEN1TwqC06akDDQM3RcPxo/tqgQiCOfUcPCg1qjkV/jnPgqC3qqkfNCZg5q/QToOIKKOe9AEoAJYASQP0VoGJibrQOkWMQQAmgBFACqJ8A6rq8AQ==\n",
      "Position.z 7ZRPS8NAEMW/y5yTsjOzs//unhXsQSseivQQxFbaeCr57ibZUrZSR+p5LyGB/fHevNm8IzzsDl3f7baQXo6w7D42h3798QkJyBC3hluMS3SJQ5K4ELFMPqyggbttv+82B0hHwOnx2K/7r/ET7rfL/frtfTzyBKlFjq6BZ0hibAMrSIhhaIA0BKOfkVakQKyGUJAZIYMFgkZjLGN2FkPJ/GMaVL1ZDjPj0JeMU3VM1iG58BZUxmYd9mUGpGZAzKd5SkSPADNCvhyH1I2y2GwtXuiwao1OOheImvQvCXhVRuLMjC8Fw2oE12+O1b1d3aiI6s1lBm1529ztsXk1Ap7OTsh0uc9MUCMgmxkXz8gwNH83iBdL0dvaILVBaoPUBrmtQWIyZjHuiMafqDZIbZDaILVBfjbI6/AN\n"
     ]
    },
    {
     "name": "stderr",
     "output_type": "stream",
     "text": [
      "DEBUG:signalr_async.client:Connection keepalive\n",
      "DEBUG:signalr_async.client:Sending: message_content='{}', is_binary=False\n",
      "DEBUG:signalr_async.client:Raw message received: WSMessage(type=<WSMsgType.TEXT: 1>, data='{\"C\":\"d-F23263D5-B,0|Df,0|Dg,11|d,97|p,8C8|o,8C7|a,1|Y,D|Dh,0|n,1|W,2|c,26|i,1|X,C|k,3|l,1|r,2|Z,1|s,59F\",\"M\":[{\"H\":\"Streaming\",\"M\":\"feed\",\"A\":[\"CarData.z\",\"7ZS9CsMwDITfRXMS/G/Za+gbtEtLh1ACLZQMbbaQd2/i7IXe0gxaZGN0IN2Zb6LDML4e/ZvyZaLTeKNMRhlbK1vrdNQh25SVarxjDsadqaK2ey3dE+m1tPduGPpneVCUVUWmVFuqK9Vv9/WY59IA6Ryo0+p3oS5CdEMNjxrQURkNAzXHwPGj+RuLCoE4th0jKLSoOQ79Od6DowbU1Yiaw5g5i/QboKJitswCKAGUAEoAtT9AJeaYghdACaAEUAKovQFKNyak6F0UQAmgBFACqL8A6jp/AA==\",\"2023-03-19T16:39:01.2697547Z\"]},{\"H\":\"Streaming\",\"M\":\"feed\",\"A\":[\"Position.z\",\"7ZQ9a8MwEIb/y8120N3prI+9cwvN0KZ0CCWDKXFK4k7B/722FYJS0ivJrMXYoId79Up+jvC0O7R9u+sgvh1h2W43h369/YIIZIhrwzWGJTaRQzRmQcESCq+ggoeu37ebA8Qj4PR47tf99/gJj91yv/74HJe8QKyRQ1PBK0QxtoIVREQ/VEAagsHNSC2SIVZDyMuMkMEMQaMxljElCz5n7tgNqtks+5lp0OVMo84xaQ7JRTavMjbNYZd3QGoHxHzaT47oFWBCyOXbIfVEWWyKFi7msBqNTnMuELXpPxpw6hgJMzO+ZAyrFVy/OVbPdvVERdRsTWLQ5retub02p1bA09oJmS73mfFqBWQT04QzMgzV/wYRsejEF4MUgxSDFIPcYRAXZPyJqBikGKQYpBjkZoPgAlFMMFIMUgxSDFIM8tsg78MP\",\"2023-03-19T16:39:01.1150905Z\"]}]}', extra='')\n"
     ]
    },
    {
     "name": "stdout",
     "output_type": "stream",
     "text": [
      "CarData.z 7ZS9CsMwDITfRXMS/G/Za+gbtEtLh1ACLZQMbbaQd2/i7IXe0gxaZGN0IN2Zb6LDML4e/ZvyZaLTeKNMRhlbK1vrdNQh25SVarxjDsadqaK2ey3dE+m1tPduGPpneVCUVUWmVFuqK9Vv9/WY59IA6Ryo0+p3oS5CdEMNjxrQURkNAzXHwPGj+RuLCoE4th0jKLSoOQ79Od6DowbU1Yiaw5g5i/QboKJitswCKAGUAEoAtT9AJeaYghdACaAEUAKovQFKNyak6F0UQAmgBFACqL8A6jp/AA==\n",
      "Position.z 7ZQ9a8MwEIb/y8120N3prI+9cwvN0KZ0CCWDKXFK4k7B/722FYJS0ivJrMXYoId79Up+jvC0O7R9u+sgvh1h2W43h369/YIIZIhrwzWGJTaRQzRmQcESCq+ggoeu37ebA8Qj4PR47tf99/gJj91yv/74HJe8QKyRQ1PBK0QxtoIVREQ/VEAagsHNSC2SIVZDyMuMkMEMQaMxljElCz5n7tgNqtks+5lp0OVMo84xaQ7JRTavMjbNYZd3QGoHxHzaT47oFWBCyOXbIfVEWWyKFi7msBqNTnMuELXpPxpw6hgJMzO+ZAyrFVy/OVbPdvVERdRsTWLQ5retub02p1bA09oJmS73mfFqBWQT04QzMgzV/wYRsejEF4MUgxSDFIPcYRAXZPyJqBikGKQYpBjkZoPgAlFMMFIMUgxSDFIM8tsg78MP\n"
     ]
    },
    {
     "name": "stderr",
     "output_type": "stream",
     "text": [
      "DEBUG:signalr_async.client:Raw message received: WSMessage(type=<WSMsgType.TEXT: 1>, data='{}', extra='')\n",
      "DEBUG:signalr_async.client:Raw message received: WSMessage(type=<WSMsgType.TEXT: 1>, data='{\"C\":\"d-F23263D5-B,0|Df,0|Dg,11|d,97|p,8C9|o,8C8|a,1|Y,D|Dh,0|n,1|W,2|c,26|i,1|X,C|k,3|l,1|r,2|Z,1|s,59F\",\"M\":[{\"H\":\"Streaming\",\"M\":\"feed\",\"A\":[\"CarData.z\",\"7ZY/C8IwEMW/y81tSS7/mqzFb6CL4lCkoCAdtFvpdzdNd8G32OGWSwh5cPde+JGZDuP0egxvSpeZTtONErFiUytT63jUPpmYlG68jz46d6aKuv6Vb8+k19Ld+3EcnuVAUVIVcammVFuq2/brsizlAqSzoE6r34W6CNEJNdyqR1tt0TBQcxiOH82fDSoE4thmDKDQoOZY9OU4B7bqUVcDak6LmZOl3wDVcvRBBwGUAEoAJYDaG6C4UfkHZZwVQAmgBFACqP0BijOglBc+CZ+ET8Knv/DpunwA\",\"2023-03-19T16:39:02.269606Z\"]},{\"H\":\"Streaming\",\"M\":\"feed\",\"A\":[\"Position.z\",\"7ZQ9a8MwEIb/y8120J1On3vnFuqhTekQSgZT4pTEnYL/e20rBLmkV5JZi5FBD/fqlXhO8LQ/tn277yC+naBpd9tjv9l9QQRSpGulawwN2qhDVLhiNIo5rKGCh64/tNsjxBPg9HnuN/33+AuPXXPYfHyOW14g1qiDreAV4ghWsIaI6IcKSEIwuBmpjckQlhDyZkZIYYagkhjWmJIFnzN3nAbFbKz9zFh0OWPFOSrNIbPI5kWG0xzt8g5I7IC0Pp8nR+QKMCHk8uOQeKPacIoWFnO0GI3OcxaI2PQfDThxjAkzMy4yRosVXH85LGe7eqPGiNlsYpDz12Zvr82JFehp74RMj/vCeLEC4sTYcEGGofrfICYYhc4WgxSDFIMUg9xhEO84OFMEUgRSBFIEcrNAaIWBA1kuBikGKQYpBvltkPfhBw==\",\"2023-03-19T16:39:02.1949264Z\"]}]}', extra='')\n"
     ]
    },
    {
     "name": "stdout",
     "output_type": "stream",
     "text": [
      "CarData.z 7ZY/C8IwEMW/y81tSS7/mqzFb6CL4lCkoCAdtFvpdzdNd8G32OGWSwh5cPde+JGZDuP0egxvSpeZTtONErFiUytT63jUPpmYlG68jz46d6aKuv6Vb8+k19Ld+3EcnuVAUVIVcammVFuq2/brsizlAqSzoE6r34W6CNEJNdyqR1tt0TBQcxiOH82fDSoE4thmDKDQoOZY9OU4B7bqUVcDak6LmZOl3wDVcvRBBwGUAEoAJYDaG6C4UfkHZZwVQAmgBFACqP0BijOglBc+CZ+ET8Knv/DpunwA\n",
      "Position.z 7ZQ9a8MwEIb/y8120J1On3vnFuqhTekQSgZT4pTEnYL/e20rBLmkV5JZi5FBD/fqlXhO8LQ/tn277yC+naBpd9tjv9l9QQRSpGulawwN2qhDVLhiNIo5rKGCh64/tNsjxBPg9HnuN/33+AuPXXPYfHyOW14g1qiDreAV4ghWsIaI6IcKSEIwuBmpjckQlhDyZkZIYYagkhjWmJIFnzN3nAbFbKz9zFh0OWPFOSrNIbPI5kWG0xzt8g5I7IC0Pp8nR+QKMCHk8uOQeKPacIoWFnO0GI3OcxaI2PQfDThxjAkzMy4yRosVXH85LGe7eqPGiNlsYpDz12Zvr82JFehp74RMj/vCeLEC4sTYcEGGofrfICYYhc4WgxSDFIMUg9xhEO84OFMEUgRSBFIEcrNAaIWBA1kuBikGKQYpBvltkPfhBw==\n"
     ]
    },
    {
     "name": "stderr",
     "output_type": "stream",
     "text": [
      "DEBUG:signalr_async.client:Raw message received: WSMessage(type=<WSMsgType.TEXT: 1>, data='{\"C\":\"d-F23263D5-B,0|Df,0|Dg,11|d,97|p,8CA|o,8C9|a,1|Y,D|Dh,0|n,1|W,2|c,26|i,1|X,C|k,3|l,1|r,2|Z,1|s,59F\",\"M\":[{\"H\":\"Streaming\",\"M\":\"feed\",\"A\":[\"CarData.z\",\"7ZQ/C8IwEMW/y81tyb9Lk6zFb6CL4lCkoCAdareS726b7oJv0eGGvISQB3fvwm+hwzhPj+FF6bLQab5RIqOMrZWtdTxqn2xMyjQcIq/rTBV1/bS+Xkhv0t37cRye5UJRUhWZoraoK8r7edtyLg8gnwN9Wn1v1MWIdqjhUj1aakCHgYZj4PGj8zcWNQLj2HtsQaNFw3Hoz2EGS/Voqi0aTsDCWa2fABVdZMUsgBJACaAEUP8GKNvoEJ2PXgAlgBJACaB+AqhrfgM=\",\"2023-03-19T16:39:03.1894696Z\"]},{\"H\":\"Streaming\",\"M\":\"feed\",\"A\":[\"Position.z\",\"7ZY9a8NADIb/i2Y7nKT73ju3UA9tSodQMpgSpyTuFPzfa/tCONNUJZlvMTbcg6T3xINP8LQ/tn277yC+naBpd9tjv9l9QQRSxLXiGkODNnKIilZsdFC0hgoeuv7Qbo8QT4DT47nf9N/jJzx2zWHz8TkeeYFYIwdbwStEo3QFa4iIfqiAJASDm5HamAzREkLezAgpzBBUEqMZU2fB58wd06DYm2Y/MxZdzlixjkp1yCx68yKjUx12eQYkZkDM53lyRI4AE0IuH4fEGx3XJrUWFnVYbI3OdRaImPQfCTixjAkzM75kDIsRXN8cLfd29UaNEXuziUGdb5u9PTYnRsDT2QmZlvvCeDEC0omx4YIMQ/W/QNx4R1pzMUgxSDFIMcjNBuGVQu0VumKQYpBikGKQOwxCrJ315R+kGKQYpBjkl0Hehx8=\",\"2023-03-19T16:39:03.2347683Z\"]}]}', extra='')\n",
      "DEBUG:signalr_async.client:Raw message received: WSMessage(type=<WSMsgType.TEXT: 1>, data='{\"C\":\"d-F23263D5-B,0|Df,0|Dg,11|d,98|p,8CA|o,8C9|a,1|Y,D|Dh,0|n,1|W,2|c,26|i,1|X,C|k,3|l,1|r,2|Z,1|s,59F\",\"M\":[{\"H\":\"Streaming\",\"M\":\"feed\",\"A\":[\"Heartbeat\",{\"Utc\":\"2023-03-19T16:39:05.7501292Z\",\"_kf\":true},\"2023-03-19T16:39:05.025Z\"]}]}', extra='')\n"
     ]
    },
    {
     "name": "stdout",
     "output_type": "stream",
     "text": [
      "CarData.z 7ZQ/C8IwEMW/y81tyb9Lk6zFb6CL4lCkoCAdareS726b7oJv0eGGvISQB3fvwm+hwzhPj+FF6bLQab5RIqOMrZWtdTxqn2xMyjQcIq/rTBV1/bS+Xkhv0t37cRye5UJRUhWZoraoK8r7edtyLg8gnwN9Wn1v1MWIdqjhUj1aakCHgYZj4PGj8zcWNQLj2HtsQaNFw3Hoz2EGS/Voqi0aTsDCWa2fABVdZMUsgBJACaAEUP8GKNvoEJ2PXgAlgBJACaB+AqhrfgM=\n",
      "Position.z 7ZY9a8NADIb/i2Y7nKT73ju3UA9tSodQMpgSpyTuFPzfa/tCONNUJZlvMTbcg6T3xINP8LQ/tn277yC+naBpd9tjv9l9QQRSxLXiGkODNnKIilZsdFC0hgoeuv7Qbo8QT4DT47nf9N/jJzx2zWHz8TkeeYFYIwdbwStEo3QFa4iIfqiAJASDm5HamAzREkLezAgpzBBUEqMZU2fB58wd06DYm2Y/MxZdzlixjkp1yCx68yKjUx12eQYkZkDM53lyRI4AE0IuH4fEGx3XJrUWFnVYbI3OdRaImPQfCTixjAkzM75kDIsRXN8cLfd29UaNEXuziUGdb5u9PTYnRsDT2QmZlvvCeDEC0omx4YIMQ/W/QNx4R1pzMUgxSDFIMcjNBuGVQu0VumKQYpBikGKQOwxCrJ315R+kGKQYpBjkl0Hehx8=\n",
      "Heartbeat {'Utc': '2023-03-19T16:39:05.7501292Z', '_kf': True}\n"
     ]
    },
    {
     "name": "stderr",
     "output_type": "stream",
     "text": [
      "DEBUG:signalr_async.client:Raw message received: WSMessage(type=<WSMsgType.TEXT: 1>, data='{\"C\":\"d-F23263D5-B,0|Df,0|Dg,11|d,98|p,8CB|o,8CA|a,1|Y,D|Dh,0|n,1|W,2|c,26|i,1|X,C|k,3|l,1|r,2|Z,1|s,59F\",\"M\":[{\"H\":\"Streaming\",\"M\":\"feed\",\"A\":[\"CarData.z\",\"7dSxCsJADAbgd8mscpek18ut4hvoojgUERSkg7qVvrv13AX/xQ5Z0lLuh1xSvoE2/fN+PT+oHAbaPU9UiAPLMsgy2jamIlaCrDSZco57WtC6u0+nB4rvsr50fX++1Q+BSlgQ1yq1aq3N5/39GMd6AMopmIvh92CsQfSGEW41oa1mdBnocBheP7p/FjQIrONzxxYMCjocRf+cpgFbTehUW3Q4GRvOFP0GVGLToI0D5UA5UA7U/IDKbNJq60A5UA6UAzU3oHQVkolkcaAcKAfKgZofUKLGlsyBcqAcKAfqL0Adxxc=\",\"2023-03-19T16:39:04.3492969Z\"]},{\"H\":\"Streaming\",\"M\":\"feed\",\"A\":[\"Position.z\",\"7Za9asMwFEbf5c520P2RZGnv3EIztCkdQslgSpySuFPwu9e2QlBoeksyazE26HA/fRIHH+Fpd2j7dtdBfDvCst1uDv16+wURyBDXhmsMS3SRQzS8EC+esVlBBQ9dv283B4hHwOnx3K/77/ETHrvlfv3xOS55gVgjB1fBK0RrpIIVRMRmqIA0BIOfkdraDBENocbOCBnMEDQaI4wpWWhy5o7doJpNuJkZhz5nnDrHpDlkL7I1KiNpDvu8A1I7IObTfnJErwATQj7fDqknylZStHAxh9VodJpzgahN/9GAV8fYMDPjS8awWsH1myN6tqsnaq2azSUGJb9t7vbavFoBT2snZLrcZ6ZRKyBJjAtnZBiq/w3iRoMYlGKQYpBikGKQOwwSUJyTUAxSDFIMUgxys0FkgUEcUfkHKQYpBikG+WWQ9+EH\",\"2023-03-19T16:39:04.1946224Z\"]}]}', extra='')\n"
     ]
    },
    {
     "name": "stdout",
     "output_type": "stream",
     "text": [
      "CarData.z 7dSxCsJADAbgd8mscpek18ut4hvoojgUERSkg7qVvrv13AX/xQ5Z0lLuh1xSvoE2/fN+PT+oHAbaPU9UiAPLMsgy2jamIlaCrDSZco57WtC6u0+nB4rvsr50fX++1Q+BSlgQ1yq1aq3N5/39GMd6AMopmIvh92CsQfSGEW41oa1mdBnocBheP7p/FjQIrONzxxYMCjocRf+cpgFbTehUW3Q4GRvOFP0GVGLToI0D5UA5UA7U/IDKbNJq60A5UA6UAzU3oHQVkolkcaAcKAfKgZofUKLGlsyBcqAcKAfqL0Adxxc=\n",
      "Position.z 7Za9asMwFEbf5c520P2RZGnv3EIztCkdQslgSpySuFPwu9e2QlBoeksyazE26HA/fRIHH+Fpd2j7dtdBfDvCst1uDv16+wURyBDXhmsMS3SRQzS8EC+esVlBBQ9dv283B4hHwOnx3K/77/ETHrvlfv3xOS55gVgjB1fBK0RrpIIVRMRmqIA0BIOfkdraDBENocbOCBnMEDQaI4wpWWhy5o7doJpNuJkZhz5nnDrHpDlkL7I1KiNpDvu8A1I7IObTfnJErwATQj7fDqknylZStHAxh9VodJpzgahN/9GAV8fYMDPjS8awWsH1myN6tqsnaq2azSUGJb9t7vbavFoBT2snZLrcZ6ZRKyBJjAtnZBiq/w3iRoMYlGKQYpBikGKQOwwSUJyTUAxSDFIMUgxys0FkgUEcUfkHKQYpBikG+WWQ9+EH\n"
     ]
    },
    {
     "name": "stderr",
     "output_type": "stream",
     "text": [
      "DEBUG:signalr_async.client:Raw message received: WSMessage(type=<WSMsgType.TEXT: 1>, data='{\"C\":\"d-F23263D5-B,0|Df,0|Dg,11|d,98|p,8CC|o,8CB|a,1|Y,D|Dh,0|n,1|W,2|c,26|i,1|X,C|k,3|l,1|r,2|Z,1|s,59F\",\"M\":[{\"H\":\"Streaming\",\"M\":\"feed\",\"A\":[\"CarData.z\",\"7dexCsIwEAbgd7nZltxdkjZZxTfQRXEQKShIB+1W+u7WdBf8Fzvcci0hPyR35YOOtOuH5717UT6NdBiulEmcaOW04rTnmDVl5+vgk8RGj7Sh7eU57x6JP2V7u/R99ygLjrLbkJSqpfpSw/L+eUxT2QDlPJhj93uQSxC9IcNHjehRW3QYaHMEHj86f1E0CIxjuWMDBhVtjke/nBDAo0a0qw3anBZrzhz9BlTjkniNBpQBZUAZUOsDKs1AsQYDyoAyoAyotQEVapHEMbQGlAFlQBlQ6wPKx8Tq7BfPgDKgDKj/AHWe3g==\",\"2023-03-19T16:39:05.4691306Z\"]},{\"H\":\"Streaming\",\"M\":\"feed\",\"A\":[\"Position.z\",\"7Zc9a8MwEIb/y8120H1IlrR3bqEZ2pQOoWQwJU5J3Cn4v9e2QlBoeiWZtRgb9HB3r44HfISn3aHt210H8e0Iy3a7OfTr7RdEIENcG64xLNFFDtHIwrFY63AFFTx0/b7dHCAeAafHc7/uv8dPeOyW+/XH53jkBWKNHFwFrxCtkQpWEBH9UAFpCIZmRmprM0Q0hLydETKYIWg0RhhTZ8HnzB3ToNqbsJ8Zh03OOLWOSXXIXvTmVUZSHW7yDEjNgJhP8+SIHgEmhJp8HFJvlK2k1sJFHVZbo1OdC0RN+o8EGrWMDTMzvmQMqxFc3xzRe7t6o9aqvbnEoOTb5m6PrVEj4OnshEzLfWa8GgFJYlw4I8NQ/W8Qb8USF4EUgRSBFIHcLBC7oHEW54tBikGKQYpB7jEIBxEp/zBFIEUgRSC/BPI+/AA=\",\"2023-03-19T16:39:05.394441Z\"]}]}', extra='')\n",
      "DEBUG:signalr_async.client:Connection keepalive\n",
      "DEBUG:signalr_async.client:Sending: message_content='{}', is_binary=False\n"
     ]
    },
    {
     "name": "stdout",
     "output_type": "stream",
     "text": [
      "CarData.z 7dexCsIwEAbgd7nZltxdkjZZxTfQRXEQKShIB+1W+u7WdBf8Fzvcci0hPyR35YOOtOuH5717UT6NdBiulEmcaOW04rTnmDVl5+vgk8RGj7Sh7eU57x6JP2V7u/R99ygLjrLbkJSqpfpSw/L+eUxT2QDlPJhj93uQSxC9IcNHjehRW3QYaHMEHj86f1E0CIxjuWMDBhVtjke/nBDAo0a0qw3anBZrzhz9BlTjkniNBpQBZUAZUOsDKs1AsQYDyoAyoAyotQEVapHEMbQGlAFlQBlQ6wPKx8Tq7BfPgDKgDKj/AHWe3g==\n",
      "Position.z 7Zc9a8MwEIb/y8120H1IlrR3bqEZ2pQOoWQwJU5J3Cn4v9e2QlBoeiWZtRgb9HB3r44HfISn3aHt210H8e0Iy3a7OfTr7RdEIENcG64xLNFFDtHIwrFY63AFFTx0/b7dHCAeAafHc7/uv8dPeOyW+/XH53jkBWKNHFwFrxCtkQpWEBH9UAFpCIZmRmprM0Q0hLydETKYIWg0RhhTZ8HnzB3ToNqbsJ8Zh03OOLWOSXXIXvTmVUZSHW7yDEjNgJhP8+SIHgEmhJp8HFJvlK2k1sJFHVZbo1OdC0RN+o8EGrWMDTMzvmQMqxFc3xzRe7t6o9aqvbnEoOTb5m6PrVEj4OnshEzLfWa8GgFJYlw4I8NQ/W8Qb8USF4EUgRSBFIHcLBC7oHEW54tBikGKQYpB7jEIBxEp/zBFIEUgRSC/BPI+/AA=\n"
     ]
    },
    {
     "name": "stderr",
     "output_type": "stream",
     "text": [
      "DEBUG:signalr_async.client:Raw message received: WSMessage(type=<WSMsgType.TEXT: 1>, data='{\"C\":\"d-F23263D5-B,0|Df,0|Dg,11|d,98|p,8CD|o,8CB|a,1|Y,D|Dh,0|n,1|W,2|c,26|i,1|X,C|k,3|l,1|r,2|Z,1|s,59F\",\"M\":[{\"H\":\"Streaming\",\"M\":\"feed\",\"A\":[\"CarData.z\",\"7Za9CsJAEITfZesk7P3/tME30EaxCBJQkBQxXci7m1x6wWm02GbvOG5gd+b4uJkOwzQ++hfly0yn6UaZNGtTs6lVOiqfTcrsmqgTh+DPVFHbjevtmdRW2ns3DP2zHDBlrkiXakq1pbp9vy3LUi5AOgvqFH8vVEWITqjgVj3aakTDQM3RcPxo/tqgQiCOfcYACg1qjkVfjnNgqx51NaDmRMycVfoJUCkmdsYKoARQAigB1L8Byjd6/UGpEARQAigBlADqJ4C6Lm8=\",\"2023-03-19T16:39:06.2290177Z\"]}]}', extra='')\n",
      "DEBUG:signalr_async.client:Raw message received: WSMessage(type=<WSMsgType.TEXT: 1>, data='{\"C\":\"d-F23263D5-B,0|Df,0|Dg,11|d,98|p,8CD|o,8CC|a,1|Y,D|Dh,0|n,1|W,2|c,26|i,1|X,C|k,3|l,1|r,2|Z,1|s,59F\",\"M\":[{\"H\":\"Streaming\",\"M\":\"feed\",\"A\":[\"Position.z\",\"7Za9asNAEITfZWvJ3O7ef+86gahIHFKI4EIEy8FWKqN3j6Qz5kycDU59jZDgPmZ2bhl0gsf9sRu6fQ/x9QRNt9seh3b3CRFIEdeKawwN2sghKrNyqDkQb6CCdT8cuu0R4glwfjwN7fA1fcJD3xza94/pyDPEGjnYCl4gGqUr2EBE9GMFJCEY3ILUxmSIlhDyZkFIYYagkhjNmJwFnzP/mAZFb5r9wlh0OWNFHZV0yFx58yKjkw67PAMSMyDm8zw5IkeACSGXj0PijbLRyVq40mHRGp11rhAx6V8ScKKMCQszvWQMixHc3hwte7t5o8aI3mxiUOfbZu+PzYkR8Hx2RublvjBejIB0Ymy4IONY/d0gIWjWwZcGKQ1SGqQ0yN0NYlfEU3hc/kFKg5QGKQ3yo0Hexm8=\",\"2023-03-19T16:39:06.2343133Z\"]}]}', extra='')\n"
     ]
    },
    {
     "name": "stdout",
     "output_type": "stream",
     "text": [
      "CarData.z 7Za9CsJAEITfZesk7P3/tME30EaxCBJQkBQxXci7m1x6wWm02GbvOG5gd+b4uJkOwzQ++hfly0yn6UaZNGtTs6lVOiqfTcrsmqgTh+DPVFHbjevtmdRW2ns3DP2zHDBlrkiXakq1pbp9vy3LUi5AOgvqFH8vVEWITqjgVj3aakTDQM3RcPxo/tqgQiCOfcYACg1qjkVfjnNgqx51NaDmRMycVfoJUCkmdsYKoARQAigB1L8Byjd6/UGpEARQAigBlADqJ4C6Lm8=\n",
      "Position.z 7Za9asNAEITfZWvJ3O7ef+86gahIHFKI4EIEy8FWKqN3j6Qz5kycDU59jZDgPmZ2bhl0gsf9sRu6fQ/x9QRNt9seh3b3CRFIEdeKawwN2sghKrNyqDkQb6CCdT8cuu0R4glwfjwN7fA1fcJD3xza94/pyDPEGjnYCl4gGqUr2EBE9GMFJCEY3ILUxmSIlhDyZkFIYYagkhjNmJwFnzP/mAZFb5r9wlh0OWNFHZV0yFx58yKjkw67PAMSMyDm8zw5IkeACSGXj0PijbLRyVq40mHRGp11rhAx6V8ScKKMCQszvWQMixHc3hwte7t5o8aI3mxiUOfbZu+PzYkR8Hx2RublvjBejIB0Ymy4IONY/d0gIWjWwZcGKQ1SGqQ0yN0NYlfEU3hc/kFKg5QGKQ3yo0Hexm8=\n"
     ]
    },
    {
     "name": "stderr",
     "output_type": "stream",
     "text": [
      "DEBUG:signalr_async.client:Raw message received: WSMessage(type=<WSMsgType.TEXT: 1>, data='{\"C\":\"d-F23263D5-B,0|Df,0|Dg,11|d,98|p,8CE|o,8CD|a,1|Y,D|Dh,0|n,1|W,2|c,26|i,1|X,C|k,3|l,1|r,2|Z,1|s,59F\",\"M\":[{\"H\":\"Streaming\",\"M\":\"feed\",\"A\":[\"CarData.z\",\"7da7CoNAEAXQf5laZfb9aCV/kDQJKSQICQSLxE789+jaB3KbWEwzyrIXdmfk4ESHYXw9+jfly0Sn8UaZNGtTs6lVOiqfTcrsG8cxBa/PVFHbvZbdE6m1tPduGPpnWWDKXJEu1ZRqS3Xb+/qY57IBylkwp/j3oCpB9IYKPqpHjxrRYaDN0fD40flrgwaBcWx3DGDQoM2x6JfjHHhUj3Y1oM2JWHOW6Deggo3JchCgBCgBSoDaH1Bp+YNS3glQApQAJUDtDajQKI4xeitACVAClAC1P6DMApTzUYASoAQoAeovQF3nDw==\",\"2023-03-19T16:39:07.3088568Z\"]},{\"H\":\"Streaming\",\"M\":\"feed\",\"A\":[\"Position.z\",\"7ZY9a8MwEIb/y8120N3pe+/cQj20KR1CyWBKnJK4U/B/r22FINP0SjJrMTbo4V69Eg8+wdP+2PbtvoP4doKm3W2P/Wb3BRFIEdeKawwN2sghKrvSrMlTWEMFD11/aLdHiCfA6fHcb/rv8RMeu+aw+fgcl7xArJGDreAVolG6gjVERD9UQBKCwc1IbUyGaAkhb2aEFGYIKonRjClZ8Dlzx25QzKbZz4xFlzNWnKPSHDKLbF5kdJrDLu+AxA6I+byfHJErwISQy7dD4omy0SlaWMxhMRqd5ywQsek/GnDiGBNmZnzJGBYruH5ztJzt6okaI2aziUGd3zZ7e21OrICntRMyXe4L48UKSCfGhgsyDNX/BnFG0yiRYpBikGKQYpCbDeJWKmj0ZItBikGKQYpB7jAIBYOm/IIUgRSBFIH8Esj78AM=\",\"2023-03-19T16:39:07.295152Z\"]}]}', extra='')\n"
     ]
    },
    {
     "name": "stdout",
     "output_type": "stream",
     "text": [
      "CarData.z 7da7CoNAEAXQf5laZfb9aCV/kDQJKSQICQSLxE789+jaB3KbWEwzyrIXdmfk4ESHYXw9+jfly0Sn8UaZNGtTs6lVOiqfTcrsG8cxBa/PVFHbvZbdE6m1tPduGPpnWWDKXJEu1ZRqS3Xb+/qY57IBylkwp/j3oCpB9IYKPqpHjxrRYaDN0fD40flrgwaBcWx3DGDQoM2x6JfjHHhUj3Y1oM2JWHOW6Deggo3JchCgBCgBSoDaH1Bp+YNS3glQApQAJUDtDajQKI4xeitACVAClAC1P6DMApTzUYASoAQoAeovQF3nDw==\n",
      "Position.z 7ZY9a8MwEIb/y8120N3pe+/cQj20KR1CyWBKnJK4U/B/r22FINP0SjJrMTbo4V69Eg8+wdP+2PbtvoP4doKm3W2P/Wb3BRFIEdeKawwN2sghKrvSrMlTWEMFD11/aLdHiCfA6fHcb/rv8RMeu+aw+fgcl7xArJGDreAVolG6gjVERD9UQBKCwc1IbUyGaAkhb2aEFGYIKonRjClZ8Dlzx25QzKbZz4xFlzNWnKPSHDKLbF5kdJrDLu+AxA6I+byfHJErwISQy7dD4omy0SlaWMxhMRqd5ywQsek/GnDiGBNmZnzJGBYruH5ztJzt6okaI2aziUGd3zZ7e21OrICntRMyXe4L48UKSCfGhgsyDNX/BnFG0yiRYpBikGKQYpCbDeJWKmj0ZItBikGKQYpB7jAIBYOm/IIUgRSBFIH8Esj78AM=\n"
     ]
    },
    {
     "name": "stderr",
     "output_type": "stream",
     "text": [
      "DEBUG:signalr_async.client:Raw message received: WSMessage(type=<WSMsgType.TEXT: 1>, data='{\"C\":\"d-F23263D5-B,0|Df,0|Dg,11|d,98|p,8CF|o,8CE|a,1|Y,D|Dh,0|n,1|W,2|c,26|i,1|X,C|k,3|l,1|r,2|Z,1|s,59F\",\"M\":[{\"H\":\"Streaming\",\"M\":\"feed\",\"A\":[\"CarData.z\",\"7ZYxC8IwEIX/y821XHJpLskq/gNdFAcRQUE6aLfS/66mu+Bb7HDLJYQ8uHsvfGSkTT88bpcnlcNIu+FMhTx7WbGsXN66WCQX1jbElETcnhpanx7v2yO5T1lfT31/udcDpsIN+Vql1lBrN+8/yzTVC5AugDrHvwtdFaITOrjViLaa0DBQczwcP5q/F1QIxDHPqKBQUHMC+nK6Dmw1oq4qak7CzHlLvwFKU9bURQOUAcoAZYBaGqBSyz5ryPaDMkAZoAxQCwSUcFbWbIAyQBmgDFB/AdRxegE=\",\"2023-03-19T16:39:08.3097079Z\"]},{\"H\":\"Streaming\",\"M\":\"feed\",\"A\":[\"Position.z\",\"7ZQ9a8MwEIb/y8120Ol0+to7t1APbUqHUDKYEqck7hT832tbIcglvZLMWowNerhXr4/nBE/7Y9u3+w7i2wmadrc99pvdF0TQSlOtqMbQoI0UonIri4yKzBoqeOj6Q7s9QjwBTo/nftN/j5/w2DWHzcfneOQFYo0UbAWvEFmZCtYQEf1QgZYQDG5GauYMMRKiPc+IVpghqCTGEKZkwefMHbdBMZshPzMWXc5YcY5KczQvsnmRMWkOubwDLXagic73yRG5AkyIdvl1tPhHiU2KFhZzSIymz3MWiNj0Hw04cQyHmRlfMobECq5vjpGzXf2jzGI2mxg0+bbZ22tzYgU0nZ2QabkvjBcr0CYxNlyQYaj+N0ggVmxcMUgxSDFIMcjNBvErDKyQdTFIMUgxSDHIHQYZNyEEFYpBikGKQYpBfhvkffgB\",\"2023-03-19T16:39:08.3549909Z\"]}]}', extra='')\n"
     ]
    },
    {
     "name": "stdout",
     "output_type": "stream",
     "text": [
      "CarData.z 7ZYxC8IwEIX/y821XHJpLskq/gNdFAcRQUE6aLfS/66mu+Bb7HDLJYQ8uHsvfGSkTT88bpcnlcNIu+FMhTx7WbGsXN66WCQX1jbElETcnhpanx7v2yO5T1lfT31/udcDpsIN+Vql1lBrN+8/yzTVC5AugDrHvwtdFaITOrjViLaa0DBQczwcP5q/F1QIxDHPqKBQUHMC+nK6Dmw1oq4qak7CzHlLvwFKU9bURQOUAcoAZYBaGqBSyz5ryPaDMkAZoAxQCwSUcFbWbIAyQBmgDFB/AdRxegE=\n",
      "Position.z 7ZQ9a8MwEIb/y8120Ol0+to7t1APbUqHUDKYEqck7hT832tbIcglvZLMWowNerhXr4/nBE/7Y9u3+w7i2wmadrc99pvdF0TQSlOtqMbQoI0UonIri4yKzBoqeOj6Q7s9QjwBTo/nftN/j5/w2DWHzcfneOQFYo0UbAWvEFmZCtYQEf1QgZYQDG5GauYMMRKiPc+IVpghqCTGEKZkwefMHbdBMZshPzMWXc5YcY5KczQvsnmRMWkOubwDLXagic73yRG5AkyIdvl1tPhHiU2KFhZzSIymz3MWiNj0Hw04cQyHmRlfMobECq5vjpGzXf2jzGI2mxg0+bbZ22tzYgU0nZ2QabkvjBcr0CYxNlyQYaj+N0ggVmxcMUgxSDFIMcjNBvErDKyQdTFIMUgxSDHIHQYZNyEEFYpBikGKQYpBfhvkffgB\n"
     ]
    },
    {
     "name": "stderr",
     "output_type": "stream",
     "text": [
      "DEBUG:signalr_async.client:Raw message received: WSMessage(type=<WSMsgType.TEXT: 1>, data='{\"C\":\"d-F23263D5-B,0|Df,0|Dg,11|d,98|p,8D0|o,8CF|a,1|Y,D|Dh,0|n,1|W,2|c,26|i,1|X,C|k,3|l,1|r,2|Z,1|s,59F\",\"M\":[{\"H\":\"Streaming\",\"M\":\"feed\",\"A\":[\"CarData.z\",\"7ZSxCsMwDET/RXMSbMtWYq+hf9AuLR1CCbRQMqTZQv69ibMXeks7aJGN0YF0Z95Mh2EaH/2L0mWm03SjRM44Lg2XNh6tJI7JNJVIlBDOVFDbjWvzTHYr7b0bhv6ZHwwlU5DLlXP1uYb9vh3LkhsgnQd11nwvtFmIbmjhUQUdtUHDQM1xcPxo/o5RIRDHvmMNChk1x6M/JwRwVEFdrVFzGsycVfqJT9FHscwKKAWUAkoB9W+AipWTGCSIAkoBpYBSQP0EUNflDQ==\",\"2023-03-19T16:39:09.2695656Z\"]},{\"H\":\"Streaming\",\"M\":\"feed\",\"A\":[\"Position.z\",\"7ZQ7a8NAEIT/y9aSuX3cs0+dQFwkDilMcCFC7GArldF/j6Qz5hycDXF9jTjBfczs3DJHeNgdur7bbSG9HGHZfWwO/frjExKQIW4NtxiX6BLHZMLCeYlCvIIG7rb9vtscIB0Bp89jv+6/xl+43y7367f38coTpBY5ugaeIVkjDawgIYahAdIQjH5GWmsLRDSEgp0RMlggaDRGGLOzGErmhmlQ9SYcZsahLxmn6pisQ/bCW1AZyTrsywxIzYCYT/OUiB4BZoR8OQ6pL8pWsrV4ocOqNTrpXCBq0r8k4FUZG2dmPBQMqxFc3xzRvV19UWtVby4zKOW2uf/H5tUIeLo7IdNyn5mgRkCSGRfPyDA0fzVIXJgowQepDVIbpDZIbZAbGoTHBmEKtUFqg9QGqQ3ys0Feh28=\",\"2023-03-19T16:39:09.3948328Z\"]}]}', extra='')\n"
     ]
    },
    {
     "name": "stdout",
     "output_type": "stream",
     "text": [
      "CarData.z 7ZSxCsMwDET/RXMSbMtWYq+hf9AuLR1CCbRQMqTZQv69ibMXeks7aJGN0YF0Z95Mh2EaH/2L0mWm03SjRM44Lg2XNh6tJI7JNJVIlBDOVFDbjWvzTHYr7b0bhv6ZHwwlU5DLlXP1uYb9vh3LkhsgnQd11nwvtFmIbmjhUQUdtUHDQM1xcPxo/o5RIRDHvmMNChk1x6M/JwRwVEFdrVFzGsycVfqJT9FHscwKKAWUAkoB9W+AipWTGCSIAkoBpYBSQP0EUNflDQ==\n",
      "Position.z 7ZQ7a8NAEIT/y9aSuX3cs0+dQFwkDilMcCFC7GArldF/j6Qz5hycDXF9jTjBfczs3DJHeNgdur7bbSG9HGHZfWwO/frjExKQIW4NtxiX6BLHZMLCeYlCvIIG7rb9vtscIB0Bp89jv+6/xl+43y7367f38coTpBY5ugaeIVkjDawgIYahAdIQjH5GWmsLRDSEgp0RMlggaDRGGLOzGErmhmlQ9SYcZsahLxmn6pisQ/bCW1AZyTrsywxIzYCYT/OUiB4BZoR8OQ6pL8pWsrV4ocOqNTrpXCBq0r8k4FUZG2dmPBQMqxFc3xzRvV19UWtVby4zKOW2uf/H5tUIeLo7IdNyn5mgRkCSGRfPyDA0fzVIXJgowQepDVIbpDZIbZAbGoTHBmEKtUFqg9QGqQ3ys0Feh28=\n"
     ]
    },
    {
     "name": "stderr",
     "output_type": "stream",
     "text": [
      "DEBUG:signalr_async.client:Raw message received: WSMessage(type=<WSMsgType.TEXT: 1>, data='{\"C\":\"d-F23263D5-B,0|Df,0|Dg,11|d,98|p,8D1|o,8D0|a,1|Y,D|Dh,0|n,1|W,2|c,26|i,1|X,C|k,3|l,1|r,2|Z,1|s,59F\",\"M\":[{\"H\":\"Streaming\",\"M\":\"feed\",\"A\":[\"CarData.z\",\"7ZQxC8IwEIX/y81tuSSXpMla/Ae6KA4iBQXpoN1K/7s23QXfYodbLiHcg7v3wjfRbhif9/5F+TTRYbxSJsvW1exqk/YmZJcypyZy8sz+SBV1l+eneyKzlO52GYb+UR6YMldkS3WlSql+vS/HPJcGSCegzvDvQlOE6IYGHjWgo7ZoGKg5Fo4fzd86VAjEse4YQaFDzRH053gPjhpQVyNqTouZ85F+A1TiJJFFAaWAUkApoDYGKMMNhyQSrAJKAaWAUkBtD1ASkmuj8kn5pHxSPv2FT+f5DQ==\",\"2023-03-19T16:39:10.469387Z\"]},{\"H\":\"Streaming\",\"M\":\"feed\",\"A\":[\"Position.z\",\"7ZY9a8MwFEX/y5vtoPehz71zC83QpnQIJYMpSUriTsH/vbEVgkLTV5JZi7FBh3d1JQ4+wNN23/XddgPp7QDzbr3a98v1FyQgQ9wabjHO0SWOycSZ9RKMtQto4GHT77rVHtIBcHw898v++/gJj5v5bvnxeVzyAqlFjq6BV0jWSAMLSIhhaIA0BKOfkNbaAhENoWAnhAwWCBqNEcacLIaSuWM3qGYTDhPj0JeMU+eYPIfsRbagMpLnsC87ILUDYj7tp0T0CjAj5MvtkHqibCVHixdzWI1GpzkXiNr0Hw14dYyNE3N8KRhWK7h+c0TPdvVErVWzucyglLfN3V6bVyvgce2IjJf7zAS1ApLMuHhGhqH53yDeivcBq0GqQapBqkFuNQiaGaJ4YqkGqQapBqkGucMg5MXFWP9BqkGqQapBfhnkffgB\",\"2023-03-19T16:39:10.2746991Z\"]}]}', extra='')\n",
      "DEBUG:signalr_async.client:Connection keepalive\n",
      "DEBUG:signalr_async.client:Sending: message_content='{}', is_binary=False\n"
     ]
    },
    {
     "name": "stdout",
     "output_type": "stream",
     "text": [
      "CarData.z 7ZQxC8IwEIX/y81tuSSXpMla/Ae6KA4iBQXpoN1K/7s23QXfYodbLiHcg7v3wjfRbhif9/5F+TTRYbxSJsvW1exqk/YmZJcypyZy8sz+SBV1l+eneyKzlO52GYb+UR6YMldkS3WlSql+vS/HPJcGSCegzvDvQlOE6IYGHjWgo7ZoGKg5Fo4fzd86VAjEse4YQaFDzRH053gPjhpQVyNqTouZ85F+A1TiJJFFAaWAUkApoDYGKMMNhyQSrAJKAaWAUkBtD1ASkmuj8kn5pHxSPv2FT+f5DQ==\n",
      "Position.z 7ZY9a8MwFEX/y5vtoPehz71zC83QpnQIJYMpSUriTsH/vbEVgkLTV5JZi7FBh3d1JQ4+wNN23/XddgPp7QDzbr3a98v1FyQgQ9wabjHO0SWOycSZ9RKMtQto4GHT77rVHtIBcHw898v++/gJj5v5bvnxeVzyAqlFjq6BV0jWSAMLSIhhaIA0BKOfkNbaAhENoWAnhAwWCBqNEcacLIaSuWM3qGYTDhPj0JeMU+eYPIfsRbagMpLnsC87ILUDYj7tp0T0CjAj5MvtkHqibCVHixdzWI1GpzkXiNr0Hw14dYyNE3N8KRhWK7h+c0TPdvVErVWzucyglLfN3V6bVyvgce2IjJf7zAS1ApLMuHhGhqH53yDeivcBq0GqQapBqkFuNQiaGaJ4YqkGqQapBqkGucMg5MXFWP9BqkGqQapBfhnkffgB\n"
     ]
    },
    {
     "name": "stderr",
     "output_type": "stream",
     "text": [
      "DEBUG:signalr_async.client:Raw message received: WSMessage(type=<WSMsgType.TEXT: 1>, data='{\"C\":\"d-F23263D5-B,0|Df,0|Dg,11|d,98|p,8D2|o,8D1|a,1|Y,D|Dh,0|n,1|W,2|c,26|i,1|X,C|k,3|l,1|r,2|Z,1|s,59F\",\"M\":[{\"H\":\"Streaming\",\"M\":\"feed\",\"A\":[\"CarData.z\",\"7dS/CsJADAbwd8mskj93bXOr+Aa6KA4igoJ0ULfSd1fPXfBb7JAlLeU+yCXlN9Cqf9wupzuV3UCbx5EKKavN2ebia2mKeRFetMkt5bylGS0Pt9fpgeRdludD35+u9QNT4RlprVZrqjV/3t+PcawHoFwCc8K/B6UG0RsK3GqDttqhy0CHo/D60f2roUFgHZ87tmDQ0OEk9M/JGWy1QafaosPpsOG8ot+AcnZTSQFUABVABVBTA0oWwq4uFkAFUAFUADU9oCy55iZ8Cp/Cp/Bpej7lzlW5C6ACqAAqgPoLUPvxCQ==\",\"2023-03-19T16:39:11.5892208Z\"]},{\"H\":\"Streaming\",\"M\":\"feed\",\"A\":[\"Position.z\",\"7ZY9a8MwEIb/y8120OlOn3vnFuqhTekQSgZT4pTEnYL/e20rBLmkV5JZi7FBD3f3SnrwCZ72x7Zv9x3EtxM07W577De7L4iglaZaUY2hQRspRFQrS2yZaQ0VPHT9od0eIZ4Ap8dzv+m/x0947JrD5uNzXPICsUYKtoJXiEZxBWuIiH6oQEsIBjcjtTEZwhKivZkRrTBDUEkME6bOgs+ZO6ZBsTcmPzMWXc5YsY5KdbRZ9OZFhlMdcnkGWsxAE53nyRE5AkyIdvk4WtxRMpxaC4s6JLamz3UWiJj0Hwk4sYwJMzO+ZAyJEVw/OSz3dnVHjRF7s4lBzk+bvT02J0ZA09oJmQ73hfFiBJoTY8MFGYbqf4P40SDjLSoGKQYpBikGudkguELHxuryD1IMUgxSDHKPQYzh8e6YYpBikGKQYpDfBnkffgA=\",\"2023-03-19T16:39:11.5545045Z\"]}]}', extra='')\n"
     ]
    },
    {
     "name": "stdout",
     "output_type": "stream",
     "text": [
      "CarData.z 7dS/CsJADAbwd8mskj93bXOr+Aa6KA4igoJ0ULfSd1fPXfBb7JAlLeU+yCXlN9Cqf9wupzuV3UCbx5EKKavN2ebia2mKeRFetMkt5bylGS0Pt9fpgeRdludD35+u9QNT4RlprVZrqjV/3t+PcawHoFwCc8K/B6UG0RsK3GqDttqhy0CHo/D60f2roUFgHZ87tmDQ0OEk9M/JGWy1QafaosPpsOG8ot+AcnZTSQFUABVABVBTA0oWwq4uFkAFUAFUADU9oCy55iZ8Cp/Cp/Bpej7lzlW5C6ACqAAqgPoLUPvxCQ==\n",
      "Position.z 7ZY9a8MwEIb/y8120OlOn3vnFuqhTekQSgZT4pTEnYL/e20rBLmkV5JZi7FBD3f3SnrwCZ72x7Zv9x3EtxM07W577De7L4iglaZaUY2hQRspRFQrS2yZaQ0VPHT9od0eIZ4Ap8dzv+m/x0947JrD5uNzXPICsUYKtoJXiEZxBWuIiH6oQEsIBjcjtTEZwhKivZkRrTBDUEkME6bOgs+ZO6ZBsTcmPzMWXc5YsY5KdbRZ9OZFhlMdcnkGWsxAE53nyRE5AkyIdvk4WtxRMpxaC4s6JLamz3UWiJj0Hwk4sYwJMzO+ZAyJEVw/OSz3dnVHjRF7s4lBzk+bvT02J0ZA09oJmQ73hfFiBJoTY8MFGYbqf4P40SDjLSoGKQYpBikGudkguELHxuryD1IMUgxSDHKPQYzh8e6YYpBikGKQYpDfBnkffgA=\n"
     ]
    },
    {
     "name": "stderr",
     "output_type": "stream",
     "text": [
      "DEBUG:signalr_async.client:Raw message received: WSMessage(type=<WSMsgType.TEXT: 1>, data='{}', extra='')\n",
      "DEBUG:signalr_async.client:Raw message received: WSMessage(type=<WSMsgType.TEXT: 1>, data='{\"C\":\"d-F23263D5-B,0|Df,0|Dg,11|d,98|p,8D3|o,8D1|a,1|Y,D|Dh,0|n,1|W,2|c,26|i,1|X,C|k,3|l,1|r,2|Z,1|s,59F\",\"M\":[{\"H\":\"Streaming\",\"M\":\"feed\",\"A\":[\"CarData.z\",\"7ZYxC4MwEIX/y80quUuiSVbpP2iXlg5ShBaKQ+sm/vdqnDv0LXW45RJCHty9Fz4y0WEYX4/+Teky0Wm8USIxYktjS45HrpONibkKEjl4f6aC2u613J6I19Leu2Hon/nAUDIFSa42V5er3/brMs/5AqRzoI7N70LOQnRChlut0VYDGgZqjsDxo/mLRYVAHNuMDSi0qDkOfTneg63WqKsNak7AzFmk3wEllVkA5T0roBRQCigF1P4AJQugRH9QCigFlAJqj4BydTRR8aR4Ujwpnv6Cp+v8AQ==\",\"2023-03-19T16:39:12.46909Z\"]}]}', extra='')\n",
      "DEBUG:signalr_async.client:Raw message received: WSMessage(type=<WSMsgType.TEXT: 1>, data='{\"C\":\"d-F23263D5-B,0|Df,0|Dg,11|d,98|p,8D3|o,8D2|a,1|Y,D|Dh,0|n,1|W,2|c,26|i,1|X,C|k,3|l,1|r,2|Z,1|s,59F\",\"M\":[{\"H\":\"Streaming\",\"M\":\"feed\",\"A\":[\"Position.z\",\"7ZS7asNAEEX/ZWrJ7Dz2pT51AnGROKQwwYUIloOtVEb/HklrzDo4E+x6GyHBHs3du9I5wtPu0PbtroPm7QjLdrs59OvtFzRAhrg2XGNcoms4NogLjyLB0AoqeOj6fbs5QHMEnC7P/br/Hh/hsVvu1x+f45IXaGrk6Cp4hcYaqWAF41vCUAFpCEY/I7W1GSIaQsHOCBnMEDQaI4wpWQw5c8duUM0mHGbGoc8Zp84xaQ7Zi2xBZSTNYZ93QGoHxHzaT47oFWBCyOfbIfVE2UqKFi/msBqNTnMuELXpPxrw6hgbZ2a8yRhWK7j+5Yie7eqJWqtmc4kZ/7qMcbfX5tUKeFo7IdPHfWaCWgFJYlw8I8NQ/W+QEEUshWKQYpBikGKQmw1CC2IRg1gMUgxSDFIMcodBhIW98cUgxSDFIMUgvw3yPvwA\",\"2023-03-19T16:39:12.4343707Z\"]}]}', extra='')\n"
     ]
    },
    {
     "name": "stdout",
     "output_type": "stream",
     "text": [
      "CarData.z 7ZYxC4MwEIX/y80quUuiSVbpP2iXlg5ShBaKQ+sm/vdqnDv0LXW45RJCHty9Fz4y0WEYX4/+Teky0Wm8USIxYktjS45HrpONibkKEjl4f6aC2u613J6I19Leu2Hon/nAUDIFSa42V5er3/brMs/5AqRzoI7N70LOQnRChlut0VYDGgZqjsDxo/mLRYVAHNuMDSi0qDkOfTneg63WqKsNak7AzFmk3wEllVkA5T0roBRQCigF1P4AJQugRH9QCigFlAJqj4BydTRR8aR4Ujwpnv6Cp+v8AQ==\n",
      "Position.z 7ZS7asNAEEX/ZWrJ7Dz2pT51AnGROKQwwYUIloOtVEb/HklrzDo4E+x6GyHBHs3du9I5wtPu0PbtroPm7QjLdrs59OvtFzRAhrg2XGNcoms4NogLjyLB0AoqeOj6fbs5QHMEnC7P/br/Hh/hsVvu1x+f45IXaGrk6Cp4hcYaqWAF41vCUAFpCEY/I7W1GSIaQsHOCBnMEDQaI4wpWQw5c8duUM0mHGbGoc8Zp84xaQ7Zi2xBZSTNYZ93QGoHxHzaT47oFWBCyOfbIfVE2UqKFi/msBqNTnMuELXpPxrw6hgbZ2a8yRhWK7j+5Yie7eqJWqtmc4kZ/7qMcbfX5tUKeFo7IdPHfWaCWgFJYlw8I8NQ/W+QEEUshWKQYpBikGKQmw1CC2IRg1gMUgxSDFIMcodBhIW98cUgxSDFIMUgvw3yPvwA\n"
     ]
    },
    {
     "name": "stderr",
     "output_type": "stream",
     "text": [
      "DEBUG:signalr_async.client:Raw message received: WSMessage(type=<WSMsgType.TEXT: 1>, data='{\"C\":\"d-F23263D5-B,0|Df,0|Dg,11|d,98|p,8D4|o,8D3|a,1|Y,D|Dh,0|n,1|W,2|c,26|i,1|X,C|k,3|l,1|r,2|Z,1|s,59F\",\"M\":[{\"H\":\"Streaming\",\"M\":\"feed\",\"A\":[\"CarData.z\",\"7dSxCoMwEAbgd7lZ5XJJ1GSVvkG7tHSQIrRQHFo38d0b417ov9ThllMkP1zu5JvpME6vx/CmeJnpNN0okrDYkm1pwtHU0YZopGo4sHf+TAV1/Sudnsmspbv34zg88wemyAVJrjZXl6vf3tfHsuQDUM6BOcO/B00Oojc0cKs12mqLLgMdjsDrR/cvFg0C69ju2IBBiw7HoX+O92CrNTrVBh1Oiw0nRb8BFRJQ4pwCpUApUArU3oCyFdeBmUWBUqAUKAVqf0BZ1wbfNgqUAqVAKVD7A8onoCQYBUqBUqAUqL8AdV0+\",\"2023-03-19T16:39:13.5489291Z\"]},{\"H\":\"Streaming\",\"M\":\"feed\",\"A\":[\"Position.z\",\"7ZS9asMwFEbf5c520P2RZGnP3EIztCkdTMlgSpKSuFPwu9e2QlBKekszazEy6HA/fRLnBI/7Y9d3+x3E1xOsuu3m2LfbT4hAhrg2XGNYoYscItLCeWEWXkMFy11/6DZHiCfA6fPUt/3X+AsPu9Whff8YtzxDrJGDq+AFojVSwRoiYjNUQBqCwc9IbW2GiIZQY2eEDGYIGo0RxpQsNDlzx2lQzSbczIxDnzNOnWPSHLJX2RqVkTSHfd4BqR0Q8/k8OaJXgAkhnx+H1BtlKylauJrDajQ6z7lC1KZ/acCrY2yYmXGRMaxWcPvliJ7t5o1aq2ZziUHJX5v7f21erYCnvRMyPe4L06gVkCTGhQsyDNVfBuGFsULe2WKQYpBikGKQOwxCQUiKP4o/ij+KP+7wh3ghpFAMUgxSDFIM8tMgb8M3\",\"2023-03-19T16:39:13.4742129Z\"]}]}', extra='')\n"
     ]
    },
    {
     "name": "stdout",
     "output_type": "stream",
     "text": [
      "CarData.z 7dSxCoMwEAbgd7lZ5XJJ1GSVvkG7tHSQIrRQHFo38d0b417ov9ThllMkP1zu5JvpME6vx/CmeJnpNN0okrDYkm1pwtHU0YZopGo4sHf+TAV1/Sudnsmspbv34zg88wemyAVJrjZXl6vf3tfHsuQDUM6BOcO/B00Oojc0cKs12mqLLgMdjsDrR/cvFg0C69ju2IBBiw7HoX+O92CrNTrVBh1Oiw0nRb8BFRJQ4pwCpUApUArU3oCyFdeBmUWBUqAUKAVqf0BZ1wbfNgqUAqVAKVD7A8onoCQYBUqBUqAUqL8AdV0+\n",
      "Position.z 7ZS9asMwFEbf5c520P2RZGnP3EIztCkdTMlgSpKSuFPwu9e2QlBKekszazEy6HA/fRLnBI/7Y9d3+x3E1xOsuu3m2LfbT4hAhrg2XGNYoYscItLCeWEWXkMFy11/6DZHiCfA6fPUt/3X+AsPu9Whff8YtzxDrJGDq+AFojVSwRoiYjNUQBqCwc9IbW2GiIZQY2eEDGYIGo0RxpQsNDlzx2lQzSbczIxDnzNOnWPSHLJX2RqVkTSHfd4BqR0Q8/k8OaJXgAkhnx+H1BtlKylauJrDajQ6z7lC1KZ/acCrY2yYmXGRMaxWcPvliJ7t5o1aq2ZziUHJX5v7f21erYCnvRMyPe4L06gVkCTGhQsyDNVfBuGFsULe2WKQYpBikGKQOwxCQUiKP4o/ij+KP+7wh3ghpFAMUgxSDFIM8tMgb8M3\n"
     ]
    },
    {
     "name": "stderr",
     "output_type": "stream",
     "text": [
      "DEBUG:signalr_async.client:Raw message received: WSMessage(type=<WSMsgType.TEXT: 1>, data='{\"C\":\"d-F23263D5-B,0|Df,0|Dg,11|d,98|p,8D5|o,8D4|a,1|Y,D|Dh,0|n,1|W,2|c,26|i,1|X,C|k,3|l,1|r,2|Z,1|s,59F\",\"M\":[{\"H\":\"Streaming\",\"M\":\"feed\",\"A\":[\"CarData.z\",\"7ZSxDsIwDET/xXNbxXHSJlkr/gAWEEOFKoGEOpRuVf+dNp0ZuAUGL04U+ST7LnozHYZpfPQvSpeZTtONElljpTRScjxynSQmliq6EOooZyqo7ca1eybeSnvvhqF/5gdDyRRkc5VcXa5+v2/HsuQGSOdAHZvvhZyF6IYMj1qjowY0DNQcC8eP5m8FFQJx7Ds2oFBQcxz6c7wHR61RVxvUnICZs0o/A8pVbEJwXgGlgFJAKaD+EFDexSYYr4BSQCmgFFA/AdR1eQM=\",\"2023-03-19T16:39:14.5497805Z\"]},{\"H\":\"Streaming\",\"M\":\"feed\",\"A\":[\"Position.z\",\"7ZY9a8MwEIb/y8120Ol0+tozt1APbUoHUzKYEqck7hT832tbISg0vdLMWowNeri7V8eDT/C4P3ZDt+8hvp6g6Xbb49DuPiGCVppqRTWGBm2kEJFWzhm0LmyggnU/HLrtEeIJcH48De3wNX3CQ98c2veP6cgzxBop2ApeILIyFWwgIvqxAi0hGNyC1MwZYiREe14QrTBDUEmMIUydBZ8zd0yDYm+G/MJYdDljxToq1dF81ZsXGZPqkMsz0GIGmug8T47IEWBCtMvH0eKNEpvUWriqQ2Jr+lznChGT/iUBJ5bhsDDTS8aQGMHtzTFybzdvlFnszSYGTb5t9v+xOTECms/OyLzcF8aLEWiTGBsuyDhWfxnErBTytEGmGKQYpBikGOQOgxCy8uyLQYpBikGKQe4wCE8GYS7/IMUgxSDFID8M8jZ+Aw==\",\"2023-03-19T16:39:14.5150554Z\"]}]}', extra='')\n"
     ]
    },
    {
     "name": "stdout",
     "output_type": "stream",
     "text": [
      "CarData.z 7ZSxDsIwDET/xXNbxXHSJlkr/gAWEEOFKoGEOpRuVf+dNp0ZuAUGL04U+ST7LnozHYZpfPQvSpeZTtONElljpTRScjxynSQmliq6EOooZyqo7ca1eybeSnvvhqF/5gdDyRRkc5VcXa5+v2/HsuQGSOdAHZvvhZyF6IYMj1qjowY0DNQcC8eP5m8FFQJx7Ds2oFBQcxz6c7wHR61RVxvUnICZs0o/A8pVbEJwXgGlgFJAKaD+EFDexSYYr4BSQCmgFFA/AdR1eQM=\n",
      "Position.z 7ZY9a8MwEIb/y8120Ol0+tozt1APbUoHUzKYEqck7hT832tbISg0vdLMWowNeri7V8eDT/C4P3ZDt+8hvp6g6Xbb49DuPiGCVppqRTWGBm2kEJFWzhm0LmyggnU/HLrtEeIJcH48De3wNX3CQ98c2veP6cgzxBop2ApeILIyFWwgIvqxAi0hGNyC1MwZYiREe14QrTBDUEmMIUydBZ8zd0yDYm+G/MJYdDljxToq1dF81ZsXGZPqkMsz0GIGmug8T47IEWBCtMvH0eKNEpvUWriqQ2Jr+lznChGT/iUBJ5bhsDDTS8aQGMHtzTFybzdvlFnszSYGTb5t9v+xOTECms/OyLzcF8aLEWiTGBsuyDhWfxnErBTytEGmGKQYpBikGOQOgxCy8uyLQYpBikGKQe4wCE8GYS7/IMUgxSDFID8M8jZ+Aw==\n"
     ]
    },
    {
     "name": "stderr",
     "output_type": "stream",
     "text": [
      "DEBUG:signalr_async.client:Raw message received: WSMessage(type=<WSMsgType.TEXT: 1>, data='{\"C\":\"d-F23263D5-B,0|Df,0|Dg,11|d,98|p,8D6|o,8D5|a,1|Y,D|Dh,0|n,1|W,2|c,26|i,1|X,C|k,3|l,1|r,2|Z,1|s,59F\",\"M\":[{\"H\":\"Streaming\",\"M\":\"feed\",\"A\":[\"CarData.z\",\"7ZS9CsMwDITfRXMSLP/F9hr6Bu3S0iGUQAslQ5ot+N2bOHOH3tIOWmRjdCDdmW+hwzhPj+FF6bLQab5RIq20qZWpOR7ZJxMT2yaG2LLjM1XU9dPavRBvpbv34zg8y4OipCrSpZpSbaluv29HzqUB0llQx+p7IRchuiHDo3p01ICGgZqj4fjR/LVBhUAc+44tKDSoORb9Oc6Bo3rU1RY1J2DmrNLPgHINh+iDMwIoAZQASgD1f4CyOnobgwBKACWAEkD9BFDX/AY=\",\"2023-03-19T16:39:15.4296498Z\"]},{\"H\":\"Streaming\",\"M\":\"feed\",\"A\":[\"Position.z\",\"7ZQ9a8MwEIb/y8120Onu9LV3bqEZ2pQOoWQwJUlJ3Cn4vze2QlBKeiWZtRgZ9HCvXonnAE/bfdd32w2ktwPMu/Vq3y/XX5DAGkutoRbjHF2imJBnjsSQtwto4GHT77rVHtIBcPw898v++/gLj5v5bvnxedzyAqlFiq6BV0hiuIEFJMQwNGA1BKOfkFakQFhDbJAJsQYLBI3GMGFOFkPJ3HEaVLMxhYlx6EvGqXNMnmPlIltQGc5zyJcdWLUDS3Q6T4noFWBGrC+PY9UbJeEcLV7MITWaPc25QNSm/2jAq2MkTsxxUTCkVnD95bCe7eqNiqjZXGaQy9fmbq/NqxXQuHdExsd9ZoJageXMuHhGhqH53yBROIYg1SDVINUg1SA3G0Rm6DmKYDVINUg1SDXIHQYR4mgMV4NUg1SDVIP8Nsj78AM=\",\"2023-03-19T16:39:15.5349004Z\"]}]}', extra='')\n",
      "DEBUG:signalr_async.client:Connection keepalive\n",
      "DEBUG:signalr_async.client:Sending: message_content='{}', is_binary=False\n"
     ]
    },
    {
     "name": "stdout",
     "output_type": "stream",
     "text": [
      "CarData.z 7ZS9CsMwDITfRXMSLP/F9hr6Bu3S0iGUQAslQ5ot+N2bOHOH3tIOWmRjdCDdmW+hwzhPj+FF6bLQab5RIq20qZWpOR7ZJxMT2yaG2LLjM1XU9dPavRBvpbv34zg8y4OipCrSpZpSbaluv29HzqUB0llQx+p7IRchuiHDo3p01ICGgZqj4fjR/LVBhUAc+44tKDSoORb9Oc6Bo3rU1RY1J2DmrNLPgHINh+iDMwIoAZQASgD1f4CyOnobgwBKACWAEkD9BFDX/AY=\n",
      "Position.z 7ZQ9a8MwEIb/y8120Onu9LV3bqEZ2pQOoWQwJUlJ3Cn4vze2QlBKeiWZtRgZ9HCvXonnAE/bfdd32w2ktwPMu/Vq3y/XX5DAGkutoRbjHF2imJBnjsSQtwto4GHT77rVHtIBcPw898v++/gLj5v5bvnxedzyAqlFiq6BV0hiuIEFJMQwNGA1BKOfkFakQFhDbJAJsQYLBI3GMGFOFkPJ3HEaVLMxhYlx6EvGqXNMnmPlIltQGc5zyJcdWLUDS3Q6T4noFWBGrC+PY9UbJeEcLV7MITWaPc25QNSm/2jAq2MkTsxxUTCkVnD95bCe7eqNiqjZXGaQy9fmbq/NqxXQuHdExsd9ZoJageXMuHhGhqH53yBROIYg1SDVINUg1SA3G0Rm6DmKYDVINUg1SDXIHQYR4mgMV4NUg1SDVIP8Nsj78AM=\n"
     ]
    },
    {
     "name": "stderr",
     "output_type": "stream",
     "text": [
      "DEBUG:signalr_async.client:Raw message received: WSMessage(type=<WSMsgType.TEXT: 1>, data='{\"C\":\"d-F23263D5-B,0|Df,0|Dg,11|d,98|p,8D7|o,8D6|a,1|Y,D|Dh,0|n,1|W,2|c,26|i,1|X,C|k,3|l,1|r,2|Z,1|s,59F\",\"M\":[{\"H\":\"Streaming\",\"M\":\"feed\",\"A\":[\"CarData.z\",\"7Zc/C8IwEMW/y81tyeVfk6zFb6CL4lCkoCAdtFvpdzdNd8G32OGWSwh5cPde+EFmOozT6zG8KV1mOk03SqSVNrUyNccj+2RiYtcEHV1U9kwVdf0r356J19Ld+3EcnuVAUVIV6VJNqbZUt+3XZVnKBUhnQR2r34VchOiEDLfq0VYDGgZqjobjR/PXBhUCcWwztqDQoOZY9OU4B7bqUVdb1JyAmZOl3wAVQ3TeswBKACWAEkDtDVC+4Qwo440ASgAlgBJA7Q9QNn/xlAoCKAGUAEoA9RdAXZcP\",\"2023-03-19T16:39:16.4295008Z\"]},{\"H\":\"Streaming\",\"M\":\"feed\",\"A\":[\"Position.z\",\"7ZQ9a8MwEIb/y8120N3pe8/cQjO0KR1CyWBKnBK7k/F/r22FoJT0SjNrMTLo4V69Es8Aj8eu6ZtjC/F1gE1z2Hf97vAJEUgR14prDBu0kUNEs3KoveMtVLBu+1Oz7yAOgPPnqd/1X9MvPLSb0+79Y9ryDLFGDraCF4hG6Qq2EBH9WAFJCAa3ILUxGaIlhLxZEFKYIagkRjOmZMHnzB2nQTGbZr8wFl3OWHGOSnPIXGXzIqPTHHZ5ByR2QMzn8+SIXAEmhFx+HBJvlI1O0cLVHBaj0XnOFSI2/UsDThxjwsJMi4xhsYLbL0fL2W7eqDFiNpsY1Plrs/+vzYkV8Lx3RubHfWG8WAHpxNhwQcax+ksgdqUmgZDTxSDFIMUgxSB3GGSyh/MuFIMUgxSDFIP8NMjb+A0=\",\"2023-03-19T16:39:16.2747879Z\"]}]}', extra='')\n"
     ]
    },
    {
     "name": "stdout",
     "output_type": "stream",
     "text": [
      "CarData.z 7Zc/C8IwEMW/y81tyeVfk6zFb6CL4lCkoCAdtFvpdzdNd8G32OGWSwh5cPde+EFmOozT6zG8KV1mOk03SqSVNrUyNccj+2RiYtcEHV1U9kwVdf0r356J19Ld+3EcnuVAUVIV6VJNqbZUt+3XZVnKBUhnQR2r34VchOiEDLfq0VYDGgZqjobjR/PXBhUCcWwztqDQoOZY9OU4B7bqUVdb1JyAmZOl3wAVQ3TeswBKACWAEkDtDVC+4Qwo440ASgAlgBJA7Q9QNn/xlAoCKAGUAEoA9RdAXZcP\n",
      "Position.z 7ZQ9a8MwEIb/y8120N3pe8/cQjO0KR1CyWBKnBK7k/F/r22FoJT0SjNrMTLo4V69Es8Aj8eu6ZtjC/F1gE1z2Hf97vAJEUgR14prDBu0kUNEs3KoveMtVLBu+1Oz7yAOgPPnqd/1X9MvPLSb0+79Y9ryDLFGDraCF4hG6Qq2EBH9WAFJCAa3ILUxGaIlhLxZEFKYIagkRjOmZMHnzB2nQTGbZr8wFl3OWHGOSnPIXGXzIqPTHHZ5ByR2QMzn8+SIXAEmhFx+HBJvlI1O0cLVHBaj0XnOFSI2/UsDThxjwsJMi4xhsYLbL0fL2W7eqDFiNpsY1Plrs/+vzYkV8Lx3RubHfWG8WAHpxNhwQcax+ksgdqUmgZDTxSDFIMUgxSB3GGSyh/MuFIMUgxSDFIP8NMjb+A0=\n"
     ]
    },
    {
     "name": "stderr",
     "output_type": "stream",
     "text": [
      "DEBUG:signalr_async.client:Raw message received: WSMessage(type=<WSMsgType.TEXT: 1>, data='{\"C\":\"d-F23263D5-B,0|Df,0|Dg,11|d,98|p,8D8|o,8D7|a,1|Y,D|Dh,0|n,1|W,2|c,26|i,1|X,C|k,3|l,1|r,2|Z,1|s,59F\",\"M\":[{\"H\":\"Streaming\",\"M\":\"feed\",\"A\":[\"CarData.z\",\"7VS7CsMwEPuXm5Pg8/m9hv5Bu7R0CCXQQsmQZgv59yTO3KFauniRjTmBTjKa6TRM46v/ULrNdJkelEgrLbWSmuOZXZKY2DXBRSNWrlRR243b9Ey8Q/vshqF/5wdFSVWkM0pGk9Ee9/1YljwA8QzIY/U7kTMR3ZBhqQ6VGtAwUHM0HD+avxaUCMRx7OhBoqDmGPTnWAtKdairHjUnYOZs1O8F5RsxUZzEUlCloEpBlYL6S0HdlxU=\",\"2023-03-19T16:39:17.3493639Z\"]},{\"H\":\"Streaming\",\"M\":\"feed\",\"A\":[\"Position.z\",\"7ZSxasMwEIbf5WY76O6kk6W9cwv10KZ0CCWDKUlK4k7G797YCkEp6ZVk1mJk0Mf9+iW+AZ52h67vdluIbwO03WZ96FebL4hAhrg2XGNoUSKHiLIQtJ6FllDBw7bfd+sDxAFw+jz3q/77+AuP23a/+vg8bnmBWCMHqeAVojO2giVExGasgDQEg5+R2rkMsRpCjZsRMpghaDTGMqZkocmZO06DajbLzcwI+pwRdY5Jc8hdZGtUxqY57PMOSO2AmE/nyRG9AkwI+fw4pN4oO5uihYs5rEaj05wLRG36jwa8OsaFmTkuMobVCq6/HKtnu3qjzqnZJDFo89cmt9fm1Qp42jsh0+M+M41aAdnESDgj41j9b5CAVoKRYpBikGKQYpCbDeIXJlgR5mKQYpBikGKQOwzC3goZXwxSDFIMUgzy2yDv4w8=\",\"2023-03-19T16:39:17.3746207Z\"]}]}', extra='')\n"
     ]
    },
    {
     "name": "stdout",
     "output_type": "stream",
     "text": [
      "CarData.z 7VS7CsMwEPuXm5Pg8/m9hv5Bu7R0CCXQQsmQZgv59yTO3KFauniRjTmBTjKa6TRM46v/ULrNdJkelEgrLbWSmuOZXZKY2DXBRSNWrlRR243b9Ey8Q/vshqF/5wdFSVWkM0pGk9Ee9/1YljwA8QzIY/U7kTMR3ZBhqQ6VGtAwUHM0HD+avxaUCMRx7OhBoqDmGPTnWAtKdairHjUnYOZs1O8F5RsxUZzEUlCloEpBlYL6S0HdlxU=\n",
      "Position.z 7ZSxasMwEIbf5WY76O6kk6W9cwv10KZ0CCWDKUlK4k7G797YCkEp6ZVk1mJk0Mf9+iW+AZ52h67vdluIbwO03WZ96FebL4hAhrg2XGNoUSKHiLIQtJ6FllDBw7bfd+sDxAFw+jz3q/77+AuP23a/+vg8bnmBWCMHqeAVojO2giVExGasgDQEg5+R2rkMsRpCjZsRMpghaDTGMqZkocmZO06DajbLzcwI+pwRdY5Jc8hdZGtUxqY57PMOSO2AmE/nyRG9AkwI+fw4pN4oO5uihYs5rEaj05wLRG36jwa8OsaFmTkuMobVCq6/HKtnu3qjzqnZJDFo89cmt9fm1Qp42jsh0+M+M41aAdnESDgj41j9b5CAVoKRYpBikGKQYpCbDeIXJlgR5mKQYpBikGKQOwzC3goZXwxSDFIMUgzy2yDv4w8=\n"
     ]
    },
    {
     "name": "stderr",
     "output_type": "stream",
     "text": [
      "DEBUG:signalr_async.client:Raw message received: WSMessage(type=<WSMsgType.TEXT: 1>, data='{\"C\":\"d-F23263D5-B,0|Df,0|Dg,11|d,99|p,8D9|o,8D8|a,1|Y,D|Dh,0|n,1|W,2|c,26|i,1|X,C|k,3|l,1|r,2|Z,1|s,59F\",\"M\":[{\"H\":\"Streaming\",\"M\":\"feed\",\"A\":[\"Heartbeat\",{\"Utc\":\"2023-03-19T16:39:20.7657544Z\",\"_kf\":true},\"2023-03-19T16:39:20.056Z\"]},{\"H\":\"Streaming\",\"M\":\"feed\",\"A\":[\"CarData.z\",\"7ZQxC4MwEIX/y80quUtiTFbpP2iXlg5ShBaKQ+sm/vdq3At9Sx2OwEsIeXD3LnwTHYbx9ejflC4TncYbJRIjtjS25HjkOtmYOFTBRWs8n6mgtnstryfiVdp7Nwz9M18YSqYgyWqzuqx+O6/bPOcHkM+BPja/Gzkb0Q4ZLrVGS23QYaDhCDx+dP5iUSMwjq3HABotGo5Df473YKk1mmpAw2mwcBbrN0BFFyUooBRQCigF1P4A1VTWRBH2CigFlAJKAbU/QHkTeVkKKAWUAkoB9RdAXecP\",\"2023-03-19T16:39:18.5091919Z\"]},{\"H\":\"Streaming\",\"M\":\"feed\",\"A\":[\"Position.z\",\"7ZQ9a8MwFEX/y5vtoPehz71zC83QpnQIJYMpTUriTsH/vbYVglLSV5pZi5FBh3d1Jc4RHnaHru92W0gvR1h2H5tDv/74hARkiFvDLcYlusQxoV+4KNYTrqCBu22/7zYHSEfA6fPYr/uv8Rfut8v9+u193PIEqUWOroFnSNZIAytIiGFogDQEo5+R1toCEQ2hYGeEDBYIGo0RxpwshpK54TSoZhMOM+PQl4xT55g8h+xFtqAykuewLzsgtQNiPp2nRPQKMCPky+OQeqNsJUeLF3NYjUanOReI2vQvDXh1jI0zMy4KhtUKrr8c0bNdvVFr1WwuMyjla3P/r82rFfC0d0Kmx31mgloBSWZcPCPD0PxlkLAwLJaMVINUg1SDVIPcYBCKIsHEapBqkGqQapAbDGJHg7DlapBqkGqQapCfBnkdvgE=\",\"2023-03-19T16:39:18.5944353Z\"]}]}', extra='')\n"
     ]
    },
    {
     "name": "stdout",
     "output_type": "stream",
     "text": [
      "Heartbeat {'Utc': '2023-03-19T16:39:20.7657544Z', '_kf': True}\n",
      "CarData.z 7ZQxC4MwEIX/y80quUtiTFbpP2iXlg5ShBaKQ+sm/vdq3At9Sx2OwEsIeXD3LnwTHYbx9ejflC4TncYbJRIjtjS25HjkOtmYOFTBRWs8n6mgtnstryfiVdp7Nwz9M18YSqYgyWqzuqx+O6/bPOcHkM+BPja/Gzkb0Q4ZLrVGS23QYaDhCDx+dP5iUSMwjq3HABotGo5Df473YKk1mmpAw2mwcBbrN0BFFyUooBRQCigF1P4A1VTWRBH2CigFlAJKAbU/QHkTeVkKKAWUAkoB9RdAXecP\n",
      "Position.z 7ZQ9a8MwFEX/y5vtoPehz71zC83QpnQIJYMpTUriTsH/vbYVglLSV5pZi5FBh3d1Jc4RHnaHru92W0gvR1h2H5tDv/74hARkiFvDLcYlusQxoV+4KNYTrqCBu22/7zYHSEfA6fPYr/uv8Rfut8v9+u193PIEqUWOroFnSNZIAytIiGFogDQEo5+R1toCEQ2hYGeEDBYIGo0RxpwshpK54TSoZhMOM+PQl4xT55g8h+xFtqAykuewLzsgtQNiPp2nRPQKMCPky+OQeqNsJUeLF3NYjUanOReI2vQvDXh1jI0zMy4KhtUKrr8c0bNdvVFr1WwuMyjla3P/r82rFfC0d0Kmx31mgloBSWZcPCPD0PxlkLAwLJaMVINUg1SDVIPcYBCKIsHEapBqkGqQapAbDGJHg7DlapBqkGqQapCfBnkdvgE=\n"
     ]
    },
    {
     "name": "stderr",
     "output_type": "stream",
     "text": [
      "DEBUG:signalr_async.client:Raw message received: WSMessage(type=<WSMsgType.TEXT: 1>, data='{\"C\":\"d-F23263D5-B,0|Df,0|Dg,11|d,99|p,8DA|o,8D9|a,1|Y,D|Dh,0|n,1|W,2|c,26|i,1|X,C|k,3|l,1|r,2|Z,1|s,59F\",\"M\":[{\"H\":\"Streaming\",\"M\":\"feed\",\"A\":[\"CarData.z\",\"7ZY/C8IwEMW/y8213OV/sha/gS6Kg4igIB20W+l316azg2+xwy2XEPLg7r3wIyNt++F5v76oHEfaDxcqZNjYDduN5J2EYnOR1EaXxQd3oIa68/NzeySZS3c79/31UQ+YCjdkarW1ulr9sp+XaaoXIJ0DdcK/C6UK0QkFbjWgrSY0DNQcA8eP5m8sKgTiWGaMoNCi5jj05XgPthpQVyNqTsLM+Ui/Ayq3HLJwUj4pn5RPyqf18cmEzDHpB0oBpYBSQK0QUN5ltlH5pHxSPimf/sKn0/QG\",\"2023-03-19T16:39:19.549037Z\"]},{\"H\":\"Streaming\",\"M\":\"feed\",\"A\":[\"Position.z\",\"7ZY9a8MwEIb/y8120H3oc+/cQjO0KR1CyWBKk5K4U/B/r22FoND0SjNrMTLo4U6vzg8+wsPu0PXdbgvp5QjL7mNz6Ncfn5CADHFruMW4RJc4JgwL50WIcQUN3G37fbc5QDoCTo/Hft1/ja9wv13u12/v45YnSC1ydA08Q7JGGlhBQgxDA6QhGP2MtNYWiGgIBTsjZLBA0GiMMObOYiiZG06Dam/CYWYc+pJxah2T65C96C2ojOQ67MsMSM2AmE/nKRE9AswI+fI4pN4oW8mtxYs6rLZGpzoXiJr0Lwl4tYyNMzMuCobVCK5Pjui9Xb1Ra9XeXGZQymlz/4/NqxHwtHdCpuE+M0GNgCQzLp6RYWj+MkhcmDE8j1INUg1SDVINcoNBxkng8fuuBqkGqQapBrnBIJaFItV/kGqQapBqkB8GeR2+AQ==\",\"2023-03-19T16:39:19.5342924Z\"]}]}', extra='')\n"
     ]
    },
    {
     "name": "stdout",
     "output_type": "stream",
     "text": [
      "CarData.z 7ZY/C8IwEMW/y8213OV/sha/gS6Kg4igIB20W+l316azg2+xwy2XEPLg7r3wIyNt++F5v76oHEfaDxcqZNjYDduN5J2EYnOR1EaXxQd3oIa68/NzeySZS3c79/31UQ+YCjdkarW1ulr9sp+XaaoXIJ0DdcK/C6UK0QkFbjWgrSY0DNQcA8eP5m8sKgTiWGaMoNCi5jj05XgPthpQVyNqTsLM+Ui/Ayq3HLJwUj4pn5RPyqf18cmEzDHpB0oBpYBSQK0QUN5ltlH5pHxSPimf/sKn0/QG\n",
      "Position.z 7ZY9a8MwEIb/y8120H3oc+/cQjO0KR1CyWBKk5K4U/B/r22FoND0SjNrMTLo4U6vzg8+wsPu0PXdbgvp5QjL7mNz6Ncfn5CADHFruMW4RJc4JgwL50WIcQUN3G37fbc5QDoCTo/Hft1/ja9wv13u12/v45YnSC1ydA08Q7JGGlhBQgxDA6QhGP2MtNYWiGgIBTsjZLBA0GiMMObOYiiZG06Dam/CYWYc+pJxah2T65C96C2ojOQ67MsMSM2AmE/nKRE9AswI+fI4pN4oW8mtxYs6rLZGpzoXiJr0Lwl4tYyNMzMuCobVCK5Pjui9Xb1Ra9XeXGZQymlz/4/NqxHwtHdCpuE+M0GNgCQzLp6RYWj+MkhcmDE8j1INUg1SDVINcoNBxkng8fuuBqkGqQapBrnBIJaFItV/kGqQapBqkB8GeR2+AQ==\n"
     ]
    },
    {
     "name": "stderr",
     "output_type": "stream",
     "text": [
      "DEBUG:signalr_async.client:Connection keepalive\n",
      "DEBUG:signalr_async.client:Sending: message_content='{}', is_binary=False\n",
      "DEBUG:signalr_async.client:Raw message received: WSMessage(type=<WSMsgType.TEXT: 1>, data='{\"C\":\"d-F23263D5-B,0|Df,0|Dg,11|d,99|p,8DB|o,8DA|a,1|Y,D|Dh,0|n,1|W,2|c,26|i,1|X,C|k,3|l,1|r,2|Z,1|s,59F\",\"M\":[{\"H\":\"Streaming\",\"M\":\"feed\",\"A\":[\"CarData.z\",\"7ZY/C8IwEMW/y8213OVfk6zFb6CL4lBEUJAO2q30u9ums4NvscMtlxDy4O698CMj7fvh9bi9KZ9HOg5XymTY2B3bnaSDhGxTllRHE1Py7kQVtd1rvj2SLKW9d31/e5YDpswVmVJtqa5Uv+6XZZrKBUjnQJ3w70IpQnRCgVsNaKsRDQM1x8Dxo/kbiwqBONYZG1BoUXMc+nK8B1sNqKsNak7EzJmlXwFluOYZUMErn5RPyifl0/b4JDEmJ/qBUkApoBRQGwSUCzExWwWUAkoBpYD6C6Au0wc=\",\"2023-03-19T16:39:20.4689003Z\"]},{\"H\":\"Streaming\",\"M\":\"feed\",\"A\":[\"Position.z\",\"7ZQ9a8MwFEX/y5vtoPehz71zC83QpnQIJYMpSUriTsH/vbEVglLSV5JZi5FBh3d1Jc4Bnrb7ru+2G0hvB5h369W+X66/IAEZ4tZwi3GOLnFMGGcuCrmAC2jgYdPvutUe0gFw/Dz3y/77+AuPm/lu+fF53PICqUWOroFXSNZIAwtIiGFogDQEo5+Q1toCEQ2hYCeEDBYIGo0RxpwshpK54zSoZhMOE+PQl4xT55g8h+xFtqAykuewLzsgtQNiPp2nRPQKMCPky+OQeqNsJUeLF3NYjUanOReI2vQfDXh1jI0Tc1wUDKsVXH85ome7eqPWqtlcZlDK1+Zur82rFfC4d0TGx31mgloBSWZcPCPD0PxvkIhCLK4apBqkGqQa5FaDkJmRFQwUq0GqQapBqkHuMIi1FtlTNUg1SDVINchvg7wPPw==\",\"2023-03-19T16:39:20.5551372Z\"]}]}', extra='')\n"
     ]
    },
    {
     "name": "stdout",
     "output_type": "stream",
     "text": [
      "CarData.z 7ZY/C8IwEMW/y8213OVfk6zFb6CL4lBEUJAO2q30u9ums4NvscMtlxDy4O698CMj7fvh9bi9KZ9HOg5XymTY2B3bnaSDhGxTllRHE1Py7kQVtd1rvj2SLKW9d31/e5YDpswVmVJtqa5Uv+6XZZrKBUjnQJ3w70IpQnRCgVsNaKsRDQM1x8Dxo/kbiwqBONYZG1BoUXMc+nK8B1sNqKsNak7EzJmlXwFluOYZUMErn5RPyifl0/b4JDEmJ/qBUkApoBRQGwSUCzExWwWUAkoBpYD6C6Au0wc=\n",
      "Position.z 7ZQ9a8MwFEX/y5vtoPehz71zC83QpnQIJYMpSUriTsH/vbEVglLSV5JZi5FBh3d1Jc4Bnrb7ru+2G0hvB5h369W+X66/IAEZ4tZwi3GOLnFMGGcuCrmAC2jgYdPvutUe0gFw/Dz3y/77+AuPm/lu+fF53PICqUWOroFXSNZIAwtIiGFogDQEo5+Q1toCEQ2hYCeEDBYIGo0RxpwshpK54zSoZhMOE+PQl4xT55g8h+xFtqAykuewLzsgtQNiPp2nRPQKMCPky+OQeqNsJUeLF3NYjUanOReI2vQfDXh1jI0Tc1wUDKsVXH85ome7eqPWqtlcZlDK1+Zur82rFfC4d0TGx31mgloBSWZcPCPD0PxvkIhCLK4apBqkGqQa5FaDkJmRFQwUq0GqQapBqkHuMIi1FtlTNUg1SDVINchvg7wPPw==\n"
     ]
    },
    {
     "name": "stderr",
     "output_type": "stream",
     "text": [
      "DEBUG:signalr_async.client:Raw message received: WSMessage(type=<WSMsgType.TEXT: 1>, data='{\"C\":\"d-F23263D5-B,0|Df,0|Dg,11|d,99|p,8DC|o,8DB|a,1|Y,D|Dh,0|n,1|W,2|c,26|i,1|X,C|k,3|l,1|r,2|Z,1|s,59F\",\"M\":[{\"H\":\"Streaming\",\"M\":\"feed\",\"A\":[\"CarData.z\",\"7di/DoIwEAbwd7kZzF1b+m8lvoEuGgdiSDQxDMpGeHehzg5+iwy3HKTpl7R35Dcw0X4Yn/f+Rfk80XG8UibDxtZsa0kH8dmmbHgXfYpOzIkqarvnsnsiWUt764ahf5QFpswVmVJtqa7U5vO+Pua5bIByDswJ/x6UEkRvKPBRPXrUiA4DbY6Bx4/O31g0CIzjc8cABi3aHId+OU0DHtWjXQ1ocyLWnCX6HSjZ8QKUcFKgFCgFSoHaHlDGpxDFKlAKlAKlQG0PqMalYFNUoBQoBUqB2h5QYQFKWP9BKVAKlAL1H6Au8xs=\",\"2023-03-19T16:39:21.7497102Z\"]},{\"H\":\"Streaming\",\"M\":\"feed\",\"A\":[\"Position.z\",\"7Zc9a8MwEIb/y8120Ol0+to7t9AMbUqHUDKYkqQk7hT83xtbISg0vZLMtxgb9HCvXokHfICn7b7ru+0G8tsB5t16te+X6y/IYI2l1lCLaY4+U8rWzCKySSEsoIGHTb/rVnvIB8Dx8dwv++/jJzxu5rvlx+dxyQvkFin5Bl4hs3ENLCAjxqEBKyGYwoS0zBXiJMRGnhBrsELQSIwjLMlSrJk7doNiNkdxYjyGmvHiHFPmWL7IFkXGlTkU6g6s2IElOu2nRuQKsCA21Nux4okSuxItXcwhMZo9zblAxKb/aCCIYzhNzPGlYkis4PrNcXK2qyfKLGbzhUFX3zZ/e21BrIDGtSMyXu4zE8UKrCuMT2dkGJr/DZISm2BIDaIGUYOoQW42CM4ssyET1SBqEDWIGuQOgzhiY8ipQdQgahA1yB0G8eRS0J8YFYgKRAXySyDvww8=\",\"2023-03-19T16:39:21.634973Z\"]}]}', extra='')\n"
     ]
    },
    {
     "name": "stdout",
     "output_type": "stream",
     "text": [
      "CarData.z 7di/DoIwEAbwd7kZzF1b+m8lvoEuGgdiSDQxDMpGeHehzg5+iwy3HKTpl7R35Dcw0X4Yn/f+Rfk80XG8UibDxtZsa0kH8dmmbHgXfYpOzIkqarvnsnsiWUt764ahf5QFpswVmVJtqa7U5vO+Pua5bIByDswJ/x6UEkRvKPBRPXrUiA4DbY6Bx4/O31g0CIzjc8cABi3aHId+OU0DHtWjXQ1ocyLWnCX6HSjZ8QKUcFKgFCgFSoHaHlDGpxDFKlAKlAKlQG0PqMalYFNUoBQoBUqB2h5QYQFKWP9BKVAKlAL1H6Au8xs=\n",
      "Position.z 7Zc9a8MwEIb/y8120Ol0+to7t9AMbUqHUDKYkqQk7hT83xtbISg0vZLMtxgb9HCvXokHfICn7b7ru+0G8tsB5t16te+X6y/IYI2l1lCLaY4+U8rWzCKySSEsoIGHTb/rVnvIB8Dx8dwv++/jJzxu5rvlx+dxyQvkFin5Bl4hs3ENLCAjxqEBKyGYwoS0zBXiJMRGnhBrsELQSIwjLMlSrJk7doNiNkdxYjyGmvHiHFPmWL7IFkXGlTkU6g6s2IElOu2nRuQKsCA21Nux4okSuxItXcwhMZo9zblAxKb/aCCIYzhNzPGlYkis4PrNcXK2qyfKLGbzhUFX3zZ/e21BrIDGtSMyXu4zE8UKrCuMT2dkGJr/DZISm2BIDaIGUYOoQW42CM4ssyET1SBqEDWIGuQOgzhiY8ipQdQgahA1yB0G8eRS0J8YFYgKRAXySyDvww8=\n"
     ]
    },
    {
     "name": "stderr",
     "output_type": "stream",
     "text": [
      "DEBUG:signalr_async.client:Raw message received: WSMessage(type=<WSMsgType.TEXT: 1>, data='{}', extra='')\n",
      "DEBUG:signalr_async.client:Raw message received: WSMessage(type=<WSMsgType.TEXT: 1>, data='{\"C\":\"d-F23263D5-B,0|Df,0|Dg,11|d,99|p,8DD|o,8DC|a,1|Y,D|Dh,0|n,1|W,2|c,26|i,1|X,C|k,3|l,1|r,2|Z,1|s,59F\",\"M\":[{\"H\":\"Streaming\",\"M\":\"feed\",\"A\":[\"CarData.z\",\"7Ze9CsMwDITfRXMSLPknsdfQN2iXlg6hBFooGdpsIe/exJk79JZm0CIb4wPpznzgiQ7D+Hr0b0qXiU7jjRKJEVsaW3I8ckg2JuEqmhiawGcqqO1ey+2JeC3tvRuG/pkPDCVTkORqc3W5+m2/LvOcL0A6B+rY/C7kLEQnZLjVgLbaoGGg5ggcP5q/WFQIxLHNWINCi5rj0JfjPdhqQF2tUXMazJxF+h1QUvECKB+UT8on5ZPyaX98si4GMU4BpYBSQCmg9gcob6Jf/ngKKAWUAkoB9RdAXecP\",\"2023-03-19T16:39:22.5095968Z\"]},{\"H\":\"Streaming\",\"M\":\"feed\",\"A\":[\"Position.z\",\"7ZS9asNAEITfZWvJ3O7ef+86gahIHFKI4EIEy8FWKqN3j6Qz5hycDXF9jTjBfczs3DIneNwfu6Hb9xBfT9B0u+1xaHefEIEUca24xtCgjRwi4co7HdiaDVSw7odDtz1CPAHOn6ehHb6mX3jom0P7/jFdeYZYIwdbwQtEo3QFG4iIfqyAJASDW5DamAzREkLeLAgpzBBUEqMZk7Pgc+aOaVD0ptkvjEWXM1bUUUmHzJU3LzI66bDLMyAxA2I+z5MjcgSYEHL5OCS+KBudrIUrHRat0VnnChGT/iUBJ8qYsDDTIWNYjOD25mjZ280XNUb0ZhODOt82+//YnBgBz3dnZF7uC+PFCEgnxoYLMo7VXw1CK8U6TB5Lg5QGKQ1SGuSOBmHU3gZXGqQ0SGmQ0iA/G+Rt/AY=\",\"2023-03-19T16:39:22.3148697Z\"]}]}', extra='')\n"
     ]
    },
    {
     "name": "stdout",
     "output_type": "stream",
     "text": [
      "CarData.z 7Ze9CsMwDITfRXMSLPknsdfQN2iXlg6hBFooGdpsIe/exJk79JZm0CIb4wPpznzgiQ7D+Hr0b0qXiU7jjRKJEVsaW3I8ckg2JuEqmhiawGcqqO1ey+2JeC3tvRuG/pkPDCVTkORqc3W5+m2/LvOcL0A6B+rY/C7kLEQnZLjVgLbaoGGg5ggcP5q/WFQIxLHNWINCi5rj0JfjPdhqQF2tUXMazJxF+h1QUvECKB+UT8on5ZPyaX98si4GMU4BpYBSQCmg9gcob6Jf/ngKKAWUAkoB9RdAXecP\n",
      "Position.z 7ZS9asNAEITfZWvJ3O7ef+86gahIHFKI4EIEy8FWKqN3j6Qz5hycDXF9jTjBfczs3DIneNwfu6Hb9xBfT9B0u+1xaHefEIEUca24xtCgjRwi4co7HdiaDVSw7odDtz1CPAHOn6ehHb6mX3jom0P7/jFdeYZYIwdbwQtEo3QFG4iIfqyAJASDW5DamAzREkLeLAgpzBBUEqMZk7Pgc+aOaVD0ptkvjEWXM1bUUUmHzJU3LzI66bDLMyAxA2I+z5MjcgSYEHL5OCS+KBudrIUrHRat0VnnChGT/iUBJ8qYsDDTIWNYjOD25mjZ280XNUb0ZhODOt82+//YnBgBz3dnZF7uC+PFCEgnxoYLMo7VXw1CK8U6TB5Lg5QGKQ1SGuSOBmHU3gZXGqQ0SGmQ0iA/G+Rt/AY=\n"
     ]
    },
    {
     "name": "stderr",
     "output_type": "stream",
     "text": [
      "DEBUG:signalr_async.client:Raw message received: WSMessage(type=<WSMsgType.TEXT: 1>, data='{\"C\":\"d-F23263D5-B,0|Df,0|Dg,11|d,99|p,8DE|o,8DD|a,1|Y,D|Dh,0|n,1|W,2|c,26|i,1|X,C|k,3|l,1|r,2|Z,1|s,59F\",\"M\":[{\"H\":\"Streaming\",\"M\":\"feed\",\"A\":[\"CarData.z\",\"7da7CsJAEAXQf5laZR77cLcV/0AbxUJEUJAUahfy78a1F7yNKaaZhLAXdmfCYXtad8/79fyguu9p+zxRJWW1OdtcykZStVJVFzmUmER3NKPV8T6u7kneZXU5dt351j4wVZ6Rtmqthlbj5/39GIa2AMoFMCf8e1BaED2hwFtN6FaX6DDQ5ig8fnT+amgQGMfnjBkMGtqcgP45MYJbTWhXM9qcJdacMfoNqMIlWhYHyoFyoByoqQFlCxlvUOw3KAfKgXKgpgiUcQk5JwfKgXKgHKjpAZW0BGMHyoFyoByo/wB1GF4=\",\"2023-03-19T16:39:23.6294306Z\"]},{\"H\":\"Streaming\",\"M\":\"feed\",\"A\":[\"Position.z\",\"7ZQ9a8MwEIb/y8120N3pe8/cQj20KR1MyWBKnJK4U/B/r22FoJT0SjNrMTLo4V69Es8JHvfHbuj2PcTXEzTdbnsc2t0nRCBFXCuuMTRoI4dItHJOe6XsBipY98Oh2x4hngDnz9PQDl/TLzz0zaF9/5i2PEOskYOt4AWiUbqCDUREP1ZAEoLBLUhtTIZoCSFvFoQUZggqidGMKVnwOXPHaVDMptkvjEWXM1aco9IcMlfZvMjoNIdd3gGJHRDz+Tw5IleACSGXH4fEG2WjU7RwNYfFaHSec4WITf/SgBPHmLAw0yJjWKzg9svRcrabN2qMmM0mBnX+2uz/a3NiBTzvnZH5cV8YL1ZAOjE2XJBxrP4yCK8waMc2FIMUgxSDFIPcYRCeDKKsKQYpBikGKQa5wyCWtXXFH8UfxR/FHz/98TZ+Aw==\",\"2023-03-19T16:39:23.63467Z\"]}]}', extra='')\n"
     ]
    },
    {
     "name": "stdout",
     "output_type": "stream",
     "text": [
      "CarData.z 7da7CsJAEAXQf5laZR77cLcV/0AbxUJEUJAUahfy78a1F7yNKaaZhLAXdmfCYXtad8/79fyguu9p+zxRJWW1OdtcykZStVJVFzmUmER3NKPV8T6u7kneZXU5dt351j4wVZ6Rtmqthlbj5/39GIa2AMoFMCf8e1BaED2hwFtN6FaX6DDQ5ig8fnT+amgQGMfnjBkMGtqcgP45MYJbTWhXM9qcJdacMfoNqMIlWhYHyoFyoByoqQFlCxlvUOw3KAfKgXKgpgiUcQk5JwfKgXKgHKjpAZW0BGMHyoFyoByo/wB1GF4=\n",
      "Position.z 7ZQ9a8MwEIb/y8120N3pe8/cQj20KR1MyWBKnJK4U/B/r22FoJT0SjNrMTLo4V69Es8JHvfHbuj2PcTXEzTdbnsc2t0nRCBFXCuuMTRoI4dItHJOe6XsBipY98Oh2x4hngDnz9PQDl/TLzz0zaF9/5i2PEOskYOt4AWiUbqCDUREP1ZAEoLBLUhtTIZoCSFvFoQUZggqidGMKVnwOXPHaVDMptkvjEWXM1aco9IcMlfZvMjoNIdd3gGJHRDz+Tw5IleACSGXH4fEG2WjU7RwNYfFaHSec4WITf/SgBPHmLAw0yJjWKzg9svRcrabN2qMmM0mBnX+2uz/a3NiBTzvnZH5cV8YL1ZAOjE2XJBxrP4yCK8waMc2FIMUgxSDFIPcYRCeDKKsKQYpBikGKQa5wyCWtXXFH8UfxR/FHz/98TZ+Aw==\n"
     ]
    },
    {
     "name": "stderr",
     "output_type": "stream",
     "text": [
      "DEBUG:signalr_async.client:Raw message received: WSMessage(type=<WSMsgType.TEXT: 1>, data='{\"C\":\"d-F23263D5-B,0|Df,0|Dg,11|d,99|p,8DF|o,8DE|a,1|Y,D|Dh,0|n,1|W,2|c,26|i,1|X,C|k,3|l,1|r,2|Z,1|s,59F\",\"M\":[{\"H\":\"Streaming\",\"M\":\"feed\",\"A\":[\"CarData.z\",\"7ZSxDsIwDET/xXNbJXaSNlkr/gAWEEOFKoGEOkC3qv9Om84M3EIHL04U+ST7LnoTHYbx9ejflC4TncYbJWLDUhopbTzakCQmliqaKE20Zyqo7V5L90R2Le29G4b+mR8MJVMQ5yq5ulz9dl+Pec4NkM6BOmt+F9osRDe08KgBHbVBw0DNYTh+NH8WVAjEse1Yg0JBzXHoz/EeHDWgrtaoOQ1mziL9DihX2QVQPiqflE/KJ+XT/vjkQhTjawWUAkoBpYDaH6ACR25Y+aR8Uj4pn/7Cp+v8AQ==\",\"2023-03-19T16:39:24.629282Z\"]},{\"H\":\"Streaming\",\"M\":\"feed\",\"A\":[\"Position.z\",\"7ZixasMwEIbf5WY76HQnydLeuYVmaFM6hJLBlDglcafgd69thaDQ9Eoy32Js0Mf9+iW+wUd42h3avt11kN6OsGy3m0O/3n5BAmss1YZqjEv0iWKytPCRvTdxBRU8dP2+3RwgHQGnx3O/7r/HT3jslvv1x+e45AVSjRR9Ba+QnOEKVpAQm6ECKyEYw4zUzhUIS4ht3IxYgwWCRmKYMCeLTcncsRsUszE1M+MxlIwX55g8x7qLbI3IcJ5DoezAih1YotN+SkSuADNiQ7kdK54oOc7R4sUcEqPZ05wLRGz6jwaCOMbFmRlfCobECq7fHJazXT1R58RsPjPI5W3zt9cWxApoWjsh0+U+M41YgeXM+HhGhqH63yCR2FtmNYgaRA2iBrnZILxAZBcDqkHUIGoQNcgdBuHRIA6dGkQNogZRg9xhEB/ZmUb/g6hB1CBqkF8GeR9+AA==\",\"2023-03-19T16:39:24.6945089Z\"]}]}', extra='')\n"
     ]
    },
    {
     "name": "stdout",
     "output_type": "stream",
     "text": [
      "CarData.z 7ZSxDsIwDET/xXNbJXaSNlkr/gAWEEOFKoGEOkC3qv9Om84M3EIHL04U+ST7LnoTHYbx9ejflC4TncYbJWLDUhopbTzakCQmliqaKE20Zyqo7V5L90R2Le29G4b+mR8MJVMQ5yq5ulz9dl+Pec4NkM6BOmt+F9osRDe08KgBHbVBw0DNYTh+NH8WVAjEse1Yg0JBzXHoz/EeHDWgrtaoOQ1mziL9DihX2QVQPiqflE/KJ+XT/vjkQhTjawWUAkoBpYDaH6ACR25Y+aR8Uj4pn/7Cp+v8AQ==\n",
      "Position.z 7ZixasMwEIbf5WY76HQnydLeuYVmaFM6hJLBlDglcafgd69thaDQ9Eoy32Js0Mf9+iW+wUd42h3avt11kN6OsGy3m0O/3n5BAmss1YZqjEv0iWKytPCRvTdxBRU8dP2+3RwgHQGnx3O/7r/HT3jslvv1x+e45AVSjRR9Ba+QnOEKVpAQm6ECKyEYw4zUzhUIS4ht3IxYgwWCRmKYMCeLTcncsRsUszE1M+MxlIwX55g8x7qLbI3IcJ5DoezAih1YotN+SkSuADNiQ7kdK54oOc7R4sUcEqPZ05wLRGz6jwaCOMbFmRlfCobECq7fHJazXT1R58RsPjPI5W3zt9cWxApoWjsh0+U+M41YgeXM+HhGhqH63yCR2FtmNYgaRA2iBrnZILxAZBcDqkHUIGoQNcgdBuHRIA6dGkQNogZRg9xhEB/ZmUb/g6hB1CBqkF8GeR9+AA==\n"
     ]
    },
    {
     "name": "stderr",
     "output_type": "stream",
     "text": [
      "DEBUG:signalr_async.client:Connection keepalive\n",
      "DEBUG:signalr_async.client:Sending: message_content='{}', is_binary=False\n",
      "DEBUG:signalr_async.client:Raw message received: WSMessage(type=<WSMsgType.TEXT: 1>, data='{\"C\":\"d-F23263D5-B,0|Df,0|Dg,11|d,99|p,8E0|o,8DF|a,1|Y,D|Dh,0|n,1|W,2|c,26|i,1|X,C|k,3|l,1|r,2|Z,1|s,59F\",\"M\":[{\"H\":\"Streaming\",\"M\":\"feed\",\"A\":[\"CarData.z\",\"7de/asMwEAbwd7k5CfdHkn1aQ9+gWVIymBBooXhIsxm/exxlzpBvqYdbzsboA+nO/LAn+hhv15/LH9WviQ63M1VSVtuybcU/pVTzqmnn7JpYjrSh/XBdVk8kj7L/Hsbx8tseMFXekLZqraZW8/P+cZnntgDKJTAn/H5QWhA9ocBbLehWe3QYaHMUHj86fzU0CIzjecYODBranIS+OTmDWy1oVzu0OT3WnCX6Gqi84+Iq2QOoACqACqDWB5SxS88lgAqgAqgAan1ApeKSu/jFC6ACqABqhUAVdTGLL6gAKoAKoP4HqNN8Bw==\",\"2023-03-19T16:39:25.6291336Z\"]},{\"H\":\"Streaming\",\"M\":\"feed\",\"A\":[\"Position.z\",\"7ZS7asNAEEX/ZWrJaB777F0nEBeJQwoTXIhgOdhKZfTvkbTGrIMzIa63ERLsYe7eXZ0TPO6Pbd/uO4ivJ1i1u+2x3+w+IQI1xHXDNYYV2sghkiw8i3hn11DBsusP7fYI8QQ4PZ76Tf81fsJDtzps3j/GJc8Qa+RgK3iBaBqpYA0R0Q8VkIZgcDNSG5MhoiHkzYxQgxmCjcYIY0oWfM7csRtUswn7mbHocsaqc5o0h8xVNq8ykuawyzsgtQNiPu8nR/QKMCHk8u2QeqJsJEULV3NYjUbnOVeI2vQvDTh1jAkzM75kDKsV3L45ome7eaLGqNlsYlDy22b/X5tTK+Bp7YRMl/vCeLUCksTYcEGGofrLIGZBQQSdKwYpBikGKQa5wyASxt/BcTFIMUgxSDHIHQZxRlicLwYpBikGKQb5aZC34Rs=\",\"2023-03-19T16:39:25.7543478Z\"]}]}', extra='')\n"
     ]
    },
    {
     "name": "stdout",
     "output_type": "stream",
     "text": [
      "CarData.z 7de/asMwEAbwd7k5CfdHkn1aQ9+gWVIymBBooXhIsxm/exxlzpBvqYdbzsboA+nO/LAn+hhv15/LH9WviQ63M1VSVtuybcU/pVTzqmnn7JpYjrSh/XBdVk8kj7L/Hsbx8tseMFXekLZqraZW8/P+cZnntgDKJTAn/H5QWhA9ocBbLehWe3QYaHMUHj86fzU0CIzjecYODBranIS+OTmDWy1oVzu0OT3WnCX6Gqi84+Iq2QOoACqACqDWB5SxS88lgAqgAqgAan1ApeKSu/jFC6ACqABqhUAVdTGLL6gAKoAKoP4HqNN8Bw==\n",
      "Position.z 7ZS7asNAEEX/ZWrJaB777F0nEBeJQwoTXIhgOdhKZfTvkbTGrIMzIa63ERLsYe7eXZ0TPO6Pbd/uO4ivJ1i1u+2x3+w+IQI1xHXDNYYV2sghkiw8i3hn11DBsusP7fYI8QQ4PZ76Tf81fsJDtzps3j/GJc8Qa+RgK3iBaBqpYA0R0Q8VkIZgcDNSG5MhoiHkzYxQgxmCjcYIY0oWfM7csRtUswn7mbHocsaqc5o0h8xVNq8ykuawyzsgtQNiPu8nR/QKMCHk8u2QeqJsJEULV3NYjUbnOVeI2vQvDTh1jAkzM75kDKsV3L45ome7eaLGqNlsYlDy22b/X5tTK+Bp7YRMl/vCeLUCksTYcEGGofrLIGZBQQSdKwYpBikGKQa5wyASxt/BcTFIMUgxSDHIHQZxRlicLwYpBikGKQb5aZC34Rs=\n"
     ]
    },
    {
     "name": "stderr",
     "output_type": "stream",
     "text": [
      "DEBUG:signalr_async.client:Raw message received: WSMessage(type=<WSMsgType.TEXT: 1>, data='{\"C\":\"d-F23263D5-B,0|Df,0|Dg,11|d,99|p,8E1|o,8E0|a,1|Y,D|Dh,0|n,1|W,2|c,26|i,1|X,C|k,3|l,1|r,2|Z,1|s,59F\",\"M\":[{\"H\":\"Streaming\",\"M\":\"feed\",\"A\":[\"CarData.z\",\"7dS/DoJADAbwd+ks5K73h+utxDfQReNADIkmhkHZCO8unLOD3yJDl0LIfUmvJb+J9sP4vPcvyueJjuOVMrFhVxlXWTnYmJ1kDrV4MSmeaEdt91wOT2TX0t66Yegf5YOhbHbEpbpSfanh874+5rkcgHIezFnze9CWIHpDC7ca0VYTugx0OAyvH90/OzQIrONzxwYMOnQ4Hv1zQgBbjehUG3Q4CRvOEv3uU6zt4lNQn9Qn9Ul92qBPzohx7BUoBUqBUqC2B1TwSSQmBUqBUqAUqO0BlThJCKxAKVAKlAL1F6Au8xs=\",\"2023-03-19T16:39:26.8289552Z\"]},{\"H\":\"Streaming\",\"M\":\"feed\",\"A\":[\"Position.z\",\"7ZS7asNAEEX/ZWrJ7Mzsu3edQFwkDilMcCGC5WArldG/R9IasyLOhKjeRkiwh7l7NZwLPB7PTdccW4ivF9g0h/252x0+IQIp4lpxjWGDNnKIZFYeNbN3W6hg3XanZn+GeAEcH0/drvsaPuGh3Zx27x/DkWeINXKwFbxANEpXsIWI6PsKSEIwuAmpjckQLSHkzYSQwgxBJTGaMSULPmcW3AbFbJr9xFh0OWPFOSrNITPL5kVGpzns8g5I7ICYr/fJEbkCTAi5/Dok/lE2OkULszksRqPrnBkiNv1LA04cY8LEDC8Zw2IF9zdHy9nu/lFjxGw2MajzbbP/r82JFfB4dkTG5b4xXqyAdGJsuCF9X/1lELtC1BQYi0GKQYpBikEWGGTYBDLWFoMUgxSDFIMsMIhnjZ6LQYpBikGKQX4Y5K3/Bg==\",\"2023-03-19T16:39:26.8341836Z\"]}]}', extra='')\n"
     ]
    },
    {
     "name": "stdout",
     "output_type": "stream",
     "text": [
      "CarData.z 7dS/DoJADAbwd+ks5K73h+utxDfQReNADIkmhkHZCO8unLOD3yJDl0LIfUmvJb+J9sP4vPcvyueJjuOVMrFhVxlXWTnYmJ1kDrV4MSmeaEdt91wOT2TX0t66Yegf5YOhbHbEpbpSfanh874+5rkcgHIezFnze9CWIHpDC7ca0VYTugx0OAyvH90/OzQIrONzxwYMOnQ4Hv1zQgBbjehUG3Q4CRvOEv3uU6zt4lNQn9Qn9Ul92qBPzohx7BUoBUqBUqC2B1TwSSQmBUqBUqAUqO0BlThJCKxAKVAKlAL1F6Au8xs=\n",
      "Position.z 7ZS7asNAEEX/ZWrJ7Mzsu3edQFwkDilMcCGC5WArldG/R9IasyLOhKjeRkiwh7l7NZwLPB7PTdccW4ivF9g0h/252x0+IQIp4lpxjWGDNnKIZFYeNbN3W6hg3XanZn+GeAEcH0/drvsaPuGh3Zx27x/DkWeINXKwFbxANEpXsIWI6PsKSEIwuAmpjckQLSHkzYSQwgxBJTGaMSULPmcW3AbFbJr9xFh0OWPFOSrNITPL5kVGpzns8g5I7ICYr/fJEbkCTAi5/Dok/lE2OkULszksRqPrnBkiNv1LA04cY8LEDC8Zw2IF9zdHy9nu/lFjxGw2MajzbbP/r82JFfB4dkTG5b4xXqyAdGJsuCF9X/1lELtC1BQYi0GKQYpBikEWGGTYBDLWFoMUgxSDFIMsMIhnjZ6LQYpBikGKQX4Y5K3/Bg==\n"
     ]
    },
    {
     "name": "stderr",
     "output_type": "stream",
     "text": [
      "DEBUG:signalr_async.client:Raw message received: WSMessage(type=<WSMsgType.TEXT: 1>, data='{\"C\":\"d-F23263D5-B,0|Df,0|Dg,11|d,99|p,8E2|o,8E1|a,1|Y,D|Dh,0|n,1|W,2|c,26|i,1|X,C|k,3|l,1|r,2|Z,1|s,59F\",\"M\":[{\"H\":\"Streaming\",\"M\":\"feed\",\"A\":[\"CarData.z\",\"7ZYxC4MwEIX/y80qSc7ES1bpP2iXlg5ShBaKg3UT/3s1zh36lna45RJCHty9Fz4y02GYxkf/onSZ6TTdKJEzjkvDpY1HGxLH5EIVRSKbeKaC2m5cb89kt9Leu2Hon/nAUDIFuVw51zpXv++3ZVnyBUhXgzprvhfaLEQntHCrAW1V0DBQcxwcP5q/Y1QIxLHP2IBCRs2p0ZfjPdhqQF1tUHMEM2eVfgZUU7GINNYroBRQCigF1P8BKoQoLuoPSgGlgFJA/QZQ1+UN\",\"2023-03-19T16:39:27.6698299Z\"]},{\"H\":\"Streaming\",\"M\":\"feed\",\"A\":[\"Position.z\",\"7ZRPS8NAEMW/y5wT2ZnZ2X93zwr2oBUPRXoI0lbaeCr57ibZUrZSR+x5LyGB/fHevJ28IzzuDl3f7baQXo+w6DbrQ7/afEICMsSt4RbjAl3imMjfGRQUh0to4H7b77v1AdIRcHo89av+a/yEh+1iv3r/GI88Q2qRo2vgBZIY28ASEmIYGiANwehnpBUpEKshFGRGyGCBoNEYy5idxVAyN0yDqjfLYWYc+pJxqo7JOiQX3oLK2KzDvsyA1AyI+TRPiegRYEbIl+OQeqMsNluLFzqsWqOTzgWiJv1LAl6VkTgz40vBsBrB9c2xurerNyqienOZQVtum/t/bF6NgKezEzIt95kJagRkM+PiGRmG5u8GwSjjzxpqg9QGqQ1SG+SGBrEoJgrXBqkNUhukNsjPBnkbvgE=\",\"2023-03-19T16:39:27.4150953Z\"]}]}', extra='')\n"
     ]
    },
    {
     "name": "stdout",
     "output_type": "stream",
     "text": [
      "CarData.z 7ZYxC4MwEIX/y80qSc7ES1bpP2iXlg5ShBaKg3UT/3s1zh36lna45RJCHty9Fz4y02GYxkf/onSZ6TTdKJEzjkvDpY1HGxLH5EIVRSKbeKaC2m5cb89kt9Leu2Hon/nAUDIFuVw51zpXv++3ZVnyBUhXgzprvhfaLEQntHCrAW1V0DBQcxwcP5q/Y1QIxLHP2IBCRs2p0ZfjPdhqQF1tUHMEM2eVfgZUU7GINNYroBRQCigF1P8BKoQoLuoPSgGlgFJA/QZQ1+UN\n",
      "Position.z 7ZRPS8NAEMW/y5wT2ZnZ2X93zwr2oBUPRXoI0lbaeCr57ibZUrZSR+x5LyGB/fHevJ28IzzuDl3f7baQXo+w6DbrQ7/afEICMsSt4RbjAl3imMjfGRQUh0to4H7b77v1AdIRcHo89av+a/yEh+1iv3r/GI88Q2qRo2vgBZIY28ASEmIYGiANwehnpBUpEKshFGRGyGCBoNEYy5idxVAyN0yDqjfLYWYc+pJxqo7JOiQX3oLK2KzDvsyA1AyI+TRPiegRYEbIl+OQeqMsNluLFzqsWqOTzgWiJv1LAl6VkTgz40vBsBrB9c2xurerNyqienOZQVtum/t/bF6NgKezEzIt95kJagRkM+PiGRmG5u8GwSjjzxpqg9QGqQ1SG+SGBrEoJgrXBqkNUhukNsjPBnkbvgE=\n"
     ]
    },
    {
     "name": "stderr",
     "output_type": "stream",
     "text": [
      "DEBUG:signalr_async.client:Raw message received: WSMessage(type=<WSMsgType.TEXT: 1>, data='{\"C\":\"d-F23263D5-B,0|Df,0|Dg,11|d,99|p,8E2|o,8E2|a,1|Y,D|Dh,0|n,1|W,2|c,26|i,1|X,C|k,3|l,1|r,2|Z,1|s,59F\",\"M\":[{\"H\":\"Streaming\",\"M\":\"feed\",\"A\":[\"Position.z\",\"7ZY9a8MwEIb/y8120On0ddo7t9AMbUqHUDKYEqck7hT83+uPEJSSXknmW4wNerhXr8SDj/C0OzRds2shvx1h2Ww3h269/YIM1liqDdXISwyZONu4COyNt2kFFTy03b7ZHCAfAcfHc7fuvodPeGyX+/XH57DkBXKNxKGCV8jeuApWkBFTX4GVEOQ4IbX3BeIkxCY/IdZggaCRGEc4J+NUMnfsBsVsjtLEBIwlE8Q5Zp5j/UW2JDJunkOx7MCKHVii035KRK4AZ8TGcjtWPFHybo7GF3NIjGZPcy4Qsek/GojiGM8TM7wUDIkVXL85Ts529US9F7OFmUFX3rZwe21RrIDGtSMyXu4zk8QKrJuZwGek76v/DcLkDQZSg6hB1CBqkJsNkhbIjmPQfxA1iBpEDXKPQWgwiAtODaIGUYOoQe4wSCDHhlkNogZRg6hBfhvkvf8B\",\"2023-03-19T16:39:28.6349099Z\"]}]}', extra='')\n",
      "DEBUG:signalr_async.client:Raw message received: WSMessage(type=<WSMsgType.TEXT: 1>, data='{\"C\":\"d-F23263D5-B,0|Df,0|Dg,11|d,99|p,8E3|o,8E2|a,1|Y,D|Dh,0|n,1|W,2|c,26|i,1|X,C|k,3|l,1|r,2|Z,1|s,59F\",\"M\":[{\"H\":\"Streaming\",\"M\":\"feed\",\"A\":[\"CarData.z\",\"7ZY/C8IwEMW/y82tJJf/WYvfQBfFoUhBQTrUbqXfvW26C75Fh1suIeTB3XvhRyY69uPw7N6UrxOdxztlYsWmVqbW6aR9NilzPChOIbhwoYqadlhvT6S30jzavu9e5UBRVhVxqaZUW6rb99syz+UCpLOgTqvvhboI0Qk13KpHW41oGKg5DMeP5s8GFQJx7DMGUGhQcyz6cpwDW/WoqwE1J2LmrNJPgLIroLSPAigBlABKAPV/gAoqeflBCaAEUAKoXwHqNi8=\",\"2023-03-19T16:39:28.7096757Z\"]}]}', extra='')\n"
     ]
    },
    {
     "name": "stdout",
     "output_type": "stream",
     "text": [
      "Position.z 7ZY9a8MwEIb/y8120On0ddo7t9AMbUqHUDKYEqck7hT83+uPEJSSXknmW4wNerhXr8SDj/C0OzRds2shvx1h2Ww3h269/YIM1liqDdXISwyZONu4COyNt2kFFTy03b7ZHCAfAcfHc7fuvodPeGyX+/XH57DkBXKNxKGCV8jeuApWkBFTX4GVEOQ4IbX3BeIkxCY/IdZggaCRGEc4J+NUMnfsBsVsjtLEBIwlE8Q5Zp5j/UW2JDJunkOx7MCKHVii035KRK4AZ8TGcjtWPFHybo7GF3NIjGZPcy4Qsek/GojiGM8TM7wUDIkVXL85Ts529US9F7OFmUFX3rZwe21RrIDGtSMyXu4zk8QKrJuZwGek76v/DcLkDQZSg6hB1CBqkJsNkhbIjmPQfxA1iBpEDXKPQWgwiAtODaIGUYOoQe4wSCDHhlkNogZRg6hBfhvkvf8B\n",
      "CarData.z 7ZY/C8IwEMW/y82tJJf/WYvfQBfFoUhBQTrUbqXfvW26C75Fh1suIeTB3XvhRyY69uPw7N6UrxOdxztlYsWmVqbW6aR9NilzPChOIbhwoYqadlhvT6S30jzavu9e5UBRVhVxqaZUW6rb99syz+UCpLOgTqvvhboI0Qk13KpHW41oGKg5DMeP5s8GFQJx7DMGUGhQcyz6cpwDW/WoqwE1J2LmrNJPgLIroLSPAigBlABKAPV/gAoqeflBCaAEUAKoXwHqNi8=\n"
     ]
    },
    {
     "name": "stderr",
     "output_type": "stream",
     "text": [
      "DEBUG:signalr_async.client:Raw message received: WSMessage(type=<WSMsgType.TEXT: 1>, data='{\"C\":\"d-F23263D5-B,0|Df,0|Dg,11|d,99|p,8E4|o,8E3|a,1|Y,D|Dh,0|n,1|W,2|c,26|i,1|X,C|k,3|l,1|r,2|Z,1|s,59F\",\"M\":[{\"H\":\"Streaming\",\"M\":\"feed\",\"A\":[\"CarData.z\",\"7daxCsIwEAbgd7m5Si7Jpbms4hvoojgUERSkg3YrfXdrnB38Fzvcci0hPyR35aMjbfvhcbs8qRxH2g9nKuSdDysXVqw7TiVo8XmtTlMUPVBDm+4x7x6J32Vz7fr+cq8LjopryNcaao21yuf9/ZimugHKRTDH7vcg1yB6Q4aPmtCjZnQYaHM8PH50/j6gQWAcnzu2YDCgzYnolyMCHjWhXW3R5mSsOXP0O1C65hkolmxAGVAGlAG1PKCCU8nJG1AGlAFlQC0PKIkq4loDyoAyoAyo5QHVZhUW+4MyoAwoA+o/QJ2mFw==\",\"2023-03-19T16:39:29.7895152Z\"]},{\"H\":\"Streaming\",\"M\":\"feed\",\"A\":[\"Position.z\",\"7ZY9a8MwFEX/y5vtoPehzz1zC83QpnQIJYMpSUriTsH/vbEVgkLTV5pZi7FBh3d1JQ4+wuPu0PXdbgvp9QiLbrM+9KvNJyQgQ9wabjEu0CWOicIsogTneQkNzLf9vlsfIB0Bx8dTv+q/Tp/wsF3sV+8fpyXPkFrk6Bp4gWSNNLCEhBiGBkhDMPoJaa0tENEQCnZCyGCBoNEYYczJYiiZO3aDajbhMDEOfck4dY7Jc8heZQsqI3kO+7IDUjsg5vN+SkSvADNCvtwOqSfKVnK0eDWH1Wh0nnOFqE3/0oBXx9g4MaeXgmG1gts3R/RsN0/UWjWbywxKedvc/2vzagU8rh2R8XJfmKBWQJIZFy/IMDR/GSTO0EpgE6pBqkGqQapB7jCIoPiI9R+kGqQapBrkHoM4L95i/QepBqkGqQb5YZC34Rs=\",\"2023-03-19T16:39:29.6747518Z\"]}]}', extra='')\n"
     ]
    },
    {
     "name": "stdout",
     "output_type": "stream",
     "text": [
      "CarData.z 7daxCsIwEAbgd7m5Si7Jpbms4hvoojgUERSkg3YrfXdrnB38Fzvcci0hPyR35aMjbfvhcbs8qRxH2g9nKuSdDysXVqw7TiVo8XmtTlMUPVBDm+4x7x6J32Vz7fr+cq8LjopryNcaao21yuf9/ZimugHKRTDH7vcg1yB6Q4aPmtCjZnQYaHM8PH50/j6gQWAcnzu2YDCgzYnolyMCHjWhXW3R5mSsOXP0O1C65hkolmxAGVAGlAG1PKCCU8nJG1AGlAFlQC0PKIkq4loDyoAyoAyo5QHVZhUW+4MyoAwoA+o/QJ2mFw==\n",
      "Position.z 7ZY9a8MwFEX/y5vtoPehzz1zC83QpnQIJYMpSUriTsH/vbEVgkLTV5pZi7FBh3d1JQ4+wuPu0PXdbgvp9QiLbrM+9KvNJyQgQ9wabjEu0CWOicIsogTneQkNzLf9vlsfIB0Bx8dTv+q/Tp/wsF3sV+8fpyXPkFrk6Bp4gWSNNLCEhBiGBkhDMPoJaa0tENEQCnZCyGCBoNEYYczJYiiZO3aDajbhMDEOfck4dY7Jc8heZQsqI3kO+7IDUjsg5vN+SkSvADNCvtwOqSfKVnK0eDWH1Wh0nnOFqE3/0oBXx9g4MaeXgmG1gts3R/RsN0/UWjWbywxKedvc/2vzagU8rh2R8XJfmKBWQJIZFy/IMDR/GSTO0EpgE6pBqkGqQapB7jCIoPiI9R+kGqQapBrkHoM4L95i/QepBqkGqQb5YZC34Rs=\n"
     ]
    },
    {
     "name": "stderr",
     "output_type": "stream",
     "text": [
      "DEBUG:signalr_async.client:Connection keepalive\n",
      "DEBUG:signalr_async.client:Sending: message_content='{}', is_binary=False\n",
      "DEBUG:signalr_async.client:Raw message received: WSMessage(type=<WSMsgType.TEXT: 1>, data='{\"C\":\"d-F23263D5-B,0|Df,0|Dg,11|d,99|p,8E5|o,8E4|a,1|Y,D|Dh,0|n,1|W,2|c,26|i,1|X,C|k,3|l,1|r,2|Z,1|s,59F\",\"M\":[{\"H\":\"Streaming\",\"M\":\"feed\",\"A\":[\"CarData.z\",\"7ZQ/C8IwEMW/y82t5HL502QtfgNdFIciBQXpoN1Kv7ttugu+RYdbLiHcg7v3wm+i/TA+7/2L8nmi43ilTNZYqY3UnA4csqQsZmdtci6dqKK2ey7NE/Fa2ls3DP2jPBjKpiJbqpTqSvXbfT3muTRAOgfq2Hwv5CJEN2R41ICO2qBhoOZYOH40fyuoEIhj2zGCQkHNcejP8R4cNaCuRtScBjNnkX7ikwvJsXgFlAJKAaWA+j9ARZMkNson5ZPySfn0Ez5d5jc=\",\"2023-03-19T16:39:30.709378Z\"]},{\"H\":\"Streaming\",\"M\":\"feed\",\"A\":[\"Position.z\",\"7ZQ9a8MwFEX/y5vtoPehzz1zC83QpnQIJYMpSUriTsH/vbEVglLSV5pZi5FBh3d1Jc4RHneHru92W0ivR1h0m/WhX20+IQEZ4tZwi3GBLnFMFGcRxaPlJTQw3/b7bn2AdAQcP0/9qv86/cLDdrFfvX+ctjxDapGja+AFkjXSwBISYhgaIA3B6CektbZAREMo2AkhgwWCRmOEMSeLoWTuOA2q2YTDxDj0JePUOSbPIXuVLaiM5Dnsyw5I7YCYz+cpEb0CzAj58jik3ihbydHi1RxWo9F5zhWiNv1LA14dY+PEnBYFw2oFt1+O6Nlu3qi1ajaXGZTytbn/1+bVCnjcOyLj474wQa2AJDMuXpBhaP4wCJsZoTgXfTVINUg1SDXIHQaxURxSFUgVSBVIFcgdAglWrCepBqkGqQapBvlpkLfhGw==\",\"2023-03-19T16:39:30.8545724Z\"]}]}', extra='')\n"
     ]
    },
    {
     "name": "stdout",
     "output_type": "stream",
     "text": [
      "CarData.z 7ZQ/C8IwEMW/y82t5HL502QtfgNdFIciBQXpoN1Kv7ttugu+RYdbLiHcg7v3wm+i/TA+7/2L8nmi43ilTNZYqY3UnA4csqQsZmdtci6dqKK2ey7NE/Fa2ls3DP2jPBjKpiJbqpTqSvXbfT3muTRAOgfq2Hwv5CJEN2R41ICO2qBhoOZYOH40fyuoEIhj2zGCQkHNcejP8R4cNaCuRtScBjNnkX7ikwvJsXgFlAJKAaWA+j9ARZMkNson5ZPySfn0Ez5d5jc=\n",
      "Position.z 7ZQ9a8MwFEX/y5vtoPehzz1zC83QpnQIJYMpSUriTsH/vbEVglLSV5pZi5FBh3d1Jc4RHneHru92W0ivR1h0m/WhX20+IQEZ4tZwi3GBLnFMFGcRxaPlJTQw3/b7bn2AdAQcP0/9qv86/cLDdrFfvX+ctjxDapGja+AFkjXSwBISYhgaIA3B6CektbZAREMo2AkhgwWCRmOEMSeLoWTuOA2q2YTDxDj0JePUOSbPIXuVLaiM5Dnsyw5I7YCYz+cpEb0CzAj58jik3ihbydHi1RxWo9F5zhWiNv1LA14dY+PEnBYFw2oFt1+O6Nlu3qi1ajaXGZTytbn/1+bVCnjcOyLj474wQa2AJDMuXpBhaP4wCJsZoTgXfTVINUg1SDXIHQaxURxSFUgVSBVIFcgdAglWrCepBqkGqQapBvlpkLfhGw==\n"
     ]
    },
    {
     "name": "stderr",
     "output_type": "stream",
     "text": [
      "DEBUG:signalr_async.client:Raw message received: WSMessage(type=<WSMsgType.TEXT: 1>, data='{\"C\":\"d-F23263D5-B,0|Df,0|Dg,11|d,99|p,8E6|o,8E5|a,1|Y,D|Dh,0|n,1|W,2|c,26|i,1|X,C|k,3|l,1|r,2|Z,1|s,59F\",\"M\":[{\"H\":\"Streaming\",\"M\":\"feed\",\"A\":[\"CarData.z\",\"7ZSxDsIwDET/xXNbxXHSJlkr/gAWEEOFKoGEOkC3qv9Om84M3EIHL04U+ST7LnoTHYbx9ejflC4TncYbJbLGSmmk5HjkOklMYqroojgOZyqo7V5L90S8lvbeDUP/zA+GkinI5iq5ulz9dl+Pec4NkM6BOja/CzkL0Q0ZHrVGRw1oGKg5Fo4fzd8KKgTi2HZsQKGg5jj053gPjlqjrjaoOQEzZ5F+BxRXHKKYmhVQCigFlAJqf4DyLlovVgGlgFJAKaD2B6gmRMtNVEApoBRQCqi/AOo6fwA=\",\"2023-03-19T16:39:31.7892179Z\"]},{\"H\":\"Streaming\",\"M\":\"feed\",\"A\":[\"Position.z\",\"7ZS9asMwFEbf5c520f2TJe2dW2iGNqVDKBlMiVMSdwp+98Z2CApNb2lmLUYGHe6nT+Ic4HG7b/t220F6PcCi3az3/WrzCQnIEdeOa4wL9IljYrxzKCoBl1DBfdfv2vUe0gFw/Dz1q/7r+AsP3WK3ev84bnmGVCNHX8ELJHVSwRISYhgqIAvB2ExIrZohYiEUdELIYYagsxhhnJPFkDM3nAbNbMJhYjw2OePNOW6eQ3qRLZiMzHO4yTsgswNiPp0nR+wKcEaoyY9D5o2yyhwtXsxhMxqd5lwgZtO/NNCYYzROzHGRMWxWcP3liJ3t6o2qmtn8zKDkr83/v7bGrIDHvSMyPu4zE8wKSGbGxzMyDNXfBiEVRfTFIMUgxSDFIDcYRKOId1IMUgxSDFIMcoNBgooQFoMUgxSDFIP8MMjb8A0=\",\"2023-03-19T16:39:31.8544214Z\"]}]}', extra='')\n"
     ]
    },
    {
     "name": "stdout",
     "output_type": "stream",
     "text": [
      "CarData.z 7ZSxDsIwDET/xXNbxXHSJlkr/gAWEEOFKoGEOkC3qv9Om84M3EIHL04U+ST7LnoTHYbx9ejflC4TncYbJbLGSmmk5HjkOklMYqroojgOZyqo7V5L90S8lvbeDUP/zA+GkinI5iq5ulz9dl+Pec4NkM6BOja/CzkL0Q0ZHrVGRw1oGKg5Fo4fzd8KKgTi2HZsQKGg5jj053gPjlqjrjaoOQEzZ5F+BxRXHKKYmhVQCigFlAJqf4DyLlovVgGlgFJAKaD2B6gmRMtNVEApoBRQCqi/AOo6fwA=\n",
      "Position.z 7ZS9asMwFEbf5c520f2TJe2dW2iGNqVDKBlMiVMSdwp+98Z2CApNb2lmLUYGHe6nT+Ic4HG7b/t220F6PcCi3az3/WrzCQnIEdeOa4wL9IljYrxzKCoBl1DBfdfv2vUe0gFw/Dz1q/7r+AsP3WK3ev84bnmGVCNHX8ELJHVSwRISYhgqIAvB2ExIrZohYiEUdELIYYagsxhhnJPFkDM3nAbNbMJhYjw2OePNOW6eQ3qRLZiMzHO4yTsgswNiPp0nR+wKcEaoyY9D5o2yyhwtXsxhMxqd5lwgZtO/NNCYYzROzHGRMWxWcP3liJ3t6o2qmtn8zKDkr83/v7bGrIDHvSMyPu4zE8wKSGbGxzMyDNXfBiEVRfTFIMUgxSDFIDcYRKOId1IMUgxSDFIMcoNBgooQFoMUgxSDFIP8MMjb8A0=\n"
     ]
    },
    {
     "name": "stderr",
     "output_type": "stream",
     "text": [
      "DEBUG:signalr_async.client:Raw message received: WSMessage(type=<WSMsgType.TEXT: 1>, data='{}', extra='')\n",
      "DEBUG:signalr_async.client:Raw message received: WSMessage(type=<WSMsgType.TEXT: 1>, data='{\"C\":\"d-F23263D5-B,0|Df,0|Dg,11|d,99|p,8E7|o,8E5|a,1|Y,D|Dh,0|n,1|W,2|c,26|i,1|X,C|k,3|l,1|r,2|Z,1|s,59F\",\"M\":[{\"H\":\"Streaming\",\"M\":\"feed\",\"A\":[\"CarData.z\",\"7ZSxDsIwDET/xXNbxU7SJlkr/gAWEEOFKoGEOkC3qv9Om84M3EIHL04U+ST7LnoTHYbx9ejflC4TncYbJRIjtjS25HjkOtmYLFcxRA5NOFNBbfdauifitbT3bhj6Z34wlExBkqvN1eXqt/t6zHNugHQO1LH5XchZiG7I8Kg1OmpAw0DNETh+NH+xqBCIY9uxAYUWNcehP8d7cNQadbVBzQmYOYv0O6Ck4gVQXvmkfFI+KZ92yCcnkUWcAkoBpYBSQO0PUI2JJrDySfmkfFI+/YVP1/kD\",\"2023-03-19T16:39:32.709081Z\"]}]}', extra='')\n",
      "DEBUG:signalr_async.client:Raw message received: WSMessage(type=<WSMsgType.TEXT: 1>, data='{\"C\":\"d-F23263D5-B,0|Df,0|Dg,11|d,99|p,8E7|o,8E6|a,1|Y,D|Dh,0|n,1|W,2|c,26|i,1|X,C|k,3|l,1|r,2|Z,1|s,59F\",\"M\":[{\"H\":\"Streaming\",\"M\":\"feed\",\"A\":[\"Position.z\",\"7ZS7asNAEEX/ZWrJ7Mzsu3edQFwkDilMcCGC7WArldG/Rw9j1sGZENXTiBXsYe7eXc4ZHg+npm0Oe8ivZ1g1u+2p3ew+IQMZ4tpwjWmFPnPKjIuUrDWG1lDBct8em+0J8hlw+Dy1m/ar/4WH/eq4ef/otzxDrpGTr+AFsjO2gjVkxNhVQBKCKYxI7VyBWAmh6EaEDBYIGomxjFOyFEtmxmlQzGY5jozHUDJenGOmOeRuskWRsdMcDmUHJHZAzJfzlIhcAU4IhfI4JN4oOztFSzdzWIxGlzk3iNj0Lw0EcYxLI9MvCobFCu6/HCtnu3ujzonZ/MSgLV+b/39tQayAh70DMjzuKxPFCshOjE9XpOuqvwxCCwyWA0U1iBpEDaIGmWEQZtvfklODqEHUIGqQGQbxvUEMJTWIGkQNogaZYZDoLPlk1SBqEDWIGuSnQd66bw==\",\"2023-03-19T16:39:32.8542694Z\"]}]}', extra='')\n"
     ]
    },
    {
     "name": "stdout",
     "output_type": "stream",
     "text": [
      "CarData.z 7ZSxDsIwDET/xXNbxU7SJlkr/gAWEEOFKoGEOkC3qv9Om84M3EIHL04U+ST7LnoTHYbx9ejflC4TncYbJRIjtjS25HjkOtmYLFcxRA5NOFNBbfdauifitbT3bhj6Z34wlExBkqvN1eXqt/t6zHNugHQO1LH5XchZiG7I8Kg1OmpAw0DNETh+NH+xqBCIY9uxAYUWNcehP8d7cNQadbVBzQmYOYv0O6Ck4gVQXvmkfFI+KZ92yCcnkUWcAkoBpYBSQO0PUI2JJrDySfmkfFI+/YVP1/kD\n",
      "Position.z 7ZS7asNAEEX/ZWrJ7Mzsu3edQFwkDilMcCGC7WArldG/Rw9j1sGZENXTiBXsYe7eXc4ZHg+npm0Oe8ivZ1g1u+2p3ew+IQMZ4tpwjWmFPnPKjIuUrDWG1lDBct8em+0J8hlw+Dy1m/ar/4WH/eq4ef/otzxDrpGTr+AFsjO2gjVkxNhVQBKCKYxI7VyBWAmh6EaEDBYIGomxjFOyFEtmxmlQzGY5jozHUDJenGOmOeRuskWRsdMcDmUHJHZAzJfzlIhcAU4IhfI4JN4oOztFSzdzWIxGlzk3iNj0Lw0EcYxLI9MvCobFCu6/HCtnu3ujzonZ/MSgLV+b/39tQayAh70DMjzuKxPFCshOjE9XpOuqvwxCCwyWA0U1iBpEDaIGmWEQZtvfklODqEHUIGqQGQbxvUEMJTWIGkQNogaZYZDoLPlk1SBqEDWIGuSnQd66bw==\n"
     ]
    },
    {
     "name": "stderr",
     "output_type": "stream",
     "text": [
      "DEBUG:signalr_async.client:Raw message received: WSMessage(type=<WSMsgType.TEXT: 1>, data='{\"C\":\"d-F23263D5-B,0|Df,0|Dg,11|d,9A|p,8E7|o,8E6|a,1|Y,D|Dh,0|n,1|W,2|c,26|i,1|X,C|k,3|l,1|r,2|Z,1|s,59F\",\"M\":[{\"H\":\"Streaming\",\"M\":\"feed\",\"A\":[\"Heartbeat\",{\"Utc\":\"2023-03-19T16:39:35.7813601Z\",\"_kf\":true},\"2023-03-19T16:39:35.103Z\"]}]}', extra='')\n"
     ]
    },
    {
     "name": "stdout",
     "output_type": "stream",
     "text": [
      "Heartbeat {'Utc': '2023-03-19T16:39:35.7813601Z', '_kf': True}\n"
     ]
    },
    {
     "name": "stderr",
     "output_type": "stream",
     "text": [
      "DEBUG:signalr_async.client:Raw message received: WSMessage(type=<WSMsgType.TEXT: 1>, data='{\"C\":\"d-F23263D5-B,0|Df,0|Dg,11|d,9A|p,8E8|o,8E7|a,1|Y,D|Dh,0|n,1|W,2|c,26|i,1|X,C|k,3|l,1|r,2|Z,1|s,59F\",\"M\":[{\"H\":\"Streaming\",\"M\":\"feed\",\"A\":[\"CarData.z\",\"7dS/CoMwEAbwd7lZJcmZv6v0DdqlpYMUoYXi0LqJ794Y5w79ljrccorkg8ud/GY6jNPrMbwpXWY6TTdKZJThWnGt41G7xDGxaWKIikM4U0Vd/8qnZ9Jr6e79OA7P8kFRUhWZUrnUtlS7va+PZSkHoFwL5rT6PahLEL2hhlt1aKsBXQY6HAOvH92/YTQIrGO7oweDjA6nRf8ca8FWHTpVjw4nYMPJ0e9AccNtiMGyACVACVAC1P6Ashkoa70AJUAJUALU/oDyGSjjtAAlQAlQAtRfgLouHw==\",\"2023-03-19T16:39:33.7489261Z\"]},{\"H\":\"Streaming\",\"M\":\"feed\",\"A\":[\"Position.z\",\"7ZS9asNAEITfZWvJaHfvv3edQFQkDilEcCGC5WApldC7R9IZcybOhri+RpzgPmZ2bpkRHo99O7THDsLrCHV72PdDc/iEAFQRlxWX6Gs0gX1g2nivSDnaQQHbbji1+x7CCLh8noZm+Jp/4aGrT837x3zlGUKJ7E0BLxB0pQrYQUB0UwEkIejtipRaJ4iSEHJ6RajCBMFKYhRjdOZdytwxDYreFLuVMWhTxog6VdQhfeXNiYyKOmzTDEjMgJjP86SIHAFGhGw6DokvylpFa/5Kh0VrdNa5QsSkf0nAijLar8x8SBgWI7i9OUr2dvNFtRa9mcigSrfN/D82K0bAy90FWZb7wjgxAlKRMf6CTFPxV4PwhlmhNzo3SG6Q3CC5Qe5oEMt63obcILlBcoPkBvnRIG/TNw==\",\"2023-03-19T16:39:33.7351355Z\"]}]}', extra='')\n"
     ]
    },
    {
     "name": "stdout",
     "output_type": "stream",
     "text": [
      "CarData.z 7dS/CoMwEAbwd7lZJcmZv6v0DdqlpYMUoYXi0LqJ794Y5w79ljrccorkg8ud/GY6jNPrMbwpXWY6TTdKZJThWnGt41G7xDGxaWKIikM4U0Vd/8qnZ9Jr6e79OA7P8kFRUhWZUrnUtlS7va+PZSkHoFwL5rT6PahLEL2hhlt1aKsBXQY6HAOvH92/YTQIrGO7oweDjA6nRf8ca8FWHTpVjw4nYMPJ0e9AccNtiMGyACVACVAC1P6Ashkoa70AJUAJUALU/oDyGSjjtAAlQAlQAtRfgLouHw==\n",
      "Position.z 7ZS9asNAEITfZWvJaHfvv3edQFQkDilEcCGC5WApldC7R9IZcybOhri+RpzgPmZ2bpkRHo99O7THDsLrCHV72PdDc/iEAFQRlxWX6Gs0gX1g2nivSDnaQQHbbji1+x7CCLh8noZm+Jp/4aGrT837x3zlGUKJ7E0BLxB0pQrYQUB0UwEkIejtipRaJ4iSEHJ6RajCBMFKYhRjdOZdytwxDYreFLuVMWhTxog6VdQhfeXNiYyKOmzTDEjMgJjP86SIHAFGhGw6DokvylpFa/5Kh0VrdNa5QsSkf0nAijLar8x8SBgWI7i9OUr2dvNFtRa9mcigSrfN/D82K0bAy90FWZb7wjgxAlKRMf6CTFPxV4PwhlmhNzo3SG6Q3CC5Qe5oEMt63obcILlBcoPkBvnRIG/TNw==\n"
     ]
    },
    {
     "name": "stderr",
     "output_type": "stream",
     "text": [
      "DEBUG:signalr_async.client:Raw message received: WSMessage(type=<WSMsgType.TEXT: 1>, data='{\"C\":\"d-F23263D5-B,0|Df,0|Dg,11|d,9A|p,8E9|o,8E8|a,1|Y,D|Dh,0|n,1|W,2|c,26|i,1|X,C|k,3|l,1|r,2|Z,1|s,59F\",\"M\":[{\"H\":\"Streaming\",\"M\":\"feed\",\"A\":[\"CarData.z\",\"7ZS9CsJAEITfZesk3H92rw2+gTaKhUhAQVJoupB311xqC6cxxTZ7x7EDuzPHN9FuGJ/3/kX5NNFhvFImZ5yvja+t7G3KXrL3jQRmiXykirrL89M9kV1Kd7sMQ/8oD4ayqciV6ksNpcb1vhzzXBogXQB11vwutEWIbmjhURM6KqNhoOY4OH40f+dRIRDHumMLCj1qTkB/TozgqAl1tUXNYcycj/Q7oEJjg3BSQCmgFFAKqC0CKiRhywooBZQCSgG1QUCxkzZFUUApoBRQCqi/AOo8vwE=\",\"2023-03-19T16:39:34.8297659Z\"]},{\"H\":\"Streaming\",\"M\":\"feed\",\"A\":[\"Position.z\",\"7ZQ9a8MwEIb/y8120N3p9LV3bqEZ2pQOoWQwpUlJ3Cn4v9e2QlBKeqWZtRgZ9HCvXonnCA+7Q9d3uy2klyMsu4/NoV9/fEICMsSt4RbjEl3imJgXUQQN4QoauNv2+25zgHQEnD6P/br/Gn/hfrvcr9/exy1PkFrk6Bp4hiTGNrCChBiGBkhDMPoZaUUKxGoIBZkRMlggaDTGMuZkMZTMDadBNZvlMDMOfck4dY7Jc0gusgWVsXkO+7IDUjsg5tN5SkSvADNCvjwOqTfKYnO0eDGH1Wh0mnOBqE3/0oBXx0icmXFRMKxWcP3lWD3b1RsVUbO5zKAtX5v7f21erYCnvRMyPe4zE9QKyGbGxTMyDM1fBrELRDHeh2qQapBqkGqQGwxiR4MwUTVINUg1SDXIDQbxYmMwUg1SDVINUg3y0yCvwzc=\",\"2023-03-19T16:39:34.7549805Z\"]}]}', extra='')\n"
     ]
    },
    {
     "name": "stdout",
     "output_type": "stream",
     "text": [
      "CarData.z 7ZS9CsJAEITfZesk3H92rw2+gTaKhUhAQVJoupB311xqC6cxxTZ7x7EDuzPHN9FuGJ/3/kX5NNFhvFImZ5yvja+t7G3KXrL3jQRmiXykirrL89M9kV1Kd7sMQ/8oD4ayqciV6ksNpcb1vhzzXBogXQB11vwutEWIbmjhURM6KqNhoOY4OH40f+dRIRDHumMLCj1qTkB/TozgqAl1tUXNYcycj/Q7oEJjg3BSQCmgFFAKqC0CKiRhywooBZQCSgG1QUCxkzZFUUApoBRQCqi/AOo8vwE=\n",
      "Position.z 7ZQ9a8MwEIb/y8120N3p9LV3bqEZ2pQOoWQwpUlJ3Cn4v9e2QlBKeqWZtRgZ9HCvXonnCA+7Q9d3uy2klyMsu4/NoV9/fEICMsSt4RbjEl3imJgXUQQN4QoauNv2+25zgHQEnD6P/br/Gn/hfrvcr9/exy1PkFrk6Bp4hiTGNrCChBiGBkhDMPoZaUUKxGoIBZkRMlggaDTGMuZkMZTMDadBNZvlMDMOfck4dY7Jc0gusgWVsXkO+7IDUjsg5tN5SkSvADNCvjwOqTfKYnO0eDGH1Wh0mnOBqE3/0oBXx0icmXFRMKxWcP3lWD3b1RsVUbO5zKAtX5v7f21erYCnvRMyPe4zE9QKyGbGxTMyDM1fBrELRDHeh2qQapBqkGqQGwxiR4MwUTVINUg1SDXIDQbxYmMwUg1SDVINUg3y0yCvwzc=\n"
     ]
    },
    {
     "name": "stderr",
     "output_type": "stream",
     "text": [
      "DEBUG:signalr_async.client:Connection keepalive\n",
      "DEBUG:signalr_async.client:Sending: message_content='{}', is_binary=False\n",
      "DEBUG:signalr_async.client:Raw message received: WSMessage(type=<WSMsgType.TEXT: 1>, data='{\"C\":\"d-F23263D5-B,0|Df,0|Dg,11|d,9A|p,8EA|o,8E9|a,1|Y,D|Dh,0|n,1|W,2|c,26|i,1|X,C|k,3|l,1|r,2|Z,1|s,59F\",\"M\":[{\"H\":\"Streaming\",\"M\":\"feed\",\"A\":[\"CarData.z\",\"7ZS9CsMwDITfRXNSLP/ba+gbtEtLh1ACLZQMabaQd0/i7IXe0g5aZGN0IN2Zb6JjPw7P7k35OtF5vFMmrbSplak5ndhnk7JxB7YpcAgXqqhph7V7It5K82j7vnuVB0VZVaRLNaXaUt1+3455Lg2QzoI6Vt8LuQjRDRke1aOjRjQM1BwNx4/mrw0qBOLYdwyg0KDmWPTnOAeO6lFXA2pOxMxZpZ8A5WzyLjoBlABKACWA+j9AhRVQOiYBlABKACWA+gmgbvMC\",\"2023-03-19T16:39:35.7496289Z\"]},{\"H\":\"Streaming\",\"M\":\"feed\",\"A\":[\"Position.z\",\"7Za7asNAEEX/ZWrJ7OzMPnvXCcRF4pDCBBci2A62Uhn9e/QwZh2cCVE9jZBgD3P37nLQGR4Pp6ZtDnvIr2dYNbvtqd3sPiGDNZZqQzWmFfpMKRMvouPkHa2hguW+PTbbE+Qz4PB4ajftV/8JD/vVcfP+0S95hlwjJV/BC2RnuII1ZMTYVWAlBFMYkdq5AmEJsdGNiDVYIGgkhgmnZCmWzIzdoJiNKY6Mx1AyXpxjpjnW3WSLIsPTHAplB1bswBJd9lMicgU4ITaU27HiiZLjKVq6mUNiNHuZc4OITf/SQBDHuDQy/UvBkFjB/ZvDcra7J+qcmM1PDHJ52/z/awtiBTSsHZDhcl+ZKFZgeWJ8uiJdV/1lELcwgRNhVIOoQdQgapAZBmHkGI1Vg6hB1CBqkBkG8f0ZsQ9qEDWIGkQNMsMgsf8HwcRqEDWIGkQN8tMgb903\",\"2023-03-19T16:39:35.8148194Z\"]}]}', extra='')\n"
     ]
    },
    {
     "name": "stdout",
     "output_type": "stream",
     "text": [
      "CarData.z 7ZS9CsMwDITfRXNSLP/ba+gbtEtLh1ACLZQMabaQd0/i7IXe0g5aZGN0IN2Zb6JjPw7P7k35OtF5vFMmrbSplak5ndhnk7JxB7YpcAgXqqhph7V7It5K82j7vnuVB0VZVaRLNaXaUt1+3455Lg2QzoI6Vt8LuQjRDRke1aOjRjQM1BwNx4/mrw0qBOLYdwyg0KDmWPTnOAeO6lFXA2pOxMxZpZ8A5WzyLjoBlABKACWA+j9AhRVQOiYBlABKACWA+gmgbvMC\n",
      "Position.z 7Za7asNAEEX/ZWrJ7OzMPnvXCcRF4pDCBBci2A62Uhn9e/QwZh2cCVE9jZBgD3P37nLQGR4Pp6ZtDnvIr2dYNbvtqd3sPiGDNZZqQzWmFfpMKRMvouPkHa2hguW+PTbbE+Qz4PB4ajftV/8JD/vVcfP+0S95hlwjJV/BC2RnuII1ZMTYVWAlBFMYkdq5AmEJsdGNiDVYIGgkhgmnZCmWzIzdoJiNKY6Mx1AyXpxjpjnW3WSLIsPTHAplB1bswBJd9lMicgU4ITaU27HiiZLjKVq6mUNiNHuZc4OITf/SQBDHuDQy/UvBkFjB/ZvDcra7J+qcmM1PDHJ52/z/awtiBTSsHZDhcl+ZKFZgeWJ8uiJdV/1lELcwgRNhVIOoQdQgapAZBmHkGI1Vg6hB1CBqkBkG8f0ZsQ9qEDWIGkQNMsMgsf8HwcRqEDWIGkQN8tMgb903\n"
     ]
    },
    {
     "name": "stderr",
     "output_type": "stream",
     "text": [
      "DEBUG:signalr_async.client:Raw message received: WSMessage(type=<WSMsgType.TEXT: 1>, data='{\"C\":\"d-F23263D5-B,0|Df,0|Dg,11|d,9A|p,8EB|o,8EA|a,1|Y,D|Dh,0|n,1|W,2|c,26|i,1|X,C|k,3|l,1|r,2|Z,1|s,59F\",\"M\":[{\"H\":\"Streaming\",\"M\":\"feed\",\"A\":[\"CarData.z\",\"7dexCsIwEAbgd7m5SnJJrr2sxTfQRXEoIihIB+1W+u7WdHbwX+xwy7WE/JDclQ860q4fnvfri/JppMNwoUzsOGxc2Hjde8lBc0hbdSouNkeqqO2e8+6R/Ke0t67vr4+y4Ci7irjUUGosNS3vn8c0lQ1QLoI5734P+hJEb+jhowp61AYdBtochsePzp8DGgTGsdyxBoMBbU5Ev5yUwKMK2tUabU6DNWeOfgdKtsyakqgBZUAZUAbU+oCKool9NKAMKAPKgFofUMIata4NKAPKgDKg1gdUIxrF2y+eAWVAGVD/Aeo8vQE=\",\"2023-03-19T16:39:36.8694619Z\"]},{\"H\":\"Streaming\",\"M\":\"feed\",\"A\":[\"Position.z\",\"7ZQ7a8NAEIT/y9ZSuH3cs0+dQFwkDilMcCGC7WArldF/j6Qz5hycDXF9jTjBfczs3DJHeNwdur7bbSG9HmHRbdaHfrX5hARkiFvDLcYFusQxsbszVnyguIQG7rf9vlsfIB0Bp89Tv+q/xl942C72q/eP8cozpBY5ugZeIFkjDSwhIYahAdIQjH5GWmsLRDSEgp0RMlggaDRGGLOzGErmhmlQ9SYcZsahLxmn6pisQ/bCW1AZyTrsywxIzYCYT/OUiB4BZoR8OQ6pL8pWsrV4ocOqNTrpXCBq0r8k4FUZG2dmPBQMqxFc3xzRvV19UWtVby4zKOW2uf/H5tUIeLo7IdNyn5mgRkCSGRfPyDA0fzeIjA1ChLVBaoPUBqkNckODeC/Os9QGqQ1SG6Q2yM8GeRu+AQ==\",\"2023-03-19T16:39:36.7746734Z\"]}]}', extra='')\n"
     ]
    },
    {
     "name": "stdout",
     "output_type": "stream",
     "text": [
      "CarData.z 7dexCsIwEAbgd7m5SnJJrr2sxTfQRXEoIihIB+1W+u7WdHbwX+xwy7WE/JDclQ860q4fnvfri/JppMNwoUzsOGxc2Hjde8lBc0hbdSouNkeqqO2e8+6R/Ke0t67vr4+y4Ci7irjUUGosNS3vn8c0lQ1QLoI5734P+hJEb+jhowp61AYdBtochsePzp8DGgTGsdyxBoMBbU5Ev5yUwKMK2tUabU6DNWeOfgdKtsyakqgBZUAZUAbU+oCKool9NKAMKAPKgFofUMIata4NKAPKgDKg1gdUIxrF2y+eAWVAGVD/Aeo8vQE=\n",
      "Position.z 7ZQ7a8NAEIT/y9ZSuH3cs0+dQFwkDilMcCGC7WArldF/j6Qz5hycDXF9jTjBfczs3DJHeNwdur7bbSG9HmHRbdaHfrX5hARkiFvDLcYFusQxsbszVnyguIQG7rf9vlsfIB0Bp89Tv+q/xl942C72q/eP8cozpBY5ugZeIFkjDSwhIYahAdIQjH5GWmsLRDSEgp0RMlggaDRGGLOzGErmhmlQ9SYcZsahLxmn6pisQ/bCW1AZyTrsywxIzYCYT/OUiB4BZoR8OQ6pL8pWsrV4ocOqNTrpXCBq0r8k4FUZG2dmPBQMqxFc3xzRvV19UWtVby4zKOW2uf/H5tUIeLo7IdNyn5mgRkCSGRfPyDA0fzeIjA1ChLVBaoPUBqkNckODeC/Os9QGqQ1SG6Q2yM8GeRu+AQ==\n"
     ]
    },
    {
     "name": "stderr",
     "output_type": "stream",
     "text": [
      "DEBUG:signalr_async.client:Raw message received: WSMessage(type=<WSMsgType.TEXT: 1>, data='{\"C\":\"d-F23263D5-B,0|Df,0|Dg,11|d,9A|p,8EC|o,8EB|a,1|Y,D|Dh,0|n,1|W,2|c,26|i,1|X,C|k,3|l,1|r,2|Z,1|s,59F\",\"M\":[{\"H\":\"Streaming\",\"M\":\"feed\",\"A\":[\"CarData.z\",\"7ZYxC4MwEIX/y81aktyZmKzSf9AuLR2kCC0UB+sm/vdq3At9Sx1uuYSQB3fvhY9MdOzH4dm9KV0nOo93SuSM49JwaePJ+sQxcTg4F8XU9kIFNe2w3J7IrqV5tH3fvfKBoWQKcrlyrpJrte3XZZ7zBUgnoM6a34U2C9EJLdyqR1ut0TBQcxwcP5q/Y1QIxLHNGEAho+YI+nKqCmzVo64G1JwaM2eRfgOUuMihDgooBZQCSgG1P0B5H1lYFFAKKAWUAmp/gIoS2Vj9QSmgFFAKqP8A6jZ/AA==\",\"2023-03-19T16:39:37.9493017Z\"]},{\"H\":\"Streaming\",\"M\":\"feed\",\"A\":[\"Position.z\",\"7ZQ/a8MwEMW/y8120d3pj6W9cwv10KZ0MCWDKXFK7E7G3722FYJc0ivNrMXIoB/v3dPxRng89u3QHjsIryPU7WHfD83hEwKQIi4Vl+hrtIF9YHenWFtmv4MC7rvh1O57CCPg8nkamuFr/oWHrj417x/zlWcIJbK3BbxAMEoXsIOAWE0FkISgdytSGpMgWkKoMitCChMElcRoxujMVylzwzQoetNcrYxFlzJW1FFRh8zGWyUyOuqwSzMgMQNiPs+TInIEGBFy6TgkvigbHa35jQ6L1uiss0HEpH9JwIkyxq/MfEgYFiO4vjla9nb1RY0RvdnIoE63zf4/NidGwMvdBVmW+8JUYgSkI2P9BZmm4u8GYa+N85QbJDdIbpDcIDc0iJ0bhNnmBskNkhskN8jPBnmbvgE=\",\"2023-03-19T16:39:37.6945336Z\"]}]}', extra='')\n"
     ]
    },
    {
     "name": "stdout",
     "output_type": "stream",
     "text": [
      "CarData.z 7ZYxC4MwEIX/y81aktyZmKzSf9AuLR2kCC0UB+sm/vdq3At9Sx1uuYSQB3fvhY9MdOzH4dm9KV0nOo93SuSM49JwaePJ+sQxcTg4F8XU9kIFNe2w3J7IrqV5tH3fvfKBoWQKcrlyrpJrte3XZZ7zBUgnoM6a34U2C9EJLdyqR1ut0TBQcxwcP5q/Y1QIxLHNGEAho+YI+nKqCmzVo64G1JwaM2eRfgOUuMihDgooBZQCSgG1P0B5H1lYFFAKKAWUAmp/gIoS2Vj9QSmgFFAKqP8A6jZ/AA==\n",
      "Position.z 7ZQ/a8MwEMW/y8120d3pj6W9cwv10KZ0MCWDKXFK7E7G3722FYJc0ivNrMXIoB/v3dPxRng89u3QHjsIryPU7WHfD83hEwKQIi4Vl+hrtIF9YHenWFtmv4MC7rvh1O57CCPg8nkamuFr/oWHrj417x/zlWcIJbK3BbxAMEoXsIOAWE0FkISgdytSGpMgWkKoMitCChMElcRoxujMVylzwzQoetNcrYxFlzJW1FFRh8zGWyUyOuqwSzMgMQNiPs+TInIEGBFy6TgkvigbHa35jQ6L1uiss0HEpH9JwIkyxq/MfEgYFiO4vjla9nb1RY0RvdnIoE63zf4/NidGwMvdBVmW+8JUYgSkI2P9BZmm4u8GYa+N85QbJDdIbpDcIDc0iJ0bhNnmBskNkhskN8jPBnmbvgE=\n"
     ]
    },
    {
     "name": "stderr",
     "output_type": "stream",
     "text": [
      "DEBUG:signalr_async.client:Raw message received: WSMessage(type=<WSMsgType.TEXT: 1>, data='{\"C\":\"d-F23263D5-B,0|Df,0|Dg,11|d,9A|p,8ED|o,8EC|a,1|Y,D|Dh,0|n,1|W,2|c,26|i,1|X,C|k,3|l,1|r,2|Z,1|s,59F\",\"M\":[{\"H\":\"Streaming\",\"M\":\"feed\",\"A\":[\"CarData.z\",\"7ZcxC8MgEIX/y81JUU+Nuob+g3Zp6RBKoIWSIc0W8t9rzF7oW5rhllPEB3fvyQfOdBym8dm/KV1nOk93SmSU4VpxreNJ+8QxcTgYE42L8UIVtd2Yb8+k19I+umHoX+VAUVIVmVK5VFuq2/brsizlAqSzoE6r34W6CNEJNdyqR1sNaBioOQaOH83fMCoE4thmbEAho+ZY9OU4B7bqUVcb1JyAmZOl3wBlM6BYsQBKACWAEkDtD1DeRx1tEEAJoARQAqj9ASpkQHkrXzwBlABKAPUfQN2WDw==\",\"2023-03-19T16:39:38.8691649Z\"]},{\"H\":\"Streaming\",\"M\":\"feed\",\"A\":[\"Position.z\",\"7ZQ9a8MwFEX/y5vt4vehz71zC/XQpnQIJYMpcUriTsH/vbYVglLSV5pZi5FBh3d1Jc4RHneHbuh2PcTXI7TddnMY1ttPiEANcd1wjaFFGzlE9nfIIta6FVRw3w/7bnOAeAScP0/DeviafuGhb/fr949pyzPEGjnYCl4gmkYqWEFE9GMFpCEY3ILUxmSIaAh5syDUYIZgozHCmJIFnzM3nAbVbMJ+YSy6nLHqnCbNIXORzauMpDns8g5I7YCYT+fJEb0CTAi5/Dik3igbSdHCxRxWo9FpzgWiNv1LA04dY8LCTIuMYbWC6y9H9GxXb9QYNZtNDEr+2uz/a3NqBTzvnZH5cZ8Zr1ZAkhgbzsg4Vn8bhIMIOSoGKQYpBikGucEgjoWdMcUgxSDFIMUgNxgkOGEORSBFIEUgRSA/BfI2fgM=\",\"2023-03-19T16:39:38.974339Z\"]}]}', extra='')\n"
     ]
    },
    {
     "name": "stdout",
     "output_type": "stream",
     "text": [
      "CarData.z 7ZcxC8MgEIX/y81JUU+Nuob+g3Zp6RBKoIWSIc0W8t9rzF7oW5rhllPEB3fvyQfOdBym8dm/KV1nOk93SmSU4VpxreNJ+8QxcTgYE42L8UIVtd2Yb8+k19I+umHoX+VAUVIVmVK5VFuq2/brsizlAqSzoE6r34W6CNEJNdyqR1sNaBioOQaOH83fMCoE4thmbEAho+ZY9OU4B7bqUVcb1JyAmZOl3wBlM6BYsQBKACWAEkDtD1DeRx1tEEAJoARQAqj9ASpkQHkrXzwBlABKAPUfQN2WDw==\n",
      "Position.z 7ZQ9a8MwFEX/y5vt4vehz71zC/XQpnQIJYMpcUriTsH/vbYVglLSV5pZi5FBh3d1Jc4RHneHbuh2PcTXI7TddnMY1ttPiEANcd1wjaFFGzlE9nfIIta6FVRw3w/7bnOAeAScP0/DeviafuGhb/fr949pyzPEGjnYCl4gmkYqWEFE9GMFpCEY3ILUxmSIaAh5syDUYIZgozHCmJIFnzM3nAbVbMJ+YSy6nLHqnCbNIXORzauMpDns8g5I7YCYT+fJEb0CTAi5/Dik3igbSdHCxRxWo9FpzgWiNv1LA04dY8LCTIuMYbWC6y9H9GxXb9QYNZtNDEr+2uz/a3NqBTzvnZH5cZ8Zr1ZAkhgbzsg4Vn8bhIMIOSoGKQYpBikGucEgjoWdMcUgxSDFIMUgNxgkOGEORSBFIEUgRSA/BfI2fgM=\n"
     ]
    },
    {
     "name": "stderr",
     "output_type": "stream",
     "text": [
      "DEBUG:signalr_async.client:Raw message received: WSMessage(type=<WSMsgType.TEXT: 1>, data='{\"C\":\"d-F23263D5-B,0|Df,0|Dg,11|d,9A|p,8EE|o,8ED|a,1|Y,D|Dh,0|n,1|W,2|c,26|i,1|X,C|k,3|l,1|r,2|Z,1|s,59F\",\"M\":[{\"H\":\"Streaming\",\"M\":\"feed\",\"A\":[\"CarData.z\",\"7Za/CsIwEMbf5eZWcpfm71p8A10UhyIFBemg3Urf3TbdBb9Fh4NwCeE+uPsu/MhE+2F83vsX5fNEx/FKmcSIrY2tOR3YZ5uWtWOTWGI4UUVt91yyJ+I1tLduGPpHuTCUTUVSoi2xKdFt53Wb55IA6RpQx+Z7IRch2iHDpXq01IgOAzVH4PGj8xeLCoFxbD0GUGhRcxr05TgHlupRVwNqTsTMWaSfAGVjMjGIAkoBpYBSQP0foLwk41h/UAooBZQC6jeAusxv\",\"2023-03-19T16:39:39.6290517Z\"]},{\"H\":\"Streaming\",\"M\":\"feed\",\"A\":[\"Position.z\",\"7ZRLS8NAFIX/y10nkvuY5961glloxUWRLoK0lTauQv67SaaUqdQrdj0QQgLzcc49czkDPO6PXd/tdxBfB2i77ebYr7efEIEa4rrhGkOLNnKYnjtkYRS3ggrud/2h2xwhDoDz66lf91/TLzzs2sP6/WM68gyxRg62gheIppEKVhAR/VgBaQgGtyC1MRkiGkLeLAg1mCHYaMw0SnIWfM7cMA2q3oT9wlh0OWNVnSbpkLnw5lVGkg67PANSMyDm0zw5okeACSGXj0PqjbKRZC1c6LBqjU46F4ia9C8JOFXGhIWZPjKG1Qiub47o3q7eqDGqN5sYlHzb7P9jc2oEPJ+dkXm5z4xXIyBJjA1nZByrvxvEopCgLw1SGqQ0SGmQGxrETw2CKKVBSoOUBikN8rNB3sZv\",\"2023-03-19T16:39:39.8142114Z\"]}]}', extra='')\n"
     ]
    },
    {
     "name": "stdout",
     "output_type": "stream",
     "text": [
      "CarData.z 7Za/CsIwEMbf5eZWcpfm71p8A10UhyIFBemg3Urf3TbdBb9Fh4NwCeE+uPsu/MhE+2F83vsX5fNEx/FKmcSIrY2tOR3YZ5uWtWOTWGI4UUVt91yyJ+I1tLduGPpHuTCUTUVSoi2xKdFt53Wb55IA6RpQx+Z7IRch2iHDpXq01IgOAzVH4PGj8xeLCoFxbD0GUGhRcxr05TgHlupRVwNqTsTMWaSfAGVjMjGIAkoBpYBSQP0foLwk41h/UAooBZQC6jeAusxv\n",
      "Position.z 7ZRLS8NAFIX/y10nkvuY5961glloxUWRLoK0lTauQv67SaaUqdQrdj0QQgLzcc49czkDPO6PXd/tdxBfB2i77ebYr7efEIEa4rrhGkOLNnKYnjtkYRS3ggrud/2h2xwhDoDz66lf91/TLzzs2sP6/WM68gyxRg62gheIppEKVhAR/VgBaQgGtyC1MRkiGkLeLAg1mCHYaMw0SnIWfM7cMA2q3oT9wlh0OWNVnSbpkLnw5lVGkg67PANSMyDm0zw5okeACSGXj0PqjbKRZC1c6LBqjU46F4ia9C8JOFXGhIWZPjKG1Qiub47o3q7eqDGqN5sYlHzb7P9jc2oEPJ+dkXm5z4xXIyBJjA1nZByrvxvEopCgLw1SGqQ0SGmQGxrETw2CKKVBSoOUBikN8rNB3sZv\n"
     ]
    },
    {
     "name": "stderr",
     "output_type": "stream",
     "text": [
      "DEBUG:signalr_async.client:Connection keepalive\n",
      "DEBUG:signalr_async.client:Sending: message_content='{}', is_binary=False\n",
      "DEBUG:signalr_async.client:Raw message received: WSMessage(type=<WSMsgType.TEXT: 1>, data='{\"C\":\"d-F23263D5-B,0|Df,0|Dg,11|d,9A|p,8EF|o,8EE|a,1|Y,D|Dh,0|n,1|W,2|c,26|i,1|X,C|k,3|l,1|r,2|Z,1|s,59F\",\"M\":[{\"H\":\"Streaming\",\"M\":\"feed\",\"A\":[\"CarData.z\",\"7ZQxC8IwEIX/y81V7i5Jm2QV/4EuikORgoJ0ULfS/26b7oJvscMtlxDuwd174Rto37+f9+5F+TzQ8X2lTMrqNuw2kg5SZ5ey5y1rTEnCiSratc+peyCZy+7W9n33KA9MmSvSUl2pvtSw3OdjHEsDpPOgTvh3oRQhuqHAo9boqBENAzVH4fjR/NWhQiCOZccGFDrUHI/+nBDAUWvU1QY1J2LmTNJvgNIJULWKAcoAZYAyQK0PUIFjUk4GKAOUAcoAtT5ANZxiEm+AMkAZoAxQfwHUZfwA\",\"2023-03-19T16:39:40.7098914Z\"]},{\"H\":\"Streaming\",\"M\":\"feed\",\"A\":[\"Position.z\",\"7ZbBasMwDIbfReekWJbl2L73vMF62Dp2KKOHMNqONjuVvPuSuBSXdRrLWRBCAv6Q9Nt8+AyPh1PbtYc9pNczrNrd9tRtdp+QwBpLtaEa4wp9ojg8i0gOI+EaKljuu2O7PUE6A46vp27TfQ2/8LBfHTfvH8OSZ0g1UvQVvEBi4ypYQ0IMfQVWQjA2E1IzF4iTEBt4QqzBAkEjMY4wdxZDycyYBsXeHIWJ8diUjBfrmFzH8k1vQWRcrkNNmYEVM7BEl3lKRI4AM2Kbchwr7iixy63FmzoktmYvdW4QMelfEmjEMhwnZvgoGBIjuH9ynNzb3R1lFnvzmUFXnjb//9gaMQIa147IeLivTBAjsC4zPl6Rvq/+MIgzC0RGz14NogZRg6hBZhiEmNFGvYOoQdQgapA5BuHhDmJYDaIGUYOoQeYYJDAbdmoQNYgaRA3ywyBv/Tc=\",\"2023-03-19T16:39:40.8550541Z\"]}]}', extra='')\n"
     ]
    },
    {
     "name": "stdout",
     "output_type": "stream",
     "text": [
      "CarData.z 7ZQxC8IwEIX/y81V7i5Jm2QV/4EuikORgoJ0ULfS/26b7oJvscMtlxDuwd174Rto37+f9+5F+TzQ8X2lTMrqNuw2kg5SZ5ey5y1rTEnCiSratc+peyCZy+7W9n33KA9MmSvSUl2pvtSw3OdjHEsDpPOgTvh3oRQhuqHAo9boqBENAzVH4fjR/NWhQiCOZccGFDrUHI/+nBDAUWvU1QY1J2LmTNJvgNIJULWKAcoAZYAyQK0PUIFjUk4GKAOUAcoAtT5ANZxiEm+AMkAZoAxQfwHUZfwA\n",
      "Position.z 7ZbBasMwDIbfReekWJbl2L73vMF62Dp2KKOHMNqONjuVvPuSuBSXdRrLWRBCAv6Q9Nt8+AyPh1PbtYc9pNczrNrd9tRtdp+QwBpLtaEa4wp9ojg8i0gOI+EaKljuu2O7PUE6A46vp27TfQ2/8LBfHTfvH8OSZ0g1UvQVvEBi4ypYQ0IMfQVWQjA2E1IzF4iTEBt4QqzBAkEjMY4wdxZDycyYBsXeHIWJ8diUjBfrmFzH8k1vQWRcrkNNmYEVM7BEl3lKRI4AM2Kbchwr7iixy63FmzoktmYvdW4QMelfEmjEMhwnZvgoGBIjuH9ynNzb3R1lFnvzmUFXnjb//9gaMQIa147IeLivTBAjsC4zPl6Rvq/+MIgzC0RGz14NogZRg6hBZhiEmNFGvYOoQdQgapA5BuHhDmJYDaIGUYOoQeYYJDAbdmoQNYgaRA3ywyBv/Tc=\n"
     ]
    },
    {
     "name": "stderr",
     "output_type": "stream",
     "text": [
      "DEBUG:signalr_async.client:Raw message received: WSMessage(type=<WSMsgType.TEXT: 1>, data='{\"C\":\"d-F23263D5-B,0|Df,0|Dg,11|d,9A|p,8F0|o,8EF|a,1|Y,D|Dh,0|n,1|W,2|c,26|i,1|X,C|k,3|l,1|r,2|Z,1|s,59F\",\"M\":[{\"H\":\"Streaming\",\"M\":\"feed\",\"A\":[\"CarData.z\",\"7da7CoNAEAXQf5laZfb9aCV/kDQJKSQICQSLxE789+hap8htYjHNKMte2J2RgxMdhvH16N+ULxOdxhtl0qxNzaZW6ah8NilbbpJN0Tl3pora7rXsnkitpb13w9A/ywJT5op0qaZUW6rb3tfHPJcNUM6COcW/B1UJojdU8FE9etSIDgNtjobHj85fGzQIjGO7YwCDBm2ORb8c58CjerSrAW1OxJqzRL8DpRrtU+QQBSgBSoASoPYHlOMUgjYClAAlQAlQ+wPK+xRs9AKUACVACVD7Ayotf1BKC1AClAAlQP0HqOv8AQ==\",\"2023-03-19T16:39:41.9097126Z\"]},{\"H\":\"Streaming\",\"M\":\"feed\",\"A\":[\"Position.z\",\"7ZY9a8MwEIb/y8120OlOH6e9cwvN0KZ0CCWDKU1K4k7B/722FYJS0ivNrMXYoId79Uo8+AgPu0PXd7stpJcjLLuPzaFff3xCAmsstYZalCX6RJLYLMQ5Q1FW0MDdtt93mwOkI+D0eOzX/df4Cffb5X799j4ueYLUIolv4BmSM9zAChJiHBqwGoISZqR1rkBYQ2x0M2INFggajWHCnExiydywG1SzMcWZ8RhKxqtzTJ5j3UW2qDKc51AoO7BqB5botJ8S0SvAjNhQbseqJ0qOczS5mENqNHuac4GoTf/SQFDHOJmZ8aVgSK3g+s1hPdvVE3VOzeYzg1zeNv//2oJaAU1rJ2S63GcmqhVYzoyXMzIMzV8GwYVFFhGuBqkGqQapBrnBIDwaxNdfkCqQKpAqkFsEEgNHEawGqQapBqkG+WmQ1+Eb\",\"2023-03-19T16:39:41.8748991Z\"]}]}', extra='')\n"
     ]
    },
    {
     "name": "stdout",
     "output_type": "stream",
     "text": [
      "CarData.z 7da7CoNAEAXQf5laZfb9aCV/kDQJKSQICQSLxE789+hap8htYjHNKMte2J2RgxMdhvH16N+ULxOdxhtl0qxNzaZW6ah8NilbbpJN0Tl3pora7rXsnkitpb13w9A/ywJT5op0qaZUW6rb3tfHPJcNUM6COcW/B1UJojdU8FE9etSIDgNtjobHj85fGzQIjGO7YwCDBm2ORb8c58CjerSrAW1OxJqzRL8DpRrtU+QQBSgBSoASoPYHlOMUgjYClAAlQAlQ+wPK+xRs9AKUACVACVD7Ayotf1BKC1AClAAlQP0HqOv8AQ==\n",
      "Position.z 7ZY9a8MwEIb/y8120OlOH6e9cwvN0KZ0CCWDKU1K4k7B/722FYJS0ivNrMXYoId79Uo8+AgPu0PXd7stpJcjLLuPzaFff3xCAmsstYZalCX6RJLYLMQ5Q1FW0MDdtt93mwOkI+D0eOzX/df4Cffb5X799j4ueYLUIolv4BmSM9zAChJiHBqwGoISZqR1rkBYQ2x0M2INFggajWHCnExiydywG1SzMcWZ8RhKxqtzTJ5j3UW2qDKc51AoO7BqB5botJ8S0SvAjNhQbseqJ0qOczS5mENqNHuac4GoTf/SQFDHOJmZ8aVgSK3g+s1hPdvVE3VOzeYzg1zeNv//2oJaAU1rJ2S63GcmqhVYzoyXMzIMzV8GwYVFFhGuBqkGqQapBrnBIDwaxNdfkCqQKpAqkFsEEgNHEawGqQapBqkG+WmQ1+Eb\n"
     ]
    },
    {
     "name": "stderr",
     "output_type": "stream",
     "text": [
      "DEBUG:signalr_async.client:Raw message received: WSMessage(type=<WSMsgType.TEXT: 1>, data='{}', extra='')\n",
      "DEBUG:signalr_async.client:Raw message received: WSMessage(type=<WSMsgType.TEXT: 1>, data='{\"C\":\"d-F23263D5-B,0|Df,0|Dg,11|d,9A|p,8F1|o,8F0|a,1|Y,D|Dh,0|n,1|W,2|c,26|i,1|X,C|k,3|l,1|r,2|Z,1|s,59F\",\"M\":[{\"H\":\"Streaming\",\"M\":\"feed\",\"A\":[\"CarData.z\",\"7ZQxC8IwEIX/y82tJLlc0mQt/gNdFIciBQXpoN1K/7ttugu+RYdbLiHcg7v3wjfRfhif9/5F+TzRcbxSJmcc14Zrmw42ZE7Zux2bFMSlE1XUds+leyK7lvbWDUP/KA+GsqnIlcql+lJlu6/HPJcGSOdBnTXfC20RohtaeNSAjtqgYaDmODh+NH/HqBCIY9sxgkJGzfHozxEBRw2oqxE1p8HMWaSfABVNksRRAaWAUkApoP4PUKlJIlYUUAooBZQC6ieAusxv\",\"2023-03-19T16:39:42.9895515Z\"]},{\"H\":\"Streaming\",\"M\":\"feed\",\"A\":[\"Position.z\",\"7ZRPS8NAEMW/y5wT2ZnZ/3fPCuagFQ9BegjSVtp4CvnuJtlSNlJH7HkJhAT2x3vzdngDPB5OXd8d9hBfB2i63fbUt7tPiECKuFZcY2jQRg5R0x2i9pbsBiq43/fHbnuCOADOr6e+7b+mX3jYN8f2/WM68gyxRg62gheIRukKNhAR/VgBSQgGtyC1MRmiJYS8WRBSmCGoJEYzJmfB58wN06DoTbNfGIsuZ6yoo5IOmZU3LzI66bDLMyAxA2I+z5MjcgSYEHL5OCTeKBudrIWVDovW6KyzQsSkf0nAiTImLMz0kTEsRnB9c7Ts7eqNGiN6s4lBnW+b/X9sToyA57MzMi/3hfFiBKQTY8MFGcfq7wYxU4Mo9KVBSoOUBikNckODeKenB0uDlAYpDVIa5GeDvI3f\",\"2023-03-19T16:39:42.8747471Z\"]}]}', extra='')\n"
     ]
    },
    {
     "name": "stdout",
     "output_type": "stream",
     "text": [
      "CarData.z 7ZQxC8IwEIX/y82tJLlc0mQt/gNdFIciBQXpoN1K/7ttugu+RYdbLiHcg7v3wjfRfhif9/5F+TzRcbxSJmcc14Zrmw42ZE7Zux2bFMSlE1XUds+leyK7lvbWDUP/KA+GsqnIlcql+lJlu6/HPJcGSOdBnTXfC20RohtaeNSAjtqgYaDmODh+NH/HqBCIY9sxgkJGzfHozxEBRw2oqxE1p8HMWaSfABVNksRRAaWAUkApoP4PUKlJIlYUUAooBZQC6ieAusxv\n",
      "Position.z 7ZRPS8NAEMW/y5wT2ZnZ/3fPCuagFQ9BegjSVtp4CvnuJtlSNlJH7HkJhAT2x3vzdngDPB5OXd8d9hBfB2i63fbUt7tPiECKuFZcY2jQRg5R0x2i9pbsBiq43/fHbnuCOADOr6e+7b+mX3jYN8f2/WM68gyxRg62gheIRukKNhAR/VgBSQgGtyC1MRmiJYS8WRBSmCGoJEYzJmfB58wN06DoTbNfGIsuZ6yoo5IOmZU3LzI66bDLMyAxA2I+z5MjcgSYEHL5OCTeKBudrIWVDovW6KyzQsSkf0nAiTImLMz0kTEsRnB9c7Ts7eqNGiN6s4lBnW+b/X9sToyA57MzMi/3hfFiBKQTY8MFGcfq7wYxU4Mo9KVBSoOUBikNckODeKenB0uDlAYpDVIa5GeDvI3f\n"
     ]
    },
    {
     "name": "stderr",
     "output_type": "stream",
     "text": [
      "DEBUG:signalr_async.client:Raw message received: WSMessage(type=<WSMsgType.TEXT: 1>, data='{\"C\":\"d-F23263D5-B,0|Df,0|Dg,11|d,9A|p,8F2|o,8F1|a,1|Y,D|Dh,0|n,1|W,2|c,26|i,1|X,C|k,3|l,1|r,2|Z,1|s,59F\",\"M\":[{\"H\":\"Streaming\",\"M\":\"feed\",\"A\":[\"CarData.z\",\"7ZSxCsMwDET/RXMSbEuOY6+hf9AuLR1CCbRQMrTZQv69ibMXekszaJGN0YF0Z95Eh2F8Pfo3pctEp/FGiZxxXBoubTzaOnFMwpVtone2OVNBbfdauieya2nv3TD0z/xgKJmCXK6cq+Tqt/t6zHNugHQC6qz5XWizEN3QwqPW6KgNGgZqjoPjR/N3jAqBOLYdAyhk1BxBf4734Kg16mpAzWkwcxbpN0B5EyWIAkoBpYBSQO0QUGEBlHhRQCmgFFAKqL0BSirjIseggFJAKaAUUP8B1HX+AA==\",\"2023-03-19T16:39:44.0293974Z\"]},{\"H\":\"Streaming\",\"M\":\"feed\",\"A\":[\"Position.z\",\"7ZQ9a8MwFEX/y5vtovehz71zC83QpnQIJYMpcUriTsH/vbEVglLSV5pZi5FBh3d1Jc4BHrf7bui2PaTXAyy6zXo/rDafkIAMcWu4xbhAlzgm4Tv04g3aJTRw3w+7br2HdACcPk/Davg6/sJDv9it3j+OW54htcjRNfACyRppYAkJMYwNkIZg9DPSWlsgoiEU7IyQwQJBozHCmJPFUDI3nAbVbMJhZhz6knHqHJPnkL3IFlRG8hz2ZQekdkDMp/OUiF4BZoR8eRxSb5St5GjxYg6r0eg05wJRm/6lAa+OsXFmjouCYbWC6y9H9GxXb9RaNZvLDEr52tz/a/NqBTztnZDpcZ+ZoFZAkhkXz8g4Nn8bhFmc91QNUg1SDVINcoNBbBTH3leDVINUg1SD3GCQyGKDqwKpAqkCqQL5KZC38Rs=\",\"2023-03-19T16:39:43.934586Z\"]}]}', extra='')\n"
     ]
    },
    {
     "name": "stdout",
     "output_type": "stream",
     "text": [
      "CarData.z 7ZSxCsMwDET/RXMSbEuOY6+hf9AuLR1CCbRQMrTZQv69ibMXekszaJGN0YF0Z95Eh2F8Pfo3pctEp/FGiZxxXBoubTzaOnFMwpVtone2OVNBbfdauieya2nv3TD0z/xgKJmCXK6cq+Tqt/t6zHNugHQC6qz5XWizEN3QwqPW6KgNGgZqjoPjR/N3jAqBOLYdAyhk1BxBf4734Kg16mpAzWkwcxbpN0B5EyWIAkoBpYBSQO0QUGEBlHhRQCmgFFAKqL0BSirjIseggFJAKaAUUP8B1HX+AA==\n",
      "Position.z 7ZQ9a8MwFEX/y5vtovehz71zC83QpnQIJYMpcUriTsH/vbEVglLSV5pZi5FBh3d1Jc4BHrf7bui2PaTXAyy6zXo/rDafkIAMcWu4xbhAlzgm4Tv04g3aJTRw3w+7br2HdACcPk/Davg6/sJDv9it3j+OW54htcjRNfACyRppYAkJMYwNkIZg9DPSWlsgoiEU7IyQwQJBozHCmJPFUDI3nAbVbMJhZhz6knHqHJPnkL3IFlRG8hz2ZQekdkDMp/OUiF4BZoR8eRxSb5St5GjxYg6r0eg05wJRm/6lAa+OsXFmjouCYbWC6y9H9GxXb9RaNZvLDEr52tz/a/NqBTztnZDpcZ+ZoFZAkhkXz8g4Nn8bhFmc91QNUg1SDVINcoNBbBTH3leDVINUg1SD3GCQyGKDqwKpAqkCqQL5KZC38Rs=\n"
     ]
    },
    {
     "name": "stderr",
     "output_type": "stream",
     "text": [
      "DEBUG:signalr_async.client:Raw message received: WSMessage(type=<WSMsgType.TEXT: 1>, data='{\"C\":\"d-F23263D5-B,0|Df,0|Dg,11|d,9A|p,8F2|o,8F2|a,1|Y,D|Dh,0|n,1|W,2|c,26|i,1|X,C|k,3|l,1|r,2|Z,1|s,59F\",\"M\":[{\"H\":\"Streaming\",\"M\":\"feed\",\"A\":[\"Position.z\",\"7ZRNS8NAEIb/y5wTyXzs592zgj1oxUOQHoK0lTaeSv67SbaUjdQRe95LSGAf5t03w3OCx/2x67v9DuLrCVbddnPs2+0nRKCGuG64xrBCGzlEkTsMYsSaNVRwv+sP3eYI8QQ4PZ76tv8aP+Fhtzq07x/jkWeINXKwFbxANI1UsIaI6IcKSEMwuBmpjckQ0RDyZkaowQzBRmOEMSULPmduuA2q2YT9zFh0OWPVOU2aQ2aRzauMpDns8g5I7YCYz/fJEb0CTAi5/Dqk/lE2kqKFxRxWo9F5zgJRm/6lAaeOMWFmxpeMYbWC65sjerarf9QYNZtNDEq+bfb/tTm1Ap7OTsi03BfGqxWQJMaGCzIM1d8GGTfBEGExSDFIMUgxyA0GsSzigi0GKQYpBikGucEg3omM9RWDFIMUgxSD/DTI2/AN\",\"2023-03-19T16:39:44.8744431Z\"]}]}', extra='')\n",
      "DEBUG:signalr_async.client:Raw message received: WSMessage(type=<WSMsgType.TEXT: 1>, data='{\"C\":\"d-F23263D5-B,0|Df,0|Dg,11|d,9A|p,8F3|o,8F2|a,1|Y,D|Dh,0|n,1|W,2|c,26|i,1|X,C|k,3|l,1|r,2|Z,1|s,59F\",\"M\":[{\"H\":\"Streaming\",\"M\":\"feed\",\"A\":[\"CarData.z\",\"7ZS9CsMwDITfRXMSbPkv9hr6Bu3S0iGUQAslQ5rN5N2bOHuht7SDFtkYHUh35st0GOfpMbwoXTKd5hslYsWmVqbW8ah9MjFZ2zBH40M4U0VdP63dmfRWuns/jsOzPChKqiIu1ZRqS3X7fTuWpTRAOgvqtPpeqIsQ3VDDo3p01BYNAzWH4fjR/NmgQiCOfccACg1qjkV/jnPgqB51NaDmtJg5q/QToPwKKNU6AZQASgAlgPo3QLlG+ciWrQBKACWAEkD9BFDX5Q0=\",\"2023-03-19T16:39:45.0692424Z\"]}]}', extra='')\n"
     ]
    },
    {
     "name": "stdout",
     "output_type": "stream",
     "text": [
      "Position.z 7ZRNS8NAEIb/y5wTyXzs592zgj1oxUOQHoK0lTaeSv67SbaUjdQRe95LSGAf5t03w3OCx/2x67v9DuLrCVbddnPs2+0nRKCGuG64xrBCGzlEkTsMYsSaNVRwv+sP3eYI8QQ4PZ76tv8aP+Fhtzq07x/jkWeINXKwFbxANI1UsIaI6IcKSEMwuBmpjckQ0RDyZkaowQzBRmOEMSULPmduuA2q2YT9zFh0OWPVOU2aQ2aRzauMpDns8g5I7YCYz/fJEb0CTAi5/Dqk/lE2kqKFxRxWo9F5zgJRm/6lAaeOMWFmxpeMYbWC65sjerarf9QYNZtNDEq+bfb/tTm1Ap7OTsi03BfGqxWQJMaGCzIM1d8GGTfBEGExSDFIMUgxyA0GsSzigi0GKQYpBikGucEg3omM9RWDFIMUgxSD/DTI2/AN\n",
      "CarData.z 7ZS9CsMwDITfRXMSbPkv9hr6Bu3S0iGUQAslQ5rN5N2bOHuht7SDFtkYHUh35st0GOfpMbwoXTKd5hslYsWmVqbW8ah9MjFZ2zBH40M4U0VdP63dmfRWuns/jsOzPChKqiIu1ZRqS3X7fTuWpTRAOgvqtPpeqIsQ3VDDo3p01BYNAzWH4fjR/NmgQiCOfccACg1qjkV/jnPgqB51NaDmtJg5q/QToPwKKNU6AZQASgAlgPo3QLlG+ciWrQBKACWAEkD9BFDX5Q0=\n"
     ]
    },
    {
     "name": "stderr",
     "output_type": "stream",
     "text": [
      "DEBUG:signalr_async.client:Connection keepalive\n",
      "DEBUG:signalr_async.client:Sending: message_content='{}', is_binary=False\n",
      "DEBUG:signalr_async.client:Raw message received: WSMessage(type=<WSMsgType.TEXT: 1>, data='{\"C\":\"d-F23263D5-B,0|Df,0|Dg,11|d,9A|p,8F4|o,8F2|a,1|Y,D|Dh,0|n,1|W,2|c,26|i,1|X,C|k,3|l,1|r,2|Z,1|s,59F\",\"M\":[{\"H\":\"Streaming\",\"M\":\"feed\",\"A\":[\"CarData.z\",\"7ZY/C8IwEMW/y82t5C5J82ctfgNdFIciBQXpoN1Kv7ttugu+RYdbLiHkwd174Ucm2g/j896/KJ8nOo5XyiRGbG1szenATbYpO78TScIxnKiitnsutyfitbS3bhj6RzkwlE1FUqot1ZXqt/26zHO5AOkcqGPzvZCLEJ2Q4VYbtNWIhoGaI3D8aP5iUSEQxzZjAIUWNcehL8d7sNUGdTWg5kTMnEX6CVBOEsfECigFlAJKAfV/gAomsQv6g1JAKaAUUL8B1GV+Aw==\",\"2023-03-19T16:39:45.7091477Z\"]}]}', extra='')\n",
      "DEBUG:signalr_async.client:Raw message received: WSMessage(type=<WSMsgType.TEXT: 1>, data='{\"C\":\"d-F23263D5-B,0|Df,0|Dg,11|d,9A|p,8F4|o,8F3|a,1|Y,D|Dh,0|n,1|W,2|c,26|i,1|X,C|k,3|l,1|r,2|Z,1|s,59F\",\"M\":[{\"H\":\"Streaming\",\"M\":\"feed\",\"A\":[\"Position.z\",\"7ZS9asMwFEbf5c528f2TJe2dW2iGNqVDKBlMSVISdwp+99pWCEpJb2lmLUYGHe6nT+Ic4XF36Pput4X4eoRFt1kf+tXmEyJQQ1w3XGNYoIscougdoXBAWUIF99t+360PEI+A0+epX/Vf4y88bBf71fvHuOUZYo0cXAUvELWRCpYQEf1QAVkIhnZGatUMEQshrzNCDWYINhYjjClZ8Dlzw2nQzCbsZ8ZhmzPOnNOkOaQX2bzJSJrDbd4BmR0Q8+k8OWJXgAmhNj8OmTfKKilauJjDZjQ6zblAzKZ/aaA1x2iYmXGRMWxWcP3liJ3t6o2qmtlcYlDy1+b+X1trVsDT3gmZHveZ8WYFJIlx4YwMQ/W3QXQsT9QXgxSDFIMUg9xgENcKE2oxSDFIMUgxyA0G8SoUBItBikGKQYpBfhrkbfgG\",\"2023-03-19T16:39:45.8542941Z\"]}]}', extra='')\n"
     ]
    },
    {
     "name": "stdout",
     "output_type": "stream",
     "text": [
      "CarData.z 7ZY/C8IwEMW/y82t5C5J82ctfgNdFIciBQXpoN1Kv7ttugu+RYdbLiHkwd174Ucm2g/j896/KJ8nOo5XyiRGbG1szenATbYpO78TScIxnKiitnsutyfitbS3bhj6RzkwlE1FUqot1ZXqt/26zHO5AOkcqGPzvZCLEJ2Q4VYbtNWIhoGaI3D8aP5iUSEQxzZjAIUWNcehL8d7sNUGdTWg5kTMnEX6CVBOEsfECigFlAJKAfV/gAomsQv6g1JAKaAUUL8B1GV+Aw==\n",
      "Position.z 7ZS9asMwFEbf5c528f2TJe2dW2iGNqVDKBlMSVISdwp+99pWCEpJb2lmLUYGHe6nT+Ic4XF36Pput4X4eoRFt1kf+tXmEyJQQ1w3XGNYoIscougdoXBAWUIF99t+360PEI+A0+epX/Vf4y88bBf71fvHuOUZYo0cXAUvELWRCpYQEf1QAVkIhnZGatUMEQshrzNCDWYINhYjjClZ8Dlzw2nQzCbsZ8ZhmzPOnNOkOaQX2bzJSJrDbd4BmR0Q8+k8OWJXgAmhNj8OmTfKKilauJjDZjQ6zblAzKZ/aaA1x2iYmXGRMWxWcP3liJ3t6o2qmtlcYlDy1+b+X1trVsDT3gmZHveZ8WYFJIlx4YwMQ/W3QXQsT9QXgxSDFIMUg9xgENcKE2oxSDFIMUgxyA0G8SoUBItBikGKQYpBfhrkbfgG\n"
     ]
    },
    {
     "name": "stderr",
     "output_type": "stream",
     "text": [
      "DEBUG:signalr_async.client:Raw message received: WSMessage(type=<WSMsgType.TEXT: 1>, data='{\"C\":\"d-F23263D5-B,0|Df,0|Dg,11|d,9A|p,8F5|o,8F4|a,1|Y,D|Dh,0|n,1|W,2|c,26|i,1|X,C|k,3|l,1|r,2|Z,1|s,59F\",\"M\":[{\"H\":\"Streaming\",\"M\":\"feed\",\"A\":[\"CarData.z\",\"7Ze7CsMwDEX/RXNS5PdjDf2DdmnpEEqghZIhzRby702cvdC7NIMW2RhdLF2ZA57o2I/Ds3tTvk50Hu+USbM2NZtapZPy2aRs/UHZxFGFC1XUtMOSPZFaQ/No+757lQOmzBXpEk2JtkS37ddlnksCpLOgTvHvQlWEaIcKLtWjpUZ0GKg5Gh4/MH9dhAa9ERjH1mMAhQY1x6IvxzmwVI+6GlBzImbOIv0GKMeJdYwCKAGUAEoAtT9AeZ+YnRZACaAEUAKo/QEq+piCky+eAEoAJYD6D6Bu8wc=\",\"2023-03-19T16:39:46.8689757Z\"]},{\"H\":\"Streaming\",\"M\":\"feed\",\"A\":[\"Position.z\",\"7ZRPS8NAEMW/y5wTyczO7L+7ZwVz0IqHIj0EaSptPJV8d5NsKVupI/a8l7CB/fHevB3eER53h27odj3E1yO03XZzGNbbT4hADZm6MTWGFm00IbK9Q2FiLyuo4L4f9t3mAPEIOH+ehvXwNf3CQ9/u1+8f05VniDWaYCt4gSgNV7CCiOjHCkhDMLgFqUUyhDWEvCwINZgh2GgMG0zOgs+ZG6ZB1RsbvzAWXc5YVadJOiQX3rzKcNIxLs+A1AzImNM8OaJHgAkhl49D6osa4WQtXOgY1RqddC4QNelfEnCqjISFmQ4ZY9QIrm8O696uvqiI6s0mBjnfNvv/2JwagZnvzsi83GfGqxEQJ8aGMzKO1d8NIo7RsysNUhqkNEhpkBsaxIsgUymQUiClQEqB/CyQt/Eb\",\"2023-03-19T16:39:46.855142Z\"]}]}', extra='')\n"
     ]
    },
    {
     "name": "stdout",
     "output_type": "stream",
     "text": [
      "CarData.z 7Ze7CsMwDEX/RXNS5PdjDf2DdmnpEEqghZIhzRby702cvdC7NIMW2RhdLF2ZA57o2I/Ds3tTvk50Hu+USbM2NZtapZPy2aRs/UHZxFGFC1XUtMOSPZFaQ/No+757lQOmzBXpEk2JtkS37ddlnksCpLOgTvHvQlWEaIcKLtWjpUZ0GKg5Gh4/MH9dhAa9ERjH1mMAhQY1x6IvxzmwVI+6GlBzImbOIv0GKMeJdYwCKAGUAEoAtT9AeZ+YnRZACaAEUAKo/QEq+piCky+eAEoAJYD6D6Bu8wc=\n",
      "Position.z 7ZRPS8NAEMW/y5wTyczO7L+7ZwVz0IqHIj0EaSptPJV8d5NsKVupI/a8l7CB/fHevB3eER53h27odj3E1yO03XZzGNbbT4hADZm6MTWGFm00IbK9Q2FiLyuo4L4f9t3mAPEIOH+ehvXwNf3CQ9/u1+8f05VniDWaYCt4gSgNV7CCiOjHCkhDMLgFqUUyhDWEvCwINZgh2GgMG0zOgs+ZG6ZB1RsbvzAWXc5YVadJOiQX3rzKcNIxLs+A1AzImNM8OaJHgAkhl49D6osa4WQtXOgY1RqddC4QNelfEnCqjISFmQ4ZY9QIrm8O696uvqiI6s0mBjnfNvv/2JwagZnvzsi83GfGqxEQJ8aGMzKO1d8NIo7RsysNUhqkNEhpkBsaxIsgUymQUiClQEqB/CyQt/Eb\n"
     ]
    },
    {
     "name": "stderr",
     "output_type": "stream",
     "text": [
      "DEBUG:signalr_async.client:Raw message received: WSMessage(type=<WSMsgType.TEXT: 1>, data='{\"C\":\"d-F23263D5-B,0|Df,0|Dg,11|d,9A|p,8F6|o,8F5|a,1|Y,D|Dh,0|n,1|W,2|c,26|i,1|X,C|k,3|l,1|r,2|Z,1|s,59F\",\"M\":[{\"H\":\"Streaming\",\"M\":\"feed\",\"A\":[\"CarData.z\",\"7dexCoMwEAbgd7nZlktyiUlW6Ru0S0sHKUILxaF1E9+9Gneh/9IOt5wi+TG5kw8c6dAPr0f3pnwZ6TTcKJNl63bsdiYdTcguZan3HGISL2eqqGlf8+qRzFKae9v33bM8YMpckS3VlSql+vV+uUxTWQDlBMwZ/j5oShA9oYG3GtCtRnQYaHMsPH5g/rYEHfpGYBzrGWsw6NDmCPrleA9uNaBdrdHmRKw5c3QLKMcpcYoKlAL1A6BYgVKgtoHys06RrQKlQClQCtT/AVVLiiJBgVKgFCgF6v+AWv7vLHsFSoFSoBSonwB1nT4=\",\"2023-03-19T16:39:47.9098205Z\"]},{\"H\":\"Streaming\",\"M\":\"feed\",\"A\":[\"Position.z\",\"7ZY9a8MwEIb/y8120d3pe+/cQj20KR1MyWBKkpK4k/F/r22FIJf0SjNrMTbo4V69Eg8e4PFw6vrusIf4OkDT7banvt19QgRSxLXiGkODNnKI2t2hMyowb6CC+31/7LYniAPg/Hjq2/5r+oSHfXNs3z+mJc8Qa+RgK3iBaJSuYAMR0Y8VkIRgcAtSG5MhWkLImwUhhRmCSmI0Y0oWfM7csBsUs2n2C2PR5YwV56g0h8wqmxcZneawyzsgsQNiPu8nR+QKMCHk8u2QeKJsdIoWVnNYjEbnOStEbPqXBpw4xoSFmV4yhsUKrt8cLWe7eqLGiNlsYlDnt83+vzYnVsDz2hmZL/eF8WIFpBNjwwUZx+pvg1g0iqwpBikGKQYpBrnBIG76B1GExSDFIMUgxSA3GCQEHax3xSDFIMUgxSA/DfI2fgM=\",\"2023-03-19T16:39:47.9949687Z\"]}]}', extra='')\n"
     ]
    },
    {
     "name": "stdout",
     "output_type": "stream",
     "text": [
      "CarData.z 7dexCoMwEAbgd7nZlktyiUlW6Ru0S0sHKUILxaF1E9+9Gneh/9IOt5wi+TG5kw8c6dAPr0f3pnwZ6TTcKJNl63bsdiYdTcguZan3HGISL2eqqGlf8+qRzFKae9v33bM8YMpckS3VlSql+vV+uUxTWQDlBMwZ/j5oShA9oYG3GtCtRnQYaHMsPH5g/rYEHfpGYBzrGWsw6NDmCPrleA9uNaBdrdHmRKw5c3QLKMcpcYoKlAL1A6BYgVKgtoHys06RrQKlQClQCtT/AVVLiiJBgVKgFCgF6v+AWv7vLHsFSoFSoBSonwB1nT4=\n",
      "Position.z 7ZY9a8MwEIb/y8120d3pe+/cQj20KR1MyWBKkpK4k/F/r22FIJf0SjNrMTbo4V69Eg8e4PFw6vrusIf4OkDT7banvt19QgRSxLXiGkODNnKI2t2hMyowb6CC+31/7LYniAPg/Hjq2/5r+oSHfXNs3z+mJc8Qa+RgK3iBaJSuYAMR0Y8VkIRgcAtSG5MhWkLImwUhhRmCSmI0Y0oWfM7csBsUs2n2C2PR5YwV56g0h8wqmxcZneawyzsgsQNiPu8nR+QKMCHk8u2QeKJsdIoWVnNYjEbnOStEbPqXBpw4xoSFmV4yhsUKrt8cLWe7eqLGiNlsYlDnt83+vzYnVsDz2hmZL/eF8WIFpBNjwwUZx+pvg1g0iqwpBikGKQYpBrnBIG76B1GExSDFIMUgxSA3GCQEHax3xSDFIMUgxSA/DfI2fgM=\n"
     ]
    },
    {
     "name": "stderr",
     "output_type": "stream",
     "text": [
      "DEBUG:signalr_async.client:Raw message received: WSMessage(type=<WSMsgType.TEXT: 1>, data='{\"C\":\"d-F23263D5-B,0|Df,0|Dg,11|d,9B|p,8F6|o,8F5|a,1|Y,D|Dh,0|n,1|W,2|c,26|i,1|X,C|k,3|l,1|r,2|Z,1|s,59F\",\"M\":[{\"H\":\"Streaming\",\"M\":\"feed\",\"A\":[\"Heartbeat\",{\"Utc\":\"2023-03-19T16:39:50.7969953Z\",\"_kf\":true},\"2023-03-19T16:39:50.149Z\"]}]}', extra='')\n"
     ]
    },
    {
     "name": "stdout",
     "output_type": "stream",
     "text": [
      "Heartbeat {'Utc': '2023-03-19T16:39:50.7969953Z', '_kf': True}\n"
     ]
    },
    {
     "name": "stderr",
     "output_type": "stream",
     "text": [
      "DEBUG:signalr_async.client:Raw message received: WSMessage(type=<WSMsgType.TEXT: 1>, data='{\"C\":\"d-F23263D5-B,0|Df,0|Dg,11|d,9B|p,8F7|o,8F6|a,1|Y,D|Dh,0|n,1|W,2|c,26|i,1|X,C|k,3|l,1|r,2|Z,1|s,59F\",\"M\":[{\"H\":\"Streaming\",\"M\":\"feed\",\"A\":[\"CarData.z\",\"7ZYxC4MwEIX/y81acsmZmKzSf9AuLR2kCC0UB+sm/vdq3At9Sx1uuYSQB3fvhY9MdOzH4dm9KV0nOo93SmSNdaVxJccT++RikvrAEkMtcqGCmnZYbk/Ea2kebd93r3xgKJmCbK4uV8m12vbrMs/5AqQTUMfmdyFnITohw616tNUaDQM1x8Lxo/lbhwqBOLYZAyh0qDmCvpyqAlv1qKsBNafGzFmk3wAlNgZxyiflk/JJ+bQ/PvmFT+z0A6WAUkApoHYIqGiiD1wpoBRQCigF1F8AdZs/\",\"2023-03-19T16:39:48.9096715Z\"]},{\"H\":\"Streaming\",\"M\":\"feed\",\"A\":[\"Position.z\",\"7ZY9a8MwEIb/y8120J1On3vnFuqhTekQSgZT4pTEnYL/e20rBLmkV5JZi7FBD/fqlXjwCZ72x7Zv9x3EtxM07W577De7L4hAinStdI2hQRt1iOxX5DiQxTVU8ND1h3Z7hHgCnB7P/ab/Hj/hsWsOm4/PcckLxBp1sBW8QjSKK1hDRPRDBSQhGNyM1MZkCEsIeTMjpDBDUEkMa0zJgs+ZO3aDYjbWfmYsupyx4hyV5pBZZPMiw2mOdnkHJHZAWp/3kyNyBZgQcvl2SDxRbThFC4s5WoxG5zkLRGz6jwacOMaEmRlfMkaLFVy/OSxnu3qixojZbGKQ89tmb6/NiRXoae2ETJf7wnixAuLE2HBBhqH63yBs2Afvi0GKQYpBikHuMIgL7NmVf5BikGKQYpDbDRJWavwHUc4WgxSDFIMUg/w2yPvwAw==\",\"2023-03-19T16:39:49.0548076Z\"]}]}', extra='')\n"
     ]
    },
    {
     "name": "stdout",
     "output_type": "stream",
     "text": [
      "CarData.z 7ZYxC4MwEIX/y81acsmZmKzSf9AuLR2kCC0UB+sm/vdq3At9Sx1uuYSQB3fvhY9MdOzH4dm9KV0nOo93SmSNdaVxJccT++RikvrAEkMtcqGCmnZYbk/Ea2kebd93r3xgKJmCbK4uV8m12vbrMs/5AqQTUMfmdyFnITohw616tNUaDQM1x8Lxo/lbhwqBOLYZAyh0qDmCvpyqAlv1qKsBNafGzFmk3wAlNgZxyiflk/JJ+bQ/PvmFT+z0A6WAUkApoHYIqGiiD1wpoBRQCigF1F8AdZs/\n",
      "Position.z 7ZY9a8MwEIb/y8120J1On3vnFuqhTekQSgZT4pTEnYL/e20rBLmkV5JZi7FBD/fqlXjwCZ72x7Zv9x3EtxM07W577De7L4hAinStdI2hQRt1iOxX5DiQxTVU8ND1h3Z7hHgCnB7P/ab/Hj/hsWsOm4/PcckLxBp1sBW8QjSKK1hDRPRDBSQhGNyM1MZkCEsIeTMjpDBDUEkMa0zJgs+ZO3aDYjbWfmYsupyx4hyV5pBZZPMiw2mOdnkHJHZAWp/3kyNyBZgQcvl2SDxRbThFC4s5WoxG5zkLRGz6jwacOMaEmRlfMkaLFVy/OSxnu3qixojZbGKQ89tmb6/NiRXoae2ETJf7wnixAuLE2HBBhqH63yBs2Afvi0GKQYpBikHuMIgL7NmVf5BikGKQYpDbDRJWavwHUc4WgxSDFIMUg/w2yPvwAw==\n"
     ]
    },
    {
     "name": "stderr",
     "output_type": "stream",
     "text": [
      "DEBUG:signalr_async.client:Raw message received: WSMessage(type=<WSMsgType.TEXT: 1>, data='{\"C\":\"d-F23263D5-B,0|Df,0|Dg,11|d,9B|p,8F8|o,8F7|a,1|Y,D|Dh,0|n,1|W,2|c,26|i,1|X,C|k,3|l,1|r,2|Z,1|s,59F\",\"M\":[{\"H\":\"Streaming\",\"M\":\"feed\",\"A\":[\"CarData.z\",\"7dTBigIxDAbgd8lZpWmatulVfIPdyy4eRASFZQ6ut2He3bHelf0XwUMumWHoD2kyfCNthsv5dPil9j3S52VPjWKIsgyyZPvg3MRaslXMlrnYFy1ovTvPp0fiW1kfd8Nw+OkfArWwoNir9Jp61fv77TFN/QCUS2COw9+D3IPoDRluNaOtVnQZ6HAivH50/1HQILCO+x0LGBR0OAn9c1TBVjM61YIOp2LDmaOPgErZtFZ1oBwoB8qBej+gSjBViQ6UA+VAOVDvB5QlUy7JgXKgXgEUa3Kj3Kh/GKVhxWFWStwoN+olRkWV6ka5Uc+M2k5X\",\"2023-03-19T16:39:50.1094934Z\"]},{\"H\":\"Streaming\",\"M\":\"feed\",\"A\":[\"Position.z\",\"7ZQ9a8MwFEX/y5vtovehz71zC83QpnQIJYMpSUriTsH/vbYVglLSV5pZi5FBh3d1Jc4RHneHru92W0ivR1h0m/WhX20+IQEZ4tZwi3GBLnFMEu+IxQdDS2jgftvvu/UB0hFw+jz1q/5r/IWH7WK/ev8YtzxDapGja+AFkjXSwBISYhgaIA3B6GektbZAREMo2BkhgwWCRmOEMSeLoWRuOA2q2YTDzDj0JePUOSbPIXuRLaiM5Dnsyw5I7YCYT+cpEb0CzAj58jik3ihbydHixRxWo9FpzgWiNv1LA14dY+PMjIuCYbWC6y9H9GxXb9RaNZvLDEr52tz/a/NqBTztnZDpcZ+ZoFZAkhkXz8gwNH8bREaD2OqP6o/qj+qPG/zhrHj0VSBVIFUgVSA3CCSyOC+hGqQapBqkGuSnQd6Gbw==\",\"2023-03-19T16:39:49.9346748Z\"]}]}', extra='')\n"
     ]
    },
    {
     "name": "stdout",
     "output_type": "stream",
     "text": [
      "CarData.z 7dTBigIxDAbgd8lZpWmatulVfIPdyy4eRASFZQ6ut2He3bHelf0XwUMumWHoD2kyfCNthsv5dPil9j3S52VPjWKIsgyyZPvg3MRaslXMlrnYFy1ovTvPp0fiW1kfd8Nw+OkfArWwoNir9Jp61fv77TFN/QCUS2COw9+D3IPoDRluNaOtVnQZ6HAivH50/1HQILCO+x0LGBR0OAn9c1TBVjM61YIOp2LDmaOPgErZtFZ1oBwoB8qBej+gSjBViQ6UA+VAOVDvB5QlUy7JgXKgXgEUa3Kj3Kh/GKVhxWFWStwoN+olRkWV6ka5Uc+M2k5X\n",
      "Position.z 7ZQ9a8MwFEX/y5vtovehz71zC83QpnQIJYMpSUriTsH/vbYVglLSV5pZi5FBh3d1Jc4RHneHru92W0ivR1h0m/WhX20+IQEZ4tZwi3GBLnFMEu+IxQdDS2jgftvvu/UB0hFw+jz1q/5r/IWH7WK/ev8YtzxDapGja+AFkjXSwBISYhgaIA3B6GektbZAREMo2BkhgwWCRmOEMSeLoWRuOA2q2YTDzDj0JePUOSbPIXuRLaiM5Dnsyw5I7YCYT+cpEb0CzAj58jik3ihbydHixRxWo9FpzgWiNv1LA14dY+PMjIuCYbWC6y9H9GxXb9RaNZvLDEr52tz/a/NqBTztnZDpcZ+ZoFZAkhkXz8gwNH8bREaD2OqP6o/qj+qPG/zhrHj0VSBVIFUgVSA3CCSyOC+hGqQapBqkGuSnQd6Gbw==\n"
     ]
    },
    {
     "name": "stderr",
     "output_type": "stream",
     "text": [
      "DEBUG:signalr_async.client:Connection keepalive\n",
      "DEBUG:signalr_async.client:Sending: message_content='{}', is_binary=False\n",
      "DEBUG:signalr_async.client:Raw message received: WSMessage(type=<WSMsgType.TEXT: 1>, data='{\"C\":\"d-F23263D5-B,0|Df,0|Dg,11|d,9B|p,8F9|o,8F8|a,1|Y,D|Dh,0|n,1|W,2|c,26|i,1|X,C|k,3|l,1|r,2|Z,1|s,59F\",\"M\":[{\"H\":\"Streaming\",\"M\":\"feed\",\"A\":[\"CarData.z\",\"7ZTNCsIwEITfZc+tbP67uRbfQC+KhyIFBelBeyt9d9v0KlZHvOWyCSFDdmfCN9C26+/X9kHxONC+P1MkzdqUbEolO+Wjkeh4o71YL+FABdXNfbo9kJpLfWm6rr2lA6bIBelUTao2Vbfs52Uc0wVIZ0Gd4u+FKgnRCRXcqkdbrdAwUHM0HP+r/LUL/hOtQR8FElnGDKDQoP5Y9PM4B7bqUVcDak6FmTNJ3zEqsFi2PjMqM+o/jBKTGZUZ9ROjhMUE6zKjVoQ6MwpilA+ZUZlRq4w6jU8=\",\"2023-03-19T16:39:50.9093745Z\"]},{\"H\":\"Streaming\",\"M\":\"feed\",\"A\":[\"Position.z\",\"7ZQ/S8RAEMW/y9SJ7Mzs//5qBVPoiUWQK4JcTi6xCvnuJtnj2Mg5onWasIH98d68Hd4AD6eu6ZtTC/FlgKo5Hrq+Pn5ABFLEpeISQ4U2cohG3VHQlhTuoYBd25+bQwdxAJw/j33df06/cN9W5/rtfbryBLFEDraAZ5hoXcAeIqIfCyAJweAWpDQmQ7SEkDcLMpnLEFQSoxmTs+Bz5h/ToOhNs18Yiy5nrKijkg6ZlTcvMjrpsMszIDEDYr7MkyNyBJgQcvk4JL4oG52shZUOi9boorNCxKR/SMCJMiYszHTIGBYjuL05WvZ280WNEb3ZxKDOt83+PTYnRsDz3RmZl/vKeDEC0omx4YqMY/F7gzijjVG0NcjWIFuDbA3yvUFexy8=\",\"2023-03-19T16:39:50.7545502Z\"]}]}', extra='')\n"
     ]
    },
    {
     "name": "stdout",
     "output_type": "stream",
     "text": [
      "CarData.z 7ZTNCsIwEITfZc+tbP67uRbfQC+KhyIFBelBeyt9d9v0KlZHvOWyCSFDdmfCN9C26+/X9kHxONC+P1MkzdqUbEolO+Wjkeh4o71YL+FABdXNfbo9kJpLfWm6rr2lA6bIBelUTao2Vbfs52Uc0wVIZ0Gd4u+FKgnRCRXcqkdbrdAwUHM0HP+r/LUL/hOtQR8FElnGDKDQoP5Y9PM4B7bqUVcDak6FmTNJ3zEqsFi2PjMqM+o/jBKTGZUZ9ROjhMUE6zKjVoQ6MwpilA+ZUZlRq4w6jU8=\n",
      "Position.z 7ZQ/S8RAEMW/y9SJ7Mzs//5qBVPoiUWQK4JcTi6xCvnuJtnj2Mg5onWasIH98d68Hd4AD6eu6ZtTC/FlgKo5Hrq+Pn5ABFLEpeISQ4U2cohG3VHQlhTuoYBd25+bQwdxAJw/j33df06/cN9W5/rtfbryBLFEDraAZ5hoXcAeIqIfCyAJweAWpDQmQ7SEkDcLMpnLEFQSoxmTs+Bz5h/ToOhNs18Yiy5nrKijkg6ZlTcvMjrpsMszIDEDYr7MkyNyBJgQcvk4JL4oG52shZUOi9boorNCxKR/SMCJMiYszHTIGBYjuL05WvZ280WNEb3ZxKDOt83+PTYnRsDz3RmZl/vKeDEC0omx4YqMY/F7gzijjVG0NcjWIFuDbA3yvUFexy8=\n"
     ]
    },
    {
     "name": "stderr",
     "output_type": "stream",
     "text": [
      "DEBUG:signalr_async.client:Raw message received: WSMessage(type=<WSMsgType.TEXT: 1>, data='{\"C\":\"d-F23263D5-B,0|Df,0|Dg,11|d,9B|p,8FA|o,8F9|a,1|Y,D|Dh,0|n,1|W,2|c,26|i,1|X,C|k,3|l,1|r,2|Z,1|s,59F\",\"M\":[{\"H\":\"Streaming\",\"M\":\"feed\",\"A\":[\"CarData.z\",\"7dWxjsIwDAbgd/EMyLHrNMmKeIO7BXQDOiGBdOrAsVV9d9p0Rdzxo25e3KrKryZ29bWnXXe7Xk6/VA49fd6+qZCw6Jp1HfJHiEVzsbDhmNVY97Si7fE6ru4pTGV7Pnbd6ac+YCq8IqlVa21qtfl+ugxDXQDlGjAX+PVgqEHghFKD8FYjutWEDgNtjsDjfzR/sSb+J6voS4GJzMdswaCi/WnQj8cM3GpEu9qizUlYc8boM6M0ZWXJbpQbtYhR4y/QjXKj3jKq5Sxm5ka5UYsYldncKDfqLaNSzKLBjXKjFjFKNSY3yo36y6iv4Q4=\",\"2023-03-19T16:39:51.8692315Z\"]},{\"H\":\"Streaming\",\"M\":\"feed\",\"A\":[\"Position.z\",\"7ZRNS8NAEIb/y5xTyczO7Nfds4I9aMVDkR6CtJU2nkr+u/koZSt1xJznEhLYh3n33c1zgsf9sWmb/Q7y6wmWzXZzbNfbT8hANblF7RaYluizS1nwrhaWmv0KKrjftYdmc4R8AhweT+26/eo/4WG3PKzfP/olz5AX6JKv4AVyz1WwgowYuwpIQzCFEVmIFAhrCEUZEaqxQLDWGHY4JUuxZGbsBtVs7OLIeAwl49U59TSH5CpbVBme5rhQdkBqB+TceT8loleAE0Kh3A6pJ+qEp2jpao5To9F5zhWiNv1LA0EdI2lk+peCcWoFt28O69lunqiIms1PDHJ52/z/awtqBW5YOyDD5b4wUa2AeGJ8uiBdV/1tEErMPqIZxAxiBjGDzDCIBGYSMYOYQcwgZpAZBgnCLkUyg5hBzCBmkBkGSYld/yOYQcwgZhAzyE+DvHXf\",\"2023-03-19T16:39:51.9943617Z\"]}]}', extra='')\n"
     ]
    },
    {
     "name": "stdout",
     "output_type": "stream",
     "text": [
      "CarData.z 7dWxjsIwDAbgd/EMyLHrNMmKeIO7BXQDOiGBdOrAsVV9d9p0Rdzxo25e3KrKryZ29bWnXXe7Xk6/VA49fd6+qZCw6Jp1HfJHiEVzsbDhmNVY97Si7fE6ru4pTGV7Pnbd6ac+YCq8IqlVa21qtfl+ugxDXQDlGjAX+PVgqEHghFKD8FYjutWEDgNtjsDjfzR/sSb+J6voS4GJzMdswaCi/WnQj8cM3GpEu9qizUlYc8boM6M0ZWXJbpQbtYhR4y/QjXKj3jKq5Sxm5ka5UYsYldncKDfqLaNSzKLBjXKjFjFKNSY3yo36y6iv4Q4=\n",
      "Position.z 7ZRNS8NAEIb/y5xTyczO7Nfds4I9aMVDkR6CtJU2nkr+u/koZSt1xJznEhLYh3n33c1zgsf9sWmb/Q7y6wmWzXZzbNfbT8hANblF7RaYluizS1nwrhaWmv0KKrjftYdmc4R8AhweT+26/eo/4WG3PKzfP/olz5AX6JKv4AVyz1WwgowYuwpIQzCFEVmIFAhrCEUZEaqxQLDWGHY4JUuxZGbsBtVs7OLIeAwl49U59TSH5CpbVBme5rhQdkBqB+TceT8loleAE0Kh3A6pJ+qEp2jpao5To9F5zhWiNv1LA0EdI2lk+peCcWoFt28O69lunqiIms1PDHJ52/z/awtqBW5YOyDD5b4wUa2AeGJ8uiBdV/1tEErMPqIZxAxiBjGDzDCIBGYSMYOYQcwgZpAZBgnCLkUyg5hBzCBmkBkGSYld/yOYQcwgZhAzyE+DvHXf\n"
     ]
    },
    {
     "name": "stderr",
     "output_type": "stream",
     "text": [
      "DEBUG:signalr_async.client:Raw message received: WSMessage(type=<WSMsgType.TEXT: 1>, data='{}', extra='')\n",
      "DEBUG:signalr_async.client:Raw message received: WSMessage(type=<WSMsgType.TEXT: 1>, data='{\"C\":\"d-F23263D5-B,0|Df,0|Dg,11|d,9B|p,8FB|o,8FA|a,1|Y,D|Dh,0|n,1|W,2|c,26|i,1|X,C|k,3|l,1|r,2|Z,1|s,59F\",\"M\":[{\"H\":\"Streaming\",\"M\":\"feed\",\"A\":[\"CarData.z\",\"7dS/igIxEAbwd5laZSaTZJO0cm9w1ygWIoKCbKF2y777rbG8wz+fbKPTzC4hH0km4dfRV3s+7rcnKsuOfs4bKuTY6ZR1KvlbYtFcgpuJz5JyWNCE5uvjMLsjuZT5bt2220MdYCo8IVer1uprDdf/y6fv64Q/OUn6SNSDSwo/H5QaBA7pahDeakS3mtD7QJvj4Bfw3xPwGtIjWUUXBW7keswGDCraH48+nhDArUa0qw3anIQ1Z4jeYkoHpiLLeEyxGlMfzpQ0xpQx9RJTMWYRHY+pJmRj6rOZkijGlDH1AlM6Y5c5ZDciU/5dmGJjCmKKkzFlTN1latX/Ag==\",\"2023-03-19T16:39:53.0290592Z\"]},{\"H\":\"Streaming\",\"M\":\"feed\",\"A\":[\"Position.z\",\"7ZY/a4RAEMW/y9QanJn936dOIBbJhRQSrpBwXjhNJX73qHsca7hMyNXbiML+eG/eDg9HeDz27dAeOwivI9TtYd8PzeETAlBFXFZcoq/RBPZB0x2xYtK0gwLuu+HU7nsII+DyeBqa4Wv+hIeuPjXvH/ORZwglsjcFvEDQlSpgBwHRTQWQhKC3K1JqnSBKQsjpFaEKEwQriVGM0Zl3KXPDNCh6U+xWxqBNGSPqVFGH9MabExkVddimGZCYATGf50kROQKMCNl0HBJvlLWK1vxGh0VrdNbZIGLSvyRgRRntV2Z+SRgWI7i+OUr2dvVGtRa9mcigSrfN/D82K0bAy9kFWZb7wjgxAlKRMf6CTFPxd4NoVOTI5gbJDZIbJDfIDQ3iWM2/IblAcoHkAskF8rNA3qZv\",\"2023-03-19T16:39:52.834234Z\"]}]}', extra='')\n"
     ]
    },
    {
     "name": "stdout",
     "output_type": "stream",
     "text": [
      "CarData.z 7dS/igIxEAbwd5laZSaTZJO0cm9w1ygWIoKCbKF2y777rbG8wz+fbKPTzC4hH0km4dfRV3s+7rcnKsuOfs4bKuTY6ZR1KvlbYtFcgpuJz5JyWNCE5uvjMLsjuZT5bt2220MdYCo8IVer1uprDdf/y6fv64Q/OUn6SNSDSwo/H5QaBA7pahDeakS3mtD7QJvj4Bfw3xPwGtIjWUUXBW7keswGDCraH48+nhDArUa0qw3anIQ1Z4jeYkoHpiLLeEyxGlMfzpQ0xpQx9RJTMWYRHY+pJmRj6rOZkijGlDH1AlM6Y5c5ZDciU/5dmGJjCmKKkzFlTN1latX/Ag==\n",
      "Position.z 7ZY/a4RAEMW/y9QanJn936dOIBbJhRQSrpBwXjhNJX73qHsca7hMyNXbiML+eG/eDg9HeDz27dAeOwivI9TtYd8PzeETAlBFXFZcoq/RBPZB0x2xYtK0gwLuu+HU7nsII+DyeBqa4Wv+hIeuPjXvH/ORZwglsjcFvEDQlSpgBwHRTQWQhKC3K1JqnSBKQsjpFaEKEwQriVGM0Zl3KXPDNCh6U+xWxqBNGSPqVFGH9MabExkVddimGZCYATGf50kROQKMCNl0HBJvlLWK1vxGh0VrdNbZIGLSvyRgRRntV2Z+SRgWI7i+OUr2dvVGtRa9mcigSrfN/D82K0bAy9kFWZb7wjgxAlKRMf6CTFPxd4NoVOTI5gbJDZIbJDfIDQ3iWM2/IblAcoHkAskF8rNA3qZv\n"
     ]
    },
    {
     "name": "stderr",
     "output_type": "stream",
     "text": [
      "DEBUG:signalr_async.client:Raw message received: WSMessage(type=<WSMsgType.TEXT: 1>, data='{\"C\":\"d-F23263D5-B,0|Df,0|Dg,11|d,9B|p,8FC|o,8FB|a,1|Y,D|Dh,0|n,1|W,2|c,26|i,1|X,C|k,3|l,1|r,2|Z,1|s,59F\",\"M\":[{\"H\":\"Streaming\",\"M\":\"feed\",\"A\":[\"CarData.z\",\"7ZexCgIxDIbfJbNKk7RN01V8A10UBxFBQW5Qt+PeXa2jImfkpuuSlpKfpH/DB21h0dwup8MV8qaF1W0PGcgRTx1PUZcYM2sOPPOka5jAfHd5ZLaAzzA/7prmcC4HDrKbAJXIJfoSw2v/XLquJLzpUCj0kHpjSXS/C7EIrZdEc6vR2mqyvofVHDJPwKcRYHXSR8vWooYXeV1TjEK2+uOtwxOCsdVodVWs5iSbOQ/pN0SFlFQiD4cp1IqpcWNKpGKqYuo/TIlXDRSGw5RLFVPjxlQiqpiqmPoLU5pUMdJQmCLy9dM3ckwJ99JWTI0bU9vuDg==\",\"2023-03-19T16:39:53.9899162Z\"]},{\"H\":\"Streaming\",\"M\":\"feed\",\"A\":[\"Position.z\",\"7ZY9a8MwEIb/y8120Ol01sfeuYVmaFM6hJLBlDglcafg/17bCkGh6ZVkvsXYoId79Uo8+AhPu0Pbt7sO0tsRlu12c+jX2y9IYI2l2lCNcYlNopiYFogOI/IKKnjo+n27OUA6Ak6P537df4+f8Ngt9+uPz3HJC6QaKTYVvEJi4ypYQUIMQwVWQjD6GamZC8RJiA08I9ZggaCRGEeYk8VQMnfsBsVsjsLMNOhLphHnmDzH8kW2IDIuzyFfdmDFDizRaT8lIleAGbG+3I4VT5TY5WjxYg6J0expzgUiNv1HA14cw3FmxpeCIbGC6zfHydmuniizmK3JDLrytjW31+bFCmhaOyHT5T4zQazAusw08YwMQ/W/QYgZ2QU1iBpEDaIGucMgHHlcS2oQNYgaRA1yh0F8ZBN8VIOoQdQgapCbDeIWZjSIs/oPogZRg6hBfhnkffgB\",\"2023-03-19T16:39:54.0950423Z\"]}]}', extra='')\n"
     ]
    },
    {
     "name": "stdout",
     "output_type": "stream",
     "text": [
      "CarData.z 7ZexCgIxDIbfJbNKk7RN01V8A10UBxFBQW5Qt+PeXa2jImfkpuuSlpKfpH/DB21h0dwup8MV8qaF1W0PGcgRTx1PUZcYM2sOPPOka5jAfHd5ZLaAzzA/7prmcC4HDrKbAJXIJfoSw2v/XLquJLzpUCj0kHpjSXS/C7EIrZdEc6vR2mqyvofVHDJPwKcRYHXSR8vWooYXeV1TjEK2+uOtwxOCsdVodVWs5iSbOQ/pN0SFlFQiD4cp1IqpcWNKpGKqYuo/TIlXDRSGw5RLFVPjxlQiqpiqmPoLU5pUMdJQmCLy9dM3ckwJ99JWTI0bU9vuDg==\n",
      "Position.z 7ZY9a8MwEIb/y8120Ol01sfeuYVmaFM6hJLBlDglcafg/17bCkGh6ZVkvsXYoId79Uo8+AhPu0Pbt7sO0tsRlu12c+jX2y9IYI2l2lCNcYlNopiYFogOI/IKKnjo+n27OUA6Ak6P537df4+f8Ngt9+uPz3HJC6QaKTYVvEJi4ypYQUIMQwVWQjD6GamZC8RJiA08I9ZggaCRGEeYk8VQMnfsBsVsjsLMNOhLphHnmDzH8kW2IDIuzyFfdmDFDizRaT8lIleAGbG+3I4VT5TY5WjxYg6J0expzgUiNv1HA14cw3FmxpeCIbGC6zfHydmuniizmK3JDLrytjW31+bFCmhaOyHT5T4zQazAusw08YwMQ/W/QYgZ2QU1iBpEDaIGucMgHHlcS2oQNYgaRA1yh0F8ZBN8VIOoQdQgapCbDeIWZjSIs/oPogZRg6hBfhnkffgB\n"
     ]
    },
    {
     "name": "stderr",
     "output_type": "stream",
     "text": [
      "DEBUG:signalr_async.client:Raw message received: WSMessage(type=<WSMsgType.TEXT: 1>, data='{\"C\":\"d-F23263D5-B,0|Df,0|Dg,11|d,9B|p,8FD|o,8FC|a,1|Y,D|Dh,0|n,1|W,2|c,26|i,1|X,C|k,3|l,1|r,2|Z,1|s,59F\",\"M\":[{\"H\":\"Streaming\",\"M\":\"feed\",\"A\":[\"CarData.z\",\"7VTLCsIwEPyXPVdJNtm8rsU/0IvioUhBQXrQ3kr/3ZoeVagDPYi9TELYIbuzw3S0adrbpb5TOnS0a0+UiBWblTIrHbfaJROT2DVzDEHZPRVUVrehuiP9hPJcNU19zQ+KkiqIM5qMNqOM9+fR97nghWciywSqBb/U6nuizkR0SA236tBWA7oPVByGHfDWAi5MsQAb9FNgI+OYHiQaVB+LmkcEbNWhqnpUnICJM1A/x5SslYtehOeLqcA/E1MclqCaJajET+IuQfXfQXXsHw==\",\"2023-03-19T16:39:55.0697552Z\"]},{\"H\":\"Streaming\",\"M\":\"feed\",\"A\":[\"Position.z\",\"7ZQ/S8RAEMW/y9SJ7Mzs//5qBVPoiUWQK4JcTi6xCvnuJtnj2Mg5onWasIH98d68Hd4AD6eu6ZtTC/FlgKo5Hrq+Pn5ABFLEpeISQ4U2cohG3xEbRYh7KGDX9ufm0EEcAOfPY1/3n9Mv3LfVuX57n648QSyRgy3gGaJRuoA9REQ/FkASgsEtSGlMhmgJIW8WhBRmCCqJ0YzJWfA5849pUPSm2S+MRZczVtRRSYfMypsXGZ102OUZkJgBMV/myRE5AkwIuXwcEl+UjU7WwkqHRWt00VkhYtI/JOBEGRMWZjpkDIsR3N4cLXu7+aLGiN5sYlDn22b/HpsTI+D57ozMy31lvBgB6cTYcEXGsfi9QQLqgM5tDbI1yNYgW4N8b5DX8Qs=\",\"2023-03-19T16:39:54.9149177Z\"]}]}', extra='')\n"
     ]
    },
    {
     "name": "stdout",
     "output_type": "stream",
     "text": [
      "CarData.z 7VTLCsIwEPyXPVdJNtm8rsU/0IvioUhBQXrQ3kr/3ZoeVagDPYi9TELYIbuzw3S0adrbpb5TOnS0a0+UiBWblTIrHbfaJROT2DVzDEHZPRVUVrehuiP9hPJcNU19zQ+KkiqIM5qMNqOM9+fR97nghWciywSqBb/U6nuizkR0SA236tBWA7oPVByGHfDWAi5MsQAb9FNgI+OYHiQaVB+LmkcEbNWhqnpUnICJM1A/x5SslYtehOeLqcA/E1MclqCaJajET+IuQfXfQXXsHw==\n",
      "Position.z 7ZQ/S8RAEMW/y9SJ7Mzs//5qBVPoiUWQK4JcTi6xCvnuJtnj2Mg5onWasIH98d68Hd4AD6eu6ZtTC/FlgKo5Hrq+Pn5ABFLEpeISQ4U2cohG3xEbRYh7KGDX9ufm0EEcAOfPY1/3n9Mv3LfVuX57n648QSyRgy3gGaJRuoA9REQ/FkASgsEtSGlMhmgJIW8WhBRmCCqJ0YzJWfA5849pUPSm2S+MRZczVtRRSYfMypsXGZ102OUZkJgBMV/myRE5AkwIuXwcEl+UjU7WwkqHRWt00VkhYtI/JOBEGRMWZjpkDIsR3N4cLXu7+aLGiN5sYlDn22b/HpsTI+D57ozMy31lvBgB6cTYcEXGsfi9QQLqgM5tDbI1yNYgW4N8b5DX8Qs=\n"
     ]
    },
    {
     "name": "stderr",
     "output_type": "stream",
     "text": [
      "DEBUG:signalr_async.client:Connection keepalive\n",
      "DEBUG:signalr_async.client:Sending: message_content='{}', is_binary=False\n",
      "DEBUG:signalr_async.client:Raw message received: WSMessage(type=<WSMsgType.TEXT: 1>, data='{\"C\":\"d-F23263D5-B,0|Df,0|Dg,11|d,9B|p,8FE|o,8FD|a,1|Y,D|Dh,0|n,1|W,2|c,26|i,1|X,C|k,3|l,1|r,2|Z,1|s,59F\",\"M\":[{\"H\":\"Streaming\",\"M\":\"feed\",\"A\":[\"CarData.z\",\"7ZbLikIxDIbfJWuVXJr0shXfQDcOLmQQZmA4C8fd4by7WpfqeCZwFkI3aSn9SfI3fLSHVXc6fh9+oXz0sDl9QgFGljnKnPKarEguqgtJOWKiLcxguT9ebvdA17D82nfd4aceIBScAdcoNYYa9ba/LsNQL9zpJJqOkAZnSsL/C6kKHzXJyqOSuqs1b7XJ+yRef9g9BA+ngHMcoxVvUseL3NqMTqF4/Qne4VF1lmpeV6PXnOQz5yL9i1QRsxlNR6rE6X1IZZobqaYglaQxU9BI1Uj1jFS2QM5GMuGfCvl9SKU5NFJNQapA1EjVSPWKVLvhDA==\",\"2023-03-19T16:39:56.0296131Z\"]},{\"H\":\"Streaming\",\"M\":\"feed\",\"A\":[\"Position.z\",\"7ZQ9a8MwEIb/y8120N3p9LV3bqEZ2pQOoWQwJUlJ3Cn4vze2QlBKeiWZtRgZ9HCvXonnAE/bfdd32w2ktwPMu/Vq3y/XX5CADHFruMU4R5c4JpEZsQ0u4gIaeNj0u261h3QAHD/P/bL/Pv7C42a+W358Hre8QGqRo2vgFZIY28ACEmIYGiANwegnpBUpEKshFGRCyGCBoNEYy5iTxVAyd5wG1WyWw8Q49CXj1DkmzyG5yBZUxuY57MsOSO2AmE/nKRG9AswI+fI4pN4oi83R4sUcVqPRac4Fojb9RwNeHSNxYo6LgmG1gusvx+rZrt6oiJrNZQZt+drc7bV5tQIe947I+LjPTFArIJsZF8/IMDT/G8SKDSyuGqQapBqkGuQOgzhvgyGqBqkGqQapBrnZIG5m0HoxUg1SDVINUg3y2yDvww8=\",\"2023-03-19T16:39:56.0147505Z\"]}]}', extra='')\n"
     ]
    },
    {
     "name": "stdout",
     "output_type": "stream",
     "text": [
      "CarData.z 7ZbLikIxDIbfJWuVXJr0shXfQDcOLmQQZmA4C8fd4by7WpfqeCZwFkI3aSn9SfI3fLSHVXc6fh9+oXz0sDl9QgFGljnKnPKarEguqgtJOWKiLcxguT9ebvdA17D82nfd4aceIBScAdcoNYYa9ba/LsNQL9zpJJqOkAZnSsL/C6kKHzXJyqOSuqs1b7XJ+yRef9g9BA+ngHMcoxVvUseL3NqMTqF4/Qne4VF1lmpeV6PXnOQz5yL9i1QRsxlNR6rE6X1IZZobqaYglaQxU9BI1Uj1jFS2QM5GMuGfCvl9SKU5NFJNQapA1EjVSPWKVLvhDA==\n",
      "Position.z 7ZQ9a8MwEIb/y8120N3p9LV3bqEZ2pQOoWQwJUlJ3Cn4vze2QlBKeiWZtRgZ9HCvXonnAE/bfdd32w2ktwPMu/Vq3y/XX5CADHFruMU4R5c4JpEZsQ0u4gIaeNj0u261h3QAHD/P/bL/Pv7C42a+W358Hre8QGqRo2vgFZIY28ACEmIYGiANwegnpBUpEKshFGRCyGCBoNEYy5iTxVAyd5wG1WyWw8Q49CXj1DkmzyG5yBZUxuY57MsOSO2AmE/nKRG9AswI+fI4pN4oi83R4sUcVqPRac4Fojb9RwNeHSNxYo6LgmG1gusvx+rZrt6oiJrNZQZt+drc7bV5tQIe947I+LjPTFArIJsZF8/IMDT/G8SKDSyuGqQapBqkGuQOgzhvgyGqBqkGqQapBrnZIG5m0HoxUg1SDVINUg3y2yDvww8=\n"
     ]
    },
    {
     "name": "stderr",
     "output_type": "stream",
     "text": [
      "DEBUG:signalr_async.client:Raw message received: WSMessage(type=<WSMsgType.TEXT: 1>, data='{\"C\":\"d-F23263D5-B,0|Df,0|Dg,11|d,9B|p,8FF|o,8FE|a,1|Y,D|Dh,0|n,1|W,2|c,26|i,1|X,C|k,3|l,1|r,2|Z,1|s,59F\",\"M\":[{\"H\":\"Streaming\",\"M\":\"feed\",\"A\":[\"CarData.z\",\"7ZbPCsIwDMbfJWeVtmnSP9fhG+hF8SAiKMgOutvYu7t1R0VqZKDYSzZGP5J+Cb+lhWXdXM/HG8RtC+vmABGMMjhXONdhpTliiMQLUoGs2cAMqv21P9yCHkJ12tf18ZI+KIhqBiZFTNGmSOP78Oi6dOBBh55DhtQKU2r1vlAn4bNLGiaTk1RcLUur9dKWSP0x4iF4OgWIPkeL0qSCjozXdEIhSv2x0uEhEpbKUled1BwvM6eXvgIVcyDtcTpSUVb/voRUzhVSTUEqy1xIVUj1EamCD9apCXcq80M7VW9EIdUkO1XI+QUUUv05qXbdHQ==\",\"2023-03-19T16:39:56.9894702Z\"]},{\"H\":\"Streaming\",\"M\":\"feed\",\"A\":[\"Position.z\",\"7ZaxasMwEIbf5Wa76O50kqW9cwvN0KZ0MCWDKUlK4k7B717bCkEu6ZVm1mJs0Mf9+iU+fILH/bHru/0O4usJVt12c+zb7SdEIENcG64xrNBFDlHcHbH16HENFdzv+kO3OUI8AU6Pp77tv8ZPeNitDu37x7jkGWKNHFwFLxDF2ArWEBGboQLSEAx+RmqRDLEaQo3MCBnMEDQaYxlTstDkzA27QTWb5WZmHPqcceock+aQLLI1KmPTHPZ5B6R2QMzn/eSIXgEmhHy+HVJPlMWmaGExh9VodJ6zQNSmf2nAq2MkzMz4kjGsVnD95lg929UTFVGzucSgzW+b+39tXq2Ap7UTMl3uC9OoFZBNjAsXZBiqvw0iaJ23UgxSDFIMUgxyg0FGfTgxVAxSDFIMUgxyg0HC+A+C7ItBikGKQYpBfhrkbfgG\",\"2023-03-19T16:39:56.9146137Z\"]}]}', extra='')\n"
     ]
    },
    {
     "name": "stdout",
     "output_type": "stream",
     "text": [
      "CarData.z 7ZbPCsIwDMbfJWeVtmnSP9fhG+hF8SAiKMgOutvYu7t1R0VqZKDYSzZGP5J+Cb+lhWXdXM/HG8RtC+vmABGMMjhXONdhpTliiMQLUoGs2cAMqv21P9yCHkJ12tf18ZI+KIhqBiZFTNGmSOP78Oi6dOBBh55DhtQKU2r1vlAn4bNLGiaTk1RcLUur9dKWSP0x4iF4OgWIPkeL0qSCjozXdEIhSv2x0uEhEpbKUled1BwvM6eXvgIVcyDtcTpSUVb/voRUzhVSTUEqy1xIVUj1EamCD9apCXcq80M7VW9EIdUkO1XI+QUUUv05qXbdHQ==\n",
      "Position.z 7ZaxasMwEIbf5Wa76O50kqW9cwvN0KZ0MCWDKUlK4k7B717bCkEu6ZVm1mJs0Mf9+iU+fILH/bHru/0O4usJVt12c+zb7SdEIENcG64xrNBFDlHcHbH16HENFdzv+kO3OUI8AU6Pp77tv8ZPeNitDu37x7jkGWKNHFwFLxDF2ArWEBGboQLSEAx+RmqRDLEaQo3MCBnMEDQaYxlTstDkzA27QTWb5WZmHPqcceock+aQLLI1KmPTHPZ5B6R2QMzn/eSIXgEmhHy+HVJPlMWmaGExh9VodJ6zQNSmf2nAq2MkzMz4kjGsVnD95lg929UTFVGzucSgzW+b+39tXq2Ap7UTMl3uC9OoFZBNjAsXZBiqvw0iaJ23UgxSDFIMUgxyg0FGfTgxVAxSDFIMUgxyg0HC+A+C7ItBikGKQYpBfhrkbfgG\n"
     ]
    },
    {
     "name": "stderr",
     "output_type": "stream",
     "text": [
      "DEBUG:signalr_async.client:Raw message received: WSMessage(type=<WSMsgType.TEXT: 1>, data='{\"C\":\"d-F23263D5-B,0|Df,0|Dg,11|d,9B|p,900|o,8FF|a,1|Y,D|Dh,0|n,1|W,2|c,26|i,1|X,C|k,3|l,1|r,2|Z,1|s,59F\",\"M\":[{\"H\":\"Streaming\",\"M\":\"feed\",\"A\":[\"CarData.z\",\"7ZfBCsIwDIbfJWeVtEnbtVfxDfSieBARFGQH3W3s3a31qGiNDDxkh2yM/iT9Ez7aHhZtdzkdrpA2Pay6PSSwaGmKNDVxaXyimFyYEUc2PqxhAvPdJa/uwdzD/Lhr28O5/EBIOAFbIpXIJbrH9/01DGXBk46iMxVSFqY0+L3QFOGrTVofqpKKq/XSahtpS6T+WPEQvJwCQq7RkjSpoCOPbQahkKT+sHR4nBOW6qWuBqk5jcycLH1HKoeRIo0HqmgVVAoqbhRUCqqfQBUyqDzxWKRixJoZ/RdSkVdSjUGqfGpXUimpfiJVzKTKz3ikMlX9+xNS+ZoDoJJKQCq9/CmpPpJqO9wA\",\"2023-03-19T16:39:57.9093333Z\"]},{\"H\":\"Streaming\",\"M\":\"feed\",\"A\":[\"Position.z\",\"7ZQ/a8MwEMW/y8128f2TLO2dW2iGNqVDKBlMiVMSdwr+7o2tEJSSXmlmLUYG/Xjvno53gMftvhu6bQ/x9QCLbrPeD6vNJ0SghrhuuMawQBc5RPV35EU1LKGC+37Ydes9xAPg9HkaVsPX8Rce+sVu9f5xvPIMsUYOroIXiNpIBUuIiO1YAVkIBj8jtWqGiIVQqzNCDWYINhYjjMlZaHPmhmnQ9CbczoxDnzPO1GmSDumFt9ZkJOmwzzMgMwNiPs2TI3YEmBDy+ThkviirJGvhQodNa3TSuUDMpH9JwJsyGmbmeMgYNiO4vjlie7v6oqqmN5cYlHzb3P9j82YEPN2dkGm5z0xrRkCSGBfOyDhWfxeIsigGLQ1SGqQ0SGmQGxokeBElVxqkNEhpkNIgPxvkbfwG\",\"2023-03-19T16:39:57.9744526Z\"]}]}', extra='')\n"
     ]
    },
    {
     "name": "stdout",
     "output_type": "stream",
     "text": [
      "CarData.z 7ZfBCsIwDIbfJWeVtEnbtVfxDfSieBARFGQH3W3s3a31qGiNDDxkh2yM/iT9Ez7aHhZtdzkdrpA2Pay6PSSwaGmKNDVxaXyimFyYEUc2PqxhAvPdJa/uwdzD/Lhr28O5/EBIOAFbIpXIJbrH9/01DGXBk46iMxVSFqY0+L3QFOGrTVofqpKKq/XSahtpS6T+WPEQvJwCQq7RkjSpoCOPbQahkKT+sHR4nBOW6qWuBqk5jcycLH1HKoeRIo0HqmgVVAoqbhRUCqqfQBUyqDzxWKRixJoZ/RdSkVdSjUGqfGpXUimpfiJVzKTKz3ikMlX9+xNS+ZoDoJJKQCq9/CmpPpJqO9wA\n",
      "Position.z 7ZQ/a8MwEMW/y8128f2TLO2dW2iGNqVDKBlMiVMSdwr+7o2tEJSSXmlmLUYG/Xjvno53gMftvhu6bQ/x9QCLbrPeD6vNJ0SghrhuuMawQBc5RPV35EU1LKGC+37Ydes9xAPg9HkaVsPX8Rce+sVu9f5xvPIMsUYOroIXiNpIBUuIiO1YAVkIBj8jtWqGiIVQqzNCDWYINhYjjMlZaHPmhmnQ9CbczoxDnzPO1GmSDumFt9ZkJOmwzzMgMwNiPs2TI3YEmBDy+ThkviirJGvhQodNa3TSuUDMpH9JwJsyGmbmeMgYNiO4vjlie7v6oqqmN5cYlHzb3P9j82YEPN2dkGm5z0xrRkCSGBfOyDhWfxeIsigGLQ1SGqQ0SGmQGxokeBElVxqkNEhpkNIgPxvkbfwG\n"
     ]
    },
    {
     "name": "stderr",
     "output_type": "stream",
     "text": [
      "DEBUG:signalr_async.client:Raw message received: WSMessage(type=<WSMsgType.TEXT: 1>, data='{\"C\":\"d-F23263D5-B,0|Df,0|Dg,11|d,9B|p,901|o,900|a,1|Y,D|Dh,0|n,1|W,2|c,26|i,1|X,C|k,3|l,1|r,2|Z,1|s,59F\",\"M\":[{\"H\":\"Streaming\",\"M\":\"feed\",\"A\":[\"CarData.z\",\"7de9asMwEADgd9GchPvR6XReQ9+gXVo6hBJooWRIsxm/ex1lrFvUA0GTajkbo0PSSf4sj+HucDq+7T/C8DSGh9NLGAIB8Rp4jXaPaWAbJG8oGanpY1iF7e44tx4DnsP2dXc47N/LAwgDrAKVyCXGEuVyf75MU2nwJS8CUEVqdHaJ8PtELIlLkyRlrunUPdrkHW32Lom3PuTeBEu7gIWkJpe9nTpW5DJNdSaytz7Ru3lEnENN3qqqtzjZV5w59SepJBpxTu2kUr0iqbBL1UYqdkuFSB2rjlXBSsEIBVthxZatY9WxkprCLmOVueZg3rH6B1hZNFSjdierqt+qv4EVg2HHqglWWvPJ+gYrqMrtWN06VrbB+QUVaYbVfLK6IqySdKyaYJWgprDLWGnVF6RjdRtYPU+f\",\"2023-03-19T16:39:59.1091552Z\"]},{\"H\":\"Streaming\",\"M\":\"feed\",\"A\":[\"Position.z\",\"7ZS7asMwFIbf5cx20LnounduoRnalA6hZDAlTkncKfjd60sISklPSWYtRgZ9nF+/xHeEp92h6ZpdC+ntCMtmuzl06+0XJCBDXBuuMS7RJY7JhgVFEcNxBRU8tN2+2RwgHQHHz3O37r6HX3hsl/v1x+ew5QVSjRxdBa+QrJEKVpAQQ18BaQhGPyG1tRkiGkLBTggZzBA0GiOMc7IYcuaO06CaTThMjEOfM06dY+Y5ZC+yBZWReQ77vANSOyDm03lyRK8AZ4R8fhxSb5StzNHixRxWo9FpzgWiNv1HA14dY+PEDIuMYbWC6y9H9GxXb9RaNZubGZT8tbnba/NqBTzuHZHxcZ+ZoFZAMjMunpG+r/43iI3CNoRikGKQYpBikDsM4q3wcE3FIMUgxSDFIDcbJC6MFwpOikGKQYpBikF+G+S9/wE=\",\"2023-03-19T16:39:59.0742864Z\"]}]}', extra='')\n"
     ]
    },
    {
     "name": "stdout",
     "output_type": "stream",
     "text": [
      "CarData.z 7de9asMwEADgd9GchPvR6XReQ9+gXVo6hBJooWRIsxm/ex1lrFvUA0GTajkbo0PSSf4sj+HucDq+7T/C8DSGh9NLGAIB8Rp4jXaPaWAbJG8oGanpY1iF7e44tx4DnsP2dXc47N/LAwgDrAKVyCXGEuVyf75MU2nwJS8CUEVqdHaJ8PtELIlLkyRlrunUPdrkHW32Lom3PuTeBEu7gIWkJpe9nTpW5DJNdSaytz7Ru3lEnENN3qqqtzjZV5w59SepJBpxTu2kUr0iqbBL1UYqdkuFSB2rjlXBSsEIBVthxZatY9WxkprCLmOVueZg3rH6B1hZNFSjdierqt+qv4EVg2HHqglWWvPJ+gYrqMrtWN06VrbB+QUVaYbVfLK6IqySdKyaYJWgprDLWGnVF6RjdRtYPU+f\n",
      "Position.z 7ZS7asMwFIbf5cx20LnounduoRnalA6hZDAlTkncKfjd60sISklPSWYtRgZ9nF+/xHeEp92h6ZpdC+ntCMtmuzl06+0XJCBDXBuuMS7RJY7JhgVFEcNxBRU8tN2+2RwgHQHHz3O37r6HX3hsl/v1x+ew5QVSjRxdBa+QrJEKVpAQQ18BaQhGPyG1tRkiGkLBTggZzBA0GiOMc7IYcuaO06CaTThMjEOfM06dY+Y5ZC+yBZWReQ77vANSOyDm03lyRK8AZ4R8fhxSb5StzNHixRxWo9FpzgWiNv1HA14dY+PEDIuMYbWC6y9H9GxXb9RaNZubGZT8tbnba/NqBTzuHZHxcZ+ZoFZAMjMunpG+r/43iI3CNoRikGKQYpBikDsM4q3wcE3FIMUgxSDFIDcbJC6MFwpOikGKQYpBikF+G+S9/wE=\n"
     ]
    },
    {
     "name": "stderr",
     "output_type": "stream",
     "text": [
      "DEBUG:signalr_async.client:Raw message received: WSMessage(type=<WSMsgType.TEXT: 1>, data='{\"C\":\"d-F23263D5-B,0|Df,0|Dg,11|d,9B|p,901|o,900|a,1|Y,D|Dh,0|n,1|W,2|c,27|i,1|X,C|k,3|l,1|r,2|Z,1|s,59F\",\"M\":[{\"H\":\"Streaming\",\"M\":\"feed\",\"A\":[\"WeatherData\",{\"AirTemp\":\"26.0\",\"Humidity\":\"58.0\",\"Pressure\":\"1010.7\",\"Rainfall\":\"0\",\"TrackTemp\":\"32.5\",\"WindDirection\":\"316\",\"WindSpeed\":\"2.2\",\"_kf\":true},\"2023-03-19T16:40:00.024Z\"]}]}', extra='')\n"
     ]
    },
    {
     "name": "stdout",
     "output_type": "stream",
     "text": [
      "WeatherData {'AirTemp': '26.0', 'Humidity': '58.0', 'Pressure': '1010.7', 'Rainfall': '0', 'TrackTemp': '32.5', 'WindDirection': '316', 'WindSpeed': '2.2', '_kf': True}\n"
     ]
    },
    {
     "name": "stderr",
     "output_type": "stream",
     "text": [
      "DEBUG:signalr_async.client:Raw message received: WSMessage(type=<WSMsgType.TEXT: 1>, data='{\"C\":\"d-F23263D5-B,0|Df,0|Dg,11|d,9B|p,902|o,901|a,1|Y,D|Dh,0|n,1|W,2|c,27|i,1|X,C|k,3|l,1|r,2|Z,1|s,59F\",\"M\":[{\"H\":\"Streaming\",\"M\":\"feed\",\"A\":[\"CarData.z\",\"7ZbLagMxDEX/xesk6OWHvA39g2bT0kUogRbKLNLshvn3zDjLDMUVGPrwRjbGF0tX4uDRPQyX8/vp0+Xn0R0ury47AuIt8Bb1EUNmzV53QooQ05PbuP3xPN8eHS5h/3YchtNHOQCXYeOoRC5RSvS3/bJMU7lwpxNgrJCK8UmE7wuxCNeKFPA1yaI522DNNllbYvWHzEOwNgXsvdRoeUWLsU5raMqt0mgUstUisc6P98ZUw5qxNS9GqznJZs4s/QpWgXRmFXVYdVi1hFX0ZlgphQ6rDqsFVmmGlSTfClas8ffAilW0w6oJrAJZYUVJ+8/q38NKIAPsaB6GlKTdzwqr+vczYBUldli1gBXHZIWViFaBrsPqT8DqZboC\",\"2023-03-19T16:40:00.2289884Z\"]},{\"H\":\"Streaming\",\"M\":\"feed\",\"A\":[\"Position.z\",\"7ZQ/a8MwEMW/y8120N3p9G/v3EIztCkdQslgSpOSuFPwd69thaCU9Eo6azEy6Md793S8IzzsDl3f7baQXo6w7D42h3798QkJyBC3hluMS3SJY5K44GiJvV9BA3fbft9tDpCOgNPnsV/3X+Mv3G+X+/Xb+3jlCVKLHF0Dz5DE2AZWkBDD0ABpCEY/I61IgVgNoSAzQgYLBI3GWMbsLIaS+cc0qHqzHGbGoS8Zp+qYrENy4S2ojM067MsMSM2AmE/zlIgeAWaEfDkOqS/KYrO1eKHDqjU66VwgatK/JOBVGYkzMx4KhtUIrm+O1b1dfVER1ZvLDNpy29ztsXk1Ap7uTsi03GcmqBGQzYyLZ2QYmr8bJIigqw1SG6Q2SG2QGxvEmmTMwqCM8dnaILVBaoPUBvnZIK/DNw==\",\"2023-03-19T16:40:00.0151434Z\"]}]}', extra='')\n"
     ]
    },
    {
     "name": "stdout",
     "output_type": "stream",
     "text": [
      "CarData.z 7ZbLagMxDEX/xesk6OWHvA39g2bT0kUogRbKLNLshvn3zDjLDMUVGPrwRjbGF0tX4uDRPQyX8/vp0+Xn0R0ury47AuIt8Bb1EUNmzV53QooQ05PbuP3xPN8eHS5h/3YchtNHOQCXYeOoRC5RSvS3/bJMU7lwpxNgrJCK8UmE7wuxCNeKFPA1yaI522DNNllbYvWHzEOwNgXsvdRoeUWLsU5raMqt0mgUstUisc6P98ZUw5qxNS9GqznJZs4s/QpWgXRmFXVYdVi1hFX0ZlgphQ6rDqsFVmmGlSTfClas8ffAilW0w6oJrAJZYUVJ+8/q38NKIAPsaB6GlKTdzwqr+vczYBUldli1gBXHZIWViFaBrsPqT8DqZboC\n",
      "Position.z 7ZQ/a8MwEMW/y8120N3p9G/v3EIztCkdQslgSpOSuFPwd69thaCU9Eo6azEy6Md793S8IzzsDl3f7baQXo6w7D42h3798QkJyBC3hluMS3SJY5K44GiJvV9BA3fbft9tDpCOgNPnsV/3X+Mv3G+X+/Xb+3jlCVKLHF0Dz5DE2AZWkBDD0ABpCEY/I61IgVgNoSAzQgYLBI3GWMbsLIaS+cc0qHqzHGbGoS8Zp+qYrENy4S2ojM067MsMSM2AmE/zlIgeAWaEfDkOqS/KYrO1eKHDqjU66VwgatK/JOBVGYkzMx4KhtUIrm+O1b1dfVER1ZvLDNpy29ztsXk1Ap7uTsi03GcmqBGQzYyLZ2QYmr8bJIigqw1SG6Q2SG2QGxvEmmTMwqCM8dnaILVBaoPUBvnZIK/DNw==\n"
     ]
    },
    {
     "name": "stderr",
     "output_type": "stream",
     "text": [
      "DEBUG:signalr_async.client:Connection keepalive\n",
      "DEBUG:signalr_async.client:Sending: message_content='{}', is_binary=False\n",
      "DEBUG:signalr_async.client:Raw message received: WSMessage(type=<WSMsgType.TEXT: 1>, data='{\"C\":\"d-F23263D5-B,0|Df,0|Dg,11|d,9B|p,903|o,902|a,1|Y,D|Dh,0|n,1|W,2|c,27|i,1|X,C|k,3|l,1|r,2|Z,1|s,59F\",\"M\":[{\"H\":\"Streaming\",\"M\":\"feed\",\"A\":[\"CarData.z\",\"7ZbPCsIwDMbfJecpadOlf67iG+hF8SAiKMgO6m3s3Z3d0SIxMFDZJSujH0m/hl/awrK5X8/HG6RtC+v7ARJYtDRDmpm4MpwcJsQ5c4yW7AYqWOyv/e4WzDMsTvumOV7yD4SEFdgcKUeXYz2sn5+uyxtedA7JCaROmdLg50KThaVDkneipOpqWVtt0F6J1h+rboJSFxDbINFSqYMIo0SruJThpF4pJK1FTts/da0slUvGSjJ6rTlBZ04vfQerwDHE8WBF0fEPwYppgtUosBJNgSKsKLIIdBOs/h1WZo49rJjGe1iJRuq3sMqbiVXjsEoyscqsYi/STqz6C1btugc=\",\"2023-03-19T16:40:01.069863Z\"]},{\"H\":\"Streaming\",\"M\":\"feed\",\"A\":[\"Position.z\",\"7ZY9a8MwEIb/y8120N3p9LV3bqEZ2pQOoWQwJUlJ3Cn4vze2QlBoeiWZtRgb9HCvXokHH+Bpu+/6bruB9HaAebde7fvl+gsSkCFuDbcY5+iSNcmYmUUxgdwCGnjY9LtutYd0ABwfz/2y/z5+wuNmvlt+fB6XvEBqkaNr4BWSGNvAAhJiGBogDcHoJ6QVKRCrIRRkQshggaDRGMuYk8VQMnfsBtVslsPEOPQl49Q5Js8hucgWVMbmOezLDkjtgJhP+ykRvQLMCPlyO6SeKIvN0eLFHFaj0WnOBaI2/UcDXh0jcWKOLwXDagXXb47Vs109URE1m8sM2vK2udtr82oFPK4dkfFyn5mgVkA2My6ekWFo/jeIFzFsYjVINUg1SDXIzQbBmREbg3A1SDVINUg1yB0GIbZRfP0HqQapBqkG+WWQ9+EH\",\"2023-03-19T16:40:01.2349579Z\"]}]}', extra='')\n"
     ]
    },
    {
     "name": "stdout",
     "output_type": "stream",
     "text": [
      "CarData.z 7ZbPCsIwDMbfJecpadOlf67iG+hF8SAiKMgO6m3s3Z3d0SIxMFDZJSujH0m/hl/awrK5X8/HG6RtC+v7ARJYtDRDmpm4MpwcJsQ5c4yW7AYqWOyv/e4WzDMsTvumOV7yD4SEFdgcKUeXYz2sn5+uyxtedA7JCaROmdLg50KThaVDkneipOpqWVtt0F6J1h+rboJSFxDbINFSqYMIo0SruJThpF4pJK1FTts/da0slUvGSjJ6rTlBZ04vfQerwDHE8WBF0fEPwYppgtUosBJNgSKsKLIIdBOs/h1WZo49rJjGe1iJRuq3sMqbiVXjsEoyscqsYi/STqz6C1btugc=\n",
      "Position.z 7ZY9a8MwEIb/y8120N3p9LV3bqEZ2pQOoWQwJUlJ3Cn4vze2QlBoeiWZtRgb9HCvXokHH+Bpu+/6bruB9HaAebde7fvl+gsSkCFuDbcY5+iSNcmYmUUxgdwCGnjY9LtutYd0ABwfz/2y/z5+wuNmvlt+fB6XvEBqkaNr4BWSGNvAAhJiGBogDcHoJ6QVKRCrIRRkQshggaDRGMuYk8VQMnfsBtVslsPEOPQl49Q5Js8hucgWVMbmOezLDkjtgJhP+ykRvQLMCPlyO6SeKIvN0eLFHFaj0WnOBaI2/UcDXh0jcWKOLwXDagXXb47Vs109URE1m8sM2vK2udtr82oFPK4dkfFyn5mgVkA2My6ekWFo/jeIFzFsYjVINUg1SDXIzQbBmREbg3A1SDVINUg1yB0GIbZRfP0HqQapBqkG+WWQ9+EH\n"
     ]
    },
    {
     "name": "stderr",
     "output_type": "stream",
     "text": [
      "DEBUG:signalr_async.client:Raw message received: WSMessage(type=<WSMsgType.TEXT: 1>, data='{\"C\":\"d-F23263D5-B,0|Df,0|Dg,11|d,9B|p,904|o,903|a,1|Y,D|Dh,0|n,1|W,2|c,27|i,1|X,C|k,3|l,1|r,2|Z,1|s,59F\",\"M\":[{\"H\":\"Streaming\",\"M\":\"feed\",\"A\":[\"CarData.z\",\"7Za/agMxDMbfRXMSZEn+u4a+QbukdAgl0EK5Ic123Lv34ow5iiIwpI0X+TD+kPxZ/p1HeBpOx8/DN5TXEV5O71CAkHiNvHb52YUiWNBtJOSEQjtYwXZ/nFeP4M5h+7EfhsNXnUAouAKqkWuUGv3l+zxMU11wpROkrJCKMaXD24WuCpc2ycGrkpqrDdZqk/VIrP6QuQmWuoBDCBotL2lj8hqt4VAuO41GIVstEmv/eG8sNSwZq8kYreYkmzmz9DdYhZBjlNQOVhj/EKxih1UbWAnZYRU1HdRh9QCwSpSjd9wKVpxV9/9eYEWpw6oFrHy2wyqTStth9d9hRRsnM07YNXxZaR7xdwIrnzQ/8Q6r22GFdlilJB1WDwOrt+kH\",\"2023-03-19T16:40:02.1497031Z\"]},{\"H\":\"Streaming\",\"M\":\"feed\",\"A\":[\"Position.z\",\"7ZQ/a8MwEMW/y8120f2RLGnv3EIztCkdTMlgSpKSuFPwd69thSCX9EozazEy6Md793S8Ezzuj13f7XcQX0+w6rabY99uPyECGeLacI1hhS6KiQbvOEhgdmuo4H7XH7rNEeIJcPo89W3/Nf7Cw251aN8/xivPEGvk4Cp4gWiNVLCGiOiHCkhDMDQzUlubIaIh5O2MkMEMQaMxwpicBZ8zN0yDqjdhPzMOm5xxqo5JOmQX3rzKSNLhJs+A1AyI+TxPjugRYEKoycch9UXZSrIWFjqsWqOzzgJRk/4lgUaVsWFmxkPGsBrB9c0R3dvVF7VW9eYSg5Jvm/t/bI0aAU93J2Ra7gvj1QhIEuPCBRmG6u8GcUG896VASoGUAikFckOBhLFAhKQ0SGmQ0iClQX42yNvwDQ==\",\"2023-03-19T16:40:01.9948424Z\"]}]}', extra='')\n",
      "DEBUG:signalr_async.client:Raw message received: WSMessage(type=<WSMsgType.TEXT: 1>, data='{}', extra='')\n"
     ]
    },
    {
     "name": "stdout",
     "output_type": "stream",
     "text": [
      "CarData.z 7Za/agMxDMbfRXMSZEn+u4a+QbukdAgl0EK5Ic123Lv34ow5iiIwpI0X+TD+kPxZ/p1HeBpOx8/DN5TXEV5O71CAkHiNvHb52YUiWNBtJOSEQjtYwXZ/nFeP4M5h+7EfhsNXnUAouAKqkWuUGv3l+zxMU11wpROkrJCKMaXD24WuCpc2ycGrkpqrDdZqk/VIrP6QuQmWuoBDCBotL2lj8hqt4VAuO41GIVstEmv/eG8sNSwZq8kYreYkmzmz9DdYhZBjlNQOVhj/EKxih1UbWAnZYRU1HdRh9QCwSpSjd9wKVpxV9/9eYEWpw6oFrHy2wyqTStth9d9hRRsnM07YNXxZaR7xdwIrnzQ/8Q6r22GFdlilJB1WDwOrt+kH\n",
      "Position.z 7ZQ/a8MwEMW/y8120f2RLGnv3EIztCkdTMlgSpKSuFPwd69thSCX9EozazEy6Md793S8Ezzuj13f7XcQX0+w6rabY99uPyECGeLacI1hhS6KiQbvOEhgdmuo4H7XH7rNEeIJcPo89W3/Nf7Cw251aN8/xivPEGvk4Cp4gWiNVLCGiOiHCkhDMDQzUlubIaIh5O2MkMEMQaMxwpicBZ8zN0yDqjdhPzMOm5xxqo5JOmQX3rzKSNLhJs+A1AyI+TxPjugRYEKoycch9UXZSrIWFjqsWqOzzgJRk/4lgUaVsWFmxkPGsBrB9c0R3dvVF7VW9eYSg5Jvm/t/bI0aAU93J2Ra7gvj1QhIEuPCBRmG6u8GcUG896VASoGUAikFckOBhLFAhKQ0SGmQ0iClQX42yNvwDQ==\n"
     ]
    },
    {
     "name": "stderr",
     "output_type": "stream",
     "text": [
      "DEBUG:signalr_async.client:Raw message received: WSMessage(type=<WSMsgType.TEXT: 1>, data='{\"C\":\"d-F23263D5-B,0|Df,0|Dg,11|d,9B|p,904|o,904|a,1|Y,D|Dh,0|n,1|W,2|c,27|i,1|X,C|k,3|l,1|r,2|Z,1|s,59F\",\"M\":[{\"H\":\"Streaming\",\"M\":\"feed\",\"A\":[\"Position.z\",\"7ZS9asMwFEbf5c520P2RZGnv3EIztCkdQslgSpySuFPwu9e2QlBKeksyazEy6HA/fRLnCE+7Q9u3uw7i2xGW7XZz6NfbL4hAhrg2XGNYootioqEFefEhNCuo4KHr9+3mAPEIOH2e+3X/Pf7CY7fcrz8+xy0vEGvk4Cp4hWiNVLCCiNgMFZCGYPAzUlubIaIh1NgZIYMZgkZjhDElC03O3HEaVLMJNzPj0OeMU+eYNIfsRbZGZSTNYZ93QGoHxHw6T47oFWBCyOfHIfVG2UqKFi7msBqNTnMuELXpPxrw6hgbZmZcZAyrFVx/OaJnu3qj1qrZXGJQ8tfmbq/NqxXwtHdCpsd9Zhq1ApLEuHBGhqH63yB2NIgVKgYpBikGKQa5wyCBxYVgi0GKQYpBikFuNggvCMVZXwRSBFIEUgTyWyDvww8=\",\"2023-03-19T16:40:03.214657Z\"]}]}', extra='')\n",
      "DEBUG:signalr_async.client:Raw message received: WSMessage(type=<WSMsgType.TEXT: 1>, data='{\"C\":\"d-F23263D5-B,0|Df,0|Dg,11|d,9B|p,905|o,904|a,1|Y,D|Dh,0|n,1|W,2|c,27|i,1|X,C|k,3|l,1|r,2|Z,1|s,59F\",\"M\":[{\"H\":\"Streaming\",\"M\":\"feed\",\"A\":[\"CarData.z\",\"7ZaxagMxDED/RXMSZEvWnbyG/kGztHQIJdBCuSHNdty/J3HGuEWnEkhbL7rD+GFZFg+N8DAc9u+7T8jPI2wOr5AhYqQl0jLoY5DMmDGuiFU6Sk+wgPV2f9o9QjiH9dt2GHYfZQEh4wJiiVQil5gu/+fPNJUNVxxjsKDsPDLgfDAUsHZJSsyWQ93Zijfb3vsk3vpEdxPUuoBS6Cws1VgNwcI6HuVy084JkrdE7O2flJypSq2wlhM7b3F6X3FO6HeyElGJEn8oq/i1rFB+j6yILck2Wc2XFZvYqqz6ZGKbrP6+rBQ1Kd5QVtEyrNyLrNQyADRZOWTV+2UlqcmqySojrVA0idzOVWSZ4e/FVWxJtrlqvqvI5Juqq1Sbq/6Pq16mIw==\",\"2023-03-19T16:40:03.069566Z\"]}]}', extra='')\n"
     ]
    },
    {
     "name": "stdout",
     "output_type": "stream",
     "text": [
      "Position.z 7ZS9asMwFEbf5c520P2RZGnv3EIztCkdQslgSpySuFPwu9e2QlBKeksyazEy6HA/fRLnCE+7Q9u3uw7i2xGW7XZz6NfbL4hAhrg2XGNYootioqEFefEhNCuo4KHr9+3mAPEIOH2e+3X/Pf7CY7fcrz8+xy0vEGvk4Cp4hWiNVLCCiNgMFZCGYPAzUlubIaIh1NgZIYMZgkZjhDElC03O3HEaVLMJNzPj0OeMU+eYNIfsRbZGZSTNYZ93QGoHxHw6T47oFWBCyOfHIfVG2UqKFi7msBqNTnMuELXpPxrw6hgbZmZcZAyrFVx/OaJnu3qj1qrZXGJQ8tfmbq/NqxXwtHdCpsd9Zhq1ApLEuHBGhqH63yB2NIgVKgYpBikGKQa5wyCBxYVgi0GKQYpBikFuNggvCMVZXwRSBFIEUgTyWyDvww8=\n",
      "CarData.z 7ZaxagMxDED/RXMSZEvWnbyG/kGztHQIJdBCuSHNdty/J3HGuEWnEkhbL7rD+GFZFg+N8DAc9u+7T8jPI2wOr5AhYqQl0jLoY5DMmDGuiFU6Sk+wgPV2f9o9QjiH9dt2GHYfZQEh4wJiiVQil5gu/+fPNJUNVxxjsKDsPDLgfDAUsHZJSsyWQ93Zijfb3vsk3vpEdxPUuoBS6Cws1VgNwcI6HuVy084JkrdE7O2flJypSq2wlhM7b3F6X3FO6HeyElGJEn8oq/i1rFB+j6yILck2Wc2XFZvYqqz6ZGKbrP6+rBQ1Kd5QVtEyrNyLrNQyADRZOWTV+2UlqcmqySojrVA0idzOVWSZ4e/FVWxJtrlqvqvI5Juqq1Sbq/6Pq16mIw==\n"
     ]
    },
    {
     "name": "stderr",
     "output_type": "stream",
     "text": [
      "DEBUG:signalr_async.client:Raw message received: WSMessage(type=<WSMsgType.TEXT: 1>, data='{\"C\":\"d-F23263D5-B,0|Df,0|Dg,11|d,9C|p,905|o,904|a,1|Y,D|Dh,0|n,1|W,2|c,27|i,1|X,C|k,3|l,1|r,2|Z,1|s,59F\",\"M\":[{\"H\":\"Streaming\",\"M\":\"feed\",\"A\":[\"Heartbeat\",{\"Utc\":\"2023-03-19T16:40:05.812633Z\",\"_kf\":true},\"2023-03-19T16:40:05.196Z\"]}]}', extra='')\n"
     ]
    },
    {
     "name": "stdout",
     "output_type": "stream",
     "text": [
      "Heartbeat {'Utc': '2023-03-19T16:40:05.812633Z', '_kf': True}\n"
     ]
    },
    {
     "name": "stderr",
     "output_type": "stream",
     "text": [
      "DEBUG:signalr_async.client:Raw message received: WSMessage(type=<WSMsgType.TEXT: 1>, data='{\"C\":\"d-F23263D5-B,0|Df,0|Dg,11|d,9C|p,906|o,904|a,1|Y,D|Dh,0|n,1|W,2|c,27|i,1|X,C|k,3|l,1|r,2|Z,1|s,59F\",\"M\":[{\"H\":\"Streaming\",\"M\":\"feed\",\"A\":[\"CarData.z\",\"7ZfPasMwDMbfRee2SJb891r2BtulY4cyChuMHLreQt59iXNs2jkqOYSagBKCPz5bUX6WW3hpLufv0y+k9xbeLp+QwKDhLfKW4iu5JJiQd8ZFy04OsIH98dyPboGGsP86Ns3pJ79ASLgBkyPnKDna8bm/ma7LA650gsHcl+IglfmWWUc4X0hZOLVI5uBLTNWzddrZBqWj0ebHKIpgdJyqAnbkSrQ8WUG+yFfxUcaVeqWQtSkSbf1Yq5yqm0psiaPXJifoktNL78HKShyu5WDl4opgxSX/VIXVbFhZR1pYcfQl212F1RPAKrgo4s1SsOIY19RZxdpZLQMrKknsDVjJM8CKrFRe/csr2VHfWqF9lFd4u7lCWRGvbJFp5dVcXknkB06CRafItfMqUOXVyKuP7g8=\",\"2023-03-19T16:40:04.1494052Z\"]}]}', extra='')\n",
      "DEBUG:signalr_async.client:Raw message received: WSMessage(type=<WSMsgType.TEXT: 1>, data='{\"C\":\"d-F23263D5-B,0|Df,0|Dg,11|d,9C|p,906|o,905|a,1|Y,D|Dh,0|n,1|W,2|c,27|i,1|X,C|k,3|l,1|r,2|Z,1|s,59F\",\"M\":[{\"H\":\"Streaming\",\"M\":\"feed\",\"A\":[\"Position.z\",\"7Zc9a8MwEIb/y81O0N3pJEt75xaaoU3pEEoGU5KUxJ2C/3v9EYJC0yvJfIuxQQ/36rV4sI/wtDs0bbPbQn47wqLZrA/tavMFGcgRzxzPMC0wZO+y4zmJD+LSEip42Lb7Zn2AfAQcLs/tqv3uH+Fxu9ivPj77JS+QZ8gpVPAKWZyvYAkZse4qIA3BFEdkJlIgXkOolhEhhwWCTmM845Qs1SVzx25Qzea5HpmAsWSCOsdNc0gustUq46c5HMsOSO2AmE/7KRG9ApwQiuV2SH2jLH6Kli7msBqNTnMuELXpPxqI6hhJI9PfFAyrFVw/OV7PdvWNiqjZwsSgL09buL22qFbAw9oBGQ73manVCshPTEhnpOuq/w0iyUtKZAYxg5hBzCB3GCRGLxFrM4gZxAxiBrnZIH7u2AsTm0HMIGYQM8gdBsH+L8bZJ4gJxARiAvklkPfuBw==\",\"2023-03-19T16:40:04.194508Z\"]}]}', extra='')\n"
     ]
    },
    {
     "name": "stdout",
     "output_type": "stream",
     "text": [
      "CarData.z 7ZfPasMwDMbfRee2SJb891r2BtulY4cyChuMHLreQt59iXNs2jkqOYSagBKCPz5bUX6WW3hpLufv0y+k9xbeLp+QwKDhLfKW4iu5JJiQd8ZFy04OsIH98dyPboGGsP86Ns3pJ79ASLgBkyPnKDna8bm/ma7LA650gsHcl+IglfmWWUc4X0hZOLVI5uBLTNWzddrZBqWj0ebHKIpgdJyqAnbkSrQ8WUG+yFfxUcaVeqWQtSkSbf1Yq5yqm0psiaPXJifoktNL78HKShyu5WDl4opgxSX/VIXVbFhZR1pYcfQl212F1RPAKrgo4s1SsOIY19RZxdpZLQMrKknsDVjJM8CKrFRe/csr2VHfWqF9lFd4u7lCWRGvbJFp5dVcXknkB06CRafItfMqUOXVyKuP7g8=\n",
      "Position.z 7Zc9a8MwEIb/y81O0N3pJEt75xaaoU3pEEoGU5KUxJ2C/3v9EYJC0yvJfIuxQQ/36rV4sI/wtDs0bbPbQn47wqLZrA/tavMFGcgRzxzPMC0wZO+y4zmJD+LSEip42Lb7Zn2AfAQcLs/tqv3uH+Fxu9ivPj77JS+QZ8gpVPAKWZyvYAkZse4qIA3BFEdkJlIgXkOolhEhhwWCTmM845Qs1SVzx25Qzea5HpmAsWSCOsdNc0gustUq46c5HMsOSO2AmE/7KRG9ApwQiuV2SH2jLH6Kli7msBqNTnMuELXpPxqI6hhJI9PfFAyrFVw/OV7PdvWNiqjZwsSgL09buL22qFbAw9oBGQ73manVCshPTEhnpOuq/w0iyUtKZAYxg5hBzCB3GCRGLxFrM4gZxAxiBrnZIH7u2AsTm0HMIGYQM8gdBsH+L8bZJ4gJxARiAvklkPfuBw==\n"
     ]
    },
    {
     "name": "stderr",
     "output_type": "stream",
     "text": [
      "DEBUG:signalr_async.client:Raw message received: WSMessage(type=<WSMsgType.TEXT: 1>, data='{\"C\":\"d-F23263D5-B,0|Df,0|Dg,11|d,9C|p,907|o,906|a,1|Y,D|Dh,0|n,1|W,2|c,27|i,1|X,C|k,3|l,1|r,2|Z,1|s,59F\",\"M\":[{\"H\":\"Streaming\",\"M\":\"feed\",\"A\":[\"CarData.z\",\"7ZbPasMwDMbfRee2SJb891r2BtulY4cyChuMHLreQt59qXOst6kagQVyUULwhz9/Vn52Dw/d5fx++oTy3MPT5RUKOHS8Rd5SfqRQBAvKLoTMLqUDbGB/PI+je6Br2b8du+70UT8gFNyAq5VrlVr99H59DEMdcKMTQlZIxTgl4f1CqsLWIpmjaCY1uw1Wt8m6JdZ8nLkJWl3AXpxGy60OwhA1WsOmTCuNRiFbI5KWVYqBFFrvjW5DK1uN22jNJ9nyGaU/8Sqn7BLNhSvOwS8HV4IrrubBFf4BV6LpoOXjitOKq99w5Xc04sqTm49XWXM4/hteaX6NlVf388prDoJveJU0947l88qt16uJVy/DFw==\",\"2023-03-19T16:40:05.1892512Z\"]},{\"H\":\"Streaming\",\"M\":\"feed\",\"A\":[\"Position.z\",\"7ZQ9a8MwEIb/y8120H1IlrR3bqEZ2pQOoWQwJU5J3Cn4v9e2QlBKeiWZtRgb9HDvvRbPEZ52h7Zvdx3EtyMs2+3m0K+3XxCBDHFtuMawRBfFRCMLCiKB/AoqeOj6fbs5QDwCTo/nft1/j5/w2C3364/P8cgLxBo5uApeIVojFawgIvqhAtIQDM2M1NZmiGgIeTsjZDBD0GiMMKZkwefMHdugmk3Yz4zDJmecOsekOWQvsnmVkTSHm7wDUjsg5tM+OaJXgAmhJl+H1D/KVlK0cDGH1Wh0mnOBqE3/0UCjjrFhZsaXjGG1gus3R/RsV/+otWo2lxiU/La522tr1Ap4Ojsh0+U+M16tgCQxLpyRYaj+N4gbdxGhYpBikGKQYpA7DBKscCBbDFIMUgxSDHKzQeyCWFhCKAYpBikGKQb5bZD34Qc=\",\"2023-03-19T16:40:05.2343499Z\"]}]}', extra='')\n"
     ]
    },
    {
     "name": "stdout",
     "output_type": "stream",
     "text": [
      "CarData.z 7ZbPasMwDMbfRee2SJb891r2BtulY4cyChuMHLreQt59qXOst6kagQVyUULwhz9/Vn52Dw/d5fx++oTy3MPT5RUKOHS8Rd5SfqRQBAvKLoTMLqUDbGB/PI+je6Br2b8du+70UT8gFNyAq5VrlVr99H59DEMdcKMTQlZIxTgl4f1CqsLWIpmjaCY1uw1Wt8m6JdZ8nLkJWl3AXpxGy60OwhA1WsOmTCuNRiFbI5KWVYqBFFrvjW5DK1uN22jNJ9nyGaU/8Sqn7BLNhSvOwS8HV4IrrubBFf4BV6LpoOXjitOKq99w5Xc04sqTm49XWXM4/hteaX6NlVf388prDoJveJU0947l88qt16uJVy/DFw==\n",
      "Position.z 7ZQ9a8MwEIb/y8120H1IlrR3bqEZ2pQOoWQwJU5J3Cn4v9e2QlBKeiWZtRgb9HDvvRbPEZ52h7Zvdx3EtyMs2+3m0K+3XxCBDHFtuMawRBfFRCMLCiKB/AoqeOj6fbs5QDwCTo/nft1/j5/w2C3364/P8cgLxBo5uApeIVojFawgIvqhAtIQDM2M1NZmiGgIeTsjZDBD0GiMMKZkwefMHdugmk3Yz4zDJmecOsekOWQvsnmVkTSHm7wDUjsg5tM+OaJXgAmhJl+H1D/KVlK0cDGH1Wh0mnOBqE3/0UCjjrFhZsaXjGG1gus3R/RsV/+otWo2lxiU/La522tr1Ap4Ojsh0+U+M16tgCQxLpyRYaj+N4gbdxGhYpBikGKQYpA7DBKscCBbDFIMUgxSDHKzQeyCWFhCKAYpBikGKQb5bZD34Qc=\n"
     ]
    },
    {
     "name": "stderr",
     "output_type": "stream",
     "text": [
      "DEBUG:signalr_async.client:Connection keepalive\n",
      "DEBUG:signalr_async.client:Sending: message_content='{}', is_binary=False\n",
      "DEBUG:signalr_async.client:Raw message received: WSMessage(type=<WSMsgType.TEXT: 1>, data='{\"C\":\"d-F23263D5-B,0|Df,0|Dg,11|d,9C|p,908|o,907|a,1|Y,D|Dh,0|n,1|W,2|c,27|i,1|X,C|k,3|l,1|r,2|Z,1|s,59F\",\"M\":[{\"H\":\"Streaming\",\"M\":\"feed\",\"A\":[\"CarData.z\",\"7ZjLasMwEEX/ReskzEuP8Tb0D9pNSxehBFooXqTZGf97E2VZ0Y4HDA32ZiyMLjMaXR0ZD+GhP58+jl+hexnC0/ktdIGAeAu8RX3E1Al0EHdclAjTc9iE/eF0mT0EvIb9+6Hvj5/1BYQONoFq5BqlxngbXx/jWCf80AlwNEjFmRJhuhCrsLVIFsqWpO5qk7fa4t0Sb3/IbYKWCzgmiwuIWw5CLhatY1NuK81OIXtbJK1SMSMatDE6q02t3lqqzd7+FF9/LtLfeBWLotKMuKL7wRVnXXE1C65I3LiCvAhcJbV4b/G4KqQYE8/Hq2i5Nf4JrzCakq68mswrMDGnzSuy3Hj3zitSWXn1J6/SDkURCs7HK0l3wytMps+AlVfTeZVN2taZYtUl8EqgWH5FLIFXr+M3\",\"2023-03-19T16:40:06.1491081Z\"]},{\"H\":\"Streaming\",\"M\":\"feed\",\"A\":[\"Position.z\",\"7ZQ9a8MwEIb/y8120H1IsrR3bqEZ2pQOoWQwJU5J3Cn4v9e2QlBKeiWZtRgZ9HB3r47nCE+7Q9u3uw7i2xGW7XZz6NfbL4hAhrg2XGNYootiorEL8cLIsoIKHrp+324OEI+A0+e5X/ff4y88dsv9+uNzvPICsUYOroJXiNZIBSuIiM1QAWkIBj8jtbUZIhpCjZ0RMpghaDRmHCV1FpqcuWMaVHsTbmbGoc8Zp9YxqQ7Zi94alZFUh32eAakZEPNpnhzRI8CEkM/HIfVF2UpqLVzUYbU1OtW5QNSk/0jAq2VsmJnxkDGsRnB9c0Tv7eqLWqv25hKDkm+buz02r0bA090JmZb7zDRqBCSJceGMDEP1v0ECCwnbYpBikGKQYpCbDeIWJghhoGKQYpBikGKQOwwybgL64ItBikGKQYpBfhvkffgB\",\"2023-03-19T16:40:06.3541797Z\"]}]}', extra='')\n"
     ]
    },
    {
     "name": "stdout",
     "output_type": "stream",
     "text": [
      "CarData.z 7ZjLasMwEEX/ReskzEuP8Tb0D9pNSxehBFooXqTZGf97E2VZ0Y4HDA32ZiyMLjMaXR0ZD+GhP58+jl+hexnC0/ktdIGAeAu8RX3E1Al0EHdclAjTc9iE/eF0mT0EvIb9+6Hvj5/1BYQONoFq5BqlxngbXx/jWCf80AlwNEjFmRJhuhCrsLVIFsqWpO5qk7fa4t0Sb3/IbYKWCzgmiwuIWw5CLhatY1NuK81OIXtbJK1SMSMatDE6q02t3lqqzd7+FF9/LtLfeBWLotKMuKL7wRVnXXE1C65I3LiCvAhcJbV4b/G4KqQYE8/Hq2i5Nf4JrzCakq68mswrMDGnzSuy3Hj3zitSWXn1J6/SDkURCs7HK0l3wytMps+AlVfTeZVN2taZYtUl8EqgWH5FLIFXr+M3\n",
      "Position.z 7ZQ9a8MwEIb/y8120H1IsrR3bqEZ2pQOoWQwJU5J3Cn4v9e2QlBKeiWZtRgZ9HB3r47nCE+7Q9u3uw7i2xGW7XZz6NfbL4hAhrg2XGNYootiorEL8cLIsoIKHrp+324OEI+A0+e5X/ff4y88dsv9+uNzvPICsUYOroJXiNZIBSuIiM1QAWkIBj8jtbUZIhpCjZ0RMpghaDRmHCV1FpqcuWMaVHsTbmbGoc8Zp9YxqQ7Zi94alZFUh32eAakZEPNpnhzRI8CEkM/HIfVF2UpqLVzUYbU1OtW5QNSk/0jAq2VsmJnxkDGsRnB9c0Tv7eqLWqv25hKDkm+buz02r0bA090JmZb7zDRqBCSJceGMDEP1v0ECCwnbYpBikGKQYpCbDeIWJghhoGKQYpBikGKQOwwybgL64ItBikGKQYpBfhvkffgB\n"
     ]
    },
    {
     "name": "stderr",
     "output_type": "stream",
     "text": [
      "DEBUG:signalr_async.client:Raw message received: WSMessage(type=<WSMsgType.TEXT: 1>, data='{\"C\":\"d-F23263D5-B,0|Df,0|Dg,11|d,9C|p,909|o,908|a,1|Y,D|Dh,0|n,1|W,2|c,27|i,1|X,C|k,3|l,1|r,2|Z,1|s,59F\",\"M\":[{\"H\":\"Streaming\",\"M\":\"feed\",\"A\":[\"CarData.z\",\"7Zc9bsMwDIXvojkJKJL6odagN2iXFh2CIkALFBnSbIbvHsceq9Qst1ZaaMPQAyn66TM9uIfT5fxx/HLlZXBPlzdXHALSFmjr5dHHwlAg7gILcJZnt3H7w3laPTh/C/v3w+l0/JwfgCtIGTYOXZkizZHnGJb722Uc5wXfpAwxKaRckWpSevi90M/C2j5VGc2lRmup2ZgRrc1Ba3OwZgEK5DVaqtqHVXkNL2XZaTIKydoirpXKGLJCG4Kx2ljrrabaZO1PtvVnkv7EqwQCGHCVV4FVjqsaLsXOq7Z5xUlzGKu8Ismaz93f51XUnJLmeSUgImEVV1GsuCIJ1HHVcWUer9rAlRfuuFrDVdr5CVdRgStUmabqN9+nq8ZxFb3mi3UHV7o/yY6rJnBFWQQpr/Mqa6BTH6+yxnCdV/+YV0FlgXvjVRO8Qui8Wnj1Ol4B\",\"2023-03-19T16:40:07.3899238Z\"]},{\"H\":\"Streaming\",\"M\":\"feed\",\"A\":[\"Position.z\",\"7ZY9a8MwEIb/y8120N3p9LV3bqEZ2pQOoWQwJUlJ3Cn4vze2QlBoeiWZtRgb9HCvXokHH+Bpu+/6bruB9HaAebde7fvl+gsSkCFuDbcY5+iSNcm4mYigjbiABh42/a5b7SEdAMfHc7/sv4+f8LiZ75Yfn8clL5Ba5OgaeIUkxjawgIQYhgZIQzD6CWlFCsRqCAWZEDJYIGg0xjLmZDGUzB27QTWb5TAxDn3JOHWOyXNILrIFlbF5DvuyA1I7IObTfkpErwAzQr7cDqknymJztHgxh9VodJpzgahN/9GAV8dInJjjS8GwWsH1m2P1bFdPVETN5jKDtrxt7vbavFoBj2tHZLzcZyaoFZDNjItnZBia/w3iWZAwVINUg1SDVIPcYZDoxQThapBqkGqQapCbDeJnGMVI/QepBqkGqQb5bZD34Qc=\",\"2023-03-19T16:40:07.1950518Z\"]}]}', extra='')\n"
     ]
    },
    {
     "name": "stdout",
     "output_type": "stream",
     "text": [
      "CarData.z 7Zc9bsMwDIXvojkJKJL6odagN2iXFh2CIkALFBnSbIbvHsceq9Qst1ZaaMPQAyn66TM9uIfT5fxx/HLlZXBPlzdXHALSFmjr5dHHwlAg7gILcJZnt3H7w3laPTh/C/v3w+l0/JwfgCtIGTYOXZkizZHnGJb722Uc5wXfpAwxKaRckWpSevi90M/C2j5VGc2lRmup2ZgRrc1Ba3OwZgEK5DVaqtqHVXkNL2XZaTIKydoirpXKGLJCG4Kx2ljrrabaZO1PtvVnkv7EqwQCGHCVV4FVjqsaLsXOq7Z5xUlzGKu8Ismaz93f51XUnJLmeSUgImEVV1GsuCIJ1HHVcWUer9rAlRfuuFrDVdr5CVdRgStUmabqN9+nq8ZxFb3mi3UHV7o/yY6rJnBFWQQpr/Mqa6BTH6+yxnCdV/+YV0FlgXvjVRO8Qui8Wnj1Ol4B\n",
      "Position.z 7ZY9a8MwEIb/y8120N3p9LV3bqEZ2pQOoWQwJUlJ3Cn4vze2QlBoeiWZtRgb9HCvXokHH+Bpu+/6bruB9HaAebde7fvl+gsSkCFuDbcY5+iSNcm4mYigjbiABh42/a5b7SEdAMfHc7/sv4+f8LiZ75Yfn8clL5Ba5OgaeIUkxjawgIQYhgZIQzD6CWlFCsRqCAWZEDJYIGg0xjLmZDGUzB27QTWb5TAxDn3JOHWOyXNILrIFlbF5DvuyA1I7IObTfkpErwAzQr7cDqknymJztHgxh9VodJpzgahN/9GAV8dInJjjS8GwWsH1m2P1bFdPVETN5jKDtrxt7vbavFoBj2tHZLzcZyaoFZDNjItnZBia/w3iWZAwVINUg1SDVIPcYZDoxQThapBqkGqQapCbDeJnGMVI/QepBqkGqQb5bZD34Qc=\n"
     ]
    },
    {
     "name": "stderr",
     "output_type": "stream",
     "text": [
      "DEBUG:signalr_async.client:Raw message received: WSMessage(type=<WSMsgType.TEXT: 1>, data='{\"C\":\"d-F23263D5-B,0|Df,0|Dg,11|d,9C|p,90A|o,909|a,1|Y,D|Dh,0|n,1|W,2|c,27|i,1|X,C|k,3|l,1|r,2|Z,1|s,59F\",\"M\":[{\"H\":\"Streaming\",\"M\":\"feed\",\"A\":[\"CarData.z\",\"7Zi7bsMwDEX/hbMT8KH3GvQP2qVFh6AI0AKBhySb4X+v44xVapZbKi+UYehC1DV1THuAp/5y+jqcobwN8HL5gAKMLBuUDeVnCsVhwbj1LmdEeYUOdvvTNHsAuobd577vD8f5BkLh4KgDhoIdyBzdHP3t+jqM4zzhh9QheYXUVaSo0BH+XUizsLZP1YrmVIM11WRcka3msNUcrpWAuJw0WqmWjw8areGh3HYajUKxWuRqqTqWrNB6b8w21LzVZBut/iSbP5P0N17FqZQi5mVeqey8w6u48qpxXiVNCdR5ReRa4BWxBsuN8yptkXPilBZ5FdneX/mVV43zKuiYU++vdJX36LxilUXN84pDjll4kVdZVF15/QWp+RhYefWfeYWaXwJ3eEWqzv7ReUVJc0pa4NX7+A0=\",\"2023-03-19T16:40:08.2697932Z\"]},{\"H\":\"Streaming\",\"M\":\"feed\",\"A\":[\"Position.z\",\"7ZQ9a8MwEIb/y8120OlOn3vnFuqhTekQSgZT4pTEnYL/e20rBLmkV5JZi5FBD/fqlXhO8LQ/tn277yC+naBpd9tjv9l9QQStNNWKagwN2sgqKrdiZ5QKZg0VPHT9od0eIZ4Ap89zv+m/x1947JrD5uNz3PICsUYKtoJXiEZxBWuIiH6oQEsIBjcjtTEZwhKivZkRrTBDUEkME6ZkwefMHadBMRuTnxmLLmesOEelOdossnmR4TSHXN6BFjvQROfz5IhcASZEu/w4WrxRMpyihcUcEqPp85wFIjb9RwNOHGPCzIyLjCGxgusvh+VsV2/UGDGbTQxy/trs7bU5sQKa9k7I9LgvjBcr0JwYGy7IMFT/G8QRB6eKQYpBikGKQe4xSHAciKkYpBikGKQY5GaD+BWOBlEUikGKQYpBikF+G+R9+AE=\",\"2023-03-19T16:40:08.1749039Z\"]}]}', extra='')\n"
     ]
    },
    {
     "name": "stdout",
     "output_type": "stream",
     "text": [
      "CarData.z 7Zi7bsMwDEX/hbMT8KH3GvQP2qVFh6AI0AKBhySb4X+v44xVapZbKi+UYehC1DV1THuAp/5y+jqcobwN8HL5gAKMLBuUDeVnCsVhwbj1LmdEeYUOdvvTNHsAuobd577vD8f5BkLh4KgDhoIdyBzdHP3t+jqM4zzhh9QheYXUVaSo0BH+XUizsLZP1YrmVIM11WRcka3msNUcrpWAuJw0WqmWjw8areGh3HYajUKxWuRqqTqWrNB6b8w21LzVZBut/iSbP5P0N17FqZQi5mVeqey8w6u48qpxXiVNCdR5ReRa4BWxBsuN8yptkXPilBZ5FdneX/mVV43zKuiYU++vdJX36LxilUXN84pDjll4kVdZVF15/QWp+RhYefWfeYWaXwJ3eEWqzv7ReUVJc0pa4NX7+A0=\n",
      "Position.z 7ZQ9a8MwEIb/y8120OlOn3vnFuqhTekQSgZT4pTEnYL/e20rBLmkV5JZi5FBD/fqlXhO8LQ/tn277yC+naBpd9tjv9l9QQStNNWKagwN2sgqKrdiZ5QKZg0VPHT9od0eIZ4Ap89zv+m/x1947JrD5uNz3PICsUYKtoJXiEZxBWuIiH6oQEsIBjcjtTEZwhKivZkRrTBDUEkME6ZkwefMHadBMRuTnxmLLmesOEelOdossnmR4TSHXN6BFjvQROfz5IhcASZEu/w4WrxRMpyihcUcEqPp85wFIjb9RwNOHGPCzIyLjCGxgusvh+VsV2/UGDGbTQxy/trs7bU5sQKa9k7I9LgvjBcr0JwYGy7IMFT/G8QRB6eKQYpBikGKQe4xSHAciKkYpBikGKQY5GaD+BWOBlEUikGKQYpBikF+G+R9+AE=\n"
     ]
    },
    {
     "name": "stderr",
     "output_type": "stream",
     "text": [
      "DEBUG:signalr_async.client:Raw message received: WSMessage(type=<WSMsgType.TEXT: 1>, data='{\"C\":\"d-F23263D5-B,0|Df,0|Dg,11|d,9C|p,90B|o,90A|a,1|Y,D|Dh,0|n,1|W,2|c,27|i,1|X,C|k,3|l,1|r,2|Z,1|s,59F\",\"M\":[{\"H\":\"Streaming\",\"M\":\"feed\",\"A\":[\"CarData.z\",\"7ZYxbsMwDEXvwtkJKJKSTK1Bb9AuLToERYAWKDyk2QzfPY4zVqhZbq28yIahD1JfX88a4WG4nD9OX1BeRni6vEEBQuId8i7oY0hFsGC/F9KcND5DB4fjeZ49QrgNh/fjMJw+lw8IhXNOHRAU7ICXUZYx3t9vj2laJnyTCopFKhUpGnQBfy8Mi7C2TlNFd6vJ22rvrEhec8hrDtUiwFHIouVqfKIpeY5Nua80O4XstUhqrUpIFm2Mzm5TzVtLxez1p/f5M0t/4lXsNUvUNV5JUFPiqoGjjVet84pNzKnzCrUNXuWNV+u8yjOvQuJVXqEG//3KEriNV/+ZV2hKT51XZDnIf59XZNE2zivdB9SU8vr9iqLpL1ffCd541TSvSEW8vOJZ3ASvsuWUtMCr1+kK\",\"2023-03-19T16:40:09.1096679Z\"]},{\"H\":\"Streaming\",\"M\":\"feed\",\"A\":[\"Position.z\",\"7ZQ9a8MwFEX/y5vtoPehz71zC83QpnQIJYMpSUriTsH/vbEVglLSV5JZi5FBh3d1Jc4Bnrb7ru+2G0hvB5h369W+X66/IAEZ4tZwi3GOLolJJswkSrCWFtDAw6bfdas9pAPg+Hnul/338RceN/Pd8uPzuOUFUoscXQOvkKyRBhaQEMPQAGkIRj8hrbUFIhpCwU4IGSwQNBojjDlZDCVzx2lQzSYcJsahLxmnzjF5DtmLbEFlJM9hX3ZAagfEfDpPiegVYEbIl8ch9UbZSo4WL+awGo1Ocy4Qtek/GvDqGBsn5rgoGFYruP5yRM929UatVbO5zKCUr83dXptXK+Bx74iMj/vMBLUCksy4eEaGofnfIMFKMMZWg1SDVINUg9xskDgzUbyTKpAqkCqQKpA7BMIsnryrBqkGqQapBvltkPfhBw==\",\"2023-03-19T16:40:09.3347276Z\"]}]}', extra='')\n"
     ]
    },
    {
     "name": "stdout",
     "output_type": "stream",
     "text": [
      "CarData.z 7ZYxbsMwDEXvwtkJKJKSTK1Bb9AuLToERYAWKDyk2QzfPY4zVqhZbq28yIahD1JfX88a4WG4nD9OX1BeRni6vEEBQuId8i7oY0hFsGC/F9KcND5DB4fjeZ49QrgNh/fjMJw+lw8IhXNOHRAU7ICXUZYx3t9vj2laJnyTCopFKhUpGnQBfy8Mi7C2TlNFd6vJ22rvrEhec8hrDtUiwFHIouVqfKIpeY5Nua80O4XstUhqrUpIFm2Mzm5TzVtLxez1p/f5M0t/4lXsNUvUNV5JUFPiqoGjjVet84pNzKnzCrUNXuWNV+u8yjOvQuJVXqEG//3KEriNV/+ZV2hKT51XZDnIf59XZNE2zivdB9SU8vr9iqLpL1ffCd541TSvSEW8vOJZ3ASvsuWUtMCr1+kK\n",
      "Position.z 7ZQ9a8MwFEX/y5vtoPehz71zC83QpnQIJYMpSUriTsH/vbEVglLSV5JZi5FBh3d1Jc4Bnrb7ru+2G0hvB5h369W+X66/IAEZ4tZwi3GOLolJJswkSrCWFtDAw6bfdas9pAPg+Hnul/338RceN/Pd8uPzuOUFUoscXQOvkKyRBhaQEMPQAGkIRj8hrbUFIhpCwU4IGSwQNBojjDlZDCVzx2lQzSYcJsahLxmnzjF5DtmLbEFlJM9hX3ZAagfEfDpPiegVYEbIl8ch9UbZSo4WL+awGo1Ocy4Qtek/GvDqGBsn5rgoGFYruP5yRM929UatVbO5zKCUr83dXptXK+Bx74iMj/vMBLUCksy4eEaGofnfIMFKMMZWg1SDVINUg9xskDgzUbyTKpAqkCqQKpA7BMIsnryrBqkGqQapBvltkPfhBw==\n"
     ]
    },
    {
     "name": "stderr",
     "output_type": "stream",
     "text": [
      "DEBUG:signalr_async.client:Raw message received: WSMessage(type=<WSMsgType.TEXT: 1>, data='{\"C\":\"d-F23263D5-B,0|Df,0|Dg,11|d,9C|p,90C|o,90B|a,1|Y,D|Dh,0|n,1|W,2|c,27|i,1|X,C|k,3|l,1|r,2|Z,1|s,59F\",\"M\":[{\"H\":\"Streaming\",\"M\":\"feed\",\"A\":[\"CarData.z\",\"7ZQ9DsIwDIXv4rlFtvOfteIGsIAYKlQJJNQBulW9O206UiB4pYsTRf5k+yV5PWzb7n5tHhCPPey7M0RgZFWiKinsyEaNkXCDHIxCf4ACqvo+ZvdAU6gudds2t3SAEJULvgCGiAWoFHWKZt5PyzCkhBeUnQ4ZqF5AMYMj/B2kBC7NmVVR3KqVtuqFFVkqDkvF4aUnkAUqKSi4jnlGJwSVVBy91Komm/M/jBF2a6XCOqk+XqbPiH5yKoVB+2C/OpVnK3QqMsGtTrU61epUb5yKMYf9B6c6DU8=\",\"2023-03-19T16:40:10.3094896Z\"]},{\"H\":\"Streaming\",\"M\":\"feed\",\"A\":[\"Position.z\",\"7ZQ7a8NAEIT/y9ZSuH3cs3edQFwkDilEcCGC5WArldF/j6Uz5hScDUmtRpzgPmZ2bpkTPOyPbd/uO0gvJ1i3u+2xb3YfkIAMcW24xrhGl8QkNHcGxZHQBipYdf2h3R4hnQDHz2Pf9J/nX7jv1ofm7f185QlSjRxdBc+QrJEKNpAQw1ABaQhGPyG1tQUiGkLBTggZLBA0GiOM2VkMJfOPaVD1JhwmxqEvGafqmKxDduYtqIxkHfZlBqRmQMyXeUpEjwAzQr4ch9QXZSvZWpzpsGqNLjozRE36hwS8KmPjxJwPBcNqBLc3R3RvN1/UWtWbywxKuW3u77F5NQIe747IuNxXJqgRkGTGxSsyDNXvDcIs1lu3NMjSIEuDLA3yvUFehy8=\",\"2023-03-19T16:40:10.3345756Z\"]}]}', extra='')\n"
     ]
    },
    {
     "name": "stdout",
     "output_type": "stream",
     "text": [
      "CarData.z 7ZQ9DsIwDIXv4rlFtvOfteIGsIAYKlQJJNQBulW9O206UiB4pYsTRf5k+yV5PWzb7n5tHhCPPey7M0RgZFWiKinsyEaNkXCDHIxCf4ACqvo+ZvdAU6gudds2t3SAEJULvgCGiAWoFHWKZt5PyzCkhBeUnQ4ZqF5AMYMj/B2kBC7NmVVR3KqVtuqFFVkqDkvF4aUnkAUqKSi4jnlGJwSVVBy91Komm/M/jBF2a6XCOqk+XqbPiH5yKoVB+2C/OpVnK3QqMsGtTrU61epUb5yKMYf9B6c6DU8=\n",
      "Position.z 7ZQ7a8NAEIT/y9ZSuH3cs3edQFwkDilEcCGC5WArldF/j6Uz5hScDUmtRpzgPmZ2bpkTPOyPbd/uO0gvJ1i3u+2xb3YfkIAMcW24xrhGl8QkNHcGxZHQBipYdf2h3R4hnQDHz2Pf9J/nX7jv1ofm7f185QlSjRxdBc+QrJEKNpAQw1ABaQhGPyG1tQUiGkLBTggZLBA0GiOM2VkMJfOPaVD1JhwmxqEvGafqmKxDduYtqIxkHfZlBqRmQMyXeUpEjwAzQr4ch9QXZSvZWpzpsGqNLjozRE36hwS8KmPjxJwPBcNqBLc3R3RvN1/UWtWbywxKuW3u77F5NQIe747IuNxXJqgRkGTGxSsyDNXvDcIs1lu3NMjSIEuDLA3yvUFehy8=\n"
     ]
    },
    {
     "name": "stderr",
     "output_type": "stream",
     "text": [
      "DEBUG:signalr_async.client:Connection keepalive\n",
      "DEBUG:signalr_async.client:Sending: message_content='{}', is_binary=False\n",
      "DEBUG:signalr_async.client:Raw message received: WSMessage(type=<WSMsgType.TEXT: 1>, data='{\"C\":\"d-F23263D5-B,0|Df,0|Dg,11|d,9C|p,90D|o,90C|a,1|Y,D|Dh,0|n,1|W,2|c,27|i,1|X,C|k,3|l,1|r,2|Z,1|s,59F\",\"M\":[{\"H\":\"Streaming\",\"M\":\"feed\",\"A\":[\"CarData.z\",\"7Za/asMwEIff5WYn3D9ZJ62hb9AuLR1CCbRQPKTZjN89jjLW1OqRzVrOxuhDp5/MJ43wNFzOX6cfyG8jvFw+IAMjyw5lR+mZ+qyYCffBkqrpK3RwOJ7n0SPQrRw+j8Nw+i4fELLEwB0wZOxAStVSw/399pimMuAXSlYB6gKIFRzh/0Eq4NIqq2Z0t9p7WzXnjOwNh73h8NIPUAWKF3Rsx32N0QmKNxxdalUxxQo2BGe3vTfY6M3HfPnM6F+eMk5KQuue4uT0VNUWNk01TW1SUxRrzv+Na4r2yEmMbVVTvYWmqaappqmH36a0aWpdU4JJ5uvUqqZCoqappqmmqcdqSqLUHP9b0NT7dAU=\",\"2023-03-19T16:40:11.3093413Z\"]},{\"H\":\"Streaming\",\"M\":\"feed\",\"A\":[\"Position.z\",\"7ZQ9a8MwFEX/y5vtoPehz71zC83QpnQIJYMpSUriTsH/vbEVglLSV5JZi5FBh3d1Jc4Bnrb7ru+2G0hvB5h369W+X66/IAEZ4tZwi3GOLolJaGbCYp2RBTTwsOl33WoP6QA4fp77Zf99/IXHzXy3/Pg8bnmB1CJH18ArJGukgQUkxDA0QBqC0U9Ia22BiIZQsBNCBgsEjcYIY04WQ8nccRpUswmHiXHoS8apc0yeQ/YiW1AZyXPYlx2Q2gExn85TInoFmBHy5XFIvVG2kqPFizmsRqPTnAtEbfqPBrw6xsaJOS4KhtUKrr8c0bNdvVFr1WwuMyjla3O31+bVCnjcOyLj4z4zQa2AJDMunpFhaP43iPNiiWM1SDVINUg1yB0GiVYkIFeDVINUg1SD3GwQnJEXYfLVINUg1SDVIL8N8j78AA==\",\"2023-03-19T16:40:11.2744327Z\"]}]}', extra='')\n"
     ]
    },
    {
     "name": "stdout",
     "output_type": "stream",
     "text": [
      "CarData.z 7Za/asMwEIff5WYn3D9ZJ62hb9AuLR1CCbRQPKTZjN89jjLW1OqRzVrOxuhDp5/MJ43wNFzOX6cfyG8jvFw+IAMjyw5lR+mZ+qyYCffBkqrpK3RwOJ7n0SPQrRw+j8Nw+i4fELLEwB0wZOxAStVSw/399pimMuAXSlYB6gKIFRzh/0Eq4NIqq2Z0t9p7WzXnjOwNh73h8NIPUAWKF3Rsx32N0QmKNxxdalUxxQo2BGe3vTfY6M3HfPnM6F+eMk5KQuue4uT0VNUWNk01TW1SUxRrzv+Na4r2yEmMbVVTvYWmqaappqmH36a0aWpdU4JJ5uvUqqZCoqappqmmqcdqSqLUHP9b0NT7dAU=\n",
      "Position.z 7ZQ9a8MwFEX/y5vtoPehz71zC83QpnQIJYMpSUriTsH/vbEVglLSV5JZi5FBh3d1Jc4Bnrb7ru+2G0hvB5h369W+X66/IAEZ4tZwi3GOLolJaGbCYp2RBTTwsOl33WoP6QA4fp77Zf99/IXHzXy3/Pg8bnmB1CJH18ArJGukgQUkxDA0QBqC0U9Ia22BiIZQsBNCBgsEjcYIY04WQ8nccRpUswmHiXHoS8apc0yeQ/YiW1AZyXPYlx2Q2gExn85TInoFmBHy5XFIvVG2kqPFizmsRqPTnAtEbfqPBrw6xsaJOS4KhtUKrr8c0bNdvVFr1WwuMyjla3O31+bVCnjcOyLj4z4zQa2AJDMunpFhaP43iPNiiWM1SDVINUg1yB0GiVYkIFeDVINUg1SD3GwQnJEXYfLVINUg1SDVIL8N8j78AA==\n"
     ]
    },
    {
     "name": "stderr",
     "output_type": "stream",
     "text": [
      "DEBUG:signalr_async.client:Raw message received: WSMessage(type=<WSMsgType.TEXT: 1>, data='{\"C\":\"d-F23263D5-B,0|Df,0|Dg,11|d,9C|p,90E|o,90D|a,1|Y,D|Dh,0|n,1|W,2|c,27|i,1|X,C|k,3|l,1|r,2|Z,1|s,59F\",\"M\":[{\"H\":\"Streaming\",\"M\":\"feed\",\"A\":[\"CarData.z\",\"7ZS7agMxEEX/Zeq1mZeerckfJI1DChMMCYQtHHfL/nvWcmmTlYd0mWa0CB00utKeCZ7G8+nz+A31dYKX8ztUYGTZoGyoPFOsipVoG7QIhryHAXaH07J6ArqU3cdhHI9fbQKhSkAdgKHiANKqthqu35dhntuCGxQ7ODVyhI+D1MB7h+za0dxqtLaajTuyNRy2hsPW+2exgobruJ4xGUGxhqP3WmUN1MGGYOw2WoNN1nyyLZ8F/U1TKRdOKOuaoq5X45pyTbmm+jW1/H1uqTVL8Za0MMVVSWmMLimXlEvqbyXVA/57RUkulDGsOyr1GN8d5Y5yR7mjHnbU2/wD\",\"2023-03-19T16:40:12.3891805Z\"]},{\"H\":\"Streaming\",\"M\":\"feed\",\"A\":[\"Position.z\",\"7ZS9asMwFEbf5c520P2RLGnv3EIztCkdQslgSpySuFPwu9e2QlBKeksyazE26Ph++iTOEZ52h7Zvdx3EtyMs2+3m0K+3XxCBDHFtuMawRBfFRMSFWBFjeQUVPHT9vt0cIB4Bp8dzv+6/x0947Jb79cfnuOQFYo0cXAWvEK2RClYw/sUPFZCGYGhmpLY2Q0RDyNsZIYMZgkZjhDElCz5n7tgNqtmE/cw4bHLGqXNMmkP2IptXGUlzuMk7ILUDYj7tJ0f0CjAh1OTbIfVE2UqKFi7msBqNTnMuELXpPxpo1DE2zMz4kjGsVnD95oie7eqJWqtmc4lByW+bu722Rq2Ap7UTMl3uM+PVCkgS48IZGYbqf4P4sTxrXDFIMUgxSDHIHQYJQZiYikGKQYpBikFuNggthIWsk2KQYpBikGKQ3wZ5H34A\",\"2023-03-19T16:40:12.4342564Z\"]}]}', extra='')\n",
      "DEBUG:signalr_async.client:Raw message received: WSMessage(type=<WSMsgType.TEXT: 1>, data='{}', extra='')\n"
     ]
    },
    {
     "name": "stdout",
     "output_type": "stream",
     "text": [
      "CarData.z 7ZS7agMxEEX/Zeq1mZeerckfJI1DChMMCYQtHHfL/nvWcmmTlYd0mWa0CB00utKeCZ7G8+nz+A31dYKX8ztUYGTZoGyoPFOsipVoG7QIhryHAXaH07J6ArqU3cdhHI9fbQKhSkAdgKHiANKqthqu35dhntuCGxQ7ODVyhI+D1MB7h+za0dxqtLaajTuyNRy2hsPW+2exgobruJ4xGUGxhqP3WmUN1MGGYOw2WoNN1nyyLZ8F/U1TKRdOKOuaoq5X45pyTbmm+jW1/H1uqTVL8Za0MMVVSWmMLimXlEvqbyXVA/57RUkulDGsOyr1GN8d5Y5yR7mjHnbU2/wD\n",
      "Position.z 7ZS9asMwFEbf5c520P2RLGnv3EIztCkdQslgSpySuFPwu9e2QlBKeksyazE26Ph++iTOEZ52h7Zvdx3EtyMs2+3m0K+3XxCBDHFtuMawRBfFRMSFWBFjeQUVPHT9vt0cIB4Bp8dzv+6/x0947Jb79cfnuOQFYo0cXAWvEK2RClYw/sUPFZCGYGhmpLY2Q0RDyNsZIYMZgkZjhDElCz5n7tgNqtmE/cw4bHLGqXNMmkP2IptXGUlzuMk7ILUDYj7tJ0f0CjAh1OTbIfVE2UqKFi7msBqNTnMuELXpPxpo1DE2zMz4kjGsVnD95oie7eqJWqtmc4lByW+bu722Rq2Ap7UTMl3uM+PVCkgS48IZGYbqf4P4sTxrXDFIMUgxSDHIHQYJQZiYikGKQYpBikFuNggthIWsk2KQYpBikGKQ3wZ5H34A\n"
     ]
    },
    {
     "name": "stderr",
     "output_type": "stream",
     "text": [
      "DEBUG:signalr_async.client:Raw message received: WSMessage(type=<WSMsgType.TEXT: 1>, data='{\"C\":\"d-F23263D5-B,0|Df,0|Dg,11|d,9C|p,90F|o,90E|a,1|Y,D|Dh,0|n,1|W,2|c,27|i,1|X,C|k,3|l,1|r,2|Z,1|s,59F\",\"M\":[{\"H\":\"Streaming\",\"M\":\"feed\",\"A\":[\"CarData.z\",\"7Ze/CsIwEMbf5ea23J+kbbKKb6CL4lBEUJAOtVvpu2vTUdF6oNMtlxDykbvvwo9kgHXbd5fTDeJ+gG1/hAiMLDlKTmFDZXQYiQtfB/IYdpDBqukeuwegKazOTduermkBIYpjyYAhYgaSokvRz/NpGMe04UmKC3ROqSP8XkhJ+KrIRSeqUy21qdbKE1lrDmvNYW3/WbRCRTvmGiulULTmOO3N8V6Zaql1tdKaU+vMeUjfMSpgIJSPiBJfGqIMUYYoQ9SfESUFc0DvFzAq2DPKGGWMMkb9n1GuQqSw4Ktn7yhjlDHKGPUbRh3GOw==\",\"2023-03-19T16:40:13.4700199Z\"]},{\"H\":\"Streaming\",\"M\":\"feed\",\"A\":[\"Position.z\",\"7ZY9a8MwEIb/y8120N1J1sfeuYVmaFM6hJLBlDglcafg/17bCkEp6ZVkvsXYoId79Uo8+AhPu0Pbt7sO0tsRlu12c+jX2y9IQIa4NlxjXGKTrElIC8eWLNIKKnjo+n27OUA6Ak6P537df4+f8Ngt9+uPz3HJC6QaOTYVvEJyxlawgoQYhgpIQjD6GamdKxArIRTcjJDBAkEjMZYxJ4uhZO7YDYrZLIeZadCXTCPOMXkOuYtsQWRsnsO+7IDEDoj5tJ8SkSvAjJAvt0PiibKzOVq8mMNiNDrNuUDEpv9owItjXJyZ8aVgWKzg+s2xcrarJ+qcmK3JDNrytjW31+bFCnhaOyHT5T4zQayAbGaaeEaGofrfIH40CJqgBlGDqEHUIHcYJDqL3rMaRA2iBlGD3GwQXoxXAW3UfxA1iBpEDXKPQRjdGNGpQdQgahA1yG+DvA8/\",\"2023-03-19T16:40:13.3151225Z\"]}]}', extra='')\n"
     ]
    },
    {
     "name": "stdout",
     "output_type": "stream",
     "text": [
      "CarData.z 7Ze/CsIwEMbf5ea23J+kbbKKb6CL4lBEUJAOtVvpu2vTUdF6oNMtlxDykbvvwo9kgHXbd5fTDeJ+gG1/hAiMLDlKTmFDZXQYiQtfB/IYdpDBqukeuwegKazOTduermkBIYpjyYAhYgaSokvRz/NpGMe04UmKC3ROqSP8XkhJ+KrIRSeqUy21qdbKE1lrDmvNYW3/WbRCRTvmGiulULTmOO3N8V6Zaql1tdKaU+vMeUjfMSpgIJSPiBJfGqIMUYYoQ9SfESUFc0DvFzAq2DPKGGWMMkb9n1GuQqSw4Ktn7yhjlDHKGPUbRh3GOw==\n",
      "Position.z 7ZY9a8MwEIb/y8120N1J1sfeuYVmaFM6hJLBlDglcafg/17bCkEp6ZVkvsXYoId79Uo8+AhPu0Pbt7sO0tsRlu12c+jX2y9IQIa4NlxjXGKTrElIC8eWLNIKKnjo+n27OUA6Ak6P537df4+f8Ngt9+uPz3HJC6QaOTYVvEJyxlawgoQYhgpIQjD6GamdKxArIRTcjJDBAkEjMZYxJ4uhZO7YDYrZLIeZadCXTCPOMXkOuYtsQWRsnsO+7IDEDoj5tJ8SkSvAjJAvt0PiibKzOVq8mMNiNDrNuUDEpv9owItjXJyZ8aVgWKzg+s2xcrarJ+qcmK3JDNrytjW31+bFCnhaOyHT5T4zQayAbGaaeEaGofrfIH40CJqgBlGDqEHUIHcYJDqL3rMaRA2iBlGD3GwQXoxXAW3UfxA1iBpEDXKPQRjdGNGpQdQgahA1yG+DvA8/\n"
     ]
    },
    {
     "name": "stderr",
     "output_type": "stream",
     "text": [
      "DEBUG:signalr_async.client:Raw message received: WSMessage(type=<WSMsgType.TEXT: 1>, data='{\"C\":\"d-F23263D5-B,0|Df,0|Dg,11|d,9C|p,910|o,90F|a,1|Y,D|Dh,0|n,1|W,2|c,27|i,1|X,C|k,3|l,1|r,2|Z,1|s,59F\",\"M\":[{\"H\":\"Streaming\",\"M\":\"feed\",\"A\":[\"CarData.z\",\"7ZS/CsJADMbfJXNbcsn9X4tvoIviUKSgIB20W+m7215HFWtAp1tyx5GPJF+O3wCbrr9d2jvEwwC7/gQRCIlL5FKFrbJRY1RceQrBuj0UUDe3KXkANYf63HRde00PCJFZcwEEEQvgFHWKZrnPxzimhCcprtBpoU7h90KVhK+GXFVR3KqVtuqFFUlqDknNIen+iaVCwTqWGZ1QyFJztPTnGCNs1UpddVJzvMycSfoeUbqiCVG4AlFOZURlRGVEZUT9HVEGg7fGfGYU+cyozKjMqMyoXzDqOD4A\",\"2023-03-19T16:40:14.5098655Z\"]},{\"H\":\"Streaming\",\"M\":\"feed\",\"A\":[\"Position.z\",\"7Zc9a8MwEIb/y8120N3pw9LeuYVmaFM6hJLBlDglcafg/17bCkEp6ZVkvsXYoId79Vp+wEd42h3avt11kN6OsGy3m0O/3n5BAjLEteEa4xJ9siYhL3xwxoewggoeun7fbg6QjoDT5blf99/jIzx2y/3643Nc8gKpRo6+gldIztgKVpAQm6ECkhCMYUZq5wrESgg1bkbIYIGgkRjLmJPFpmTu2A2K2Sw3M+MxlIwX55g8h9xFtkZkbJ7DoeyAxA6I+bSfEpErwIxQKLdD4htlZ3O0eDGHxWh0mnOBiE3/0UAQx7g4M+NNwbBYwfWTY+VsV9+oc2I2nxm05Wnzt9cWxAp4Wjsh0+E+M41YAdnM+HhGhqH63yANj58OWzWIGkQNoga52SB2YdAZ9KgGUYOoQdQgdxiEgo3BOzWIGkQNoga5wyDjH0x0RGoQNYgaRA3y2yDvww8=\",\"2023-03-19T16:40:14.4349522Z\"]}]}', extra='')\n"
     ]
    },
    {
     "name": "stdout",
     "output_type": "stream",
     "text": [
      "CarData.z 7ZS/CsJADMbfJXNbcsn9X4tvoIviUKSgIB20W+m7215HFWtAp1tyx5GPJF+O3wCbrr9d2jvEwwC7/gQRCIlL5FKFrbJRY1RceQrBuj0UUDe3KXkANYf63HRde00PCJFZcwEEEQvgFHWKZrnPxzimhCcprtBpoU7h90KVhK+GXFVR3KqVtuqFFUlqDknNIen+iaVCwTqWGZ1QyFJztPTnGCNs1UpddVJzvMycSfoeUbqiCVG4AlFOZURlRGVEZUT9HVEGg7fGfGYU+cyozKjMqMyoXzDqOD4A\n",
      "Position.z 7Zc9a8MwEIb/y8120N3pw9LeuYVmaFM6hJLBlDglcafg/17bCkEp6ZVkvsXYoId79Vp+wEd42h3avt11kN6OsGy3m0O/3n5BAjLEteEa4xJ9siYhL3xwxoewggoeun7fbg6QjoDT5blf99/jIzx2y/3643Nc8gKpRo6+gldIztgKVpAQm6ECkhCMYUZq5wrESgg1bkbIYIGgkRjLmJPFpmTu2A2K2Sw3M+MxlIwX55g8h9xFtkZkbJ7DoeyAxA6I+bSfEpErwIxQKLdD4htlZ3O0eDGHxWh0mnOBiE3/0UAQx7g4M+NNwbBYwfWTY+VsV9+oc2I2nxm05Wnzt9cWxAp4Wjsh0+E+M41YAdnM+HhGhqH63yANj58OWzWIGkQNoga52SB2YdAZ9KgGUYOoQdQgdxiEgo3BOzWIGkQNoga5wyDjH0x0RGoQNYgaRA3y2yDvww8=\n"
     ]
    },
    {
     "name": "stderr",
     "output_type": "stream",
     "text": [
      "DEBUG:signalr_async.client:Raw message received: WSMessage(type=<WSMsgType.TEXT: 1>, data='{\"C\":\"d-F23263D5-B,0|Df,0|Dg,11|d,9C|p,911|o,910|a,1|Y,D|Dh,0|n,1|W,2|c,27|i,1|X,C|k,3|l,1|r,2|Z,1|s,59F\",\"M\":[{\"H\":\"Streaming\",\"M\":\"feed\",\"A\":[\"CarData.z\",\"7Za/CsIwEMbf5ea2XC7/sxbfQBfFoUhBQTrUbqXvbpqOKq0HOmW5hHAfufsu/MgIu27ob+0DwmmEw3CBAIQkS5Sl8HthgsIgVOXRO9T+CAXUTR+zRxBzqK9N17X3dIAQpCYsgCDEKFNUKeplPy/TlBJepFt0iqkT+L1QJOG7JjfdyC7VcEt1zBuJaw5xzSHu/ElyhYxxLD1aplByzVHcl6M1s1TDddVyzXE8c6L0M6N0hcZbJ+wqo5SzmVGZUZlRmVF/ZxRFRmkS6/8o7TOjMqMyozKjfsGo8/QE\",\"2023-03-19T16:40:15.2697521Z\"]},{\"H\":\"Streaming\",\"M\":\"feed\",\"A\":[\"Position.z\",\"7ZS9asMwFEbf5c520P2RZGnv3EIztCkdQslgSpySuFPwu9e2QlBKeksyazEy6HA/fRLnCE+7Q9u3uw7i2xGW7XZz6NfbL4hAhrg2XGNYootiIsrCeglswgoqeOj6fbs5QDwCTp/nft1/j7/w2C3364/PccsLxBo5uApeIVojFawgIjZDBaQhGPyM1NZmiGgINXZGyGCGoNEYYUzJQpMzd5wG1WzCzcw49Dnj1DkmzSF7ka1RGUlz2OcdkNoBMZ/OkyN6BZgQ8vlxSL1RtpKihYs5rEaj05wLRG36jwa8OsaGmRkXGcNqBddfjujZrt6otWo2lxiU/LW522vzagU87Z2Q6XGfmUatgCQxLpyRYaj+N4i3Egy7YpBikGKQYpA7DBK8NN5gMUgxSDFIMcjNBrELGg1CYotBikGKQYpBfhvkffgB\",\"2023-03-19T16:40:15.2748245Z\"]}]}', extra='')\n"
     ]
    },
    {
     "name": "stdout",
     "output_type": "stream",
     "text": [
      "CarData.z 7Za/CsIwEMbf5ea2XC7/sxbfQBfFoUhBQTrUbqXvbpqOKq0HOmW5hHAfufsu/MgIu27ob+0DwmmEw3CBAIQkS5Sl8HthgsIgVOXRO9T+CAXUTR+zRxBzqK9N17X3dIAQpCYsgCDEKFNUKeplPy/TlBJepFt0iqkT+L1QJOG7JjfdyC7VcEt1zBuJaw5xzSHu/ElyhYxxLD1aplByzVHcl6M1s1TDddVyzXE8c6L0M6N0hcZbJ+wqo5SzmVGZUZlRmVF/ZxRFRmkS6/8o7TOjMqMyozKjfsGo8/QE\n",
      "Position.z 7ZS9asMwFEbf5c520P2RZGnv3EIztCkdQslgSpySuFPwu9e2QlBKeksyazEy6HA/fRLnCE+7Q9u3uw7i2xGW7XZz6NfbL4hAhrg2XGNYootiIsrCeglswgoqeOj6fbs5QDwCTp/nft1/j7/w2C3364/PccsLxBo5uApeIVojFawgIjZDBaQhGPyM1NZmiGgINXZGyGCGoNEYYUzJQpMzd5wG1WzCzcw49Dnj1DkmzSF7ka1RGUlz2OcdkNoBMZ/OkyN6BZgQ8vlxSL1RtpKihYs5rEaj05wLRG36jwa8OsaGmRkXGcNqBddfjujZrt6otWo2lxiU/LW522vzagU87Z2Q6XGfmUatgCQxLpyRYaj+N4i3Egy7YpBikGKQYpA7DBK8NN5gMUgxSDFIMcjNBrELGg1CYotBikGKQYpBfhvkffgB\n"
     ]
    },
    {
     "name": "stderr",
     "output_type": "stream",
     "text": [
      "DEBUG:signalr_async.client:Connection keepalive\n",
      "DEBUG:signalr_async.client:Sending: message_content='{}', is_binary=False\n",
      "DEBUG:signalr_async.client:Raw message received: WSMessage(type=<WSMsgType.TEXT: 1>, data='{\"C\":\"d-F23263D5-B,0|Df,0|Dg,11|d,9C|p,912|o,911|a,1|Y,D|Dh,0|n,1|W,2|c,27|i,1|X,C|k,3|l,1|r,2|Z,1|s,59F\",\"M\":[{\"H\":\"Streaming\",\"M\":\"feed\",\"A\":[\"CarData.z\",\"7Zc9C8IwEIb/y821XD4uX6v4D3RRHIoICtJBu5X+d2s6KjYe6nTLJYR7yeXN8ZD0sGq76/l4g7TrYdMdIIFGbRZoFiqulUsWk6KabPQK3RYqWDbXMbsH9QjLU9O2x0teQEiGMFagIWEFJkebI03zxzAMOeFJigU6y9Qp/FyosvDVIYt2ZJfquKUG5o6aa47mmqO5968NV8i4jumMnik0XHMst3OImKU6rquea07gmTNK3zEqYnTk4iyjrC9qGWGUMEoYJYz6IqNcrUZGaRfm31FBGCWMEkYJo/7PKBMiBfIFfz0jjBJGCaOEUb9g1H64Aw==\",\"2023-03-19T16:40:16.3895857Z\"]},{\"H\":\"Streaming\",\"M\":\"feed\",\"A\":[\"Position.z\",\"7ZQ9a8MwEIb/y8120J3u9LV3bqEZ2pQOoWQwJUlJ3Cn4vze2QlBKeiWZtRgZ9HCvXonnAE/bfdd32w2ktwPMu/Vq3y/XX5CADNnW2BbjHF1ik1BmIuwDLaCBh02/61Z7SAfA8fPcL/vv4y88bua75cfnccsLpBZtdA28QhLDDSwgIYahAdIQjH5CWpECYQ2hIBNCBgsEjcawxZwshpK54zSoZmMbJsahLxmnzjF5DslFtqAynOdYX3ZAagdk7ek8JaJXgBkhXx6H1Bu1wjlavJhj1Wh0mnOBqE3/0YBXx0icmOOiYKxawfWXw3q2qzcqomZzmUEuX5u7vTavVmDHvSMyPu4zE9QKiDPj4hkZhuZ/gfjInkWqQapBqkGqQW42iJsRsgvoq0GqQapBqkHuMIj17MRzNUg1SDVINchvg7wPPw==\",\"2023-03-19T16:40:16.3746574Z\"]}]}', extra='')\n"
     ]
    },
    {
     "name": "stdout",
     "output_type": "stream",
     "text": [
      "CarData.z 7Zc9C8IwEIb/y821XD4uX6v4D3RRHIoICtJBu5X+d2s6KjYe6nTLJYR7yeXN8ZD0sGq76/l4g7TrYdMdIIFGbRZoFiqulUsWk6KabPQK3RYqWDbXMbsH9QjLU9O2x0teQEiGMFagIWEFJkebI03zxzAMOeFJigU6y9Qp/FyosvDVIYt2ZJfquKUG5o6aa47mmqO5968NV8i4jumMnik0XHMst3OImKU6rquea07gmTNK3zEqYnTk4iyjrC9qGWGUMEoYJYz6IqNcrUZGaRfm31FBGCWMEkYJo/7PKBMiBfIFfz0jjBJGCaOEUb9g1H64Aw==\n",
      "Position.z 7ZQ9a8MwEIb/y8120J3u9LV3bqEZ2pQOoWQwJUlJ3Cn4vze2QlBKeiWZtRgZ9HCvXonnAE/bfdd32w2ktwPMu/Vq3y/XX5CADNnW2BbjHF1ik1BmIuwDLaCBh02/61Z7SAfA8fPcL/vv4y88bua75cfnccsLpBZtdA28QhLDDSwgIYahAdIQjH5CWpECYQ2hIBNCBgsEjcawxZwshpK54zSoZmMbJsahLxmnzjF5DslFtqAynOdYX3ZAagdk7ek8JaJXgBkhXx6H1Bu1wjlavJhj1Wh0mnOBqE3/0YBXx0icmOOiYKxawfWXw3q2qzcqomZzmUEuX5u7vTavVmDHvSMyPu4zE9QKiDPj4hkZhuZ/gfjInkWqQapBqkGqQW42iJsRsgvoq0GqQapBqkHuMIj17MRzNUg1SDVINchvg7wPPw==\n"
     ]
    },
    {
     "name": "stderr",
     "output_type": "stream",
     "text": [
      "DEBUG:signalr_async.client:Raw message received: WSMessage(type=<WSMsgType.TEXT: 1>, data='{\"C\":\"d-F23263D5-B,0|Df,0|Dg,11|d,9C|p,913|o,912|a,1|Y,D|Dh,0|n,1|W,2|c,27|i,1|X,C|k,3|l,1|r,2|Z,1|s,59F\",\"M\":[{\"H\":\"Streaming\",\"M\":\"feed\",\"A\":[\"CarData.z\",\"7ZS/jsIwDMbfxXOpEttx/qyIN4AFdANCSHfSqQPXreq7Q8MIoj3rjsmLE0X+FPuz9Rtg0/WXr/MPlMMAu/4EBdAhrRytfN56KeyKlzakHILQHhpYHy+37AH8FNafx647f9cHB4Uo+gYQimuAauQaw/0+HeNYEx6kboGOlTrvfi/0VfisyUU/qksVbalJ+SNqzUGtOaidP5JWqBjHvceoFJLWHNZuTgjKUkXratSak3Tm3KSvGBU5B8I4zyhZtDLGKGOUMcoY9YeMiq2TzInnGRVyMkYZo4xRxqi3M4oxM3meZZQIG6OMUcYoY9R/MOpjvAI=\",\"2023-03-19T16:40:17.4294314Z\"]},{\"H\":\"Streaming\",\"M\":\"feed\",\"A\":[\"Position.z\",\"7ZSxasMwEIbf5WY76HQnydKeuYVmaFM6hJLBlCQlcafgd69thaCU9Eo932Jk0Mf9+iW+MzweTm3XHvaQXs+wanfbU7fZfUICayzVhmqMK/SJTUK/cMSeiNdQwXLfHdvtCdIZcPw8dZvua/iFh/3quHn/GLY8Q6qRoq/gBZIzXMEaEmLTV2AlBGOYkNq5AmEJsY2bEGuwQNBIDBPmZLEpmRmnQTEbUzMxHkPJeHGOyXOsu8nWiAznORTKDqzYgSW6nKdE5AowIzaUx7HijZLjHC3ezCExmr3MuUHEpn9pIIhjXJyYYVEwJFZw/+WwnO3ujTonZvOZQS5fm/9/bUGsgMa9IzI+7ivTiBVYzoyPV6Tvq78NEgaDGDWIGkQNogaZYZCwMMjOI6pB1CBqEDXIDINgYEc+qEHUIGoQNcgMg9BgEONJDaIGUYOoQX4a5K3/Bg==\",\"2023-03-19T16:40:17.3745063Z\"]}]}', extra='')\n"
     ]
    },
    {
     "name": "stdout",
     "output_type": "stream",
     "text": [
      "CarData.z 7ZS/jsIwDMbfxXOpEttx/qyIN4AFdANCSHfSqQPXreq7Q8MIoj3rjsmLE0X+FPuz9Rtg0/WXr/MPlMMAu/4EBdAhrRytfN56KeyKlzakHILQHhpYHy+37AH8FNafx647f9cHB4Uo+gYQimuAauQaw/0+HeNYEx6kboGOlTrvfi/0VfisyUU/qksVbalJ+SNqzUGtOaidP5JWqBjHvceoFJLWHNZuTgjKUkXratSak3Tm3KSvGBU5B8I4zyhZtDLGKGOUMcoY9YeMiq2TzInnGRVyMkYZo4xRxqi3M4oxM3meZZQIG6OMUcYoY9R/MOpjvAI=\n",
      "Position.z 7ZSxasMwEIbf5WY76HQnydKeuYVmaFM6hJLBlCQlcafgd69thaCU9Eo932Jk0Mf9+iW+MzweTm3XHvaQXs+wanfbU7fZfUICayzVhmqMK/SJTUK/cMSeiNdQwXLfHdvtCdIZcPw8dZvua/iFh/3quHn/GLY8Q6qRoq/gBZIzXMEaEmLTV2AlBGOYkNq5AmEJsY2bEGuwQNBIDBPmZLEpmRmnQTEbUzMxHkPJeHGOyXOsu8nWiAznORTKDqzYgSW6nKdE5AowIzaUx7HijZLjHC3ezCExmr3MuUHEpn9pIIhjXJyYYVEwJFZw/+WwnO3ujTonZvOZQS5fm/9/bUGsgMa9IzI+7ivTiBVYzoyPV6Tvq78NEgaDGDWIGkQNogaZYZCwMMjOI6pB1CBqEDXIDINgYEc+qEHUIGoQNcgMg9BgEONJDaIGUYOoQX4a5K3/Bg==\n"
     ]
    },
    {
     "name": "stderr",
     "output_type": "stream",
     "text": [
      "DEBUG:signalr_async.client:Raw message received: WSMessage(type=<WSMsgType.TEXT: 1>, data='{\"C\":\"d-F23263D5-B,0|Df,0|Dg,11|d,9C|p,914|o,913|a,1|Y,D|Dh,0|n,1|W,2|c,27|i,1|X,C|k,3|l,1|r,2|Z,1|s,59F\",\"M\":[{\"H\":\"Streaming\",\"M\":\"feed\",\"A\":[\"CarData.z\",\"7ZbPCsIwDMbfJec5kvR/r8M30IviYchAQXbQ3cbe3a07Km4G9NRLWko+mnwpP9rDtu3u1+YB8djDvjtDBEZWG1QbCjuyUWMkVxofNDp3gAKq+j5m90BTqC512za3dIAQlbW6AIaIBagUdYpm3k/LMKSEFymu0GmhjvB7ISXhuyZX3Sgu1UpL9cIbWWoOS81h6fxZSYWCccw9OqFQSc3R0pdjjLBUK3XVSc3xMnNG6SdGeRuUNWGJUeR1ZlRmVGZUZtS/GeVLwqA4LP6jGENGVEZURlRG1C8QdRqe\",\"2023-03-19T16:40:18.1093297Z\"]},{\"H\":\"Streaming\",\"M\":\"feed\",\"A\":[\"Position.z\",\"7ZY9a8MwEIb/y8120N3pe+/cQj20KR1CyWBKnJK4U/B/r22FINP0SjJrMTLo4e5eyQ8+wdP+2PbtvoP4doKm3W2P/Wb3BRFIEdeKawwN2qhVRLeyqLUNYQ0VPHT9od0eIZ4Ap8dzv+m/x1d47JrD5uNz3PICsUYOtoJXiEbpCtYQEf1QAUkIBjcjtTEZoiWEvJkRUpghqCRGM6bOgs+ZO6ZBsTfNfmYsupyxYh2V6pBZ9OZFRqc67PIMSMyAmM/z5IgcASaEXD4OiSfKRqfWwqIOi63Ruc4CEZP+IwEnljFhZsZFxrAYwfWbo+Xerp6oMWJvNjHjV5cx9vbYnBgBT3snZLrcF8aLEZBOjA0XZBiq/w3ix1k4mGKQYpBikGKQmw3iV2qcRQUsBikGKQYpBrnDIBQ0W1v+QYpBikGKQX4Z5H34AQ==\",\"2023-03-19T16:40:18.2943665Z\"]}]}', extra='')\n"
     ]
    },
    {
     "name": "stdout",
     "output_type": "stream",
     "text": [
      "CarData.z 7ZbPCsIwDMbfJec5kvR/r8M30IviYchAQXbQ3cbe3a07Km4G9NRLWko+mnwpP9rDtu3u1+YB8djDvjtDBEZWG1QbCjuyUWMkVxofNDp3gAKq+j5m90BTqC512za3dIAQlbW6AIaIBagUdYpm3k/LMKSEFymu0GmhjvB7ISXhuyZX3Sgu1UpL9cIbWWoOS81h6fxZSYWCccw9OqFQSc3R0pdjjLBUK3XVSc3xMnNG6SdGeRuUNWGJUeR1ZlRmVGZUZtS/GeVLwqA4LP6jGENGVEZURlRG1C8QdRqe\n",
      "Position.z 7ZY9a8MwEIb/y8120N3pe+/cQj20KR1CyWBKnJK4U/B/r22FINP0SjJrMTLo4e5eyQ8+wdP+2PbtvoP4doKm3W2P/Wb3BRFIEdeKawwN2qhVRLeyqLUNYQ0VPHT9od0eIZ4Ap8dzv+m/x1d47JrD5uNz3PICsUYOtoJXiEbpCtYQEf1QAUkIBjcjtTEZoiWEvJkRUpghqCRGM6bOgs+ZO6ZBsTfNfmYsupyxYh2V6pBZ9OZFRqc67PIMSMyAmM/z5IgcASaEXD4OiSfKRqfWwqIOi63Ruc4CEZP+IwEnljFhZsZFxrAYwfWbo+Xerp6oMWJvNjHjV5cx9vbYnBgBT3snZLrcF8aLEZBOjA0XZBiq/w3ix1k4mGKQYpBikGKQmw3iV2qcRQUsBikGKQYpBrnDIBQ0W1v+QYpBikGKQX4Z5H34AQ==\n"
     ]
    },
    {
     "name": "stderr",
     "output_type": "stream",
     "text": [
      "DEBUG:signalr_async.client:Raw message received: WSMessage(type=<WSMsgType.TEXT: 1>, data='{\"C\":\"d-F23263D5-B,0|Df,0|Dg,11|d,9D|p,914|o,913|a,1|Y,D|Dh,0|n,1|W,2|c,27|i,1|X,C|k,3|l,1|r,2|Z,1|s,59F\",\"M\":[{\"H\":\"Streaming\",\"M\":\"feed\",\"A\":[\"Heartbeat\",{\"Utc\":\"2023-03-19T16:40:20.8283093Z\",\"_kf\":true},\"2023-03-19T16:40:20.243Z\"]}]}', extra='')\n"
     ]
    },
    {
     "name": "stdout",
     "output_type": "stream",
     "text": [
      "Heartbeat {'Utc': '2023-03-19T16:40:20.8283093Z', '_kf': True}\n"
     ]
    },
    {
     "name": "stderr",
     "output_type": "stream",
     "text": [
      "DEBUG:signalr_async.client:Raw message received: WSMessage(type=<WSMsgType.TEXT: 1>, data='{\"C\":\"d-F23263D5-B,0|Df,0|Dg,11|d,9D|p,915|o,914|a,1|Y,D|Dh,0|n,1|W,2|c,27|i,1|X,C|k,3|l,1|r,2|Z,1|s,59F\",\"M\":[{\"H\":\"Streaming\",\"M\":\"feed\",\"A\":[\"CarData.z\",\"7ZQxC8IwEIX/y81V7i5N0mQt/gNdFIcigoJ00G6l/92a7oJvscMtlxDuwd174Rtp1w/P+/VF+TTSYbhQJmV1G3YbSXsJueYszdZz0sj+SBW13XPuHkk+pb11fX99lAemzBVpqa7UulS/3D/HNJUGSFeDOuHfhVKE6IYCjxrQURs0DNQcheNH81eHCoE4lh0jKHSoOTX6c7wHRw2oqxE1p8HMmaXfABWbpJrEAGWAMkAZoNYGqLTlmU5JgwHKAGWAMkCtD1AakvjoDFAGKAOUAeovgDpPbw==\",\"2023-03-19T16:40:19.2691573Z\"]},{\"H\":\"Streaming\",\"M\":\"feed\",\"A\":[\"Position.z\",\"7ZQ7a8NAEIT/y9aSuX3cs3edQFwkDilMcCGC7WArldF/j6Uz5hycDU59jZDEfczs3DJHeNwdur7bbSG9HmHRbdaHfrX5hARkiFvDLcYFuiQmYZjZKEwmLqGB+bbfd+sDpCPg+HjqV/3X6RMetov96v3jdOQZUoscXQMvkKyRBpaQEMPQAGkIRj8hrbUFIhpCwU4IGSwQNBojjNlZDCXzj2lQ9SYcJsahLxmn6pisQ/bKW1AZyTrsywxIzYCYz/OUiB4BZoR8OQ6pN8pWsrV4pcOqNTrrXCFq0r8k4FUZGyfm9FIwrEZwe3NE93bzRq1VvbnMoJTb5u6PzasR8Hh2RMblvjBBjYAkMy5ekGFo/m6QYIUCSm2Q2iC1QWqD3N0gccZext+1QWqD1AapDfKzQd6Gbw==\",\"2023-03-19T16:40:19.3742023Z\"]}]}', extra='')\n"
     ]
    },
    {
     "name": "stdout",
     "output_type": "stream",
     "text": [
      "CarData.z 7ZQxC8IwEIX/y81V7i5N0mQt/gNdFIcigoJ00G6l/92a7oJvscMtlxDuwd174Rtp1w/P+/VF+TTSYbhQJmV1G3YbSXsJueYszdZz0sj+SBW13XPuHkk+pb11fX99lAemzBVpqa7UulS/3D/HNJUGSFeDOuHfhVKE6IYCjxrQURs0DNQcheNH81eHCoE4lh0jKHSoOTX6c7wHRw2oqxE1p8HMmaXfABWbpJrEAGWAMkAZoNYGqLTlmU5JgwHKAGWAMkCtD1AakvjoDFAGKAOUAeovgDpPbw==\n",
      "Position.z 7ZQ7a8NAEIT/y9aSuX3cs3edQFwkDilMcCGC7WArldF/j6Uz5hycDU59jZDEfczs3DJHeNwdur7bbSG9HmHRbdaHfrX5hARkiFvDLcYFuiQmYZjZKEwmLqGB+bbfd+sDpCPg+HjqV/3X6RMetov96v3jdOQZUoscXQMvkKyRBpaQEMPQAGkIRj8hrbUFIhpCwU4IGSwQNBojjNlZDCXzj2lQ9SYcJsahLxmn6pisQ/bKW1AZyTrsywxIzYCYz/OUiB4BZoR8OQ6pN8pWsrV4pcOqNTrrXCFq0r8k4FUZGyfm9FIwrEZwe3NE93bzRq1VvbnMoJTb5u6PzasR8Hh2RMblvjBBjYAkMy5ekGFo/m6QYIUCSm2Q2iC1QWqD3N0gccZext+1QWqD1AapDfKzQd6Gbw==\n"
     ]
    },
    {
     "name": "stderr",
     "output_type": "stream",
     "text": [
      "DEBUG:signalr_async.client:Raw message received: WSMessage(type=<WSMsgType.TEXT: 1>, data='{\"C\":\"d-F23263D5-B,0|Df,0|Dg,11|d,9D|p,916|o,915|a,1|Y,D|Dh,0|n,1|W,2|c,27|i,1|X,C|k,3|l,1|r,2|Z,1|s,59F\",\"M\":[{\"H\":\"Streaming\",\"M\":\"feed\",\"A\":[\"CarData.z\",\"7daxCsIwEAbgd7lZ5e6SJr2s4hvoojgUERSkg7qVvrs17oL/YodbriXkh+SufHSgTf+8X88PKoeBds8TFVLWsOSwFNtKKpGL2CqqSQjtnha07u7T7oHkXdaXru/Pt7rAVHhBWmuoNdbafN7fj3GsG6BcBHPCvwelBtEbCnzUhB61RYeBNkfh8aPz14AGgXF87pjBYECbE9Evp2nAoya0qxltTos1Z4p+AypH4zZlB8qBcqAcqPkBZWyc1BwoB8qBcqBmBpTyShpm9T8oB8qBcqDmCFSIZpbFgXKgHCgH6i9AHccX\",\"2023-03-19T16:40:20.3499971Z\"]},{\"H\":\"Streaming\",\"M\":\"feed\",\"A\":[\"Position.z\",\"7ZQ9a8MwEIb/y8120OlO1sfeuYVmaFM6hJLBlDglcafg/17bCkEp6ZVkvsXIoId79Uo8R3jaHdq+3XWQ3o6wbLebQ7/efkECayzVhmqMS2wSm4Rx4YjRhxVU8ND1+3ZzgHQEnD7P/br/Hn/hsVvu1x+f45YXSDVSbCp4heQMV7CChBiGCqyEYPQzUjtXICwhNrgZsQYLBI3EMGFOFkPJ3HEaFLMxhZlp0JdMI84xeY51F9mCyHCeQ77swIodWKLTeUpErgAzYn15HCveKDnO0eLFHBKj2dOcC0Rs+o8GvDjGxZkZFwVDYgXXXw7L2a7eqHNitiYzyOVra26vzYsV0LR3QqbHfWaCWIHlzDTxjAxD9b9AfHRIgdQgahA1iBrkDoNE5xBZBaICUYGoQG4ViDULRGdC9GoQNYgaRA1yh0F4NAgzqkHUIGoQNchvg7wPPw==\",\"2023-03-19T16:40:20.4150441Z\"]}]}', extra='')\n"
     ]
    },
    {
     "name": "stdout",
     "output_type": "stream",
     "text": [
      "CarData.z 7daxCsIwEAbgd7lZ5e6SJr2s4hvoojgUERSkg7qVvrs17oL/YodbriXkh+SufHSgTf+8X88PKoeBds8TFVLWsOSwFNtKKpGL2CqqSQjtnha07u7T7oHkXdaXru/Pt7rAVHhBWmuoNdbafN7fj3GsG6BcBHPCvwelBtEbCnzUhB61RYeBNkfh8aPz14AGgXF87pjBYECbE9Evp2nAoya0qxltTos1Z4p+AypH4zZlB8qBcqAcqPkBZWyc1BwoB8qBcqBmBpTyShpm9T8oB8qBcqDmCFSIZpbFgXKgHCgH6i9AHccX\n",
      "Position.z 7ZQ9a8MwEIb/y8120OlO1sfeuYVmaFM6hJLBlDglcafg/17bCkEp6ZVkvsXIoId79Uo8R3jaHdq+3XWQ3o6wbLebQ7/efkECayzVhmqMS2wSm4Rx4YjRhxVU8ND1+3ZzgHQEnD7P/br/Hn/hsVvu1x+f45YXSDVSbCp4heQMV7CChBiGCqyEYPQzUjtXICwhNrgZsQYLBI3EMGFOFkPJ3HEaFLMxhZlp0JdMI84xeY51F9mCyHCeQ77swIodWKLTeUpErgAzYn15HCveKDnO0eLFHBKj2dOcC0Rs+o8GvDjGxZkZFwVDYgXXXw7L2a7eqHNitiYzyOVra26vzYsV0LR3QqbHfWaCWIHlzDTxjAxD9b9AfHRIgdQgahA1iBrkDoNE5xBZBaICUYGoQG4ViDULRGdC9GoQNYgaRA1yh0F4NAgzqkHUIGoQNchvg7wPPw==\n"
     ]
    },
    {
     "name": "stderr",
     "output_type": "stream",
     "text": [
      "DEBUG:signalr_async.client:Connection keepalive\n",
      "DEBUG:signalr_async.client:Sending: message_content='{}', is_binary=False\n",
      "DEBUG:signalr_async.client:Raw message received: WSMessage(type=<WSMsgType.TEXT: 1>, data='{\"C\":\"d-F23263D5-B,0|Df,0|Dg,11|d,9D|p,917|o,916|a,1|Y,D|Dh,0|n,1|W,2|c,27|i,1|X,C|k,3|l,1|r,2|Z,1|s,59F\",\"M\":[{\"H\":\"Streaming\",\"M\":\"feed\",\"A\":[\"CarData.z\",\"7ZS9DsIwDITfxTNFdn6aOGvFG8ACYkCoEkioA3Sr+u7QsCNxCwxenCjySfZd9E20Gcb7tX9QOUy0G89UyLHzDftGdCttCVwcryOrJh/2tKLudH91TyRL6S6nYehv9YGp8Ipcrb7WUGt835djnmsDpAugTvh7oVQhuqHAo7boqBkNAzXHwfGj+TuPCoE43jsmUOhRcwL6c2IER21RVxNqTsbMeUk/ASoFVZ/UAGWAMkAZoP4PUJpVWaIBygBlgDJA/RugZO2D5pDFAGWAMkAZoH4CqOP8BA==\",\"2023-03-19T16:40:21.3498481Z\"]},{\"H\":\"Streaming\",\"M\":\"feed\",\"A\":[\"Position.z\",\"7ZaxasMwEIbf5WY76O4kWae9cwvN0KZ0CCWDKXFK4k7B717bCkGh6ZVk1mJs0Mf9+iU+fISn3aHt210H8e0Iy3a7OfTr7RdEIENcG65RluijNZHMwoozjLKCCh66ft9uDhCPgNPjuV/33+MnPHbL/frjc1zyArFGFl/BK0RnbAUriIhhqIA0BKWZkdq5DLEaQsHNCBnMEDQaYxlTMgk5c8duUM1mOcyMxyZnvDrHpDnkLrIFlbFpDjd5B6R2QMyn/eSIXgEmhJp8O6SeKDubosnFHFaj0WnOBaI2/UcDjTrGycyMLxnDagXXb47Vs109UefUbD4xaPPb5m+vrVEr4GnthEyX+8wEtQKyifFyRoah+t8gfjSIQVcMUgxSDFIMcodBBK34gMUgxSDFIMUgNxsEF8RWUMo/SDFIMUgxyC+DvA8/\",\"2023-03-19T16:40:21.2349195Z\"]}]}', extra='')\n"
     ]
    },
    {
     "name": "stdout",
     "output_type": "stream",
     "text": [
      "CarData.z 7ZS9DsIwDITfxTNFdn6aOGvFG8ACYkCoEkioA3Sr+u7QsCNxCwxenCjySfZd9E20Gcb7tX9QOUy0G89UyLHzDftGdCttCVwcryOrJh/2tKLudH91TyRL6S6nYehv9YGp8Ipcrb7WUGt835djnmsDpAugTvh7oVQhuqHAo7boqBkNAzXHwfGj+TuPCoE43jsmUOhRcwL6c2IER21RVxNqTsbMeUk/ASoFVZ/UAGWAMkAZoP4PUJpVWaIBygBlgDJA/RugZO2D5pDFAGWAMkAZoH4CqOP8BA==\n",
      "Position.z 7ZaxasMwEIbf5WY76O4kWae9cwvN0KZ0CCWDKXFK4k7B717bCkGh6ZVk1mJs0Mf9+iU+fISn3aHt210H8e0Iy3a7OfTr7RdEIENcG65RluijNZHMwoozjLKCCh66ft9uDhCPgNPjuV/33+MnPHbL/frjc1zyArFGFl/BK0RnbAUriIhhqIA0BKWZkdq5DLEaQsHNCBnMEDQaYxlTMgk5c8duUM1mOcyMxyZnvDrHpDnkLrIFlbFpDjd5B6R2QMyn/eSIXgEmhJp8O6SeKDubosnFHFaj0WnOBaI2/UcDjTrGycyMLxnDagXXb47Vs109UefUbD4xaPPb5m+vrVEr4GnthEyX+8wEtQKyifFyRoah+t8gfjSIQVcMUgxSDFIMcodBBK34gMUgxSDFIMUgNxsEF8RWUMo/SDFIMUgxyC+DvA8/\n"
     ]
    },
    {
     "name": "stderr",
     "output_type": "stream",
     "text": [
      "DEBUG:signalr_async.client:Raw message received: WSMessage(type=<WSMsgType.TEXT: 1>, data='{\"C\":\"d-F23263D5-B,0|Df,0|Dg,11|d,9D|p,918|o,917|a,1|Y,D|Dh,0|n,1|W,2|c,27|i,1|X,C|k,3|l,1|r,2|Z,1|s,59F\",\"M\":[{\"H\":\"Streaming\",\"M\":\"feed\",\"A\":[\"CarData.z\",\"7ZSxCsMwDET/RXMSJNuxY6+hf9AuLR1CCbRQMqTZQv69ibMXeks7aJGN0YF0Z95Mh2EaH/2L0mWm03SjRIaNLdmWEo/ik+NkpPI+NszhTAW13bh2zyRbae/dMPTP/MCUuCCTq83V5Vrv9+1YltwA6RyoE/5eKFmIbijwqB4dtUHDQM0xcPxo/saiQiCOfccACi1qjkN/Tl2Do3rU1YCa02DmrNJPgIocg3cKKAWUAkoB9XeAMpWsgLIKKAWUAkoB9SNAXZc3\",\"2023-03-19T16:40:22.1097347Z\"]},{\"H\":\"Streaming\",\"M\":\"feed\",\"A\":[\"Position.z\",\"7ZQ9a8MwFEX/y5vtoPch62Pv3EIztCkdQslgSpySuFPwf69thaCU9JVk1mJk0OFdXYlzhKfdoe3bXQfx7QjLdrs59OvtF0QgQ1wbrjEssYliIuHCsnjHYQUVPHT9vt0cIB4Bp89zv+6/x1947Jb79cfnuOUFYo0cmgpeIVojFawgIvqhAtIQDG5GamszRDSEvJ0RMpghaDRGGFOy4HPmjtOgmk3Yz0yDLmcadY5Jc8heZPMqI2kOu7wDUjsg5tN5ckSvABNCLj8OqTfKVlK0cDGH1Wh0mnOBqE3/0YBTx9gwM+MiY1it4PrLET3b1Ru1Vs3WJAYlf23N7bU5tQKe9k7I9LjPjFcrIElME87IMFT/G8SNdyRsi0GKQYpBikFuNggtjBMX0BeDFIMUgxSD3GEQCuKs52KQYpBikGKQ3wZ5H34A\",\"2023-03-19T16:40:22.2947583Z\"]}]}', extra='')\n",
      "DEBUG:signalr_async.client:Raw message received: WSMessage(type=<WSMsgType.TEXT: 1>, data='{}', extra='')\n"
     ]
    },
    {
     "name": "stdout",
     "output_type": "stream",
     "text": [
      "CarData.z 7ZSxCsMwDET/RXMSJNuxY6+hf9AuLR1CCbRQMqTZQv69ibMXeks7aJGN0YF0Z95Mh2EaH/2L0mWm03SjRIaNLdmWEo/ik+NkpPI+NszhTAW13bh2zyRbae/dMPTP/MCUuCCTq83V5Vrv9+1YltwA6RyoE/5eKFmIbijwqB4dtUHDQM0xcPxo/saiQiCOfccACi1qjkN/Tl2Do3rU1YCa02DmrNJPgIocg3cKKAWUAkoB9XeAMpWsgLIKKAWUAkoB9SNAXZc3\n",
      "Position.z 7ZQ9a8MwFEX/y5vtoPch62Pv3EIztCkdQslgSpySuFPwf69thaCU9JVk1mJk0OFdXYlzhKfdoe3bXQfx7QjLdrs59OvtF0QgQ1wbrjEssYliIuHCsnjHYQUVPHT9vt0cIB4Bp89zv+6/x1947Jb79cfnuOUFYo0cmgpeIVojFawgIvqhAtIQDG5GamszRDSEvJ0RMpghaDRGGFOy4HPmjtOgmk3Yz0yDLmcadY5Jc8heZPMqI2kOu7wDUjsg5tN5ckSvABNCLj8OqTfKVlK0cDGH1Wh0mnOBqE3/0YBTx9gwM+MiY1it4PrLET3b1Ru1Vs3WJAYlf23N7bU5tQKe9k7I9LjPjFcrIElME87IMFT/G8SNdyRsi0GKQYpBikFuNggtjBMX0BeDFIMUgxSD3GEQCuKs52KQYpBikGKQ3wZ5H34A\n"
     ]
    },
    {
     "name": "stderr",
     "output_type": "stream",
     "text": [
      "DEBUG:signalr_async.client:Raw message received: WSMessage(type=<WSMsgType.TEXT: 1>, data='{\"C\":\"d-F23263D5-B,0|Df,0|Dg,11|d,9D|p,919|o,918|a,1|Y,D|Dh,0|n,1|W,2|c,27|i,1|X,C|k,3|l,1|r,2|Z,1|s,59F\",\"M\":[{\"H\":\"Streaming\",\"M\":\"feed\",\"A\":[\"CarData.z\",\"7dexCoMwEAbgd7lZJbmYM8kqfYN2aekgRWihOLRu4rtX417ov9ThllMkPyR38qETHYbx9ejflC4TncYbJWLDrjSutPFoJdUmMVcuRInOn6mgtnstqyeya2nv3TD0z/zAUDIFca4u1zpXv92vl3nOC6BcDeas+T1ocxA9oYW3KuhWAzoMtDkMjx+dPzs0CIxjO2MDBh3anBp9c7wHtypoVxu0OQFrzhL9BpRwFB9YgVKgFCgFan9ABYnCHBQoBUqBUqD2BpSrDEcfg/7iKVAKlAK1Q6B4AUqCfkEpUAqUAvUfoK7zBw==\",\"2023-03-19T16:40:23.2295688Z\"]},{\"H\":\"Streaming\",\"M\":\"feed\",\"A\":[\"Position.z\",\"7ZY9a8MwFEX/y5vtoPehz71zC83QpnQIJYMpSUriTsH/vbEVglLSV5JZi7FBh3d1JQ4+wNN23/XddgPp7QDzbr3a98v1FyQgQ9wabjHO0SUxiWgmUTz5uIAGHjb9rlvtIR0Ax8dzv+y/j5/wuJnvlh+fxyUvkFrk6Bp4hWSNNLCAhBiGBkhDMPoJaa0tENEQCnZCyGCBoNEYYczJYiiZO3aDajbhMDEOfck4dY7Jc8heZAsqI3kO+7IDUjsg5tN+SkSvADNCvtwOqSfKVnK0eDGH1Wh0mnOBqE3/0YBXx9g4MceXgmG1gus3R/RsV0/UWjWbywxKedvc7bV5tQIe147IeLnPTFArIMmMi2dkGJr/DeKtuBCkGqQapBqkGuRmg/DMsDix9R+kGqQapBrkHoMwijPM1SDVINUg1SC/DfI+/AA=\",\"2023-03-19T16:40:23.3146033Z\"]}]}', extra='')\n"
     ]
    },
    {
     "name": "stdout",
     "output_type": "stream",
     "text": [
      "CarData.z 7dexCoMwEAbgd7lZJbmYM8kqfYN2aekgRWihOLRu4rtX417ov9ThllMkPyR38qETHYbx9ejflC4TncYbJWLDrjSutPFoJdUmMVcuRInOn6mgtnstqyeya2nv3TD0z/zAUDIFca4u1zpXv92vl3nOC6BcDeas+T1ocxA9oYW3KuhWAzoMtDkMjx+dPzs0CIxjO2MDBh3anBp9c7wHtypoVxu0OQFrzhL9BpRwFB9YgVKgFCgFan9ABYnCHBQoBUqBUqD2BpSrDEcfg/7iKVAKlAK1Q6B4AUqCfkEpUAqUAvUfoK7zBw==\n",
      "Position.z 7ZY9a8MwFEX/y5vtoPehz71zC83QpnQIJYMpSUriTsH/vbEVglLSV5JZi7FBh3d1JQ4+wNN23/XddgPp7QDzbr3a98v1FyQgQ9wabjHO0SUxiWgmUTz5uIAGHjb9rlvtIR0Ax8dzv+y/j5/wuJnvlh+fxyUvkFrk6Bp4hWSNNLCAhBiGBkhDMPoJaa0tENEQCnZCyGCBoNEYYczJYiiZO3aDajbhMDEOfck4dY7Jc8heZAsqI3kO+7IDUjsg5tN+SkSvADNCvtwOqSfKVnK0eDGH1Wh0mnOBqE3/0YBXx9g4MceXgmG1gus3R/RsV0/UWjWbywxKedvc7bV5tQIe147IeLnPTFArIMmMi2dkGJr/DeKtuBCkGqQapBqkGuRmg/DMsDix9R+kGqQapBrkHoMwijPM1SDVINUg1SC/DfI+/AA=\n"
     ]
    },
    {
     "name": "stderr",
     "output_type": "stream",
     "text": [
      "DEBUG:signalr_async.client:Raw message received: WSMessage(type=<WSMsgType.TEXT: 1>, data='{\"C\":\"d-F23263D5-B,0|Df,0|Dg,11|d,9D|p,91A|o,919|a,1|Y,D|Dh,0|n,1|W,2|c,27|i,1|X,C|k,3|l,1|r,2|Z,1|s,59F\",\"M\":[{\"H\":\"Streaming\",\"M\":\"feed\",\"A\":[\"CarData.z\",\"7ZS9agMxEITfZWvb7J+kk1qTN0iahBQmGBIIVzjujnv32HJvnKmC2GYlhAZ2Z6Rvoaf5fPo6/lB7W+jl/EGNlNW2bFupz5Kbc1PbJa9JJb3ShvaH0+X2QnIt+8/DPB+/+wFT4w1pr9ar95pu++uyrv0CpHNQJ/x3oXQhOqHArWa01QkNAzVH4fjR/NVQIRDHbcYCCg01x9GXkxLYakZdLag5E2bORXoPUJWr51KGAZRkm4JRwahg1CiM8p14dZORGJU0GBWMCkaNwyjXapV1HEYVfujjB6OCUcGof8Oo9/UX\",\"2023-03-19T16:40:24.4293902Z\"]},{\"H\":\"Streaming\",\"M\":\"feed\",\"A\":[\"Position.z\",\"7ZSxasMwEIbf5WY76HR3kqW9cwvN0KZ0CCWDKUlK4k7B797YDkEp6ZVkvsXIoI/79Ut8B3ja7tuu3W4gvx1g3q5X+265/oIM3nmqHdWY5hgyu+xpxoklSlpABQ+bbteu9pAPgMPnuVt238dfeNzMd8uPz+OWF8g1UgoVvEIWxxUsICM2fQVeQzDFEalFCoQ1xDcyIt5hgaDTGCackqWmZO44DarZmJqRCRhLJqhz3DTHy0W2RmV4mkOx7MCrHXii03lKRK8AJ8TH8jhevVESnqKlizmkRvOnOReI2vQfDUR1jKSROS4KhtQKrr8c1rNdvVERNVuYGOTytYXba4tqBTTsHZDhcZ+ZRq3A88SEdEb6vvrfIFFYKLAZxAxiBjGD3GGQFFkcmUBMICYQE8jNAuEZCnOUYAYxg5hBzCB3GIQSMyU0g5hBzCBmkN8Gee9/AA==\",\"2023-03-19T16:40:24.3944391Z\"]}]}', extra='')\n"
     ]
    },
    {
     "name": "stdout",
     "output_type": "stream",
     "text": [
      "CarData.z 7ZS9agMxEITfZWvb7J+kk1qTN0iahBQmGBIIVzjujnv32HJvnKmC2GYlhAZ2Z6Rvoaf5fPo6/lB7W+jl/EGNlNW2bFupz5Kbc1PbJa9JJb3ShvaH0+X2QnIt+8/DPB+/+wFT4w1pr9ar95pu++uyrv0CpHNQJ/x3oXQhOqHArWa01QkNAzVH4fjR/NVQIRDHbcYCCg01x9GXkxLYakZdLag5E2bORXoPUJWr51KGAZRkm4JRwahg1CiM8p14dZORGJU0GBWMCkaNwyjXapV1HEYVfujjB6OCUcGof8Oo9/UX\n",
      "Position.z 7ZSxasMwEIbf5WY76HR3kqW9cwvN0KZ0CCWDKUlK4k7B797YDkEp6ZVkvsXIoI/79Ut8B3ja7tuu3W4gvx1g3q5X+265/oIM3nmqHdWY5hgyu+xpxoklSlpABQ+bbteu9pAPgMPnuVt238dfeNzMd8uPz+OWF8g1UgoVvEIWxxUsICM2fQVeQzDFEalFCoQ1xDcyIt5hgaDTGCackqWmZO44DarZmJqRCRhLJqhz3DTHy0W2RmV4mkOx7MCrHXii03lKRK8AJ8TH8jhevVESnqKlizmkRvOnOReI2vQfDUR1jKSROS4KhtQKrr8c1rNdvVERNVuYGOTytYXba4tqBTTsHZDhcZ+ZRq3A88SEdEb6vvrfIFFYKLAZxAxiBjGD3GGQFFkcmUBMICYQE8jNAuEZCnOUYAYxg5hBzCB3GIQSMyU0g5hBzCBmkN8Gee9/AA==\n"
     ]
    },
    {
     "name": "stderr",
     "output_type": "stream",
     "text": [
      "DEBUG:signalr_async.client:Raw message received: WSMessage(type=<WSMsgType.TEXT: 1>, data='{\"C\":\"d-F23263D5-B,0|Df,0|Dg,11|d,9D|p,91B|o,91A|a,1|Y,D|Dh,0|n,1|W,2|c,27|i,1|X,C|k,3|l,1|r,2|Z,1|s,59F\",\"M\":[{\"H\":\"Streaming\",\"M\":\"feed\",\"A\":[\"CarData.z\",\"7ZS/CoMwEIff5WaV3F3+mVX6Bu3S0kGK0EJxsG7iu1fjaou9qUiWU0I+vPxyfgMc2r57NC8IlwFO/Q0CkCLOFedYHtEGrQLpwvmS2ZZnyKCqu2n3ADiX6l63bfOMCwqCyoBi5Vh1rGZ5nx/jGDeIOC3kUK2A6Ai/sxhZ6SFR3K39HVxa9dL7WMtnyxdJPAHSESCWgoLrWM7ohCBLw9HSyTFG2KqVpuqk4XhZOBP62VGmQF2SJ78jR3FyVHJUctSOHMWTowzrPTlq04+fHJUclRz1N466jm8=\",\"2023-03-19T16:40:25.3492534Z\"]},{\"H\":\"Streaming\",\"M\":\"feed\",\"A\":[\"Position.z\",\"7ZQ9a8MwFEX/y5vtoPch62Pv3EIztCkdQslgSpySuFPwf69thaCU9JVk1mJso8O7uhLnCE+7Q9u3uw7i2xGW7XZz6NfbL4hAhrg2XGNYYhPFRJKFDSLGuxVU8ND1+3ZzgHgEnB7P/br/Hj/hsVvu1x+f45IXiDVyaCp4hWiNVLCCiOiHCkhDMLgZqa3NENEQ8nZGyGCGoNEYYUzJgs+ZO3aDajZhPzMNupxp1DkmzSF7kc2rjKQ57PIOSO2AmE/7yRG9AkwIuXw7pJ4oW0nRwsUcVqPRac4Fojb9RwNOHWPDzIwvGcNqBddvjujZrp6otWq2JjEo+W1rbq/NqRXwtHZCpst9ZrxaAUlimnBGhqH63yAuCDvPxSDFIMUgxSA3G8QuaDTI+LsYpBikGKQY5A6DSBByRMUgxSDFIMUgvw3yPvwA\",\"2023-03-19T16:40:25.4942722Z\"]}]}', extra='')\n"
     ]
    },
    {
     "name": "stdout",
     "output_type": "stream",
     "text": [
      "CarData.z 7ZS/CoMwEIff5WaV3F3+mVX6Bu3S0kGK0EJxsG7iu1fjaou9qUiWU0I+vPxyfgMc2r57NC8IlwFO/Q0CkCLOFedYHtEGrQLpwvmS2ZZnyKCqu2n3ADiX6l63bfOMCwqCyoBi5Vh1rGZ5nx/jGDeIOC3kUK2A6Ai/sxhZ6SFR3K39HVxa9dL7WMtnyxdJPAHSESCWgoLrWM7ohCBLw9HSyTFG2KqVpuqk4XhZOBP62VGmQF2SJ78jR3FyVHJUctSOHMWTowzrPTlq04+fHJUclRz1N466jm8=\n",
      "Position.z 7ZQ9a8MwFEX/y5vtoPch62Pv3EIztCkdQslgSpySuFPwf69thaCU9JVk1mJso8O7uhLnCE+7Q9u3uw7i2xGW7XZz6NfbL4hAhrg2XGNYYhPFRJKFDSLGuxVU8ND1+3ZzgHgEnB7P/br/Hj/hsVvu1x+f45IXiDVyaCp4hWiNVLCCiOiHCkhDMLgZqa3NENEQ8nZGyGCGoNEYYUzJgs+ZO3aDajZhPzMNupxp1DkmzSF7kc2rjKQ57PIOSO2AmE/7yRG9AkwIuXw7pJ4oW0nRwsUcVqPRac4Fojb9RwNOHWPDzIwvGcNqBddvjujZrp6otWq2JjEo+W1rbq/NqRXwtHZCpst9ZrxaAUlimnBGhqH63yAuCDvPxSDFIMUgxSA3G8QuaDTI+LsYpBikGKQY5A6DSBByRMUgxSDFIMUgvw3yPvwA\n"
     ]
    },
    {
     "name": "stderr",
     "output_type": "stream",
     "text": [
      "DEBUG:signalr_async.client:Connection keepalive\n",
      "DEBUG:signalr_async.client:Sending: message_content='{}', is_binary=False\n",
      "DEBUG:signalr_async.client:Raw message received: WSMessage(type=<WSMsgType.TEXT: 1>, data='{\"C\":\"d-F23263D5-B,0|Df,0|Dg,11|d,9D|p,91C|o,91B|a,1|Y,D|Dh,0|n,1|W,2|c,27|i,1|X,C|k,3|l,1|r,2|Z,1|s,59F\",\"M\":[{\"H\":\"Streaming\",\"M\":\"feed\",\"A\":[\"CarData.z\",\"7Za/CsIwEIff5eZWcpf/WYtvoIviUKSgIB20W+m7W9O1FL3NcMu1hHz08svx0RH2/fC8dy9I5xGOwxUSkCJdK11jPKBLRiWyO0eRkOgEFTTtc949An5Kc2v7vnvkBQVJVUC56lxNrnZ5/zymKW9gcYbJoVoB0VPcZjGz3EMiu1v3O7i0Grj3sZbPN18k9gRwR4A0F2Rcx3JGzwQ1NxzDnRxrma06bqqeG07ghTOjW47yIWIIviBHaRRHiaPEUaU4yu0URbRkC3KU/EeJo8RRJTlKm4jKYkmOcuIocZQ46q8cdZne\",\"2023-03-19T16:40:26.3491051Z\"]},{\"H\":\"Streaming\",\"M\":\"feed\",\"A\":[\"Position.z\",\"7ZQ9a8MwEIb/y8120J1On3vnFuqhTekQSgZT4pTEnYL/e20rBLmkV5JZi7FBD/fea/Gc4Gl/bPt230F8O0HT7rbHfrP7ggikSNdK1xgatJFVJLOygYmJ1lDBQ9cf2u0R4glwejz3m/57/ITHrjlsPj7HIy8Qa9TBVvAK0SiuYA0R0Q8VkIRgcDNSG5MhLCHkzYyQwgxBJTGsMSULPmfu2AbFbKz9zFh0OWPFOSrNIbPI5kWG0xzt8g5I7IC0Pu+TI3IFmBBy+Tok/lFtOEULizlajEbnOQtEbPqPBpw4xoSZGV8yRosVXL85LGe7+keNEbPZxCDnt83eXpsTK9DT2QmZLveF8WIFxImx4YIMQ/W/QQIyqYDFIMUgxSDFIDcbxK5UYPToikGKQYpBikHuMAgbM64VikGKQYpBikF+G+R9+AE=\",\"2023-03-19T16:40:26.4551269Z\"]}]}', extra='')\n"
     ]
    },
    {
     "name": "stdout",
     "output_type": "stream",
     "text": [
      "CarData.z 7Za/CsIwEIff5eZWcpf/WYtvoIviUKSgIB20W+m7W9O1FL3NcMu1hHz08svx0RH2/fC8dy9I5xGOwxUSkCJdK11jPKBLRiWyO0eRkOgEFTTtc949An5Kc2v7vnvkBQVJVUC56lxNrnZ5/zymKW9gcYbJoVoB0VPcZjGz3EMiu1v3O7i0Grj3sZbPN18k9gRwR4A0F2Rcx3JGzwQ1NxzDnRxrma06bqqeG07ghTOjW47yIWIIviBHaRRHiaPEUaU4yu0URbRkC3KU/EeJo8RRJTlKm4jKYkmOcuIocZQ46q8cdZne\n",
      "Position.z 7ZQ9a8MwEIb/y8120J1On3vnFuqhTekQSgZT4pTEnYL/e20rBLmkV5JZi7FBD/fea/Gc4Gl/bPt230F8O0HT7rbHfrP7ggikSNdK1xgatJFVJLOygYmJ1lDBQ9cf2u0R4glwejz3m/57/ITHrjlsPj7HIy8Qa9TBVvAK0SiuYA0R0Q8VkIRgcDNSG5MhLCHkzYyQwgxBJTGsMSULPmfu2AbFbKz9zFh0OWPFOSrNIbPI5kWG0xzt8g5I7IC0Pu+TI3IFmBBy+Tok/lFtOEULizlajEbnOQtEbPqPBpw4xoSZGV8yRosVXL85LGe7+keNEbPZxCDnt83eXpsTK9DT2QmZLveF8WIFxImx4YIMQ/W/QQIyqYDFIMUgxSDFIDcbxK5UYPToikGKQYpBikHuMAgbM64VikGKQYpBikF+G+R9+AE=\n"
     ]
    },
    {
     "name": "stderr",
     "output_type": "stream",
     "text": [
      "DEBUG:signalr_async.client:Raw message received: WSMessage(type=<WSMsgType.TEXT: 1>, data='{\"C\":\"d-F23263D5-B,0|Df,0|Dg,11|d,9D|p,91D|o,91C|a,1|Y,D|Dh,0|n,1|W,2|c,27|i,1|X,C|k,3|l,1|r,2|Z,1|s,59F\",\"M\":[{\"H\":\"Streaming\",\"M\":\"feed\",\"A\":[\"CarData.z\",\"7ZS/CoMwEIff5WaVu8v/rNI3aJeWDlKEFopD6ya+ezWuIu1tlSxnkHzk8svxDXDo+tejfUO8DHDqbxCBkVWJqqRwJBs1RraVI0RD9gwF1M1r2j0AzaW+N13XPtMPhIgFcKoqVZ2qWdbzZxzTBhGnhRzhCkiO3TZLiZVeksTd2t/BpVUvfY+1fL45kcUTIB0BVlJQ8BzLHZ0QVNJwtHRyjBG2aqWpOmk4XhbOhG45KkyO4n05KmRHZUdlR+3FUa4iHYI3Zk+O8tlR2VHZUX/lqOv4AQ==\",\"2023-03-19T16:40:27.1499855Z\"]},{\"H\":\"Streaming\",\"M\":\"feed\",\"A\":[\"Position.z\",\"7ZS9asNAEITfZWvJ3O7ef+86gahIHFKI4EIE28FWKqF3j6Qz5hycDXF9jTjBfczs3DIDPB5OXd8d9hBfB2i63fbUt7tPiECKuFZcY2jQRq0i2ZVjo7zmDVSw3vfHbnuCOADOn6e+7b+mX3jYN8f2/WO68gyxRg62gheIRukKNhAR/VgBSQgGtyC1MRmiJYS8WRBSmCGoJEYzJmfB58wd06DoTbNfGIsuZ6yoo5IOmStvXmR00mGXZ0BiBsR8nidH5AgwIeTycUh8UTY6WQtXOixao7POFSIm/UsCTpQxYWGmQ8awGMHtzdGyt5svaozozSYGdb5t9v+xOTECnu/OyLzcF8aLEZBOjA0XZByrvxrErZQzismWBikNUhqkNMgdDcKsQ2AsDVIapDRIaZCfDfI2fgM=\",\"2023-03-19T16:40:27.3349931Z\"]}]}', extra='')\n"
     ]
    },
    {
     "name": "stdout",
     "output_type": "stream",
     "text": [
      "CarData.z 7ZS/CoMwEIff5WaVu8v/rNI3aJeWDlKEFopD6ya+ezWuIu1tlSxnkHzk8svxDXDo+tejfUO8DHDqbxCBkVWJqqRwJBs1RraVI0RD9gwF1M1r2j0AzaW+N13XPtMPhIgFcKoqVZ2qWdbzZxzTBhGnhRzhCkiO3TZLiZVeksTd2t/BpVUvfY+1fL45kcUTIB0BVlJQ8BzLHZ0QVNJwtHRyjBG2aqWpOmk4XhbOhG45KkyO4n05KmRHZUdlR+3FUa4iHYI3Zk+O8tlR2VHZUX/lqOv4AQ==\n",
      "Position.z 7ZS9asNAEITfZWvJ3O7ef+86gahIHFKI4EIE28FWKqF3j6Qz5hycDXF9jTjBfczs3DIDPB5OXd8d9hBfB2i63fbUt7tPiECKuFZcY2jQRq0i2ZVjo7zmDVSw3vfHbnuCOADOn6e+7b+mX3jYN8f2/WO68gyxRg62gheIRukKNhAR/VgBSQgGtyC1MRmiJYS8WRBSmCGoJEYzJmfB58wd06DoTbNfGIsuZ6yoo5IOmStvXmR00mGXZ0BiBsR8nidH5AgwIeTycUh8UTY6WQtXOixao7POFSIm/UsCTpQxYWGmQ8awGMHtzdGyt5svaozozSYGdb5t9v+xOTECnu/OyLzcF8aLEZBOjA0XZByrvxrErZQzismWBikNUhqkNMgdDcKsQ2AsDVIapDRIaZCfDfI2fgM=\n"
     ]
    },
    {
     "name": "stderr",
     "output_type": "stream",
     "text": [
      "DEBUG:signalr_async.client:Raw message received: WSMessage(type=<WSMsgType.TEXT: 1>, data='{\"C\":\"d-F23263D5-B,0|Df,0|Dg,11|d,9D|p,91E|o,91D|a,1|Y,D|Dh,0|n,1|W,2|c,27|i,1|X,C|k,3|l,1|r,2|Z,1|s,59F\",\"M\":[{\"H\":\"Streaming\",\"M\":\"feed\",\"A\":[\"CarData.z\",\"7Ze/CoMwEIff5WaV5BKTS1bpG7RLSwcpQgvFoXUT370aVxF7S/9wyymSDy+/nB/Yw67tHrfmCfHUw6G7QARUaHJlch322kWrIvrCuhAM4REyqOrHuLoHPZXqWrdtc08PFESVAaZqUrWplvP9dBmGtIDFWSan1QKoS2fWWZ1Y7iY1u1v3Pji3StzzWMpnyxuRPQHcEUDDBRnHMe/RM0HDDcdyJ6csma06bqqeGw7xwhnRNUcRBiLr/8ZRm756EZQISgT1C4KiQlMgo0gEJYISQYmgvk9Q41+ep+BEUCIoEZQI6iOCOg8v\",\"2023-03-19T16:40:28.4697896Z\"]},{\"H\":\"Streaming\",\"M\":\"feed\",\"A\":[\"Position.z\",\"7ZQ9a8MwEIb/y8120J1On3vnFpqhTekQSgZT4pTEnYL/e2UrBKWkV5JZi7HBD/fqPfEc4Wl36IZu10N8O8Ky224Ow3r7BRFIkW6VbjEs0UZWkdyCDQfHYQUNPPTDvtscIB4Bp8fzsB6+0yc89sv9+uMz/fICsUUdbAOvEI3iBlYQEf3YAEkIBjcjrTEFwhJC3swIKSwQVBLDGnOy4EvmjtOgmI21nxmLrmSsOEflOWQusnmR4TxHu7IDEjsgrU/nKRG5AswIufI4JG5UG87RwsUcLUaj05wLRGz6jwacOMaEmUkvBaPFCq7fHJazXd2oMWI2mxnk8rbZ22tzYgV6+ndCpst9ZrxYAXFmbDgj49j8bxCXDEJBV4NUg1SDVIPcbBC/oLQjY6tBqkGqQapB7jEIpx2lyqtBqkGqQapBfhvkffwB\",\"2023-03-19T16:40:28.4348259Z\"]}]}', extra='')\n"
     ]
    },
    {
     "name": "stdout",
     "output_type": "stream",
     "text": [
      "CarData.z 7Ze/CoMwEIff5WaV5BKTS1bpG7RLSwcpQgvFoXUT370aVxF7S/9wyymSDy+/nB/Yw67tHrfmCfHUw6G7QARUaHJlch322kWrIvrCuhAM4REyqOrHuLoHPZXqWrdtc08PFESVAaZqUrWplvP9dBmGtIDFWSan1QKoS2fWWZ1Y7iY1u1v3Pji3StzzWMpnyxuRPQHcEUDDBRnHMe/RM0HDDcdyJ6csma06bqqeGw7xwhnRNUcRBiLr/8ZRm756EZQISgT1C4KiQlMgo0gEJYISQYmgvk9Q41+ep+BEUCIoEZQI6iOCOg8v\n",
      "Position.z 7ZQ9a8MwEIb/y8120J1On3vnFpqhTekQSgZT4pTEnYL/e2UrBKWkV5JZi7HBD/fqPfEc4Wl36IZu10N8O8Ky224Ow3r7BRFIkW6VbjEs0UZWkdyCDQfHYQUNPPTDvtscIB4Bp8fzsB6+0yc89sv9+uMz/fICsUUdbAOvEI3iBlYQEf3YAEkIBjcjrTEFwhJC3swIKSwQVBLDGnOy4EvmjtOgmI21nxmLrmSsOEflOWQusnmR4TxHu7IDEjsgrU/nKRG5AswIufI4JG5UG87RwsUcLUaj05wLRGz6jwacOMaEmUkvBaPFCq7fHJazXd2oMWI2mxnk8rbZ22tzYgV6+ndCpst9ZrxYAXFmbDgj49j8bxCXDEJBV4NUg1SDVIPcbBC/oLQjY6tBqkGqQapB7jEIpx2lyqtBqkGqQapBfhvkffwB\n"
     ]
    },
    {
     "name": "stderr",
     "output_type": "stream",
     "text": [
      "DEBUG:signalr_async.client:Raw message received: WSMessage(type=<WSMsgType.TEXT: 1>, data='{\"C\":\"d-F23263D5-B,0|Df,0|Dg,11|d,9D|p,91E|o,91E|a,1|Y,D|Dh,0|n,1|W,2|c,27|i,1|X,C|k,3|l,1|r,2|Z,1|s,59F\",\"M\":[{\"H\":\"Streaming\",\"M\":\"feed\",\"A\":[\"Position.z\",\"7ZY9a8NADIb/i2Y7nKT73ju3UA9tSodQMpgSpyTuFPzfa/tCOJdUJZlvMTbcg6T3xINP8LQ/tn277yC+naBpd9tjv9l9QQRSxLXiGkODNmoVya+s0S6QWUMFD11/aLdHiCfA6fHcb/rv8RMeu+aw+fgcj7xArJGDreAVolG6gjVERD9UQBKCwc1IbUyGaAkhb2aEFGYIKonRjKmz4HPmjmlQ7E2znxmLLmesWEelOmQWvXmR0akOuzwDEjMg5vM8OSJHgAkhl49D4o2y0am1sKjDYmt0rrNAxKT/SMCJZUyYmfElY1iM4PrmaLm3qzdqjNibTQzqfNvs7bE5MQKezk7ItNwXxosRkE6MDRdkGKr/DeKddiYUgRSBFIEUgdwskLAa78hhKL8gxSDFIMUg9xhk3ATrLRaDFIMUgxSD/DbI+/AD\",\"2023-03-19T16:40:29.3546861Z\"]}]}', extra='')\n",
      "DEBUG:signalr_async.client:Raw message received: WSMessage(type=<WSMsgType.TEXT: 1>, data='{\"C\":\"d-F23263D5-B,0|Df,0|Dg,11|d,9D|p,91F|o,91E|a,1|Y,D|Dh,0|n,1|W,2|c,27|i,1|X,C|k,3|l,1|r,2|Z,1|s,59F\",\"M\":[{\"H\":\"Streaming\",\"M\":\"feed\",\"A\":[\"CarData.z\",\"7ZS9CsJAEITfZesk3M/m/trgG2ijWAQJKEiKmO7Iu5tcagun0WKbvePYgd2Z48t0GOfpMbwoXTKd5hslMsrYWtlax6N2iVUyofEhejbuTBV1/bR2Z9Jb6e79OA7P8qAoqYpMqbZULrXd79uxLKUB0jGo0+p7oS5CdEMNj+rQUQMaBmqOgeNH8zcWFQJx7Dt6UGhRcxj9OW0LjupQVz1qTsDMWaWfARUbraKLzAIoAZQASgD1f4CyK6AcBwGUAEoAJYD6CaCuyxs=\",\"2023-03-19T16:40:29.3096648Z\"]}]}', extra='')\n"
     ]
    },
    {
     "name": "stdout",
     "output_type": "stream",
     "text": [
      "Position.z 7ZY9a8NADIb/i2Y7nKT73ju3UA9tSodQMpgSpyTuFPzfa/tCOJdUJZlvMTbcg6T3xINP8LQ/tn277yC+naBpd9tjv9l9QQRSxLXiGkODNmoVya+s0S6QWUMFD11/aLdHiCfA6fHcb/rv8RMeu+aw+fgcj7xArJGDreAVolG6gjVERD9UQBKCwc1IbUyGaAkhb2aEFGYIKonRjKmz4HPmjmlQ7E2znxmLLmesWEelOmQWvXmR0akOuzwDEjMg5vM8OSJHgAkhl49D4o2y0am1sKjDYmt0rrNAxKT/SMCJZUyYmfElY1iM4PrmaLm3qzdqjNibTQzqfNvs7bE5MQKezk7ItNwXxosRkE6MDRdkGKr/DeKddiYUgRSBFIEUgdwskLAa78hhKL8gxSDFIMUg9xhk3ATrLRaDFIMUgxSD/DbI+/AD\n",
      "CarData.z 7ZS9CsJAEITfZesk3M/m/trgG2ijWAQJKEiKmO7Iu5tcagun0WKbvePYgd2Z48t0GOfpMbwoXTKd5hslMsrYWtlax6N2iVUyofEhejbuTBV1/bR2Z9Jb6e79OA7P8qAoqYpMqbZULrXd79uxLKUB0jGo0+p7oS5CdEMNj+rQUQMaBmqOgeNH8zcWFQJx7Dt6UGhRcxj9OW0LjupQVz1qTsDMWaWfARUbraKLzAIoAZQASgD1f4CyK6AcBwGUAEoAJYD6CaCuyxs=\n"
     ]
    },
    {
     "name": "stderr",
     "output_type": "stream",
     "text": [
      "DEBUG:signalr_async.client:Raw message received: WSMessage(type=<WSMsgType.TEXT: 1>, data='{\"C\":\"d-F23263D5-B,0|Df,0|Dg,11|d,9D|p,920|o,91F|a,1|Y,D|Dh,0|n,1|W,2|c,27|i,1|X,C|k,3|l,1|r,2|Z,1|s,59F\",\"M\":[{\"H\":\"Streaming\",\"M\":\"feed\",\"A\":[\"CarData.z\",\"7VS7DoMwEPuXmwHd5XGQrKh/0C6tOqAKqZUqBsqG+HcgzB3qpUsWJ4rOks+OPNNpmMZX/6F4m+kyPSiSYWNLtqWEs2h0HE2oVIOK6JUKartxm55Jdmif3TD07/TAFLkgk9AmdAn9cd+PZUkDEM+BPOHfiZKI6IYCS1VUaoOGgZpj4PjR/I1FiUAcx441SLSoOQ79Od6DUhV1tUbNaTBzNurXgrJcCQfvvMsFlQsqF1QuqL8U1H1ZAQ==\",\"2023-03-19T16:40:30.1095454Z\"]},{\"H\":\"Streaming\",\"M\":\"feed\",\"A\":[\"Position.z\",\"7ZY7a8NAEIT/y9aSuX3cs0+dQFwkDilMcCFC7GArldF/j6Qz5kycDU59jZDgPmZ2bhl0hIfdoeu73RbSyxGW3cfm0K8/PiEBGeLWcItxiS6JSRQXzotjLyto4G7b77vNAdIRcHo89uv+a/yE++1yv357H488QWqRo2vgGZI10sAKEmIYGiANwehnpLW2QERDKNgZIYMFgkZjhDE7i6Fk/jENqt6Ew8w49CXjVB2TdcheeAsqI1mHfZkBqRkQ82meEtEjwIyQL8ch9UbZSrYWL3RYtUYnnQtETfqXBLwqY+PMjC8Fw2oE1zdHdG9Xb9Ra1ZvLDEq5be722LwaAU9nJ2Ra7jMT1AhIMuPiGRmG5u8GCWODGF8LpBZILZBaILcWCJsFerEO6y9IbZDaILVBfjTI6/AN\",\"2023-03-19T16:40:30.1745614Z\"]}]}', extra='')\n"
     ]
    },
    {
     "name": "stdout",
     "output_type": "stream",
     "text": [
      "CarData.z 7VS7DoMwEPuXmwHd5XGQrKh/0C6tOqAKqZUqBsqG+HcgzB3qpUsWJ4rOks+OPNNpmMZX/6F4m+kyPSiSYWNLtqWEs2h0HE2oVIOK6JUKartxm55Jdmif3TD07/TAFLkgk9AmdAn9cd+PZUkDEM+BPOHfiZKI6IYCS1VUaoOGgZpj4PjR/I1FiUAcx441SLSoOQ79Od6DUhV1tUbNaTBzNurXgrJcCQfvvMsFlQsqF1QuqL8U1H1ZAQ==\n",
      "Position.z 7ZY7a8NAEIT/y9aSuX3cs0+dQFwkDilMcCFC7GArldF/j6Qz5kycDU59jZDgPmZ2bhl0hIfdoeu73RbSyxGW3cfm0K8/PiEBGeLWcItxiS6JSRQXzotjLyto4G7b77vNAdIRcHo89uv+a/yE++1yv357H488QWqRo2vgGZI10sAKEmIYGiANwehnpLW2QERDKNgZIYMFgkZjhDE7i6Fk/jENqt6Ew8w49CXjVB2TdcheeAsqI1mHfZkBqRkQ82meEtEjwIyQL8ch9UbZSrYWL3RYtUYnnQtETfqXBLwqY+PMjC8Fw2oE1zdHdG9Xb9Ra1ZvLDEq5be722LwaAU9nJ2Ra7jMT1AhIMuPiGRmG5u8GCWODGF8LpBZILZBaILcWCJsFerEO6y9IbZDaILVBfjTI6/AN\n"
     ]
    },
    {
     "name": "stderr",
     "output_type": "stream",
     "text": [
      "DEBUG:signalr_async.client:Connection keepalive\n",
      "DEBUG:signalr_async.client:Sending: message_content='{}', is_binary=False\n",
      "DEBUG:signalr_async.client:Raw message received: WSMessage(type=<WSMsgType.TEXT: 1>, data='{\"C\":\"d-F23263D5-B,0|Df,0|Dg,11|d,9D|p,921|o,920|a,1|Y,D|Dh,0|n,1|W,2|c,27|i,1|X,C|k,3|l,1|r,2|Z,1|s,59F\",\"M\":[{\"H\":\"Streaming\",\"M\":\"feed\",\"A\":[\"CarData.z\",\"7dTPisIwEAbwd5lzlfmTTk2usm+wXlz2UBZBYenB7a303a3xLu4Hooe5TErIB8lM+U30MYzn0+GPytdEu/GHCimrrdhWkj/FS+JivE6eU1bdU0Pb/rycnkiuZXvsh+HwWzeYCjektVqtqdb29n1d5rkegHIJzAn/Pyg1iL5Q4Ks6etUNOgy0OQqPH52/GhoExnF7YwcGDW1OQv+ctgWv6mhXO7Q5G6w5S/QeUL4A5eoBVAAVQAVQ7wdU5pzUA6gAKoAKoN4OKFkLZ8veBlABVAAVQD0OlHCq0bo+GSn1bJ2FUWFUGBVGvcyo7/kC\",\"2023-03-19T16:40:31.269373Z\"]},{\"H\":\"Streaming\",\"M\":\"feed\",\"A\":[\"Position.z\",\"7ZSxasMwEIbf5WY76HQnydLeuYVmaFM6hJLBlDglcafgd69thaCU9Eoy32Js0Mf9+iV/R3jaHdq+3XWQ3o6wbLebQ7/efkECayzVhmqMS/SJTSKzcMTO+LCCCh66ft9uDpCOgNPjuV/33+MnPHbL/frjc1zyAqlGir6CV0jOcAUrSIjNUIGVEIxhRmrnCoQlxDZuRqzBAkEjMUyYk8WmZO7YDYrZmJqZ8RhKxotzTJ5j3UW2RmQ4z6FQdmDFDizRaT8lIleAGbGh3I4VT5Qc52jxYg6J0expzgUiNv1HA0Ec4+LMjC8FQ2IF128Oy9munqhzYjafGeTytvnbawtiBTStnZDpcp+ZRqzAcmZ8PCPDUP1vkBCZfbBqEDWIGkQNcodBomNmG9UgahA1iBrkZoPgYjwjRufUIGoQNYga5A6D0PQ7NKgGUYOoQdQgvw3yPvwA\",\"2023-03-19T16:40:31.3143881Z\"]}]}', extra='')\n"
     ]
    },
    {
     "name": "stdout",
     "output_type": "stream",
     "text": [
      "CarData.z 7dTPisIwEAbwd5lzlfmTTk2usm+wXlz2UBZBYenB7a303a3xLu4Hooe5TErIB8lM+U30MYzn0+GPytdEu/GHCimrrdhWkj/FS+JivE6eU1bdU0Pb/rycnkiuZXvsh+HwWzeYCjektVqtqdb29n1d5rkegHIJzAn/Pyg1iL5Q4Ks6etUNOgy0OQqPH52/GhoExnF7YwcGDW1OQv+ctgWv6mhXO7Q5G6w5S/QeUL4A5eoBVAAVQAVQ7wdU5pzUA6gAKoAKoN4OKFkLZ8veBlABVAAVQD0OlHCq0bo+GSn1bJ2FUWFUGBVGvcyo7/kC\n",
      "Position.z 7ZSxasMwEIbf5WY76HQnydLeuYVmaFM6hJLBlDglcafgd69thaCU9Eoy32Js0Mf9+iV/R3jaHdq+3XWQ3o6wbLebQ7/efkECayzVhmqMS/SJTSKzcMTO+LCCCh66ft9uDpCOgNPjuV/33+MnPHbL/frjc1zyAqlGir6CV0jOcAUrSIjNUIGVEIxhRmrnCoQlxDZuRqzBAkEjMUyYk8WmZO7YDYrZmJqZ8RhKxotzTJ5j3UW2RmQ4z6FQdmDFDizRaT8lIleAGbGh3I4VT5Qc52jxYg6J0expzgUiNv1HA0Ec4+LMjC8FQ2IF128Oy9munqhzYjafGeTytvnbawtiBTStnZDpcp+ZRqzAcmZ8PCPDUP1vkBCZfbBqEDWIGkQNcodBomNmG9UgahA1iBrkZoPgYjwjRufUIGoQNYga5A6D0PQ7NKgGUYOoQdQgvw3yPvwA\n"
     ]
    },
    {
     "name": "stderr",
     "output_type": "stream",
     "text": [
      "DEBUG:signalr_async.client:Raw message received: WSMessage(type=<WSMsgType.TEXT: 1>, data='{}', extra='')\n",
      "DEBUG:signalr_async.client:Raw message received: WSMessage(type=<WSMsgType.TEXT: 1>, data='{\"C\":\"d-F23263D5-B,0|Df,0|Dg,11|d,9D|p,922|o,920|a,1|Y,D|Dh,0|n,1|W,2|c,27|i,1|X,C|k,3|l,1|r,2|Z,1|s,59F\",\"M\":[{\"H\":\"Streaming\",\"M\":\"feed\",\"A\":[\"CarData.z\",\"7dSxCsIwEAbgd7nZyl0uTdusxTfQRXEQKShIB+1W+u6mERxF/8UOt1xKyU+Tu/KNtOmH+7V7UDyMtBvOFMmx04K1kGYrIXqOKuvSN6pS72lF7emedo8kc2kvp77vbvkFU+QVuVw1V59r+Xqel2nKG6CcB3PCvwclB9EbCnzUgB61RoeBNsfB40fn7xQNAuN43bECg4o2x6N/TlmCRw1oV6vvmiPsczSv76/WWINS9BNSVUKKnTekDClDypBaJlJN3bgQDClDypAypBaJlFtLQkpDMKQMKUPKkFomUpqQ4sqMMqPMKDPqb0Ydpyc=\",\"2023-03-19T16:40:32.389207Z\"]}]}', extra='')\n",
      "DEBUG:signalr_async.client:Raw message received: WSMessage(type=<WSMsgType.TEXT: 1>, data='{\"C\":\"d-F23263D5-B,0|Df,0|Dg,11|d,9D|p,922|o,921|a,1|Y,D|Dh,0|n,1|W,2|c,27|i,1|X,C|k,3|l,1|r,2|Z,1|s,59F\",\"M\":[{\"H\":\"Streaming\",\"M\":\"feed\",\"A\":[\"Position.z\",\"7ZY9a8MwEIb/y8120H1IlrR3bqEZ2pQOoWQwJUlJ3Cn4vze2Q1BoeiWZbzE26OFevRIPPsDTdt927XYD+e0A83a92nfL9RdkIEdcO64xzTFkcZlxJo1w4LiACh423a5d7SEfAIfHc7fsvo+f8LiZ75Yfn8clL5Br5BQqeIXsnVSwgIwY+wpIQzA1I1J7XyCiIRT9iJDDAkGnMcI4JUuxZO7YDarZhOPIBGxKJqhz3DSH/EW2qDIyzeGm7IDUDoj5tJ8S0SvACaGm3A6pJ8pepmjpYg6r0eg05wJRm/6jgUYd49PIHF8KhtUKrt8c0bNdPVHv1WxhYlDK2xZur61RK+Bh7YAMl/vMRLUCkokJ6Yz0ffW/QQILc/JmEDOIGcQMcodBkhdKLplBzCBmEDPIzQahGbGQRDaDmEHMIGaQOwwiKET2D2IGMYOYQX4b5L3/AQ==\",\"2023-03-19T16:40:32.4142209Z\"]}]}', extra='')\n"
     ]
    },
    {
     "name": "stdout",
     "output_type": "stream",
     "text": [
      "CarData.z 7dSxCsIwEAbgd7nZyl0uTdusxTfQRXEQKShIB+1W+u6mERxF/8UOt1xKyU+Tu/KNtOmH+7V7UDyMtBvOFMmx04K1kGYrIXqOKuvSN6pS72lF7emedo8kc2kvp77vbvkFU+QVuVw1V59r+Xqel2nKG6CcB3PCvwclB9EbCnzUgB61RoeBNsfB40fn7xQNAuN43bECg4o2x6N/TlmCRw1oV6vvmiPsczSv76/WWINS9BNSVUKKnTekDClDypBaJlJN3bgQDClDypAypBaJlFtLQkpDMKQMKUPKkFomUpqQ4sqMMqPMKDPqb0Ydpyc=\n",
      "Position.z 7ZY9a8MwEIb/y8120H1IlrR3bqEZ2pQOoWQwJUlJ3Cn4vze2Q1BoeiWZbzE26OFevRIPPsDTdt927XYD+e0A83a92nfL9RdkIEdcO64xzTFkcZlxJo1w4LiACh423a5d7SEfAIfHc7fsvo+f8LiZ75Yfn8clL5Br5BQqeIXsnVSwgIwY+wpIQzA1I1J7XyCiIRT9iJDDAkGnMcI4JUuxZO7YDarZhOPIBGxKJqhz3DSH/EW2qDIyzeGm7IDUDoj5tJ8S0SvACaGm3A6pJ8pepmjpYg6r0eg05wJRm/6jgUYd49PIHF8KhtUKrt8c0bNdPVHv1WxhYlDK2xZur61RK+Bh7YAMl/vMRLUCkokJ6Yz0ffW/QQILc/JmEDOIGcQMcodBkhdKLplBzCBmEDPIzQahGbGQRDaDmEHMIGaQOwwiKET2D2IGMYOYQX4b5L3/AQ==\n"
     ]
    },
    {
     "name": "stderr",
     "output_type": "stream",
     "text": [
      "DEBUG:signalr_async.client:Raw message received: WSMessage(type=<WSMsgType.TEXT: 1>, data='{\"C\":\"d-F23263D5-B,0|Df,0|Dg,11|d,9D|p,923|o,922|a,1|Y,D|Dh,0|n,1|W,2|c,27|i,1|X,C|k,3|l,1|r,2|Z,1|s,59F\",\"M\":[{\"H\":\"Streaming\",\"M\":\"feed\",\"A\":[\"CarData.z\",\"7dSxCsJADAbgd8lcJbnk2uut4hvoojgUERSkg7qVvrt6gqPov9ghS66U++ldUr6Blv3tcjpcKW8HWt/2lClw0BnrTNqV1Nk4a5hHayWpbqiiRXd57B5InmVx7Pr+cC4vmDJXFErVUq3U+Hp+LuNYNkA5A3PCvwelBNEbCnzUGj1qQoeBNifA40fnHxQNAuN43bEBg4o2x9A/J0bwqDXa1ea75ghbiZb1/dWENegR/YRUCq2YNI6UI+VIOVJTRErnXLfC0RwpR8qRcqSmiVRQ5iTRkXKkHClHappIRWE2FkfKkXKkHKm/IbUb7w==\",\"2023-03-19T16:40:33.5100401Z\"]},{\"H\":\"Streaming\",\"M\":\"feed\",\"A\":[\"Position.z\",\"7ZS7asNAEEX/ZWrJ7Mzsu0+dQFQkDilMcCGC5WArldG/R9IaswrOBLveRkiwh7lztZwTPO2Pbd/uO4hvJ2ja3fbYb3ZfEIEUca24xtCgjVpFppUJGgPbNVTw0PWHdnuEeAKcHs/9pv8eP+Gxaw6bj8/xyAvEGjnYCl4hGqUrWENE9EMFJCEY3IzUxmSIlhDyZkZIYYagkhjNmJIFnzN3bINiNs1+Ziy6nLHiHJXmkFlk8yKj0xx2eQckdkDM531yRK4AE0IuX4fEP8pGp2hhMYfFaHSes0DEpv9owIljTJiZ8SVjWKzg+s3Rcrarf9QYMZtNDOr8ttnba3NiBTydnZDpcl8YL1ZAOjE2XJBhqP43SEAzbuOLQYpBikGKQW42CK9UMIhOF4MUgxSDFIPcYRBmozwWgRSBFIEUgfwWyPvwAw==\",\"2023-03-19T16:40:33.335081Z\"]}]}', extra='')\n",
      "DEBUG:signalr_async.client:Raw message received: WSMessage(type=<WSMsgType.TEXT: 1>, data='{\"C\":\"d-F23263D5-B,0|Df,0|Dg,11|d,9E|p,923|o,922|a,1|Y,D|Dh,0|n,1|W,2|c,27|i,1|X,C|k,3|l,1|r,2|Z,1|s,59F\",\"M\":[{\"H\":\"Streaming\",\"M\":\"feed\",\"A\":[\"Heartbeat\",{\"Utc\":\"2023-03-19T16:40:35.8438855Z\",\"_kf\":true},\"2023-03-19T16:40:35.289Z\"]}]}', extra='')\n"
     ]
    },
    {
     "name": "stdout",
     "output_type": "stream",
     "text": [
      "CarData.z 7dSxCsJADAbgd8lcJbnk2uut4hvoojgUERSkg7qVvrt6gqPov9ghS66U++ldUr6Blv3tcjpcKW8HWt/2lClw0BnrTNqV1Nk4a5hHayWpbqiiRXd57B5InmVx7Pr+cC4vmDJXFErVUq3U+Hp+LuNYNkA5A3PCvwelBNEbCnzUGj1qQoeBNifA40fnHxQNAuN43bEBg4o2x9A/J0bwqDXa1ea75ghbiZb1/dWENegR/YRUCq2YNI6UI+VIOVJTRErnXLfC0RwpR8qRcqSmiVRQ5iTRkXKkHClHappIRWE2FkfKkXKkHKm/IbUb7w==\n",
      "Position.z 7ZS7asNAEEX/ZWrJ7Mzsu0+dQFQkDilMcCGC5WArldG/R9IaswrOBLveRkiwh7lztZwTPO2Pbd/uO4hvJ2ja3fbYb3ZfEIEUca24xtCgjVpFppUJGgPbNVTw0PWHdnuEeAKcHs/9pv8eP+Gxaw6bj8/xyAvEGjnYCl4hGqUrWENE9EMFJCEY3IzUxmSIlhDyZkZIYYagkhjNmJIFnzN3bINiNs1+Ziy6nLHiHJXmkFlk8yKj0xx2eQckdkDM531yRK4AE0IuX4fEP8pGp2hhMYfFaHSes0DEpv9owIljTJiZ8SVjWKzg+s3Rcrarf9QYMZtNDOr8ttnba3NiBTydnZDpcl8YL1ZAOjE2XJBhqP43SEAzbuOLQYpBikGKQW42CK9UMIhOF4MUgxSDFIPcYRBmozwWgRSBFIEUgfwWyPvwAw==\n",
      "Heartbeat {'Utc': '2023-03-19T16:40:35.8438855Z', '_kf': True}\n"
     ]
    },
    {
     "name": "stderr",
     "output_type": "stream",
     "text": [
      "DEBUG:signalr_async.client:Raw message received: WSMessage(type=<WSMsgType.TEXT: 1>, data='{\"C\":\"d-F23263D5-B,0|Df,0|Dg,11|d,9E|p,924|o,922|a,1|Y,D|Dh,0|n,1|W,2|c,27|i,1|X,C|k,3|l,1|r,2|Z,1|s,59F\",\"M\":[{\"H\":\"Streaming\",\"M\":\"feed\",\"A\":[\"CarData.z\",\"7ZTBCsIwDIbfJedtpE23tb0O30AviochAwXZYe429u5uHXgT9L/oIZeklPw0+VO+iXb9ONy6B8XTRIfxQpEsW8lZchP2poqOo0gROATP7kgZNe2wVE9k1tBc277v7umCKXJGNkVJ0aVYbuc1zXMqgHQO1Bn+XmiSEJ3QwK1WaKseXQZqjoXXj+7fCioE1rHNWINCQc1x6M8pS7DVCnW1/swcwy5JU3696jGDFul7SLnC+BDEVwophZRCSiH1n5CSBVIcrEJKIaWQUkj9DFLn+Qk=\",\"2023-03-19T16:40:34.3899092Z\"]}]}', extra='')\n",
      "DEBUG:signalr_async.client:Raw message received: WSMessage(type=<WSMsgType.TEXT: 1>, data='{\"C\":\"d-F23263D5-B,0|Df,0|Dg,11|d,9E|p,924|o,923|a,1|Y,D|Dh,0|n,1|W,2|c,27|i,1|X,C|k,3|l,1|r,2|Z,1|s,59F\",\"M\":[{\"H\":\"Streaming\",\"M\":\"feed\",\"A\":[\"Position.z\",\"7ZY9a8MwEIb/y8120N3pw9LeuYVmaFM6hJLBlDglcafg/17bCkGh6ZVkvsXYoId79Uo8+AhPu0Pbt7sO0tsRlu12c+jX2y9IQIa4NlxjXKJP1iTmhQ3OuBhWUMFD1+/bzQHSEXB6PPfr/nv8hMduuV9/fI5LXiDVyNFX8ArJGVvBChJiM1RAEoIxzEjtXIFYCaHGzQgZLBA0EmMZc7LYlMwdu0Exm+VmZjyGkvHiHJPnkLvI1oiMzXM4lB2Q2AExn/ZTInIFmBEK5XZIPFF2NkeLF3NYjEanOReI2PQfDQRxjIszM74UDIsVXL85Vs529USdE7P5zKAtb5u/vbYgVsDT2gmZLveZacQKyGbGxzMyDNX/BvGjQSiyGkQNogZRg9xhkMY5YzCqQdQgahA1yM0GsQsMNjrWfxA1iBpEDXKPQXg0CJH+g6hB1CBqkF8GeR9+AA==\",\"2023-03-19T16:40:34.3749229Z\"]}]}', extra='')\n"
     ]
    },
    {
     "name": "stdout",
     "output_type": "stream",
     "text": [
      "CarData.z 7ZTBCsIwDIbfJedtpE23tb0O30AviochAwXZYe429u5uHXgT9L/oIZeklPw0+VO+iXb9ONy6B8XTRIfxQpEsW8lZchP2poqOo0gROATP7kgZNe2wVE9k1tBc277v7umCKXJGNkVJ0aVYbuc1zXMqgHQO1Bn+XmiSEJ3QwK1WaKseXQZqjoXXj+7fCioE1rHNWINCQc1x6M8pS7DVCnW1/swcwy5JU3696jGDFul7SLnC+BDEVwophZRCSiH1n5CSBVIcrEJKIaWQUkj9DFLn+Qk=\n",
      "Position.z 7ZY9a8MwEIb/y8120N3pw9LeuYVmaFM6hJLBlDglcafg/17bCkGh6ZVkvsXYoId79Uo8+AhPu0Pbt7sO0tsRlu12c+jX2y9IQIa4NlxjXKJP1iTmhQ3OuBhWUMFD1+/bzQHSEXB6PPfr/nv8hMduuV9/fI5LXiDVyNFX8ArJGVvBChJiM1RAEoIxzEjtXIFYCaHGzQgZLBA0EmMZc7LYlMwdu0Exm+VmZjyGkvHiHJPnkLvI1oiMzXM4lB2Q2AExn/ZTInIFmBEK5XZIPFF2NkeLF3NYjEanOReI2PQfDQRxjIszM74UDIsVXL85Vs529USdE7P5zKAtb5u/vbYgVsDT2gmZLveZacQKyGbGxzMyDNX/BvGjQSiyGkQNogZRg9xhkMY5YzCqQdQgahA1yM0GsQsMNjrWfxA1iBpEDXKPQXg0CJH+g6hB1CBqkF8GeR9+AA==\n"
     ]
    },
    {
     "name": "stderr",
     "output_type": "stream",
     "text": [
      "DEBUG:signalr_async.client:Raw message received: WSMessage(type=<WSMsgType.TEXT: 1>, data='{\"C\":\"d-F23263D5-B,0|Df,0|Dg,11|d,9E|p,925|o,924|a,1|Y,D|Dh,0|n,1|W,2|c,27|i,1|X,C|k,3|l,1|r,2|Z,1|s,59F\",\"M\":[{\"H\":\"Streaming\",\"M\":\"feed\",\"A\":[\"CarData.z\",\"7dS/CsIwEAbwd7m5yiW5/F3FN9BFcRARFKSDdit9d2sER6mfCA63XErJR5O78utp2XbX8/FGZdvTujtQIcvWzdjNTF6ZUISLk3mwOUWXN9TQYn8dd/dkHmVx2rft8VJfMBVuyNbqapVa/fP5sQxD3QDlBMwZ/jxoahC9oYGPGtCjJnQYaHMsPH50/tahQWAczztGMOjQ5gj653gPHjWgXY3TmmNYarSur68mrEFj9B1SaURKxCtSipQipUj9I1J+ziEnTlaRUqQUKUXqJ0gZ+ZopG3KMKShTypQypUz9hik/yandcAc=\",\"2023-03-19T16:40:35.2697786Z\"]},{\"H\":\"Streaming\",\"M\":\"feed\",\"A\":[\"Position.z\",\"7ZQ9a8NADIb/i2Y7nE66z71zC83QpnQIJYMpcUriTsH/vf4I4VJSlWTWYmxzD5JeHc8RnnaHpmt2LeS3Iyyb7ebQrbdfkMEaS7WhGtMSfWaTiRccOJmQVlDBQ9vtm80B8hFwfDx36+57+ITHdrlff3wOR14g10jJV/AK2RmuYAUZMfYVWAnBFCakdq5AWEJsdBNiDRYIGolhwrmzFEvmjmlQ7I0pTozHUDJerGPmOtZd9BZFhuc6FMoMrJiBJTrNUyJyBDgjNpTjWHGj5HhuLV3UIbE1e6pzgYhJ/5FAEMu4NDHDS8GQGMH1m8Nyb1c36pzYm58Z5PK2+dtjC2IENJ4dkfFyn5koRmB5Znw6I31f/W+QMOzIRzWIGkQNoga5xyBp2BHFqAZRg6hB1CA3G8QtMHAcfqtB1CBqEDXIHQbhxMGRV4OoQdQgapDfBnnvfwA=\",\"2023-03-19T16:40:35.4947536Z\"]}]}', extra='')\n"
     ]
    },
    {
     "name": "stdout",
     "output_type": "stream",
     "text": [
      "CarData.z 7dS/CsIwEAbwd7m5yiW5/F3FN9BFcRARFKSDdit9d2sER6mfCA63XErJR5O78utp2XbX8/FGZdvTujtQIcvWzdjNTF6ZUISLk3mwOUWXN9TQYn8dd/dkHmVx2rft8VJfMBVuyNbqapVa/fP5sQxD3QDlBMwZ/jxoahC9oYGPGtCjJnQYaHMsPH50/tahQWAczztGMOjQ5gj653gPHjWgXY3TmmNYarSur68mrEFj9B1SaURKxCtSipQipUj9I1J+ziEnTlaRUqQUKUXqJ0gZ+ZopG3KMKShTypQypUz9hik/yandcAc=\n",
      "Position.z 7ZQ9a8NADIb/i2Y7nE66z71zC83QpnQIJYMpcUriTsH/vf4I4VJSlWTWYmxzD5JeHc8RnnaHpmt2LeS3Iyyb7ebQrbdfkMEaS7WhGtMSfWaTiRccOJmQVlDBQ9vtm80B8hFwfDx36+57+ITHdrlff3wOR14g10jJV/AK2RmuYAUZMfYVWAnBFCakdq5AWEJsdBNiDRYIGolhwrmzFEvmjmlQ7I0pTozHUDJerGPmOtZd9BZFhuc6FMoMrJiBJTrNUyJyBDgjNpTjWHGj5HhuLV3UIbE1e6pzgYhJ/5FAEMu4NDHDS8GQGMH1m8Nyb1c36pzYm58Z5PK2+dtjC2IENJ4dkfFyn5koRmB5Znw6I31f/W+QMOzIRzWIGkQNoga5xyBp2BHFqAZRg6hB1CA3G8QtMHAcfqtB1CBqEDXIHQbhxMGRV4OoQdQgapDfBnnvfwA=\n"
     ]
    },
    {
     "name": "stderr",
     "output_type": "stream",
     "text": [
      "DEBUG:signalr_async.client:Connection keepalive\n",
      "DEBUG:signalr_async.client:Sending: message_content='{}', is_binary=False\n",
      "DEBUG:signalr_async.client:Raw message received: WSMessage(type=<WSMsgType.TEXT: 1>, data='{\"C\":\"d-F23263D5-B,0|Df,0|Dg,11|d,9E|p,926|o,925|a,1|Y,D|Dh,0|n,1|W,2|c,27|i,1|X,C|k,3|l,1|r,2|Z,1|s,59F\",\"M\":[{\"H\":\"Streaming\",\"M\":\"feed\",\"A\":[\"CarData.z\",\"7djNCsIwDADgd8l5kyZNf6/iG+hF8SAyUJAdprexd3dW8CROI7vlko7R0DYZH9t6WLW37txcIe962NyOkIEM2drYGtMafWaTrVs4TsEG2kIFy0M3zu4BH2F5OrRtcyk3DGRTAZVoS+QS3fP6MQxDmSDKY2Eemt8TsSRKT4jirXrpVqO0GdLikLj90v6TlSYK2vE8YxAmWmlxWPrkOCfcqpdWNXxXHDRcUsv4WjW+KxBGwsmFx+xPTkVKPjmvTqlT6pQ6NY9TIaR/nUox+YD6PqVOqVPq1FxORfrPKb/A0SlGVqfUKXVKnZrJKT+98IRTPH73GZfUKXVKnVKnZnLKffN/aj/cAQ==\",\"2023-03-19T16:40:36.4296059Z\"]},{\"H\":\"Streaming\",\"M\":\"feed\",\"A\":[\"Position.z\",\"7Za9asMwFEbf5c520P2RZGnv3EI9tCkdQslgSpKSuJPxuze2QlBKeksyazE26HA/fRIHD/C0O3R9t9tCfBug7TbrQ7/afEEEMsS14RpDiy6KiWwXLognpiVU8LDt9936AHEAnB7P/ar/Pn7C47bdrz4+j0teINbIwVXwCtEaqWAJEbEZKyANweBnpLY2Q0RDqLEzQgYzBI3GCGNKFpqcuWM3qGYTbmbGoc8Zp84xaQ7Zi2yNykiawz7vgNQOiPm0nxzRK8CEkM+3Q+qJspUULVzMYTUaneZcIGrTfzTg1TE2zMzxJWNYreD6zRE929UTtVbN5hKDkt82d3ttXq2Ap7UTMl3uM9OoFZAkxoUzMo7V/wYJQZz3rhikGKQYpBjkZoO4BbE4wfIPUgxSDFIMco9BxIsz4otBikGKQYpBfhvkffwB\",\"2023-03-19T16:40:36.4746047Z\"]}]}', extra='')\n"
     ]
    },
    {
     "name": "stdout",
     "output_type": "stream",
     "text": [
      "CarData.z 7djNCsIwDADgd8l5kyZNf6/iG+hF8SAyUJAdprexd3dW8CROI7vlko7R0DYZH9t6WLW37txcIe962NyOkIEM2drYGtMafWaTrVs4TsEG2kIFy0M3zu4BH2F5OrRtcyk3DGRTAZVoS+QS3fP6MQxDmSDKY2Eemt8TsSRKT4jirXrpVqO0GdLikLj90v6TlSYK2vE8YxAmWmlxWPrkOCfcqpdWNXxXHDRcUsv4WjW+KxBGwsmFx+xPTkVKPjmvTqlT6pQ6NY9TIaR/nUox+YD6PqVOqVPq1FxORfrPKb/A0SlGVqfUKXVKnZrJKT+98IRTPH73GZfUKXVKnVKnZnLKffN/aj/cAQ==\n",
      "Position.z 7Za9asMwFEbf5c520P2RZGnv3EI9tCkdQslgSpKSuJPxuze2QlBKeksyazE26HA/fRIHD/C0O3R9t9tCfBug7TbrQ7/afEEEMsS14RpDiy6KiWwXLognpiVU8LDt9936AHEAnB7P/ar/Pn7C47bdrz4+j0teINbIwVXwCtEaqWAJEbEZKyANweBnpLY2Q0RDqLEzQgYzBI3GCGNKFpqcuWM3qGYTbmbGoc8Zp84xaQ7Zi2yNykiawz7vgNQOiPm0nxzRK8CEkM+3Q+qJspUULVzMYTUaneZcIGrTfzTg1TE2zMzxJWNYreD6zRE929UTtVbN5hKDkt82d3ttXq2Ap7UTMl3uM9OoFZAkxoUzMo7V/wYJQZz3rhikGKQYpBjkZoO4BbE4wfIPUgxSDFIMco9BxIsz4otBikGKQYpBfhvkffwB\n"
     ]
    },
    {
     "name": "stderr",
     "output_type": "stream",
     "text": [
      "DEBUG:signalr_async.client:Raw message received: WSMessage(type=<WSMsgType.TEXT: 1>, data='{\"C\":\"d-F23263D5-B,0|Df,0|Dg,11|d,9E|p,926|o,926|a,1|Y,D|Dh,0|n,1|W,2|c,27|i,1|X,C|k,3|l,1|r,2|Z,1|s,59F\",\"M\":[{\"H\":\"Streaming\",\"M\":\"feed\",\"A\":[\"Position.z\",\"7ZQ/a8MwEMW/y8120P2RZGnP3EIztCkdQslgSpySuFPwd69thaCU9EozazEy6Md793S8Ezzuj23f7juIrydYtbvtsd/sPiECGeLacI1hhS6KiewW3ou1AddQwbLrD+32CPEEOH2e+k3/Nf7CQ7c6bN4/xivPEGvk4Cp4gWiNVLCGiNgMFZCGYPAzUlubIaIh1NgZIYMZgkZjhDE5C03O3DENqt6Em5lx6HPGqTom6ZC98taojCQd9nkGpGZAzOd5ckSPABNCPh+H1BdlK8lauNJh1Rqdda4QNelfEvCqjA0zMx4yhtUIbm+O6N5uvqi1qjeXGJR829z/Y/NqBDzdnZBpuS9Mo0ZAkhgXLsgwVH81iF9gEAmWSoOUBikNUhrkjgaxY4OwSGmQ0iClQUqD/GyQt+Eb\",\"2023-03-19T16:40:37.5944344Z\"]}]}', extra='')\n",
      "DEBUG:signalr_async.client:Raw message received: WSMessage(type=<WSMsgType.TEXT: 1>, data='{\"C\":\"d-F23263D5-B,0|Df,0|Dg,11|d,9E|p,927|o,926|a,1|Y,D|Dh,0|n,1|W,2|c,27|i,1|X,C|k,3|l,1|r,2|Z,1|s,59F\",\"M\":[{\"H\":\"Streaming\",\"M\":\"feed\",\"A\":[\"CarData.z\",\"7ZS7CgJBDEX/JbUuSSbzbMU/0EaxEBEUZAu1W/bf1VmwEh+R7dIkw5DLJDfD6WDeXs/H/QXKuoPldQcFGNlN0U0pLygUweJCEzH7IH4FE5htz/fqDugRZodt2+5P9QKh4AS4Rlej1OiH8yP1fS1Q6USpI/xdSFWonZDUrQZtq0m7DK05rF6/dv/stELFOoYZo1LotOaI9ud4r2w1aF2N35lDKFVa8/PV9Mogii5+fPiufsepnLJnZuOUcco4ZZwaiVNE/3EqNhyyJEzGKeOUcco4NQqnOIfwL6eEs/jojFPGKeOUcWoUTgmmbzi16W8=\",\"2023-03-19T16:40:37.4294573Z\"]}]}', extra='')\n"
     ]
    },
    {
     "name": "stdout",
     "output_type": "stream",
     "text": [
      "Position.z 7ZQ/a8MwEMW/y8120P2RZGnP3EIztCkdQslgSpySuFPwd69thaCU9EozazEy6Md793S8Ezzuj23f7juIrydYtbvtsd/sPiECGeLacI1hhS6KiewW3ou1AddQwbLrD+32CPEEOH2e+k3/Nf7CQ7c6bN4/xivPEGvk4Cp4gWiNVLCGiNgMFZCGYPAzUlubIaIh1NgZIYMZgkZjhDE5C03O3DENqt6Em5lx6HPGqTom6ZC98taojCQd9nkGpGZAzOd5ckSPABNCPh+H1BdlK8lauNJh1Rqdda4QNelfEvCqjA0zMx4yhtUIbm+O6N5uvqi1qjeXGJR829z/Y/NqBDzdnZBpuS9Mo0ZAkhgXLsgwVH81iF9gEAmWSoOUBikNUhrkjgaxY4OwSGmQ0iClQUqD/GyQt+Eb\n",
      "CarData.z 7ZS7CgJBDEX/JbUuSSbzbMU/0EaxEBEUZAu1W/bf1VmwEh+R7dIkw5DLJDfD6WDeXs/H/QXKuoPldQcFGNlN0U0pLygUweJCEzH7IH4FE5htz/fqDugRZodt2+5P9QKh4AS4Rlej1OiH8yP1fS1Q6USpI/xdSFWonZDUrQZtq0m7DK05rF6/dv/stELFOoYZo1LotOaI9ud4r2w1aF2N35lDKFVa8/PV9Mogii5+fPiufsepnLJnZuOUcco4ZZwaiVNE/3EqNhyyJEzGKeOUcco4NQqnOIfwL6eEs/jojFPGKeOUcWoUTgmmbzi16W8=\n"
     ]
    },
    {
     "name": "stderr",
     "output_type": "stream",
     "text": [
      "DEBUG:signalr_async.client:Raw message received: WSMessage(type=<WSMsgType.TEXT: 1>, data='{\"C\":\"d-F23263D5-B,0|Df,0|Dg,11|d,9E|p,928|o,927|a,1|Y,D|Dh,0|n,1|W,2|c,27|i,1|X,C|k,3|l,1|r,2|Z,1|s,59F\",\"M\":[{\"H\":\"Streaming\",\"M\":\"feed\",\"A\":[\"CarData.z\",\"7Za9asMwEIDfRXMS7k+SpTX0DZqlpUMogRaKhzSb0bvHkSGTqdLLYswtJ2P0cafT+cODe+kv5+/Tr8vvgztcPl12BMRb4C2mVwxZIHPcRUiCgd7cxu2P53H34PAW9l/Hvj/91BfgMmwc1cg1So1+er4tpdQNKk6UHMIMKNRAsaLaM6K62PB/cCq1017HXHseyUjqAdBOALEWVFzHdMaoBFnbHNFOjvfKUoO2q/Gx5iBIRet6z9rNNUgkxGbikf7LVEkSd8CrMRUGTqYqU5Wpalmq4uCfU1W3w1FVHmRFqvJkqjJVmaqWpSpqfZZtVTEkphBXpKogpipTlalqUariiE//VXlIlCKuR1UR2FRlqjJVLUtVIbYTl/JRrg==\",\"2023-03-19T16:40:38.5092971Z\"]},{\"H\":\"Streaming\",\"M\":\"feed\",\"A\":[\"Position.z\",\"7ZY7a8NAEIT/y9aSuX3cs0+dQFwkDilMcCFC7GArldF/j6Qz5kycDXF9jZDgPmZ2bhl0hIfdoeu73RbSyxGW3cfm0K8/PiEBGeLWcItxiS6JSewX3osYjyto4G7b77vNAdIRcHo89uv+a/yE++1yv357H488QWqRo2vgGZI10sAKEmIYGiANwehnpLW2QERDKNgZIYMFgkZjhDE7i6FkbpgGVW/CYWYc+pJxqo7JOmQvvAWVkazDvsyA1AyI+TRPiegRYEbIl+OQeqNsJVuLFzqsWqOTzgWiJv1LAl6VsXFmxpeCYTWC65sjurerN2qt6s1lBqXcNvf/2LwaAU9nJ2Ra7jMT1AhIMuPiGRmG5q8GCQszhueNqw1SG6Q2SG2QGxqEvDBj/QepDVIbpDbIjwZ5Hb4B\",\"2023-03-19T16:40:38.2743311Z\"]}]}', extra='')\n"
     ]
    },
    {
     "name": "stdout",
     "output_type": "stream",
     "text": [
      "CarData.z 7Za9asMwEIDfRXMS7k+SpTX0DZqlpUMogRaKhzSb0bvHkSGTqdLLYswtJ2P0cafT+cODe+kv5+/Tr8vvgztcPl12BMRb4C2mVwxZIHPcRUiCgd7cxu2P53H34PAW9l/Hvj/91BfgMmwc1cg1So1+er4tpdQNKk6UHMIMKNRAsaLaM6K62PB/cCq1017HXHseyUjqAdBOALEWVFzHdMaoBFnbHNFOjvfKUoO2q/Gx5iBIRet6z9rNNUgkxGbikf7LVEkSd8CrMRUGTqYqU5Wpalmq4uCfU1W3w1FVHmRFqvJkqjJVmaqWpSpqfZZtVTEkphBXpKogpipTlalqUariiE//VXlIlCKuR1UR2FRlqjJVLUtVIbYTl/JRrg==\n",
      "Position.z 7ZY7a8NAEIT/y9aSuX3cs0+dQFwkDilMcCFC7GArldF/j6Qz5kycDXF9jZDgPmZ2bhl0hIfdoeu73RbSyxGW3cfm0K8/PiEBGeLWcItxiS6JSewX3osYjyto4G7b77vNAdIRcHo89uv+a/yE++1yv357H488QWqRo2vgGZI10sAKEmIYGiANwehnpLW2QERDKNgZIYMFgkZjhDE7i6FkbpgGVW/CYWYc+pJxqo7JOmQvvAWVkazDvsyA1AyI+TRPiegRYEbIl+OQeqNsJVuLFzqsWqOTzgWiJv1LAl6VsXFmxpeCYTWC65sjurerN2qt6s1lBqXcNvf/2LwaAU9nJ2Ra7jMT1AhIMuPiGRmG5q8GCQszhueNqw1SG6Q2SG2QGxqEvDBj/QepDVIbpDbIjwZ5Hb4B\n"
     ]
    },
    {
     "name": "stderr",
     "output_type": "stream",
     "text": [
      "DEBUG:signalr_async.client:Raw message received: WSMessage(type=<WSMsgType.TEXT: 1>, data='{\"C\":\"d-F23263D5-B,0|Df,0|Dg,11|d,9E|p,929|o,928|a,1|Y,D|Dh,0|n,1|W,2|c,27|i,1|X,C|k,3|l,1|r,2|Z,1|s,59F\",\"M\":[{\"H\":\"Streaming\",\"M\":\"feed\",\"A\":[\"CarData.z\",\"7ZTNisJADIDfJWeVSTI/yVzFN9DLLh5kEXZh6cH1Vvru6hQ8lVpTWBZ3LplS5iOZJHwtbJrz6ev4A/m9hd35AzKQI146XqJuMWbvMssqeaWI8Q0WsD6crrdbwFtYfx6a5vhdfjjIbgFUIpfoSwz99+3ounLBxHkjh24AxIQ6zmJhrY9Ec7XxebAvVazzGOrPlIxk3gDrChBbQcM4+jcmI8jW5njr5oRgLDVau5qmNQedL2g571llqEGcIj1MfKXHVKWiRIFeSFXkq6qqqqqq/paqRHieqnRFpCgaXklV4ddVpVJlVWVVZTUqK+U0V1bBKXrBKqs5skJxjwdRbVVt9a9tJSITbLXvLg==\",\"2023-03-19T16:40:39.5091481Z\"]},{\"H\":\"Streaming\",\"M\":\"feed\",\"A\":[\"Position.z\",\"7ZexasMwEIbf5WY76KQ7ydLeuYVmaFM6hJLBlDglcafgd69thaCU9Eoy32Js0Mf9+i0+7CM87Q5t3+46SG9HWLbbzaFfb78ggTXW1cbVGJfoE5nkmgUj2Uh+BRU8dP2+3RwgHQGny3O/7r/HR3jslvv1x+e45AVSjS76Cl4hsaEKVpAQm6ECKyEYw4zUzAVCEmIbnhFrsEDQSAw5zMliUzJ37AbFbOSamfEYSsaLc0yeY/kiWyMylOe4UHZgxQ6sc6f9lIhcAWbEhnI7VnyjjilHixdznBjNnuZcIGLTfzQQxDEcZ2a8KRgnVnD95JCc7eobZRaz+cwglafN315bECtw09oJmQ73mWnECixlxsczMgzV/wYJTGMDqAZRg6hB1CA3GyQujCOLrN8gahA1iBrkHoOMvzAYVCAqEBWICuQegVBkJGY1iBpEDaIG+W2Q9+EH\",\"2023-03-19T16:40:39.4951455Z\"]}]}', extra='')\n"
     ]
    },
    {
     "name": "stdout",
     "output_type": "stream",
     "text": [
      "CarData.z 7ZTNisJADIDfJWeVSTI/yVzFN9DLLh5kEXZh6cH1Vvru6hQ8lVpTWBZ3LplS5iOZJHwtbJrz6ev4A/m9hd35AzKQI146XqJuMWbvMssqeaWI8Q0WsD6crrdbwFtYfx6a5vhdfjjIbgFUIpfoSwz99+3ounLBxHkjh24AxIQ6zmJhrY9Ec7XxebAvVazzGOrPlIxk3gDrChBbQcM4+jcmI8jW5njr5oRgLDVau5qmNQedL2g571llqEGcIj1MfKXHVKWiRIFeSFXkq6qqqqqq/paqRHieqnRFpCgaXklV4ddVpVJlVWVVZTUqK+U0V1bBKXrBKqs5skJxjwdRbVVt9a9tJSITbLXvLg==\n",
      "Position.z 7ZexasMwEIbf5WY76KQ7ydLeuYVmaFM6hJLBlDglcafgd69thaCU9Eoy32Js0Mf9+i0+7CM87Q5t3+46SG9HWLbbzaFfb78ggTXW1cbVGJfoE5nkmgUj2Uh+BRU8dP2+3RwgHQGny3O/7r/HR3jslvv1x+e45AVSjS76Cl4hsaEKVpAQm6ECKyEYw4zUzAVCEmIbnhFrsEDQSAw5zMliUzJ37AbFbOSamfEYSsaLc0yeY/kiWyMylOe4UHZgxQ6sc6f9lIhcAWbEhnI7VnyjjilHixdznBjNnuZcIGLTfzQQxDEcZ2a8KRgnVnD95JCc7eobZRaz+cwglafN315bECtw09oJmQ73mWnECixlxsczMgzV/wYJTGMDqAZRg6hB1CA3GyQujCOLrN8gahA1iBrkHoOMvzAYVCAqEBWICuQegVBkJGY1iBpEDaIG+W2Q9+EH\n"
     ]
    },
    {
     "name": "stderr",
     "output_type": "stream",
     "text": [
      "DEBUG:signalr_async.client:Raw message received: WSMessage(type=<WSMsgType.TEXT: 1>, data='{\"C\":\"d-F23263D5-B,0|Df,0|Dg,11|d,9E|p,92A|o,929|a,1|Y,D|Dh,0|n,1|W,2|c,27|i,1|X,C|k,3|l,1|r,2|Z,1|s,59F\",\"M\":[{\"H\":\"Streaming\",\"M\":\"feed\",\"A\":[\"CarData.z\",\"7ZbLasMwEEX/ReskzEsvb0P/oN20dBFKoIXiRZqd0b9XkaEr13LHlIRWm5ExuszoenQ8g7nrz6e344fpngbzcH4xnSEg3gJvMd6j6wQ6jrvgAaLwo9mY/eGUdw8GL2H/euj743t5AaaDjaESuUQp0Y7PlyWlskGlE6UOYUKInmhei0WrPSROVYve+yVa9/OkY7VB+0mmLFqSkdRNoO0CYq1Q0T/jGb1SyFpzRNvq1ipLdVpX/TJzEKRIy/qVNUwZxDHaauKs/pZWAjvItHKCf4lWfAVaWWm0arRqtJqhlQDVL0mFVsQAAu7WaIVIa4B1jfHK1v8cDVgNWP8ZWHm8Wg0sycDKdLg5YAUMK4BVseUXgEUW24TVgNWANQ8sW7/VKT2nTw==\",\"2023-03-19T16:40:40.4300112Z\"]},{\"H\":\"Streaming\",\"M\":\"feed\",\"A\":[\"Position.z\",\"7ZY9a8MwEIb/y8120Ol0+to7t9AMbUqHUDKYEqck7hT83+uPEJSSXknmW4wNerhXr8SDj/C0OzRds2shvx1h2Ww3h269/YIM1liqDdWYluizM5nSwgdGjLiCCh7abt9sDpCPgOPjuVt338MnPLbL/frjc1jyArlGSr6CV8hsXAUryAPfV2AlBFOYkJq5QJyE2MgTYg0WCBqJcYRzshRL5o7doJjNUZwYj6FkvDjHzHMsX2SLIuPmORTKDqzYgSU67adE5ApwRmwot2PFEyV2c7R0MYfEaPY05wIRm/6jgSCO4TQxw0vBkFjB9Zvj5GxXT5RZzOZnBl152/zttQWxAhrXjsh4uc9MFCuwbmZ8OiN9X/1vkMhskolqEDWIGkQNcqtBnFkgsmG0ahA1iBpEDXKHQWj4B0Gn/yBqEDWIGuQeg3BwKSKpQdQgahA1yG+DvPc/\",\"2023-03-19T16:40:40.5749813Z\"]}]}', extra='')\n"
     ]
    },
    {
     "name": "stdout",
     "output_type": "stream",
     "text": [
      "CarData.z 7ZbLasMwEEX/ReskzEsvb0P/oN20dBFKoIXiRZqd0b9XkaEr13LHlIRWm5ExuszoenQ8g7nrz6e344fpngbzcH4xnSEg3gJvMd6j6wQ6jrvgAaLwo9mY/eGUdw8GL2H/euj743t5AaaDjaESuUQp0Y7PlyWlskGlE6UOYUKInmhei0WrPSROVYve+yVa9/OkY7VB+0mmLFqSkdRNoO0CYq1Q0T/jGb1SyFpzRNvq1ipLdVpX/TJzEKRIy/qVNUwZxDHaauKs/pZWAjvItHKCf4lWfAVaWWm0arRqtJqhlQDVL0mFVsQAAu7WaIVIa4B1jfHK1v8cDVgNWP8ZWHm8Wg0sycDKdLg5YAUMK4BVseUXgEUW24TVgNWANQ8sW7/VKT2nTw==\n",
      "Position.z 7ZY9a8MwEIb/y8120Ol0+to7t9AMbUqHUDKYEqck7hT83+uPEJSSXknmW4wNerhXr8SDj/C0OzRds2shvx1h2Ww3h269/YIM1liqDdWYluizM5nSwgdGjLiCCh7abt9sDpCPgOPjuVt338MnPLbL/frjc1jyArlGSr6CV8hsXAUryAPfV2AlBFOYkJq5QJyE2MgTYg0WCBqJcYRzshRL5o7doJjNUZwYj6FkvDjHzHMsX2SLIuPmORTKDqzYgSU67adE5ApwRmwot2PFEyV2c7R0MYfEaPY05wIRm/6jgSCO4TQxw0vBkFjB9Zvj5GxXT5RZzOZnBl152/zttQWxAhrXjsh4uc9MFCuwbmZ8OiN9X/1vkMhskolqEDWIGkQNcqtBnFkgsmG0ahA1iBpEDXKHQWj4B0Gn/yBqEDWIGuQeg3BwKSKpQdQgahA1yG+DvPc/\n"
     ]
    },
    {
     "name": "stderr",
     "output_type": "stream",
     "text": [
      "DEBUG:signalr_async.client:Connection keepalive\n",
      "DEBUG:signalr_async.client:Sending: message_content='{}', is_binary=False\n",
      "DEBUG:signalr_async.client:Raw message received: WSMessage(type=<WSMsgType.TEXT: 1>, data='{\"C\":\"d-F23263D5-B,0|Df,0|Dg,11|d,9E|p,92B|o,92A|a,1|Y,D|Dh,0|n,1|W,2|c,27|i,1|X,C|k,3|l,1|r,2|Z,1|s,59F\",\"M\":[{\"H\":\"Streaming\",\"M\":\"feed\",\"A\":[\"CarData.z\",\"7ZZLasMwEEDvonUS5qfPeBt6g3aT0kUogRaKF2l2xnevo0BWaqxOC3WpwB4Z48eMRtLDg7vrT8fXw7vrHgf3cHp2nSMgXgOvUe8xdALTtYlJ1SfauZXb7o/T14PDc9i+7Pv+8JZfgOtg5ShHzlFy9Jfn8zCO+QMTJwUOY5AKFKHI0gyLmbXOE0sFiwrVsOHrSS/VJuuqlFpUk5HM+8C6EYitYGlFquYYjSBbmyOGUjPovbHUYO1qrGsOgmQ0j9esqdQgAT9/qif6c2HhBkEVAZcnLFGzsAB/QVgSYhNWE1YT1m1h4XeFxaIpSliasIjBLKyq8/+ztqJUxTZbNVv9Y1vpfOIZW3nQNN1LsxUL/SFbsRI3WzVbNVvdtBXX/Fs9jR8=\",\"2023-03-19T16:40:41.5098509Z\"]},{\"H\":\"Streaming\",\"M\":\"feed\",\"A\":[\"Position.z\",\"7ZZPa8MwDMW/i85JsWT5773nDdbD1rFDGT2E0XQ02Snkuy+JS3FZp7GeDSHE4B96ehKPDPB47Jq+ObYQXwfYNId91+8OnxCBFOla6RrDBm1kNT0rhxzsFipYt/2p2XcQB8D59dTv+q/pCA/t5rR7/5iuPEOsUQdbwQtEo7iCLUREP1ZAEoLBLUhtTIawhJA3C0IKMwSVxLDGpCz4nLmjGxS1sfYLY9HljBXrqFSHzJU2LzKc6miXe0CiB6T1uZ8ckS3AhJDL2yFxotpwkhau6mhRGp3rXCGi07844MQyJizM9JExWrTg9uawrO3mRI0RtdnEIOfbZv9vmxMt0PPdGZmX+8J40QLixNhwQcax+is/cIWOfVBYEqQkSEmQkiB3JAhPMzKq/IOUBCkJUhLkR4K8jd8=\",\"2023-03-19T16:40:41.4348506Z\"]}]}', extra='')\n"
     ]
    },
    {
     "name": "stdout",
     "output_type": "stream",
     "text": [
      "CarData.z 7ZZLasMwEEDvonUS5qfPeBt6g3aT0kUogRaKF2l2xnevo0BWaqxOC3WpwB4Z48eMRtLDg7vrT8fXw7vrHgf3cHp2nSMgXgOvUe8xdALTtYlJ1SfauZXb7o/T14PDc9i+7Pv+8JZfgOtg5ShHzlFy9Jfn8zCO+QMTJwUOY5AKFKHI0gyLmbXOE0sFiwrVsOHrSS/VJuuqlFpUk5HM+8C6EYitYGlFquYYjSBbmyOGUjPovbHUYO1qrGsOgmQ0j9esqdQgAT9/qif6c2HhBkEVAZcnLFGzsAB/QVgSYhNWE1YT1m1h4XeFxaIpSliasIjBLKyq8/+ztqJUxTZbNVv9Y1vpfOIZW3nQNN1LsxUL/SFbsRI3WzVbNVvdtBXX/Fs9jR8=\n",
      "Position.z 7ZZPa8MwDMW/i85JsWT5773nDdbD1rFDGT2E0XQ02Snkuy+JS3FZp7GeDSHE4B96ehKPDPB47Jq+ObYQXwfYNId91+8OnxCBFOla6RrDBm1kNT0rhxzsFipYt/2p2XcQB8D59dTv+q/pCA/t5rR7/5iuPEOsUQdbwQtEo7iCLUREP1ZAEoLBLUhtTIawhJA3C0IKMwSVxLDGpCz4nLmjGxS1sfYLY9HljBXrqFSHzJU2LzKc6miXe0CiB6T1uZ8ckS3AhJDL2yFxotpwkhau6mhRGp3rXCGi07844MQyJizM9JExWrTg9uawrO3mRI0RtdnEIOfbZv9vmxMt0PPdGZmX+8J40QLixNhwQcax+is/cIWOfVBYEqQkSEmQkiB3JAhPMzKq/IOUBCkJUhLkR4K8jd8=\n"
     ]
    },
    {
     "name": "stderr",
     "output_type": "stream",
     "text": [
      "DEBUG:signalr_async.client:Raw message received: WSMessage(type=<WSMsgType.TEXT: 1>, data='{}', extra='')\n",
      "DEBUG:signalr_async.client:Raw message received: WSMessage(type=<WSMsgType.TEXT: 1>, data='{\"C\":\"d-F23263D5-B,0|Df,0|Dg,11|d,9E|p,92C|o,92B|a,1|Y,D|Dh,0|n,1|W,2|c,27|i,1|X,C|k,3|l,1|r,2|Z,1|s,59F\",\"M\":[{\"H\":\"Streaming\",\"M\":\"feed\",\"A\":[\"CarData.z\",\"7Za/asQwDMbfRfPdIVnyH3k9+gbt0tLhKActlAzX20LevTkXOqWJqy4ueJGD8Yekz+YXjXA3XC9v5w/ITyM8XF8gg0PHe+Q96T2FLJiFDlE0kZdH2MHxdJlPj0C3cHw9DcP5vWwgZNyBK5FLlBL91/dtmaZywKSTBZ0EchVSwt/npCK0NklL1XLgWKMN1mqT9Uqs/jjzI7C+AsdW4dKNVPUYjUK2miOGUovQe2OpwepqrDOHUIq0rN9Z05JBgsqbiWf1z7RyB3QaIzcHK070j2CVRDusOqw6rFZgxRrkr7ByM6yE2xutWLZba4dWir7TqtOq02p1tMLtX/oGrbxo0NAarFi1alhpBVYxdFh1WHVYrcKKamD1PH0C\",\"2023-03-19T16:40:42.549696Z\"]},{\"H\":\"Streaming\",\"M\":\"feed\",\"A\":[\"Position.z\",\"7ZQ9a8MwEIb/y8120J1On3vmFpqhTekQSgZT4pTYnYL/e2MrBLmkV+pZi5FBD/fqlXjO8Hjsmr45thBfz7BpDvuu3x0+IQIp0rXSNYYN2sgqMq4csld+CxWs2/7U7DuIZ8Dx89Tv+q/LLzy0m9Pu/eOy5RlijTrYCl4gGsUVbCEi+qECkhAMbkJqYzKEJYS8mRBSmCGoJIY1pmTB58yC06CYjbWfGIsuZ6w4R6U5ZGbZvMhwmqNd3gGJHZDW1/PkiFwBJoRcfhwSb1QbTtHCbI4Wo9F1zgwRm/6lASeOMWFiLouM0WIF918Oy9nu3qgxYjabGOT8tdn/1+bECvS4d0TGx31jvFgBcWJsuCHDUP0lEFopZGeJi0GKQYpBikEWGIQN22BsMUgxSDFIMcgCg9jA1gQsBikGKQYpBvlpkLfhGw==\",\"2023-03-19T16:40:42.6946591Z\"]}]}', extra='')\n"
     ]
    },
    {
     "name": "stdout",
     "output_type": "stream",
     "text": [
      "CarData.z 7Za/asQwDMbfRfPdIVnyH3k9+gbt0tLhKActlAzX20LevTkXOqWJqy4ueJGD8Yekz+YXjXA3XC9v5w/ITyM8XF8gg0PHe+Q96T2FLJiFDlE0kZdH2MHxdJlPj0C3cHw9DcP5vWwgZNyBK5FLlBL91/dtmaZywKSTBZ0EchVSwt/npCK0NklL1XLgWKMN1mqT9Uqs/jjzI7C+AsdW4dKNVPUYjUK2miOGUovQe2OpwepqrDOHUIq0rN9Z05JBgsqbiWf1z7RyB3QaIzcHK070j2CVRDusOqw6rFZgxRrkr7ByM6yE2xutWLZba4dWir7TqtOq02p1tMLtX/oGrbxo0NAarFi1alhpBVYxdFh1WHVYrcKKamD1PH0C\n",
      "Position.z 7ZQ9a8MwEIb/y8120J1On3vmFpqhTekQSgZT4pTYnYL/e2MrBLmkV+pZi5FBD/fqlXjO8Hjsmr45thBfz7BpDvuu3x0+IQIp0rXSNYYN2sgqMq4csld+CxWs2/7U7DuIZ8Dx89Tv+q/LLzy0m9Pu/eOy5RlijTrYCl4gGsUVbCEi+qECkhAMbkJqYzKEJYS8mRBSmCGoJIY1pmTB58yC06CYjbWfGIsuZ6w4R6U5ZGbZvMhwmqNd3gGJHZDW1/PkiFwBJoRcfhwSb1QbTtHCbI4Wo9F1zgwRm/6lASeOMWFiLouM0WIF918Oy9nu3qgxYjabGOT8tdn/1+bECvS4d0TGx31jvFgBcWJsuCHDUP0lEFopZGeJi0GKQYpBikEWGIQN22BsMUgxSDFIMcgCg9jA1gQsBikGKQYpBvlpkLfhGw==\n"
     ]
    },
    {
     "name": "stderr",
     "output_type": "stream",
     "text": [
      "DEBUG:signalr_async.client:Raw message received: WSMessage(type=<WSMsgType.TEXT: 1>, data='{\"C\":\"d-F23263D5-B,0|Df,0|Dg,11|d,9E|p,92D|o,92C|a,1|Y,D|Dh,0|n,1|W,2|c,27|i,1|X,C|k,3|l,1|r,2|Z,1|s,59F\",\"M\":[{\"H\":\"Streaming\",\"M\":\"feed\",\"A\":[\"CarData.z\",\"7Ze7agMxEEX/ZWrbzEvP1uQPkibGhQmGBMwWtrtl/z1rBVJtbGW22RA1o2XRZa7uiAPq4am7nj+OF8i7Hl6ub5CBkWWNsqb0TD4rZuVN9MlrlFdYwfZwHnf3QLeyfT903fFUfiBkXAGXKqVqqe7r+7YMQ9lg0umETkZbFVLC3/ekIrQekibdJg01Wm91G60jsebD5ktgvQUsVuHURKrOGIxCsYajBqtF6JzRqremGurCIdQiLet31zgVkKLEh41H9c+0kg1h8sS8OFoF96doRanRqtGq0eoOrQRxNq3YJxdjaLSaRytxjVaNVo1Wd2jFmHQurXSklUvLewlGqnpbLYNWivR4EI1WjVb/mVa+Clb74RM=\",\"2023-03-19T16:40:43.4695593Z\"]},{\"H\":\"Streaming\",\"M\":\"feed\",\"A\":[\"Position.z\",\"7ZQ/a8MwEMW/y8120P2RLGnP3EIztCkdQslgSpySuFPwd69thaCU9EozazEy6Md793S8Ezzuj23f7juIrydYtbvtsd/sPiECGeLacI1hhS6KiUKLgOLIujVUsOz6Q7s9QjwBTp+nftN/jb/w0K0Om/eP8cozxBo5uApeIFojFawhIvqhAtIQDM2M1NZmiGgIeTsjZDBD0GiMMCZnwefMHdOg6k3Yz4zDJmecqmOSDtkrb15lJOlwk2dAagbEfJ4nR/QIMCHU5OOQ+qJsJVkLVzqsWqOzzhWiJv1LAo0qY8PMjIeMYTWC25sjurebL2qt6s0lBiXfNvf/2Bo1Ap7uTsi03BfGqxGQJMaFCzIM1V8NwgsTZEyNS4OUBikNUhrkjgaxLJbRlwYpDVIapDTIzwZ5G74B\",\"2023-03-19T16:40:43.5345318Z\"]}]}', extra='')\n"
     ]
    },
    {
     "name": "stdout",
     "output_type": "stream",
     "text": [
      "CarData.z 7Ze7agMxEEX/ZWrbzEvP1uQPkibGhQmGBMwWtrtl/z1rBVJtbGW22RA1o2XRZa7uiAPq4am7nj+OF8i7Hl6ub5CBkWWNsqb0TD4rZuVN9MlrlFdYwfZwHnf3QLeyfT903fFUfiBkXAGXKqVqqe7r+7YMQ9lg0umETkZbFVLC3/ekIrQekibdJg01Wm91G60jsebD5ktgvQUsVuHURKrOGIxCsYajBqtF6JzRqremGurCIdQiLet31zgVkKLEh41H9c+0kg1h8sS8OFoF96doRanRqtGq0eoOrQRxNq3YJxdjaLSaRytxjVaNVo1Wd2jFmHQurXSklUvLewlGqnpbLYNWivR4EI1WjVb/mVa+Clb74RM=\n",
      "Position.z 7ZQ/a8MwEMW/y8120P2RLGnP3EIztCkdQslgSpySuFPwd69thaCU9EozazEy6Md793S8Ezzuj23f7juIrydYtbvtsd/sPiECGeLacI1hhS6KiUKLgOLIujVUsOz6Q7s9QjwBTp+nftN/jb/w0K0Om/eP8cozxBo5uApeIFojFawhIvqhAtIQDM2M1NZmiGgIeTsjZDBD0GiMMCZnwefMHdOg6k3Yz4zDJmecqmOSDtkrb15lJOlwk2dAagbEfJ4nR/QIMCHU5OOQ+qJsJVkLVzqsWqOzzhWiJv1LAo0qY8PMjIeMYTWC25sjurebL2qt6s0lBiXfNvf/2Bo1Ap7uTsi03BfGqxGQJMaFCzIM1V8NwgsTZEyNS4OUBikNUhrkjgaxLJbRlwYpDVIapDTIzwZ5G74B\n"
     ]
    },
    {
     "name": "stderr",
     "output_type": "stream",
     "text": [
      "DEBUG:signalr_async.client:Raw message received: WSMessage(type=<WSMsgType.TEXT: 1>, data='{\"C\":\"d-F23263D5-B,0|Df,0|Dg,11|d,9E|p,92E|o,92D|a,1|Y,D|Dh,0|n,1|W,2|c,27|i,1|X,C|k,3|l,1|r,2|Z,1|s,59F\",\"M\":[{\"H\":\"Streaming\",\"M\":\"feed\",\"A\":[\"CarData.z\",\"7ZbBasMwDIbfRee2SJbk2L6WvcF22dihjMIGI4eut5B3b+rBTiH1NAYp6CKb4B/9/u18eICH/nz6OH5BeRng6fwGBQIG3iJvKT9SLIJFeBdDVtb0DBvYH07T6gHoWvbvh74/ftYPCAU3EGrlWqVW/Z5fh3GsC0w6mdFxiqlBSvj7nlSF1k3SrNvMTW6j1W2yHok1n2C+BNZbENgqnDuRpj12RiFbwxGD1SpUNVqN1lS7tnAIpUrr+NM1zQXE2N3sO4mXYJUxSxZeH6yU7gdWghodVg4rh9UCrG53XUSV7Chl0bA+VOWg94QqyY4qR5Wj6j9RxdObKqS4PlRx08+/FlSpOKocVY6qP6LqdbwA\",\"2023-03-19T16:40:44.3494286Z\"]},{\"H\":\"Streaming\",\"M\":\"feed\",\"A\":[\"Position.z\",\"7Za7asNAEEX/ZWrJaB777FMnEBeJQwoTXIhgOdhKZfTvkbTGrIMzwa63ERLsYe5erQ46wtPu0PbtroP4doRlu90c+vX2CyJQQ1w3XGNYoo3SROGFMyLB+xVU8ND1+3ZzgHgEnC7P/br/Hh/hsVvu1x+f45IXiDVysBW8QjSNVLCCiOiHCkhDMLgZqY3JENEQ8mZGqMEMwUZjhDElCz5n7tgNqtmE/cxYdDlj1TlNmkPmIptXGUlz2OUdkNoBMZ/2kyN6BZgQcvl2SH2jbCRFCxdzWI1GpzkXiNr0Hw04dYwJMzPeZAyrFVw/OaJnu/pGjVGz2cSg5KfN3l6bUyvgae2ETIf7zHi1ApLE2HBGhqH63yDBiVhjikGKQYpBikFuNogsaPwHIS4CKQIpAikCuUMgZvocWIpBikGKQYpBfhvkffgB\",\"2023-03-19T16:40:44.5143834Z\"]}]}', extra='')\n"
     ]
    },
    {
     "name": "stdout",
     "output_type": "stream",
     "text": [
      "CarData.z 7ZbBasMwDIbfRee2SJbk2L6WvcF22dihjMIGI4eut5B3b+rBTiH1NAYp6CKb4B/9/u18eICH/nz6OH5BeRng6fwGBQIG3iJvKT9SLIJFeBdDVtb0DBvYH07T6gHoWvbvh74/ftYPCAU3EGrlWqVW/Z5fh3GsC0w6mdFxiqlBSvj7nlSF1k3SrNvMTW6j1W2yHok1n2C+BNZbENgqnDuRpj12RiFbwxGD1SpUNVqN1lS7tnAIpUrr+NM1zQXE2N3sO4mXYJUxSxZeH6yU7gdWghodVg4rh9UCrG53XUSV7Chl0bA+VOWg94QqyY4qR5Wj6j9RxdObKqS4PlRx08+/FlSpOKocVY6qP6LqdbwA\n",
      "Position.z 7Za7asNAEEX/ZWrJaB777FMnEBeJQwoTXIhgOdhKZfTvkbTGrIMzwa63ERLsYe5erQ46wtPu0PbtroP4doRlu90c+vX2CyJQQ1w3XGNYoo3SROGFMyLB+xVU8ND1+3ZzgHgEnC7P/br/Hh/hsVvu1x+f45IXiDVysBW8QjSNVLCCiOiHCkhDMLgZqY3JENEQ8mZGqMEMwUZjhDElCz5n7tgNqtmE/cxYdDlj1TlNmkPmIptXGUlz2OUdkNoBMZ/2kyN6BZgQcvl2SH2jbCRFCxdzWI1GpzkXiNr0Hw04dYwJMzPeZAyrFVw/OaJnu/pGjVGz2cSg5KfN3l6bUyvgae2ETIf7zHi1ApLE2HBGhqH63yDBiVhjikGKQYpBikFuNogsaPwHIS4CKQIpAikCuUMgZvocWIpBikGKQYpBfhvkffgB\n"
     ]
    },
    {
     "name": "stderr",
     "output_type": "stream",
     "text": [
      "DEBUG:signalr_async.client:Raw message received: WSMessage(type=<WSMsgType.TEXT: 1>, data='{\"C\":\"d-F23263D5-B,0|Df,0|Dg,11|d,9E|p,92F|o,92E|a,1|Y,D|Dh,0|n,1|W,2|c,27|i,1|X,C|k,3|l,1|r,2|Z,1|s,59F\",\"M\":[{\"H\":\"Streaming\",\"M\":\"feed\",\"A\":[\"CarData.z\",\"7Ze9agMxDIDfRXMS9HeK7TX0DdqlpUMogRbKDWm24949Fxc6HcEVBO5Ai2yMPyzL5gMN8NRfzl+nHyhvA7xcPqAAI8sWZUv5mawoFtWdWZZE8gobOBzP0+4B6BYOn8e+P33XBYSCG+AapUatsfud34ZxrBtcnM5wkrM1oIT/P5Mq6L0kzWWrKNTCmjfb5H0Sb33Y/Qm8v4DFC869SNMd905QvMVRR6oV7Dpnquat6r6tOIRa0Tr+nZp8BZrQe6rKKYsILU9VaVWqMglVhapCVY9TVbdTy2yUl6YqReQVqYo0h6pCVaGqR6pqagBZeHEN4KQqXZGqsK1dDVWFqkJVd1T1Pl4B\",\"2023-03-19T16:40:45.6692323Z\"]},{\"H\":\"Streaming\",\"M\":\"feed\",\"A\":[\"Position.z\",\"7ZQ9a8MwEIb/y8128H1IlrR3bqEZ2pQOoWQwJU5J3Cn4v9cfISglvZLMtxgZ9HCvXonnCE+7Q9M1uxbS2xGWzXZz6NbbL0hAFXFZcYlxiT5JlUQWvhZ2EVdQwEPb7ZvNAdIRcPw8d+vue/iFx3a5X398DlteIJXI0RfwCslVUsAKEmLoCyANwVhPSOlchoiGUHATQhVmCFYaI4xzshhy5o7ToJpNOEyMxzpnvDqnmueQu8gWVEbmOVznHZDaATGfzpMjegU4I1TnxyH1RtnJHC1ezGE1Gp3mXCBq0380UKtjXJyYYZExrFZw/eWInu3qjTqnZvMzg5K/Nn97bbVaAY97R2R83GcmqBWQzIyPZ6Tvi/8NEnkoL3oziBnEDGIGudkgbjHcEYVIZhAziBnEDHKHQRiFPAYziBnEDGIGucMgLgphZDOIGcQMYgb5bZD3/gc=\",\"2023-03-19T16:40:45.5942193Z\"]}]}', extra='')\n"
     ]
    },
    {
     "name": "stdout",
     "output_type": "stream",
     "text": [
      "CarData.z 7Ze9agMxDIDfRXMS9HeK7TX0DdqlpUMogRbKDWm24949Fxc6HcEVBO5Ai2yMPyzL5gMN8NRfzl+nHyhvA7xcPqAAI8sWZUv5mawoFtWdWZZE8gobOBzP0+4B6BYOn8e+P33XBYSCG+AapUatsfud34ZxrBtcnM5wkrM1oIT/P5Mq6L0kzWWrKNTCmjfb5H0Sb33Y/Qm8v4DFC869SNMd905QvMVRR6oV7Dpnquat6r6tOIRa0Tr+nZp8BZrQe6rKKYsILU9VaVWqMglVhapCVY9TVbdTy2yUl6YqReQVqYo0h6pCVaGqR6pqagBZeHEN4KQqXZGqsK1dDVWFqkJVd1T1Pl4B\n",
      "Position.z 7ZQ9a8MwEIb/y8128H1IlrR3bqEZ2pQOoWQwJU5J3Cn4v9cfISglvZLMtxgZ9HCvXonnCE+7Q9M1uxbS2xGWzXZz6NbbL0hAFXFZcYlxiT5JlUQWvhZ2EVdQwEPb7ZvNAdIRcPw8d+vue/iFx3a5X398DlteIJXI0RfwCslVUsAKEmLoCyANwVhPSOlchoiGUHATQhVmCFYaI4xzshhy5o7ToJpNOEyMxzpnvDqnmueQu8gWVEbmOVznHZDaATGfzpMjegU4I1TnxyH1RtnJHC1ezGE1Gp3mXCBq0380UKtjXJyYYZExrFZw/eWInu3qjTqnZvMzg5K/Nn97bbVaAY97R2R83GcmqBWQzIyPZ6Tvi/8NEnkoL3oziBnEDGIGudkgbjHcEYVIZhAziBnEDHKHQRiFPAYziBnEDGIGucMgLgphZDOIGcQMYgb5bZD3/gc=\n"
     ]
    },
    {
     "name": "stderr",
     "output_type": "stream",
     "text": [
      "DEBUG:signalr_async.client:Connection keepalive\n",
      "DEBUG:signalr_async.client:Sending: message_content='{}', is_binary=False\n",
      "DEBUG:signalr_async.client:Raw message received: WSMessage(type=<WSMsgType.TEXT: 1>, data='{\"C\":\"d-F23263D5-B,0|Df,0|Dg,11|d,9E|p,930|o,92F|a,1|Y,D|Dh,0|n,1|W,2|c,27|i,1|X,C|k,3|l,1|r,2|Z,1|s,59F\",\"M\":[{\"H\":\"Streaming\",\"M\":\"feed\",\"A\":[\"CarData.z\",\"7ZS/asQwDIffRfPdIVny3zX0DXrLlQ6hBFooGa63hbx7cyrcFIqrLgl4kY3xh3+WzTfB03i7fgxfUF4mON/eoIBDx0fkI+VnCkWwSDihyxTTBQ7Q9ddl8wR0L917P47Dpy4gFDyA08paRav/md+HedYNJk5WOM45VaCEfz+TFLRektbSCsZQwwZr2mR9Emt/nPkTWH+BYyu49iJVd4xGkK3NEUNUBb03Rg3Wrsa65hCKojo+Tk22Bi3ob6ailMmLbE1Vgp73pCqqSttU1VTVVGVVlSckjLw1VXEOfk+q8tJU1VTVVPVPVb3O3w==\",\"2023-03-19T16:40:46.5101073Z\"]},{\"H\":\"Streaming\",\"M\":\"feed\",\"A\":[\"Position.z\",\"7ZSxasMwEIbf5WY76O50kqU9cwvN0KZ0MCWDKUlK4k7B717bCkEp6ZVm1mJk0Mf9+iW+Ezzuj13f7XcQX0+w6rabY99uPyECGeLacI1hhS5aE60svFgMsoYKlrv+0G2OEE+A0+epb/uv8RcedqtD+/4xbnmGWCMHV8ELRDG2gjVExGaogDQEg5+RWiRDrIZQIzNCBjMEjcZYxpQsNDlzx2lQzWa5mRmHPmecOsekOSRX2RqVsWkO+7wDUjsg5vN5ckSvABNCPj8OqTfKYlO0cDWH1Wh0nnOFqE3/0oBXx0iYmXGRMaxWcPvlWD3bzRsVUbO5xKDNX5v7f21erYCnvRMyPe4L06gVkE2MCxdkGKq/BOIWhgWFuBikGKQYpBjkDoNQEETyxSDFIMUgxSB3GES8GG+oGKQYpBikGOSnQd6Gbw==\",\"2023-03-19T16:40:46.5750702Z\"]}]}', extra='')\n"
     ]
    },
    {
     "name": "stdout",
     "output_type": "stream",
     "text": [
      "CarData.z 7ZS/asQwDIffRfPdIVny3zX0DXrLlQ6hBFooGa63hbx7cyrcFIqrLgl4kY3xh3+WzTfB03i7fgxfUF4mON/eoIBDx0fkI+VnCkWwSDihyxTTBQ7Q9ddl8wR0L917P47Dpy4gFDyA08paRav/md+HedYNJk5WOM45VaCEfz+TFLRektbSCsZQwwZr2mR9Emt/nPkTWH+BYyu49iJVd4xGkK3NEUNUBb03Rg3Wrsa65hCKojo+Tk22Bi3ob6ailMmLbE1Vgp73pCqqSttU1VTVVGVVlSckjLw1VXEOfk+q8tJU1VTVVPVPVb3O3w==\n",
      "Position.z 7ZSxasMwEIbf5WY76O50kqU9cwvN0KZ0MCWDKUlK4k7B717bCkEp6ZVm1mJk0Mf9+iW+Ezzuj13f7XcQX0+w6rabY99uPyECGeLacI1hhS5aE60svFgMsoYKlrv+0G2OEE+A0+epb/uv8RcedqtD+/4xbnmGWCMHV8ELRDG2gjVExGaogDQEg5+RWiRDrIZQIzNCBjMEjcZYxpQsNDlzx2lQzWa5mRmHPmecOsekOSRX2RqVsWkO+7wDUjsg5vN5ckSvABNCPj8OqTfKYlO0cDWH1Wh0nnOFqE3/0oBXx0iYmXGRMaxWcPvlWD3bzRsVUbO5xKDNX5v7f21erYCnvRMyPe4L06gVkE2MCxdkGKq/BOIWhgWFuBikGKQYpBjkDoNQEETyxSDFIMUgxSB3GES8GG+oGKQYpBikGOSnQd6Gbw==\n"
     ]
    },
    {
     "name": "stderr",
     "output_type": "stream",
     "text": [
      "DEBUG:signalr_async.client:Raw message received: WSMessage(type=<WSMsgType.TEXT: 1>, data='{\"C\":\"d-F23263D5-B,0|Df,0|Dg,11|d,9E|p,931|o,930|a,1|Y,D|Dh,0|n,1|W,2|c,27|i,1|X,C|k,3|l,1|r,2|Z,1|s,59F\",\"M\":[{\"H\":\"Streaming\",\"M\":\"feed\",\"A\":[\"CarData.z\",\"7ZZNagMxDIXvonUSJMt/8jb0Bs2mpYtQAi2UWaTZDXP3TlTIalpcQWEC2sjG+OGnZ/PhER6Gy/n99AnteYTD5RUaBAy8Rd6SPFJuEVvMu5IQS3iCDeyP53nzCHQt+7fjMJw+dAGh4QaCVtYatabv+XWYJt1g0sUFXSSqHVLCv59JKrQ2SYtuUbrcZqvbar0Saz7B/AisryCwVbh0I109FqOQreFEg1UVpmS0mq2plr5wCKNKdbydWm0BzdKfSVV2NJOKAq0OVcjpjlBF1OXWUeWoclRZUcVRpIa0NlSxSBc4VoIqTOyoclQ5qv4TVTmLcFrdr4qlyj2hSrrcOqocVY6qX1D1Mn0B\",\"2023-03-19T16:40:47.6699351Z\"]},{\"H\":\"Streaming\",\"M\":\"feed\",\"A\":[\"Position.z\",\"7ZY9a8NADIb/i2Y7nHTSfe2dW2iGNqVDKBlMaVISdwr+77V9IVxKqtLMtxgb7kHSe+LBR3jYHbq+220hvRxh2X1sDv364xMSkCHbGttiXKJLbBK7RRAx5N0KGrjb9vtuc4B0BJwej/26/xo/4X673K/f3scjT5BatNE18AxJDDewgoQYhgZIQzD6GWlFCoQ1hILMCBksEDQawxZzZzGUzA3ToNob2zAzDn3JOLWOyXVILnoLKsO5jvVlBqRmQNae5ikRPQLMCPlyHFJv1Arn1uJFHau2Rqc6F4ia9C8JeLWMxJkZXwrGqhFc3xzWe7t6oyJqby4zyOW2uf/H5tUI7HR2QqblPjNBjYA4My6ekWFo/jKIXyByDAGrQapBqkGqQW4wyLgJUbD+g1SDVINUg9xiEC8cognVINUg1SDVID8N8jp8Aw==\",\"2023-03-19T16:40:47.7548908Z\"]}]}', extra='')\n"
     ]
    },
    {
     "name": "stdout",
     "output_type": "stream",
     "text": [
      "CarData.z 7ZZNagMxDIXvonUSJMt/8jb0Bs2mpYtQAi2UWaTZDXP3TlTIalpcQWEC2sjG+OGnZ/PhER6Gy/n99AnteYTD5RUaBAy8Rd6SPFJuEVvMu5IQS3iCDeyP53nzCHQt+7fjMJw+dAGh4QaCVtYatabv+XWYJt1g0sUFXSSqHVLCv59JKrQ2SYtuUbrcZqvbar0Saz7B/AisryCwVbh0I109FqOQreFEg1UVpmS0mq2plr5wCKNKdbydWm0BzdKfSVV2NJOKAq0OVcjpjlBF1OXWUeWoclRZUcVRpIa0NlSxSBc4VoIqTOyoclQ5qv4TVTmLcFrdr4qlyj2hSrrcOqocVY6qX1D1Mn0B\n",
      "Position.z 7ZY9a8NADIb/i2Y7nHTSfe2dW2iGNqVDKBlMaVISdwr+77V9IVxKqtLMtxgb7kHSe+LBR3jYHbq+220hvRxh2X1sDv364xMSkCHbGttiXKJLbBK7RRAx5N0KGrjb9vtuc4B0BJwej/26/xo/4X673K/f3scjT5BatNE18AxJDDewgoQYhgZIQzD6GWlFCoQ1hILMCBksEDQawxZzZzGUzA3ToNob2zAzDn3JOLWOyXVILnoLKsO5jvVlBqRmQNae5ikRPQLMCPlyHFJv1Arn1uJFHau2Rqc6F4ia9C8JeLWMxJkZXwrGqhFc3xzWe7t6oyJqby4zyOW2uf/H5tUI7HR2QqblPjNBjYA4My6ekWFo/jKIXyByDAGrQapBqkGqQW4wyLgJUbD+g1SDVINUg9xiEC8cognVINUg1SDVID8N8jp8Aw==\n"
     ]
    },
    {
     "name": "stderr",
     "output_type": "stream",
     "text": [
      "DEBUG:signalr_async.client:Raw message received: WSMessage(type=<WSMsgType.TEXT: 1>, data='{\"C\":\"d-F23263D5-B,0|Df,0|Dg,11|d,9E|p,932|o,930|a,1|Y,D|Dh,0|n,1|W,2|c,27|i,1|X,C|k,3|l,1|r,2|Z,1|s,59F\",\"M\":[{\"H\":\"Streaming\",\"M\":\"feed\",\"A\":[\"CarData.z\",\"7ZjBasMwDED/Ree2SJZsy7mW/cF22dihjMIGI4eut5B/b+rBTtnwBAUXBEEOwQ/LsvPAnuBhPJ8+jl8wvEzwdH6DAQIG3iJvqTxSGgQHyTsNpRDxM2xgfzgtvSega9i/H8bx+Fk/IAy4gVAj1yg1xu/3azPPtYOJkxVOULQBJfz/mFRB6yRpNVsKTWyyZqvWJbHWJ5g3gXUXBLaCayvSNMdsBNlaHDGkWsEYjakma1VzW3EIpaK1/RlVbQVa0N9VpTvSojFTh6rKd6Wq5KpyVbmqbqkqlqLMsT9VRb4jVWESV5WrylV1S1VFLLo8/amq7efvRVWlSayuKleVq8qqqpRK1tTfAZCw6UjViaooNd2suapcVa6qP1T1Ol8A\",\"2023-03-19T16:40:48.6697861Z\"]}]}', extra='')\n",
      "DEBUG:signalr_async.client:Raw message received: WSMessage(type=<WSMsgType.TEXT: 1>, data='{\"C\":\"d-F23263D5-B,0|Df,0|Dg,11|d,9E|p,932|o,931|a,1|Y,D|Dh,0|n,1|W,2|c,27|i,1|X,C|k,3|l,1|r,2|Z,1|s,59F\",\"M\":[{\"H\":\"Streaming\",\"M\":\"feed\",\"A\":[\"Position.z\",\"7ZY9a8NADIb/i2Y7nO50n3vmFpqhTelgSgZTkpTEnYL/e21fCOeSqtSzFmPDPUh6Tzz4Ao/Hc9u1xwOk1wts2v3u3DX7T0iglTa1MjXGDbpEKpFfBaQQ0G+hgvWhO7W7M6QL4Ph46prua/iEh8Pm1Lx/DEeeIdVooqvgBZJVVMEWEmLoK9AcgtFPSG1tgRCH6GAnRCssEFQcQwZzZzGUzIJpkO2NTJgYh75kHFtH5TraznoLLEO5jvFlBprNQBtznadE+AgwI9qX42j2Ro2l3Fqc1TFsa/paZ4awSf+SgGfL2Dgxw0vBGDaC+5tDfG93b9RatjeXGaRy29z/Y/NsBGY8OyLjct+YwEagKTMu3pC+r/4ySFipwSAWjRhEDCIGEYMsMMiwCT5GJwYRg4hBxCALDGKRvLfyDyIGEYOIQZYYxHnyFkUgIhARiAjkp0De+m8=\",\"2023-03-19T16:40:48.674751Z\"]}]}', extra='')\n",
      "DEBUG:signalr_async.client:Raw message received: WSMessage(type=<WSMsgType.TEXT: 1>, data='{\"C\":\"d-F23263D5-B,0|Df,0|Dg,11|d,9F|p,932|o,931|a,1|Y,D|Dh,0|n,1|W,2|c,27|i,1|X,C|k,3|l,1|r,2|Z,1|s,59F\",\"M\":[{\"H\":\"Streaming\",\"M\":\"feed\",\"A\":[\"Heartbeat\",{\"Utc\":\"2023-03-19T16:40:50.8595388Z\",\"_kf\":true},\"2023-03-19T16:40:50.336Z\"]}]}', extra='')\n"
     ]
    },
    {
     "name": "stdout",
     "output_type": "stream",
     "text": [
      "CarData.z 7ZjBasMwDED/Ree2SJZsy7mW/cF22dihjMIGI4eut5B/b+rBTtnwBAUXBEEOwQ/LsvPAnuBhPJ8+jl8wvEzwdH6DAQIG3iJvqTxSGgQHyTsNpRDxM2xgfzgtvSega9i/H8bx+Fk/IAy4gVAj1yg1xu/3azPPtYOJkxVOULQBJfz/mFRB6yRpNVsKTWyyZqvWJbHWJ5g3gXUXBLaCayvSNMdsBNlaHDGkWsEYjakma1VzW3EIpaK1/RlVbQVa0N9VpTvSojFTh6rKd6Wq5KpyVbmqbqkqlqLMsT9VRb4jVWESV5WrylV1S1VFLLo8/amq7efvRVWlSayuKleVq8qqqpRK1tTfAZCw6UjViaooNd2suapcVa6qP1T1Ol8A\n",
      "Position.z 7ZY9a8NADIb/i2Y7nO50n3vmFpqhTelgSgZTkpTEnYL/e21fCOeSqtSzFmPDPUh6Tzz4Ao/Hc9u1xwOk1wts2v3u3DX7T0iglTa1MjXGDbpEKpFfBaQQ0G+hgvWhO7W7M6QL4Ph46prua/iEh8Pm1Lx/DEeeIdVooqvgBZJVVMEWEmLoK9AcgtFPSG1tgRCH6GAnRCssEFQcQwZzZzGUzIJpkO2NTJgYh75kHFtH5TraznoLLEO5jvFlBprNQBtznadE+AgwI9qX42j2Ro2l3Fqc1TFsa/paZ4awSf+SgGfL2Dgxw0vBGDaC+5tDfG93b9RatjeXGaRy29z/Y/NsBGY8OyLjct+YwEagKTMu3pC+r/4ySFipwSAWjRhEDCIGEYMsMMiwCT5GJwYRg4hBxCALDGKRvLfyDyIGEYOIQZYYxHnyFkUgIhARiAjkp0De+m8=\n",
      "Heartbeat {'Utc': '2023-03-19T16:40:50.8595388Z', '_kf': True}\n"
     ]
    },
    {
     "name": "stderr",
     "output_type": "stream",
     "text": [
      "DEBUG:signalr_async.client:Raw message received: WSMessage(type=<WSMsgType.TEXT: 1>, data='{\"C\":\"d-F23263D5-B,0|Df,0|Dg,11|d,9F|p,933|o,931|a,1|Y,D|Dh,0|n,1|W,2|c,27|i,1|X,C|k,3|l,1|r,2|Z,1|s,59F\",\"M\":[{\"H\":\"Streaming\",\"M\":\"feed\",\"A\":[\"CarData.z\",\"7ZbLasMwEEX/ZdZJmJceo23oHzSbli5CCbRQvEizM/73OAp05YI7JWCDNiMjdNDVSBzcw1N3OX+evqG89nC4vEMBRpYtypbsmWJRLJp3hpYC0gtsYH88j6t7oFvZfxy77vRVJxAKboBrlVq11nD/vg3DUBe4OJ3gFE1moIR/35Mq6D0kTacNs9joTZu9V+LtD7sfgfcVsHjBqRuZdcbkBMXbHHVErWAIzqjR29U0rzmEWtE6/uyafQ0a0d9VZTtSS6S8PFVlXpOq2Jqqmqqaqh6pKkGLhmlpqhJKYT2qErPcVNVU1VT1SFVFtqgSl6YqVozrUdUYtv1VNVU1Vf1XVW/DFQ==\",\"2023-03-19T16:40:49.6296436Z\"]}]}', extra='')\n",
      "DEBUG:signalr_async.client:Raw message received: WSMessage(type=<WSMsgType.TEXT: 1>, data='{\"C\":\"d-F23263D5-B,0|Df,0|Dg,11|d,9F|p,933|o,932|a,1|Y,D|Dh,0|n,1|W,2|c,27|i,1|X,C|k,3|l,1|r,2|Z,1|s,59F\",\"M\":[{\"H\":\"Streaming\",\"M\":\"feed\",\"A\":[\"Position.z\",\"7ZY7a8NAEIT/y9aSuX3cs3edQFwkDilMcCGC7WArldF/j6Uz5kycDXF9jZDgPmZ2bhl0hMfdoeu73RbS6xEW3WZ96FebT0hAhrg13GJcoEtikoRZiOLR2yU0MN/2+259gHQEHB9P/ar/On3Cw3axX71/nI48Q2qRo2vgBZI10sASEmIYGiANwegnpLW2QERDKNgJIYMFgkZjhDE7i6Fk7pgGVW/CYWIc+pJxqo7JOmSvvAWVkazDvsyA1AyI+TxPiegRYEbIl+OQeqNsJVuLVzqsWqOzzhWiJv1LAl6VsXFiTi8Fw2oEtzdHdG83b9Ra1ZvLDEq5be7/sXk1Ah7Pjsi43BcmqBGQZMbFCzIMzV8NEmfGiotMtUFqg9QGqQ1yR4MIi2Nb/0Fqg9QGqQ3yo0Hehm8=\",\"2023-03-19T16:40:49.4346355Z\"]}]}', extra='')\n"
     ]
    },
    {
     "name": "stdout",
     "output_type": "stream",
     "text": [
      "CarData.z 7ZbLasMwEEX/ZdZJmJceo23oHzSbli5CCbRQvEizM/73OAp05YI7JWCDNiMjdNDVSBzcw1N3OX+evqG89nC4vEMBRpYtypbsmWJRLJp3hpYC0gtsYH88j6t7oFvZfxy77vRVJxAKboBrlVq11nD/vg3DUBe4OJ3gFE1moIR/35Mq6D0kTacNs9joTZu9V+LtD7sfgfcVsHjBqRuZdcbkBMXbHHVErWAIzqjR29U0rzmEWtE6/uyafQ0a0d9VZTtSS6S8PFVlXpOq2Jqqmqqaqh6pKkGLhmlpqhJKYT2qErPcVNVU1VT1SFVFtqgSl6YqVozrUdUYtv1VNVU1Vf1XVW/DFQ==\n",
      "Position.z 7ZY7a8NAEIT/y9aSuX3cs3edQFwkDilMcCGC7WArldF/j6Uz5kycDXF9jZDgPmZ2bhl0hMfdoeu73RbS6xEW3WZ96FebT0hAhrg13GJcoEtikoRZiOLR2yU0MN/2+259gHQEHB9P/ar/On3Cw3axX71/nI48Q2qRo2vgBZI10sASEmIYGiANwegnpLW2QERDKNgJIYMFgkZjhDE7i6Fk7pgGVW/CYWIc+pJxqo7JOmSvvAWVkazDvsyA1AyI+TxPiegRYEbIl+OQeqNsJVuLVzqsWqOzzhWiJv1LAl6VsXFiTi8Fw2oEtzdHdG83b9Ra1ZvLDEq5be7/sXk1Ah7Pjsi43BcmqBGQZMbFCzIMzV8NEmfGiotMtUFqg9QGqQ1yR4MIi2Nb/0Fqg9QGqQ3yo0Hehm8=\n"
     ]
    },
    {
     "name": "stderr",
     "output_type": "stream",
     "text": [
      "DEBUG:signalr_async.client:Raw message received: WSMessage(type=<WSMsgType.TEXT: 1>, data='{\"C\":\"d-F23263D5-B,0|Df,0|Dg,11|d,9F|p,934|o,933|a,1|Y,D|Dh,0|n,1|W,2|c,27|i,1|X,C|k,3|l,1|r,2|Z,1|s,59F\",\"M\":[{\"H\":\"Streaming\",\"M\":\"feed\",\"A\":[\"CarData.z\",\"7ZSxCgIxDIbfJbNKkqa9tqv4BrooDiKCgtygtx337moEpxNqRHDokh6lH03/9r4eFm13OR2ukDc9rLo9ZGBkN0U3pbSkkAWzpFkTU2CkNUxgvrvcV/dAjzI/7tr2cNYJhIwTYK1Oq2j1z+/HMAy6wMTJCEccQwFK+PmepKD1kDTWrSAWscHabbReiTUfNj8C6ytgZwXHbqTojI0RdNZwxNCqgt4bWw3WVJuycAhFUR1fu0ZbQHf0rao8zpiT98L/pqqiP/9fPJVc9VT1VPXULz0lIXmKTfXUF56i6qnqqeqpbz21HW4=\",\"2023-03-19T16:40:50.4695187Z\"]},{\"H\":\"Streaming\",\"M\":\"feed\",\"A\":[\"Position.z\",\"7ZdNS8NAEIb/y5yTsvOxn3fPCvagFQ9FeghiK208lfx3k2wpW6kj9ryXkMA+zMy7wwM5wsPu0PXdbgvp5QjL7mNz6Ncfn5CADHFruMW4RJfEJImLwGK9+BU0cLft993mAOkIOD0e+3X/NX7C/Xa5X7+9j0eeILXI0TXwDMkaaWAFCTEMDZCGYPQz0lpbIKIhFOyMkMECQaMxwpg7i6FkbpgG1d6Ew8w49CXj1Dom1yF70VtQGcl12JcZkJoBMZ/mKRE9AswI+XIcUm+UreTW4kUdVlujU50LRE36lwS8WsbGmRlfCobVCK5vjui9Xb1Ra9XeXGZQym1z/4/NqxHwdHZCpuU+M0GNgCQzLp6RYWj+MIg1C/RiiatAqkCqQKpAbhDIuAkSrasGqQapBqkGucEg4x+MOKJqkGqQapBqkJ8GeR2+AQ==\",\"2023-03-19T16:40:50.5744622Z\"]}]}', extra='')\n",
      "DEBUG:signalr_async.client:Connection keepalive\n",
      "DEBUG:signalr_async.client:Sending: message_content='{}', is_binary=False\n"
     ]
    },
    {
     "name": "stdout",
     "output_type": "stream",
     "text": [
      "CarData.z 7ZSxCgIxDIbfJbNKkqa9tqv4BrooDiKCgtygtx337moEpxNqRHDokh6lH03/9r4eFm13OR2ukDc9rLo9ZGBkN0U3pbSkkAWzpFkTU2CkNUxgvrvcV/dAjzI/7tr2cNYJhIwTYK1Oq2j1z+/HMAy6wMTJCEccQwFK+PmepKD1kDTWrSAWscHabbReiTUfNj8C6ytgZwXHbqTojI0RdNZwxNCqgt4bWw3WVJuycAhFUR1fu0ZbQHf0rao8zpiT98L/pqqiP/9fPJVc9VT1VPXULz0lIXmKTfXUF56i6qnqqeqpbz21HW4=\n",
      "Position.z 7ZdNS8NAEIb/y5yTsvOxn3fPCvagFQ9FeghiK208lfx3k2wpW6kj9ryXkMA+zMy7wwM5wsPu0PXdbgvp5QjL7mNz6Ncfn5CADHFruMW4RJfEJImLwGK9+BU0cLft993mAOkIOD0e+3X/NX7C/Xa5X7+9j0eeILXI0TXwDMkaaWAFCTEMDZCGYPQz0lpbIKIhFOyMkMECQaMxwpg7i6FkbpgG1d6Ew8w49CXj1Dom1yF70VtQGcl12JcZkJoBMZ/mKRE9AswI+XIcUm+UreTW4kUdVlujU50LRE36lwS8WsbGmRlfCobVCK5vjui9Xb1Ra9XeXGZQym1z/4/NqxHwdHZCpuU+M0GNgCQzLp6RYWj+MIg1C/RiiatAqkCqQKpAbhDIuAkSrasGqQapBqkGucEg4x+MOKJqkGqQapBqkJ8GeR2+AQ==\n"
     ]
    },
    {
     "name": "stderr",
     "output_type": "stream",
     "text": [
      "DEBUG:signalr_async.client:Raw message received: WSMessage(type=<WSMsgType.TEXT: 1>, data='{\"C\":\"d-F23263D5-B,0|Df,0|Dg,11|d,9F|p,935|o,934|a,1|Y,D|Dh,0|n,1|W,2|c,27|i,1|X,C|k,3|l,1|r,2|Z,1|s,59F\",\"M\":[{\"H\":\"Streaming\",\"M\":\"feed\",\"A\":[\"CarData.z\",\"7ZaxCoMwEIbf5WaVS3JJvKzSN2iXlg5ShBaKg3UT370aoVMRe9Ity0VCPrz8Hh8OcGj77tG8IFwGOPU3CKBRmxxNrvioXCAMFgtPTN6bM2RQ1d10egA1l+pet23zjBsIATPQsZpYKVa7PM/LOMYDIo6EnMLfQRVB6Q3Vt1YJNW1hnbTbUvo9pPlo8QRIR0AbKSgYnuWOXggaaTgknXNrha06aap+WzgKKaJx/by1lAU0oWue4pKJkJOndniKXfJU8lTy1P88pQrt2DCn/6k9njKb2OSp5KnkqRVPXcc3\",\"2023-03-19T16:40:51.2693993Z\"]},{\"H\":\"Streaming\",\"M\":\"feed\",\"A\":[\"Position.z\",\"7ZQ/a8MwEMW/y8120OlOf/fMLTRDm9IhlAymxCmxOxl/99pWCApNr6SzFiODfrx3T8cb4PHYNX1zbCG+DrBpDvuu3x0+IYJWmmpFNYYN2sgqGrVyjpnQb6GCddufmn0HcQCcP0/9rv+afuGh3Zx27x/TlWeINVKwFbzARHMFW4iIfqxASwgGtyC1MRnCEqK9WRCtMENQScw0SXIWfM78YxoUvTH5hbHocsaKOirpaHPlzYsMJx1yeQZazEATnefJETkCTIh2+ThafFEynKyFKx0SremzzhUiJv1LAk6UMWFhpkPGkBjB7c1h2dvNFzVG9GYTg5xvm70/NidGQPPdGZmX+8J4MQLNibHhgoxj9XeDhKlBFHJpkNIgpUFKg9zdILhCw+RKgZQCKQVSCuRHgbyN3w==\",\"2023-03-19T16:40:51.154374Z\"]}]}', extra='')\n"
     ]
    },
    {
     "name": "stdout",
     "output_type": "stream",
     "text": [
      "CarData.z 7ZaxCoMwEIbf5WaVS3JJvKzSN2iXlg5ShBaKg3UT370aoVMRe9Ity0VCPrz8Hh8OcGj77tG8IFwGOPU3CKBRmxxNrvioXCAMFgtPTN6bM2RQ1d10egA1l+pet23zjBsIATPQsZpYKVa7PM/LOMYDIo6EnMLfQRVB6Q3Vt1YJNW1hnbTbUvo9pPlo8QRIR0AbKSgYnuWOXggaaTgknXNrha06aap+WzgKKaJx/by1lAU0oWue4pKJkJOndniKXfJU8lTy1P88pQrt2DCn/6k9njKb2OSp5KnkqRVPXcc3\n",
      "Position.z 7ZQ/a8MwEMW/y8120OlOf/fMLTRDm9IhlAymxCmxOxl/99pWCApNr6SzFiODfrx3T8cb4PHYNX1zbCG+DrBpDvuu3x0+IYJWmmpFNYYN2sgqGrVyjpnQb6GCddufmn0HcQCcP0/9rv+afuGh3Zx27x/TlWeINVKwFbzARHMFW4iIfqxASwgGtyC1MRnCEqK9WRCtMENQScw0SXIWfM78YxoUvTH5hbHocsaKOirpaHPlzYsMJx1yeQZazEATnefJETkCTIh2+ThafFEynKyFKx0SremzzhUiJv1LAk6UMWFhpkPGkBjB7c1h2dvNFzVG9GYTg5xvm70/NidGQPPdGZmX+8J4MQLNibHhgoxj9XeDhKlBFHJpkNIgpUFKg9zdILhCw+RKgZQCKQVSCuRHgbyN3w==\n"
     ]
    },
    {
     "name": "stderr",
     "output_type": "stream",
     "text": [
      "DEBUG:signalr_async.client:Raw message received: WSMessage(type=<WSMsgType.TEXT: 1>, data='{}', extra='')\n",
      "DEBUG:signalr_async.client:Raw message received: WSMessage(type=<WSMsgType.TEXT: 1>, data='{\"C\":\"d-F23263D5-B,0|Df,0|Dg,11|d,9F|p,936|o,935|a,1|Y,D|Dh,0|n,1|W,2|c,27|i,1|X,C|k,3|l,1|r,2|Z,1|s,59F\",\"M\":[{\"H\":\"Streaming\",\"M\":\"feed\",\"A\":[\"CarData.z\",\"7ZQ9a8MwEIb/y81JuA9J9mkN/Qft0pIhhEALxUOazfi/x1GgUwvOG7LdchJGDzq9Pp6RXobz6ev4Q/VjpLfzgSopq63Z1uKvUmrimmXj7MZJ3mlF2/1pPj2SXMv2cz8Mx+/2ganyirRVazW1mm/76zJN7QDEJZATvh+UBqIvlL9aNfeyhC1otz36P9B8FJ4AdATUUBAYntsbOxA0NJyEznnOYKsFTbVbFo5wamhbf2/tsYBm9H9P6YaLa+cennrAUyk8FZ4KTz3VUzp7KnMOT8GeSmyL2PBUeCo8hXoq965s4SncU+ZFwlPhqfDUg57aTRc=\",\"2023-03-19T16:40:52.5892035Z\"]},{\"H\":\"Streaming\",\"M\":\"feed\",\"A\":[\"Position.z\",\"7ZY9a8MwEIb/y81O0J3uJEt75xaaoU3pEEoGU5KUxJ2C/3v9EYJC0yvJfIuxQQ/36pV48BGedoembXZbyG9HWDSb9aFdbb4gAznyM+dnmBYYMrssOOfInoSXUMHDtt036wPkI+DweG5X7Xf/CY/bxX718dkveYE8Q59CBa+QxXEFS8iIdVcBaQimOCIzkQJhDaFaRoQcFgg6jWGPU7JUl8wdu0E1G/t6ZALGkgnqHDfNIbnIVqsMT3N8LDsgtQPy/rSfEtErwAmhWG6H1BP1wlO0dDHHq9HoNOcCUZv+o4GojpE0Mv1LwXi1gus3h/VsV09URM0WJga5vG3h9tqiWoEf1g7IcLnPTK1WQDwxIZ2Rrqv+N0gSJiEziBnEDGIGud0gNO//P8iF2gxiBjGDmEHuMAhHwejFDGIGMYOYQe4wSPCCnMwgZhAziBnkl0Heux8=\",\"2023-03-19T16:40:52.6351495Z\"]}]}', extra='')\n"
     ]
    },
    {
     "name": "stdout",
     "output_type": "stream",
     "text": [
      "CarData.z 7ZQ9a8MwEIb/y81JuA9J9mkN/Qft0pIhhEALxUOazfi/x1GgUwvOG7LdchJGDzq9Pp6RXobz6ev4Q/VjpLfzgSopq63Z1uKvUmrimmXj7MZJ3mlF2/1pPj2SXMv2cz8Mx+/2ganyirRVazW1mm/76zJN7QDEJZATvh+UBqIvlL9aNfeyhC1otz36P9B8FJ4AdATUUBAYntsbOxA0NJyEznnOYKsFTbVbFo5wamhbf2/tsYBm9H9P6YaLa+cennrAUyk8FZ4KTz3VUzp7KnMOT8GeSmyL2PBUeCo8hXoq965s4SncU+ZFwlPhqfDUg57aTRc=\n",
      "Position.z 7ZY9a8MwEIb/y81O0J3uJEt75xaaoU3pEEoGU5KUxJ2C/3v9EYJC0yvJfIuxQQ/36pV48BGedoembXZbyG9HWDSb9aFdbb4gAznyM+dnmBYYMrssOOfInoSXUMHDtt036wPkI+DweG5X7Xf/CY/bxX718dkveYE8Q59CBa+QxXEFS8iIdVcBaQimOCIzkQJhDaFaRoQcFgg6jWGPU7JUl8wdu0E1G/t6ZALGkgnqHDfNIbnIVqsMT3N8LDsgtQPy/rSfEtErwAmhWG6H1BP1wlO0dDHHq9HoNOcCUZv+o4GojpE0Mv1LwXi1gus3h/VsV09URM0WJga5vG3h9tqiWoEf1g7IcLnPTK1WQDwxIZ2Rrqv+N0gSJiEziBnEDGIGud0gNO//P8iF2gxiBjGDmEHuMAhHwejFDGIGMYOYQe4wSPCCnMwgZhAziBnkl0Heux8=\n"
     ]
    },
    {
     "name": "stderr",
     "output_type": "stream",
     "text": [
      "DEBUG:signalr_async.client:Raw message received: WSMessage(type=<WSMsgType.TEXT: 1>, data='{\"C\":\"d-F23263D5-B,0|Df,0|Dg,11|d,9F|p,936|o,936|a,1|Y,D|Dh,0|n,1|W,2|c,27|i,1|X,C|k,3|l,1|r,2|Z,1|s,59F\",\"M\":[{\"H\":\"Streaming\",\"M\":\"feed\",\"A\":[\"Position.z\",\"7ZY9a8MwEIb/y8120N3p9LV3bqEZ2pQOoWQwpUlJ3Cn4v9e2QlBoeqWZtRgb9HCvXokHH+Fhd+j6breF9HKEZfexOfTrj09IQIa4NdxiXKJL1iShhfeCFGQFDdxt+323OUA6Ak6Px37df42fcL9d7tdv7+OSJ0gtcnQNPEMSYxtYQUIMQwOkIRj9jLQiBWI1ZAw1I2SwQNBojGXMyWIomRt2g2o2y2FmHPqSceock+eQXGQLKmPzHPZlB6R2QMyn/ZSIXgFmhHy5HVJPlMXmaPFiDqvR6DTnAlGb/qUBr46RODPjS8GwWsH1m2P1bFdPVETN5jKDtrxt7v+1ebUCntZOyHS5z0xQKyCbGRfPyDA0fxmEFwbFRMJqkGqQapBqkBsMglGMs6EapBqkGqQa5AaDiIhBU/9BqkGqQapBfhjkdfgG\",\"2023-03-19T16:40:53.5550101Z\"]}]}', extra='')\n",
      "DEBUG:signalr_async.client:Raw message received: WSMessage(type=<WSMsgType.TEXT: 1>, data='{\"C\":\"d-F23263D5-B,0|Df,0|Dg,11|d,9F|p,937|o,936|a,1|Y,D|Dh,0|n,1|W,2|c,27|i,1|X,C|k,3|l,1|r,2|Z,1|s,59F\",\"M\":[{\"H\":\"Streaming\",\"M\":\"feed\",\"A\":[\"CarData.z\",\"7ZS/CoNADIffJbNKkvunt0rfoF1aOkgRWigOrZv47tUInVqwkW635A65j8v9DN8Au65/3NonxNMAh/4CERjZ5Ghyqvbko8XouKiwIufpCBnUzWM6PQDNpb42Xdfe5QNCxAxYqpFqpbplPy/jKAdUnFVyhL+DJKD2hfSpVYtUrmG9tttS+z+0+bB6ArQjwEYLKoZneWNQgkYbjtXOuXPKVr021bAuHEIrqKzvW0tdQBP63VOm4ICEzMlTGzzlXfJU8lTy1D89ZQNiYJ88tcFTZJKnkqeSpzZ66jy+AA==\",\"2023-03-19T16:40:53.4700726Z\"]}]}', extra='')\n"
     ]
    },
    {
     "name": "stdout",
     "output_type": "stream",
     "text": [
      "Position.z 7ZY9a8MwEIb/y8120N3p9LV3bqEZ2pQOoWQwpUlJ3Cn4v9e2QlBoeqWZtRgb9HCvXokHH+Fhd+j6breF9HKEZfexOfTrj09IQIa4NdxiXKJL1iShhfeCFGQFDdxt+323OUA6Ak6Px37df42fcL9d7tdv7+OSJ0gtcnQNPEMSYxtYQUIMQwOkIRj9jLQiBWI1ZAw1I2SwQNBojGXMyWIomRt2g2o2y2FmHPqSceock+eQXGQLKmPzHPZlB6R2QMyn/ZSIXgFmhHy5HVJPlMXmaPFiDqvR6DTnAlGb/qUBr46RODPjS8GwWsH1m2P1bFdPVETN5jKDtrxt7v+1ebUCntZOyHS5z0xQKyCbGRfPyDA0fxmEFwbFRMJqkGqQapBqkBsMglGMs6EapBqkGqQa5AaDiIhBU/9BqkGqQapBfhjkdfgG\n",
      "CarData.z 7ZS/CoNADIffJbNKkvunt0rfoF1aOkgRWigOrZv47tUInVqwkW635A65j8v9DN8Au65/3NonxNMAh/4CERjZ5Ghyqvbko8XouKiwIufpCBnUzWM6PQDNpb42Xdfe5QNCxAxYqpFqpbplPy/jKAdUnFVyhL+DJKD2hfSpVYtUrmG9tttS+z+0+bB6ArQjwEYLKoZneWNQgkYbjtXOuXPKVr021bAuHEIrqKzvW0tdQBP63VOm4ICEzMlTGzzlXfJU8lTy1D89ZQNiYJ88tcFTZJKnkqeSpzZ66jy+AA==\n"
     ]
    },
    {
     "name": "stderr",
     "output_type": "stream",
     "text": [
      "DEBUG:signalr_async.client:Raw message received: WSMessage(type=<WSMsgType.TEXT: 1>, data='{\"C\":\"d-F23263D5-B,0|Df,0|Dg,11|d,9F|p,938|o,937|a,1|Y,D|Dh,0|n,1|W,2|c,27|i,1|X,C|k,3|l,1|r,2|Z,1|s,59F\",\"M\":[{\"H\":\"Streaming\",\"M\":\"feed\",\"A\":[\"CarData.z\",\"7ZQ9i8JAEIb/y9Qq87Ffs634D+4aDwsR4Q6OFF66kP+ubsBKITfBbprZJezDzr4ZngF2XX/5Of9B/Rrgsz9BBUaWNcqa9INSDVijbEpGJNnDCrbHy+3wAHQv2+9j151/2weEiivgVqXV0Gqc9vdlHNsBExeMHOH/QWqg9YX0rNWAkuawydptsf4Paz5sngDrCLBYQcPwTG/MRlCs4QTrnMdobDVZU83zwiEMDW3r49ZiC+iGvtZU2GBSLVzcUws8heyeck+5p97pKSmqErN7yuwpUVT3lHvKPfVOT8WgSszuqQWe0uyeck+5pxZ66jBeAQ==\",\"2023-03-19T16:40:54.5499122Z\"]},{\"H\":\"Streaming\",\"M\":\"feed\",\"A\":[\"Position.z\",\"7ZQ9a8MwEIb/y8120OlOn3vmFpqhTekQSgZTkpTEnYL/e/0RglLSK/V8i5FBD/fqlXjO8Hg4NW1z2EN+PcOq2W1P7Wb3CRmssVQbqjGt0Gc22dEiBk4eeQ0VLPftsdmeIJ8Bh89Tu2m/+l942K+Om/ePfssz5Bop+QpeIDvDFawhI8auAishmMKI1M4VCEuIjW5ErMECQSMxTDglS7FkZpwGxWxMcWQ8hpLx4hwzzbHuJlsUGZ7mUCg7sGIHluhynhKRK8AJsaE8jhVvlBxP0dLNHBKj2cucG0Rs+pcGgjjGpZHpFwVDYgX3Xw7L2e7eqHNiNj8xyOVr8/+vLYgV0LB3QIbHfWWiWIHlifHpinRd9ZdBeIHIyXJSg6hB1CBqkBkGsYljCl4NogZRg6hBZhjEOY4uohpEDaIGUYPMMEjo74hMUIOoQdQgapCfBnnrvgE=\",\"2023-03-19T16:40:54.7348307Z\"]}]}', extra='')\n"
     ]
    },
    {
     "name": "stdout",
     "output_type": "stream",
     "text": [
      "CarData.z 7ZQ9i8JAEIb/y9Qq87Ffs634D+4aDwsR4Q6OFF66kP+ubsBKITfBbprZJezDzr4ZngF2XX/5Of9B/Rrgsz9BBUaWNcqa9INSDVijbEpGJNnDCrbHy+3wAHQv2+9j151/2weEiivgVqXV0Gqc9vdlHNsBExeMHOH/QWqg9YX0rNWAkuawydptsf4Paz5sngDrCLBYQcPwTG/MRlCs4QTrnMdobDVZU83zwiEMDW3r49ZiC+iGvtZU2GBSLVzcUws8heyeck+5p97pKSmqErN7yuwpUVT3lHvKPfVOT8WgSszuqQWe0uyeck+5pxZ66jBeAQ==\n",
      "Position.z 7ZQ9a8MwEIb/y8120OlOn3vmFpqhTekQSgZTkpTEnYL/e/0RglLSK/V8i5FBD/fqlXjO8Hg4NW1z2EN+PcOq2W1P7Wb3CRmssVQbqjGt0Gc22dEiBk4eeQ0VLPftsdmeIJ8Bh89Tu2m/+l942K+Om/ePfssz5Bop+QpeIDvDFawhI8auAishmMKI1M4VCEuIjW5ErMECQSMxTDglS7FkZpwGxWxMcWQ8hpLx4hwzzbHuJlsUGZ7mUCg7sGIHluhynhKRK8AJsaE8jhVvlBxP0dLNHBKj2cucG0Rs+pcGgjjGpZHpFwVDYgX3Xw7L2e7eqHNiNj8xyOVr8/+vLYgV0LB3QIbHfWWiWIHlifHpinRd9ZdBeIHIyXJSg6hB1CBqkBkGsYljCl4NogZRg6hBZhjEOY4uohpEDaIGUYPMMEjo74hMUIOoQdQgapCfBnnrvgE=\n"
     ]
    },
    {
     "name": "stderr",
     "output_type": "stream",
     "text": [
      "DEBUG:signalr_async.client:Raw message received: WSMessage(type=<WSMsgType.TEXT: 1>, data='{\"C\":\"d-F23263D5-B,0|Df,0|Dg,11|d,9F|p,939|o,938|a,1|Y,D|Dh,0|n,1|W,2|c,27|i,1|X,C|k,3|l,1|r,2|Z,1|s,59F\",\"M\":[{\"H\":\"Streaming\",\"M\":\"feed\",\"A\":[\"CarData.z\",\"7dS9CsJADAfwd8msktzlPlfxDXRRHIoUFKSDdit9d+s5uCjU1G5ZcqXcn96l4dfBpmlvl/oO+dDBrj1BBoPGLtEuKW3JZ8bseBVNioFoDwtYV7dhdwf0LOtz1TT1tbxAyLgAU6otlUt1r+fn0vdlgyjHwhzh70EqQekN6dNRGe2orB/1UUIu0bK+Txyl/0TaIyOeAukYGCsNCgbodccgDFppc1g6684Jj+qlXQ3jmvN5XqOsQUP0u1VuhYNVjEGtmmKVV6vUKrVqbqtsTCEGVqsmWIVBrVKr1Kq5rfImBUdJrRJbZVN0apVapVb9wapj/wA=\",\"2023-03-19T16:40:55.6297519Z\"]},{\"H\":\"Streaming\",\"M\":\"feed\",\"A\":[\"Position.z\",\"7ZQ9a8MwEIb/y8120J3u9LV3bqEZ2pQOoWQwpUlJ3Cn4v9e2QlBKeqWZtRgZ9HCvXonnCA+7Q9d3uy2klyMsu4/NoV9/fEICMmRbY1uMS3SJTRJehMjBOF5BA3fbft9tDpCOgNPnsV/3X+Mv3G+X+/Xb+7jlCVKLNroGniGJ4QZWkBDD0ABpCEY/I61IgbCGUJAZIYMFgkZj2GJOFkPJ3HAaVLOxDTPj0JeMU+eYPIfkIltQGc5zrC87ILUDsvZ0nhLRK8CMkC+PQ+qNWuEcLV7MsWo0Os25QNSmf2nAq2Mkzsy4KBirVnD95bCe7eqNiqjZXGaQy9fm/l+bVyuw094JmR73mQlqBcSZcfGMDEPzl0FkYSJ776pAqkCqQKpAbhAIjQJhqQapBqkGqQa5xSAi7I3DapBqkGqQapCfBnkdvgE=\",\"2023-03-19T16:40:55.5547061Z\"]}]}', extra='')\n",
      "DEBUG:signalr_async.client:Connection keepalive\n",
      "DEBUG:signalr_async.client:Sending: message_content='{}', is_binary=False\n"
     ]
    },
    {
     "name": "stdout",
     "output_type": "stream",
     "text": [
      "CarData.z 7dS9CsJADAfwd8msktzlPlfxDXRRHIoUFKSDdit9d+s5uCjU1G5ZcqXcn96l4dfBpmlvl/oO+dDBrj1BBoPGLtEuKW3JZ8bseBVNioFoDwtYV7dhdwf0LOtz1TT1tbxAyLgAU6otlUt1r+fn0vdlgyjHwhzh70EqQekN6dNRGe2orB/1UUIu0bK+Txyl/0TaIyOeAukYGCsNCgbodccgDFppc1g6684Jj+qlXQ3jmvN5XqOsQUP0u1VuhYNVjEGtmmKVV6vUKrVqbqtsTCEGVqsmWIVBrVKr1Kq5rfImBUdJrRJbZVN0apVapVb9wapj/wA=\n",
      "Position.z 7ZQ9a8MwEIb/y8120J3u9LV3bqEZ2pQOoWQwpUlJ3Cn4v9e2QlBKeqWZtRgZ9HCvXonnCA+7Q9d3uy2klyMsu4/NoV9/fEICMmRbY1uMS3SJTRJehMjBOF5BA3fbft9tDpCOgNPnsV/3X+Mv3G+X+/Xb+7jlCVKLNroGniGJ4QZWkBDD0ABpCEY/I61IgbCGUJAZIYMFgkZj2GJOFkPJ3HAaVLOxDTPj0JeMU+eYPIfkIltQGc5zrC87ILUDsvZ0nhLRK8CMkC+PQ+qNWuEcLV7MsWo0Os25QNSmf2nAq2Mkzsy4KBirVnD95bCe7eqNiqjZXGaQy9fm/l+bVyuw094JmR73mQlqBcSZcfGMDEPzl0FkYSJ776pAqkCqQKpAbhAIjQJhqQapBqkGqQa5xSAi7I3DapBqkGqQapCfBnkdvgE=\n"
     ]
    },
    {
     "name": "stderr",
     "output_type": "stream",
     "text": [
      "DEBUG:signalr_async.client:Raw message received: WSMessage(type=<WSMsgType.TEXT: 1>, data='{\"C\":\"d-F23263D5-B,0|Df,0|Dg,11|d,9F|p,939|o,939|a,1|Y,D|Dh,0|n,1|W,2|c,27|i,1|X,C|k,3|l,1|r,2|Z,1|s,59F\",\"M\":[{\"H\":\"Streaming\",\"M\":\"feed\",\"A\":[\"Position.z\",\"7ZQ9a8MwEIb/y8120Onu9LV3bqEZ2pQOoWQwpUlJ3Cn4v9e2QlBKeqWZtRgb9HCvXsnPER52h67vdltIL0dYdh+bQ7/++IQE1lhqDbUYl+gSmySyCJGdMK+ggbttv+82B0hHwOnx2K/7r/ET7rfL/frtfVzyBKlFiq6BZ0hiuIEVJMQwNGA1BKOfkVakQFhDbJAZsQYLBI3GMGFOFkPJ3LAbVLMxhZlx6EvGqXNMnmPlIltQGc5zyJcdWLUDS3TaT4noFWBGrC+3Y9UTJeEcLV7MITWaPc25QNSmf2nAq2Mkzsz4UjCkVnD95rCe7eqJiqjZXGaQy9vm/l+bVyugae2ETJf7zAS1AsuZcfGMDEPzl0HcYjyj8T+I1SDVINUg1SA3GISIJXipBqkGqQapBrnBIBJZOFSBVIFUgVSB/BTI6/AN\",\"2023-03-19T16:40:56.594548Z\"]}]}', extra='')\n",
      "DEBUG:signalr_async.client:Raw message received: WSMessage(type=<WSMsgType.TEXT: 1>, data='{\"C\":\"d-F23263D5-B,0|Df,0|Dg,11|d,9F|p,93A|o,939|a,1|Y,D|Dh,0|n,1|W,2|c,27|i,1|X,C|k,3|l,1|r,2|Z,1|s,59F\",\"M\":[{\"H\":\"Streaming\",\"M\":\"feed\",\"A\":[\"CarData.z\",\"7ZaxDsIgEIbf5ebWHNwBhbXxDXTRODSmiSamg3Zr+u5SOrg0pp66sRyE8Ifj588XBth2/f3aPiAcB9j3ZwigUVOJVCq/UzYwBmM3qL31yh2ggLq5x90DqKnUl6br2ltaQAhYgE6VUuVUzTyfhnFMG0Q6FuoUfi5USSi9oVpqlSrv12jtqkMVcpKm8dVxJX0TqUdanAJpDDRJhYIAzXd0QiFJzWFp1o0Rtmqlrrp15izntZIZFKXvWEXsLTNlVolZxUgmsyqzKrPq36yy8V8V/1aZVV+wytnMqsyqzKofsOo0PgE=\",\"2023-03-19T16:40:56.6296029Z\"]}]}', extra='')\n"
     ]
    },
    {
     "name": "stdout",
     "output_type": "stream",
     "text": [
      "Position.z 7ZQ9a8MwEIb/y8120Onu9LV3bqEZ2pQOoWQwpUlJ3Cn4v9e2QlBKeqWZtRgb9HCvXsnPER52h67vdltIL0dYdh+bQ7/++IQE1lhqDbUYl+gSmySyCJGdMK+ggbttv+82B0hHwOnx2K/7r/ET7rfL/frtfVzyBKlFiq6BZ0hiuIEVJMQwNGA1BKOfkVakQFhDbJAZsQYLBI3GMGFOFkPJ3LAbVLMxhZlx6EvGqXNMnmPlIltQGc5zyJcdWLUDS3TaT4noFWBGrC+3Y9UTJeEcLV7MITWaPc25QNSmf2nAq2Mkzsz4UjCkVnD95rCe7eqJiqjZXGaQy9vm/l+bVyugae2ETJf7zAS1AsuZcfGMDEPzl0HcYjyj8T+I1SDVINUg1SA3GISIJXipBqkGqQapBrnBIBJZOFSBVIFUgVSB/BTI6/AN\n",
      "CarData.z 7ZaxDsIgEIbf5ebWHNwBhbXxDXTRODSmiSamg3Zr+u5SOrg0pp66sRyE8Ifj588XBth2/f3aPiAcB9j3ZwigUVOJVCq/UzYwBmM3qL31yh2ggLq5x90DqKnUl6br2ltaQAhYgE6VUuVUzTyfhnFMG0Q6FuoUfi5USSi9oVpqlSrv12jtqkMVcpKm8dVxJX0TqUdanAJpDDRJhYIAzXd0QiFJzWFp1o0Rtmqlrrp15izntZIZFKXvWEXsLTNlVolZxUgmsyqzKrPq36yy8V8V/1aZVV+wytnMqsyqzKofsOo0PgE=\n"
     ]
    },
    {
     "name": "stderr",
     "output_type": "stream",
     "text": [
      "DEBUG:signalr_async.client:Raw message received: WSMessage(type=<WSMsgType.TEXT: 1>, data='{\"C\":\"d-F23263D5-B,0|Df,0|Dg,11|d,9F|p,93B|o,939|a,1|Y,D|Dh,0|n,1|W,2|c,27|i,1|X,C|k,3|l,1|r,2|Z,1|s,59F\",\"M\":[{\"H\":\"Streaming\",\"M\":\"feed\",\"A\":[\"CarData.z\",\"7dc7asNAEAbgu0xtm3nuqzW5QdwkpDDBkEBQ4bgTurvtdeHGBGUcQ4ppRkLsj3ZHwwca4Wk47D9339BeR9gc3qEBI8sSZUn1mVJTbJZWhatloRdYwHq7P60egc5l/bEdht1Xf4DQcAHcq/Sqvdrl/nyZpr7AlVNnjvD3QepB7wnp1lal5jInm2a9lFB7tF+vOy7eb+LtEbunwDsGLN6gY4AuZ8zOoHibo95ZN3NuNXm7muc15/a8Fl+DTtGfrKqlmpYSVoVVYVVY9Y+tyivSamxBlZsqRaagKqgKqh5NlWHVzPELeI9VImFVWBVWPdqqlKpqSWHVHVaZhVVhVVj1B1a9TUc=\",\"2023-03-19T16:40:57.6694486Z\"]}]}', extra='')\n",
      "DEBUG:signalr_async.client:Raw message received: WSMessage(type=<WSMsgType.TEXT: 1>, data='{\"C\":\"d-F23263D5-B,0|Df,0|Dg,11|d,9F|p,93B|o,93A|a,1|Y,D|Dh,0|n,1|W,2|c,27|i,1|X,C|k,3|l,1|r,2|Z,1|s,59F\",\"M\":[{\"H\":\"Streaming\",\"M\":\"feed\",\"A\":[\"Position.z\",\"7ZS7asNAEEX/ZWrJ7OzMPnvXCcRF4pDCBBci2A62Uhn9e/QwZh2cCVE9jZBgD3PnajlneDycmrY57CG/nmHV7LandrP7hAzWWKoN1ZhW6DOb7PwiOnYmujVUsNy3x2Z7gnwGHB5P7ab96j/hYb86bt4/+iPPkGuk5Ct4gewMV7CGjBi7CqyEYAojUjtXICwhNroRsQYLBI3EMOGULMWSmbENitmY4sh4DCXjxTlmmmPdTbYoMjzNoVB2YMUOLNFlnxKRK8AJsaFcx4p/lBxP0dLNHBKj2cucG0Rs+pcGgjjGpZHpXwqGxAru3xyWs939o86J2fzEIJe3zf+/tiBWQMPZARku95WJYgWWJ8anK9J11V8GCQvT7xIZ1SBqEDWIGmSGQWxiZvRqEDWIGkQNMsMg7HqBBFKDqEHUIGqQGQYJxBQ4qEHUIGoQNchPg7x13w==\",\"2023-03-19T16:40:57.7343747Z\"]}]}', extra='')\n"
     ]
    },
    {
     "name": "stdout",
     "output_type": "stream",
     "text": [
      "CarData.z 7dc7asNAEAbgu0xtm3nuqzW5QdwkpDDBkEBQ4bgTurvtdeHGBGUcQ4ppRkLsj3ZHwwca4Wk47D9339BeR9gc3qEBI8sSZUn1mVJTbJZWhatloRdYwHq7P60egc5l/bEdht1Xf4DQcAHcq/Sqvdrl/nyZpr7AlVNnjvD3QepB7wnp1lal5jInm2a9lFB7tF+vOy7eb+LtEbunwDsGLN6gY4AuZ8zOoHibo95ZN3NuNXm7muc15/a8Fl+DTtGfrKqlmpYSVoVVYVVY9Y+tyivSamxBlZsqRaagKqgKqh5NlWHVzPELeI9VImFVWBVWPdqqlKpqSWHVHVaZhVVhVVj1B1a9TUc=\n",
      "Position.z 7ZS7asNAEEX/ZWrJ7OzMPnvXCcRF4pDCBBci2A62Uhn9e/QwZh2cCVE9jZBgD3PnajlneDycmrY57CG/nmHV7LandrP7hAzWWKoN1ZhW6DOb7PwiOnYmujVUsNy3x2Z7gnwGHB5P7ab96j/hYb86bt4/+iPPkGuk5Ct4gewMV7CGjBi7CqyEYAojUjtXICwhNroRsQYLBI3EMOGULMWSmbENitmY4sh4DCXjxTlmmmPdTbYoMjzNoVB2YMUOLNFlnxKRK8AJsaFcx4p/lBxP0dLNHBKj2cucG0Rs+pcGgjjGpZHpXwqGxAru3xyWs939o86J2fzEIJe3zf+/tiBWQMPZARku95WJYgWWJ8anK9J11V8GCQvT7xIZ1SBqEDWIGmSGQWxiZvRqEDWIGkQNMsMg7HqBBFKDqEHUIGqQGQYJxBQ4qEHUIGoQNchPg7x13w==\n"
     ]
    },
    {
     "name": "stderr",
     "output_type": "stream",
     "text": [
      "DEBUG:signalr_async.client:Raw message received: WSMessage(type=<WSMsgType.TEXT: 1>, data='{\"C\":\"d-F23263D5-B,0|Df,0|Dg,11|d,9F|p,93C|o,93B|a,1|Y,D|Dh,0|n,1|W,2|c,27|i,1|X,C|k,3|l,1|r,2|Z,1|s,59F\",\"M\":[{\"H\":\"Streaming\",\"M\":\"feed\",\"A\":[\"CarData.z\",\"7da9asMwEAfwd7k5Caf7kHRaQ9+gXVo6hBJooXhIsxm/ex1l6JKCe8XQwi1nY/TH0vn44RHuhvPp7fgB7WmEh/MLNCAk3iJvk92n3ASbll0lE9L0CBvYH07z6hHSpexfD8NwfO8PEBpugHrlXqVXvd5fLtPUF7hy4swl/Hkw9aD3hOnWVgVZlmTzopcmlB7t168dV+838faI3FPgHQNib9AxQNczFmeQvc0R76yrOreavV0ty5pze16rr0Fz9Hur6g6zca0lrHJbxWY5rAqrwqq1raLZKrX4r/JbJUgaVoVVYdXaVikaE+ewym0Vm1pYFVaFVWtbVapRJQqrfmGV1bAqrPpHViWVv8vV8/QJ\",\"2023-03-19T16:40:58.7892822Z\"]},{\"H\":\"Streaming\",\"M\":\"feed\",\"A\":[\"Position.z\",\"7ZQ9a8MwEIb/y8120J3u9LVnbqEZ2pQOoWQwJUlJ3Cn4vze2QlBKeqWZtRgZ9HCvXonnCI+7Q9d3uy2k1yMsus360K82n5CADNnW2BbjAl1ik8TPgrAVJ0toYL7t9936AOkIOH6e+lX/dfqFh+1iv3r/OG15htSija6BF0hiuIElJMQwNEAagtFPSCtSIKwhFGRCyGCBoNEYtpiTxVAyd5wG1Wxsw8Q49CXj1DkmzyG5yhZUhvMc68sOSO2ArD2fp0T0CjAj5MvjkHqjVjhHi1dzrBqNznOuELXpXxrw6hiJE3NaFIxVK7j9cljPdvNGRdRsLjPI5Wtz/6/NqxXYce+IjI/7wgS1AuLMuHhBhqH5yyBhhmN5LlaDVINUg1SD3GEQ8kyRXDVINUg1SDXIHQYRYRKD1SDVINUg1SA/DfI2fAM=\",\"2023-03-19T16:40:58.5542501Z\"]}]}', extra='')\n"
     ]
    },
    {
     "name": "stdout",
     "output_type": "stream",
     "text": [
      "CarData.z 7da9asMwEAfwd7k5Caf7kHRaQ9+gXVo6hBJooXhIsxm/ex1l6JKCe8XQwi1nY/TH0vn44RHuhvPp7fgB7WmEh/MLNCAk3iJvk92n3ASbll0lE9L0CBvYH07z6hHSpexfD8NwfO8PEBpugHrlXqVXvd5fLtPUF7hy4swl/Hkw9aD3hOnWVgVZlmTzopcmlB7t168dV+838faI3FPgHQNib9AxQNczFmeQvc0R76yrOreavV0ty5pze16rr0Fz9Hur6g6zca0lrHJbxWY5rAqrwqq1raLZKrX4r/JbJUgaVoVVYdXaVikaE+ewym0Vm1pYFVaFVWtbVapRJQqrfmGV1bAqrPpHViWVv8vV8/QJ\n",
      "Position.z 7ZQ9a8MwEIb/y8120J3u9LVnbqEZ2pQOoWQwJUlJ3Cn4vze2QlBKeqWZtRgZ9HCvXonnCI+7Q9d3uy2k1yMsus360K82n5CADNnW2BbjAl1ik8TPgrAVJ0toYL7t9936AOkIOH6e+lX/dfqFh+1iv3r/OG15htSija6BF0hiuIElJMQwNEAagtFPSCtSIKwhFGRCyGCBoNEYtpiTxVAyd5wG1Wxsw8Q49CXj1DkmzyG5yhZUhvMc68sOSO2ArD2fp0T0CjAj5MvjkHqjVjhHi1dzrBqNznOuELXpXxrw6hiJE3NaFIxVK7j9cljPdvNGRdRsLjPI5Wtz/6/NqxXYce+IjI/7wgS1AuLMuHhBhqH5yyBhhmN5LlaDVINUg1SD3GEQ8kyRXDVINUg1SDXIHQYRYRKD1SDVINUg1SA/DfI2fAM=\n"
     ]
    },
    {
     "name": "stderr",
     "output_type": "stream",
     "text": [
      "DEBUG:signalr_async.client:Raw message received: WSMessage(type=<WSMsgType.TEXT: 1>, data='{\"C\":\"d-F23263D5-B,0|Df,0|Dg,11|d,9F|p,93D|o,93C|a,1|Y,D|Dh,0|n,1|W,2|c,27|i,1|X,C|k,3|l,1|r,2|Z,1|s,59F\",\"M\":[{\"H\":\"Streaming\",\"M\":\"feed\",\"A\":[\"CarData.z\",\"7Za7agMxEEX/RbVt5qXHbGvyB0njkMIEQwJhC8fdsv8eWy7cbEAZF7FgmtGy6DKjq8tBU3gaT8fPw3cYXqfwcnoPQyAgXgOvUZ8xDQJDLBsVpZh1F1Zhuz+ed08BL2X7sR/Hw1f9AWGAVaBauVapNV6/L8s81w0mnRh1CH8XYhVaT4hLowpQbNGmpqYIUqV1vU1crHdi9YjMKbDGgNgqNAToesZsFLLVHLFmPUbjqGnJVSyoDU1zmz/LkS02j87S33GlGwQl5uK4MuOKVbLjynHVFa6A+sQVi6IWdlzdgStu0jquHFePgqucO31dxQiYSnJcmXElgP66clz1hasofeKqMCBlp9UdtEotV++0clo9EK1amv4Prd7mHw==\",\"2023-03-19T16:40:59.830127Z\"]},{\"H\":\"Streaming\",\"M\":\"feed\",\"A\":[\"Position.z\",\"7ZY9a8MwEIb/y8120N3p9LV3bqEZ2pQOoWQwpUlJ3Cn4v9e2QlBKeqWZtRgb9HCvXokHH+Fhd+j6breF9HKEZfexOfTrj09IQIa4NdxiXKJL1iQJixgtBqYVNHC37ffd5gDpCDg9Hvt1/zV+wv12uV+/vY9LniC1yNE18AxJjG1gBQkxDA2QhmD0M9KKFIjVEAoyI2SwQNBojGXMyWIomRt2g2o2y2FmHPqSceock+eQXGQLKmPzHPZlB6R2QMyn/ZSIXgFmhHy5HVJPlMXmaPFiDqvR6DTnAlGb/qUBr46RODPjS8GwWsH1m2P1bFdPVETN5jKDtrxt7v+1ebUCntZOyHS5z0xQKyCbGRfPyDA0fxkkLjAKCrlqkGqQapBqkBsMwqNBiOo/SDVINUg1yC0GES8m2lgNUg1SDVIN8tMgr8M3\",\"2023-03-19T16:40:59.5750949Z\"]}]}', extra='')\n",
      "DEBUG:signalr_async.client:Raw message received: WSMessage(type=<WSMsgType.TEXT: 1>, data='{\"C\":\"d-F23263D5-B,0|Df,0|Dg,11|d,9F|p,93D|o,93C|a,1|Y,D|Dh,0|n,1|W,2|c,28|i,1|X,C|k,3|l,1|r,2|Z,1|s,59F\",\"M\":[{\"H\":\"Streaming\",\"M\":\"feed\",\"A\":[\"WeatherData\",{\"AirTemp\":\"26.0\",\"Humidity\":\"59.0\",\"Pressure\":\"1010.9\",\"Rainfall\":\"0\",\"TrackTemp\":\"32.5\",\"WindDirection\":\"330\",\"WindSpeed\":\"2.5\",\"_kf\":true},\"2023-03-19T16:41:00.039Z\"]}]}', extra='')\n"
     ]
    },
    {
     "name": "stdout",
     "output_type": "stream",
     "text": [
      "CarData.z 7Za7agMxEEX/RbVt5qXHbGvyB0njkMIEQwJhC8fdsv8eWy7cbEAZF7FgmtGy6DKjq8tBU3gaT8fPw3cYXqfwcnoPQyAgXgOvUZ8xDQJDLBsVpZh1F1Zhuz+ed08BL2X7sR/Hw1f9AWGAVaBauVapNV6/L8s81w0mnRh1CH8XYhVaT4hLowpQbNGmpqYIUqV1vU1crHdi9YjMKbDGgNgqNAToesZsFLLVHLFmPUbjqGnJVSyoDU1zmz/LkS02j87S33GlGwQl5uK4MuOKVbLjynHVFa6A+sQVi6IWdlzdgStu0jquHFePgqucO31dxQiYSnJcmXElgP66clz1hasofeKqMCBlp9UdtEotV++0clo9EK1amv4Prd7mHw==\n",
      "Position.z 7ZY9a8MwEIb/y8120N3p9LV3bqEZ2pQOoWQwpUlJ3Cn4v9e2QlBKeqWZtRgb9HCvXokHH+Fhd+j6breF9HKEZfexOfTrj09IQIa4NdxiXKJL1iQJixgtBqYVNHC37ffd5gDpCDg9Hvt1/zV+wv12uV+/vY9LniC1yNE18AxJjG1gBQkxDA2QhmD0M9KKFIjVEAoyI2SwQNBojGXMyWIomRt2g2o2y2FmHPqSceock+eQXGQLKmPzHPZlB6R2QMyn/ZSIXgFmhHy5HVJPlMXmaPFiDqvR6DTnAlGb/qUBr46RODPjS8GwWsH1m2P1bFdPVETN5jKDtrxt7v+1ebUCntZOyHS5z0xQKyCbGRfPyDA0fxkkLjAKCrlqkGqQapBqkBsMwqNBiOo/SDVINUg1yC0GES8m2lgNUg1SDVIN8tMgr8M3\n",
      "WeatherData {'AirTemp': '26.0', 'Humidity': '59.0', 'Pressure': '1010.9', 'Rainfall': '0', 'TrackTemp': '32.5', 'WindDirection': '330', 'WindSpeed': '2.5', '_kf': True}\n"
     ]
    },
    {
     "name": "stderr",
     "output_type": "stream",
     "text": [
      "DEBUG:signalr_async.client:Raw message received: WSMessage(type=<WSMsgType.TEXT: 1>, data='{\"C\":\"d-F23263D5-B,0|Df,0|Dg,11|d,9F|p,93D|o,93D|a,1|Y,D|Dh,0|n,1|W,2|c,28|i,1|X,C|k,3|l,1|r,2|Z,1|s,59F\",\"M\":[{\"H\":\"Streaming\",\"M\":\"feed\",\"A\":[\"Position.z\",\"7ZQ/a8MwEMW/y8120enu9G/v3EIztCkdQslgSpySuFPwd29shaCU9EozazEy6Md793S8Azxu993QbXtIrwdYdJv1flhtPiGBNZZaQy3GBbrEmIy5MyLGYlxCA/f9sOvWe0gHwOnzNKyGr+MvPPSL3er943jlGVKLFF0DL5DEcANLSIhhbMBqCEY/I61IgbCG2CAzYg0WCBqNYcLsLIaSuWEaVL0xhZlx6EvGqTom61i58BZUhrMO+TIDq2ZgiU7zlIgeAWbE+nIcq74oCWdr8UKHVGv2pHOBqEn/koBXZSTOzPFQMKRGcH1zWPd29UVFVG8uM8jltrn/x+bVCGi6OyHTcp+ZoEZgOTMunpFxbP5uEPYcJWBtkNogtUFqg9zQIEE4GkO1QWqD1AapDfKzQd7Gbw==\",\"2023-03-19T16:41:00.8549003Z\"]}]}', extra='')\n",
      "DEBUG:signalr_async.client:Raw message received: WSMessage(type=<WSMsgType.TEXT: 1>, data='{\"C\":\"d-F23263D5-B,0|Df,0|Dg,11|d,9F|p,93E|o,93D|a,1|Y,D|Dh,0|n,1|W,2|c,28|i,1|X,C|k,3|l,1|r,2|Z,1|s,59F\",\"M\":[{\"H\":\"Streaming\",\"M\":\"feed\",\"A\":[\"CarData.z\",\"7da9asMwEAfwd7k5CXe60+ca+gbt0tIhlEALxUOazfjd6yhDFlPU82LBLZIx/iP5fPysEZ6G6+Xr/APlbYSX6wcUcOh4j7yn/EyhCBXEAzJiDuEVdnA8XeanR6DbcPw8DcP5u95AKLgDV0euo9TR369v0zTVB1Q5UeYI/x+kGtS+IS1tVTA0ZUPTooRSo3V+7Dhpv4m2Rk7dBdo2cKwNKhro/o5RGWRtcUTb694rtxqWqkqRU8Oisa0+yy2bdDWao39xRRkxsmm1RitnWplWXWnlpE+tZD5ccYzG1QqufMufyrgyrrbDFYY+uQozV5jsdLWGq6aDtXFlXG2IK+6Tq5hyTpKMqxVckTeujKuOuHJetsvV+/QL\",\"2023-03-19T16:41:00.7899848Z\"]}]}', extra='')\n",
      "DEBUG:signalr_async.client:Connection keepalive\n",
      "DEBUG:signalr_async.client:Sending: message_content='{}', is_binary=False\n"
     ]
    },
    {
     "name": "stdout",
     "output_type": "stream",
     "text": [
      "Position.z 7ZQ/a8MwEMW/y8120enu9G/v3EIztCkdQslgSpySuFPwd29shaCU9EozazEy6Md793S8Azxu993QbXtIrwdYdJv1flhtPiGBNZZaQy3GBbrEmIy5MyLGYlxCA/f9sOvWe0gHwOnzNKyGr+MvPPSL3er943jlGVKLFF0DL5DEcANLSIhhbMBqCEY/I61IgbCG2CAzYg0WCBqNYcLsLIaSuWEaVL0xhZlx6EvGqTom61i58BZUhrMO+TIDq2ZgiU7zlIgeAWbE+nIcq74oCWdr8UKHVGv2pHOBqEn/koBXZSTOzPFQMKRGcH1zWPd29UVFVG8uM8jltrn/x+bVCGi6OyHTcp+ZoEZgOTMunpFxbP5uEPYcJWBtkNogtUFqg9zQIEE4GkO1QWqD1AapDfKzQd7Gbw==\n",
      "CarData.z 7da9asMwEAfwd7k5CXe60+ca+gbt0tIhlEALxUOazfjd6yhDFlPU82LBLZIx/iP5fPysEZ6G6+Xr/APlbYSX6wcUcOh4j7yn/EyhCBXEAzJiDuEVdnA8XeanR6DbcPw8DcP5u95AKLgDV0euo9TR369v0zTVB1Q5UeYI/x+kGtS+IS1tVTA0ZUPTooRSo3V+7Dhpv4m2Rk7dBdo2cKwNKhro/o5RGWRtcUTb694rtxqWqkqRU8Oisa0+yy2bdDWao39xRRkxsmm1RitnWplWXWnlpE+tZD5ccYzG1QqufMufyrgyrrbDFYY+uQozV5jsdLWGq6aDtXFlXG2IK+6Tq5hyTpKMqxVckTeujKuOuHJetsvV+/QL\n"
     ]
    },
    {
     "name": "stderr",
     "output_type": "stream",
     "text": [
      "DEBUG:signalr_async.client:Raw message received: WSMessage(type=<WSMsgType.TEXT: 1>, data='{\"C\":\"d-F23263D5-B,0|Df,0|Dg,11|d,9F|p,93F|o,93E|a,1|Y,D|Dh,0|n,1|W,2|c,28|i,1|X,C|k,3|l,1|r,2|Z,1|s,59F\",\"M\":[{\"H\":\"Streaming\",\"M\":\"feed\",\"A\":[\"CarData.z\",\"7Za9akMxDIXfRXMSJEv+kdfQN2iWlg6hBFood0izXe67J3GGLLfgKksuaJGN8cHy8eHDI7wMp+P34Rfq+wi70ydUCBh4jbwmfaVUhSriRotqlPQGK9juj5fdI9C1bL/2w3D4aQsIFVcQWuVWpdV4m1+HaWobTDox6gj/L6QmtN6Q5loVFOrRpq5DCaVJ23jvuFjfxOpRMKfAGoPAVqEhQLc7ZqOQreaINesxGltNc66yCnccmvv8mY9ssXl0kf6NK9qQqDIWx9UDuAo9b++4clw9C66EMC0TVxG15BwdVw/gisRx5bhaFK44LxNXJWhhh5UZVlz8b+WwWhasMD4vrD6mMw==\",\"2023-03-19T16:41:01.82983Z\"]},{\"H\":\"Streaming\",\"M\":\"feed\",\"A\":[\"Position.z\",\"7ZQ/a8MwEMW/y8120elOf/fOLdRDm9IhlAymxCmxOxl/99pWCApNrzSzFiODfrx3T8cb4fHQt0N76CC+jtC0+10/bPefEEErTbWiGkODNjJGhXcqsLfkN1DBfTcc210PcQRcPk/Ddviaf+Gha47b94/5yjPEGinYCl4gGsUVbCAi+qkCLSEY3IrUxmQIS4j2ZkW0wgxBJTFMmJwFnzM3TIOiNya/MhZdzlhRRyUdbS68eZHhpEMuz0CLGWii0zw5IkeACdEuH0eLL0qGk7VwoUOiNX3SuUDEpH9JwIkyJqzMfMgYEiO4vjkse7v6osaI3mxikPNts/+PzYkR0HJ3QZblPjNejEBzYmw4I9NU/d0g7NgrS6VBSoOUBikNckODuMDO+NIgpUFKg5QG+dEgb9M3\",\"2023-03-19T16:41:01.7947583Z\"]}]}', extra='')\n"
     ]
    },
    {
     "name": "stdout",
     "output_type": "stream",
     "text": [
      "CarData.z 7Za9akMxDIXfRXMSJEv+kdfQN2iWlg6hBFood0izXe67J3GGLLfgKksuaJGN8cHy8eHDI7wMp+P34Rfq+wi70ydUCBh4jbwmfaVUhSriRotqlPQGK9juj5fdI9C1bL/2w3D4aQsIFVcQWuVWpdV4m1+HaWobTDox6gj/L6QmtN6Q5loVFOrRpq5DCaVJ23jvuFjfxOpRMKfAGoPAVqEhQLc7ZqOQreaINesxGltNc66yCnccmvv8mY9ssXl0kf6NK9qQqDIWx9UDuAo9b++4clw9C66EMC0TVxG15BwdVw/gisRx5bhaFK44LxNXJWhhh5UZVlz8b+WwWhasMD4vrD6mMw==\n",
      "Position.z 7ZQ/a8MwEMW/y8120elOf/fOLdRDm9IhlAymxCmxOxl/99pWCApNrzSzFiODfrx3T8cb4fHQt0N76CC+jtC0+10/bPefEEErTbWiGkODNjJGhXcqsLfkN1DBfTcc210PcQRcPk/Ddviaf+Gha47b94/5yjPEGinYCl4gGsUVbCAi+qkCLSEY3IrUxmQIS4j2ZkW0wgxBJTFMmJwFnzM3TIOiNya/MhZdzlhRRyUdbS68eZHhpEMuz0CLGWii0zw5IkeACdEuH0eLL0qGk7VwoUOiNX3SuUDEpH9JwIkyJqzMfMgYEiO4vjkse7v6osaI3mxikPNts/+PzYkR0HJ3QZblPjNejEBzYmw4I9NU/d0g7NgrS6VBSoOUBikNckODuMDO+NIgpUFKg5QG+dEgb9M3\n"
     ]
    },
    {
     "name": "stderr",
     "output_type": "stream",
     "text": [
      "DEBUG:signalr_async.client:Raw message received: WSMessage(type=<WSMsgType.TEXT: 1>, data='{}', extra='')\n",
      "DEBUG:signalr_async.client:Raw message received: WSMessage(type=<WSMsgType.TEXT: 1>, data='{\"C\":\"d-F23263D5-B,0|Df,0|Dg,11|d,9F|p,940|o,93F|a,1|Y,D|Dh,0|n,1|W,2|c,28|i,1|X,C|k,3|l,1|r,2|Z,1|s,59F\",\"M\":[{\"H\":\"Streaming\",\"M\":\"feed\",\"A\":[\"CarData.z\",\"7dSxasQwDAbgd9F8VyTZli2vR9+gXVo6HOWghZLhelvIu1/ON3QJxdWUUC1yCP6JrYhvhMfhcv48fUN9HeH58g4VGDnsMexJn0hqpIr8gKJZg7zADg7H87x7BLqVw8dxGE5f7QVCxR1wq6HV2Gq6P9+WaWobTLlozBH+PUgtaL0hLR01cO7KStdHCWOLtvXnxMX6T6w9YvMUWMeAgzVoGKD7HbMxGKzNidZZT8l4VFnqasQUOz6a+/qzPLLF1qM5+htXPHMl0bUya0WqybVyrTalVd6oVgk1c0nOlZkrScG1cq22pBVhz8iuUKuMKlrUtTJr1RV0q9yqtViFgbdpVRGVHN0qt8qt+i9WpbJaq96mKw==\",\"2023-03-19T16:41:02.8696749Z\"]},{\"H\":\"Streaming\",\"M\":\"feed\",\"A\":[\"Position.z\",\"7ZY9a8MwFEX/y5vtoPehzz1zC83QpnQIJYMpSUriTsH/vbEVglLSV5pZi7FBh3d1JQ4+wuPu0PXdbgvp9QiLbrM+9KvNJyQgQ9wabjEu0CXBZHAWo3gKS2hgvu333foA6Qg4Pp76Vf91+oSH7WK/ev84LXmG1CJH18ALJGukgSUkxDA0QBqC0U9Ia22BiIZQsBNCBgsEjcYIY04WQ8ncsRtUswmHiXHoS8apc0yeQ/YqW1AZyXPYlx2Q2gExn/dTInoFmBHy5XZIPVG2kqPFqzmsRqPznCtEbfqXBrw6xsaJOb0UDKsV3L45ome7eaLWqtlcZlDK2+b+X5tXK+Bx7YiMl/vCBLUCksy4eEGGoflLIDRjL84brgapBqkGqQa5wyA2imNX/0GqQapBqkHuMUhkscFiNUg1SDVINchPg7wN3w==\",\"2023-03-19T16:41:02.9345851Z\"]}]}', extra='')\n"
     ]
    },
    {
     "name": "stdout",
     "output_type": "stream",
     "text": [
      "CarData.z 7dSxasQwDAbgd9F8VyTZli2vR9+gXVo6HOWghZLhelvIu1/ON3QJxdWUUC1yCP6JrYhvhMfhcv48fUN9HeH58g4VGDnsMexJn0hqpIr8gKJZg7zADg7H87x7BLqVw8dxGE5f7QVCxR1wq6HV2Gq6P9+WaWobTLlozBH+PUgtaL0hLR01cO7KStdHCWOLtvXnxMX6T6w9YvMUWMeAgzVoGKD7HbMxGKzNidZZT8l4VFnqasQUOz6a+/qzPLLF1qM5+htXPHMl0bUya0WqybVyrTalVd6oVgk1c0nOlZkrScG1cq22pBVhz8iuUKuMKlrUtTJr1RV0q9yqtViFgbdpVRGVHN0qt8qt+i9WpbJaq96mKw==\n",
      "Position.z 7ZY9a8MwFEX/y5vtoPehzz1zC83QpnQIJYMpSUriTsH/vbEVglLSV5pZi7FBh3d1JQ4+wuPu0PXdbgvp9QiLbrM+9KvNJyQgQ9wabjEu0CXBZHAWo3gKS2hgvu333foA6Qg4Pp76Vf91+oSH7WK/ev84LXmG1CJH18ALJGukgSUkxDA0QBqC0U9Ia22BiIZQsBNCBgsEjcYIY04WQ8ncsRtUswmHiXHoS8apc0yeQ/YqW1AZyXPYlx2Q2gExn/dTInoFmBHy5XZIPVG2kqPFqzmsRqPznCtEbfqXBrw6xsaJOb0UDKsV3L45ome7eaLWqtlcZlDK2+b+X5tXK+Bx7YiMl/vCBLUCksy4eEGGoflLIDRjL84brgapBqkGqQa5wyA2imNX/0GqQapBqkHuMUhkscFiNUg1SDVINchPg7wN3w==\n"
     ]
    },
    {
     "name": "stderr",
     "output_type": "stream",
     "text": [
      "DEBUG:signalr_async.client:Raw message received: WSMessage(type=<WSMsgType.TEXT: 1>, data='{\"C\":\"d-F23263D5-B,0|Df,0|Dg,11|d,A0|p,940|o,93F|a,1|Y,D|Dh,0|n,1|W,2|c,28|i,1|X,C|k,3|l,1|r,2|Z,1|s,59F\",\"M\":[{\"H\":\"Streaming\",\"M\":\"feed\",\"A\":[\"Heartbeat\",{\"Utc\":\"2023-03-19T16:41:05.8751639Z\",\"_kf\":true},\"2023-03-19T16:41:05.382Z\"]}]}', extra='')\n",
      "DEBUG:signalr_async.client:Raw message received: WSMessage(type=<WSMsgType.TEXT: 1>, data='{\"C\":\"d-F23263D5-B,0|Df,0|Dg,11|d,A0|p,940|o,940|a,1|Y,D|Dh,0|n,1|W,2|c,28|i,1|X,C|k,3|l,1|r,2|Z,1|s,59F\",\"M\":[{\"H\":\"Streaming\",\"M\":\"feed\",\"A\":[\"Position.z\",\"7ZQ7a8NAEIT/y9ZSuH3cs0+dQFwkDilMcCGC7WArldF/j6Qz5hycDXF9jTjBfczs3DJHeNwdur7bbSG9HmHRbdaHfrX5hARkiFvDLcYFuiSYDN+hFWvRL6GB+22/79YHSEfA6fPUr/qv8Rcetov96v1jvPIMqUWOroEXSNZIA0tIiGFogDQEo5+R1toCEQ2hYGeEDBYIGo0RxuwshpK5YRpUvQmHmXHoS8apOibrkL3wFlRGsg77MgNSMyDm0zwlokeAGSFfjkPqi7KVbC1e6LBqjU46F4ia9C8JeFXGxpkZDwXDagTXN0d0b1df1FrVm8sMSrlt7v+xeTUCnu5OyLTcZyaoEZBkxsUzMgzN3w3CKJa81AapDVIbpDbIDQ3ixlkChtogtUFqg9QG+dkgb8M3\",\"2023-03-19T16:41:03.6144818Z\"]}]}', extra='')\n",
      "DEBUG:signalr_async.client:Raw message received: WSMessage(type=<WSMsgType.TEXT: 1>, data='{\"C\":\"d-F23263D5-B,0|Df,0|Dg,11|d,A0|p,941|o,940|a,1|Y,D|Dh,0|n,1|W,2|c,28|i,1|X,C|k,3|l,1|r,2|Z,1|s,59F\",\"M\":[{\"H\":\"Streaming\",\"M\":\"feed\",\"A\":[\"CarData.z\",\"7ZSxCsIwEIbf5eZW7nKXpMlafANdFIcigoJ0qN1K311NB5ci9SbFLJcS8tHLn+MbYN323eV0g7gfYNsfIYJBwyVySWFDLgpF5BVVwRm/gwLqpnscHoCepT43bXu6pg2EiAWYVDlVSdVO389lHNMBFSdKjvBzkBKovSGpW3WLQEJJaFpf7VbaB9EGZNQjoJ0Bw1pQ8STTHb0SZG04op0ea5WturlUBYNd8FO/LJ/5ka10GT3Qd6piCQ7ZZldlV2VX/YeriN1vuspKsF4ouyq7KrvqP1yF7L/WVYfxDg==\",\"2023-03-19T16:41:03.5495741Z\"]}]}', extra='')\n"
     ]
    },
    {
     "name": "stdout",
     "output_type": "stream",
     "text": [
      "Heartbeat {'Utc': '2023-03-19T16:41:05.8751639Z', '_kf': True}\n",
      "Position.z 7ZQ7a8NAEIT/y9ZSuH3cs0+dQFwkDilMcCGC7WArldF/j6Qz5hycDXF9jTjBfczs3DJHeNwdur7bbSG9HmHRbdaHfrX5hARkiFvDLcYFuiSYDN+hFWvRL6GB+22/79YHSEfA6fPUr/qv8Rcetov96v1jvPIMqUWOroEXSNZIA0tIiGFogDQEo5+R1toCEQ2hYGeEDBYIGo0RxuwshpK5YRpUvQmHmXHoS8apOibrkL3wFlRGsg77MgNSMyDm0zwlokeAGSFfjkPqi7KVbC1e6LBqjU46F4ia9C8JeFXGxpkZDwXDagTXN0d0b1df1FrVm8sMSrlt7v+xeTUCnu5OyLTcZyaoEZBkxsUzMgzN3w3CKJa81AapDVIbpDbIDQ3ixlkChtogtUFqg9QG+dkgb8M3\n",
      "CarData.z 7ZSxCsIwEIbf5eZW7nKXpMlafANdFIcigoJ0qN1K311NB5ci9SbFLJcS8tHLn+MbYN323eV0g7gfYNsfIYJBwyVySWFDLgpF5BVVwRm/gwLqpnscHoCepT43bXu6pg2EiAWYVDlVSdVO389lHNMBFSdKjvBzkBKovSGpW3WLQEJJaFpf7VbaB9EGZNQjoJ0Bw1pQ8STTHb0SZG04op0ea5WturlUBYNd8FO/LJ/5ka10GT3Qd6piCQ7ZZldlV2VX/YeriN1vuspKsF4ouyq7KrvqP1yF7L/WVYfxDg==\n"
     ]
    },
    {
     "name": "stderr",
     "output_type": "stream",
     "text": [
      "DEBUG:signalr_async.client:Raw message received: WSMessage(type=<WSMsgType.TEXT: 1>, data='{\"C\":\"d-F23263D5-B,0|Df,0|Dg,11|d,A0|p,942|o,941|a,1|Y,D|Dh,0|n,1|W,2|c,28|i,1|X,C|k,3|l,1|r,2|Z,1|s,59F\",\"M\":[{\"H\":\"Streaming\",\"M\":\"feed\",\"A\":[\"CarData.z\",\"7ZSxCsIwEIbf5eZWLpdL0mQtvoEuioNIQUE6aLfSd7fGwaVIvUWkt1xKyUcuf46vh3Xb3S7NHdK+h213ggSEZEu0pYkb4xObhLxCig7J76CA+ngbd/dgnqU+H9u2ueYfCAkLoFxtrpyre30/l2HIG0QcCzmD34Mmg9IbGnGrfhZokDOa13e7lfRBpAGReASkM0BWCgqe5HXHIAStNByWTo9zwlb9VKqMjmYcGublMz2ylSyjEf3kKqLIgaK6Sl2lrlqKq+J/uop9ZBtYXaWuUlctxFXW/6er/OgqDJW6Sl2lrlqIq2jOob9x1WF4AA==\",\"2023-03-19T16:41:04.6694078Z\"]},{\"H\":\"Streaming\",\"M\":\"feed\",\"A\":[\"Position.z\",\"7ZS7asNAEEX/ZWrJ7OzMPnvXCcRF4pDCBBci2A62Uhn9e/QwZh2cCVE9jZBgD3f27uqc4fFwatrmsIf8eoZVs9ue2s3uEzJYY6k2VGNaoc+M2dAiITN5u4YKlvv22GxPkM+Aw+Op3bRf/Sc87FfHzftHv+QZco2UfAUvkJ3hCtaQEWNXgZUQTGFEaucKhCXERjci1mCBoJEYJpwmS7FkZuwGxdmY4sh4DCXjxRwz5Vh3M1sUGZ5yKJQdWLEDS3TZT4nIFeCE2FBux4onSo6n0dJNDomj2UvODSI2/UsDQYxxaWT6l4IhsYL7N4fl2e6eqHPibH5i+r+uYPz/awtiBTSsHZDhcl+ZKFZgeWJ8uiJdV/1lEF5g4P4fCmoQNYgaRA0ywyBMTC6gGkQNogZRg8wwiEtMZKMaRA2iBlGDzDBIJO5jSA2iBlGDqEF+GuSt+wY=\",\"2023-03-19T16:41:04.8342963Z\"]}]}', extra='')\n"
     ]
    },
    {
     "name": "stdout",
     "output_type": "stream",
     "text": [
      "CarData.z 7ZSxCsIwEIbf5eZWLpdL0mQtvoEuioNIQUE6aLfSd7fGwaVIvUWkt1xKyUcuf46vh3Xb3S7NHdK+h213ggSEZEu0pYkb4xObhLxCig7J76CA+ngbd/dgnqU+H9u2ueYfCAkLoFxtrpyre30/l2HIG0QcCzmD34Mmg9IbGnGrfhZokDOa13e7lfRBpAGReASkM0BWCgqe5HXHIAStNByWTo9zwlb9VKqMjmYcGublMz2ylSyjEf3kKqLIgaK6Sl2lrlqKq+J/uop9ZBtYXaWuUlctxFXW/6er/OgqDJW6Sl2lrlqIq2jOob9x1WF4AA==\n",
      "Position.z 7ZS7asNAEEX/ZWrJ7OzMPnvXCcRF4pDCBBci2A62Uhn9e/QwZh2cCVE9jZBgD3f27uqc4fFwatrmsIf8eoZVs9ue2s3uEzJYY6k2VGNaoc+M2dAiITN5u4YKlvv22GxPkM+Aw+Op3bRf/Sc87FfHzftHv+QZco2UfAUvkJ3hCtaQEWNXgZUQTGFEaucKhCXERjci1mCBoJEYJpwmS7FkZuwGxdmY4sh4DCXjxRwz5Vh3M1sUGZ5yKJQdWLEDS3TZT4nIFeCE2FBux4onSo6n0dJNDomj2UvODSI2/UsDQYxxaWT6l4IhsYL7N4fl2e6eqHPibH5i+r+uYPz/awtiBTSsHZDhcl+ZKFZgeWJ8uiJdV/1lEF5g4P4fCmoQNYgaRA0ywyBMTC6gGkQNogZRg8wwiEtMZKMaRA2iBlGDzDBIJO5jSA2iBlGDqEF+GuSt+wY=\n"
     ]
    },
    {
     "name": "stderr",
     "output_type": "stream",
     "text": [
      "DEBUG:signalr_async.client:Raw message received: WSMessage(type=<WSMsgType.TEXT: 1>, data='{\"C\":\"d-F23263D5-B,0|Df,0|Dg,11|d,A0|p,943|o,942|a,1|Y,D|Dh,0|n,1|W,2|c,28|i,1|X,C|k,3|l,1|r,2|Z,1|s,59F\",\"M\":[{\"H\":\"Streaming\",\"M\":\"feed\",\"A\":[\"CarData.z\",\"7ZS/CsIwEIff5WaV+5e0ySq+gS6Kg4igIB3UrfTdrXFwEak3Kb3lUko+cvnl+FpYNLfL6XCFvGlhddtDBkaWKcqU0pJiVsoYZhiTaBXXMIH57tLvboEeZX7cNc3hXH4gZJwAlyqlaqnh+f1Yuq5sMHFq5Ai/B6mA1huSudU4CCTUgpb11W5tfRBrQGweAesMsFhBw5M871gZQbGGo9bpCcHYanyXqvYWGHBoNSyf9yNb2zLq0U+uYk7CktxV7ip31ShcJSnQf7oqcuKolbvKXeWuGoWrFMOQQ3/QVQkTM9fuKneVu2okrorhZ1217e4=\",\"2023-03-19T16:41:05.9092228Z\"]},{\"H\":\"Streaming\",\"M\":\"feed\",\"A\":[\"Position.z\",\"7ZY9a8MwEIb/y8120Z1On3vnFuqhTelgSgZTkpTEnYz/e20rBJmmV5pZi7GFHu706njwAI+HU9d3hz3E1wGabrc99e3uEyKQIl0rXWNo0EbGqMydQiYbNlDB/b4/dtsTxAFwfjz1bf81fcLDvjm27x/TlmeINepgK3iBaBRXsIGI6McKSEIwuAWpjckQlhDyZkFIYYagkhjWmDoLPmduOA2KvbH2C2PR5YwV66hUh8yqNy8ynOpol2dAYgak9fk8OSJHgAkhlx+HxBvVhlNrYVVHi63Ruc4KEZP+JQEnljFhYaaXjNFiBNcnh+Xert6oMWJvNjHI+bTZ/8fmxAj0vHdG5uG+MF6MgDgxNlyQcaz+FggbnpaxGKQYpBikGOQGg1hkdM4XgxSDFIMUg9xgEB/MNA3lH6QYpBikGOSHQd7Gbw==\",\"2023-03-19T16:41:05.8951351Z\"]}]}', extra='')\n",
      "DEBUG:signalr_async.client:Connection keepalive\n",
      "DEBUG:signalr_async.client:Sending: message_content='{}', is_binary=False\n"
     ]
    },
    {
     "name": "stdout",
     "output_type": "stream",
     "text": [
      "CarData.z 7ZS/CsIwEIff5WaV+5e0ySq+gS6Kg4igIB3UrfTdrXFwEak3Kb3lUko+cvnl+FpYNLfL6XCFvGlhddtDBkaWKcqU0pJiVsoYZhiTaBXXMIH57tLvboEeZX7cNc3hXH4gZJwAlyqlaqnh+f1Yuq5sMHFq5Ai/B6mA1huSudU4CCTUgpb11W5tfRBrQGweAesMsFhBw5M871gZQbGGo9bpCcHYanyXqvYWGHBoNSyf9yNb2zLq0U+uYk7CktxV7ip31ShcJSnQf7oqcuKolbvKXeWuGoWrFMOQQ3/QVQkTM9fuKneVu2okrorhZ1217e4=\n",
      "Position.z 7ZY9a8MwEIb/y8120Z1On3vnFuqhTelgSgZTkpTEnYz/e20rBJmmV5pZi7GFHu706njwAI+HU9d3hz3E1wGabrc99e3uEyKQIl0rXWNo0EbGqMydQiYbNlDB/b4/dtsTxAFwfjz1bf81fcLDvjm27x/TlmeINepgK3iBaBRXsIGI6McKSEIwuAWpjckQlhDyZkFIYYagkhjWmDoLPmduOA2KvbH2C2PR5YwV66hUh8yqNy8ynOpol2dAYgak9fk8OSJHgAkhlx+HxBvVhlNrYVVHi63Ruc4KEZP+JQEnljFhYaaXjNFiBNcnh+Xert6oMWJvNjHI+bTZ/8fmxAj0vHdG5uG+MF6MgDgxNlyQcaz+FggbnpaxGKQYpBikGOQGg1hkdM4XgxSDFIMUg9xgEB/MNA3lH6QYpBikGOSHQd7Gbw==\n"
     ]
    },
    {
     "name": "stderr",
     "output_type": "stream",
     "text": [
      "DEBUG:signalr_async.client:Raw message received: WSMessage(type=<WSMsgType.TEXT: 1>, data='{\"C\":\"d-F23263D5-B,0|Df,0|Dg,11|d,A0|p,944|o,943|a,1|Y,D|Dh,0|n,1|W,2|c,28|i,1|X,C|k,3|l,1|r,2|Z,1|s,59F\",\"M\":[{\"H\":\"Streaming\",\"M\":\"feed\",\"A\":[\"CarData.z\",\"7Zi/CsJADIffJXOVJPf/VvENdFEciggK0kG7lb679RxcRGomS7PkSrmP5n4XvqEdrJv2djndIe872LZHyMDIZoFmQWlDPlvK6JdESIn9DipY1bdhdwf0LKtz3TSna3mBkLECLtWUakt1r+fn0vdlg4izQo7wd5AKKD0hiVv1o0BCW9CyvtuN0guRBsTiEZDOABspKLiS1xmDEDTScKx0epwTtuo/pWox+hEfDePy+TyyUZbRgH5zFQckn0hdpa5SV83CVSbFME1XOYfEIamr1FXqqlm4yiJP1FXBIabo1FXqKnXVTFxFbpquSoOrfNT/VeoqddVcXMXxb1116B8=\",\"2023-03-19T16:41:06.9500686Z\"]},{\"H\":\"Streaming\",\"M\":\"feed\",\"A\":[\"Position.z\",\"7ZZNa8MwDIb/i87JsCR/xL7vvMF62Dp2KKOHMJqONjuV/PclcSnu6DSWsy4hAT9Ieu08+ASP+2Pbt/sO0usJVu1ue+w3u09IQIa4NlxjXKFPFpPxdyY4NCGsoYL7rj+02yOkE+D0eOo3/df4CQ/d6rB5/xiXPEOqkaOv4AWSM7aCNSTEZqiAJARjmJHauQKxEkKNmxEyWCBoJMYy5s5iUzILpkGxN8vNzHgMJePFOibXIXfVWyMyNtfhUGZAYgbEfJ6nROQIMCMUynFI3FF2NrcWr+qw2Bqd61whYtK/JBDEMi7OzPhSMCxGcPvkWLm3mzvqnNibzwza8rT5/8cWxAh4Wjsh0+G+MI0YAdnM+HhBhqH62yAU3CgQVoOoQdQgapAFBrFx/HU4qkHUIGoQNcgCg4TxDmJQ7yBqEDWIGmSJQaKzMVgViApEBaIC+SmQt+Eb\",\"2023-03-19T16:41:06.954974Z\"]}]}', extra='')\n"
     ]
    },
    {
     "name": "stdout",
     "output_type": "stream",
     "text": [
      "CarData.z 7Zi/CsJADIffJXOVJPf/VvENdFEciggK0kG7lb679RxcRGomS7PkSrmP5n4XvqEdrJv2djndIe872LZHyMDIZoFmQWlDPlvK6JdESIn9DipY1bdhdwf0LKtz3TSna3mBkLECLtWUakt1r+fn0vdlg4izQo7wd5AKKD0hiVv1o0BCW9CyvtuN0guRBsTiEZDOABspKLiS1xmDEDTScKx0epwTtuo/pWox+hEfDePy+TyyUZbRgH5zFQckn0hdpa5SV83CVSbFME1XOYfEIamr1FXqqlm4yiJP1FXBIabo1FXqKnXVTFxFbpquSoOrfNT/VeoqddVcXMXxb1116B8=\n",
      "Position.z 7ZZNa8MwDIb/i87JsCR/xL7vvMF62Dp2KKOHMJqONjuV/PclcSnu6DSWsy4hAT9Ieu08+ASP+2Pbt/sO0usJVu1ue+w3u09IQIa4NlxjXKFPFpPxdyY4NCGsoYL7rj+02yOkE+D0eOo3/df4CQ/d6rB5/xiXPEOqkaOv4AWSM7aCNSTEZqiAJARjmJHauQKxEkKNmxEyWCBoJMYy5s5iUzILpkGxN8vNzHgMJePFOibXIXfVWyMyNtfhUGZAYgbEfJ6nROQIMCMUynFI3FF2NrcWr+qw2Bqd61whYtK/JBDEMi7OzPhSMCxGcPvkWLm3mzvqnNibzwza8rT5/8cWxAh4Wjsh0+G+MI0YAdnM+HhBhqH62yAU3CgQVoOoQdQgapAFBrFx/HU4qkHUIGoQNcgCg4TxDmJQ7yBqEDWIGmSJQaKzMVgViApEBaIC+SmQt+Eb\n"
     ]
    },
    {
     "name": "stderr",
     "output_type": "stream",
     "text": [
      "DEBUG:signalr_async.client:Raw message received: WSMessage(type=<WSMsgType.TEXT: 1>, data='{\"C\":\"d-F23263D5-B,0|Df,0|Dg,11|d,A0|p,945|o,944|a,1|Y,D|Dh,0|n,1|W,2|c,28|i,1|X,C|k,3|l,1|r,2|Z,1|s,59F\",\"M\":[{\"H\":\"Streaming\",\"M\":\"feed\",\"A\":[\"CarData.z\",\"7ZS/DoIwEIff5WYwd73SfyvxDXTROBBDoolhQDbCuwtlcCEGb9LQ5UqafuH66+XrYd907b1+Qjj3cOyuEECh4hw5J38gEzQFtDsqENmZE2RQVu14ugeaSnmrmqZ+xA2EgBmoWDlWHWsxf0/LMMQDIk4LOcLvQYqg9IYkbtWsAgl1ROP6btdJH0QakBKPgHQGFEtBwZPMd7RCkKXhaOn0FIWwVbOUqkZlV/zUrstneWSdLKMR/eQqbbz3pJKrkquSqzbiKs3/6SqnvGfrkquSq5KrNuEq9t78rKsuwws=\",\"2023-03-19T16:41:07.8299378Z\"]},{\"H\":\"Streaming\",\"M\":\"feed\",\"A\":[\"Position.z\",\"7ZQ/a8MwEMW/y8120elOf/fOLdRDm9IhlAymxCmxOxl/99pWCEpJrzSzFiODfrx3T8cb4fHQt0N76CC+jtC0+10/bPefEEErTbWiGkODNjJG5e7QcGCyG6jgvhuO7a6HOAIun6dhO3zNv/DQNcft+8d85RlijRRsBS8QjeIKNhAR/VSBlhAMbkVqYzKEJUR7syJaYYagkhgmTM6Cz5kbpkHRG5NfGYsuZ6yoo5KONhfevMhw0iGXZ6DFDDTRaZ4ckSPAhGiXj6PFFyXDyVq40CHRmj7pXCBi0r8k4EQZE1ZmPmQMiRFc3xyWvV19UWNEbzYxyPm22f/H5sQIaLm7IMtynxkvRqA5MTackWmq/m4QchxQYWmQ0iClQUqD3NAgLrBnS6VBSoOUBikN8rNB3qZv\",\"2023-03-19T16:41:07.7948463Z\"]}]}', extra='')\n"
     ]
    },
    {
     "name": "stdout",
     "output_type": "stream",
     "text": [
      "CarData.z 7ZS/DoIwEIff5WYwd73SfyvxDXTROBBDoolhQDbCuwtlcCEGb9LQ5UqafuH66+XrYd907b1+Qjj3cOyuEECh4hw5J38gEzQFtDsqENmZE2RQVu14ugeaSnmrmqZ+xA2EgBmoWDlWHWsxf0/LMMQDIk4LOcLvQYqg9IYkbtWsAgl1ROP6btdJH0QakBKPgHQGFEtBwZPMd7RCkKXhaOn0FIWwVbOUqkZlV/zUrstneWSdLKMR/eQqbbz3pJKrkquSqzbiKs3/6SqnvGfrkquSq5KrNuEq9t78rKsuwws=\n",
      "Position.z 7ZQ/a8MwEMW/y8120elOf/fOLdRDm9IhlAymxCmxOxl/99pWCEpJrzSzFiODfrx3T8cb4fHQt0N76CC+jtC0+10/bPefEEErTbWiGkODNjJG5e7QcGCyG6jgvhuO7a6HOAIun6dhO3zNv/DQNcft+8d85RlijRRsBS8QjeIKNhAR/VSBlhAMbkVqYzKEJUR7syJaYYagkhgmTM6Cz5kbpkHRG5NfGYsuZ6yoo5KONhfevMhw0iGXZ6DFDDTRaZ4ckSPAhGiXj6PFFyXDyVq40CHRmj7pXCBi0r8k4EQZE1ZmPmQMiRFc3xyWvV19UWNEbzYxyPm22f/H5sQIaLm7IMtynxkvRqA5MTackWmq/m4QchxQYWmQ0iClQUqD3NAgLrBnS6VBSoOUBikN8rNB3qZv\n"
     ]
    },
    {
     "name": "stderr",
     "output_type": "stream",
     "text": [
      "DEBUG:signalr_async.client:Raw message received: WSMessage(type=<WSMsgType.TEXT: 1>, data='{\"C\":\"d-F23263D5-B,0|Df,0|Dg,11|d,A0|p,946|o,945|a,1|Y,D|Dh,0|n,1|W,2|c,28|i,1|X,C|k,3|l,1|r,2|Z,1|s,59F\",\"M\":[{\"H\":\"Streaming\",\"M\":\"feed\",\"A\":[\"CarData.z\",\"7ZbBCsIwDIbfJWcnTZqtaa/iG+hF8SAyUJAdprexd3eLBy8iMydlvaSl5Kfpn/DRDtbNvb3UN0j7Drb3EyQgR75wvsC4wSoxJidLqqIElB0sYHVsh+wOcAyr87Fp6qseOEhuAaTRa2SN5XM/Ln2vCSYdG3XovheiCq0vRHOp1SQhOlaprq9yxdoQq0FkHgHrDJC3Cg0teb4xGIXeag5bp6csjaVW71xlxzTh0jDNn/cjKzaPBuknVjFFYaHMqsyqzKqZsCr4/2SVUAwi+V+VWZVZNQ9W+Vj+7r/q0D8A\",\"2023-03-19T16:41:08.8297888Z\"]},{\"H\":\"Streaming\",\"M\":\"feed\",\"A\":[\"Position.z\",\"7ZY9a8MwEIb/y8120OlOn3vnFpqhTekQSgZTmpTEnYL/e2MrBKWkV+r5FmODHu7VK/HgIzzsDl3f7baQX46w7D42h3798QkZrLHUGmoxLdFnxmzCIiaOhLiCBu62/b7bHCAfAcfHY7/uv06fcL9d7tdv76clT5BbpOQbeIbsDDewgowYhwashGAKE9I6VyEsITa6CbEGKwSNxDBhSZZizczYDYrZmOLEeAw148U5psyx7ipbFBkucyjUHVixA0t03k+NyBVgQWyot2PFEyXHJVq6mkNiNHuec4WITf/SQBDHuDQxp5eKIbGC2zeH5Ww3T9Q5MZsvDHJ92/z/awtiBTSuHZHxcl+YKFZguTA+XZBhaP4ySFxg4hCdU4OoQdQgapAZBqHAwUX9B1GDqEHUIHMM4pGDRa8GUYOoQdQgMwwSiX2MVg2iBlGDqEF+GuR1+AY=\",\"2023-03-19T16:41:08.8346882Z\"]}]}', extra='')\n"
     ]
    },
    {
     "name": "stdout",
     "output_type": "stream",
     "text": [
      "CarData.z 7ZbBCsIwDIbfJWcnTZqtaa/iG+hF8SAyUJAdprexd3eLBy8iMydlvaSl5Kfpn/DRDtbNvb3UN0j7Drb3EyQgR75wvsC4wSoxJidLqqIElB0sYHVsh+wOcAyr87Fp6qseOEhuAaTRa2SN5XM/Ln2vCSYdG3XovheiCq0vRHOp1SQhOlaprq9yxdoQq0FkHgHrDJC3Cg0teb4xGIXeag5bp6csjaVW71xlxzTh0jDNn/cjKzaPBuknVjFFYaHMqsyqzKqZsCr4/2SVUAwi+V+VWZVZNQ9W+Vj+7r/q0D8A\n",
      "Position.z 7ZY9a8MwEIb/y8120OlOn3vnFpqhTekQSgZTmpTEnYL/e2MrBKWkV+r5FmODHu7VK/HgIzzsDl3f7baQX46w7D42h3798QkZrLHUGmoxLdFnxmzCIiaOhLiCBu62/b7bHCAfAcfHY7/uv06fcL9d7tdv76clT5BbpOQbeIbsDDewgowYhwashGAKE9I6VyEsITa6CbEGKwSNxDBhSZZizczYDYrZmOLEeAw148U5psyx7ipbFBkucyjUHVixA0t03k+NyBVgQWyot2PFEyXHJVq6mkNiNHuec4WITf/SQBDHuDQxp5eKIbGC2zeH5Ww3T9Q5MZsvDHJ92/z/awtiBTSuHZHxcl+YKFZguTA+XZBhaP4ySFxg4hCdU4OoQdQgapAZBqHAwUX9B1GDqEHUIHMM4pGDRa8GUYOoQdQgMwwSiX2MVg2iBlGDqEF+GuR1+AY=\n"
     ]
    },
    {
     "name": "stderr",
     "output_type": "stream",
     "text": [
      "DEBUG:signalr_async.client:Raw message received: WSMessage(type=<WSMsgType.TEXT: 1>, data='{\"C\":\"d-F23263D5-B,0|Df,0|Dg,11|d,A0|p,947|o,946|a,1|Y,D|Dh,0|n,1|W,2|c,28|i,1|X,C|k,3|l,1|r,2|Z,1|s,59F\",\"M\":[{\"H\":\"Streaming\",\"M\":\"feed\",\"A\":[\"CarData.z\",\"7Ze/CsJADIffJXMryV3u7yq+gS6Kg0hBQTqoW+m7W8/BpUjNpDRLrpT7aO534YN2sGrv13Nzg7zrYHM/QgaDxtZoa0pr8pkpY1pQTMFy3EIFy8N12N0BPcvydGjb5lJeIGSswJRqS+VS3ev5ufR92SDiWMgRfg9SAaUnJHGrfhJIyAUt67vdKL0QaUBGPALSGTBWCgqu5HXGIAStNByWTo9zwlb9WKqMzBM+GqblMz6yUZbRgH5ylR1chY7VVeoqddVMXIX0n65yMfngVVWqKlXVTFRl/X+qKprkGfUXUF2lrpqLqzD8rKv2/QM=\",\"2023-03-19T16:41:09.8296408Z\"]},{\"H\":\"Streaming\",\"M\":\"feed\",\"A\":[\"Position.z\",\"7ZQ9b4MwEIb/y80Q+ezz5565lcrQpuqAqgyoCqkCnRD/vYCjyFTpVWX2gkDyo3v92jwDPJ67pm/OLYTXAarmdOz6+vQJAaSQqhSqRF+hCYRBuJ3XZOwBCti3/aU5dhAGwPnx1Nf91/QJD211qd8/piXPEEpU3hTwAkELKuAAAdGNBUgOQW8XpNQ6QYhDpNMLIgUmCAqOIYUxmXcps2E3yGYj5RbGoE0Zw84RcY7Uq2yOZSjOUTbtQLIdSKWu+0kRvgKMiLTpdiR7okpTjOZXcxQbTV7nrBC26V8asOwY7RdmekkYxVZw/+YQn+3uiWrNZjORQUpvm/l/bZatQM1rZ2S+3DfGsRVIiozxN2Qci7/84Xc4+WP6ibJBskGyQbJBNhiEkLI+sj6yPrI+tujDatLkKBskGyQbJBvkp0Hexm8=\",\"2023-03-19T16:41:09.7545484Z\"]}]}', extra='')\n"
     ]
    },
    {
     "name": "stdout",
     "output_type": "stream",
     "text": [
      "CarData.z 7Ze/CsJADIffJXMryV3u7yq+gS6Kg0hBQTqoW+m7W8/BpUjNpDRLrpT7aO534YN2sGrv13Nzg7zrYHM/QgaDxtZoa0pr8pkpY1pQTMFy3EIFy8N12N0BPcvydGjb5lJeIGSswJRqS+VS3ev5ufR92SDiWMgRfg9SAaUnJHGrfhJIyAUt67vdKL0QaUBGPALSGTBWCgqu5HXGIAStNByWTo9zwlb9WKqMzBM+GqblMz6yUZbRgH5ylR1chY7VVeoqddVMXIX0n65yMfngVVWqKlXVTFRl/X+qKprkGfUXUF2lrpqLqzD8rKv2/QM=\n",
      "Position.z 7ZQ9b4MwEIb/y80Q+ezz5565lcrQpuqAqgyoCqkCnRD/vYCjyFTpVWX2gkDyo3v92jwDPJ67pm/OLYTXAarmdOz6+vQJAaSQqhSqRF+hCYRBuJ3XZOwBCti3/aU5dhAGwPnx1Nf91/QJD211qd8/piXPEEpU3hTwAkELKuAAAdGNBUgOQW8XpNQ6QYhDpNMLIgUmCAqOIYUxmXcps2E3yGYj5RbGoE0Zw84RcY7Uq2yOZSjOUTbtQLIdSKWu+0kRvgKMiLTpdiR7okpTjOZXcxQbTV7nrBC26V8asOwY7RdmekkYxVZw/+YQn+3uiWrNZjORQUpvm/l/bZatQM1rZ2S+3DfGsRVIiozxN2Qci7/84Xc4+WP6ibJBskGyQbJBNhiEkLI+sj6yPrI+tujDatLkKBskGyQbJBvkp0Hexm8=\n"
     ]
    },
    {
     "name": "stderr",
     "output_type": "stream",
     "text": [
      "DEBUG:signalr_async.client:Connection keepalive\n",
      "DEBUG:signalr_async.client:Sending: message_content='{}', is_binary=False\n",
      "DEBUG:signalr_async.client:Raw message received: WSMessage(type=<WSMsgType.TEXT: 1>, data='{\"C\":\"d-F23263D5-B,0|Df,0|Dg,11|d,A0|p,948|o,947|a,1|Y,D|Dh,0|n,1|W,2|c,28|i,1|X,C|k,3|l,1|r,2|Z,1|s,59F\",\"M\":[{\"H\":\"Streaming\",\"M\":\"feed\",\"A\":[\"CarData.z\",\"7Za/CsIwEIff5eZW7pJc/q3iG+iiOIgUFKSDupW+uzUOLkXqTUpvuZSSj15+OT7awaq9X8/NDfKug839CBkMGlujrSmtyWdHmXBhTOKIcQsVLA/XYXcH9CzL06Ftm0t5gZCxAlOqLdWVyq/n59L3ZYOIc0KO8HuQCig9IYlb9ZNAQlfQsr7bjdILkQZkxCMgnQFjpaDgSl5nDELQSsNx0ulhFrbqx1J16Kd8NEzLZ3xkoyyjAf3kKhsTcyB1lbpKXTUTV1n+T1fx4CoTWF2lrlJXzcRVFP7TVcklF6xXV6mr1FVzcdXv/lft+wc=\",\"2023-03-19T16:41:10.9494736Z\"]},{\"H\":\"Streaming\",\"M\":\"feed\",\"A\":[\"Position.z\",\"7ZRNS8NAEIb/y5wT2fnYz7tnBXvQiociPQRpK208lfx3k2wpW6wj9ryXkMA+zDtvlucIj7tD13e7LaTXIyy6zfrQrzafkIAMcWu4xbhAlwQTmjuDYk0IS2jgftvvu/UB0hFwejz1q/5r/ISH7WK/ev8YjzxDapGja+AFkjXSwBISYhgaIA3B6GektbZAREMo2BkhgwWCRmOEMSeLoWRu2AbVbMJhZhz6knHqHJPnkL3IFlRG8hz2ZQekdkDMp31KRK8AM0K+XIfUP8pWcrR4MYfVaHSac4GoTf/SgFfH2Dgz40vBsFrB9Zsjerarf9RaNZvLDEp529z/a/NqBTydnZDpcp+ZoFZAkhkXz8gwNH8bBKNIQFsNUg1SDVINcoNBZNxFAlWDVINUg1SD3GAQzyLGVINUg1SDVIP8MMjb8A0=\",\"2023-03-19T16:41:10.7344002Z\"]}]}', extra='')\n"
     ]
    },
    {
     "name": "stdout",
     "output_type": "stream",
     "text": [
      "CarData.z 7Za/CsIwEIff5eZW7pJc/q3iG+iiOIgUFKSDupW+uzUOLkXqTUpvuZSSj15+OT7awaq9X8/NDfKug839CBkMGlujrSmtyWdHmXBhTOKIcQsVLA/XYXcH9CzL06Ftm0t5gZCxAlOqLdWVyq/n59L3ZYOIc0KO8HuQCig9IYlb9ZNAQlfQsr7bjdILkQZkxCMgnQFjpaDgSl5nDELQSsNx0ulhFrbqx1J16Kd8NEzLZ3xkoyyjAf3kKhsTcyB1lbpKXTUTV1n+T1fx4CoTWF2lrlJXzcRVFP7TVcklF6xXV6mr1FVzcdXv/lft+wc=\n",
      "Position.z 7ZRNS8NAEIb/y5wT2fnYz7tnBXvQiociPQRpK208lfx3k2wpW6wj9ryXkMA+zDtvlucIj7tD13e7LaTXIyy6zfrQrzafkIAMcWu4xbhAlwQTmjuDYk0IS2jgftvvu/UB0hFwejz1q/5r/ISH7WK/ev8YjzxDapGja+AFkjXSwBISYhgaIA3B6GektbZAREMo2BkhgwWCRmOEMSeLoWRu2AbVbMJhZhz6knHqHJPnkL3IFlRG8hz2ZQekdkDMp31KRK8AM0K+XIfUP8pWcrR4MYfVaHSac4GoTf/SgFfH2Dgz40vBsFrB9Zsjerarf9RaNZvLDEp529z/a/NqBTydnZDpcp+ZoFZAkhkXz8gwNH8bBKNIQFsNUg1SDVINcoNBZNxFAlWDVINUg1SD3GAQzyLGVINUg1SDVIP8MMjb8A0=\n"
     ]
    },
    {
     "name": "stderr",
     "output_type": "stream",
     "text": [
      "DEBUG:signalr_async.client:Raw message received: WSMessage(type=<WSMsgType.TEXT: 1>, data='{\"C\":\"d-F23263D5-B,0|Df,0|Dg,11|d,A0|p,948|o,948|a,1|Y,D|Dh,0|n,1|W,2|c,28|i,1|X,C|k,3|l,1|r,2|Z,1|s,59F\",\"M\":[{\"H\":\"Streaming\",\"M\":\"feed\",\"A\":[\"Position.z\",\"7ZQ7T8NAEIT/y9Y28j7u2VODRAoIoohQCgvFQbGpIv93bF8UXVBYROprLFu6zzM7t5ojPO77dmj3HcTXI6za3bYfNrtPiEANcd1wjWGFNgpGxDs0wmztGiq474ZDu+0hHgHnx9OwGb6mT3joVofN+8d05BlijRxsBS8QTSMVrGH6ix8rIA3B4BakNiZDREPImwWhBjMEG40RxuQs+Jy5YRpUvQn7hbHocsaqOk3SIXPhzauMJB12eQakZkDMp3lyRI8AE0IuH4fUG2UjyVq40GHVGp10LhA16V8ScKqMCQszvWQMqxFc3xzRvV29UWNUbzYxKPm22f/H5tQIeD47I/NynxmvRkCSGBvOyDhWfzeIGKGApUBKgZQCKQVyQ4G4IMSBS4OUBikNUhrkZ4O8jd8=\",\"2023-03-19T16:41:11.7942393Z\"]}]}', extra='')\n",
      "DEBUG:signalr_async.client:Raw message received: WSMessage(type=<WSMsgType.TEXT: 1>, data='{\"C\":\"d-F23263D5-B,0|Df,0|Dg,11|d,A0|p,949|o,948|a,1|Y,D|Dh,0|n,1|W,2|c,28|i,1|X,C|k,3|l,1|r,2|Z,1|s,59F\",\"M\":[{\"H\":\"Streaming\",\"M\":\"feed\",\"A\":[\"CarData.z\",\"7ZgxqwIxDMe/S2Z9JGnaa7qK30CXJw4igoLcoG7HfXfPOrxFHmcm5bKkpeRP03/Cb2gHy/Z2OR2uUDYdrG97KMDIYY5hTrqiVIQK0Q+himj8hRksdpchuwN6hMVx17aHcz1AKDgDrjHUKDXG5/6x9H1NMOnEqCN8X0hVaH0hmUtNo4SEUqV1/Ss3WxtiNYjNI2CdAQ5WoaElzzc2RmGwmiPW6YnRWGp65aogxRGXNuP8eT2y2ebRIP2PVZxUOGZnlbPKWTURVjVjLv1AVgmrILOzylnlrJoIq1S/k1VN1iBZnVXOKmfVJFjFTPydrNKBVZT9v8pZ5ayaBqsoJvpYVm37Ow==\",\"2023-03-19T16:41:11.9893185Z\"]}]}', extra='')\n"
     ]
    },
    {
     "name": "stdout",
     "output_type": "stream",
     "text": [
      "Position.z 7ZQ7T8NAEIT/y9Y28j7u2VODRAoIoohQCgvFQbGpIv93bF8UXVBYROprLFu6zzM7t5ojPO77dmj3HcTXI6za3bYfNrtPiEANcd1wjWGFNgpGxDs0wmztGiq474ZDu+0hHgHnx9OwGb6mT3joVofN+8d05BlijRxsBS8QTSMVrGH6ix8rIA3B4BakNiZDREPImwWhBjMEG40RxuQs+Jy5YRpUvQn7hbHocsaqOk3SIXPhzauMJB12eQakZkDMp3lyRI8AE0IuH4fUG2UjyVq40GHVGp10LhA16V8ScKqMCQszvWQMqxFc3xzRvV29UWNUbzYxKPm22f/H5tQIeD47I/NynxmvRkCSGBvOyDhWfzeIGKGApUBKgZQCKQVyQ4G4IMSBS4OUBikNUhrkZ4O8jd8=\n",
      "CarData.z 7ZgxqwIxDMe/S2Z9JGnaa7qK30CXJw4igoLcoG7HfXfPOrxFHmcm5bKkpeRP03/Cb2gHy/Z2OR2uUDYdrG97KMDIYY5hTrqiVIQK0Q+himj8hRksdpchuwN6hMVx17aHcz1AKDgDrjHUKDXG5/6x9H1NMOnEqCN8X0hVaH0hmUtNo4SEUqV1/Ss3WxtiNYjNI2CdAQ5WoaElzzc2RmGwmiPW6YnRWGp65aogxRGXNuP8eT2y2ebRIP2PVZxUOGZnlbPKWTURVjVjLv1AVgmrILOzylnlrJoIq1S/k1VN1iBZnVXOKmfVJFjFTPydrNKBVZT9v8pZ5ayaBqsoJvpYVm37Ow==\n"
     ]
    },
    {
     "name": "stderr",
     "output_type": "stream",
     "text": [
      "DEBUG:signalr_async.client:Raw message received: WSMessage(type=<WSMsgType.TEXT: 1>, data='{}', extra='')\n",
      "DEBUG:signalr_async.client:Raw message received: WSMessage(type=<WSMsgType.TEXT: 1>, data='{\"C\":\"d-F23263D5-B,0|Df,0|Dg,11|d,A0|p,94A|o,948|a,1|Y,D|Dh,0|n,1|W,2|c,28|i,1|X,C|k,3|l,1|r,2|Z,1|s,59F\",\"M\":[{\"H\":\"Streaming\",\"M\":\"feed\",\"A\":[\"CarData.z\",\"7ZS/CsIwEIff5eZWcpe/zVp8A10UhyIFBemg3Urf3fY6uIjUW3S45RJCPrj8cnwDbLv+fm0fkI8D7PszZCBDtjS2xGqHITvMSBsKFcWIByigbu7T7QFwLvWl6br2xgcGsimAuFqujqtf9vMyjnxBxDkhh+Z7EBmUvhDFrYZVIBrHKK+vdpP0Q6QBkXgEpDNAVgoKvmR5YxSCVhqOk06P98JWgzTVuC6c9/OaZAFN6CdR+VSRVU2pplRTqqn/1VSyBisXVFQqKhWViuqnojqNTw==\",\"2023-03-19T16:41:12.8301946Z\"]}]}', extra='')\n",
      "DEBUG:signalr_async.client:Raw message received: WSMessage(type=<WSMsgType.TEXT: 1>, data='{\"C\":\"d-F23263D5-B,0|Df,0|Dg,11|d,A0|p,94A|o,949|a,1|Y,D|Dh,0|n,1|W,2|c,28|i,1|X,C|k,3|l,1|r,2|Z,1|s,59F\",\"M\":[{\"H\":\"Streaming\",\"M\":\"feed\",\"A\":[\"Position.z\",\"7ZRNS8NAEIb/y5wT2ZnZ2a+7ZwV70IqHIj0EaSttPJX8d5NsKVupI/a8l5DAPsw7b5bnCI+7Q9d3uy2k1yMsus360K82n5CADHFruMW4QJcsJqQ79BYDyhIauN/2+259gHQEnB5P/ar/Gj/hYbvYr94/xiPPkFrk6Bp4gSTGNrCEhBiGBkhDMPoZaUUKxGoIBZkRMlggaDTGMuZkMZTMDdugms1ymBmHvmScOsfkOSQX2YLK2DyHfdkBqR0Q82mfEtErwIyQL9ch9Y+y2BwtXsxhNRqd5lwgatO/NODVMRJnZnwpGFYruH5zrJ7t6h8VUbO5zKAtb5v7f21erYCnsxMyXe4zE9QKyGbGxTMyDM3fBrEo4zaxGqQapBqkGuQGg3gRE5mqQapBqkGqQW4wSIxixPlqkGqQapBqkJ8GeRu+AQ==\",\"2023-03-19T16:41:12.9950567Z\"]}]}', extra='')\n"
     ]
    },
    {
     "name": "stdout",
     "output_type": "stream",
     "text": [
      "CarData.z 7ZS/CsIwEIff5eZWcpe/zVp8A10UhyIFBemg3Urf3fY6uIjUW3S45RJCPrj8cnwDbLv+fm0fkI8D7PszZCBDtjS2xGqHITvMSBsKFcWIByigbu7T7QFwLvWl6br2xgcGsimAuFqujqtf9vMyjnxBxDkhh+Z7EBmUvhDFrYZVIBrHKK+vdpP0Q6QBkXgEpDNAVgoKvmR5YxSCVhqOk06P98JWgzTVuC6c9/OaZAFN6CdR+VSRVU2pplRTqqn/1VSyBisXVFQqKhWViuqnojqNTw==\n",
      "Position.z 7ZRNS8NAEIb/y5wT2ZnZ2a+7ZwV70IqHIj0EaSttPJX8d5NsKVupI/a8l5DAPsw7b5bnCI+7Q9d3uy2k1yMsus360K82n5CADHFruMW4QJcsJqQ79BYDyhIauN/2+259gHQEnB5P/ar/Gj/hYbvYr94/xiPPkFrk6Bp4gSTGNrCEhBiGBkhDMPoZaUUKxGoIBZkRMlggaDTGMuZkMZTMDdugms1ymBmHvmScOsfkOSQX2YLK2DyHfdkBqR0Q82mfEtErwIyQL9ch9Y+y2BwtXsxhNRqd5lwgatO/NODVMRJnZnwpGFYruH5zrJ7t6h8VUbO5zKAtb5v7f21erYCnsxMyXe4zE9QKyGbGxTMyDM3fBrEo4zaxGqQapBqkGuQGg3gRE5mqQapBqkGqQW4wSIxixPlqkGqQapBqkJ8GeRu+AQ==\n"
     ]
    },
    {
     "name": "stderr",
     "output_type": "stream",
     "text": [
      "DEBUG:signalr_async.client:Raw message received: WSMessage(type=<WSMsgType.TEXT: 1>, data='{\"C\":\"d-F23263D5-B,0|Df,0|Dg,11|d,A0|p,94B|o,94A|a,1|Y,D|Dh,0|n,1|W,2|c,28|i,1|X,C|k,3|l,1|r,2|Z,1|s,59F\",\"M\":[{\"H\":\"Streaming\",\"M\":\"feed\",\"A\":[\"CarData.z\",\"7da9CoNADAfwd8msklzuQ2+VvkG7tHSQIrRQHFo38d2r59ClFJulDllyIv7hLhd+OMCu6x+39gnxNMChv0AEg4Zz5JyqPfloKRIX5JCsd0fIoG4e09cD0Fzqa9N17T29QIiYgUmVU7WpuuV5XsYxfSDKWWGO8PcgpaD0hCTeql8VJLQpmtb3dkvphUgbZMQjIJ0Bw9Kg4EqWMwZhkKXNsdLpcU64VS/taljXnM/zWsoaNEW/QcUTVOQrhUqhUqgUqu1C5QixYqNQKVQKlUK1XahKRrQuKFQKlUKlUG0VKltgwPmXSqFSqBQqheqvUJ3HFw==\",\"2023-03-19T16:41:14.0700093Z\"]},{\"H\":\"Streaming\",\"M\":\"feed\",\"A\":[\"Position.z\",\"7ZQ9T4RAEIb/y9RgmJn97q01kULPWBBzBTHHmQMrwn8X2MtliecYr96GANkn8+67m2eEx2PfDu2xg/A6Qt0e9v3QHD4hAFXEZcUl+hpNUBiQ7wj1/Jd3UMB9N5zafQ9hBFweT0MzfM2f8NDVp+b9Y17yDKFE9qaAFwi6UgXsICC6qQCSEPR2RUqtE0RJCDm9IlRhgmAlMYoxJvMuZW7YDYrZFLuVMWhTxohzqjiH9CabExkV57BNOyCxg/kwz/tJEbkCjAjZdDsknihrFaP5zRwWo9F5zgYRm/6lASuO0X5l5peEYbGC6zdHydmunqjWYjYTGVTpbTP/r82KFfCydkGWy31hnFgBqcgYf0GmqfjbIGyV9z4LJAskCyQL5AaB6FkgxplskGyQbJBskBsM4rTylAWSBZIFkgXyQyBv0zc=\",\"2023-03-19T16:41:13.854926Z\"]}]}', extra='')\n"
     ]
    },
    {
     "name": "stdout",
     "output_type": "stream",
     "text": [
      "CarData.z 7da9CoNADAfwd8msklzuQ2+VvkG7tHSQIrRQHFo38d2r59ClFJulDllyIv7hLhd+OMCu6x+39gnxNMChv0AEg4Zz5JyqPfloKRIX5JCsd0fIoG4e09cD0Fzqa9N17T29QIiYgUmVU7WpuuV5XsYxfSDKWWGO8PcgpaD0hCTeql8VJLQpmtb3dkvphUgbZMQjIJ0Bw9Kg4EqWMwZhkKXNsdLpcU64VS/taljXnM/zWsoaNEW/QcUTVOQrhUqhUqgUqu1C5QixYqNQKVQKlUK1XahKRrQuKFQKlUKlUG0VKltgwPmXSqFSqBQqheqvUJ3HFw==\n",
      "Position.z 7ZQ9T4RAEIb/y9RgmJn97q01kULPWBBzBTHHmQMrwn8X2MtliecYr96GANkn8+67m2eEx2PfDu2xg/A6Qt0e9v3QHD4hAFXEZcUl+hpNUBiQ7wj1/Jd3UMB9N5zafQ9hBFweT0MzfM2f8NDVp+b9Y17yDKFE9qaAFwi6UgXsICC6qQCSEPR2RUqtE0RJCDm9IlRhgmAlMYoxJvMuZW7YDYrZFLuVMWhTxohzqjiH9CabExkV57BNOyCxg/kwz/tJEbkCjAjZdDsknihrFaP5zRwWo9F5zgYRm/6lASuO0X5l5peEYbGC6zdHydmunqjWYjYTGVTpbTP/r82KFfCydkGWy31hnFgBqcgYf0GmqfjbIGyV9z4LJAskCyQL5AaB6FkgxplskGyQbJBskBsM4rTylAWSBZIFkgXyQyBv0zc=\n"
     ]
    },
    {
     "name": "stderr",
     "output_type": "stream",
     "text": [
      "DEBUG:signalr_async.client:Raw message received: WSMessage(type=<WSMsgType.TEXT: 1>, data='{\"C\":\"d-F23263D5-B,0|Df,0|Dg,11|d,A0|p,94C|o,94B|a,1|Y,D|Dh,0|n,1|W,2|c,28|i,1|X,C|k,3|l,1|r,2|Z,1|s,59F\",\"M\":[{\"H\":\"Streaming\",\"M\":\"feed\",\"A\":[\"CarData.z\",\"7ZS/CsIwEIff5ea23OVfk6ziG+iiOBQpKEgHdSt9d9vr4CJSb7HDLZcQ8sHll+PrYds979f2AfnYw/55hgwGjS3RlpR2FLKjTK5yJiUfDlDAprmPl3ugqWwuTde1Nz5AyFiA4Wq5Oq5+3k/LMPAFEeeEHOHvIDEofSGJWw2LQELHKK/vdqP0Q6QBGfEISGfAWCko+JL5jbUQtNJwnHR6vBe2GqSp1svC+TyvURbQiH7zVI0pkVNRqahUVCqqFYsqhhQTqqhUVCoqFdVqReUrNCmGYFVUKioVlYrqr6I6DS8=\",\"2023-03-19T16:41:15.0298663Z\"]},{\"H\":\"Streaming\",\"M\":\"feed\",\"A\":[\"Position.z\",\"7Za7asNAEEX/ZWrJ7MzOPnvXCcRF4pDCBBci2A62Uhn9e/QwZh2cCVE9jZBgD3P37nLQGR4Pp6ZtDnvIr2dYNbvtqd3sPiEDGbK1sTWmFfrMmNEuUuJkOKyhguW+PTbbE+Qz4PB4ajftV/8JD/vVcfP+0S95hlyjTb6CF8jOcAVryIixq4AkBFMYkdq5AmEJoehGhAwWCBqJYYtTshRLZsZuUMzGNo6Mx1AyXpxjpjnkbrJFkeFpjg1lByR2QNZe9lMicgU4IRTK7ZB4otbxFC3dzLFiNLrMuUHEpn9pIIhjXBqZ/qVgrFjB/ZvDcra7J+qcmM1PDHJ52/z/awtiBXZYOyDD5b4yUayAeGJ8uiJdV/1lEF5Q4ugSqkHUIGoQNcgMg3BvEIr6D6IGUYOoQeYYJAQO0ZMaRA2iBlGDzDBI6g3iXFSDqEHUIGqQnwZ5674B\",\"2023-03-19T16:41:14.9747558Z\"]}]}', extra='')\n"
     ]
    },
    {
     "name": "stdout",
     "output_type": "stream",
     "text": [
      "CarData.z 7ZS/CsIwEIff5ea23OVfk6ziG+iiOBQpKEgHdSt9d9vr4CJSb7HDLZcQ8sHll+PrYds979f2AfnYw/55hgwGjS3RlpR2FLKjTK5yJiUfDlDAprmPl3ugqWwuTde1Nz5AyFiA4Wq5Oq5+3k/LMPAFEeeEHOHvIDEofSGJWw2LQELHKK/vdqP0Q6QBGfEISGfAWCko+JL5jbUQtNJwnHR6vBe2GqSp1svC+TyvURbQiH7zVI0pkVNRqahUVCqqFYsqhhQTqqhUVCoqFdVqReUrNCmGYFVUKioVlYrqr6I6DS8=\n",
      "Position.z 7Za7asNAEEX/ZWrJ7MzOPnvXCcRF4pDCBBci2A62Uhn9e/QwZh2cCVE9jZBgD3P37nLQGR4Pp6ZtDnvIr2dYNbvtqd3sPiEDGbK1sTWmFfrMmNEuUuJkOKyhguW+PTbbE+Qz4PB4ajftV/8JD/vVcfP+0S95hlyjTb6CF8jOcAVryIixq4AkBFMYkdq5AmEJoehGhAwWCBqJYYtTshRLZsZuUMzGNo6Mx1AyXpxjpjnkbrJFkeFpjg1lByR2QNZe9lMicgU4IRTK7ZB4otbxFC3dzLFiNLrMuUHEpn9pIIhjXBqZ/qVgrFjB/ZvDcra7J+qcmM1PDHJ52/z/awtiBXZYOyDD5b4yUayAeGJ8uiJdV/1lEF5Q4ugSqkHUIGoQNcgMg3BvEIr6D6IGUYOoQeYYJAQO0ZMaRA2iBlGDzDBI6g3iXFSDqEHUIGqQnwZ5674B\n"
     ]
    },
    {
     "name": "stderr",
     "output_type": "stream",
     "text": [
      "DEBUG:signalr_async.client:Connection keepalive\n",
      "DEBUG:signalr_async.client:Sending: message_content='{}', is_binary=False\n",
      "DEBUG:signalr_async.client:Raw message received: WSMessage(type=<WSMsgType.TEXT: 1>, data='{\"C\":\"d-F23263D5-B,0|Df,0|Dg,11|d,A0|p,94D|o,94C|a,1|Y,D|Dh,0|n,1|W,2|c,28|i,1|X,C|k,3|l,1|r,2|Z,1|s,59F\",\"M\":[{\"H\":\"Streaming\",\"M\":\"feed\",\"A\":[\"CarData.z\",\"7ZQ9C8IwEIb/y82t5PLdrMV/oIviUKSgIB20W+l/t70OLiL1XXTIcgkhD1zeHM9A266/X9sHpeNA+/5MibTSplSm5GrHPllO7DbGVpErfaCC6uY+3R6I51Jfmq5rb3KgKKmCtFQj1Up1y35exlEuQJwFOVbfgywg+kKGW/WrQFZWUFlf7Ub0Q9CANDwC6Axog4LAlyxvDCBo0HAsOj3Oga16NNWwLpz38xqxgCb0k6i8rkKI2VPZU9lT2VP/66k4ecpGn0WVRZVFlUX1U1Gdxic=\",\"2023-03-19T16:41:15.8297486Z\"]},{\"H\":\"Streaming\",\"M\":\"feed\",\"A\":[\"Position.z\",\"7ZQ9a8MwFEX/y5vtovehz71zC83QpnQIJYMpSUriTsH/vbYVglLSV5pZi5FBh3d1Jc4RHneHru92W0ivR1h0m/WhX20+IQEZ4tZwi3GBLgkmtHcYxRPxEhq43/b7bn2AdAScPk/9qv8af+Fhu9iv3j/GLc+QWuToGniBZI00sISEGIYGSEMw+hlprS0Q0RAKdkbIYIGg0RhhzMliKJkbToNqNuEwMw59yTh1jslzyF5kCyojeQ77sgNSOyDm03lKRK8AM0K+PA6pN8pWcrR4MYfVaHSac4GoTf/SgFfH2Dgz46JgWK3g+ssRPdvVG7VWzeYyg1K+Nvf/2rxaAU97J2R63GcmqBWQZMbFMzIMzd8GERQXQqwGqQapBqkGucEgnsWJoWqQapBqkGqQGwwSR4OYGKpBqkGqQapBfhrkbfgG\",\"2023-03-19T16:41:15.9346098Z\"]}]}', extra='')\n"
     ]
    },
    {
     "name": "stdout",
     "output_type": "stream",
     "text": [
      "CarData.z 7ZQ9C8IwEIb/y82t5PLdrMV/oIviUKSgIB20W+l/t70OLiL1XXTIcgkhD1zeHM9A266/X9sHpeNA+/5MibTSplSm5GrHPllO7DbGVpErfaCC6uY+3R6I51Jfmq5rb3KgKKmCtFQj1Up1y35exlEuQJwFOVbfgywg+kKGW/WrQFZWUFlf7Ub0Q9CANDwC6Axog4LAlyxvDCBo0HAsOj3Oga16NNWwLpz38xqxgCb0k6i8rkKI2VPZU9lT2VP/66k4ecpGn0WVRZVFlUX1U1Gdxic=\n",
      "Position.z 7ZQ9a8MwFEX/y5vtovehz71zC83QpnQIJYMpSUriTsH/vbYVglLSV5pZi5FBh3d1Jc4RHneHru92W0ivR1h0m/WhX20+IQEZ4tZwi3GBLgkmtHcYxRPxEhq43/b7bn2AdAScPk/9qv8af+Fhu9iv3j/GLc+QWuToGniBZI00sISEGIYGSEMw+hlprS0Q0RAKdkbIYIGg0RhhzMliKJkbToNqNuEwMw59yTh1jslzyF5kCyojeQ77sgNSOyDm03lKRK8AM0K+PA6pN8pWcrR4MYfVaHSac4GoTf/SgFfH2Dgz46JgWK3g+ssRPdvVG7VWzeYyg1K+Nvf/2rxaAU97J2R63GcmqBWQZMbFMzIMzd8GERQXQqwGqQapBqkGucEgnsWJoWqQapBqkGqQGwwSR4OYGKpBqkGqQapBfhrkbfgG\n"
     ]
    },
    {
     "name": "stderr",
     "output_type": "stream",
     "text": [
      "DEBUG:signalr_async.client:Raw message received: WSMessage(type=<WSMsgType.TEXT: 1>, data='{\"C\":\"d-F23263D5-B,0|Df,0|Dg,11|d,A0|p,94E|o,94D|a,1|Y,D|Dh,0|n,1|W,2|c,28|i,1|X,C|k,3|l,1|r,2|Z,1|s,59F\",\"M\":[{\"H\":\"Streaming\",\"M\":\"feed\",\"A\":[\"CarData.z\",\"7ZQ9C8IwEIb/y82t5PLZZC3+A10UhyIFBemg3Ur/u206uIjUd9HhlksIeeDy5ngG2nb9/do+KB0H2vdnSqSVNqUyJccd+2Q5sd9wFX207kAF1c19uj0Qz6W+NF3X3vKBoqQK0rmaXG2ubtnPyzjmCxBnQY7V9yBnEH0hw636VSArm9G8vtqt0A9BA9LwCKAzoA0KAl+yvDGAoEHDsej0OAe26tFUw7pw3s9rhQU0oZ9E5VT0NmgRlYhKRCWi+l9RVTq6GIOISkQlohJR/VRUp/EJ\",\"2023-03-19T16:41:16.8295997Z\"]},{\"H\":\"Streaming\",\"M\":\"feed\",\"A\":[\"Position.z\",\"7ZQ/S8RAEMW/y9SJZHZm//bWCqbQE4sgVwS5nFxiFfLdTbLHsZFzxKu3CRvYH+/N2+GN8Hjs26E9dhBeR6jbw74fmsMnBFCVorKiEn2NJjAGNHdIrK3nHRRw3w2ndt9DGAGXz9PQDF/zLzx09al5/5ivPEMokbwp4AWCrriAHQRENxWgJAS9XZFS6wRhCVFOr4iqMEGwkhgmjM68S5kbpkHRG5NbGYM2ZYyoU0UdpTfenMhw1CGbZqDEDBTReZ4UkSPAiCibjqPEFyXN0Zrf6JBoTZ11NoiY9C8JWFFG+5WZDwlDYgTXN4dlb1dfVGvRm4kMcrpt5v+xWTECWu4uyLLcF8aJESiOjPEXZJqKvxtEzw2CzuQGyQ2SGyQ3yA0N4ojZUi6QXCC5QHKB/CyQt+kb\",\"2023-03-19T16:41:16.834473Z\"]}]}', extra='')\n"
     ]
    },
    {
     "name": "stdout",
     "output_type": "stream",
     "text": [
      "CarData.z 7ZQ9C8IwEIb/y82t5PLZZC3+A10UhyIFBemg3Ur/u206uIjUd9HhlksIeeDy5ngG2nb9/do+KB0H2vdnSqSVNqUyJccd+2Q5sd9wFX207kAF1c19uj0Qz6W+NF3X3vKBoqQK0rmaXG2ubtnPyzjmCxBnQY7V9yBnEH0hw636VSArm9G8vtqt0A9BA9LwCKAzoA0KAl+yvDGAoEHDsej0OAe26tFUw7pw3s9rhQU0oZ9E5VT0NmgRlYhKRCWi+l9RVTq6GIOISkQlohJR/VRUp/EJ\n",
      "Position.z 7ZQ/S8RAEMW/y9SJZHZm//bWCqbQE4sgVwS5nFxiFfLdTbLHsZFzxKu3CRvYH+/N2+GN8Hjs26E9dhBeR6jbw74fmsMnBFCVorKiEn2NJjAGNHdIrK3nHRRw3w2ndt9DGAGXz9PQDF/zLzx09al5/5ivPEMokbwp4AWCrriAHQRENxWgJAS9XZFS6wRhCVFOr4iqMEGwkhgmjM68S5kbpkHRG5NbGYM2ZYyoU0UdpTfenMhw1CGbZqDEDBTReZ4UkSPAiCibjqPEFyXN0Zrf6JBoTZ11NoiY9C8JWFFG+5WZDwlDYgTXN4dlb1dfVGvRm4kMcrpt5v+xWTECWu4uyLLcF8aJESiOjPEXZJqKvxtEzw2CzuQGyQ2SGyQ3yA0N4ojZUi6QXCC5QHKB/CyQt+kb\n"
     ]
    },
    {
     "name": "stderr",
     "output_type": "stream",
     "text": [
      "DEBUG:signalr_async.client:Raw message received: WSMessage(type=<WSMsgType.TEXT: 1>, data='{\"C\":\"d-F23263D5-B,0|Df,0|Dg,11|d,A0|p,94F|o,94E|a,1|Y,D|Dh,0|n,1|W,2|c,28|i,1|X,C|k,3|l,1|r,2|Z,1|s,59F\",\"M\":[{\"H\":\"Streaming\",\"M\":\"feed\",\"A\":[\"CarData.z\",\"7ZaxCsIwEIbf5eZWcpdL0mQV30AXxaFIQUE6VLfSd7dNBxeReosdbrmUkA8uf46P9rBrn92teUA69XB4XiABGbKlsSXGPfrEmDBsiKKz0R+hgG3djad7wKlsr3XbNve8YSCZAihXmyvn6ubvaRmGfEDEsZBD8zuIGZTeEMWt+kUgGs5oXt/tVtIHkQZE4hGQzgBZKSh4kvmOQQhaaTgsnR7nhK16aaphWTif57WSBTSi30TlKXJlWEWlolJRqajWK6pQRXY+qKhUVCoqFdV6RRU5siX9o1JRqahUVP8V1Xl4AQ==\",\"2023-03-19T16:41:17.9494324Z\"]},{\"H\":\"Streaming\",\"M\":\"feed\",\"A\":[\"Position.z\",\"7ZQ9a8MwFEX/y5vt4vehz71zC/XQpnQIJYMpSUriTsb/vbYVglLSV5pZi5FBh3d1Jc4Aj/tj13f7HcTXAdpuuzn26+0nRKCGuG64xtCijYIR3R2xCBKtoIL7XX/oNkeIA+D8eerX/df0Cw+79rB+/5i2PEOskYOt4AWiaaSCFUREP1ZAGoLBLUhtTIaIhpA3C0INZgg2GiOMKVnwOXPDaVDNJuwXxqLLGavOadIcMhfZvMpImsMu74DUDoj5dJ4c0SvAhJDLj0PqjbKRFC1czGE1Gp3mXCBq07804NQxJizMtMgYViu4/nJEz3b1Ro1Rs9nEoOSvzf6/NqdWwPPeGZkf95nxagUkibHhjIxj9bdBjBG2bItBikGKQYpBbjCIn8ojwWKQYpBikGKQGwwSnFAIvhikGKQYpBjkp0Hexm8=\",\"2023-03-19T16:41:17.9742998Z\"]}]}', extra='')\n"
     ]
    },
    {
     "name": "stdout",
     "output_type": "stream",
     "text": [
      "CarData.z 7ZaxCsIwEIbf5eZWcpdL0mQV30AXxaFIQUE6VLfSd7dNBxeReosdbrmUkA8uf46P9rBrn92teUA69XB4XiABGbKlsSXGPfrEmDBsiKKz0R+hgG3djad7wKlsr3XbNve8YSCZAihXmyvn6ubvaRmGfEDEsZBD8zuIGZTeEMWt+kUgGs5oXt/tVtIHkQZE4hGQzgBZKSh4kvmOQQhaaTgsnR7nhK16aaphWTif57WSBTSi30TlKXJlWEWlolJRqajWK6pQRXY+qKhUVCoqFdV6RRU5siX9o1JRqahUVP8V1Xl4AQ==\n",
      "Position.z 7ZQ9a8MwFEX/y5vt4vehz71zC/XQpnQIJYMpSUriTsb/vbYVglLSV5pZi5FBh3d1Jc4Aj/tj13f7HcTXAdpuuzn26+0nRKCGuG64xtCijYIR3R2xCBKtoIL7XX/oNkeIA+D8eerX/df0Cw+79rB+/5i2PEOskYOt4AWiaaSCFUREP1ZAGoLBLUhtTIaIhpA3C0INZgg2GiOMKVnwOXPDaVDNJuwXxqLLGavOadIcMhfZvMpImsMu74DUDoj5dJ4c0SvAhJDLj0PqjbKRFC1czGE1Gp3mXCBq07804NQxJizMtMgYViu4/nJEz3b1Ro1Rs9nEoOSvzf6/NqdWwPPeGZkf95nxagUkibHhjIxj9bdBjBG2bItBikGKQYpBbjCIn8ojwWKQYpBikGKQGwwSnFAIvhikGKQYpBjkp0Hexm8=\n"
     ]
    },
    {
     "name": "stderr",
     "output_type": "stream",
     "text": [
      "DEBUG:signalr_async.client:Raw message received: WSMessage(type=<WSMsgType.TEXT: 1>, data='{\"C\":\"d-F23263D5-B,0|Df,0|Dg,11|d,A1|p,94F|o,94E|a,1|Y,D|Dh,0|n,1|W,2|c,28|i,1|X,C|k,3|l,1|r,2|Z,1|s,59F\",\"M\":[{\"H\":\"Streaming\",\"M\":\"feed\",\"A\":[\"Heartbeat\",{\"Utc\":\"2023-03-19T16:41:20.8908162Z\",\"_kf\":true},\"2023-03-19T16:41:20.429Z\"]}]}', extra='')\n"
     ]
    },
    {
     "name": "stdout",
     "output_type": "stream",
     "text": [
      "Heartbeat {'Utc': '2023-03-19T16:41:20.8908162Z', '_kf': True}\n"
     ]
    },
    {
     "name": "stderr",
     "output_type": "stream",
     "text": [
      "DEBUG:signalr_async.client:Raw message received: WSMessage(type=<WSMsgType.TEXT: 1>, data='{\"C\":\"d-F23263D5-B,0|Df,0|Dg,11|d,A1|p,94F|o,94F|a,1|Y,D|Dh,0|n,1|W,2|c,28|i,1|X,C|k,3|l,1|r,2|Z,1|s,59F\",\"M\":[{\"H\":\"Streaming\",\"M\":\"feed\",\"A\":[\"Position.z\",\"7ZQ7a8NAEIT/y9aSuX3cs0+dQFwkDilMcCFC7GArldF/j6Qz5hycDU59jTjBfczs3DJHeNgdur7bbSG9HGHZfWwO/frjExKQIW4NtxiX6JJgwrAgFnKGVtDA3bbfd5sDpCPg9Hns1/3X+Av32+V+/fY+XnmC1CJH18AzJGukgRUkxDA0QBqC0c9Ia22BiIZQsDNCBgsEjcYIY3YWQ8n8YxpUvQmHmXHoS8apOibrkL3wFlRGsg77MgNSMyDm0zwlokeAGSFfjkPqi7KVbC1e6LBqjU46F4ia9C8JeFXGxpkZDwXDagTXN0d0b1df1FrVm8sMSrlt7vbYvBoBT3cnZFruMxPUCEgy4+IZGYbm7wbxLBikNkhtkNogtUFub5C4MN6OelIbpDZIbZDaID8b5HX4Bg==\",\"2023-03-19T16:41:19.0751324Z\"]}]}', extra='')\n",
      "DEBUG:signalr_async.client:Raw message received: WSMessage(type=<WSMsgType.TEXT: 1>, data='{\"C\":\"d-F23263D5-B,0|Df,0|Dg,11|d,A1|p,950|o,94F|a,1|Y,D|Dh,0|n,1|W,2|c,28|i,1|X,C|k,3|l,1|r,2|Z,1|s,59F\",\"M\":[{\"H\":\"Streaming\",\"M\":\"feed\",\"A\":[\"CarData.z\",\"7ZY9C8IwEIb/y82t5PLVJGvxH+iiOBQpKEgH7Vb6322vg4tIfRcdslxKyAOXN8dDB9p2/f3aPigdB9r3Z0qklTalMiXHHftkOXHYcIgmeneggurmPp0eiOdSX5qua2+yoSipgrRUI9VKdcv3vIyjHIA4C3KsvgdZQPSGDLfqV4GsrKCyvtoN6IOgAWl4BNAZ0AYFgSdZ7liBoEHDsej0OAe26tFUq3XhvJ/XgAU0oZ9EZX00znEWVRZVFlUW1f+KKqqoQ8x/VFlUWVRZVL8V1Wl8Ag==\",\"2023-03-19T16:41:18.9092895Z\"]}]}', extra='')\n"
     ]
    },
    {
     "name": "stdout",
     "output_type": "stream",
     "text": [
      "Position.z 7ZQ7a8NAEIT/y9aSuX3cs0+dQFwkDilMcCFC7GArldF/j6Qz5hycDU59jTjBfczs3DJHeNgdur7bbSG9HGHZfWwO/frjExKQIW4NtxiX6JJgwrAgFnKGVtDA3bbfd5sDpCPg9Hns1/3X+Av32+V+/fY+XnmC1CJH18AzJGukgRUkxDA0QBqC0c9Ia22BiIZQsDNCBgsEjcYIY3YWQ8n8YxpUvQmHmXHoS8apOibrkL3wFlRGsg77MgNSMyDm0zwlokeAGSFfjkPqi7KVbC1e6LBqjU46F4ia9C8JeFXGxpkZDwXDagTXN0d0b1df1FrVm8sMSrlt7vbYvBoBT3cnZFruMxPUCEgy4+IZGYbm7wbxLBikNkhtkNogtUFub5C4MN6OelIbpDZIbZDaID8b5HX4Bg==\n",
      "CarData.z 7ZY9C8IwEIb/y82t5PLVJGvxH+iiOBQpKEgH7Vb6322vg4tIfRcdslxKyAOXN8dDB9p2/f3aPigdB9r3Z0qklTalMiXHHftkOXHYcIgmeneggurmPp0eiOdSX5qua2+yoSipgrRUI9VKdcv3vIyjHIA4C3KsvgdZQPSGDLfqV4GsrKCyvtoN6IOgAWl4BNAZ0AYFgSdZ7liBoEHDsej0OAe26tFUq3XhvJ/XgAU0oZ9EZX00znEWVRZVFlUW1f+KKqqoQ8x/VFlUWVRZVL8V1Wl8Ag==\n"
     ]
    },
    {
     "name": "stderr",
     "output_type": "stream",
     "text": [
      "DEBUG:signalr_async.client:Raw message received: WSMessage(type=<WSMsgType.TEXT: 1>, data='{\"C\":\"d-F23263D5-B,0|Df,0|Dg,11|d,A1|p,951|o,950|a,1|Y,D|Dh,0|n,1|W,2|c,28|i,1|X,C|k,3|l,1|r,2|Z,1|s,59F\",\"M\":[{\"H\":\"Streaming\",\"M\":\"feed\",\"A\":[\"CarData.z\",\"7dexCoMwEAbgd7lZ5e4Sk5hV+gbt0tJBitBCcWjdxHevxqFLKfaWOtxyEfGH5HJ84AC7rn/c2ifE0wCH/gIRGNnkaHKq9uSipUhVwQbZkj9CBnXzmL4egOZSX5uua+/pBULEDDhVk6pNtVye52Uc0weinBXmCH8PUgpKT0jirbpVQUKboml9bzdIL0TaIBaPgHQG2EiDgitZzuiFQSNtjpVOT1kKt+qkXfXrmvN5XoOsQVP0G1SmQqZACpVCpVApVNuFyhmkwJVCpVApVArVdqEKHsl6q1ApVAqVQrVRqBgLnKAir79+CpVCpVD9F6rz+AI=\",\"2023-03-19T16:41:20.0701171Z\"]},{\"H\":\"Streaming\",\"M\":\"feed\",\"A\":[\"Position.z\",\"7ZQ9a8MwEIb/y8120d3p9LV3bqEZ2pQOoWQwJUlJ3Cn4v9e2QlBKeqWZtRgZ9HCvXonnCI+7Q9d3uy2k1yMsus360K82n5CADHFruMW4QJcsJox3FMXEuIQG7rf9vlsfIB0Bp89Tv+q/xl942C72q/ePccszpBY5ugZeIImxDSwhIYahAdIQjH5GWpECsRpCQWaEDBYIGo2xjDlZDCVzw2lQzWY5zIxDXzJOnWPyHJKLbEFlbJ7DvuyA1A6I+XSeEtErwIyQL49D6o2y2BwtXsxhNRqd5lwgatO/NODVMRJnZlwUDKsVXH85Vs929UZF1GwuM2jL1+b+X5tXK+Bp74RMj/vMBLUCsplx8YwMQ/O3QITFOKoGqQapBqkGucUgHsWwVINUg1SDVIPcYpDgxYybq0GqQapBqkF+GuRt+AY=\",\"2023-03-19T16:41:19.8750118Z\"]}]}', extra='')\n"
     ]
    },
    {
     "name": "stdout",
     "output_type": "stream",
     "text": [
      "CarData.z 7dexCoMwEAbgd7lZ5e4Sk5hV+gbt0tJBitBCcWjdxHevxqFLKfaWOtxyEfGH5HJ84AC7rn/c2ifE0wCH/gIRGNnkaHKq9uSipUhVwQbZkj9CBnXzmL4egOZSX5uua+/pBULEDDhVk6pNtVye52Uc0weinBXmCH8PUgpKT0jirbpVQUKboml9bzdIL0TaIBaPgHQG2EiDgitZzuiFQSNtjpVOT1kKt+qkXfXrmvN5XoOsQVP0G1SmQqZACpVCpVApVNuFyhmkwJVCpVApVArVdqEKHsl6q1ApVAqVQrVRqBgLnKAir79+CpVCpVD9F6rz+AI=\n",
      "Position.z 7ZQ9a8MwEIb/y8120d3p9LV3bqEZ2pQOoWQwJUlJ3Cn4v9e2QlBKeqWZtRgZ9HCvXonnCI+7Q9d3uy2k1yMsus360K82n5CADHFruMW4QJcsJox3FMXEuIQG7rf9vlsfIB0Bp89Tv+q/xl942C72q/ePccszpBY5ugZeIImxDSwhIYahAdIQjH5GWpECsRpCQWaEDBYIGo2xjDlZDCVzw2lQzWY5zIxDXzJOnWPyHJKLbEFlbJ7DvuyA1A6I+XSeEtErwIyQL49D6o2y2BwtXsxhNRqd5lwgatO/NODVMRJnZlwUDKsVXH85Vs929UZF1GwuM2jL1+b+X5tXK+Bp74RMj/vMBLUCsplx8YwMQ/O3QITFOKoGqQapBqkGucUgHsWwVINUg1SDVIPcYpDgxYybq0GqQapBqkF+GuRt+AY=\n"
     ]
    },
    {
     "name": "stderr",
     "output_type": "stream",
     "text": [
      "DEBUG:signalr_async.client:Connection keepalive\n",
      "DEBUG:signalr_async.client:Sending: message_content='{}', is_binary=False\n",
      "DEBUG:signalr_async.client:Raw message received: WSMessage(type=<WSMsgType.TEXT: 1>, data='{\"C\":\"d-F23263D5-B,0|Df,0|Dg,11|d,A1|p,952|o,951|a,1|Y,D|Dh,0|n,1|W,2|c,28|i,1|X,C|k,3|l,1|r,2|Z,1|s,59F\",\"M\":[{\"H\":\"Streaming\",\"M\":\"feed\",\"A\":[\"CarData.z\",\"7ZS/CsIwEIff5eZW7vK3Zi2+gS6KQ5GCgnSo3Urf3fQ6uIjUW3S45RJCPrj8cnwj7Lqhv7UPSKcRDsMFEhg0tkRb0nZPITlKBjfWI0Yfj1BA3fT59gg0l/radF175wOEhAUYrpar4+qX/bxME18QcU7IEX4PEoPSF5K41bAKJHSM8vpqt5J+iDQgIx4B6QwYKwUFX7K8MQpBKw3HSafHe2GrQZpqXBfO+3mtZAFl9JOofBaVC6SiUlGpqFRU/yuqymI2lVdRqahUVCqqn4rqPD0B\",\"2023-03-19T16:41:20.8300045Z\"]},{\"H\":\"Streaming\",\"M\":\"feed\",\"A\":[\"Position.z\",\"7ZQ7a8NAEIT/y9ZSuH3cs0+dQFwkDilMcCGC7WArldF/j6Qz5hycDXF9jTjBfczs7DFHeNwdur7bbSG9HmHRbdaHfrX5hARkiFvDLcYFuiSYyNwhS/TES2jgftvvu/UB0hFw+jz1q/5r/IWH7WK/ev8YrzxDapGja+AFkjXSwBISYhgaIA3B6GektbZAREMo2BkhgwWCRmOEMTuLoWRumAZVb8JhZhz6knGqjsk6ZC+8BZWRrMO+zIDUDIj5NE+J6BFgRsiX45C6UbaSrcULHVat0UnnAlGT/iUBr8rYODPjoWBYjeD6yxHd29WNWqt6c5lBKV+b+39sXo2Ap7sTMj3uMxPUCEgy4+IZGYbm7wYRlEjR1wapDVIbpDbIDQ0Sxh05G2uD1AapDVIb5GeDvA3f\",\"2023-03-19T16:41:20.8348659Z\"]}]}', extra='')\n"
     ]
    },
    {
     "name": "stdout",
     "output_type": "stream",
     "text": [
      "CarData.z 7ZS/CsIwEIff5eZW7vK3Zi2+gS6KQ5GCgnSo3Urf3fQ6uIjUW3S45RJCPrj8cnwj7Lqhv7UPSKcRDsMFEhg0tkRb0nZPITlKBjfWI0Yfj1BA3fT59gg0l/radF175wOEhAUYrpar4+qX/bxME18QcU7IEX4PEoPSF5K41bAKJHSM8vpqt5J+iDQgIx4B6QwYKwUFX7K8MQpBKw3HSafHe2GrQZpqXBfO+3mtZAFl9JOofBaVC6SiUlGpqFRU/yuqymI2lVdRqahUVCqqn4rqPD0B\n",
      "Position.z 7ZQ7a8NAEIT/y9ZSuH3cs0+dQFwkDilMcCGC7WArldF/j6Qz5hycDXF9jTjBfczs7DFHeNwdur7bbSG9HmHRbdaHfrX5hARkiFvDLcYFuiSYyNwhS/TES2jgftvvu/UB0hFw+jz1q/5r/IWH7WK/ev8YrzxDapGja+AFkjXSwBISYhgaIA3B6GektbZAREMo2BkhgwWCRmOEMTuLoWRumAZVb8JhZhz6knGqjsk6ZC+8BZWRrMO+zIDUDIj5NE+J6BFgRsiX45C6UbaSrcULHVat0UnnAlGT/iUBr8rYODPjoWBYjeD6yxHd29WNWqt6c5lBKV+b+39sXo2Ap7sTMj3uMxPUCEgy4+IZGYbm7wYRlEjR1wapDVIbpDbIDQ0Sxh05G2uD1AapDVIb5GeDvA3f\n"
     ]
    },
    {
     "name": "stderr",
     "output_type": "stream",
     "text": [
      "DEBUG:signalr_async.client:Raw message received: WSMessage(type=<WSMsgType.TEXT: 1>, data='{\"C\":\"d-F23263D5-B,0|Df,0|Dg,11|d,A1|p,953|o,952|a,1|Y,D|Dh,0|n,1|W,2|c,28|i,1|X,C|k,3|l,1|r,2|Z,1|s,59F\",\"M\":[{\"H\":\"Streaming\",\"M\":\"feed\",\"A\":[\"CarData.z\",\"7dixDoIwEAbgd7lZTO+uLW1X4hvoonEwhkQTw4BshHcXyuBiDN4iwy1XQviT9nr5BnrYNV17r5+QTj0cuiskIENcGC4w7tEni4lwiyZGT3SEDVSXdvy6B5xKdbs0Tf3ILwwkswHKlXO1ubr5eVqGIX8gyllhDs3vQcxB6QlRvFW/KIjG5mhe39sN0guRNojEIyCdAWJpUHAl8xlLYZClzbHS6XFOuFUv7Wq5rDmf5zXIGjRGv0HFI1RMXqFSqBQqhWq9ULkRKsPqlDqlTqlT63UqUAzOOYVKoVKoFKr1QhVDDIz6i0qhUqgUqv9CdR5e\",\"2023-03-19T16:41:21.9898312Z\"]},{\"H\":\"Streaming\",\"M\":\"feed\",\"A\":[\"Position.z\",\"7Ze7asNAEEX/ZWrJ7MzOPvvUCcRF4pDCBBciWA62Uhn9e/QwZh2cCXY9jZBgD3P37nJAR3jaHZqu2bWQ346wbLabQ7fefkEGMmRrY2tMS/SZMRMuyHI0DldQwUPb7ZvNAfIRcHw8d+vue/iEx3a5X398DkteINdok6/gFbIzXMEKMmLsKyAJwRQmpHauQFhCKLoJIYMFgkZi2OKcLMWSuWM3KGZjGyfGYygZL84x8xxyF9miyPA8x4ayAxI7IGtP+ykRuQKcEQrldkg8Uet4jpYu5lgxGp3mXCBi0380EMQxLk3M8FIwVqzg+s1hOdvVE3VOzOZnBrm8bf722oJYgR3Xjsh4uc9MFCsgnhmfzkjfV/8bxCYO0UQ1iBpEDaIGucMgznFw3qlB1CBqEDXIHQYJg0HI61+MGkQNoga53SC0MIF9CKwGUYOoQdQgvw3y3v8A\",\"2023-03-19T16:41:22.0746774Z\"]}]}', extra='')\n"
     ]
    },
    {
     "name": "stdout",
     "output_type": "stream",
     "text": [
      "CarData.z 7dixDoIwEAbgd7lZTO+uLW1X4hvoonEwhkQTw4BshHcXyuBiDN4iwy1XQviT9nr5BnrYNV17r5+QTj0cuiskIENcGC4w7tEni4lwiyZGT3SEDVSXdvy6B5xKdbs0Tf3ILwwkswHKlXO1ubr5eVqGIX8gyllhDs3vQcxB6QlRvFW/KIjG5mhe39sN0guRNojEIyCdAWJpUHAl8xlLYZClzbHS6XFOuFUv7Wq5rDmf5zXIGjRGv0HFI1RMXqFSqBQqhWq9ULkRKsPqlDqlTqlT63UqUAzOOYVKoVKoFKr1QhVDDIz6i0qhUqgUqv9CdR5e\n",
      "Position.z 7Ze7asNAEEX/ZWrJ7MzOPvvUCcRF4pDCBBciWA62Uhn9e/QwZh2cCXY9jZBgD3P37nJAR3jaHZqu2bWQ346wbLabQ7fefkEGMmRrY2tMS/SZMRMuyHI0DldQwUPb7ZvNAfIRcHw8d+vue/iEx3a5X398DkteINdok6/gFbIzXMEKMmLsKyAJwRQmpHauQFhCKLoJIYMFgkZi2OKcLMWSuWM3KGZjGyfGYygZL84x8xxyF9miyPA8x4ayAxI7IGtP+ykRuQKcEQrldkg8Uet4jpYu5lgxGp3mXCBi0380EMQxLk3M8FIwVqzg+s1hOdvVE3VOzOZnBrm8bf722oJYgR3Xjsh4uc9MFCsgnhmfzkjfV/8bxCYO0UQ1iBpEDaIGucMgznFw3qlB1CBqEDXIHQYJg0HI61+MGkQNoga53SC0MIF9CKwGUYOoQdQgvw3y3v8A\n"
     ]
    },
    {
     "name": "stderr",
     "output_type": "stream",
     "text": [
      "DEBUG:signalr_async.client:Raw message received: WSMessage(type=<WSMsgType.TEXT: 1>, data='{}', extra='')\n",
      "DEBUG:signalr_async.client:Raw message received: WSMessage(type=<WSMsgType.TEXT: 1>, data='{\"C\":\"d-F23263D5-B,0|Df,0|Dg,11|d,A1|p,953|o,953|a,1|Y,D|Dh,0|n,1|W,2|c,28|i,1|X,C|k,3|l,1|r,2|Z,1|s,59F\",\"M\":[{\"H\":\"Streaming\",\"M\":\"feed\",\"A\":[\"Position.z\",\"7ZY9a8MwEIb/y8128H1IlrR3bqEZ2pQOoWQwJU5J3Cn4v9cfISg0vZLMtxgb9HCvXokHH+Fpd2i6ZtdCejvCstluDt16+wUJqCIuKy4xLtEnwUS0IBbvGFdQwEPb7ZvNAdIRcHw8d+vue/iEx3a5X398DkteIJXI0RfwCslVUsAKEmLoCyANwVhPSOlchoiGUHATQhVmCFYaI4xzshhy5o7doJpNOEyMxzpnvDqnmueQu8gWVEbmOVznHZDaATGf9pMjegU4I1Tn2yH1RNnJHC1ezGE1Gp3mXCBq0380UKtjXJyY4SVjWK3g+s0RPdvVE3VOzeZnBiW/bf722mq1Ah7Xjsh4uc9MUCsgmRkfz0jfF/8bRKJ4ZG8GMYOYQcwgdxjEO3EhshnEDGIGMYPcYZDA4jxGM4gZxAxiBrnZILwYzsiht38QM4gZxAzyyyDv/Q8=\",\"2023-03-19T16:41:23.1345163Z\"]}]}', extra='')\n",
      "DEBUG:signalr_async.client:Raw message received: WSMessage(type=<WSMsgType.TEXT: 1>, data='{\"C\":\"d-F23263D5-B,0|Df,0|Dg,11|d,A1|p,954|o,953|a,1|Y,D|Dh,0|n,1|W,2|c,28|i,1|X,C|k,3|l,1|r,2|Z,1|s,59F\",\"M\":[{\"H\":\"Streaming\",\"M\":\"feed\",\"A\":[\"CarData.z\",\"7Ze/CsJADIffJbOVJHe9f2vxDXRRHIoUFKRD7Vb67rbXwUWkZtEhHXKl3Ae534UPOsCu7btb84B0GuDQXyABI5sCTUFxTy5ZSsxbCjEg2SNsoKq7afcANJfqWrdtc88fEBJugHM1udpcy+V9XsYxbxBxVsgRfg9SBqUnJHGrbhVIaDOa11e7QXoh0oBYPALSGWAjBQVXspzRC0EjDcdKp6csha06aap+XTjv5zXIAprQT6IyNvrpUVGpqFRUKqr/FZXj6I0zKioVlYpKRfW/ogouekT99VNRqahUVL8V1Xl8Ag==\",\"2023-03-19T16:41:22.8697004Z\"]}]}', extra='')\n"
     ]
    },
    {
     "name": "stdout",
     "output_type": "stream",
     "text": [
      "Position.z 7ZY9a8MwEIb/y8128H1IlrR3bqEZ2pQOoWQwJU5J3Cn4v9cfISg0vZLMtxgb9HCvXokHH+Fpd2i6ZtdCejvCstluDt16+wUJqCIuKy4xLtEnwUS0IBbvGFdQwEPb7ZvNAdIRcHw8d+vue/iEx3a5X398DkteIJXI0RfwCslVUsAKEmLoCyANwVhPSOlchoiGUHATQhVmCFYaI4xzshhy5o7doJpNOEyMxzpnvDqnmueQu8gWVEbmOVznHZDaATGf9pMjegU4I1Tn2yH1RNnJHC1ezGE1Gp3mXCBq0380UKtjXJyY4SVjWK3g+s0RPdvVE3VOzeZnBiW/bf722mq1Ah7Xjsh4uc9MUCsgmRkfz0jfF/8bRKJ4ZG8GMYOYQcwgdxjEO3EhshnEDGIGMYPcYZDA4jxGM4gZxAxiBrnZILwYzsiht38QM4gZxAzyyyDv/Q8=\n",
      "CarData.z 7Ze/CsJADIffJbOVJHe9f2vxDXRRHIoUFKRD7Vb67rbXwUWkZtEhHXKl3Ae534UPOsCu7btb84B0GuDQXyABI5sCTUFxTy5ZSsxbCjEg2SNsoKq7afcANJfqWrdtc88fEBJugHM1udpcy+V9XsYxbxBxVsgRfg9SBqUnJHGrbhVIaDOa11e7QXoh0oBYPALSGWAjBQVXspzRC0EjDcdKp6csha06aap+XTjv5zXIAprQT6IyNvrpUVGpqFRUKqr/FZXj6I0zKioVlYpKRfW/ogouekT99VNRqahUVL8V1Xl8Ag==\n"
     ]
    },
    {
     "name": "stderr",
     "output_type": "stream",
     "text": [
      "DEBUG:signalr_async.client:Raw message received: WSMessage(type=<WSMsgType.TEXT: 1>, data='{\"C\":\"d-F23263D5-B,0|Df,0|Dg,11|d,A1|p,955|o,953|a,1|Y,D|Dh,0|n,1|W,2|c,28|i,1|X,C|k,3|l,1|r,2|Z,1|s,59F\",\"M\":[{\"H\":\"Streaming\",\"M\":\"feed\",\"A\":[\"CarData.z\",\"7ZexCoMwEIbf5WYtueQumqzSN2iXlg5ShBaKg3UT370ahy6l2FvqcMtFQj64/Dk+cIB923f35gnxPMCxv0IEa6zLjcsxHNBHwmjdDsvg2fIJMqjqbjo9AM6lutVt2zzShoFoMrCpulQpVV6+52Uc0wERR0IOze8gJlB6QxS36leBaCihaX23W0ofRBqQFY+AdAask4KCJ1nuWAhBJw2HpNPDLGzVS1Mt1oXzeV5LWUAT+k1UTIFD8CoqFZWKSkW1XVEFE5i8U1GpqFRUKqqtiormXz82RCoqFZWKSkX1V1Fdxhc=\",\"2023-03-19T16:41:24.1895044Z\"]}]}', extra='')\n",
      "DEBUG:signalr_async.client:Raw message received: WSMessage(type=<WSMsgType.TEXT: 1>, data='{\"C\":\"d-F23263D5-B,0|Df,0|Dg,11|d,A1|p,955|o,954|a,1|Y,D|Dh,0|n,1|W,2|c,28|i,1|X,C|k,3|l,1|r,2|Z,1|s,59F\",\"M\":[{\"H\":\"Streaming\",\"M\":\"feed\",\"A\":[\"Position.z\",\"7ZY9a8MwEIb/y8128H3oc+/cQjO0KR1CyWBKnJK4U/B/r22FoJT0SjJrMTLo4U6vjgcd4Wl3aPt210F8O8Ky3W4O/Xr7BRGoIa4brjEs0UbBSLxgI+IprKCCh67ft5sDxCPg9Hnu1/33+AuP3XK//vgct7xArJGDreAVommkghVERD9UQBqCwc1IbUyGiIaQNzNCDWYINhojjKmz4HPmjtOg2puwnxmLLmesWqdJdchc9OZVRlIddnkGpGZAzKfz5IgeASaEXH4cUm90nJvUWriow2prdKpzgahJ/5GAU8uYMDPjImNYjeD65Ije29UbNUbtzSYGJZ82e3tsTo2Ap70TMg33mfFqBCSJseGMDEP1v0GME5EgxSDFIMUgxSB3GMSPb5DGljdIMUgxSDHI7QaRBQZhY6gYpBikGKQY5LdB3ocf\",\"2023-03-19T16:41:24.1943552Z\"]}]}', extra='')\n"
     ]
    },
    {
     "name": "stdout",
     "output_type": "stream",
     "text": [
      "CarData.z 7ZexCoMwEIbf5WYtueQumqzSN2iXlg5ShBaKg3UT370ahy6l2FvqcMtFQj64/Dk+cIB923f35gnxPMCxv0IEa6zLjcsxHNBHwmjdDsvg2fIJMqjqbjo9AM6lutVt2zzShoFoMrCpulQpVV6+52Uc0wERR0IOze8gJlB6QxS36leBaCihaX23W0ofRBqQFY+AdAask4KCJ1nuWAhBJw2HpNPDLGzVS1Mt1oXzeV5LWUAT+k1UTIFD8CoqFZWKSkW1XVEFE5i8U1GpqFRUKqqtiormXz82RCoqFZWKSkX1V1Fdxhc=\n",
      "Position.z 7ZY9a8MwEIb/y8128H3oc+/cQjO0KR1CyWBKnJK4U/B/r22FoJT0SjJrMTLo4U6vjgcd4Wl3aPt210F8O8Ky3W4O/Xr7BRGoIa4brjEs0UbBSLxgI+IprKCCh67ft5sDxCPg9Hnu1/33+AuP3XK//vgct7xArJGDreAVommkghVERD9UQBqCwc1IbUyGiIaQNzNCDWYINhojjKmz4HPmjtOg2puwnxmLLmesWqdJdchc9OZVRlIddnkGpGZAzKfz5IgeASaEXH4cUm90nJvUWriow2prdKpzgahJ/5GAU8uYMDPjImNYjeD65Ije29UbNUbtzSYGJZ82e3tsTo2Ap70TMg33mfFqBCSJseGMDEP1v0GME5EgxSDFIMUgxSB3GMSPb5DGljdIMUgxSDHI7QaRBQZhY6gYpBikGKQY5LdB3ocf\n"
     ]
    },
    {
     "name": "stderr",
     "output_type": "stream",
     "text": [
      "DEBUG:signalr_async.client:Raw message received: WSMessage(type=<WSMsgType.TEXT: 1>, data='{\"C\":\"d-F23263D5-B,0|Df,0|Dg,11|d,A1|p,956|o,955|a,1|Y,D|Dh,0|n,1|W,2|c,28|i,1|X,C|k,3|l,1|r,2|Z,1|s,59F\",\"M\":[{\"H\":\"Streaming\",\"M\":\"feed\",\"A\":[\"CarData.z\",\"7ZSxCsIwEIbf5ea25C6XtMlafANdFIciBQXpoN1K3902HVxE6i12uOUSQj64/Dm+AXZd/7i1T4inAQ79BSKQIZsbm2PYo4+MkbhgCuyrcIQM6uYx3R4A51Jfm65r7+nAQDQZUKo2VU7VLft5Gcd0QcSxkEPzO4gJlL4Qxa36VSAaTmha3+1W0g+RBkTiEZDOAFkpKPiS5Y2lELTScFg6Pc4JW/XSVMt14Xye10oW0IR+E1XJgQmdikpFpaJSUW1XVIGDDWhVVCoqFZWKaquicgWaYH1JKioVlYpKRfVXUZ3HFw==\",\"2023-03-19T16:41:25.1093672Z\"]},{\"H\":\"Streaming\",\"M\":\"feed\",\"A\":[\"Position.z\",\"7ZY/a8MwEMW/y8120P2RZGnP3EI9tCkdQslgSpKSuJPxd29shaDQ9Eo6azE26Md793Q8PMDj/tj13X4H8XWAtttujv16+wkRyBDXhmsMLbooGEkWFIRlBRUsd/2h2xwhDoDT46lf91+nT3jYtYf1+8fpyDPEGjm4Cl4gWiMVrCAiNmMFpCEY/IzU1maIaAg1dkbIYIag0RhhTM5CkzP/mAZVb8LNzDj0OeNUHZN0yF55a1RGkg77PANSMyDm8zw5okeACSGfj0PqjbKVZC1c6bBqjc46V4ia9C8JeFXGhpk5vWQMqxHc3hzRvd28UWtVby4xKPm2uftj82oEPJ2dkGm5L0yjRkCSGBcuyDhWf/eHQ6GAXBqkNEhpkNIgdzeIXRgvRFj+QUqDlAYpDfKjQd7Gbw==\",\"2023-03-19T16:41:25.0742214Z\"]}]}', extra='')\n"
     ]
    },
    {
     "name": "stdout",
     "output_type": "stream",
     "text": [
      "CarData.z 7ZSxCsIwEIbf5ea25C6XtMlafANdFIciBQXpoN1K3902HVxE6i12uOUSQj64/Dm+AXZd/7i1T4inAQ79BSKQIZsbm2PYo4+MkbhgCuyrcIQM6uYx3R4A51Jfm65r7+nAQDQZUKo2VU7VLft5Gcd0QcSxkEPzO4gJlL4Qxa36VSAaTmha3+1W0g+RBkTiEZDOAFkpKPiS5Y2lELTScFg6Pc4JW/XSVMt14Xye10oW0IR+E1XJgQmdikpFpaJSUW1XVIGDDWhVVCoqFZWKaquicgWaYH1JKioVlYpKRfVXUZ3HFw==\n",
      "Position.z 7ZY/a8MwEMW/y8120P2RZGnP3EI9tCkdQslgSpKSuJPxd29shaDQ9Eo6azE26Md793Q8PMDj/tj13X4H8XWAtttujv16+wkRyBDXhmsMLbooGEkWFIRlBRUsd/2h2xwhDoDT46lf91+nT3jYtYf1+8fpyDPEGjm4Cl4gWiMVrCAiNmMFpCEY/IzU1maIaAg1dkbIYIag0RhhTM5CkzP/mAZVb8LNzDj0OeNUHZN0yF55a1RGkg77PANSMyDm8zw5okeACSGfj0PqjbKVZC1c6bBqjc46V4ia9C8JeFXGhpk5vWQMqxHc3hzRvd28UWtVby4xKPm2uftj82oEPJ2dkGm5L0yjRkCSGBcuyDhWf/eHQ6GAXBqkNEhpkNIgdzeIXRgvRFj+QUqDlAYpDfKjQd7Gbw==\n"
     ]
    },
    {
     "name": "stderr",
     "output_type": "stream",
     "text": [
      "DEBUG:signalr_async.client:Connection keepalive\n",
      "DEBUG:signalr_async.client:Sending: message_content='{}', is_binary=False\n",
      "DEBUG:signalr_async.client:Raw message received: WSMessage(type=<WSMsgType.TEXT: 1>, data='{\"C\":\"d-F23263D5-B,0|Df,0|Dg,11|d,A1|p,957|o,956|a,1|Y,D|Dh,0|n,1|W,2|c,28|i,1|X,C|k,3|l,1|r,2|Z,1|s,59F\",\"M\":[{\"H\":\"Streaming\",\"M\":\"feed\",\"A\":[\"CarData.z\",\"7ZS/CsIwEIff5ea23F3+NM1afANdFIciBQXpULuVvrttOriI1Ft0uOUSQj64/HJ8I+y6ob+1D4inEQ7DBSIwssnR5FTtyUdLkV1hQmXYhSNkUDf9fHsEWkp9bbquvacDhIgZcKomVZuqW/fLMk3pgoizQo7we5ASKH0hiVv1m0BCm9C0vtoN0g+RBsTiEZDOABspKPiS9Y2lEDTScKx0epwTtuqlqZbbwnk/r0EW0Ix+EpXniis0KioVlYpKRfWvovIFlshs1VPqKfWUeuqnnjpPTw==\",\"2023-03-19T16:41:26.070224Z\"]},{\"H\":\"Streaming\",\"M\":\"feed\",\"A\":[\"Position.z\",\"7ZQ/a8MwEMW/y8120d3p9G/v3EIztCkdQslgSpKSuFPwd69thaCU9EozazEy6Md793S8IzzuDl3f7baQXo+w6DbrQ7/afEICMsSt4RbjAl2ymEjuOAp6ckto4H7b77v1AdIRcPo89av+a/yFh+1iv3r/GK88Q2qRo2vgBZIY28ASEmIYGiANwehnpBUpEKshFGRGyGCBoNEYy5idxVAyN0yDqjfLYWYc+pJxqo7JOiQX3oLK2KzDvsyA1AyI+TRPiegRYEbIl+OQ+qIsNluLFzqsWqOTzgWiJv1LAl6VkTgz46FgWI3g+uZY3dvVFxVRvbnMoC23zf0/Nq9GwNPdCZmW+8wENQKymXHxjAxD83eDOC9jFFgbpDZIbZDaIDc0SGBBI742SG2Q2iC1QX42yNvwDQ==\",\"2023-03-19T16:41:25.8351057Z\"]}]}', extra='')\n"
     ]
    },
    {
     "name": "stdout",
     "output_type": "stream",
     "text": [
      "CarData.z 7ZS/CsIwEIff5ea23F3+NM1afANdFIciBQXpULuVvrttOriI1Ft0uOUSQj64/HJ8I+y6ob+1D4inEQ7DBSIwssnR5FTtyUdLkV1hQmXYhSNkUDf9fHsEWkp9bbquvacDhIgZcKomVZuqW/fLMk3pgoizQo7we5ASKH0hiVv1m0BCm9C0vtoN0g+RBsTiEZDOABspKPiS9Y2lEDTScKx0epwTtuqlqZbbwnk/r0EW0Ix+EpXniis0KioVlYpKRfWvovIFlshs1VPqKfWUeuqnnjpPTw==\n",
      "Position.z 7ZQ/a8MwEMW/y8120d3p9G/v3EIztCkdQslgSpKSuFPwd69thaCU9EozazEy6Md793S8IzzuDl3f7baQXo+w6DbrQ7/afEICMsSt4RbjAl2ymEjuOAp6ckto4H7b77v1AdIRcPo89av+a/yFh+1iv3r/GK88Q2qRo2vgBZIY28ASEmIYGiANwehnpBUpEKshFGRGyGCBoNEYy5idxVAyN0yDqjfLYWYc+pJxqo7JOiQX3oLK2KzDvsyA1AyI+TRPiegRYEbIl+OQ+qIsNluLFzqsWqOTzgWiJv1LAl6VkTgz46FgWI3g+uZY3dvVFxVRvbnMoC23zf0/Nq9GwNPdCZmW+8wENQKymXHxjAxD83eDOC9jFFgbpDZIbZDaIDc0SGBBI742SG2Q2iC1QX42yNvwDQ==\n"
     ]
    },
    {
     "name": "stderr",
     "output_type": "stream",
     "text": [
      "DEBUG:signalr_async.client:Raw message received: WSMessage(type=<WSMsgType.TEXT: 1>, data='{\"C\":\"d-F23263D5-B,0|Df,0|Dg,11|d,A1|p,958|o,957|a,1|Y,D|Dh,0|n,1|W,2|c,28|i,1|X,C|k,3|l,1|r,2|Z,1|s,59F\",\"M\":[{\"H\":\"Streaming\",\"M\":\"feed\",\"A\":[\"CarData.z\",\"7ZS/CsJADIffJXNbkvvb3lp8A10UhyIFBelQu5W+u206uIjULDpkyR3HfZD7XfhG2HVDf2sfkE4jHIYLJDBobI42p2pPITlKJhTWI5UmHCGDuunn2yPQUupr03XtnQ8QEmZguFqujqtf98syTXxBxDkhR/g9SAxKX0jiVsMmkNAxyuur3VL6IdKAjHgEpDNgrBQUfMn6xigErTQcJ50e74WtBmmqcVs47+e1lAU0o59EFQnJVFZFpaJSUamo/lVUsUCLWGKlolJRqahUVD8V1Xl6Ag==\",\"2023-03-19T16:41:27.0300809Z\"]},{\"H\":\"Streaming\",\"M\":\"feed\",\"A\":[\"Position.z\",\"7Za7asNAEEX/ZWrJ7MzOPvvUCcRF4pDCBBciWA62Uhn9e/QwZh2cCXY9jZBgD3P37nLQEZ52h6Zrdi3ktyMsm+3m0K23X5CBDNna2BrTEn1mzOQXhM5wXEEFD223bzYHyEfA8fHcrbvv4RMe2+V+/fE5LHmBXKNNvoJXyANXwQoyYuwrIAnBFCakdq5AWEIougkhgwWCRmLY4pwsxZK5YzcoZmMbJ8ZjKBkvzjHzHHIX2aLI8DzHhrIDEjsga0/7KRG5ApwRCuV2SDxR63iOli7mWDEaneZcIGLTfzQQxDEuTczwUjBWrOD6zWE529UTdU7M5mcGubxt/vbagliBHdeOyHi5z0wUKyCeGZ/OSN9X/wuErTPITg2iBlGDqEHuMIgPnEJENYgaRA2iBrnDIMlyslH/QdQgahA1yO0GCQuTOCGTGkQNogZRg/w2yHv/Aw==\",\"2023-03-19T16:41:27.0949142Z\"]}]}', extra='')\n"
     ]
    },
    {
     "name": "stdout",
     "output_type": "stream",
     "text": [
      "CarData.z 7ZS/CsJADIffJXNbkvvb3lp8A10UhyIFBelQu5W+u206uIjULDpkyR3HfZD7XfhG2HVDf2sfkE4jHIYLJDBobI42p2pPITlKJhTWI5UmHCGDuunn2yPQUupr03XtnQ8QEmZguFqujqtf98syTXxBxDkhR/g9SAxKX0jiVsMmkNAxyuur3VL6IdKAjHgEpDNgrBQUfMn6xigErTQcJ50e74WtBmmqcVs47+e1lAU0o59EFQnJVFZFpaJSUamo/lVUsUCLWGKlolJRqahUVD8V1Xl6Ag==\n",
      "Position.z 7Za7asNAEEX/ZWrJ7MzOPvvUCcRF4pDCBBciWA62Uhn9e/QwZh2cCXY9jZBgD3P37nLQEZ52h6Zrdi3ktyMsm+3m0K23X5CBDNna2BrTEn1mzOQXhM5wXEEFD223bzYHyEfA8fHcrbvv4RMe2+V+/fE5LHmBXKNNvoJXyANXwQoyYuwrIAnBFCakdq5AWEIougkhgwWCRmLY4pwsxZK5YzcoZmMbJ8ZjKBkvzjHzHHIX2aLI8DzHhrIDEjsga0/7KRG5ApwRCuV2SDxR63iOli7mWDEaneZcIGLTfzQQxDEuTczwUjBWrOD6zWE529UTdU7M5mcGubxt/vbagliBHdeOyHi5z0wUKyCeGZ/OSN9X/wuErTPITg2iBlGDqEHuMIgPnEJENYgaRA2iBrnDIMlyslH/QdQgahA1yO0GCQuTOCGTGkQNogZRg/w2yHv/Aw==\n"
     ]
    },
    {
     "name": "stderr",
     "output_type": "stream",
     "text": [
      "DEBUG:signalr_async.client:Raw message received: WSMessage(type=<WSMsgType.TEXT: 1>, data='{\"C\":\"d-F23263D5-B,0|Df,0|Dg,11|d,A1|p,958|o,958|a,1|Y,D|Dh,0|n,1|W,2|c,28|i,1|X,C|k,3|l,1|r,2|Z,1|s,59F\",\"M\":[{\"H\":\"Streaming\",\"M\":\"feed\",\"A\":[\"Position.z\",\"7ZY9a8NADIb/i2Y7WNJ9751bqIc2pUMoGUyJU2J3Mv7vtX0hnGmqksy3GBvuQdKr48EDPB27pm+OLYS3AermsO/63eELAlBFXFZcoq/RBIWB7Ia0cs77LRTw0PanZt9BGADnx3O/67+nT3hs69Pu43M68gKhRPamgFcIulIFbCEgurEAkhD0dkFKrRNESQg5vSBUYYJgJTGKMXbmXcrcMQ2KvSl2C2PQpowR61SxDulVb05kVKzDNs2AxAyI+TxPisgRYETIpuOQuFHWKrbmV3VYbI3OdVaImPQfCVixjPYLM70kDIsRXL85Su7t6ka1FnszkUGV3jZze2xWjIDnszMyX+4L48QISEXG+AsyjsX/BjHTjpgwGyQbJBskG+QOgzivrCeTDZINkg2SDXKzQdxm2pHVJv+DZINkg2SD/DLI+/gD\",\"2023-03-19T16:41:28.1347561Z\"]}]}', extra='')\n",
      "DEBUG:signalr_async.client:Raw message received: WSMessage(type=<WSMsgType.TEXT: 1>, data='{\"C\":\"d-F23263D5-B,0|Df,0|Dg,11|d,A1|p,959|o,958|a,1|Y,D|Dh,0|n,1|W,2|c,28|i,1|X,C|k,3|l,1|r,2|Z,1|s,59F\",\"M\":[{\"H\":\"Streaming\",\"M\":\"feed\",\"A\":[\"CarData.z\",\"7ZS/CsIwEIff5ea23OV/shbfQBfFoUhBQTpot9J3t00HF5F6ix1uuYSQDy6/HN8Au65/3NonpNMAh/4CCRQqXaIuKe7JJUNJ+Up5RGPdEQqom8d0ewCaS31tuq695wOEhAWoXHWuJle77OdlHPMFFmeYHOHvIGWQ+0Jit+pWgYQmo3l9txu4H8INSLFHgDsDSnNBxpcsb/RMUHPDMdzpsZbZquOm6teF83leAy+gCf0mKmtxNpWISkQlohJRbVdUMcSoo3hKPCWeEk9t1VOhoslTGJWISkQlohJR/VVU5/EF\",\"2023-03-19T16:41:28.1899092Z\"]}]}', extra='')\n"
     ]
    },
    {
     "name": "stdout",
     "output_type": "stream",
     "text": [
      "Position.z 7ZY9a8NADIb/i2Y7WNJ9751bqIc2pUMoGUyJU2J3Mv7vtX0hnGmqksy3GBvuQdKr48EDPB27pm+OLYS3AermsO/63eELAlBFXFZcoq/RBIWB7Ia0cs77LRTw0PanZt9BGADnx3O/67+nT3hs69Pu43M68gKhRPamgFcIulIFbCEgurEAkhD0dkFKrRNESQg5vSBUYYJgJTGKMXbmXcrcMQ2KvSl2C2PQpowR61SxDulVb05kVKzDNs2AxAyI+TxPisgRYETIpuOQuFHWKrbmV3VYbI3OdVaImPQfCVixjPYLM70kDIsRXL85Su7t6ka1FnszkUGV3jZze2xWjIDnszMyX+4L48QISEXG+AsyjsX/BjHTjpgwGyQbJBskG+QOgzivrCeTDZINkg2SDXKzQdxm2pHVJv+DZINkg2SD/DLI+/gD\n",
      "CarData.z 7ZS/CsIwEIff5ea23OV/shbfQBfFoUhBQTpot9J3t00HF5F6ix1uuYSQDy6/HN8Au65/3NonpNMAh/4CCRQqXaIuKe7JJUNJ+Up5RGPdEQqom8d0ewCaS31tuq695wOEhAWoXHWuJle77OdlHPMFFmeYHOHvIGWQ+0Jit+pWgYQmo3l9txu4H8INSLFHgDsDSnNBxpcsb/RMUHPDMdzpsZbZquOm6teF83leAy+gCf0mKmtxNpWISkQlohJRbVdUMcSoo3hKPCWeEk9t1VOhoslTGJWISkQlohJR/VVU5/EF\n"
     ]
    },
    {
     "name": "stderr",
     "output_type": "stream",
     "text": [
      "DEBUG:signalr_async.client:Raw message received: WSMessage(type=<WSMsgType.TEXT: 1>, data='{\"C\":\"d-F23263D5-B,0|Df,0|Dg,11|d,A1|p,95A|o,959|a,1|Y,D|Dh,0|n,1|W,2|c,28|i,1|X,C|k,3|l,1|r,2|Z,1|s,59F\",\"M\":[{\"H\":\"Streaming\",\"M\":\"feed\",\"A\":[\"CarData.z\",\"7ZaxCoMwEIbf5WaV3CXRJKv0DdqlpYMUoYXi0LqJ7149hy6l2FvqcMtFQj64/Dk+HGDX9Y9b+4R0GuDQXyABGbK5sTnGPZbJYaJQ+BCDP0IGdfOYzg6Ac6mvTde1d94wkEwGxNVydVz98j0v48gHRJwTcmh+B5FB6Q1R3Gq5CkTjGOX13W6QPog0IBKPgHQGyEpBwZMsd6yEoJWG46TT472w1VKaarUunM/zGmQBTeg3TQWKAZ1VUamoVFQqqu2KKoZYRdWUako1pZraqqZiQRQrr/9TKioVlYrqz6I6jy8=\",\"2023-03-19T16:41:29.2297543Z\"]},{\"H\":\"Streaming\",\"M\":\"feed\",\"A\":[\"Position.z\",\"7ZQ9a8MwEIb/y8128J1On3vnFpqhTekQSgZT4pTEnYL/e20rBKWkV5L5FiODHu7VK/Ec4Wl3aPt210F6O8Ky3W4O/Xr7BQmoIVM3psa4RJcYE4UFefaG4woqeOj6fbs5QDoCTp/nft1/j7/w2C3364/PccsLpBpNdBW8QrINV7CChBiGCkhCMPoZqa0tEJYQCnZGqMECwUZi2GBOFkPJ3HEaFLOxCTPj0JeME+c0eQ7Zi2xBZDjPMb7sgMQOyJjTeUpErgAzQr48Dok3aiznaPFijhGj0WnOBSI2/UcDXhxj48yMi4IxYgXXXw7L2a7eqLViNpcZ5PK1udtr82IFZto7IdPjPjNBrIA4My6ekWGo/jeItewieTWIGkQNoga5wyB+NIhTg6hB1CBqkLsMEiM7cqwGUYOoQdQgNxskLgjZRqMCUYGoQFQgvwXyPvwA\",\"2023-03-19T16:41:29.214593Z\"]}]}', extra='')\n"
     ]
    },
    {
     "name": "stdout",
     "output_type": "stream",
     "text": [
      "CarData.z 7ZaxCoMwEIbf5WaV3CXRJKv0DdqlpYMUoYXi0LqJ7149hy6l2FvqcMtFQj64/Dk+HGDX9Y9b+4R0GuDQXyABGbK5sTnGPZbJYaJQ+BCDP0IGdfOYzg6Ac6mvTde1d94wkEwGxNVydVz98j0v48gHRJwTcmh+B5FB6Q1R3Gq5CkTjGOX13W6QPog0IBKPgHQGyEpBwZMsd6yEoJWG46TT472w1VKaarUunM/zGmQBTeg3TQWKAZ1VUamoVFQqqu2KKoZYRdWUako1pZraqqZiQRQrr/9TKioVlYrqz6I6jy8=\n",
      "Position.z 7ZQ9a8MwEIb/y8128J1On3vnFpqhTekQSgZT4pTEnYL/e20rBKWkV5L5FiODHu7VK/Ec4Wl3aPt210F6O8Ky3W4O/Xr7BQmoIVM3psa4RJcYE4UFefaG4woqeOj6fbs5QDoCTp/nft1/j7/w2C3364/PccsLpBpNdBW8QrINV7CChBiGCkhCMPoZqa0tEJYQCnZGqMECwUZi2GBOFkPJ3HEaFLOxCTPj0JeME+c0eQ7Zi2xBZDjPMb7sgMQOyJjTeUpErgAzQr48Dok3aiznaPFijhGj0WnOBSI2/UcDXhxj48yMi4IxYgXXXw7L2a7eqLViNpcZ5PK1udtr82IFZto7IdPjPjNBrIA4My6ekWGo/jeItewieTWIGkQNoga5wyB+NIhTg6hB1CBqkLsMEiM7cqwGUYOoQdQgNxskLgjZRqMCUYGoQFQgvwXyPvwA\n"
     ]
    },
    {
     "name": "stderr",
     "output_type": "stream",
     "text": [
      "DEBUG:signalr_async.client:Raw message received: WSMessage(type=<WSMsgType.TEXT: 1>, data='{\"C\":\"d-F23263D5-B,0|Df,0|Dg,11|d,A1|p,95B|o,959|a,1|Y,D|Dh,0|n,1|W,2|c,28|i,1|X,C|k,3|l,1|r,2|Z,1|s,59F\",\"M\":[{\"H\":\"Streaming\",\"M\":\"feed\",\"A\":[\"CarData.z\",\"7ZS/CsJADMbfJXMrl9yf9m4tvoEuikORgoJ0qN1K3902HVxE6re4dEmOIz9IvoRvoH3bd/fmSek80LG/UiIxYnNjc44HDslxkrjzJhYs8UQZVXU3VQ/Ec6hudds2D/0wlExGotFqdBr98p7TOGoBxDmQY/M7yAqiEzLcalgFsnGKan63W6ILQQUS+ATQGxCLgsBKlhkLELSoOA69Hu/BVgOqarFOnM/3WmICTeg3oyolhuDtZlSbUW1GtRnVX43qMr4A\",\"2023-03-19T16:41:29.8296653Z\"]}]}', extra='')\n",
      "DEBUG:signalr_async.client:Raw message received: WSMessage(type=<WSMsgType.TEXT: 1>, data='{\"C\":\"d-F23263D5-B,0|Df,0|Dg,11|d,A1|p,95B|o,95A|a,1|Y,D|Dh,0|n,1|W,2|c,28|i,1|X,C|k,3|l,1|r,2|Z,1|s,59F\",\"M\":[{\"H\":\"Streaming\",\"M\":\"feed\",\"A\":[\"Position.z\",\"7ZZLS8NAFIX/y10nkvuY5961gl1oxUWQLoK0lTauSv67SaaUCdYrdj2bMIH5OOeemRxygsf9seu7/Q7i6wlW3XZz7NvtJ0SghrhuuMawQhsFI4U7RjHO+TVUcL/rD93mCPEEOD2e+rb/Gl/hYbc6tO8f45ZniDVysBW8QDSNVLCGiOiHCkhDMLgZqY3JENEQ8mZGqMEMwUZjhDE5Cz5nbpgGVW/CfmYsupyxqk6TdMgsvHmVkaTDLs+A1AyI+TxPjugRYELI5eOQeqJsJFkLCx1WrdFZZ4GoSf+SgFNlTJiZcZExrEZw/eaI7u3qiRqjerOJQclvm/1/bE6NgKe9EzJd7gvj1QhIEmPDBRmG6u8GMSxGhEuDlAYpDVIa5IYGcUHGb6f8g5QGKQ1SGuRHg7wN3w==\",\"2023-03-19T16:41:29.7945048Z\"]}]}', extra='')\n"
     ]
    },
    {
     "name": "stdout",
     "output_type": "stream",
     "text": [
      "CarData.z 7ZS/CsJADMbfJXMrl9yf9m4tvoEuikORgoJ0qN1K3902HVxE6re4dEmOIz9IvoRvoH3bd/fmSek80LG/UiIxYnNjc44HDslxkrjzJhYs8UQZVXU3VQ/Ec6hudds2D/0wlExGotFqdBr98p7TOGoBxDmQY/M7yAqiEzLcalgFsnGKan63W6ILQQUS+ATQGxCLgsBKlhkLELSoOA69Hu/BVgOqarFOnM/3WmICTeg3oyolhuDtZlSbUW1GtRnVX43qMr4A\n",
      "Position.z 7ZZLS8NAFIX/y10nkvuY5961gl1oxUWQLoK0lTauSv67SaaUCdYrdj2bMIH5OOeemRxygsf9seu7/Q7i6wlW3XZz7NvtJ0SghrhuuMawQhsFI4U7RjHO+TVUcL/rD93mCPEEOD2e+rb/Gl/hYbc6tO8f45ZniDVysBW8QDSNVLCGiOiHCkhDMLgZqY3JENEQ8mZGqMEMwUZjhDE5Cz5nbpgGVW/CfmYsupyxqk6TdMgsvHmVkaTDLs+A1AyI+TxPjugRYELI5eOQeqJsJFkLCx1WrdFZZ4GoSf+SgFNlTJiZcZExrEZw/eaI7u3qiRqjerOJQclvm/1/bE6NgKe9EzJd7gvj1QhIEmPDBRmG6u8GMSxGhEuDlAYpDVIa5IYGcUHGb6f8g5QGKQ1SGuRHg7wN3w==\n"
     ]
    },
    {
     "name": "stderr",
     "output_type": "stream",
     "text": [
      "DEBUG:signalr_async.client:Connection keepalive\n",
      "DEBUG:signalr_async.client:Sending: message_content='{}', is_binary=False\n",
      "DEBUG:signalr_async.client:Raw message received: WSMessage(type=<WSMsgType.TEXT: 1>, data='{\"C\":\"d-F23263D5-B,0|Df,0|Dg,11|d,A1|p,95C|o,95B|a,1|Y,D|Dh,0|n,1|W,2|c,28|i,1|X,C|k,3|l,1|r,2|Z,1|s,59F\",\"M\":[{\"H\":\"Streaming\",\"M\":\"feed\",\"A\":[\"CarData.z\",\"7Za/CoMwEIff5WYtucs/k1X6Bu3S0kGK0EJxsG7iuzfGoUsp9pY6HMJFJB9cfjk+HGHfDf29fUI8j3AcrhCBFOlS6RLDAV00GLXaEQWnrD5BAXXTp90j4FzqW9N17SN/UBBVAZSrztXkapf3eZmmvIHFGSaH6ncQM8g9IbJbdatAVCajeX23W3EvhBsQsUeAOwOkuSDjSpYzeiaoueEY7vRYy2zVcVP168L5PK8VL6CEfhOVNcFaH0RUIioRlYhqu6LySVRUyR+ViEpEJaLasKiCSU+FIioRlYhKRPVXUV2mFw==\",\"2023-03-19T16:41:30.9494981Z\"]},{\"H\":\"Streaming\",\"M\":\"feed\",\"A\":[\"Position.z\",\"7ZS7asNAEEX/ZWrJ7Dz22adOIC4ShxQmuBDBcrCVyujfo4cx6+BMsOtthAR7mLt3V+cIT7tD0zW7FtLbEZbNdnPo1tsvSECGuDZcY1yiS4KJzYKiCIWwggoe2m7fbA6QjoDj47lbd9/DJzy2y/3643NY8gKpRo6ugldI1kgFK0iIoa+ANASjn5Da2gwRDaFgJ4QMZggajRHGOVkMOXPHblDNJhwmxqHPGafOMfMcshfZgsrIPId93gGpHRDzaT85oleAM0I+3w6pJ8pW5mjxYg6r0eg05wJRm/6jAa+OsXFihpeMYbWC6zdH9GxXT9RaNZubGZT8trnba/NqBTyuHZHxcp+ZoFZAMjMunpG+r/43iPXD7+C4GKQYpBikGOQOg3grbEMsBikGKQYpBrnZILgwUdh4KgYpBikGKQb5bZD3/gc=\",\"2023-03-19T16:41:31.0943072Z\"]}]}', extra='')\n"
     ]
    },
    {
     "name": "stdout",
     "output_type": "stream",
     "text": [
      "CarData.z 7Za/CoMwEIff5WYtucs/k1X6Bu3S0kGK0EJxsG7iuzfGoUsp9pY6HMJFJB9cfjk+HGHfDf29fUI8j3AcrhCBFOlS6RLDAV00GLXaEQWnrD5BAXXTp90j4FzqW9N17SN/UBBVAZSrztXkapf3eZmmvIHFGSaH6ncQM8g9IbJbdatAVCajeX23W3EvhBsQsUeAOwOkuSDjSpYzeiaoueEY7vRYy2zVcVP168L5PK8VL6CEfhOVNcFaH0RUIioRlYhqu6LySVRUyR+ViEpEJaLasKiCSU+FIioRlYhKRPVXUV2mFw==\n",
      "Position.z 7ZS7asNAEEX/ZWrJ7Dz22adOIC4ShxQmuBDBcrCVyujfo4cx6+BMsOtthAR7mLt3V+cIT7tD0zW7FtLbEZbNdnPo1tsvSECGuDZcY1yiS4KJzYKiCIWwggoe2m7fbA6QjoDj47lbd9/DJzy2y/3643NY8gKpRo6ugldI1kgFK0iIoa+ANASjn5Da2gwRDaFgJ4QMZggajRHGOVkMOXPHblDNJhwmxqHPGafOMfMcshfZgsrIPId93gGpHRDzaT85oleAM0I+3w6pJ8pW5mjxYg6r0eg05wJRm/6jAa+OsXFihpeMYbWC6zdH9GxXT9RaNZubGZT8trnba/NqBTyuHZHxcp+ZoFZAMjMunpG+r/43iPXD7+C4GKQYpBikGOQOg3grbEMsBikGKQYpBrnZILgwUdh4KgYpBikGKQb5bZD3/gc=\n"
     ]
    },
    {
     "name": "stderr",
     "output_type": "stream",
     "text": [
      "DEBUG:signalr_async.client:Raw message received: WSMessage(type=<WSMsgType.TEXT: 1>, data='{\"C\":\"d-F23263D5-B,0|Df,0|Dg,11|d,A1|p,95D|o,95C|a,1|Y,D|Dh,0|n,1|W,2|c,28|i,1|X,C|k,3|l,1|r,2|Z,1|s,59F\",\"M\":[{\"H\":\"Streaming\",\"M\":\"feed\",\"A\":[\"CarData.z\",\"7ZSxCsJADIbfJXMtySW9Xm8V30AXxUFEUJAO2q303a3p4CJSs+iQJXcc90Huv/D1sGq72+V0h7zrYdMdIUPAwAvkBTVrilkoM5WMjYjUWyhgebiNt3ugZ1meD217uuoBQsYCglbWKlqraf9chkEvmDgxcoTfg6Sg9YVkbjXOAglFUV1f7Sbrh1gDCuYRsM5AYCto+JLpjbURZGs4Yp2eqjK2Gq2p1vPCeT+vyRbQiH4SVZUaQY4uKheVi8pF9b+iSqHhmNhF5aJyUbmo/lVUoQyjqNBF5aJyUbmofiyq/fAA\",\"2023-03-19T16:41:32.2293083Z\"]},{\"H\":\"Streaming\",\"M\":\"feed\",\"A\":[\"Position.z\",\"7ZSxasMwEIbf5WY76O50kqW9cwv10KZ0CCWDKUlK4k7G797YCkEp6ZVk1mJk0Mf9+iW+AZ52h67vdluIbwO03WZ96FebL4hAhrg2XGNo0UWLkXHB3pKzfgkVPGz7fbc+QBwAp89zv+q/j7/wuG33q4/P45YXiDVycBW8QhRjK1hCRGzGCkhDMPgZqUUyxGoINTIjZDBD0GiMZUzJQpMzd5wG1WyWm5lx6HPGqXNMmkNyka1RGZvmsM87ILUDYj6dJ0f0CjAh5PPjkHqjLDZFCxdzWI1GpzkXiNr0Hw14dYyEmTkuMobVCq6/HKtnu3qjImo2lxi0+Wtzt9fm1Qp42jsh0+M+M41aAdnEuHBGxrH63yBeLBkXikGKQYpBikHuMEgQQe+4GKQYpBikGORmg9ACUVCoCKQIpAikCOS3QN7HHw==\",\"2023-03-19T16:41:32.115152Z\"]}]}', extra='')\n"
     ]
    },
    {
     "name": "stdout",
     "output_type": "stream",
     "text": [
      "CarData.z 7ZSxCsJADIbfJXMtySW9Xm8V30AXxUFEUJAO2q303a3p4CJSs+iQJXcc90Huv/D1sGq72+V0h7zrYdMdIUPAwAvkBTVrilkoM5WMjYjUWyhgebiNt3ugZ1meD217uuoBQsYCglbWKlqraf9chkEvmDgxcoTfg6Sg9YVkbjXOAglFUV1f7Sbrh1gDCuYRsM5AYCto+JLpjbURZGs4Yp2eqjK2Gq2p1vPCeT+vyRbQiH4SVZUaQY4uKheVi8pF9b+iSqHhmNhF5aJyUbmo/lVUoQyjqNBF5aJyUbmofiyq/fAA\n",
      "Position.z 7ZSxasMwEIbf5WY76O50kqW9cwv10KZ0CCWDKUlK4k7G797YCkEp6ZVk1mJk0Mf9+iW+AZ52h67vdluIbwO03WZ96FebL4hAhrg2XGNo0UWLkXHB3pKzfgkVPGz7fbc+QBwAp89zv+q/j7/wuG33q4/P45YXiDVycBW8QhRjK1hCRGzGCkhDMPgZqUUyxGoINTIjZDBD0GiMZUzJQpMzd5wG1WyWm5lx6HPGqXNMmkNyka1RGZvmsM87ILUDYj6dJ0f0CjAh5PPjkHqjLDZFCxdzWI1GpzkXiNr0Hw14dYyEmTkuMobVCq6/HKtnu3qjImo2lxi0+Wtzt9fm1Qp42jsh0+M+M41aAdnEuHBGxrH63yBeLBkXikGKQYpBikHuMEgQQe+4GKQYpBikGORmg9ACUVCoCKQIpAikCOS3QN7HHw==\n"
     ]
    },
    {
     "name": "stderr",
     "output_type": "stream",
     "text": [
      "DEBUG:signalr_async.client:Raw message received: WSMessage(type=<WSMsgType.TEXT: 1>, data='{}', extra='')\n",
      "DEBUG:signalr_async.client:Raw message received: WSMessage(type=<WSMsgType.TEXT: 1>, data='{\"C\":\"d-F23263D5-B,0|Df,0|Dg,11|d,A1|p,95E|o,95D|a,1|Y,D|Dh,0|n,1|W,2|c,28|i,1|X,C|k,3|l,1|r,2|Z,1|s,59F\",\"M\":[{\"H\":\"Streaming\",\"M\":\"feed\",\"A\":[\"CarData.z\",\"7ZSxDoJADIbfpTOQ9noccCvxDXTROBBDoolhUDbCuwtlcNEE/8WFpb1c+iXt3+YfaNf1j1v7pHga6NBfKJJjpylrKtVeQvQS1WVB2fnqSAnVzWMqHkjmUF+brmvv9sEUOSFnUS16i/nyntM4WgHEeZAT/h0UA9EJBW41rAKFvaGW3+2W6EJQgRx8AugNOEVBYCXLjAUIKiqOR68nz8FWA6pqsU6cz/daYgJN6Hef0kyEpQibUW1GtRnVZlT/Narz+AI=\",\"2023-03-19T16:41:33.1101769Z\"]},{\"H\":\"Streaming\",\"M\":\"feed\",\"A\":[\"Position.z\",\"7ZQ9a8MwEIb/y8120N3p9LV3bqEZ2pQOoWQwJUlJ3Cn4vze2QlBKeiWZtRgZ9HCvXonnAE/bfdd32w2ktwPMu/Vq3y/XX5CADHFruMU4R5csJqaZZUHDdgENPGz6XbfaQzoAjp/nftl/H3/hcTPfLT8+j1teILXI0TXwCkmMbWABCTEMDZCGYPQT0ooUiNUQCjIhZLBA0GiMZczJYiiZO06DajbLYWIc+pJx6hyT55BcZAsqY/Mc9mUHpHZAzKfzlIheAWaEfHkcUm+UxeZo8WIOq9HoNOcCUZv+owGvjpE4McdFwbBawfWXY/VsV29URM3mMoO2fG3u9tq8WgGPe0dkfNxnJqgVkM2Mi2dkGJr/DSJRjI9YDVINUg1SDXKHQYKI4SjVINUg1SDVIDcbhGeMNrroqkGqQapBqkF+G+R9+AE=\",\"2023-03-19T16:41:33.3149696Z\"]}]}', extra='')\n"
     ]
    },
    {
     "name": "stdout",
     "output_type": "stream",
     "text": [
      "CarData.z 7ZSxDoJADIbfpTOQ9noccCvxDXTROBBDoolhUDbCuwtlcNEE/8WFpb1c+iXt3+YfaNf1j1v7pHga6NBfKJJjpylrKtVeQvQS1WVB2fnqSAnVzWMqHkjmUF+brmvv9sEUOSFnUS16i/nyntM4WgHEeZAT/h0UA9EJBW41rAKFvaGW3+2W6EJQgRx8AugNOEVBYCXLjAUIKiqOR68nz8FWA6pqsU6cz/daYgJN6Hef0kyEpQibUW1GtRnVZlT/Narz+AI=\n",
      "Position.z 7ZQ9a8MwEIb/y8120N3p9LV3bqEZ2pQOoWQwJUlJ3Cn4vze2QlBKeiWZtRgZ9HCvXonnAE/bfdd32w2ktwPMu/Vq3y/XX5CADHFruMU4R5csJqaZZUHDdgENPGz6XbfaQzoAjp/nftl/H3/hcTPfLT8+j1teILXI0TXwCkmMbWABCTEMDZCGYPQT0ooUiNUQCjIhZLBA0GiMZczJYiiZO06DajbLYWIc+pJx6hyT55BcZAsqY/Mc9mUHpHZAzKfzlIheAWaEfHkcUm+UxeZo8WIOq9HoNOcCUZv+owGvjpE4McdFwbBawfWXY/VsV29URM3mMoO2fG3u9tq8WgGPe0dkfNxnJqgVkM2Mi2dkGJr/DSJRjI9YDVINUg1SDXKHQYKI4SjVINUg1SDVIDcbhGeMNrroqkGqQapBqkF+G+R9+AE=\n"
     ]
    },
    {
     "name": "stderr",
     "output_type": "stream",
     "text": [
      "DEBUG:signalr_async.client:Raw message received: WSMessage(type=<WSMsgType.TEXT: 1>, data='{\"C\":\"d-F23263D5-B,0|Df,0|Dg,11|d,A2|p,95E|o,95D|a,1|Y,D|Dh,0|n,1|W,2|c,28|i,1|X,C|k,3|l,1|r,2|Z,1|s,59F\",\"M\":[{\"H\":\"Streaming\",\"M\":\"feed\",\"A\":[\"Heartbeat\",{\"Utc\":\"2023-03-19T16:41:35.9064697Z\",\"_kf\":true},\"2023-03-19T16:41:35.476Z\"]}]}', extra='')\n"
     ]
    },
    {
     "name": "stdout",
     "output_type": "stream",
     "text": [
      "Heartbeat {'Utc': '2023-03-19T16:41:35.9064697Z', '_kf': True}\n"
     ]
    },
    {
     "name": "stderr",
     "output_type": "stream",
     "text": [
      "DEBUG:signalr_async.client:Raw message received: WSMessage(type=<WSMsgType.TEXT: 1>, data='{\"C\":\"d-F23263D5-B,0|Df,0|Dg,11|d,A2|p,95F|o,95E|a,1|Y,D|Dh,0|n,1|W,2|c,28|i,1|X,C|k,3|l,1|r,2|Z,1|s,59F\",\"M\":[{\"H\":\"Streaming\",\"M\":\"feed\",\"A\":[\"CarData.z\",\"7ZSxCsIwEIbf5ea23OXSJM1afANdFIciBQXpoN1K3902HVxE6i12uOUSQj64/Dm+AXZd/7i1T4inAQ79BSIYNJwj51TtyUVLkbmwHsmwO0IGdfOYbg9Ac6mvTde193SAEDEDkyqnalMtl/28jGO6IOKskCP8HaQESl9I4lbdKpDQJjSt73aD9EOkARnxCEhnwLAUFHzJ8kYvBFkajpVOT1kKW3XSVP26cD7Pa5AFNKHfROUJMQRSUamoVFQqqu2KKnhEZ1VUKioVlYpqs6KyBVWI5FRUKioVlYrqv6I6jy8=\",\"2023-03-19T16:41:34.1900161Z\"]},{\"H\":\"Streaming\",\"M\":\"feed\",\"A\":[\"Position.z\",\"7Za7asNAEEX/ZWrJ7OzMPvvUCcRF4pDCBBciWA62Uhn9e/QwZh2cCXY9CIQEOszdu8tBR3jaHZqu2bWQ346wbLabQ7fefkEGayzVhmpMS/SZMRMtOA2XpRVU8NB2+2ZzgHwEHG/P3br7Hl7hsV3u1x+fwycvkGuk5Ct4hewMV7CCjBj7CqyEYAoTUjtXICwhNroJsQYLBI3EMOGcLMWSuWM1KGZjihPjMZSMF+eYeY51F9miyPA8h0LZgRU7sESn9ZSIXAHOiA3lcqy4o+R4jpYu5pAYzZ7mXCBi0380EMQxLk3M8FAwJFZw/eSwnO3qjjonZvMzg1yeNn97bUGsgMZvR2Q83GcmihVYnhmfzkjfV/8bxDtOGJIaRA2iBlGD3GGQOOxRMl4NogZRg6hBbjYILzBwpKj/IGoQNYga5B6DMHI0ltUgahA1iBrkt0He+x8=\",\"2023-03-19T16:41:34.4148024Z\"]}]}', extra='')\n"
     ]
    },
    {
     "name": "stdout",
     "output_type": "stream",
     "text": [
      "CarData.z 7ZSxCsIwEIbf5ea23OXSJM1afANdFIciBQXpoN1K3902HVxE6i12uOUSQj64/Dm+AXZd/7i1T4inAQ79BSIYNJwj51TtyUVLkbmwHsmwO0IGdfOYbg9Ac6mvTde193SAEDEDkyqnalMtl/28jGO6IOKskCP8HaQESl9I4lbdKpDQJjSt73aD9EOkARnxCEhnwLAUFHzJ8kYvBFkajpVOT1kKW3XSVP26cD7Pa5AFNKHfROUJMQRSUamoVFQqqu2KKnhEZ1VUKioVlYpqs6KyBVWI5FRUKioVlYrqv6I6jy8=\n",
      "Position.z 7Za7asNAEEX/ZWrJ7OzMPvvUCcRF4pDCBBciWA62Uhn9e/QwZh2cCXY9CIQEOszdu8tBR3jaHZqu2bWQ346wbLabQ7fefkEGayzVhmpMS/SZMRMtOA2XpRVU8NB2+2ZzgHwEHG/P3br7Hl7hsV3u1x+fwycvkGuk5Ct4hewMV7CCjBj7CqyEYAoTUjtXICwhNroJsQYLBI3EMOGcLMWSuWM1KGZjihPjMZSMF+eYeY51F9miyPA8h0LZgRU7sESn9ZSIXAHOiA3lcqy4o+R4jpYu5pAYzZ7mXCBi0380EMQxLk3M8FAwJFZw/eSwnO3qjjonZvMzg1yeNn97bUGsgMZvR2Q83GcmihVYnhmfzkjfV/8bxDtOGJIaRA2iBlGD3GGQOOxRMl4NogZRg6hBbjYILzBwpKj/IGoQNYga5B6DMHI0ltUgahA1iBrkt0He+x8=\n"
     ]
    },
    {
     "name": "stderr",
     "output_type": "stream",
     "text": [
      "DEBUG:signalr_async.client:Raw message received: WSMessage(type=<WSMsgType.TEXT: 1>, data='{\"C\":\"d-F23263D5-B,0|Df,0|Dg,11|d,A2|p,960|o,95F|a,1|Y,D|Dh,0|n,1|W,2|c,28|i,1|X,C|k,3|l,1|r,2|Z,1|s,59F\",\"M\":[{\"H\":\"Streaming\",\"M\":\"feed\",\"A\":[\"CarData.z\",\"7ZS/CsIwEIff5ea25C5/mmQtvoEuikORgoJ00G6l726aDi4i9RY7HIVLKPng8svxjbDrh8ete0I8jXAYLhCBFOlS6RLDHl00GLWprAnBkT9CAU37SKdHwLk017bvu3v+oSCqAihXnavJ1S77eZmmfIDFGSaH6ncQM8i9IbJbdatAVCajeX2367kPwg2I2CPAnQHSXJDxJMsdayaoueEY7vRYy2zVcVOt14XzeV49L6CEfhNVnUSlNYmoRFQiKhHVdkUVfPpcEFGJqERUIqqtispW5IK31oqoRFQiKhHVX0V1nl4=\",\"2023-03-19T16:41:35.2698555Z\"]},{\"H\":\"Streaming\",\"M\":\"feed\",\"A\":[\"Position.z\",\"7ZQ7a8NAEIT/y9aSuX3cs3edQFwkDilMcCGC7WArldF/j6Uz5hycDXF9jTjBfczs3DJHeNwdur7bbSG9HmHRbdaHfrX5hARkiFvDLcYFuiSYWGbWig+IS2hgvu333foA6Qg4fp76Vf91+oWH7WK/ev84XXmG1CJH18ALJGukgSUkxDA0QBqC0U9Ia22BiIZQsBNCBgsEjcYIY3YWQ8ncMQ2q3oTDxDj0JeNUHZN1yF55CyojWYd9mQGpGRDzeZ4S0SPAjJAvxyH1RdlKthavdFi1RmedK0RN+pcEvCpj48ScDgXDagS3N0d0bzdf1FrVm8sMSrlt7v+xeTUCHu+OyLjcFyaoEZBkxsULMgzNXw1iZ4bFm0C1QWqD1AapDXJHg2AUFzjWBqkNUhukNsjPBnkbvgE=\",\"2023-03-19T16:41:35.1946839Z\"]}]}', extra='')\n"
     ]
    },
    {
     "name": "stdout",
     "output_type": "stream",
     "text": [
      "CarData.z 7ZS/CsIwEIff5ea25C5/mmQtvoEuikORgoJ00G6l726aDi4i9RY7HIVLKPng8svxjbDrh8ete0I8jXAYLhCBFOlS6RLDHl00GLWprAnBkT9CAU37SKdHwLk017bvu3v+oSCqAihXnavJ1S77eZmmfIDFGSaH6ncQM8i9IbJbdatAVCajeX2367kPwg2I2CPAnQHSXJDxJMsdayaoueEY7vRYy2zVcVOt14XzeV49L6CEfhNVnUSlNYmoRFQiKhHVdkUVfPpcEFGJqERUIqqtispW5IK31oqoRFQiKhHVX0V1nl4=\n",
      "Position.z 7ZQ7a8NAEIT/y9aSuX3cs3edQFwkDilMcCGC7WArldF/j6Uz5hycDXF9jTjBfczs3DJHeNwdur7bbSG9HmHRbdaHfrX5hARkiFvDLcYFuiSYWGbWig+IS2hgvu333foA6Qg4fp76Vf91+oWH7WK/ev84XXmG1CJH18ALJGukgSUkxDA0QBqC0U9Ia22BiIZQsBNCBgsEjcYIY3YWQ8ncMQ2q3oTDxDj0JeNUHZN1yF55CyojWYd9mQGpGRDzeZ4S0SPAjJAvxyH1RdlKthavdFi1RmedK0RN+pcEvCpj48ScDgXDagS3N0d0bzdf1FrVm8sMSrlt7v+xeTUCHu+OyLjcFyaoEZBkxsULMgzNXw1iZ4bFm0C1QWqD1AapDXJHg2AUFzjWBqkNUhukNsjPBnkbvgE=\n"
     ]
    },
    {
     "name": "stderr",
     "output_type": "stream",
     "text": [
      "DEBUG:signalr_async.client:Connection keepalive\n",
      "DEBUG:signalr_async.client:Sending: message_content='{}', is_binary=False\n",
      "DEBUG:signalr_async.client:Raw message received: WSMessage(type=<WSMsgType.TEXT: 1>, data='{\"C\":\"d-F23263D5-B,0|Df,0|Dg,11|d,A2|p,961|o,960|a,1|Y,D|Dh,0|n,1|W,2|c,28|i,1|X,C|k,3|l,1|r,2|Z,1|s,59F\",\"M\":[{\"H\":\"Streaming\",\"M\":\"feed\",\"A\":[\"CarData.z\",\"7ZSxCsIwEIbf5ea23F3SpMlafANdFIciBQXpoN1K3902HVxE6i12uOUSQj64/Dm+AXZd/7i1T4inAQ79BSIwssnR5BT25KKlaMrCulCxoyNkUDeP6fYANJf62nRde08HCBEz4FRNqjbVctnPyzimCyLOCjnC30FKoPSFJG7VrQIJbULT+m63kn6INCAWj4B0BthIQcGXLG/0QtBIw7HS6SlLYatOmqpfF87nea1kAU3oN1F5DD5gpaJSUamoVFRbFZUrkIO3rKJSUamoVFQbFhW74NGzikpFpaJSUf1VVOfxBQ==\",\"2023-03-19T16:41:36.2697072Z\"]},{\"H\":\"Streaming\",\"M\":\"feed\",\"A\":[\"Position.z\",\"7ZRNa8JAEIb/y5wTyezM7Ne95xbqobX0IMVDKGrR9CT57zWJyFrsFD3PJWxgH+bdd5fnAE/bfdu12w3ktwPM2/Vq3y3XX5DBNY7qhmpMc/SZMZPMKLEXkgVU8LDpdu1qD/kAOHyeu2X3ffyFx818t/z4PG55gVwjJV/BK2RpuIIFZMTYV+A0BFMYkVqkQFhDXJQRcQ0WCDYaw4RTshRL5o7ToJqNKY6Mx1AyXp3TTHOcXGSLKsPTHAplB07twBGdzlMiegU4IS6Ux3HqjZLwFC1dzCE1mjvNuUDUpv9oIKhjJI3McVEwpFZw/eWwnu3qjYqo2fzEIJevzd9eW1AroGHvgAyP+8xEtQLHE+PTGen76n+DiLB3Cc0gZhAziBnkDoNEYonem0HMIGYQM8jNBvGzBlkkOTOIGcQMYga5wyAYWIiTGcQMYgYxg/w2yHv/Aw==\",\"2023-03-19T16:41:36.1745349Z\"]}]}', extra='')\n"
     ]
    },
    {
     "name": "stdout",
     "output_type": "stream",
     "text": [
      "CarData.z 7ZSxCsIwEIbf5ea23F3SpMlafANdFIciBQXpoN1K3902HVxE6i12uOUSQj64/Dm+AXZd/7i1T4inAQ79BSIwssnR5BT25KKlaMrCulCxoyNkUDeP6fYANJf62nRde08HCBEz4FRNqjbVctnPyzimCyLOCjnC30FKoPSFJG7VrQIJbULT+m63kn6INCAWj4B0BthIQcGXLG/0QtBIw7HS6SlLYatOmqpfF87nea1kAU3oN1F5DD5gpaJSUamoVFRbFZUrkIO3rKJSUamoVFQbFhW74NGzikpFpaJSUf1VVOfxBQ==\n",
      "Position.z 7ZRNa8JAEIb/y5wTyezM7Ne95xbqobX0IMVDKGrR9CT57zWJyFrsFD3PJWxgH+bdd5fnAE/bfdu12w3ktwPM2/Vq3y3XX5DBNY7qhmpMc/SZMZPMKLEXkgVU8LDpdu1qD/kAOHyeu2X3ffyFx818t/z4PG55gVwjJV/BK2RpuIIFZMTYV+A0BFMYkVqkQFhDXJQRcQ0WCDYaw4RTshRL5o7ToJqNKY6Mx1AyXp3TTHOcXGSLKsPTHAplB07twBGdzlMiegU4IS6Ux3HqjZLwFC1dzCE1mjvNuUDUpv9oIKhjJI3McVEwpFZw/eWwnu3qjYqo2fzEIJevzd9eW1AroGHvgAyP+8xEtQLHE+PTGen76n+DiLB3Cc0gZhAziBnkDoNEYonem0HMIGYQM8jNBvGzBlkkOTOIGcQMYga5wyAYWIiTGcQMYgYxg/w2yHv/Aw==\n"
     ]
    },
    {
     "name": "stderr",
     "output_type": "stream",
     "text": [
      "DEBUG:signalr_async.client:Raw message received: WSMessage(type=<WSMsgType.TEXT: 1>, data='{\"C\":\"d-F23263D5-B,0|Df,0|Dg,11|d,A2|p,962|o,961|a,1|Y,D|Dh,0|n,1|W,2|c,28|i,1|X,C|k,3|l,1|r,2|Z,1|s,59F\",\"M\":[{\"H\":\"Streaming\",\"M\":\"feed\",\"A\":[\"CarData.z\",\"7ZSxCgIxDIbfJfN5NGmba7uKb6CL4iAiKMgN6nbcu3uXG1xEziw6ZElL6Qfp3/B1sGoft8vpDmXXweZxhALkyC+cX2BeI5eAxXPNlDmGLVSwPNyGyx3gWJbnQ9uernLgoLgKSKqXGqTGaT8ufS8XVFxQcui+B1FA7QtR3SrPAtEFQWV9tZu0H6INiNQjoJ0B8lpQ8SXTGxsl6LXhBO30xKhslbWpNvPCeT+vSRfQgH7yVOLMmNBEZaIyUZmo/lVUTe04x9QkE5WJykRlovpfURHlyIFMVCYqE5WJ6qei2vdP\",\"2023-03-19T16:41:37.2295642Z\"]},{\"H\":\"Streaming\",\"M\":\"feed\",\"A\":[\"Position.z\",\"7ZQ9a8MwEIb/y8120On0vXduoRnalA6hZDAlTkncKfi/V7ZCUEp6JZlvMTb44V69Op4jPO0O3dDtekhvR1h2281hWG+/IIFWmlpFLcYlumQwkVuQNVZ5u4IGHvph320OkI6A0+N5WA/f+RMe++V+/fGZf3mB1CJF18ArJKtMAytIiGFsQHMIRj8jrbUVYjhEBzsjWmGFoOIYQ1iSxVAzd5wG2WyGwsw49DXj2DmqzNH2IltgGVPmkK870GwHmuh0nhrhK8CCaF8fR7M3mvemRIsXc4iNpk9zLhC26T8a8OwYG2cmv1QMsRVc3xzDZ7t6o9ay2Vxh0NTb5m6vzbMV0PTvhEzLfWYCW4E2hXHxjIxj879BbDTGI4pBxCBiEDHIHQbx2SBGeTGIGEQMIga52SB+ke+IQhSBiEBEICKQOwRCWSA2ODGIGEQMIgb5bZD38Qc=\",\"2023-03-19T16:41:37.3343586Z\"]}]}', extra='')\n"
     ]
    },
    {
     "name": "stdout",
     "output_type": "stream",
     "text": [
      "CarData.z 7ZSxCgIxDIbfJfN5NGmba7uKb6CL4iAiKMgN6nbcu3uXG1xEziw6ZElL6Qfp3/B1sGoft8vpDmXXweZxhALkyC+cX2BeI5eAxXPNlDmGLVSwPNyGyx3gWJbnQ9uernLgoLgKSKqXGqTGaT8ufS8XVFxQcui+B1FA7QtR3SrPAtEFQWV9tZu0H6INiNQjoJ0B8lpQ8SXTGxsl6LXhBO30xKhslbWpNvPCeT+vSRfQgH7yVOLMmNBEZaIyUZmo/lVUTe04x9QkE5WJykRlovpfURHlyIFMVCYqE5WJ6qei2vdP\n",
      "Position.z 7ZQ9a8MwEIb/y8120On0vXduoRnalA6hZDAlTkncKfi/V7ZCUEp6JZlvMTb44V69Op4jPO0O3dDtekhvR1h2281hWG+/IIFWmlpFLcYlumQwkVuQNVZ5u4IGHvph320OkI6A0+N5WA/f+RMe++V+/fGZf3mB1CJF18ArJKtMAytIiGFsQHMIRj8jrbUVYjhEBzsjWmGFoOIYQ1iSxVAzd5wG2WyGwsw49DXj2DmqzNH2IltgGVPmkK870GwHmuh0nhrhK8CCaF8fR7M3mvemRIsXc4iNpk9zLhC26T8a8OwYG2cmv1QMsRVc3xzDZ7t6o9ay2Vxh0NTb5m6vzbMV0PTvhEzLfWYCW4E2hXHxjIxj879BbDTGI4pBxCBiEDHIHQbx2SBGeTGIGEQMIga52SB+ke+IQhSBiEBEICKQOwRCWSA2ODGIGEQMIgb5bZD38Qc=\n"
     ]
    },
    {
     "name": "stderr",
     "output_type": "stream",
     "text": [
      "DEBUG:signalr_async.client:Raw message received: WSMessage(type=<WSMsgType.TEXT: 1>, data='{\"C\":\"d-F23263D5-B,0|Df,0|Dg,11|d,A2|p,963|o,962|a,1|Y,D|Dh,0|n,1|W,2|c,28|i,1|X,C|k,3|l,1|r,2|Z,1|s,59F\",\"M\":[{\"H\":\"Streaming\",\"M\":\"feed\",\"A\":[\"CarData.z\",\"7ZSxCsIwEIbf5ea25JJL02QtvoEuikORgoJ0qN1K3932Orgo1Ft0uOUSQj64/Dm+EXbd0N/aB6TTCIfhAgmssS43Lse4xzIRJheKWEXyJh4hg7rp59sj4FLqa9N17Z0PDCSTgeXquBJXv+6XZZr4gogjIYfmexAZlL4Qxa2Wm0A0xCivr3Yr6YdIA7LiEZDOgHVSUPAl6xuDEHTScEg6Pd4LWy2lqYZt4byf10oW0Ix+FlVVIEWyQT2lnlJPqaf+11OOoouBVFQqKhWViuqnojpPTw==\",\"2023-03-19T16:41:38.3493974Z\"]},{\"H\":\"Streaming\",\"M\":\"feed\",\"A\":[\"Position.z\",\"7ZQ7a8NAEIT/y9aS0T7u2btOIC4ShxQmuBDBcrCVyui/R9IZcw7Ohri+RkhwHzM7t5oTPO6Pbd/uO4ivJ1i1u+2x3+w+IQI1xHXDNYYV2igY2S1CEDKB11DBsusP7fYI8QQ4PZ76Tf81fsJDtzps3j/GI88Qa+RgK3iBaBqpYA0R0Q8VkIZgcDNSG5MhoiHkzYxQgxmCjcYIY3IWfM7cMQ2q3oT9zFh0OWNVnSbpkLny5lVGkg67PANSMyDm8zw5okeACSGXj0PqjbKRZC1c6bBqjc46V4ia9C8JOFXGhJkZXzKG1Qhub47o3m7eqDGqN5sYlHzb7P9jc2oEPJ2dkGm5L4xXIyBJjA0XZBiqvxrEL8gIjf93aZDSIKVBSoPc0SCCgsFIaZDSIKVBSoP8bJC34Rs=\",\"2023-03-19T16:41:38.4141954Z\"]}]}', extra='')\n"
     ]
    },
    {
     "name": "stdout",
     "output_type": "stream",
     "text": [
      "CarData.z 7ZSxCsIwEIbf5ea25JJL02QtvoEuikORgoJ0qN1K3932Orgo1Ft0uOUSQj64/Dm+EXbd0N/aB6TTCIfhAgmssS43Lse4xzIRJheKWEXyJh4hg7rp59sj4FLqa9N17Z0PDCSTgeXquBJXv+6XZZr4gogjIYfmexAZlL4Qxa2Wm0A0xCivr3Yr6YdIA7LiEZDOgHVSUPAl6xuDEHTScEg6Pd4LWy2lqYZt4byf10oW0Ix+FlVVIEWyQT2lnlJPqaf+11OOoouBVFQqKhWViuqnojpPTw==\n",
      "Position.z 7ZQ7a8NAEIT/y9aS0T7u2btOIC4ShxQmuBDBcrCVyui/R9IZcw7Ohri+RkhwHzM7t5oTPO6Pbd/uO4ivJ1i1u+2x3+w+IQI1xHXDNYYV2igY2S1CEDKB11DBsusP7fYI8QQ4PZ76Tf81fsJDtzps3j/GI88Qa+RgK3iBaBqpYA0R0Q8VkIZgcDNSG5MhoiHkzYxQgxmCjcYIY3IWfM7cMQ2q3oT9zFh0OWNVnSbpkLny5lVGkg67PANSMyDm8zw5okeACSGXj0PqjbKRZC1c6bBqjc46V4ia9C8JOFXGhJkZXzKG1Qhub47o3m7eqDGqN5sYlHzb7P9jc2oEPJ2dkGm5L4xXIyBJjA0XZBiqvxrEL8gIjf93aZDSIKVBSoPc0SCCgsFIaZDSIKVBSoP8bJC34Rs=\n"
     ]
    },
    {
     "name": "stderr",
     "output_type": "stream",
     "text": [
      "DEBUG:signalr_async.client:Raw message received: WSMessage(type=<WSMsgType.TEXT: 1>, data='{\"C\":\"d-F23263D5-B,0|Df,0|Dg,11|d,A2|p,964|o,962|a,1|Y,D|Dh,0|n,1|W,2|c,28|i,1|X,C|k,3|l,1|r,2|Z,1|s,59F\",\"M\":[{\"H\":\"Streaming\",\"M\":\"feed\",\"A\":[\"CarData.z\",\"7ZSxCsIwEIbf5ea23OWSNM1afANdFIciBQXpULuVvrvtdXARqbfokOUSQj64/Dm+EXbd0N/aB8TTCIfhAhEMGs6Rc6r25KOlyKHwvmJ3hAzqpp/vjkBLqa9N17V3OUCImIGRylKtVLful2Wa5IKKs0qO8HuQBNS+kNSt+k0goRVU1le7Qfsh2oCMegS0M2BYCyq+ZH1jqQRZG47VTo9zyla9NtVyWzjv5zXoAprRT5oKs6YMUhJVElUSVRLVv4qqKgyj8T55KnkqeSp56qeeOk9P\",\"2023-03-19T16:41:39.230266Z\"]}]}', extra='')\n",
      "DEBUG:signalr_async.client:Raw message received: WSMessage(type=<WSMsgType.TEXT: 1>, data='{\"C\":\"d-F23263D5-B,0|Df,0|Dg,11|d,A2|p,964|o,963|a,1|Y,D|Dh,0|n,1|W,2|c,28|i,1|X,C|k,3|l,1|r,2|Z,1|s,59F\",\"M\":[{\"H\":\"Streaming\",\"M\":\"feed\",\"A\":[\"Position.z\",\"7ZQ/a8MwEMW/y8120N3p9G/P3EIztCkdQslgSpKSuFPwd29shaCU9EozazEy6Md793S8IzzuDl3f7baQXo+w6DbrQ7/afEICMsSt4RbjAl2ymDjMXBQU8ktoYL7t9936AOkIOH6e+lX/dfqFh+1iv3r/OF15htQiR9fACyQxtoElJMQwNEAagtFPSCtSIFZDKMiEkMECQaMxljE7i6Fk7pgGVW+Ww8Q49CXjVB2TdUiuvAWVsVmHfZkBqRkQ83meEtEjwIyQL8ch9UVZbLYWr3RYtUZnnStETfqXBLwqI3FiToeCYTWC25tjdW83X1RE9eYyg7bcNvf/2LwaAY93R2Rc7gsT1AjIZsbFCzIMzV8NEmeGBQ3WAqkFUgukFsgdBcIoRoLUBqkNUhukNsjPBnkbvgE=\",\"2023-03-19T16:41:39.3150585Z\"]}]}', extra='')\n"
     ]
    },
    {
     "name": "stdout",
     "output_type": "stream",
     "text": [
      "CarData.z 7ZSxCsIwEIbf5ea23OWSNM1afANdFIciBQXpULuVvrvtdXARqbfokOUSQj64/Dm+EXbd0N/aB8TTCIfhAhEMGs6Rc6r25KOlyKHwvmJ3hAzqpp/vjkBLqa9N17V3OUCImIGRylKtVLful2Wa5IKKs0qO8HuQBNS+kNSt+k0goRVU1le7Qfsh2oCMegS0M2BYCyq+ZH1jqQRZG47VTo9zyla9NtVyWzjv5zXoAprRT5oKs6YMUhJVElUSVRLVv4qqKgyj8T55KnkqeSp56qeeOk9P\n",
      "Position.z 7ZQ/a8MwEMW/y8120N3p9G/P3EIztCkdQslgSpKSuFPwd29shaCU9EozazEy6Md793S8IzzuDl3f7baQXo+w6DbrQ7/afEICMsSt4RbjAl2ymDjMXBQU8ktoYL7t9936AOkIOH6e+lX/dfqFh+1iv3r/OF15htQiR9fACyQxtoElJMQwNEAagtFPSCtSIFZDKMiEkMECQaMxljE7i6Fk7pgGVW+Ww8Q49CXjVB2TdUiuvAWVsVmHfZkBqRkQ83meEtEjwIyQL8ch9UVZbLYWr3RYtUZnnStETfqXBLwqI3FiToeCYTWC25tjdW83X1RE9eYyg7bcNvf/2LwaAY93R2Rc7gsT1AjIZsbFCzIMzV8NEmeGBQ3WAqkFUgukFsgdBcIoRoLUBqkNUhukNsjPBnkbvgE=\n"
     ]
    },
    {
     "name": "stderr",
     "output_type": "stream",
     "text": [
      "DEBUG:signalr_async.client:Raw message received: WSMessage(type=<WSMsgType.TEXT: 1>, data='{\"C\":\"d-F23263D5-B,0|Df,0|Dg,11|d,A2|p,965|o,964|a,1|Y,D|Dh,0|n,1|W,2|c,28|i,1|X,C|k,3|l,1|r,2|Z,1|s,59F\",\"M\":[{\"H\":\"Streaming\",\"M\":\"feed\",\"A\":[\"CarData.z\",\"7daxCsIwEAbgd7m5lrvcNW2yim+gi+JQRFCQDtqt9N2N6eAiUm+xwy1JCfkhuRwfHWDT9ffr+QHxMMCuP0EEh45XyCsKW/JRKHIohdOilz0UsG7vafcA9BrWl7brzre8gBCxAJdHzqPksZq+X9M45g2qnChzhL8HKQe1NyT1Uf2sIKHkaJ7fx220D6ItkFO3gLYHHGuDiieZ7lgrg6wtjmi7p6qUR/XaqtbzivO5XxtdgVL0G1Q+QYW+MagMKoPKoFouVIGQvASDyqAyqAyqhUIlWFKCisX+qAwqg8qgWjBUXCGG4A0qg8qgMqj+CtVxfAI=\",\"2023-03-19T16:41:40.3500996Z\"]},{\"H\":\"Streaming\",\"M\":\"feed\",\"A\":[\"Position.z\",\"7ZQ9a8MwFEX/y5vtoPehz71zC83QpnQIJYMpSUriTsH/vbEVglLSV5JZi5FBh3d1Jc4Bnrb7ru+2G0hvB5h369W+X66/IAEZ4tZwi3GOLgkmjjPx1rDQAhp42PS7brWHdAAcP8/9sv8+/sLjZr5bfnwet7xAapGja+AVkjXSwAISYhgaIA3B6CektbZAREMo2AkhgwWCRmOEMSeLoWTuOA2q2YTDxDj0JePUOSbPIXuRLaiM5Dnsyw5I7YCYT+cpEb0CzAj58jik3ihbydHixRxWo9FpzgWiNv1HA14dY+PEHBcFw2oF11+O6Nmu3qi1ajaXGZTytbnba/NqBTzuHZHxcZ+ZoFZAkhkXz8gwNP8bJLBEH6UapBqkGqQa5FaDiJkZlGgJq0GqQapBqkHuMAhHCVG4GqQapBqkGuS3Qd6HHw==\",\"2023-03-19T16:41:40.3948943Z\"]}]}', extra='')\n"
     ]
    },
    {
     "name": "stdout",
     "output_type": "stream",
     "text": [
      "CarData.z 7daxCsIwEAbgd7m5lrvcNW2yim+gi+JQRFCQDtqt9N2N6eAiUm+xwy1JCfkhuRwfHWDT9ffr+QHxMMCuP0EEh45XyCsKW/JRKHIohdOilz0UsG7vafcA9BrWl7brzre8gBCxAJdHzqPksZq+X9M45g2qnChzhL8HKQe1NyT1Uf2sIKHkaJ7fx220D6ItkFO3gLYHHGuDiieZ7lgrg6wtjmi7p6qUR/XaqtbzivO5XxtdgVL0G1Q+QYW+MagMKoPKoFouVIGQvASDyqAyqAyqhUIlWFKCisX+qAwqg8qgWjBUXCGG4A0qg8qgMqj+CtVxfAI=\n",
      "Position.z 7ZQ9a8MwFEX/y5vtoPehz71zC83QpnQIJYMpSUriTsH/vbEVglLSV5JZi5FBh3d1Jc4Bnrb7ru+2G0hvB5h369W+X66/IAEZ4tZwi3GOLgkmjjPx1rDQAhp42PS7brWHdAAcP8/9sv8+/sLjZr5bfnwet7xAapGja+AVkjXSwAISYhgaIA3B6CektbZAREMo2AkhgwWCRmOEMSeLoWTuOA2q2YTDxDj0JePUOSbPIXuRLaiM5Dnsyw5I7YCYT+cpEb0CzAj58jik3ihbydHixRxWo9FpzgWiNv1HA14dY+PEHBcFw2oF11+O6Nmu3qi1ajaXGZTytbnba/NqBTzuHZHxcZ+ZoFZAkhkXz8gwNP8bJLBEH6UapBqkGqQa5FaDiJkZlGgJq0GqQapBqkHuMAhHCVG4GqQapBqkGuS3Qd6HHw==\n"
     ]
    },
    {
     "name": "stderr",
     "output_type": "stream",
     "text": [
      "DEBUG:signalr_async.client:Connection keepalive\n",
      "DEBUG:signalr_async.client:Sending: message_content='{}', is_binary=False\n",
      "DEBUG:signalr_async.client:Raw message received: WSMessage(type=<WSMsgType.TEXT: 1>, data='{\"C\":\"d-F23263D5-B,0|Df,0|Dg,11|d,A2|p,966|o,965|a,1|Y,D|Dh,0|n,1|W,2|c,28|i,1|X,C|k,3|l,1|r,2|Z,1|s,59F\",\"M\":[{\"H\":\"Streaming\",\"M\":\"feed\",\"A\":[\"CarData.z\",\"7ZaxCoMwEIbf5WaVu+RiTFbpG7RLSwcpQgvFoXUT370ahy6l2FvqcMtFQj64/Dk+HGDX9Y9b+4R4GuDQXyCCQWNztDmFPZWRKTIWLiCWbI+QQd08ptMD0Fzqa9N17T1tIETMwKRqU+VU3fI9L+OYDog4FnKEv4OUQOkNSdxquQok5ISm9d1uJX0QaUBGPALSGTBWCgqeZLmjF4JWGg5Lp8c5YaulNFW/LpzP81rJAprQb6LyDpGxUlGpqFRUKqrtiipMf1TIXkWlolJRqai2KioqLIbgvFFRqahUVCqqv4rqPL4A\",\"2023-03-19T16:41:41.3099572Z\"]},{\"H\":\"Streaming\",\"M\":\"feed\",\"A\":[\"Position.z\",\"7Zi7asNAEEX/ZWrJ7MzOPvvUCcRF4pDCBBciWA62Uhn9e/QwZk2cCXY9jZBgD3P37nIKHeFpd2i6ZtdCfjvCstluDt16+wUZyJCtja0xLdFnxsxm4SzHYFdQwUPb7ZvNAfIRcHw8d+vue/iEx3a5X398DkteINdok6/gFbIzXMEKMmLsKyAJwRQmpHauQFhCKLoJIYMFgkZi2OKcLMWSuWM3KGZjGyfGYygZL84x8xxyF9miyPA8x4ayAxI7IGtP+ykRuQKcEQrldkg8Uet4jpYu5lgxGp3mXCBi0380EMQxLk3M8FIwVqzg+s1hOdvVE3VOzOZnBrm8bf722oJYgR3Xjsh4uc9MFCsgnhmfzkjfV/8LJAxnxOTVIGoQNYga5A6DJMfRJFKDqEHUIGqQmw2CCwwcgotqEDWIGkQNcodBbOLApP9B1CBqEDXIL4O89z8=\",\"2023-03-19T16:41:41.3947423Z\"]}]}', extra='')\n"
     ]
    },
    {
     "name": "stdout",
     "output_type": "stream",
     "text": [
      "CarData.z 7ZaxCoMwEIbf5WaVu+RiTFbpG7RLSwcpQgvFoXUT370ahy6l2FvqcMtFQj64/Dk+HGDX9Y9b+4R4GuDQXyCCQWNztDmFPZWRKTIWLiCWbI+QQd08ptMD0Fzqa9N17T1tIETMwKRqU+VU3fI9L+OYDog4FnKEv4OUQOkNSdxquQok5ISm9d1uJX0QaUBGPALSGTBWCgqeZLmjF4JWGg5Lp8c5YaulNFW/LpzP81rJAprQb6LyDpGxUlGpqFRUKqrtiipMf1TIXkWlolJRqai2KioqLIbgvFFRqahUVCqqv4rqPL4A\n",
      "Position.z 7Zi7asNAEEX/ZWrJ7MzOPvvUCcRF4pDCBBciWA62Uhn9e/QwZk2cCXY9jZBgD3P37nIKHeFpd2i6ZtdCfjvCstluDt16+wUZyJCtja0xLdFnxsxm4SzHYFdQwUPb7ZvNAfIRcHw8d+vue/iEx3a5X398DkteINdok6/gFbIzXMEKMmLsKyAJwRQmpHauQFhCKLoJIYMFgkZi2OKcLMWSuWM3KGZjGyfGYygZL84x8xxyF9miyPA8x4ayAxI7IGtP+ykRuQKcEQrldkg8Uet4jpYu5lgxGp3mXCBi0380EMQxLk3M8FIwVqzg+s1hOdvVE3VOzOZnBrm8bf722oJYgR3Xjsh4uc9MFCsgnhmfzkjfV/8LJAxnxOTVIGoQNYga5A6DJMfRJFKDqEHUIGqQmw2CCwwcgotqEDWIGkQNcodBbOLApP9B1CBqEDXIL4O89z8=\n"
     ]
    },
    {
     "name": "stderr",
     "output_type": "stream",
     "text": [
      "DEBUG:signalr_async.client:Raw message received: WSMessage(type=<WSMsgType.TEXT: 1>, data='{\"C\":\"d-F23263D5-B,0|Df,0|Dg,11|d,A2|p,967|o,966|a,1|Y,D|Dh,0|n,1|W,2|c,28|i,1|X,C|k,3|l,1|r,2|Z,1|s,59F\",\"M\":[{\"H\":\"Streaming\",\"M\":\"feed\",\"A\":[\"CarData.z\",\"7ZaxCoMwEIbf5WaVXBKTXFbpG7RLSwcpQgvFoXUT370xDl1KsbfU4UAuIvng8uf4cIRdPzxu3RPiaYTDcIEIWmlTKlMi7dFFi+mpakWkvTtCAU37SLtHwLk017bvu3v+oCCqAnSuJleba728z8s05Q0szjI5VL+DmEHuCZHdqlsForIZzeu73cC9EG5Amj0C3BnQhgsyrmQ5o2eChhuO5U5PXTNbddxU/bpwPs9r4AWU0G+i8pYCafGUeEo8JZ7arqdIUXCeRFQiKhGViGqrotIVph8qg0FEJaISUYmotisqE8iTMyIqEZWISkT1V1Gdpxc=\",\"2023-03-19T16:41:42.3897963Z\"]},{\"H\":\"Streaming\",\"M\":\"feed\",\"A\":[\"Position.z\",\"7ZTLasMwEEX/ZdZ20Dz08r7rFppFm9JFKFmYEqck7ir432tbISglnZKsBcbYoMNcXYlzhKfdoe3bXQfN2xGW7XZz6NfbL2iADHFtuMa4RNcIjs9CvHg2tIIKHrp+324O0BwBp9dzv+6/x1947Jb79cfnuOQFmho5ugpeobFGKlhBgxiGCkhDMPoZqa3NENEQCnZGyGCGoNEYYUzJYsiZO3aDajbhMDMOfc44dY5Jc8heZAsqI2kO+7wDUjsg5tN+ckSvABNCPt8OqSfKVlK0eDGH1Wh0mnOBqE3/0YBXx9g4M+NHxrBawfWbI3q2qydqrZrNJQYlv23u9tq8WgFPaydkutxnJqgVkCTGxTMyDNX/BgkszlspBikGKQYpBrnZILQwKE4CFoMUgxSDFIPcYRCM4sj4YpBikGKQYpDfBnkffgA=\",\"2023-03-19T16:41:42.1946207Z\"]}]}', extra='')\n",
      "DEBUG:signalr_async.client:Raw message received: WSMessage(type=<WSMsgType.TEXT: 1>, data='{}', extra='')\n"
     ]
    },
    {
     "name": "stdout",
     "output_type": "stream",
     "text": [
      "CarData.z 7ZaxCoMwEIbf5WaVXBKTXFbpG7RLSwcpQgvFoXUT370xDl1KsbfU4UAuIvng8uf4cIRdPzxu3RPiaYTDcIEIWmlTKlMi7dFFi+mpakWkvTtCAU37SLtHwLk017bvu3v+oCCqAnSuJleba728z8s05Q0szjI5VL+DmEHuCZHdqlsForIZzeu73cC9EG5Amj0C3BnQhgsyrmQ5o2eChhuO5U5PXTNbddxU/bpwPs9r4AWU0G+i8pYCafGUeEo8JZ7arqdIUXCeRFQiKhGViGqrotIVph8qg0FEJaISUYmotisqE8iTMyIqEZWISkT1V1Gdpxc=\n",
      "Position.z 7ZTLasMwEEX/ZdZ20Dz08r7rFppFm9JFKFmYEqck7ir432tbISglnZKsBcbYoMNcXYlzhKfdoe3bXQfN2xGW7XZz6NfbL2iADHFtuMa4RNcIjs9CvHg2tIIKHrp+324O0BwBp9dzv+6/x1947Jb79cfnuOQFmho5ugpeobFGKlhBgxiGCkhDMPoZqa3NENEQCnZGyGCGoNEYYUzJYsiZO3aDajbhMDMOfc44dY5Jc8heZAsqI2kO+7wDUjsg5tN+ckSvABNCPt8OqSfKVlK0eDGH1Wh0mnOBqE3/0YBXx9g4M+NHxrBawfWbI3q2qydqrZrNJQYlv23u9tq8WgFPaydkutxnJqgVkCTGxTMyDNX/BgkszlspBikGKQYpBrnZILQwKE4CFoMUgxSDFIPcYRCM4sj4YpBikGKQYpDfBnkffgA=\n"
     ]
    },
    {
     "name": "stderr",
     "output_type": "stream",
     "text": [
      "DEBUG:signalr_async.client:Raw message received: WSMessage(type=<WSMsgType.TEXT: 1>, data='{\"C\":\"d-F23263D5-B,0|Df,0|Dg,11|d,A2|p,968|o,967|a,1|Y,D|Dh,0|n,1|W,2|c,28|i,1|X,C|k,3|l,1|r,2|Z,1|s,59F\",\"M\":[{\"H\":\"Streaming\",\"M\":\"feed\",\"A\":[\"CarData.z\",\"7ZexCoMwEIbf5WaVu+RMTFbpG7RLSwcpQgvFoXUT370ahy4t2FvqcMtFQj64/Dk+cIBd1z9u7RPiaYBDf4EIBo3N0eYU9uQiU2RTeA6e7REyqJvHdHgAmkt9bbquvacNhIgZmFRtqpxquXzPyzimAyKOhRzh7yAlUHpDErfqVoGEnNC0vtutpA8iDciIR0A6A8ZKQcGTLHf0QtBKw2Hp9JSlsFUnTdWvC+fzvFaygCb0u6dsgSZ4RKeiUlGpqFRU2xUVVcF5F1RUKioVlYpqu6Kyk6jY66+fikpFpaL6r6jO4ws=\",\"2023-03-19T16:41:43.3896473Z\"]},{\"H\":\"Streaming\",\"M\":\"feed\",\"A\":[\"Position.z\",\"7ZZNS8NAEIb/y5yTsvOxn3fPCvagFQ9FeghiK208lfx3k2wpW6wj9ryXkMA+zMy7w0OO8LA7dH2320J6OcKy+9gc+vXHJyQgQ9wabjEu0SXBJLRwVqw1YQUN3G37fbc5QDoCTo/Hft1/jZ9wv13u12/v45EnSC1ydA08Q7JGGlhBQgxDA6QhGP2MtNYWiGgIBTsjZLBA0GiMMObOYiiZG6ZBtTfhMDMOfck4tY7Jdche9BZURnId9mUGpGZAzKd5SkSPADNCvhyH1BtlK7m1eFGH1dboVOcCUZP+JQGvlrFxZsaXgmE1guubI3pvV2/UWrU3lxmUctvc/2PzagQ8nZ2QabnPTFAjIMmMi2dkGJq/DMILM84SHVaDVINUg1SD3GAQjCIu+GqQapBqkGqQGwwio0GI6z9INUg1SDXID4O8Dt8=\",\"2023-03-19T16:41:43.4944231Z\"]}]}', extra='')\n"
     ]
    },
    {
     "name": "stdout",
     "output_type": "stream",
     "text": [
      "CarData.z 7ZexCoMwEIbf5WaVu+RMTFbpG7RLSwcpQgvFoXUT370ahy4t2FvqcMtFQj64/Dk+cIBd1z9u7RPiaYBDf4EIBo3N0eYU9uQiU2RTeA6e7REyqJvHdHgAmkt9bbquvacNhIgZmFRtqpxquXzPyzimAyKOhRzh7yAlUHpDErfqVoGEnNC0vtutpA8iDciIR0A6A8ZKQcGTLHf0QtBKw2Hp9JSlsFUnTdWvC+fzvFaygCb0u6dsgSZ4RKeiUlGpqFRU2xUVVcF5F1RUKioVlYpqu6Kyk6jY66+fikpFpaL6r6jO4ws=\n",
      "Position.z 7ZZNS8NAEIb/y5yTsvOxn3fPCvagFQ9FeghiK208lfx3k2wpW6wj9ryXkMA+zMy7w0OO8LA7dH2320J6OcKy+9gc+vXHJyQgQ9wabjEu0SXBJLRwVqw1YQUN3G37fbc5QDoCTo/Hft1/jZ9wv13u12/v45EnSC1ydA08Q7JGGlhBQgxDA6QhGP2MtNYWiGgIBTsjZLBA0GiMMObOYiiZG6ZBtTfhMDMOfck4tY7Jdche9BZURnId9mUGpGZAzKd5SkSPADNCvhyH1BtlK7m1eFGH1dboVOcCUZP+JQGvlrFxZsaXgmE1guubI3pvV2/UWrU3lxmUctvc/2PzagQ8nZ2QabnPTFAjIMmMi2dkGJq/DMILM84SHVaDVINUg1SD3GAQjCIu+GqQapBqkGqQGwwio0GI6z9INUg1SDXID4O8Dt8=\n"
     ]
    },
    {
     "name": "stderr",
     "output_type": "stream",
     "text": [
      "DEBUG:signalr_async.client:Raw message received: WSMessage(type=<WSMsgType.TEXT: 1>, data='{\"C\":\"d-F23263D5-B,0|Df,0|Dg,11|d,A2|p,969|o,968|a,1|Y,D|Dh,0|n,1|W,2|c,28|i,1|X,C|k,3|l,1|r,2|Z,1|s,59F\",\"M\":[{\"H\":\"Streaming\",\"M\":\"feed\",\"A\":[\"CarData.z\",\"7ZaxCoMwEIbf5WaVu+QSTVbpG7RLSwcpQgvFwbqJ716NQ5cW7C3tcMtFQj64/Dk+HGHXDf2tfUA8jXAYLhDBoLE52pzCnnxkimwL74NHF46QQd308+kRaCn1tem69p42ECJmYFK1qXKqbv1elmlKB0QcCznC70FKoPSGJG7VbwIJOaFpfbVbSR9EGpARj4B0BoyVgoInWe9YCkErDYel0+OcsFUvTbXcFs77ea1kAc3oZ1FxQRicDZWKSkWlolJR/a+o2AeuvP5RqahUVCqq34rqPD0B\",\"2023-03-19T16:41:44.4694869Z\"]},{\"H\":\"Streaming\",\"M\":\"feed\",\"A\":[\"Position.z\",\"7ZS7asNAEEX/ZWrJ7OzMPvvUCcRF4pDCBBciWA62Uhn9e/QwZh2cCXY9IIQEe5i7d5dzhKfdoemaXQv57QjLZrs5dOvtF2SwxlJtqMa0RJ8ZM9PCETOGFVTw0Hb7ZnOAfAQcX8/duvsefuGxXe7XH5/DkhfINVLyFbxCdoYrWEFGjH0FVkIwhQmpnSsQlhAb3YRYgwWCRmKYcE6WYsncsRsUszHFifEYSsaLc8w8x7qLbFFkeJ5DoezAih1YotN+SkSuAGfEhnI7VjxRcjxHSxdzSIxmT3MuELHpPxoI4hiXJmb4KBgSK7h+c1jOdvVEnROz+ZlBLm+bv722IFZA49oRGS/3mYliBZZnxqcz0vfV/wKJjslHVoOoQdQgapCbDcILE5jIqUBUICoQFcgdArGJyaAaRA2iBlGD3GMQDmyHRw2iBlGDqEF+G+S9/wE=\",\"2023-03-19T16:41:44.4742742Z\"]}]}', extra='')\n"
     ]
    },
    {
     "name": "stdout",
     "output_type": "stream",
     "text": [
      "CarData.z 7ZaxCoMwEIbf5WaVu+QSTVbpG7RLSwcpQgvFwbqJ716NQ5cW7C3tcMtFQj64/Dk+HGHXDf2tfUA8jXAYLhDBoLE52pzCnnxkimwL74NHF46QQd308+kRaCn1tem69p42ECJmYFK1qXKqbv1elmlKB0QcCznC70FKoPSGJG7VbwIJOaFpfbVbSR9EGpARj4B0BoyVgoInWe9YCkErDYel0+OcsFUvTbXcFs77ea1kAc3oZ1FxQRicDZWKSkWlolJR/a+o2AeuvP5RqahUVCqq34rqPD0B\n",
      "Position.z 7ZS7asNAEEX/ZWrJ7OzMPvvUCcRF4pDCBBciWA62Uhn9e/QwZh2cCXY9IIQEe5i7d5dzhKfdoemaXQv57QjLZrs5dOvtF2SwxlJtqMa0RJ8ZM9PCETOGFVTw0Hb7ZnOAfAQcX8/duvsefuGxXe7XH5/DkhfINVLyFbxCdoYrWEFGjH0FVkIwhQmpnSsQlhAb3YRYgwWCRmKYcE6WYsncsRsUszHFifEYSsaLc8w8x7qLbFFkeJ5DoezAih1YotN+SkSuAGfEhnI7VjxRcjxHSxdzSIxmT3MuELHpPxoI4hiXJmb4KBgSK7h+c1jOdvVEnROz+ZlBLm+bv722IFZA49oRGS/3mYliBZZnxqcz0vfV/wKJjslHVoOoQdQgapCbDcILE5jIqUBUICoQFcgdArGJyaAaRA2iBlGD3GMQDmyHRw2iBlGDqEF+G+S9/wE=\n"
     ]
    },
    {
     "name": "stderr",
     "output_type": "stream",
     "text": [
      "DEBUG:signalr_async.client:Raw message received: WSMessage(type=<WSMsgType.TEXT: 1>, data='{\"C\":\"d-F23263D5-B,0|Df,0|Dg,11|d,A2|p,96A|o,969|a,1|Y,D|Dh,0|n,1|W,2|c,28|i,1|X,C|k,3|l,1|r,2|Z,1|s,59F\",\"M\":[{\"H\":\"Streaming\",\"M\":\"feed\",\"A\":[\"CarData.z\",\"7ZSxCsIwEIbf5ea25HKXtMlafANdFIciBQXpoN1K3902HVxE6i12uOUSQj64/Dm+AXZd/7i1T4inAQ79BSJYYyk3lGPYo4+MkbnwPrAr3REyqJvHdHsAnEt9bbquvacDA9FkYFOlVDlVt+znZRzTBRHHQg7N7yAmUPpCFLfqV4FoOKFpfbdbST9EGpAVj4B0BixJQcGXLG8shSBJw2Hp9DgnbNVLUy3XhfN5XitZQBP6TVTBBLYYVFQqKhWVimqronIFcqDKVSoqFZWKSkW1XVE5E4isV1GpqFRUKqq/iuo8vgA=\",\"2023-03-19T16:41:45.5093326Z\"]},{\"H\":\"Streaming\",\"M\":\"feed\",\"A\":[\"Position.z\",\"7ZQ/a8MwEMW/y8128P2RZGnP3EI9tCkdTMlgSpySuFPwd69thaCU9EozazEy6Md793S8Ezzuj93Q7XsIrydout32OLS7TwhAFXFZcYm+QRsEg8jKsRCL3UAB6344dNsjhBPg/Hka2uFr+oWHvjm07x/TlWcIJbK3BbxAMJUUsIGAWI8FkIagdwtSGpMgoiFUmwWhChMEK40RxujM1ylzxzSoehOuF8aiSxmr6lRRh8yVt1plJOqwSzMgNQNiPs+TInoEGBFy6Tikvigbidb8lQ6r1uisc4WoSf+SgFNljF+Y6ZAwrEZwe3NE93bzRY1RvdnIoKTbZv8fm1Mj4PnujMzLfWFqNQKSyFh/Qcax+KtBzArRoLMuN0hukNwguUHuaBBmM8XHuUFyg+QGyQ3ys0Hexm8=\",\"2023-03-19T16:41:45.3351433Z\"]}]}', extra='')\n"
     ]
    },
    {
     "name": "stdout",
     "output_type": "stream",
     "text": [
      "CarData.z 7ZSxCsIwEIbf5ea25HKXtMlafANdFIciBQXpoN1K3902HVxE6i12uOUSQj64/Dm+AXZd/7i1T4inAQ79BSJYYyk3lGPYo4+MkbnwPrAr3REyqJvHdHsAnEt9bbquvacDA9FkYFOlVDlVt+znZRzTBRHHQg7N7yAmUPpCFLfqV4FoOKFpfbdbST9EGpAVj4B0BixJQcGXLG8shSBJw2Hp9DgnbNVLUy3XhfN5XitZQBP6TVTBBLYYVFQqKhWVimqronIFcqDKVSoqFZWKSkW1XVE5E4isV1GpqFRUKqq/iuo8vgA=\n",
      "Position.z 7ZQ/a8MwEMW/y8128P2RZGnP3EI9tCkdTMlgSpySuFPwd69thaCU9EozazEy6Md793S8Ezzuj93Q7XsIrydout32OLS7TwhAFXFZcYm+QRsEg8jKsRCL3UAB6344dNsjhBPg/Hka2uFr+oWHvjm07x/TlWcIJbK3BbxAMJUUsIGAWI8FkIagdwtSGpMgoiFUmwWhChMEK40RxujM1ylzxzSoehOuF8aiSxmr6lRRh8yVt1plJOqwSzMgNQNiPs+TInoEGBFy6Tikvigbidb8lQ6r1uisc4WoSf+SgFNljF+Y6ZAwrEZwe3NE93bzRY1RvdnIoKTbZv8fm1Mj4PnujMzLfWFqNQKSyFh/Qcax+KtBzArRoLMuN0hukNwguUHuaBBmM8XHuUFyg+QGyQ3ys0Hexm8=\n"
     ]
    },
    {
     "name": "stderr",
     "output_type": "stream",
     "text": [
      "DEBUG:signalr_async.client:Connection keepalive\n",
      "DEBUG:signalr_async.client:Sending: message_content='{}', is_binary=False\n",
      "DEBUG:signalr_async.client:Raw message received: WSMessage(type=<WSMsgType.TEXT: 1>, data='{\"C\":\"d-F23263D5-B,0|Df,0|Dg,11|d,A2|p,96B|o,96A|a,1|Y,D|Dh,0|n,1|W,2|c,28|i,1|X,C|k,3|l,1|r,2|Z,1|s,59F\",\"M\":[{\"H\":\"Streaming\",\"M\":\"feed\",\"A\":[\"CarData.z\",\"7ZS/CsIwEIff5ea23OV/sxbfQBfFoUhBQTpot9J3N00HF5F6ix1uuYSQDy6/HN8Iu3543LonxNMIh+ECERQqXaIuqd6Ti4aisZXzqDH4IxTQtI90ewSaS3Nt+7675wOEiAWoXHWuJle77OdlmvIFFmeYHOHvIGWQ+0Jit+pWgYQmo3l9txu4H8INSLFHgDsDSnNBxpcsb/RMUHPDMdzpsZbZquOm6teF83leAy+ghH4TVfCofAgiKhGViEpEtVVRuQqTqEywIioRlYhKRLVdUakkKgq1iEpEJaISUf1VVOfpBQ==\",\"2023-03-19T16:41:46.2702189Z\"]},{\"H\":\"Streaming\",\"M\":\"feed\",\"A\":[\"Position.z\",\"7ZS9asNAEITfZWvJ3O7ef+86gahIHFKI4EIEy8FWKqN3j6Qz5hycDU59jZDgPmZ2bjUneNwfu6Hb9xBfT9B0u+1xaHefEIEUca24xtCgjRqjNivHRnkyG6hg3Q+HbnuEeAKcH09DO3xNn/DQN4f2/WM68gyxRg62gheIRukKNhAR/VgBSQgGtyC1MRmiJYS8WRBSmCGoJEYzJmfB58w/pkHRm2a/MBZdzlhRRyUdMlfevMjopMMuz4DEDIj5PE+OyBFgQsjl45B4o2x0shaudFi0RmedK0RM+pcEnChjwsJMLxnDYgS3N0fL3m7eqDGiN5sY1Pm22ftjc2IEPJ+dkXm5L4wXIyCdGBsuyDhWfzdIcNOvY0uBlAIpBVIK5O4CsStmHQJyaZDSIKVBSoP8bJC38Rs=\",\"2023-03-19T16:41:46.3349913Z\"]}]}', extra='')\n"
     ]
    },
    {
     "name": "stdout",
     "output_type": "stream",
     "text": [
      "CarData.z 7ZS/CsIwEIff5ea23OV/sxbfQBfFoUhBQTpot9J3N00HF5F6ix1uuYSQDy6/HN8Iu3543LonxNMIh+ECERQqXaIuqd6Ti4aisZXzqDH4IxTQtI90ewSaS3Nt+7675wOEiAWoXHWuJle77OdlmvIFFmeYHOHvIGWQ+0Jit+pWgYQmo3l9txu4H8INSLFHgDsDSnNBxpcsb/RMUHPDMdzpsZbZquOm6teF83leAy+ghH4TVfCofAgiKhGViEpEtVVRuQqTqEywIioRlYhKRLVdUakkKgq1iEpEJaISUf1VVOfpBQ==\n",
      "Position.z 7ZS9asNAEITfZWvJ3O7ef+86gahIHFKI4EIEy8FWKqN3j6Qz5hycDU59jZDgPmZ2bjUneNwfu6Hb9xBfT9B0u+1xaHefEIEUca24xtCgjRqjNivHRnkyG6hg3Q+HbnuEeAKcH09DO3xNn/DQN4f2/WM68gyxRg62gheIRukKNhAR/VgBSQgGtyC1MRmiJYS8WRBSmCGoJEYzJmfB58w/pkHRm2a/MBZdzlhRRyUdMlfevMjopMMuz4DEDIj5PE+OyBFgQsjl45B4o2x0shaudFi0RmedK0RM+pcEnChjwsJMLxnDYgS3N0fL3m7eqDGiN5sY1Pm22ftjc2IEPJ+dkXm5L4wXIyCdGBsuyDhWfzdIcNOvY0uBlAIpBVIK5O4CsStmHQJyaZDSIKVBSoP8bJC38Rs=\n"
     ]
    },
    {
     "name": "stderr",
     "output_type": "stream",
     "text": [
      "DEBUG:signalr_async.client:Raw message received: WSMessage(type=<WSMsgType.TEXT: 1>, data='{\"C\":\"d-F23263D5-B,0|Df,0|Dg,11|d,A2|p,96C|o,96A|a,1|Y,D|Dh,0|n,1|W,2|c,28|i,1|X,C|k,3|l,1|r,2|Z,1|s,59F\",\"M\":[{\"H\":\"Streaming\",\"M\":\"feed\",\"A\":[\"CarData.z\",\"7dSxDoIwEAbgd7kZyF2vpaUr8Q100TgQQ6KJYVA2wrsLZXAxBm+R4ZYrIf2T9nr5Bth1/ePWPiGeBjj0F4hg0HCOnFO1pzJairYsHCEFtkfIoG4e0+4BaC71tem69p5+IETMwKTKqdpU3fI9L+OYNohyVpgj/D1IKSi9IYmPWq4KEtoUTev7uEH6INIGGfEISGfAsDQoeJLljl4YZGlzrHR6nBMetZR21a9rzud5DbIGTdFvUPkJKsdBoVKoFCqFartQVRNUhr1CpVApVArVVqHyBTnE4BUqhUqhUqg2DBVXiM4YhUqhUqgUqr9CdR5f\",\"2023-03-19T16:41:47.3900522Z\"]}]}', extra='')\n",
      "DEBUG:signalr_async.client:Raw message received: WSMessage(type=<WSMsgType.TEXT: 1>, data='{\"C\":\"d-F23263D5-B,0|Df,0|Dg,11|d,A2|p,96C|o,96B|a,1|Y,D|Dh,0|n,1|W,2|c,28|i,1|X,C|k,3|l,1|r,2|Z,1|s,59F\",\"M\":[{\"H\":\"Streaming\",\"M\":\"feed\",\"A\":[\"Position.z\",\"7ZY9a8NADIb/i2Y7WCfd5965hXpoUzqEksGUOCV2J+P/XtsXwpmmKsl8i7HhHiS9Jx48wNOxa/rm2EJ4G6BuDvuu3x2+IICqFJUVlehrNIExsNmwZ28sbaGAh7Y/NfsOwgA4P577Xf89fcJjW592H5/TkRcIJZI3BbxC0BUXsIWA6MYClISgtwtSap0gLCHK6QVRFSYIVhLDhLEz71LmjmlQ7I3JLYxBmzJGrFPFOkqvenMiw7EO2TQDJWagiM7zpIgcAUZE2XQcJd4oaY6t+VUdEltT5zorREz6jwSsWEb7hZleEobECK5vDsu9Xb1RrcXeTGSQ020zt8dmxQhoPjsj83JfGCdGoDgyxl+QcSz+N4jT7KeC2SDZINkg2SA3G8Ru0LIzbLJBskGyQbJB7jDItAmObP4HyQbJBskG+WWQ9/EH\",\"2023-03-19T16:41:47.3548372Z\"]}]}', extra='')\n"
     ]
    },
    {
     "name": "stdout",
     "output_type": "stream",
     "text": [
      "CarData.z 7dSxDoIwEAbgd7kZyF2vpaUr8Q100TgQQ6KJYVA2wrsLZXAxBm+R4ZYrIf2T9nr5Bth1/ePWPiGeBjj0F4hg0HCOnFO1pzJairYsHCEFtkfIoG4e0+4BaC71tem69p5+IETMwKTKqdpU3fI9L+OYNohyVpgj/D1IKSi9IYmPWq4KEtoUTev7uEH6INIGGfEISGfAsDQoeJLljl4YZGlzrHR6nBMetZR21a9rzud5DbIGTdFvUPkJKsdBoVKoFCqFartQVRNUhr1CpVApVArVVqHyBTnE4BUqhUqhUqg2DBVXiM4YhUqhUqgUqr9CdR5f\n",
      "Position.z 7ZY9a8NADIb/i2Y7WCfd5965hXpoUzqEksGUOCV2J+P/XtsXwpmmKsl8i7HhHiS9Jx48wNOxa/rm2EJ4G6BuDvuu3x2+IICqFJUVlehrNIExsNmwZ28sbaGAh7Y/NfsOwgA4P577Xf89fcJjW592H5/TkRcIJZI3BbxC0BUXsIWA6MYClISgtwtSap0gLCHK6QVRFSYIVhLDhLEz71LmjmlQ7I3JLYxBmzJGrFPFOkqvenMiw7EO2TQDJWagiM7zpIgcAUZE2XQcJd4oaY6t+VUdEltT5zorREz6jwSsWEb7hZleEobECK5vDsu9Xb1RrcXeTGSQ020zt8dmxQhoPjsj83JfGCdGoDgyxl+QcSz+N4jT7KeC2SDZINkg2SA3G8Ru0LIzbLJBskGyQbJB7jDItAmObP4HyQbJBskG+WWQ9/EH\n"
     ]
    },
    {
     "name": "stderr",
     "output_type": "stream",
     "text": [
      "DEBUG:signalr_async.client:Raw message received: WSMessage(type=<WSMsgType.TEXT: 1>, data='{\"C\":\"d-F23263D5-B,0|Df,0|Dg,11|d,A2|p,96C|o,96C|a,1|Y,D|Dh,0|n,1|W,2|c,28|i,1|X,C|k,3|l,1|r,2|Z,1|s,59F\",\"M\":[{\"H\":\"Streaming\",\"M\":\"feed\",\"A\":[\"Position.z\",\"7ZS9asNAEITfZWvJaPf2fnvXCURF4pBCBBciWA6WUgm9eySdMefgbHDqa8QJ7mNm55YZ4fHYt0N77CC8jlC3h30/NIdPCEAVqbJSJfoaTWAMbDcG2Xprd1DAthtO7b6HMAIun6ehGb7mX3jo6lPz/jFfeYZQovKmgBcIuuICdhAQ3VQASQh6uyKl1gnCEkJOrwhVmCBYSQwrjM68S5l/TIOiN1ZuZQzalDGiThV1SF95cyLDUUfZNAMSMyClzvOkiBwBRoRsOg6JL6o0R2v+SkeJ1uisc4WISf+SgBVltF+Z+ZAwSozg9uaw7O3mi2otejORQU63zdwfmxUjUMvdBVmW+8I4MQLiyBh/Qaap+LtBnGZrkHKD5AbJDZIb5O4GcRvybDxzbpDcILlBcoP8bJC36Rs=\",\"2023-03-19T16:41:48.2946944Z\"]}]}', extra='')\n",
      "DEBUG:signalr_async.client:Raw message received: WSMessage(type=<WSMsgType.TEXT: 1>, data='{\"C\":\"d-F23263D5-B,0|Df,0|Dg,11|d,A2|p,96D|o,96C|a,1|Y,D|Dh,0|n,1|W,2|c,28|i,1|X,C|k,3|l,1|r,2|Z,1|s,59F\",\"M\":[{\"H\":\"Streaming\",\"M\":\"feed\",\"A\":[\"CarData.z\",\"7dS9CsJADAfwd8lsS3LfubX4BrooDiIFBemg3Urf3fYcXEQ0ix2y5Eq5P9zlwm+AddffLu0d8n6AbX+CDAaNrdBWxBsK2VF2sQ4WkULcwQqa423aPQDNpTkfu669lh8IGVdgSrWlulL983texrFsEOWcMEf4e5BKUHpDEh81fBUkdCVa1tdxk/RBpA0y4hGQzoCx0qDgSZ53jMKglTbHSafHe+FRg7Sr8bvmvJ/XJGvQFP0EVQrMCZNCpVApVArVUqFKNRpmH7xCpVApVArVcqGixGwNK1QKlUKlUC0XKuuYkZ1CpVApVArVX6E6jA8=\",\"2023-03-19T16:41:48.3499094Z\"]}]}', extra='')\n"
     ]
    },
    {
     "name": "stdout",
     "output_type": "stream",
     "text": [
      "Position.z 7ZS9asNAEITfZWvJaPf2fnvXCURF4pBCBBciWA6WUgm9eySdMefgbHDqa8QJ7mNm55YZ4fHYt0N77CC8jlC3h30/NIdPCEAVqbJSJfoaTWAMbDcG2Xprd1DAthtO7b6HMAIun6ehGb7mX3jo6lPz/jFfeYZQovKmgBcIuuICdhAQ3VQASQh6uyKl1gnCEkJOrwhVmCBYSQwrjM68S5l/TIOiN1ZuZQzalDGiThV1SF95cyLDUUfZNAMSMyClzvOkiBwBRoRsOg6JL6o0R2v+SkeJ1uisc4WISf+SgBVltF+Z+ZAwSozg9uaw7O3mi2otejORQU63zdwfmxUjUMvdBVmW+8I4MQLiyBh/Qaap+LtBnGZrkHKD5AbJDZIb5O4GcRvybDxzbpDcILlBcoP8bJC36Rs=\n",
      "CarData.z 7dS9CsJADAfwd8lsS3LfubX4BrooDiIFBemg3Urf3fYcXEQ0ix2y5Eq5P9zlwm+AddffLu0d8n6AbX+CDAaNrdBWxBsK2VF2sQ4WkULcwQqa423aPQDNpTkfu669lh8IGVdgSrWlulL983texrFsEOWcMEf4e5BKUHpDEh81fBUkdCVa1tdxk/RBpA0y4hGQzoCx0qDgSZ53jMKglTbHSafHe+FRg7Sr8bvmvJ/XJGvQFP0EVQrMCZNCpVApVArVUqFKNRpmH7xCpVApVArVcqGixGwNK1QKlUKlUC0XKuuYkZ1CpVApVArVX6E6jA8=\n"
     ]
    },
    {
     "name": "stderr",
     "output_type": "stream",
     "text": [
      "DEBUG:signalr_async.client:Raw message received: WSMessage(type=<WSMsgType.TEXT: 1>, data='{\"C\":\"d-F23263D5-B,0|Df,0|Dg,11|d,A3|p,96D|o,96C|a,1|Y,D|Dh,0|n,1|W,2|c,28|i,1|X,C|k,3|l,1|r,2|Z,1|s,59F\",\"M\":[{\"H\":\"Streaming\",\"M\":\"feed\",\"A\":[\"Heartbeat\",{\"Utc\":\"2023-03-19T16:41:50.9220842Z\",\"_kf\":true},\"2023-03-19T16:41:50.522Z\"]}]}', extra='')\n"
     ]
    },
    {
     "name": "stdout",
     "output_type": "stream",
     "text": [
      "Heartbeat {'Utc': '2023-03-19T16:41:50.9220842Z', '_kf': True}\n"
     ]
    },
    {
     "name": "stderr",
     "output_type": "stream",
     "text": [
      "DEBUG:signalr_async.client:Raw message received: WSMessage(type=<WSMsgType.TEXT: 1>, data='{\"C\":\"d-F23263D5-B,0|Df,0|Dg,11|d,A3|p,96E|o,96D|a,1|Y,D|Dh,0|n,1|W,2|c,28|i,1|X,C|k,3|l,1|r,2|Z,1|s,59F\",\"M\":[{\"H\":\"Streaming\",\"M\":\"feed\",\"A\":[\"CarData.z\",\"7daxCsIwEAbgd7lZy11yaS5ZxTfQRXEQERSkg7qVvrttOriI1FvscMullP6QXI6PtrBunvfr+QF538L2eYIMDp1fol9S2lCdmTJLFSRJZNrBAlbHe/91CzSU1eXYNOdbeYGQcQGuVF8qlxrG52HpuvKBKsfKHOHvQSpB7QlJvdV6UpCQS7Ss7+2K9kK0DXLqEdDOgPPaoOJKxjNGZdBrm8Pa6QlBudVa29U4rTmf51V0Deqj36ASl8SLGFQGlUFlUM0VqlRhDxVKMKgMKoPKoJovVCQpCtsflUFlUBlUM4aK6xTZe4PKoDKoDKq/QnXoXg==\",\"2023-03-19T16:41:49.4697433Z\"]},{\"H\":\"Streaming\",\"M\":\"feed\",\"A\":[\"Position.z\",\"7ZQ9a8MwFEX/y5vtoPehz71zC83QpnQIJYMpSUriTsH/vbEVglLSV5JZi5FBh3d1Jc4Bnrb7ru+2G0hvB5h369W+X66/IAEZ4tZwi3GOLgkmCTMXxTG7BTTwsOl33WoP6QA4fp77Zf99/IXHzXy3/Pg8bnmB1CJH18ArJGukgQUkxDA0QBqC0U9Ia22BiIZQsBNCBgsEjcYIY04WQ8nccRpUswmHiXHoS8apc0yeQ/YiW1AZyXPYlx2Q2gExn85TInoFmBHy5XFIvVG2kqPFizmsRqPTnAtEbfqPBrw6xsaJOS4KhtUKrr8c0bNdvVFr1WwuMyjla3O31+bVCnjcOyLj4z4zQa2AJDMunpFhaP43SLDiTKRqkGqQapBqkJsNEmfGi/U2VINUg1SDVIPcYRBGsRy5GqQapBqkGuS3Qd6HHw==\",\"2023-03-19T16:41:49.3145393Z\"]}]}', extra='')\n"
     ]
    },
    {
     "name": "stdout",
     "output_type": "stream",
     "text": [
      "CarData.z 7daxCsIwEAbgd7lZy11yaS5ZxTfQRXEQERSkg7qVvrttOriI1FvscMullP6QXI6PtrBunvfr+QF538L2eYIMDp1fol9S2lCdmTJLFSRJZNrBAlbHe/91CzSU1eXYNOdbeYGQcQGuVF8qlxrG52HpuvKBKsfKHOHvQSpB7QlJvdV6UpCQS7Ss7+2K9kK0DXLqEdDOgPPaoOJKxjNGZdBrm8Pa6QlBudVa29U4rTmf51V0Deqj36ASl8SLGFQGlUFlUM0VqlRhDxVKMKgMKoPKoJovVCQpCtsflUFlUBlUM4aK6xTZe4PKoDKoDKq/QnXoXg==\n",
      "Position.z 7ZQ9a8MwFEX/y5vtoPehz71zC83QpnQIJYMpSUriTsH/vbEVglLSV5JZi5FBh3d1Jc4Bnrb7ru+2G0hvB5h369W+X66/IAEZ4tZwi3GOLgkmCTMXxTG7BTTwsOl33WoP6QA4fp77Zf99/IXHzXy3/Pg8bnmB1CJH18ArJGukgQUkxDA0QBqC0U9Ia22BiIZQsBNCBgsEjcYIY04WQ8nccRpUswmHiXHoS8apc0yeQ/YiW1AZyXPYlx2Q2gExn85TInoFmBHy5XFIvVG2kqPFizmsRqPTnAtEbfqPBrw6xsaJOS4KhtUKrr8c0bNdvVFr1WwuMyjla3O31+bVCnjcOyLj4z4zQa2AJDMunpFhaP43SLDiTKRqkGqQapBqkJsNEmfGi/U2VINUg1SDVIPcYRBGsRy5GqQapBqkGuS3Qd6HHw==\n"
     ]
    },
    {
     "name": "stderr",
     "output_type": "stream",
     "text": [
      "DEBUG:signalr_async.client:Raw message received: WSMessage(type=<WSMsgType.TEXT: 1>, data='{\"C\":\"d-F23263D5-B,0|Df,0|Dg,11|d,A3|p,96F|o,96E|a,1|Y,D|Dh,0|n,1|W,2|c,28|i,1|X,C|k,3|l,1|r,2|Z,1|s,59F\",\"M\":[{\"H\":\"Streaming\",\"M\":\"feed\",\"A\":[\"CarData.z\",\"7ZexCsIwEIbf5WYtd8kl12QV30AXxUFEUJAO6lb67rbp4CJSb7HDLZdS8sHlz/HRtrBunvfr+QF538L2eYIMDp1fol9S2lDMTJlTJZgEpd7BAlbHe7+7BRrK6nJsmvOtvEDIuABXqi+VSw3j87B0Xdmg4ljJEf4OUgG1JyR1q3ESSMgFLeu73Vp7IdqAnHoEtDPgvBZUXMl4RlGCXhsOa6cnBGWrUZuqTAvn87zWuoB69JuoEqYoIiYqE5WJykQ1U1EFrIhTZDJRmahMVCaqGYvK919UZH9+5inzlHlqxp4KdQoSo4nKRGWiMlH9VVSH7gU=\",\"2023-03-19T16:41:50.5895766Z\"]},{\"H\":\"Streaming\",\"M\":\"feed\",\"A\":[\"Position.z\",\"7ZTBasMwDIbfReekWJbk2L7vvMF62Dp2KKOHMJqONjuVvPuSuBR3dBrt2ZeQgD8k/Va+IzztDm3f7jqIb0dYttvNoV9vvyCCNZZqQzWGJbrIGDksJDAH51dQwUPX79vNAeIRcHo89+v+e/yEx265X398jkdeINZIwVXwClEMV7CCiOiHCqyGYGhmpBbJENYQ62VGrMEMQaMxTJg6Cz5n7pgG1d6Y/Mw4bHLGqXVMqmPlojevMpzqUJNnYNUMLNFpnhzRI8CE2CYfx6o3SsKptXBRh9TW7KnOBaIm/UcCjVpGwsyMLxlDagTXN4f13q7eqIjam0sMcr5t7vbYGjUCms5OyLTcZ8arEVhOjAtnZBiq/w0SxlnYYzFIMUgxSDHIrQYRsyAafwemYpBikGKQYpA7DCKjQYRCMUgxSDFIMchvg7wPPw==\",\"2023-03-19T16:41:50.5343539Z\"]}]}', extra='')\n"
     ]
    },
    {
     "name": "stdout",
     "output_type": "stream",
     "text": [
      "CarData.z 7ZexCsIwEIbf5WYtd8kl12QV30AXxUFEUJAO6lb67rbp4CJSb7HDLZdS8sHlz/HRtrBunvfr+QF538L2eYIMDp1fol9S2lDMTJlTJZgEpd7BAlbHe7+7BRrK6nJsmvOtvEDIuABXqi+VSw3j87B0Xdmg4ljJEf4OUgG1JyR1q3ESSMgFLeu73Vp7IdqAnHoEtDPgvBZUXMl4RlGCXhsOa6cnBGWrUZuqTAvn87zWuoB69JuoEqYoIiYqE5WJykQ1U1EFrIhTZDJRmahMVCaqGYvK919UZH9+5inzlHlqxp4KdQoSo4nKRGWiMlH9VVSH7gU=\n",
      "Position.z 7ZTBasMwDIbfReekWJbk2L7vvMF62Dp2KKOHMJqONjuVvPuSuBR3dBrt2ZeQgD8k/Va+IzztDm3f7jqIb0dYttvNoV9vvyCCNZZqQzWGJbrIGDksJDAH51dQwUPX79vNAeIRcHo89+v+e/yEx265X398jkdeINZIwVXwClEMV7CCiOiHCqyGYGhmpBbJENYQ62VGrMEMQaMxTJg6Cz5n7pgG1d6Y/Mw4bHLGqXVMqmPlojevMpzqUJNnYNUMLNFpnhzRI8CE2CYfx6o3SsKptXBRh9TW7KnOBaIm/UcCjVpGwsyMLxlDagTXN4f13q7eqIjam0sMcr5t7vbYGjUCms5OyLTcZ8arEVhOjAtnZBiq/w0SxlnYYzFIMUgxSDHIrQYRsyAafwemYpBikGKQYpA7DCKjQYRCMUgxSDFIMchvg7wPPw==\n"
     ]
    },
    {
     "name": "stderr",
     "output_type": "stream",
     "text": [
      "DEBUG:signalr_async.client:Connection keepalive\n",
      "DEBUG:signalr_async.client:Sending: message_content='{}', is_binary=False\n",
      "DEBUG:signalr_async.client:Raw message received: WSMessage(type=<WSMsgType.TEXT: 1>, data='{\"C\":\"d-F23263D5-B,0|Df,0|Dg,11|d,A3|p,970|o,96F|a,1|Y,D|Dh,0|n,1|W,2|c,28|i,1|X,C|k,3|l,1|r,2|Z,1|s,59F\",\"M\":[{\"H\":\"Streaming\",\"M\":\"feed\",\"A\":[\"CarData.z\",\"7ZS/CsIwEIff5ea25JLL37X4BrooDkUKCtJBu5W+u206uCjUW+xwyyWEfHD55fgG2HX949Y+IZ0GOPQXSKCVNqUyJcY9ukSYrKqCi9ZQOEIBdfOYbg+Ac6mvTde193ygIKkCdK4mV8rVLvt5Gcd8gcURk0P1O4gZ5L4Q2a26VSAqymhe3+0G7odwA9LsEeDOgDZckPElyxs9EzTccIg7PdYyW3XcVP26cD7Pa+AFNKHfRYUVqkgxOBGViEpEJaLarqhMiGS9FlGJqERUIqrtisrpSBq9iEpEJaISUf1VVOfxBQ==\",\"2023-03-19T16:41:51.6294217Z\"]},{\"H\":\"Streaming\",\"M\":\"feed\",\"A\":[\"Position.z\",\"7ZY9a8NADIb/i2Y7nKT73ju3UA9tSodQMpgSpyTuFPzfa/tCOJdUJZlvMTbcg6T3xINP8LQ/tn277yC+naBpd9tjv9l9QQRSxLXiGkODNmqMRq2c04xOr6GCh64/tNsjxBPg9HjuN/33+AmPXXPYfHyOR14g1sjBVvAKI60rWENE9EMFJCEY3IzUxmSIlhDyZkZIYYagkphxlNRZ8DlzxzQo9qbZz4xFlzNWrKNSHTKL3rzI6FSHXZ4BiRkQ83meHJEjwISQy8ch8UbZ6NRaWNRhsTU611kgYtJ/JODEMibMzPiSMSxGcH1ztNzb1Rs1RuzNJgZ1vm329ticGAFPZydkWu4L48UISCfGhgsyDNX/BgmsKTAWgxSDFIMUg9xsEFypoMl6XwxSDFIMUgxyh0F4/Adh4mKQYpBikGKQ3wZ5H34A\",\"2023-03-19T16:41:51.3342323Z\"]}]}', extra='')\n"
     ]
    },
    {
     "name": "stdout",
     "output_type": "stream",
     "text": [
      "CarData.z 7ZS/CsIwEIff5ea25JLL37X4BrooDkUKCtJBu5W+u206uCjUW+xwyyWEfHD55fgG2HX949Y+IZ0GOPQXSKCVNqUyJcY9ukSYrKqCi9ZQOEIBdfOYbg+Ac6mvTde193ygIKkCdK4mV8rVLvt5Gcd8gcURk0P1O4gZ5L4Q2a26VSAqymhe3+0G7odwA9LsEeDOgDZckPElyxs9EzTccIg7PdYyW3XcVP26cD7Pa+AFNKHfRYUVqkgxOBGViEpEJaLarqhMiGS9FlGJqERUIqrtisrpSBq9iEpEJaISUf1VVOfxBQ==\n",
      "Position.z 7ZY9a8NADIb/i2Y7nKT73ju3UA9tSodQMpgSpyTuFPzfa/tCOJdUJZlvMTbcg6T3xINP8LQ/tn277yC+naBpd9tjv9l9QQRSxLXiGkODNmqMRq2c04xOr6GCh64/tNsjxBPg9HjuN/33+AmPXXPYfHyOR14g1sjBVvAKI60rWENE9EMFJCEY3IzUxmSIlhDyZkZIYYagkphxlNRZ8DlzxzQo9qbZz4xFlzNWrKNSHTKL3rzI6FSHXZ4BiRkQ83meHJEjwISQy8ch8UbZ6NRaWNRhsTU611kgYtJ/JODEMibMzPiSMSxGcH1ztNzb1Rs1RuzNJgZ1vm329ticGAFPZydkWu4L48UISCfGhgsyDNX/BgmsKTAWgxSDFIMUg9xsEFypoMl6XwxSDFIMUgxyh0F4/Adh4mKQYpBikGKQ3wZ5H34A\n"
     ]
    },
    {
     "name": "stderr",
     "output_type": "stream",
     "text": [
      "DEBUG:signalr_async.client:Raw message received: WSMessage(type=<WSMsgType.TEXT: 1>, data='{\"C\":\"d-F23263D5-B,0|Df,0|Dg,11|d,A3|p,971|o,970|a,1|Y,D|Dh,0|n,1|W,2|c,28|i,1|X,C|k,3|l,1|r,2|Z,1|s,59F\",\"M\":[{\"H\":\"Streaming\",\"M\":\"feed\",\"A\":[\"CarData.z\",\"7ZaxCoMwEIbf5WYtubskalbpG7RLSwcpQgvFwbqJ794Yhy6l2FvqcMtFQj64/Dk+HGHfDf29fUI4j3AcrhCADHFuOMfqgD5YDI52hir26E6QQd308fQIOJf61nRd+0gbBoLJgFLlVG2qbvmel2lKB0ScFXJofgcxgdIborhVvwpEYxOa1ne7pfRBpAGReASkM0AsBQVPstyxEIIsDcdKp8c5YatemmqxLpzP81rKAoroN1ERG2asVFQqKhWVimq7orJF/KfyXkWlolJRqai2KyofReULUlGpqFRUKqq/iuoyvQA=\",\"2023-03-19T16:41:52.6702672Z\"]},{\"H\":\"Streaming\",\"M\":\"feed\",\"A\":[\"Position.z\",\"7ZQ9a8MwEIb/y8120N3p9LV3bqEZ2pQOoWQwpUlJ3Cn4v9e2QlBKeqWZtRgZ9HCvXonnCA+7Q9d3uy2klyMsu4/NoV9/fEICMsSt4RbjEl2ymAQXQQSFcQUN3G37fbc5QDoCTp/Hft1/jb9wv13u12/v45YnSC1ydA08QxJjG1hBQgxDA6QhGP2MtCIFYjWEgswIGSwQNBpjGXOyGErmhtOgms1ymBmHvmScOsfkOSQX2YLK2DyHfdkBqR0Q8+k8JaJXgBkhXx6H1BtlsTlavJjDajQ6zblA1KZ/acCrYyTOzLgoGFYruP5yrJ7t6o2KqNlcZtCWr839vzavVsDT3gmZHveZCWoFZDPj4hkZhuYvg9CCWEwUrgapBqkGqQa5wSB2NIizsRqkGqQapBrkBoM4FMPeVYNUg1SDVIP8NMjr8A0=\",\"2023-03-19T16:41:52.6150376Z\"]}]}', extra='')\n",
      "DEBUG:signalr_async.client:Raw message received: WSMessage(type=<WSMsgType.TEXT: 1>, data='{}', extra='')\n"
     ]
    },
    {
     "name": "stdout",
     "output_type": "stream",
     "text": [
      "CarData.z 7ZaxCoMwEIbf5WYtubskalbpG7RLSwcpQgvFwbqJ794Yhy6l2FvqcMtFQj64/Dk+HGHfDf29fUI4j3AcrhCADHFuOMfqgD5YDI52hir26E6QQd308fQIOJf61nRd+0gbBoLJgFLlVG2qbvmel2lKB0ScFXJofgcxgdIborhVvwpEYxOa1ne7pfRBpAGReASkM0AsBQVPstyxEIIsDcdKp8c5YatemmqxLpzP81rKAoroN1ERG2asVFQqKhWVimq7orJF/KfyXkWlolJRqai2KyofReULUlGpqFRUKqq/iuoyvQA=\n",
      "Position.z 7ZQ9a8MwEIb/y8120N3p9LV3bqEZ2pQOoWQwpUlJ3Cn4v9e2QlBKeqWZtRgZ9HCvXonnCA+7Q9d3uy2klyMsu4/NoV9/fEICMsSt4RbjEl2ymAQXQQSFcQUN3G37fbc5QDoCTp/Hft1/jb9wv13u12/v45YnSC1ydA08QxJjG1hBQgxDA6QhGP2MtCIFYjWEgswIGSwQNBpjGXOyGErmhtOgms1ymBmHvmScOsfkOSQX2YLK2DyHfdkBqR0Q8+k8JaJXgBkhXx6H1BtlsTlavJjDajQ6zblA1KZ/acCrYyTOzLgoGFYruP5yrJ7t6o2KqNlcZtCWr839vzavVsDT3gmZHveZCWoFZDPj4hkZhuYvg9CCWEwUrgapBqkGqQa5wSB2NIizsRqkGqQapBrkBoM4FMPeVYNUg1SDVIP8NMjr8A0=\n"
     ]
    },
    {
     "name": "stderr",
     "output_type": "stream",
     "text": [
      "DEBUG:signalr_async.client:Raw message received: WSMessage(type=<WSMsgType.TEXT: 1>, data='{\"C\":\"d-F23263D5-B,0|Df,0|Dg,11|d,A3|p,971|o,971|a,1|Y,D|Dh,0|n,1|W,2|c,28|i,1|X,C|k,3|l,1|r,2|Z,1|s,59F\",\"M\":[{\"H\":\"Streaming\",\"M\":\"feed\",\"A\":[\"Position.z\",\"7ZQ7a8NAEIT/y9aSuX3cs0+dQFwkDilMcCFC7GArldF/j6Qz5hycDXF9jTjBfczs3DJHeNgdur7bbSG9HGHZfWwO/frjExKQIW4NtxiX6JJgsrQIbI0RXEEDd9t+320OkI6A0+exX/df4y/cb5f79dv7eOUJUoscXQPPkKyRBlaQEMPQAGkIRj8jrbUFIhpCwc4IGSwQNBojjNlZDCVzwzSoehMOM+PQl4xTdUzWIXvhLaiMZB32ZQakZkDMp3lKRI8AM0K+HIfUF2Ur2Vq80GHVGp10LhA16V8S8KqMjTMzHgqG1Qiub47o3q6+qLWqN5cZlHLb3P9j82oEPN2dkGm5z0xQIyDJjItnZBiavxqEF+QlsufaILVBaoPUBrmhQWRsEONibZDaILVBaoP8bJDX4Rs=\",\"2023-03-19T16:41:53.4749069Z\"]}]}', extra='')\n",
      "DEBUG:signalr_async.client:Raw message received: WSMessage(type=<WSMsgType.TEXT: 1>, data='{\"C\":\"d-F23263D5-B,0|Df,0|Dg,11|d,A3|p,972|o,971|a,1|Y,D|Dh,0|n,1|W,2|c,28|i,1|X,C|k,3|l,1|r,2|Z,1|s,59F\",\"M\":[{\"H\":\"Streaming\",\"M\":\"feed\",\"A\":[\"CarData.z\",\"7ZS/CsIwEIff5ea23OVvk7X4BrooDkUKCtJBu5W+u2k6uCjUW+xwyyWEfHD55fhG2PXD49Y9IZ5GOAwXiKBQ6RJ1SWFPLhqKVlWB0iG5IxTQtI90ewSaS3Nt+7675wOEiAWoXHWuJle77OdlmvIFFmeYHOHvIGWQ+0Jit+pWgYQmo3l9t1tzP4QbkGKPAHcGlOaCjC9Z3uiZoOaGY7jTYy2zVcdN1a8L5/O81ryAEvpdVLoiixSsFVGJqERUIqrtikonUTkbRFQiKhGViGq7ovKERMqLqERUIioR1V9FdZ5e\",\"2023-03-19T16:41:53.7101127Z\"]}]}', extra='')\n"
     ]
    },
    {
     "name": "stdout",
     "output_type": "stream",
     "text": [
      "Position.z 7ZQ7a8NAEIT/y9aSuX3cs0+dQFwkDilMcCFC7GArldF/j6Qz5hycDXF9jTjBfczs3DJHeNgdur7bbSG9HGHZfWwO/frjExKQIW4NtxiX6JJgsrQIbI0RXEEDd9t+320OkI6A0+exX/df4y/cb5f79dv7eOUJUoscXQPPkKyRBlaQEMPQAGkIRj8jrbUFIhpCwc4IGSwQNBojjNlZDCVzwzSoehMOM+PQl4xTdUzWIXvhLaiMZB32ZQakZkDMp3lKRI8AM0K+HIfUF2Ur2Vq80GHVGp10LhA16V8S8KqMjTMzHgqG1Qiub47o3q6+qLWqN5cZlHLb3P9j82oEPN2dkGm5z0xQIyDJjItnZBiavxqEF+QlsufaILVBaoPUBrmhQWRsEONibZDaILVBaoP8bJDX4Rs=\n",
      "CarData.z 7ZS/CsIwEIff5ea23OVvk7X4BrooDkUKCtJBu5W+u2k6uCjUW+xwyyWEfHD55fhG2PXD49Y9IZ5GOAwXiKBQ6RJ1SWFPLhqKVlWB0iG5IxTQtI90ewSaS3Nt+7675wOEiAWoXHWuJle77OdlmvIFFmeYHOHvIGWQ+0Jit+pWgYQmo3l9t1tzP4QbkGKPAHcGlOaCjC9Z3uiZoOaGY7jTYy2zVcdN1a8L5/O81ryAEvpdVLoiixSsFVGJqERUIqrtikonUTkbRFQiKhGViGq7ovKERMqLqERUIioR1V9FdZ5e\n"
     ]
    },
    {
     "name": "stderr",
     "output_type": "stream",
     "text": [
      "DEBUG:signalr_async.client:Raw message received: WSMessage(type=<WSMsgType.TEXT: 1>, data='{\"C\":\"d-F23263D5-B,0|Df,0|Dg,11|d,A3|p,973|o,971|a,1|Y,D|Dh,0|n,1|W,2|c,28|i,1|X,C|k,3|l,1|r,2|Z,1|s,59F\",\"M\":[{\"H\":\"Streaming\",\"M\":\"feed\",\"A\":[\"CarData.z\",\"7ZSxCsIwEIbf5ea23CWXtMlafANdFIciBQXpULuVvrvtdXBRqLfokOUSQj64/Dm+EXbd0N/aB8TTCIfhAhEMGpujzSnsyUem6GwRCLEy/ggZ1E0/3x6BllJfm65r73KAEDEDI9VKZalu3S/LNMkFFcdKjvB7kATUvpDUrfpNICELKuur3Ur7IdqAjHoEtDNgrBZUfMn6xlIJWm04rJ0e55Stem2q5bZw3s9rpQtoRj+LigsKiIxJVElUSVRJVH8sKschVKVNokqiSqJKovqpqM7TEw==\",\"2023-03-19T16:41:54.5499873Z\"]}]}', extra='')\n",
      "DEBUG:signalr_async.client:Raw message received: WSMessage(type=<WSMsgType.TEXT: 1>, data='{\"C\":\"d-F23263D5-B,0|Df,0|Dg,11|d,A3|p,973|o,972|a,1|Y,D|Dh,0|n,1|W,2|c,28|i,1|X,C|k,3|l,1|r,2|Z,1|s,59F\",\"M\":[{\"H\":\"Streaming\",\"M\":\"feed\",\"A\":[\"Position.z\",\"7ZQ9a8MwFEX/y5vtoPehz71zC83QpnQIJYMpSUriTsH/vbEVglLSV5JZi5FBh3d1Jc4Bnrb7ru+2G0hvB5h369W+X66/IAEZ4tZwi3GOLgkmyzPnJXhnF9DAw6bfdas9pAPg+Hnul/338RceN/Pd8uPzuOUFUoscXQOvkKyRBhaQEMPQAGkIRj8hrbUFIhpCwU4IGSwQNBojjDlZDCVzx2lQzSYcJsahLxmnzjF5DtmLbEFlJM9hX3ZAagfEfDpPiegVYEbIl8ch9UbZSo4WL+awGo1Ocy4Qtek/GvDqGBsn5rgoGFYruP5yRM929UatVbO5zKCUr83dXptXK+Bx74iMj/vMBLUCksy4eEaGofnfICFKEK4CqQKpAqkCuVkgMjNWAgZfDVINUg1SDXKHQRjF+0jVINUg1SDVIL8N8j78AA==\",\"2023-03-19T16:41:54.3147792Z\"]}]}', extra='')\n"
     ]
    },
    {
     "name": "stdout",
     "output_type": "stream",
     "text": [
      "CarData.z 7ZSxCsIwEIbf5ea23CWXtMlafANdFIciBQXpULuVvrvtdXBRqLfokOUSQj64/Dm+EXbd0N/aB8TTCIfhAhEMGpujzSnsyUem6GwRCLEy/ggZ1E0/3x6BllJfm65r73KAEDEDI9VKZalu3S/LNMkFFcdKjvB7kATUvpDUrfpNICELKuur3Ur7IdqAjHoEtDNgrBZUfMn6xlIJWm04rJ0e55Stem2q5bZw3s9rpQtoRj+LigsKiIxJVElUSVRJVH8sKschVKVNokqiSqJKovqpqM7TEw==\n",
      "Position.z 7ZQ9a8MwFEX/y5vtoPehz71zC83QpnQIJYMpSUriTsH/vbEVglLSV5JZi5FBh3d1Jc4Bnrb7ru+2G0hvB5h369W+X66/IAEZ4tZwi3GOLgkmyzPnJXhnF9DAw6bfdas9pAPg+Hnul/338RceN/Pd8uPzuOUFUoscXQOvkKyRBhaQEMPQAGkIRj8hrbUFIhpCwU4IGSwQNBojjDlZDCVzx2lQzSYcJsahLxmnzjF5DtmLbEFlJM9hX3ZAagfEfDpPiegVYEbIl8ch9UbZSo4WL+awGo1Ocy4Qtek/GvDqGBsn5rgoGFYruP5yRM929UatVbO5zKCUr83dXptXK+Bx74iMj/vMBLUCksy4eEaGofnfICFKEK4CqQKpAqkCuVkgMjNWAgZfDVINUg1SDXKHQRjF+0jVINUg1SDVIL8N8j78AA==\n"
     ]
    },
    {
     "name": "stderr",
     "output_type": "stream",
     "text": [
      "DEBUG:signalr_async.client:Raw message received: WSMessage(type=<WSMsgType.TEXT: 1>, data='{\"C\":\"d-F23263D5-B,0|Df,0|Dg,11|d,A3|p,974|o,973|a,1|Y,D|Dh,0|n,1|W,2|c,28|i,1|X,C|k,3|l,1|r,2|Z,1|s,59F\",\"M\":[{\"H\":\"Streaming\",\"M\":\"feed\",\"A\":[\"CarData.z\",\"7ZS/CsIwEIff5eZWcrn8abIW30AXxaFIQUE61G6l7257Di4K9RYdbrmEkA8uvxzfCNtu6K/tHfJxhP1whgzWWCoNlZh2GLLD7N0mmpQCxQMUUDf9fHsEXEp9abquvfGBgWwKsFyJq+Pqn/tlmSa+IOKckEPzPYgMSl+I4lbDKhCNY5TXV7uV9EOkAVnxCEhnwJIUFHzJ841RCJI0HCedHu+FrQZpqnFdOO/ntZIFNKOfReU3OIvKkFdRqahUVCqq/xUVuVSFmFRUKioVlYrqp6I6TQ8=\",\"2023-03-19T16:41:55.3498679Z\"]},{\"H\":\"Streaming\",\"M\":\"feed\",\"A\":[\"Position.z\",\"7ZbBasMwDIbfReekWLZkx77vvMF62Dp2KKOHMJqONjuVvPuSuBR3dBrtWZeQgD8k/RYfOcLT7tD27a6D9HaEZbvdHPr19gsSWGNdbVyNcYk+ESamhWcKNvAKKnjo+n27OUA6Ak6P537df4+f8Ngt9+uPz/HIC6QaXfQVvEJiQxWsICE2QwVWQjCGGamZC4QkxDY8I9ZggaCRGHKYO4tNydwxDYq9kWtmxmMoGS/WMbmO5YveGpGhXMeFMgMrZmCdO81TInIEmBEbynGseKOOKbcWL+o4sTV7qnOBiEn/kUAQy3CcmfGlYJwYwfXNIbm3qzfKLPbmM4NUbpu/PbYgRuCmsxMyLfeZacQILGXGxzMyDNX/BomRfOBGDaIGUYOoQW42CC+QyTPqP4gaRA2iBrnHIOMmeIuoBlGDqEHUIHcYhJk4mqAGUYOoQdQgvw3yPvwA\",\"2023-03-19T16:41:55.5545907Z\"]}]}', extra='')\n"
     ]
    },
    {
     "name": "stdout",
     "output_type": "stream",
     "text": [
      "CarData.z 7ZS/CsIwEIff5eZWcrn8abIW30AXxaFIQUE61G6l7257Di4K9RYdbrmEkA8uvxzfCNtu6K/tHfJxhP1whgzWWCoNlZh2GLLD7N0mmpQCxQMUUDf9fHsEXEp9abquvfGBgWwKsFyJq+Pqn/tlmSa+IOKckEPzPYgMSl+I4lbDKhCNY5TXV7uV9EOkAVnxCEhnwJIUFHzJ841RCJI0HCedHu+FrQZpqnFdOO/ntZIFNKOfReU3OIvKkFdRqahUVCqq/xUVuVSFmFRUKioVlYrqp6I6TQ8=\n",
      "Position.z 7ZbBasMwDIbfReekWLZkx77vvMF62Dp2KKOHMJqONjuVvPuSuBR3dBrtWZeQgD8k/RYfOcLT7tD27a6D9HaEZbvdHPr19gsSWGNdbVyNcYk+ESamhWcKNvAKKnjo+n27OUA6Ak6P537df4+f8Ngt9+uPz/HIC6QaXfQVvEJiQxWsICE2QwVWQjCGGamZC4QkxDY8I9ZggaCRGHKYO4tNydwxDYq9kWtmxmMoGS/WMbmO5YveGpGhXMeFMgMrZmCdO81TInIEmBEbynGseKOOKbcWL+o4sTV7qnOBiEn/kUAQy3CcmfGlYJwYwfXNIbm3qzfKLPbmM4NUbpu/PbYgRuCmsxMyLfeZacQILGXGxzMyDNX/BomRfOBGDaIGUYOoQW42CC+QyTPqP4gaRA2iBrnHIOMmeIuoBlGDqEHUIHcYhJk4mqAGUYOoQdQgvw3yPvwA\n"
     ]
    },
    {
     "name": "stderr",
     "output_type": "stream",
     "text": [
      "DEBUG:signalr_async.client:Connection keepalive\n",
      "DEBUG:signalr_async.client:Sending: message_content='{}', is_binary=False\n",
      "DEBUG:signalr_async.client:Raw message received: WSMessage(type=<WSMsgType.TEXT: 1>, data='{\"C\":\"d-F23263D5-B,0|Df,0|Dg,11|d,A3|p,975|o,974|a,1|Y,D|Dh,0|n,1|W,2|c,28|i,1|X,C|k,3|l,1|r,2|Z,1|s,59F\",\"M\":[{\"H\":\"Streaming\",\"M\":\"feed\",\"A\":[\"CarData.z\",\"7Za/CsIwEIff5ea2XP5ekrX4BrooDkUKCtJBu5W+u206uIjUW+xwy6WEfHD55fjoALuuf9zaJ6TTAIf+Agk0alOiKVXcK5+sSs5VZGPAQEcooG4e0+kB1Fzqa9N17T1vICQsQOdqcrW5uuV7XsYxH2Bxlskp/B1UGeTeULFb9atAhTajeX23G7gPwg1Is0eAOwPacEHGkyx3JCZouOFY7vQ4x2zVc1OldeF8ntfAC2hCv4kq2kgUnIhKRCWiElFtVVS+0j6SwSCiElGJqERU2xWV19ETyR+ViEpEJaL6r6jO4ws=\",\"2023-03-19T16:41:56.6296775Z\"]},{\"H\":\"Streaming\",\"M\":\"feed\",\"A\":[\"Position.z\",\"7ZY9a8MwEIb/y8120H3oc+/cQjO0KR1CyWBKk5K4U/B/r22FoND0SjNrMTLo4e5eiQcd4WF36Pput4X0coRl97E59OuPT0hAhrg13GJcokuCydpFYLEScAUN3G37fbc5QDoCTp/Hft1/jb9wv13u12/v45YnSC1ydA08Q7JGGlhBQgxDA6QhGP2MtNYWiGgIBTsjZLBA0GiMMObOYiiZG6ZBtTfhMDMOfck4tY7Jdche9BZURnId9mUGpGZAzKd5SkSPADNCvhyH1BNlK7m1eFGH1dboVOcCUZP+JQGvlrFxZsZFwbAawfWbI3pvV0/UWrU3lxmU8ra5/8fm1Qh42jsh0+U+M0GNgCQzLp6RYWj+MohbEIsEz9Ug1SDVINUgNxhExlmcqW+QapBqkGqQWwzixjcI+WqQapBqkGqQHwZ5Hb4B\",\"2023-03-19T16:41:56.6344271Z\"]}]}', extra='')\n"
     ]
    },
    {
     "name": "stdout",
     "output_type": "stream",
     "text": [
      "CarData.z 7Za/CsIwEIff5ea2XP5ekrX4BrooDkUKCtJBu5W+u206uIjUW+xwy6WEfHD55fjoALuuf9zaJ6TTAIf+Agk0alOiKVXcK5+sSs5VZGPAQEcooG4e0+kB1Fzqa9N17T1vICQsQOdqcrW5uuV7XsYxH2Bxlskp/B1UGeTeULFb9atAhTajeX23G7gPwg1Is0eAOwPacEHGkyx3JCZouOFY7vQ4x2zVc1OldeF8ntfAC2hCv4kq2kgUnIhKRCWiElFtVVS+0j6SwSCiElGJqERU2xWV19ETyR+ViEpEJaL6r6jO4ws=\n",
      "Position.z 7ZY9a8MwEIb/y8120H3oc+/cQjO0KR1CyWBKk5K4U/B/r22FoND0SjNrMTLo4e5eiQcd4WF36Pput4X0coRl97E59OuPT0hAhrg13GJcokuCydpFYLEScAUN3G37fbc5QDoCTp/Hft1/jb9wv13u12/v45YnSC1ydA08Q7JGGlhBQgxDA6QhGP2MtNYWiGgIBTsjZLBA0GiMMObOYiiZG6ZBtTfhMDMOfck4tY7Jdche9BZURnId9mUGpGZAzKd5SkSPADNCvhyH1BNlK7m1eFGH1dboVOcCUZP+JQGvlrFxZsZFwbAawfWbI3pvV0/UWrU3lxmU8ra5/8fm1Qh42jsh0+U+M0GNgCQzLp6RYWj+MohbEIsEz9Ug1SDVINUgNxhExlmcqW+QapBqkGqQWwzixjcI+WqQapBqkGqQHwZ5Hb4B\n"
     ]
    },
    {
     "name": "stderr",
     "output_type": "stream",
     "text": [
      "DEBUG:signalr_async.client:Raw message received: WSMessage(type=<WSMsgType.TEXT: 1>, data='{\"C\":\"d-F23263D5-B,0|Df,0|Dg,11|d,A3|p,976|o,975|a,1|Y,D|Dh,0|n,1|W,2|c,28|i,1|X,C|k,3|l,1|r,2|Z,1|s,59F\",\"M\":[{\"H\":\"Streaming\",\"M\":\"feed\",\"A\":[\"CarData.z\",\"7ZSxCsIwEIbf5eZW7pJc0mYtvoEuikORgoJ0qN1K3902HVxE6i12uOUSQj64/Dm+AfZt392bJ8TzAMf+ChEMGpujzak8kI+OIocdYemR+QQZVHU33R6A5lLd6rZtHukAIWIGJlWbqkuVl/28jGO6IOKckCP8HaQESl9I4lb9KpDQJTSt73YL6YdIAzLiEZDOgLFSUPAlyxuDELTScJx0epiFrXppqmFdOJ/ntZAFNKHfRGWx5OBJRaWiUlGpqLYrKudLZuNVVCoqFZWKarui8pOojDUqKhWVikpF9VdRXcYX\",\"2023-03-19T16:41:57.6695232Z\"]},{\"H\":\"Streaming\",\"M\":\"feed\",\"A\":[\"Position.z\",\"7ZQ9a8MwFEX/y5vtoPehz71zC83QpnQIJYMpTUriTsH/vbYVglLSV5pZi5FBh3d1Jc4RHnaHru92W0gvR1h2H5tDv/74hARkiFvDLcYluiSYrFuEKBzCChq42/b7bnOAdAScPo/9uv8af+F+u9yv397HLU+QWuToGniGZI00sIKEGIYGSEMw+hlprS0Q0RAKdkbIYIGg0RhhzMliKJkbToNqtrGxmXHoS8apc0yeQ/YiW1AZyXPYlx2Q2gExn85TInoFmBHy5XFIvVG2kqPFizmsRqPTnAtEbfqXBrw6xsaZGRcFw2oF11+O6Nmu3qi1ajaXGZTytbn/1+bVCnjaOyHT4z4zQa2AJDMunpFhaP4SiF/gWJ4VVw1SDVINUg1yg0GYhQmxGqQapBqkGuQGg1gWisZXg1SDVINUg/w0yOvwDQ==\",\"2023-03-19T16:41:57.5342907Z\"]}]}', extra='')\n"
     ]
    },
    {
     "name": "stdout",
     "output_type": "stream",
     "text": [
      "CarData.z 7ZSxCsIwEIbf5eZW7pJc0mYtvoEuikORgoJ0qN1K3902HVxE6i12uOUSQj64/Dm+AfZt392bJ8TzAMf+ChEMGpujzak8kI+OIocdYemR+QQZVHU33R6A5lLd6rZtHukAIWIGJlWbqkuVl/28jGO6IOKckCP8HaQESl9I4lb9KpDQJTSt73YL6YdIAzLiEZDOgLFSUPAlyxuDELTScJx0epiFrXppqmFdOJ/ntZAFNKHfRGWx5OBJRaWiUlGpqLYrKudLZuNVVCoqFZWKarui8pOojDUqKhWVikpF9VdRXcYX\n",
      "Position.z 7ZQ9a8MwFEX/y5vtoPehz71zC83QpnQIJYMpTUriTsH/vbYVglLSV5pZi5FBh3d1Jc4RHnaHru92W0gvR1h2H5tDv/74hARkiFvDLcYluiSYrFuEKBzCChq42/b7bnOAdAScPo/9uv8af+F+u9yv397HLU+QWuToGniGZI00sIKEGIYGSEMw+hlprS0Q0RAKdkbIYIGg0RhhzMliKJkbToNqtrGxmXHoS8apc0yeQ/YiW1AZyXPYlx2Q2gExn85TInoFmBHy5XFIvVG2kqPFizmsRqPTnAtEbfqXBrw6xsaZGRcFw2oF11+O6Nmu3qi1ajaXGZTytbn/1+bVCnjaOyHT4z4zQa2AJDMunpFhaP4SiF/gWJ4VVw1SDVINUg1yg0GYhQmxGqQapBqkGuQGg1gWisZXg1SDVINUg/w0yOvwDQ==\n"
     ]
    },
    {
     "name": "stderr",
     "output_type": "stream",
     "text": [
      "DEBUG:signalr_async.client:Raw message received: WSMessage(type=<WSMsgType.TEXT: 1>, data='{\"C\":\"d-F23263D5-B,0|Df,0|Dg,11|d,A3|p,977|o,976|a,1|Y,D|Dh,0|n,1|W,2|c,28|i,1|X,C|k,3|l,1|r,2|Z,1|s,59F\",\"M\":[{\"H\":\"Streaming\",\"M\":\"feed\",\"A\":[\"CarData.z\",\"7Za/CsIwEIff5ea25HL5vxbfQBfFoUhBQTpot9J3t00HF4V6ix1uuZSQDy6/HB8dYNf1j1v7hHQa4NBfIIFWmkpFJcY9umQwWV8FHU2M/ggF1M1jOj0AzqW+Nl3X3vOGgqQK0LlSriZXu3zPyzjmAyzOMDlUv4OYQe4Nkd2qWwWiMhnN67vdwH0QbkCaPQLcGdDEBRlPstzRM0HihmO402Mts1XHTdWvC+fzvAZeQBP6XVShUpOoXCQRlYhKRCWi2q6oKESDTjwlnhJPiae26ylrIkUtP1QiKhGViOq/ojqPLw==\",\"2023-03-19T16:41:58.5493923Z\"]},{\"H\":\"Streaming\",\"M\":\"feed\",\"A\":[\"Position.z\",\"7ZRNS8NAEIb/y5yTsjM7s193zwr2oBUPRXoIYittPJX8d5NsKVupI/a8l5BAHubdd4fnCA+7Q9d3uy2klyMsu4/NoV9/fEICMmRbY1uMS3SJMYlfRGSydgUN3G37fbc5QDoCTo/Hft1/jZ9wv13u12/v4y9PkFq00TXwDEkMN7CChBiGBkhDMPoZaUUKhDWEgswIGSwQNBrDFnOyGErmhtOgmo1tmBmHvmScOsfkOSQX2YLKcJ5jfdkBqR2Ml3k6T4noFWBGyJfHIfVGrXCOFi/mWDUaneZcIGrTvzTg1TESZ2Z8KRirVnB9c1jPdvVGRdRsLjPI5ba5/9fm1Qrs9O+ETMt9ZoJaAXFmXDwjw9D8JZCwMJHJiKsGqQapBqkGucEg7AXZ+2qQapBqkGqQGwzirIxLx9Ug1SDVINUgPw3yOnwD\",\"2023-03-19T16:41:58.6351234Z\"]}]}', extra='')\n"
     ]
    },
    {
     "name": "stdout",
     "output_type": "stream",
     "text": [
      "CarData.z 7Za/CsIwEIff5ea25HL5vxbfQBfFoUhBQTpot9J3t00HF4V6ix1uuZSQDy6/HB8dYNf1j1v7hHQa4NBfIIFWmkpFJcY9umQwWV8FHU2M/ggF1M1jOj0AzqW+Nl3X3vOGgqQK0LlSriZXu3zPyzjmAyzOMDlUv4OYQe4Nkd2qWwWiMhnN67vdwH0QbkCaPQLcGdDEBRlPstzRM0HihmO402Mts1XHTdWvC+fzvAZeQBP6XVShUpOoXCQRlYhKRCWi2q6oKESDTjwlnhJPiae26ylrIkUtP1QiKhGViOq/ojqPLw==\n",
      "Position.z 7ZRNS8NAEIb/y5yTsjM7s193zwr2oBUPRXoIYittPJX8d5NsKVupI/a8l5BAHubdd4fnCA+7Q9d3uy2klyMsu4/NoV9/fEICMmRbY1uMS3SJMYlfRGSydgUN3G37fbc5QDoCTo/Hft1/jZ9wv13u12/v4y9PkFq00TXwDEkMN7CChBiGBkhDMPoZaUUKhDWEgswIGSwQNBrDFnOyGErmhtOgmo1tmBmHvmScOsfkOSQX2YLKcJ5jfdkBqR2Ml3k6T4noFWBGyJfHIfVGrXCOFi/mWDUaneZcIGrTvzTg1TESZ2Z8KRirVnB9c1jPdvVGRdRsLjPI5ba5/9fm1Qrs9O+ETMt9ZoJaAXFmXDwjw9D8JZCwMJHJiKsGqQapBqkGucEg7AXZ+2qQapBqkGqQGwzirIxLx9Ug1SDVINUgPw3yOnwD\n"
     ]
    },
    {
     "name": "stderr",
     "output_type": "stream",
     "text": [
      "DEBUG:signalr_async.client:Raw message received: WSMessage(type=<WSMsgType.TEXT: 1>, data='{\"C\":\"d-F23263D5-B,0|Df,0|Dg,11|d,A3|p,978|o,977|a,1|Y,D|Dh,0|n,1|W,2|c,28|i,1|X,C|k,3|l,1|r,2|Z,1|s,59F\",\"M\":[{\"H\":\"Streaming\",\"M\":\"feed\",\"A\":[\"CarData.z\",\"7ZaxCoMwEIbf5WaVu1wSY1bpG7RLSwcpQgvFoXUT370ahy4t2FvqcMtFJB9c/hwfGWDX9Y9b+4R4GuDQXyCCQcM5ck7Vnny0FF0oKkLmYI+QQd08pt0D0Fzqa9N17T39QIiYgUmVU7WpuuV7XsYxbRBxVsgR/g5SAqUnJHGrfhVIaBOa1ne7QXoh0oCMeASkM2BYCgquZDljKQRZGo6VTo9zwla9NNVyXTif5zXIAprQ76KqCnLIaFRUKioVlYpqw6Jih6Y0QUWlolJRqai2Kyo/vaeY9EWlolJRqaj+K6rz+AI=\",\"2023-03-19T16:41:59.6302314Z\"]},{\"H\":\"Streaming\",\"M\":\"feed\",\"A\":[\"Position.z\",\"7ZQ9a8MwEIb/y8120Ol0+tozt1APbUoHUzKYEqck7hT832tbISglvdLMWowNerhXr+TnBI/7Yzd0+x7i6wmabrc9Du3uEyJopalWVGNo0EaDkf0qOFYO3QYqWPfDodseIZ4A58fT0A5f0yc89M2hff+YljxDrJGCreAFIitTwQYioh8r0BKCwS1IzZwhRkK05wXRCjMElcQYwpQs+Jy5YzcoZjPkF8aiyxkrzlFpjuarbF5kTJpDLu9Aix1oovN+ckSuABOiXb4dLZ4osUnRwtUcEqPp85wrRGz6lwacOIbDwkwvGUNiBbdvjpGz3TxRZjGbTQya/LbZ/9fmxApoXjsj8+W+MF6sQJvE2HBBxrH6yyBhhTz9OoaKQYpBikGKQe4wCE0Gmf6iYpBikGKQYpA7DMJkgre2GKQYpBikGOSnQd7Gbw==\",\"2023-03-19T16:41:59.5349866Z\"]}]}', extra='')\n"
     ]
    },
    {
     "name": "stdout",
     "output_type": "stream",
     "text": [
      "CarData.z 7ZaxCoMwEIbf5WaVu1wSY1bpG7RLSwcpQgvFoXUT370ahy4t2FvqcMtFJB9c/hwfGWDX9Y9b+4R4GuDQXyCCQcM5ck7Vnny0FF0oKkLmYI+QQd08pt0D0Fzqa9N17T39QIiYgUmVU7WpuuV7XsYxbRBxVsgR/g5SAqUnJHGrfhVIaBOa1ne7QXoh0oCMeASkM2BYCgquZDljKQRZGo6VTo9zwla9NNVyXTif5zXIAprQ76KqCnLIaFRUKioVlYpqw6Jih6Y0QUWlolJRqai2Kyo/vaeY9EWlolJRqaj+K6rz+AI=\n",
      "Position.z 7ZQ9a8MwEIb/y8120Ol0+tozt1APbUoHUzKYEqck7hT832tbISglvdLMWowNerhXr+TnBI/7Yzd0+x7i6wmabrc9Du3uEyJopalWVGNo0EaDkf0qOFYO3QYqWPfDodseIZ4A58fT0A5f0yc89M2hff+YljxDrJGCreAFIitTwQYioh8r0BKCwS1IzZwhRkK05wXRCjMElcQYwpQs+Jy5YzcoZjPkF8aiyxkrzlFpjuarbF5kTJpDLu9Aix1oovN+ckSuABOiXb4dLZ4osUnRwtUcEqPp85wrRGz6lwacOIbDwkwvGUNiBbdvjpGz3TxRZjGbTQya/LbZ/9fmxApoXjsj8+W+MF6sQJvE2HBBxrH6yyBhhTz9OoaKQYpBikGKQe4wCE0Gmf6iYpBikGKQYpA7DMJkgre2GKQYpBikGOSnQd7Gbw==\n"
     ]
    },
    {
     "name": "stderr",
     "output_type": "stream",
     "text": [
      "DEBUG:signalr_async.client:Raw message received: WSMessage(type=<WSMsgType.TEXT: 1>, data='{\"C\":\"d-F23263D5-B,0|Df,0|Dg,11|d,A3|p,978|o,977|a,1|Y,D|Dh,0|n,1|W,2|c,29|i,1|X,C|k,3|l,1|r,2|Z,1|s,59F\",\"M\":[{\"H\":\"Streaming\",\"M\":\"feed\",\"A\":[\"WeatherData\",{\"AirTemp\":\"26.0\",\"Humidity\":\"58.0\",\"Pressure\":\"1010.9\",\"Rainfall\":\"0\",\"TrackTemp\":\"32.5\",\"WindDirection\":\"319\",\"WindSpeed\":\"2.7\",\"_kf\":true},\"2023-03-19T16:42:00.053Z\"]}]}', extra='')\n"
     ]
    },
    {
     "name": "stdout",
     "output_type": "stream",
     "text": [
      "WeatherData {'AirTemp': '26.0', 'Humidity': '58.0', 'Pressure': '1010.9', 'Rainfall': '0', 'TrackTemp': '32.5', 'WindDirection': '319', 'WindSpeed': '2.7', '_kf': True}\n"
     ]
    },
    {
     "name": "stderr",
     "output_type": "stream",
     "text": [
      "DEBUG:signalr_async.client:Raw message received: WSMessage(type=<WSMsgType.TEXT: 1>, data='{\"C\":\"d-F23263D5-B,0|Df,0|Dg,11|d,A3|p,979|o,978|a,1|Y,D|Dh,0|n,1|W,2|c,29|i,1|X,C|k,3|l,1|r,2|Z,1|s,59F\",\"M\":[{\"H\":\"Streaming\",\"M\":\"feed\",\"A\":[\"CarData.z\",\"7ZS/CsJADIffJXNbkvvb3lp8A10UhyIFBelQu5W+u206uCjULDpkyR3HfZD7XfhG2HVDf2sfkE4jHIYLJDBobI42p2pPITlKviqqCilGe4QM6qafb49AS6mvTde1dz5ASJiB4Wq5Oq5+3S/LNPEFEeeEHOH3IDEofSGJWw2bQELHKK+vdkvph0gDMuIRkM6AsVJQ8CXrG6MQtNJwnHR6vBe2GqSpxm3hvJ/XUhbQjH4QlUmIhbFIjoKKSkWlolJR/a+oXERC9ZR6Sj2lnvqtp87TEw==\",\"2023-03-19T16:42:00.470106Z\"]},{\"H\":\"Streaming\",\"M\":\"feed\",\"A\":[\"Position.z\",\"7ZY9a8MwFEX/y5vtoPehz71zC83QpnQIJYMpSUriTsH/vbEVglLSV5JZi7FBh3d1JQ4+wNN23/XddgPp7QDzbr3a98v1FyQgQ9wabjHO0SXBZOPMeYnO8gIaeNj0u261h3QAHB/P/bL/Pn7C42a+W358Hpe8QGqRo2vgFZI10sACEmIYGiANwegnpLW2QERDKNgJIYMFgkZjhDEni6Fk7tgNqtmEw8Q49CXj1DkmzyF7kS2ojOQ57MsOSO2AmE/7KRG9AswI+XI7pJ4oW8nR4sUcVqPRac4Fojb9RwNeHWPjxBxfCobVCq7fHNGzXT1Ra9VsLjMo5W1zt9fm1Qp4XDsi4+U+M0GtgCQzLp6RYWj+N0iIEhljNUg1SDVINchtBqFkzAy9hBDrP0g1SDVINcg9BhGUYClUg1SDVINUg/w2yPvwAw==\",\"2023-03-19T16:42:00.4148528Z\"]}]}', extra='')\n"
     ]
    },
    {
     "name": "stdout",
     "output_type": "stream",
     "text": [
      "CarData.z 7ZS/CsJADIffJXNbkvvb3lp8A10UhyIFBelQu5W+u206uCjULDpkyR3HfZD7XfhG2HVDf2sfkE4jHIYLJDBobI42p2pPITlKviqqCilGe4QM6qafb49AS6mvTde1dz5ASJiB4Wq5Oq5+3S/LNPEFEeeEHOH3IDEofSGJWw2bQELHKK+vdkvph0gDMuIRkM6AsVJQ8CXrG6MQtNJwnHR6vBe2GqSpxm3hvJ/XUhbQjH4QlUmIhbFIjoKKSkWlolJR/a+oXERC9ZR6Sj2lnvqtp87TEw==\n",
      "Position.z 7ZY9a8MwFEX/y5vtoPehz71zC83QpnQIJYMpSUriTsH/vbEVglLSV5JZi7FBh3d1JQ4+wNN23/XddgPp7QDzbr3a98v1FyQgQ9wabjHO0SXBZOPMeYnO8gIaeNj0u261h3QAHB/P/bL/Pn7C42a+W358Hpe8QGqRo2vgFZI10sACEmIYGiANwegnpLW2QERDKNgJIYMFgkZjhDEni6Fk7tgNqtmEw8Q49CXj1DkmzyF7kS2ojOQ57MsOSO2AmE/7KRG9AswI+XI7pJ4oW8nR4sUcVqPRac4Fojb9RwNeHWPjxBxfCobVCq7fHNGzXT1Ra9VsLjMo5W1zt9fm1Qp4XDsi4+U+M0GtgCQzLp6RYWj+N0iIEhljNUg1SDVINchtBqFkzAy9hBDrP0g1SDVINcg9BhGUYClUg1SDVINUg/w2yPvwAw==\n"
     ]
    },
    {
     "name": "stderr",
     "output_type": "stream",
     "text": [
      "DEBUG:signalr_async.client:Connection keepalive\n",
      "DEBUG:signalr_async.client:Sending: message_content='{}', is_binary=False\n",
      "DEBUG:signalr_async.client:Raw message received: WSMessage(type=<WSMsgType.TEXT: 1>, data='{\"C\":\"d-F23263D5-B,0|Df,0|Dg,11|d,A3|p,97A|o,979|a,1|Y,D|Dh,0|n,1|W,2|c,29|i,1|X,C|k,3|l,1|r,2|Z,1|s,59F\",\"M\":[{\"H\":\"Streaming\",\"M\":\"feed\",\"A\":[\"CarData.z\",\"7ZSxCsIwEIbf5ea23CXpNclafANdFIciBQXpoN1K3902HVwU6i12uOUSQj64/Dm+AXZd/7i1T4inAQ79BSIYNDZHm1PYE0dnImLhK0TH5REyqJvHdHsAmkt9bbquvacDhIgZmFRtqi7VctnPyzimCyLOCTnC30FKoPSFJG6VV4GELqFpfbfrpR8iDciIR0A6A8ZKQcGXLG+shKCVhuOk01OWwlZZmmq1LpzP8+plAU3od1FRQT6E4FlFpaJSUamotisqO4mKg1FRqahUVCqq7YqKOQTjSUWlolJRqaj+Kqrz+AI=\",\"2023-03-19T16:42:01.6699281Z\"]},{\"H\":\"Streaming\",\"M\":\"feed\",\"A\":[\"Position.z\",\"7ZY9a8NADIb/i2Y7nHS6z71zC/XQpnQIJYMpcUriTsH/vbYvhHNJVZL5FmPDPUh6Tzz4BE/7Y9u3+w7i2wmadrc99pvdF0QgRbpWusbQoI1MUamV1+x8WEMFD11/aLdHiCfA6fHcb/rv8RMeu+aw+fgcj7xArFEHW8ErRKO4gjVERD9UQBKCwc1IbUyGsISQNzNCCjMElcSwxtRZ8DlzxzQo9sbaz4xFlzNWrKNSHTKL3rzIcKqjXZ4BiRmQ1ud5ckSOABNCLh+HxBvVhlNrYVFHi63Ruc4CEZP+IwEnljFhZsaXjNFiBNc3h+Xert6oMWJvNjHI+bbZ22NzYgR6Ojsh03JfGC9GQJwYGy7IMFT/CyQEdpZdMUgxSDFIMcjNBsHVuAlOhfIPUgxSDFIMco9BnGHLAYtBikGKQYpBfhvkffgB\",\"2023-03-19T16:42:01.7546491Z\"]}]}', extra='')\n"
     ]
    },
    {
     "name": "stdout",
     "output_type": "stream",
     "text": [
      "CarData.z 7ZSxCsIwEIbf5ea23CXpNclafANdFIciBQXpoN1K3902HVwU6i12uOUSQj64/Dm+AXZd/7i1T4inAQ79BSIYNDZHm1PYE0dnImLhK0TH5REyqJvHdHsAmkt9bbquvacDhIgZmFRtqi7VctnPyzimCyLOCTnC30FKoPSFJG6VV4GELqFpfbfrpR8iDciIR0A6A8ZKQcGXLG+shKCVhuOk01OWwlZZmmq1LpzP8+plAU3od1FRQT6E4FlFpaJSUamotisqO4mKg1FRqahUVCqq7YqKOQTjSUWlolJRqaj+Kqrz+AI=\n",
      "Position.z 7ZY9a8NADIb/i2Y7nHS6z71zC/XQpnQIJYMpcUriTsH/vbYvhHNJVZL5FmPDPUh6Tzz4BE/7Y9u3+w7i2wmadrc99pvdF0QgRbpWusbQoI1MUamV1+x8WEMFD11/aLdHiCfA6fHcb/rv8RMeu+aw+fgcj7xArFEHW8ErRKO4gjVERD9UQBKCwc1IbUyGsISQNzNCCjMElcSwxtRZ8DlzxzQo9sbaz4xFlzNWrKNSHTKL3rzIcKqjXZ4BiRmQ1ud5ckSOABNCLh+HxBvVhlNrYVFHi63Ruc4CEZP+IwEnljFhZsaXjNFiBNc3h+Xert6oMWJvNjHI+bbZ22NzYgR6Ojsh03JfGC9GQJwYGy7IMFT/CyQEdpZdMUgxSDFIMcjNBsHVuAlOhfIPUgxSDFIMco9BnGHLAYtBikGKQYpBfhvkffgB\n"
     ]
    },
    {
     "name": "stderr",
     "output_type": "stream",
     "text": [
      "DEBUG:signalr_async.client:Raw message received: WSMessage(type=<WSMsgType.TEXT: 1>, data='{}', extra='')\n",
      "DEBUG:signalr_async.client:Raw message received: WSMessage(type=<WSMsgType.TEXT: 1>, data='{\"C\":\"d-F23263D5-B,0|Df,0|Dg,11|d,A3|p,97B|o,97A|a,1|Y,D|Dh,0|n,1|W,2|c,29|i,1|X,C|k,3|l,1|r,2|Z,1|s,59F\",\"M\":[{\"H\":\"Streaming\",\"M\":\"feed\",\"A\":[\"CarData.z\",\"7ZS/CsIwEIff5ea23OV/shbfQBfFoUhBQTpot9J3t00HF4V6ix1uuYSQDy6/HN8Au65/3NonpNMAh/4CCRQqXaIuKe7JJaMSUhVUjGjsEQqom8d0ewCaS31tuq695wOEhAWoXHWuJle77OdlHPMFFmeYHOHvIGWQ+0Jit+pWgYQmo3l9txu4H8INSLFHgDsDSnNBxpcsb/RMUHPDMdzpsZbZquOm6teF83leAy+gCf0uKlVRiMGiiEpEJaISUW1YVMbFgFE8JZ4ST4mntuspH6J35EVUIioRlYjqr6I6jy8=\",\"2023-03-19T16:42:02.7897617Z\"]},{\"H\":\"Streaming\",\"M\":\"feed\",\"A\":[\"Position.z\",\"7ZQ9a8MwFEX/y5vtoPehzz1zC83QpnQIJYMpSUriTsH/vbEVglLSV5pZi5FBh3d1Jc4RHneHru92W0ivR1h0m/WhX20+IQEZ4tZwi3GBLgklg7NgxTHHJTQw3/b7bn2AdAQcP0/9qv86/cLDdrFfvX+ctjxDapGja+AFkjXSwBISYhgaIA3B6CektbZAREMo2AkhgwWCRmOEMSeLoWTuOA2q2YTDxDj0JePUOSbPIXuVLaiM5Dnsyw5I7YCYz+cpEb0CzAj58jik3ihbydHi1RxWo9F5zhWiNv1LA14dY+PEnBYFw2oFt1+O6Nlu3qi1ajaXGZTytbn/1+bVCnjcOyLj474wQa2AJDMuXpBhaP4yCM3Qiw2Wq0GqQapBqkHuMAizWIdVIFUgVSBVIHcIxKNYw1QNUg1SDVIN8tMgb8M3\",\"2023-03-19T16:42:02.7145032Z\"]}]}', extra='')\n"
     ]
    },
    {
     "name": "stdout",
     "output_type": "stream",
     "text": [
      "CarData.z 7ZS/CsIwEIff5ea23OV/shbfQBfFoUhBQTpot9J3t00HF4V6ix1uuYSQDy6/HN8Au65/3NonpNMAh/4CCRQqXaIuKe7JJaMSUhVUjGjsEQqom8d0ewCaS31tuq695wOEhAWoXHWuJle77OdlHPMFFmeYHOHvIGWQ+0Jit+pWgYQmo3l9txu4H8INSLFHgDsDSnNBxpcsb/RMUHPDMdzpsZbZquOm6teF83leAy+gCf0uKlVRiMGiiEpEJaISUW1YVMbFgFE8JZ4ST4mntuspH6J35EVUIioRlYjqr6I6jy8=\n",
      "Position.z 7ZQ9a8MwFEX/y5vtoPehzz1zC83QpnQIJYMpSUriTsH/vbEVglLSV5pZi5FBh3d1Jc4RHneHru92W0ivR1h0m/WhX20+IQEZ4tZwi3GBLgklg7NgxTHHJTQw3/b7bn2AdAQcP0/9qv86/cLDdrFfvX+ctjxDapGja+AFkjXSwBISYhgaIA3B6CektbZAREMo2AkhgwWCRmOEMSeLoWTuOA2q2YTDxDj0JePUOSbPIXuVLaiM5Dnsyw5I7YCYz+cpEb0CzAj58jik3ihbydHi1RxWo9F5zhWiNv1LA14dY+PEnBYFw2oFt1+O6Nlu3qi1ajaXGZTytbn/1+bVCnjcOyLj474wQa2AJDMuXpBhaP4yCM3Qiw2Wq0GqQapBqkHuMAizWIdVIFUgVSBVIHcIxKNYw1QNUg1SDVIN8tMgb8M3\n"
     ]
    },
    {
     "name": "stderr",
     "output_type": "stream",
     "text": [
      "DEBUG:signalr_async.client:Raw message received: WSMessage(type=<WSMsgType.TEXT: 1>, data='{\"C\":\"d-F23263D5-B,0|Df,0|Dg,11|d,A3|p,97C|o,97B|a,1|Y,D|Dh,0|n,1|W,2|c,29|i,1|X,C|k,3|l,1|r,2|Z,1|s,59F\",\"M\":[{\"H\":\"Streaming\",\"M\":\"feed\",\"A\":[\"CarData.z\",\"7ZS/CsJADMbfJXMrl9yf9m4tvoEuikORgoJ0qN1K3902HVxE6re4dEmOIz9IvoRvoH3bd/fmSek80LG/UiIxYnNjc44HDslJMnZnQiw4yokyqupuqh6I51Dd6rZtHvphKJmMRKPV6DT65T2ncdQCiHMgx+Z3kBVEJ2S41bAKZOMU1fxut0QXggok8AmgNyAWBYGVLDMWIGhRcRx6Pd6DrQZU1WKdOJ/vtcQEmtBvRuUkhuDjZlSbUW1GtRnVX43qMr4A\",\"2023-03-19T16:42:03.4296659Z\"]},{\"H\":\"Streaming\",\"M\":\"feed\",\"A\":[\"Position.z\",\"7ZQ/a8MwEMW/y8120P2RZGnP3EIztCkdQslgSpySuFPwd69thaCU9EozazEy6Md793S8Ezzuj23f7juIrydYtbvtsd/sPiECGeLacI1hhS4KRUOL4EUc+zVUsOz6Q7s9QjwBTp+nftN/jb/w0K0Om/eP8cozxBo5uApeIFojFawhIjZDBaQhGPyM1NZmiGgINXZGyGCGoNEYYUzOQpMzd0yDqjfhZmYc+pxxqo5JOmSvvDUqI0mHfZ4BqRkQ83meHNEjwISQz8ch9UXZSrIWrnRYtUZnnStETfqXBLwqY8PMjIeMYTWC25sjurebL2qt6s0lBiXfNvf/2LwaAU93J2Ra7gvTqBGQJMaFCzIM1V8NwgseG8RQKA1SGqQ0SGmQOxrEjeE5J6VBSoOUBikN8rNB3oZv\",\"2023-03-19T16:42:03.6143664Z\"]}]}', extra='')\n",
      "DEBUG:signalr_async.client:Raw message received: WSMessage(type=<WSMsgType.TEXT: 1>, data='{\"C\":\"d-F23263D5-B,0|Df,0|Dg,11|d,A4|p,97C|o,97B|a,1|Y,D|Dh,0|n,1|W,2|c,29|i,1|X,C|k,3|l,1|r,2|Z,1|s,59F\",\"M\":[{\"H\":\"Streaming\",\"M\":\"feed\",\"A\":[\"Heartbeat\",{\"Utc\":\"2023-03-19T16:42:05.922061Z\",\"_kf\":true},\"2023-03-19T16:42:05.553Z\"]}]}', extra='')\n"
     ]
    },
    {
     "name": "stdout",
     "output_type": "stream",
     "text": [
      "CarData.z 7ZS/CsJADMbfJXMrl9yf9m4tvoEuikORgoJ0qN1K3902HVxE6re4dEmOIz9IvoRvoH3bd/fmSek80LG/UiIxYnNjc44HDslJMnZnQiw4yokyqupuqh6I51Dd6rZtHvphKJmMRKPV6DT65T2ncdQCiHMgx+Z3kBVEJ2S41bAKZOMU1fxut0QXggok8AmgNyAWBYGVLDMWIGhRcRx6Pd6DrQZU1WKdOJ/vtcQEmtBvRuUkhuDjZlSbUW1GtRnVX43qMr4A\n",
      "Position.z 7ZQ/a8MwEMW/y8120P2RZGnP3EIztCkdQslgSpySuFPwd69thaCU9EozazEy6Md793S8Ezzuj23f7juIrydYtbvtsd/sPiECGeLacI1hhS4KRUOL4EUc+zVUsOz6Q7s9QjwBTp+nftN/jb/w0K0Om/eP8cozxBo5uApeIFojFawhIjZDBaQhGPyM1NZmiGgINXZGyGCGoNEYYUzOQpMzd0yDqjfhZmYc+pxxqo5JOmSvvDUqI0mHfZ4BqRkQ83meHNEjwISQz8ch9UXZSrIWrnRYtUZnnStETfqXBLwqY8PMjIeMYTWC25sjurebL2qt6s0lBiXfNvf/2LwaAU93J2Ra7gvTqBGQJMaFCzIM1V8NwgseG8RQKA1SGqQ0SGmQOxrEjeE5J6VBSoOUBikN8rNB3oZv\n",
      "Heartbeat {'Utc': '2023-03-19T16:42:05.922061Z', '_kf': True}\n"
     ]
    },
    {
     "name": "stderr",
     "output_type": "stream",
     "text": [
      "DEBUG:signalr_async.client:Raw message received: WSMessage(type=<WSMsgType.TEXT: 1>, data='{\"C\":\"d-F23263D5-B,0|Df,0|Dg,11|d,A4|p,97D|o,97C|a,1|Y,D|Dh,0|n,1|W,2|c,29|i,1|X,C|k,3|l,1|r,2|Z,1|s,59F\",\"M\":[{\"H\":\"Streaming\",\"M\":\"feed\",\"A\":[\"CarData.z\",\"7Za/CsIwEIff5ea2XC7/sxbfQBfFoUhBQTpot9J3t00HF4V6ix1uuZSQDy6/HB8dYNf1j1v7hHQa4NBfIAEh6RJ1qeJeuWQooa4CRYfOHaGAunlMpwdQc6mvTde197yBkLAAylXnanK1y/e8jGM+wOIMk1P4O6gyyL2hYrfqVoEKTUbz+m43cB+EGxCxR4A7A6S5IONJljt6Jqi54Rju9FjLbNVxU/Xrwvk8r4EX0IR+F5WpVIjWkhVRiahEVCKq7YpKm2gpBBGViEpEJaLarqg8RuOt/FGJqERUIqr/iuo8vgA=\",\"2023-03-19T16:42:04.7094755Z\"]},{\"H\":\"Streaming\",\"M\":\"feed\",\"A\":[\"Position.z\",\"7ZQ9a8MwEIb/y8120H1IsrRnbqEZ2pQOoWQwJU5J3Cn4v9e2QlBKeqWZtRgb9HCvXh/PCR73x7Zv9x3E1xOs2t322G92nxCBDHFtuMawQheFouGFD8IccA0VLLv+0G6PEE+A0+Op3/Rf4yc8dKvD5v1jPPIMsUYOroIXiNZIBWuIiM1QAWkIBj8jtbUZIhpCjZ0RMpghaDRGGFOy0OTMHbdBNZtwMzMOfc44dY5Jc8heZWtURtIc9nkHpHZAzOf75IheASaEfH4dUv8oW0nRwtUcVqPRec4Vojb9SwNeHWPDzIwvGcNqBbc3R/RsN/+otWo2lxiUfNvc/2vzagU8nZ2QabkvTKNWQJIYFy7IMFR/GUQWJggFtsUgxSDFIMUgdxhk3ASyHIpBikGKQYpB7jCIYyFEKQYpBikGKQb5aZC34Rs=\",\"2023-03-19T16:42:04.6342114Z\"]}]}', extra='')\n"
     ]
    },
    {
     "name": "stdout",
     "output_type": "stream",
     "text": [
      "CarData.z 7Za/CsIwEIff5ea2XC7/sxbfQBfFoUhBQTpot9J3t00HF4V6ix1uuZSQDy6/HB8dYNf1j1v7hHQa4NBfIAEh6RJ1qeJeuWQooa4CRYfOHaGAunlMpwdQc6mvTde197yBkLAAylXnanK1y/e8jGM+wOIMk1P4O6gyyL2hYrfqVoEKTUbz+m43cB+EGxCxR4A7A6S5IONJljt6Jqi54Rju9FjLbNVxU/Xrwvk8r4EX0IR+F5WpVIjWkhVRiahEVCKq7YpKm2gpBBGViEpEJaLarqg8RuOt/FGJqERUIqr/iuo8vgA=\n",
      "Position.z 7ZQ9a8MwEIb/y8120H1IsrRnbqEZ2pQOoWQwJU5J3Cn4v9e2QlBKeqWZtRgb9HCvXh/PCR73x7Zv9x3E1xOs2t322G92nxCBDHFtuMawQheFouGFD8IccA0VLLv+0G6PEE+A0+Op3/Rf4yc8dKvD5v1jPPIMsUYOroIXiNZIBWuIiM1QAWkIBj8jtbUZIhpCjZ0RMpghaDRGGFOy0OTMHbdBNZtwMzMOfc44dY5Jc8heZWtURtIc9nkHpHZAzOf75IheASaEfH4dUv8oW0nRwtUcVqPRec4Vojb9SwNeHWPDzIwvGcNqBbc3R/RsN/+otWo2lxiUfNvc/2vzagU8nZ2QabkvTKNWQJIYFy7IMFR/GUQWJggFtsUgxSDFIMUgdxhk3ASyHIpBikGKQYpB7jCIYyFEKQYpBikGKQb5aZC34Rs=\n"
     ]
    },
    {
     "name": "stderr",
     "output_type": "stream",
     "text": [
      "DEBUG:signalr_async.client:Raw message received: WSMessage(type=<WSMsgType.TEXT: 1>, data='{\"C\":\"d-F23263D5-B,0|Df,0|Dg,11|d,A4|p,97E|o,97D|a,1|Y,D|Dh,0|n,1|W,2|c,29|i,1|X,C|k,3|l,1|r,2|Z,1|s,59F\",\"M\":[{\"H\":\"Streaming\",\"M\":\"feed\",\"A\":[\"CarData.z\",\"7ZSxCsIwEIbf5eZW7nJJ2mYtvoEuikORgoJ00G6l7257HVxE6i063HIJIR9c/hzfANuuv1/bB6TjAPv+DAkcOs6Rc6p2FJN3CcOGsPIU/AEyqJv7dHsAmkt9abquvckBQsIMnFSW6qWGZT8v4ygXVJxXcoTfgySg9oWkbjWuAgm9oLK+2i21H6INyKlHQDsDjrWg4kuWNxZKkLXheO30hKBsNWpTLdaF835eS11AE/pJVFwhF55MVCYqE5WJ6n9FFRmZy9JEZaIyUZmofiqq0/gE\",\"2023-03-19T16:42:05.6303388Z\"]},{\"H\":\"Streaming\",\"M\":\"feed\",\"A\":[\"Position.z\",\"7ZRPS8NAEMW/y5wT2ZnZ2X/3nhXMQSseivQQpKm08VTy3U2ypWyljug5l7CB/fHevB3eCR72x7Zv9x2klxM07W577De7D0hAhrg2XGNs0CVLycidiYIWeQ0VrLr+0G6PkE6A0+ex3/Sf4y/cd81h8/Y+XnmCVCNHV8EzJDG2gjUkxDBUQBqC0c9ILVIgVkMoyIyQwQJBozGWMTuLoWT+MQ2q3iyHmXHoS8apOibrkFx5Cypjsw77MgNSMyDm8zwlokeAGSFfjkPqi7LYbC1e6bBqjc46V4ia9A8JeFVG4syMh4JhNYLbm2N1bzdfVET15jKDttw29/fYvBoBT3cnZFruCxPUCMhmxsULMgzV7w0iLMbbsDTI0iBLgywN8r1BXocv\",\"2023-03-19T16:42:05.5350748Z\"]}]}', extra='')\n"
     ]
    },
    {
     "name": "stdout",
     "output_type": "stream",
     "text": [
      "CarData.z 7ZSxCsIwEIbf5eZW7nJJ2mYtvoEuikORgoJ00G6l7257HVxE6i063HIJIR9c/hzfANuuv1/bB6TjAPv+DAkcOs6Rc6p2FJN3CcOGsPIU/AEyqJv7dHsAmkt9abquvckBQsIMnFSW6qWGZT8v4ygXVJxXcoTfgySg9oWkbjWuAgm9oLK+2i21H6INyKlHQDsDjrWg4kuWNxZKkLXheO30hKBsNWpTLdaF835eS11AE/pJVFwhF55MVCYqE5WJ6n9FFRmZy9JEZaIyUZmofiqq0/gE\n",
      "Position.z 7ZRPS8NAEMW/y5wT2ZnZ2X/3nhXMQSseivQQpKm08VTy3U2ypWyljug5l7CB/fHevB3eCR72x7Zv9x2klxM07W577De7D0hAhrg2XGNs0CVLycidiYIWeQ0VrLr+0G6PkE6A0+ex3/Sf4y/cd81h8/Y+XnmCVCNHV8EzJDG2gjUkxDBUQBqC0c9ILVIgVkMoyIyQwQJBozGWMTuLoWT+MQ2q3iyHmXHoS8apOibrkFx5Cypjsw77MgNSMyDm8zwlokeAGSFfjkPqi7LYbC1e6bBqjc46V4ia9A8JeFVG4syMh4JhNYLbm2N1bzdfVET15jKDttw29/fYvBoBT3cnZFruCxPUCMhmxsULMgzV7w0iLMbbsDTI0iBLgywN8r1BXocv\n"
     ]
    },
    {
     "name": "stderr",
     "output_type": "stream",
     "text": [
      "DEBUG:signalr_async.client:Connection keepalive\n",
      "DEBUG:signalr_async.client:Sending: message_content='{}', is_binary=False\n",
      "DEBUG:signalr_async.client:Raw message received: WSMessage(type=<WSMsgType.TEXT: 1>, data='{\"C\":\"d-F23263D5-B,0|Df,0|Dg,11|d,A4|p,97F|o,97E|a,1|Y,D|Dh,0|n,1|W,2|c,29|i,1|X,C|k,3|l,1|r,2|Z,1|s,59F\",\"M\":[{\"H\":\"Streaming\",\"M\":\"feed\",\"A\":[\"CarData.z\",\"7dSxCsIwEAbgd7lZy90luTRZxTfQRXEQERSkg7qVvrttOrgo1FvscMullPyQXI6vhXXzvF/PD8j7FrbPE2RgZLdEt6S0IcmeM4YqEXKKbgcLWB3v/e4WaCiry7FpzrfyAyHjArhUV6ovNYzfw9J1ZYMq55U5wt+DVILaG5L6qDIpSOhLtKzv49baB9E2iNUjoJ0Bdtqg4knGO0Zl0Gmb47XTE4LyqKLtapzWnM/zWusa1Ee/QyUV9VBJZIPKoDKoDKr5QuUdMqXaoDKoDCqDar5QhYSUhAwqg8qgMqjmC1XsoRIJBpVBZVAZVH+F6tC9AA==\",\"2023-03-19T16:42:06.7901665Z\"]},{\"H\":\"Streaming\",\"M\":\"feed\",\"A\":[\"Position.z\",\"7Zc9a8NADIb/i2Y7nKT73jO30AxtSodQMpiSpCTuFPzf648QLjRVqWct5gz3IN174sE+w+Ph1LTNYQ/59QyrZrc9tZvdJ2QgQ1wbrjGt0GdL2bhFdM6Qj2uoYLlvj832BPkMODye2k371b/Cw3513Lx/9FueIdfIyVfwAtkZW8EaMmLsKiAJwRRGpHauQKyEUHQjQgYLBI3EWMapsxRLZsZpUOzNchwZj6FkvFjHTHXI3fQWRcZOdTiUGZCYATFfzlMicgQ4IRTK45B4o+zs1Fq6qcNia3Spc4OISf+SQBDLuDQy/aJgWIzg/uRYube7N+qc2JufGLTltPn/xxbECHjYOyDDcF+ZKEZAdmJ8uiJdV/1lEL8wwabErAZRg6hB1CAzDNJPQnJGv0HUIGoQNcgcgzi2idiqQdQgahA1yAyDhP6Okv7EqEBUICqQHwJ5674B\",\"2023-03-19T16:42:06.734893Z\"]}]}', extra='')\n"
     ]
    },
    {
     "name": "stdout",
     "output_type": "stream",
     "text": [
      "CarData.z 7dSxCsIwEAbgd7lZy90luTRZxTfQRXEQERSkg7qVvrttOrgo1FvscMullPyQXI6vhXXzvF/PD8j7FrbPE2RgZLdEt6S0IcmeM4YqEXKKbgcLWB3v/e4WaCiry7FpzrfyAyHjArhUV6ovNYzfw9J1ZYMq55U5wt+DVILaG5L6qDIpSOhLtKzv49baB9E2iNUjoJ0Bdtqg4knGO0Zl0Gmb47XTE4LyqKLtapzWnM/zWusa1Ee/QyUV9VBJZIPKoDKoDKr5QuUdMqXaoDKoDCqDar5QhYSUhAwqg8qgMqjmC1XsoRIJBpVBZVAZVH+F6tC9AA==\n",
      "Position.z 7Zc9a8NADIb/i2Y7nKT73jO30AxtSodQMpiSpCTuFPzf648QLjRVqWct5gz3IN174sE+w+Ph1LTNYQ/59QyrZrc9tZvdJ2QgQ1wbrjGt0GdL2bhFdM6Qj2uoYLlvj832BPkMODye2k371b/Cw3513Lx/9FueIdfIyVfwAtkZW8EaMmLsKiAJwRRGpHauQKyEUHQjQgYLBI3EWMapsxRLZsZpUOzNchwZj6FkvFjHTHXI3fQWRcZOdTiUGZCYATFfzlMicgQ4IRTK45B4o+zs1Fq6qcNia3Spc4OISf+SQBDLuDQy/aJgWIzg/uRYube7N+qc2JufGLTltPn/xxbECHjYOyDDcF+ZKEZAdmJ8uiJdV/1lEL8wwabErAZRg6hB1CAzDNJPQnJGv0HUIGoQNcgcgzi2idiqQdQgahA1yAyDhP6Okv7EqEBUICqQHwJ5674B\n"
     ]
    },
    {
     "name": "stderr",
     "output_type": "stream",
     "text": [
      "DEBUG:signalr_async.client:Raw message received: WSMessage(type=<WSMsgType.TEXT: 1>, data='{\"C\":\"d-F23263D5-B,0|Df,0|Dg,11|d,A4|p,980|o,97F|a,1|Y,D|Dh,0|n,1|W,2|c,29|i,1|X,C|k,3|l,1|r,2|Z,1|s,59F\",\"M\":[{\"H\":\"Streaming\",\"M\":\"feed\",\"A\":[\"CarData.z\",\"7ZSxCsIwEIbf5eZW7pI0abMW30AXxaFIQUE6aLfSd7dNBxeR+i863HIJIR9c/hzfQNuuv1/bB8XjQPv+TJEMG5uzzaXaiY/ORA4bqVjY2wNlVDf36fZAMpf60nRde0sHTJEzMqnaVF2qxbKfl3FMFyDOgZzw96AkEH2hwK36VaCwS2haX+2W6IegARl4BNAZMBYFgS9Z3hhA0KLhOHR6igJs1aOphnXhvJ/XEgtoQj+JylnmwKWKSkWlolJR/a+oQsHTqVNRqahUVCqqn4rqND4B\",\"2023-03-19T16:42:07.7500234Z\"]},{\"H\":\"Streaming\",\"M\":\"feed\",\"A\":[\"Position.z\",\"7ZY9a8MwFEX/y5vtoPehzz1zC83QpnQIJYMpSUriTsH/vbEVgkLTV5pZi7FBh3d1JQ4+wuPu0PXdbgvp9QiLbrM+9KvNJyQgQ9wabjEu0CWhZNwsegnW2SU0MN/2+259gHQEHB9P/ar/On3Cw3axX71/nJY8Q2qRo2vgBZI10sASEmIYGiANwegnpLW2QERDKNgJIYMFgkZjhDEni6Fk7tgNqtmEw8Q49CXj1DkmzyF7lS2ojOQ57MsOSO2AmM/7KRG9AswI+XI7pJ4oW8nR4tUcVqPRec4Vojb9SwNeHWPjxJxeCobVCm7fHNGz3TxRa9VsLjMo5W1z/6/NqxXwuHZExst9YYJaAUlmXLwgw9D8ZRA/Y5RgJFaDVINUg1SD3GEQZ8VbpmqQapBqkGqQOwwSUDyF+g9SDVINUg3ywyBvwzc=\",\"2023-03-19T16:42:07.8147289Z\"]}]}', extra='')\n"
     ]
    },
    {
     "name": "stdout",
     "output_type": "stream",
     "text": [
      "CarData.z 7ZSxCsIwEIbf5eZW7pI0abMW30AXxaFIQUE6aLfSd7dNBxeR+i863HIJIR9c/hzfQNuuv1/bB8XjQPv+TJEMG5uzzaXaiY/ORA4bqVjY2wNlVDf36fZAMpf60nRde0sHTJEzMqnaVF2qxbKfl3FMFyDOgZzw96AkEH2hwK36VaCwS2haX+2W6IegARl4BNAZMBYFgS9Z3hhA0KLhOHR6igJs1aOphnXhvJ/XEgtoQj+JylnmwKWKSkWlolJR/a+oQsHTqVNRqahUVCqqn4rqND4B\n",
      "Position.z 7ZY9a8MwFEX/y5vtoPehzz1zC83QpnQIJYMpSUriTsH/vbEVgkLTV5pZi7FBh3d1JQ4+wuPu0PXdbgvp9QiLbrM+9KvNJyQgQ9wabjEu0CWhZNwsegnW2SU0MN/2+259gHQEHB9P/ar/On3Cw3axX71/nJY8Q2qRo2vgBZI10sASEmIYGiANwegnpLW2QERDKNgJIYMFgkZjhDEni6Fk7tgNqtmEw8Q49CXj1DkmzyF7lS2ojOQ57MsOSO2AmM/7KRG9AswI+XI7pJ4oW8nR4tUcVqPRec4Vojb9SwNeHWPjxJxeCobVCm7fHNGz3TxRa9VsLjMo5W1z/6/NqxXwuHZExst9YYJaAUlmXLwgw9D8ZRA/Y5RgJFaDVINUg1SD3GEQZ8VbpmqQapBqkGqQOwwSUDyF+g9SDVINUg3ywyBvwzc=\n"
     ]
    },
    {
     "name": "stderr",
     "output_type": "stream",
     "text": [
      "DEBUG:signalr_async.client:Raw message received: WSMessage(type=<WSMsgType.TEXT: 1>, data='{\"C\":\"d-F23263D5-B,0|Df,0|Dg,11|d,A4|p,981|o,980|a,1|Y,D|Dh,0|n,1|W,2|c,29|i,1|X,C|k,3|l,1|r,2|Z,1|s,59F\",\"M\":[{\"H\":\"Streaming\",\"M\":\"feed\",\"A\":[\"CarData.z\",\"7Za/CsJADIffJXOV3N9ebi2+gS6KQ5GCgnTQbqXvbpsOLiI1ix2y5MpxH+R+Fz7aw67tHrfmCfnUw6G7QAaL1m3QbQztTczeZkxbtETJHKGAqn6Mh3swU6mudds2d95AyFiA5eq4eq5h/p6WYeADIs4LOYO/g4ZB6Q2NuNW4CDToGeX13W6SPog0ICseAekMWCcFBU8y37EUgk4ajpdOTwjCVqM01XJZOJ/nNckCGtFvnnJI5CiqqFRUKioV1XpFFRIl/aNSUamoVFSrFlWKlEL0KioVlYpKRfVXUZ2HFw==\",\"2023-03-19T16:42:08.8698564Z\"]},{\"H\":\"Streaming\",\"M\":\"feed\",\"A\":[\"Position.z\",\"7ZQ9a8MwEIb/y8120El3+tozt9AMbUqHUDKYkqQk7hT83+uPEJSSXqnnW4wMerhXr8RzhsfDqWmbwx7y6xlWzW57aje7T8hgjXW1cTWmFfpMNpuwSEzBBL+GCpb79thsT5DPgMPnqd20X/0vPOxXx837R7/lGXKNLvkKXiCzoQrWkBFjV4GVEExhRGrmAiEJsZFHxBosEDQSQw6nZCmWzIzToJiNXBwZj6FkvDjHTHMs32SLIkPTHBfKDqzYgXXucp4SkSvACbGhPI4Vb9QxTdHSzRwnRrOXOTeI2PQvDQRxDKeR6RcF48QK7r8ckrPdvVFmMZufGKTytfn/1xbECtywd0CGx31loliBpYnx6Yp0XfWXQeICmXwIVg2iBlGDqEFmGIQSecusBlGDqEHUIDMM4gP1raEaRA2iBlGDzDBIZOJgohpEDaIGUYP8NMhb9w0=\",\"2023-03-19T16:42:08.8545708Z\"]}]}', extra='')\n"
     ]
    },
    {
     "name": "stdout",
     "output_type": "stream",
     "text": [
      "CarData.z 7Za/CsJADIffJXOV3N9ebi2+gS6KQ5GCgnTQbqXvbpsOLiI1ix2y5MpxH+R+Fz7aw67tHrfmCfnUw6G7QAaL1m3QbQztTczeZkxbtETJHKGAqn6Mh3swU6mudds2d95AyFiA5eq4eq5h/p6WYeADIs4LOYO/g4ZB6Q2NuNW4CDToGeX13W6SPog0ICseAekMWCcFBU8y37EUgk4ajpdOTwjCVqM01XJZOJ/nNckCGtFvnnJI5CiqqFRUKioV1XpFFRIl/aNSUamoVFSrFlWKlEL0KioVlYpKRfVXUZ2HFw==\n",
      "Position.z 7ZQ9a8MwEIb/y8120El3+tozt9AMbUqHUDKYkqQk7hT83+uPEJSSXqnnW4wMerhXr8RzhsfDqWmbwx7y6xlWzW57aje7T8hgjXW1cTWmFfpMNpuwSEzBBL+GCpb79thsT5DPgMPnqd20X/0vPOxXx837R7/lGXKNLvkKXiCzoQrWkBFjV4GVEExhRGrmAiEJsZFHxBosEDQSQw6nZCmWzIzToJiNXBwZj6FkvDjHTHMs32SLIkPTHBfKDqzYgXXucp4SkSvACbGhPI4Vb9QxTdHSzRwnRrOXOTeI2PQvDQRxDKeR6RcF48QK7r8ckrPdvVFmMZufGKTytfn/1xbECtywd0CGx31loliBpYnx6Yp0XfWXQeICmXwIVg2iBlGDqEFmGIQSecusBlGDqEHUIDMM4gP1raEaRA2iBlGDzDBIZOJgohpEDaIGUYP8NMhb9w0=\n"
     ]
    },
    {
     "name": "stderr",
     "output_type": "stream",
     "text": [
      "DEBUG:signalr_async.client:Raw message received: WSMessage(type=<WSMsgType.TEXT: 1>, data='{\"C\":\"d-F23263D5-B,0|Df,0|Dg,11|d,A4|p,982|o,981|a,1|Y,D|Dh,0|n,1|W,2|c,29|i,1|X,C|k,3|l,1|r,2|Z,1|s,59F\",\"M\":[{\"H\":\"Streaming\",\"M\":\"feed\",\"A\":[\"CarData.z\",\"7Ze/CsIwEIff5eZWLn+a5LKKb6CL4lCkoCAdqlvpu9teBxeReosdbrmUkA8uvxwftIdd++xuzQPyqYfD8wIZLFpXoisN7U3I3makDQZKNpgjFLCtu/F0D2Yq22vdts2dNxAyFmC5Oq6eazV/T8sw8AER54Wcwd9Bw6D0hkbcalgEGvSM8vpuN0kfRBqQFY+AdAask4KCJ5nvGIWgk4bjpdNTVcJWgzTVuCycz/OaZAGN6DdROU8xeVJRqahUVCqq9YoqJooWnYpKRaWiUlGtV1SUKBDqr5+KSkWlovqvqM7DCw==\",\"2023-03-19T16:42:09.9896901Z\"]},{\"H\":\"Streaming\",\"M\":\"feed\",\"A\":[\"Position.z\",\"7ZQ9a8MwEIb/y8120X1IsrR3bqEe2pQOoWQwJUlJ3Mn4v9e2QlBKeqWZtRgb9HDvvRbPAI/7Y9d3+x3E1wHabrs59uvtJ0QgQ1wbrjG06KJQNOHOBLEsvIIK7nf9odscIQ6A8+OpX/df0yc87NrD+v1jOvIMsUYOroIXiNZIBSuIiM1YAWkIBr8gtbUZIhpCjV0QMpghaDRGGFOy0OTMDdugmk24WRiHPmecOsekOWQvsjUqI2kO+7wDUjsg5tM+OaJXgAkhn69D6h9lKylauJjDajQ6zblA1KZ/acCrY2xYmOklY1it4PrNET3b1T9qrZrNJQYlv23u/7V5tQKez87IfLnPTKNWQJIYF87IOFZ/G4S8WONCMUgxSDFIMcgNBrHTLt7YYpBikGKQYpAbDBJYxDhXDFIMUgxSDPLTIG/jNw==\",\"2023-03-19T16:42:09.9344066Z\"]}]}', extra='')\n"
     ]
    },
    {
     "name": "stdout",
     "output_type": "stream",
     "text": [
      "CarData.z 7Ze/CsIwEIff5eZWLn+a5LKKb6CL4lCkoCAdqlvpu9teBxeReosdbrmUkA8uvxwftIdd++xuzQPyqYfD8wIZLFpXoisN7U3I3makDQZKNpgjFLCtu/F0D2Yq22vdts2dNxAyFmC5Oq6eazV/T8sw8AER54Wcwd9Bw6D0hkbcalgEGvSM8vpuN0kfRBqQFY+AdAask4KCJ5nvGIWgk4bjpdNTVcJWgzTVuCycz/OaZAGN6DdROU8xeVJRqahUVCqq9YoqJooWnYpKRaWiUlGtV1SUKBDqr5+KSkWlovqvqM7DCw==\n",
      "Position.z 7ZQ9a8MwEIb/y8120X1IsrR3bqEe2pQOoWQwJUlJ3Mn4v9e2QlBKeqWZtRgb9HDvvRbPAI/7Y9d3+x3E1wHabrs59uvtJ0QgQ1wbrjG06KJQNOHOBLEsvIIK7nf9odscIQ6A8+OpX/df0yc87NrD+v1jOvIMsUYOroIXiNZIBSuIiM1YAWkIBr8gtbUZIhpCjV0QMpghaDRGGFOy0OTMDdugmk24WRiHPmecOsekOWQvsjUqI2kO+7wDUjsg5tM+OaJXgAkhn69D6h9lKylauJjDajQ6zblA1KZ/acCrY2xYmOklY1it4PrNET3b1T9qrZrNJQYlv23u/7V5tQKez87IfLnPTKNWQJIYF87IOFZ/G4S8WONCMUgxSDFIMcgNBrHTLt7YYpBikGKQYpAbDBJYxDhXDFIMUgxSDPLTIG/jNw==\n"
     ]
    },
    {
     "name": "stderr",
     "output_type": "stream",
     "text": [
      "DEBUG:signalr_async.client:Raw message received: WSMessage(type=<WSMsgType.TEXT: 1>, data='{\"C\":\"d-F23263D5-B,0|Df,0|Dg,11|d,A4|p,983|o,982|a,1|Y,D|Dh,0|n,1|W,2|c,29|i,1|X,C|k,3|l,1|r,2|Z,1|s,59F\",\"M\":[{\"H\":\"Streaming\",\"M\":\"feed\",\"A\":[\"CarData.z\",\"7ZS9CsJQDIXfJXMryf3r7V2Lb6CL4lCkoCAdarfSd7dNBxeRehaXLsnlkg+Sk3AG2rd9d2+elM4DHfsrJTJsbM42l/IgITmThHc2lsFycaKMqrqbqgeSOVS3um2bh34wJc7IaLQanUa/vOc0jloAcQ7khH8HRUF0QoFbDatAYaeo5ne7EV0IKpCBTwC9AWNREFjJMmMBghYVx6HX4z3YakBVLdaJ8/leIybQhH4zqmhKH7zbjGozqs2oNqP6q1Fdxhc=\",\"2023-03-19T16:42:10.8295654Z\"]},{\"H\":\"Streaming\",\"M\":\"feed\",\"A\":[\"Position.z\",\"7ZY/a8MwEMW/y8120f2RZGnv3EI9tCkdQslgSpySuFPwd69thaDQ9EozazE26Md793Q8fITH3aEbul0P8fUIbbfdHIb19hMikCGuDdcYWnRRKKK5wyDsPK6ggvt+2HebA8Qj4Px4GtbD1/QJD327X79/TEeeIdbIwVXwAtEaqWAFEbEZKyANweAXpLY2Q0RDqLELQgYzBI3GCGNyFpqcuWEaVL0JNwvj0OeMU3VM0iF74a1RGUk67PMMSM2AmE/z5IgeASaEfD4OqTfKVpK1cKHDqjU66VwgatK/JOBVGRsWZnrJGFYjuL45onu7eqPWqt5cYlDybXP/j82rEfB8dkbm5T4zjRoBSWJcOCPjWP3dIOKFSWxpkNIgpUFKg9zQIC4IBSz/IKVBSoOUBvnRIG/jNw==\",\"2023-03-19T16:42:10.6942911Z\"]}]}', extra='')\n"
     ]
    },
    {
     "name": "stdout",
     "output_type": "stream",
     "text": [
      "CarData.z 7ZS9CsJQDIXfJXMryf3r7V2Lb6CL4lCkoCAdarfSd7dNBxeRehaXLsnlkg+Sk3AG2rd9d2+elM4DHfsrJTJsbM42l/IgITmThHc2lsFycaKMqrqbqgeSOVS3um2bh34wJc7IaLQanUa/vOc0jloAcQ7khH8HRUF0QoFbDatAYaeo5ne7EV0IKpCBTwC9AWNREFjJMmMBghYVx6HX4z3YakBVLdaJ8/leIybQhH4zqmhKH7zbjGozqs2oNqP6q1Fdxhc=\n",
      "Position.z 7ZY/a8MwEMW/y8120f2RZGnv3EI9tCkdQslgSpySuFPwd69thaDQ9EozazE26Md793Q8fITH3aEbul0P8fUIbbfdHIb19hMikCGuDdcYWnRRKKK5wyDsPK6ggvt+2HebA8Qj4Px4GtbD1/QJD327X79/TEeeIdbIwVXwAtEaqWAFEbEZKyANweAXpLY2Q0RDqLELQgYzBI3GCGNyFpqcuWEaVL0JNwvj0OeMU3VM0iF74a1RGUk67PMMSM2AmE/z5IgeASaEfD4OqTfKVpK1cKHDqjU66VwgatK/JOBVGRsWZnrJGFYjuL45onu7eqPWqt5cYlDybXP/j82rEfB8dkbm5T4zjRoBSWJcOCPjWP3dIOKFSWxpkNIgpUFKg9zQIC4IBSz/IKVBSoOUBvnRIG/jNw==\n"
     ]
    },
    {
     "name": "stderr",
     "output_type": "stream",
     "text": [
      "DEBUG:signalr_async.client:Connection keepalive\n",
      "DEBUG:signalr_async.client:Sending: message_content='{}', is_binary=False\n",
      "DEBUG:signalr_async.client:Raw message received: WSMessage(type=<WSMsgType.TEXT: 1>, data='{\"C\":\"d-F23263D5-B,0|Df,0|Dg,11|d,A4|p,984|o,983|a,1|Y,D|Dh,0|n,1|W,2|c,29|i,1|X,C|k,3|l,1|r,2|Z,1|s,59F\",\"M\":[{\"H\":\"Streaming\",\"M\":\"feed\",\"A\":[\"CarData.z\",\"7ZbBCsIwDIbfJecpTZp2a6/DN9CL4mGIoCA76G5j7+6WHbyIzFz0EBjpGP0g/Rs+1sOm7e7X8wPyoYddd4IM5MivnF9h2mLMTBlxTZSCC7yHAurmPu7uAadSX5q2Pd/kg4PsCiCpXipLDfP7tAyDbFBxrOTQfQ+igNoTorrVuAhEx4LK+mq30l6INiBSj4B2BshrQcWVzGcslaDXhsPa6QlB2WrUplouC+f9vFa6gEb0k6g4pvFJJioTlYnKRPW/oqooMUb7ozJRmahMVL8V1XF4Ag==\",\"2023-03-19T16:42:11.8294164Z\"]},{\"H\":\"Streaming\",\"M\":\"feed\",\"A\":[\"Position.z\",\"7ZRNS8NAEIb/y5yTsjM7s193zwr2oBUPRXoIYittPJX8d5NsKVupI/a8l5DAPsy7b4bnCA+7Q9d3uy2klyMsu4/NoV9/fEICMmRbY1uMS3SJKaFZRGQS71fQwN2233ebA6Qj4PR47Nf91/gJ99vlfv32Ph55gtSija6BZ0hiuIEVJMQwNEAagtHPSCtSIKwhFGRGyGCBoNEYtpiTxVAyN9wG1Wxsw8w49CXj1DkmzyG5yBZUhvMc68sOSO2ArD3dp0T0CjAj5MvrkPpHrXCOFi/mWDUaneZcIGrTvzTg1TESZ2Z8KRirVnB9c1jPdvWPiqjZXGaQy21z/6/NqxXY6eyETMt9ZoJaAXFmXDwjw9D8ZRBckGUysQqkCqQKpArkBoGwCHrhapBqkGqQapAbDOKjjEsXqkGqQapBqkF+GuR1+AY=\",\"2023-03-19T16:42:11.7951238Z\"]}]}', extra='')\n"
     ]
    },
    {
     "name": "stdout",
     "output_type": "stream",
     "text": [
      "CarData.z 7ZbBCsIwDIbfJecpTZp2a6/DN9CL4mGIoCA76G5j7+6WHbyIzFz0EBjpGP0g/Rs+1sOm7e7X8wPyoYddd4IM5MivnF9h2mLMTBlxTZSCC7yHAurmPu7uAadSX5q2Pd/kg4PsCiCpXipLDfP7tAyDbFBxrOTQfQ+igNoTorrVuAhEx4LK+mq30l6INiBSj4B2BshrQcWVzGcslaDXhsPa6QlB2WrUplouC+f9vFa6gEb0k6g4pvFJJioTlYnKRPW/oqooMUb7ozJRmahMVL8V1XF4Ag==\n",
      "Position.z 7ZRNS8NAEIb/y5yTsjM7s193zwr2oBUPRXoIYittPJX8d5NsKVupI/a8l5DAPsy7b4bnCA+7Q9d3uy2klyMsu4/NoV9/fEICMmRbY1uMS3SJKaFZRGQS71fQwN2233ebA6Qj4PR47Nf91/gJ99vlfv32Ph55gtSija6BZ0hiuIEVJMQwNEAagtHPSCtSIKwhFGRGyGCBoNEYtpiTxVAyN9wG1Wxsw8w49CXj1DkmzyG5yBZUhvMc68sOSO2ArD3dp0T0CjAj5MvrkPpHrXCOFi/mWDUaneZcIGrTvzTg1TESZ2Z8KRirVnB9c1jPdvWPiqjZXGaQy21z/6/NqxXY6eyETMt9ZoJaAXFmXDwjw9D8ZRBckGUysQqkCqQKpArkBoGwCHrhapBqkGqQapAbDOKjjEsXqkGqQapBqkF+GuR1+AY=\n"
     ]
    },
    {
     "name": "stderr",
     "output_type": "stream",
     "text": [
      "DEBUG:signalr_async.client:Raw message received: WSMessage(type=<WSMsgType.TEXT: 1>, data='{}', extra='')\n",
      "DEBUG:signalr_async.client:Raw message received: WSMessage(type=<WSMsgType.TEXT: 1>, data='{\"C\":\"d-F23263D5-B,0|Df,0|Dg,11|d,A4|p,984|o,984|a,1|Y,D|Dh,0|n,1|W,2|c,29|i,1|X,C|k,3|l,1|r,2|Z,1|s,59F\",\"M\":[{\"H\":\"Streaming\",\"M\":\"feed\",\"A\":[\"Position.z\",\"7ZQ9a8MwEIb/y8120N3p9LV3bqEZ2pQOoWQwpUlJ3Cn4v9e2QlBKeqWZtRgb9PhevRLPER52h67vdltIL0dYdh+bQ7/++IQEZIhbwy3GJbpkKSEuQhQ0wa2ggbttv+82B0hHwOnx2K/7r/ET7rfL/frtfVzyBKlFjq6BZ0hibAMrGP8ShgZIQzD6GWlFCsRqCAWZETJYIGg0xjLmZDGUzA27QTWb5TAzDn3JOHWOyXNILrIFlbF5DvuyA1I7IObTfkpErwAzQr7cDqknymJztHgxh9VodJpzgahN/9KAV8dInJnxpWBYreD6zbF6tqsnKqJmc5lBW9429//avFoBT2snZLrcZyaoFZDNjItnZBiavwxCC0QxXrAapBqkGqQa5AaD2NEgFKUapBqkGqQa5AaDeLYxmFgNUg1SDVIN8tMgr8M3\",\"2023-03-19T16:42:12.7349809Z\"]}]}', extra='')\n",
      "DEBUG:signalr_async.client:Raw message received: WSMessage(type=<WSMsgType.TEXT: 1>, data='{\"C\":\"d-F23263D5-B,0|Df,0|Dg,11|d,A4|p,985|o,984|a,1|Y,D|Dh,0|n,1|W,2|c,29|i,1|X,C|k,3|l,1|r,2|Z,1|s,59F\",\"M\":[{\"H\":\"Streaming\",\"M\":\"feed\",\"A\":[\"CarData.z\",\"7ZS/DoIwEIff5WYw96cU6Ep8A100DsSQaGIYkI3w7kIZXIzBW2S45do0/ZLrr5dvgH3bd/fmCeE8wLG/QgBGlhQlpfJAPjgOxDsUlCIrT5BAVXfT7QFoLtWtbtvmEQ8QAibAsUqsLtZs2c/LOMYLKs4pOcLfQYqg9oWkbtWvAgldROP6brfQfog2IFaPgHYGWLSg4kuWN+ZKULThOO30ZJmyVa9NNV8Xzud5LXQBTeg3UQmhOOdMVCYqE5WJarui8jlySWSiMlGZqExU2xVVIcg+FxOVicpEZaL6q6gu4ws=\",\"2023-03-19T16:42:12.8302673Z\"]}]}', extra='')\n"
     ]
    },
    {
     "name": "stdout",
     "output_type": "stream",
     "text": [
      "Position.z 7ZQ9a8MwEIb/y8120N3p9LV3bqEZ2pQOoWQwpUlJ3Cn4v9e2QlBKeqWZtRgb9PhevRLPER52h67vdltIL0dYdh+bQ7/++IQEZIhbwy3GJbpkKSEuQhQ0wa2ggbttv+82B0hHwOnx2K/7r/ET7rfL/frtfVzyBKlFjq6BZ0hibAMrGP8ShgZIQzD6GWlFCsRqCAWZETJYIGg0xjLmZDGUzA27QTWb5TAzDn3JOHWOyXNILrIFlbF5DvuyA1I7IObTfkpErwAzQr7cDqknymJztHgxh9VodJpzgahN/9KAV8dInJnxpWBYreD6zbF6tqsnKqJmc5lBW9429//avFoBT2snZLrcZyaoFZDNjItnZBiavwxCC0QxXrAapBqkGqQa5AaD2NEgFKUapBqkGqQa5AaDeLYxmFgNUg1SDVIN8tMgr8M3\n",
      "CarData.z 7ZS/DoIwEIff5WYw96cU6Ep8A100DsSQaGIYkI3w7kIZXIzBW2S45do0/ZLrr5dvgH3bd/fmCeE8wLG/QgBGlhQlpfJAPjgOxDsUlCIrT5BAVXfT7QFoLtWtbtvmEQ8QAibAsUqsLtZs2c/LOMYLKs4pOcLfQYqg9oWkbtWvAgldROP6brfQfog2IFaPgHYGWLSg4kuWN+ZKULThOO30ZJmyVa9NNV8Xzud5LXQBTeg3UQmhOOdMVCYqE5WJarui8jlySWSiMlGZqExU2xVVIcg+FxOVicpEZaL6q6gu4ws=\n"
     ]
    },
    {
     "name": "stderr",
     "output_type": "stream",
     "text": [
      "DEBUG:signalr_async.client:Raw message received: WSMessage(type=<WSMsgType.TEXT: 1>, data='{\"C\":\"d-F23263D5-B,0|Df,0|Dg,11|d,A4|p,986|o,985|a,1|Y,D|Dh,0|n,1|W,2|c,29|i,1|X,C|k,3|l,1|r,2|Z,1|s,59F\",\"M\":[{\"H\":\"Streaming\",\"M\":\"feed\",\"A\":[\"CarData.z\",\"7Za/CsIwEIff5eYq9ydp2qziG+iiOIgICtJB3Urf3fY6uIjUW+xwy6WEfHD55fhoC+vmeb+eH5D3LWyfJ8jAyLJAWVC9oTIHziRLTP0m7aCA1fHeH26BhrK6HJvmfNMNhIwFsFbRGrTG8XtYuk4PmLhg5Ah/B0lB6w3J3Go5CSQMiur6breyPog1IDaPgHUGWKyg4UnGOyYjKNZwgnV6YjS2WlpTTdPC+TyvlS2gHv3mKRZkTMFF5aJyUbmo5isqqZEqqV1ULioXlYtqvqKKEalE/6NyUbmoXFQzFlWVkEjYReWiclG5qP4qqkP3Ag==\",\"2023-03-19T16:42:13.8701132Z\"]},{\"H\":\"Streaming\",\"M\":\"feed\",\"A\":[\"Position.z\",\"7ZQ7a8NAEIT/y9ZSuH3cs0+dQFwkDilMcCGC7WArldF/j6Qz5hycDXF9jTjBfczs3DJHeNwdur7bbSG9HmHRbdaHfrX5hARkiFvDLcYFuiSUkO+Ml0iRltDA/bbfd+sDpCPg9HnqV/3X+AsP28V+9f4xXnmG1CJH18ALJGukgSUkxDA0QBqC0c9Ia22BiIZQsDNCBgsEjcYIY3YWQ8ncMA2q3oTDzDj0JeNUHZN1yF54CyojWYd9mQGpGRDzaZ4S0SPAjJAvxyH1RdlKthYvdFi1RiedC0RN+pcEvCpj48yMh4JhNYLrmyO6t6svaq3qzWUGpdw29//YvBoBT3cnZFruMxPUCEgy4+IZGYbm7waRKMFZqQ1SG6Q2SG2QGxrEjw2CMdQGqQ1SG6Q2yM8GeRu+AQ==\",\"2023-03-19T16:42:13.7948198Z\"]}]}', extra='')\n"
     ]
    },
    {
     "name": "stdout",
     "output_type": "stream",
     "text": [
      "CarData.z 7Za/CsIwEIff5eYq9ydp2qziG+iiOIgICtJB3Urf3fY6uIjUW+xwy6WEfHD55fhoC+vmeb+eH5D3LWyfJ8jAyLJAWVC9oTIHziRLTP0m7aCA1fHeH26BhrK6HJvmfNMNhIwFsFbRGrTG8XtYuk4PmLhg5Ah/B0lB6w3J3Go5CSQMiur6breyPog1IDaPgHUGWKyg4UnGOyYjKNZwgnV6YjS2WlpTTdPC+TyvlS2gHv3mKRZkTMFF5aJyUbmo5isqqZEqqV1ULioXlYtqvqKKEalE/6NyUbmoXFQzFlWVkEjYReWiclG5qP4qqkP3Ag==\n",
      "Position.z 7ZQ7a8NAEIT/y9ZSuH3cs0+dQFwkDilMcCGC7WArldF/j6Qz5hycDXF9jTjBfczs3DJHeNwdur7bbSG9HmHRbdaHfrX5hARkiFvDLcYFuiSUkO+Ml0iRltDA/bbfd+sDpCPg9HnqV/3X+AsP28V+9f4xXnmG1CJH18ALJGukgSUkxDA0QBqC0c9Ia22BiIZQsDNCBgsEjcYIY3YWQ8ncMA2q3oTDzDj0JeNUHZN1yF54CyojWYd9mQGpGRDzaZ4S0SPAjJAvxyH1RdlKthYvdFi1RiedC0RN+pcEvCpj48yMh4JhNYLrmyO6t6svaq3qzWUGpdw29//YvBoBT3cnZFruMxPUCEgy4+IZGYbm7waRKMFZqQ1SG6Q2SG2QGxrEjw2CMdQGqQ1SG6Q2yM8GeRu+AQ==\n"
     ]
    },
    {
     "name": "stderr",
     "output_type": "stream",
     "text": [
      "DEBUG:signalr_async.client:Raw message received: WSMessage(type=<WSMsgType.TEXT: 1>, data='{\"C\":\"d-F23263D5-B,0|Df,0|Dg,11|d,A4|p,987|o,986|a,1|Y,D|Dh,0|n,1|W,2|c,29|i,1|X,C|k,3|l,1|r,2|Z,1|s,59F\",\"M\":[{\"H\":\"Streaming\",\"M\":\"feed\",\"A\":[\"CarData.z\",\"7Za/CoMwEIff5WYtd5c/mqzSN2iXlg5ShBaKg3UT370ahy6l2FvqcMtFQj64/HJ8OMC+7bt784R4HuDYXyECI5scTU7hQD5ajmR3XCA6Y06QQVV30+kBaC7VrW7b5pE2ECJmwKmaVG2qbvmel3FMB0ScFXKEv4OUQOkNSdyqXwUS2oSm9d1uKX0QaUAsHgHpDLCRgoInWe5YCEEjDcdKp8c5YatemmqxLpzP81rKAprQb6KyBpGDV1GpqFRUKqrtisrrz5Q6Sh2ljtqwowKG4EpSUamoVFQqqr+K6jK+AA==\",\"2023-03-19T16:42:14.9099581Z\"]},{\"H\":\"Streaming\",\"M\":\"feed\",\"A\":[\"Position.z\",\"7ZQ9a8MwFEX/y5vtovehz71zC83QpnQIJYMpSUriTsH/vbYVgkLTV5pZi5FBh3d1Jc4RHneHru92W0ivR1h0m/WhX20+IQEZ4tZwi3GBLgkllDvD4gPzEhq43/b7bn2AdAScPk/9qv8af+Fhu9iv3j/GLc+QWuToGniBZI00sISEGIYGSEMw+hlprS0Q0RAKdkbIYIGg0RhhzMliKJkbToNqNuEwMw59yTh1jslzyF5kCyojeQ77sgNSOyDm03lKRK8AM0K+PA6pN8pWcrR4MYfVaHSac4GoTf/SgFfH2Dgz46JgWK3g+ssRPdvVG7VWzeYyg1K+Nvf/2rxaAU97J2R63GcmqBWQZMbFMzIMzd8G4SiegqsGqQapBqkGucEgLooLXA1SDVINUg1yi0HCaBBbDVINUg1SDfLTIG/DNw==\",\"2023-03-19T16:42:14.8946536Z\"]}]}', extra='')\n"
     ]
    },
    {
     "name": "stdout",
     "output_type": "stream",
     "text": [
      "CarData.z 7Za/CoMwEIff5WYtd5c/mqzSN2iXlg5ShBaKg3UT370ahy6l2FvqcMtFQj64/HJ8OMC+7bt784R4HuDYXyECI5scTU7hQD5ajmR3XCA6Y06QQVV30+kBaC7VrW7b5pE2ECJmwKmaVG2qbvmel3FMB0ScFXKEv4OUQOkNSdyqXwUS2oSm9d1uKX0QaUAsHgHpDLCRgoInWe5YCEEjDcdKp8c5YatemmqxLpzP81rKAprQb6KyBpGDV1GpqFRUKqrtisrrz5Q6Sh2ljtqwowKG4EpSUamoVFQqqr+K6jK+AA==\n",
      "Position.z 7ZQ9a8MwFEX/y5vtovehz71zC83QpnQIJYMpSUriTsH/vbYVgkLTV5pZi5FBh3d1Jc4RHneHru92W0ivR1h0m/WhX20+IQEZ4tZwi3GBLgkllDvD4gPzEhq43/b7bn2AdAScPk/9qv8af+Fhu9iv3j/GLc+QWuToGniBZI00sISEGIYGSEMw+hlprS0Q0RAKdkbIYIGg0RhhzMliKJkbToNqNuEwMw59yTh1jslzyF5kCyojeQ77sgNSOyDm03lKRK8AM0K+PA6pN8pWcrR4MYfVaHSac4GoTf/SgFfH2Dgz46JgWK3g+ssRPdvVG7VWzeYyg1K+Nvf/2rxaAU97J2R63GcmqBWQZMbFMzIMzd8G4SiegqsGqQapBqkGucEgLooLXA1SDVINUg1yi0HCaBBbDVINUg1SDfLTIG/DNw==\n"
     ]
    },
    {
     "name": "stderr",
     "output_type": "stream",
     "text": [
      "DEBUG:signalr_async.client:Raw message received: WSMessage(type=<WSMsgType.TEXT: 1>, data='{\"C\":\"d-F23263D5-B,0|Df,0|Dg,11|d,A4|p,988|o,987|a,1|Y,D|Dh,0|n,1|W,2|c,29|i,1|X,C|k,3|l,1|r,2|Z,1|s,59F\",\"M\":[{\"H\":\"Streaming\",\"M\":\"feed\",\"A\":[\"CarData.z\",\"7ZSxCsIwEIbf5eZWcpekbbIW30AXxaFIQUE61G6l7256HVxE6i12uOUSQj64/Dm+Efbd0N/bJ8TzCMfhChHIkM2NzTEcsIiOIvoduhCI8AQZ1E2fbo+Ac6lvTde1Dz4wEE0GxNVydVz9sp+XaeILIs4JOTS/g8ig9IUobrVYBaJxjPL6breSfog0IBKPgHQGyEpBwZcsbyyFoJWG46TT472w1UKaarkunM/zWskCSug3UVkXqkBeRaWiUlGpqLYrKp9EVVBQUamoVFQqqu2KKiRRGaueUk+pp9RTf/XUZXoB\",\"2023-03-19T16:42:15.949803Z\"]},{\"H\":\"Streaming\",\"M\":\"feed\",\"A\":[\"Position.z\",\"7ZY9a8MwEIb/y8120d3p9LV3bqEZ2pQOoWQwJUlJ3Cn4v9e2QlBKeqWZtRgb9HCvXokHH+Fxd+j6breF9HqERbdZH/rV5hMSkCFuDbcYF+iSpYRyZ8Q6irSEBu63/b5bHyAdAafHU7/qv8ZPeNgu9qv3j3HJM6QWOboGXiCJsQ0sISGGoQHSEIx+RlqRArEaQkFmhAwWCBqNsYw5WQwlc8NuUM1mOcyMQ18yTp1j8hySi2xBZWyew77sgNQOiPm0nxLRK8CMkC+3Q+qJstgcLV7MYTUaneZcIGrTvzTg1TESZ2Z8KRhWK7h+c6ye7eqJiqjZXGbQlrfN/b82r1bA09oJmS73mQlqBWQz4+IZGYbmb4MwWgnRV4NUg1SDVIPcYBDxVsTUf5BqkGqQapBbDOLZylh5NUg1SDVINchPg7wN3w==\",\"2023-03-19T16:42:15.7345259Z\"]}]}', extra='')\n",
      "DEBUG:signalr_async.client:Connection keepalive\n"
     ]
    },
    {
     "name": "stdout",
     "output_type": "stream",
     "text": [
      "CarData.z 7ZSxCsIwEIbf5eZWcpekbbIW30AXxaFIQUE61G6l7256HVxE6i12uOUSQj64/Dm+Efbd0N/bJ8TzCMfhChHIkM2NzTEcsIiOIvoduhCI8AQZ1E2fbo+Ac6lvTde1Dz4wEE0GxNVydVz9sp+XaeILIs4JOTS/g8ig9IUobrVYBaJxjPL6breSfog0IBKPgHQGyEpBwZcsbyyFoJWG46TT472w1UKaarkunM/zWskCSug3UVkXqkBeRaWiUlGpqLYrKp9EVVBQUamoVFQqqu2KKiRRGaueUk+pp9RTf/XUZXoB\n",
      "Position.z 7ZY9a8MwEIb/y8120d3p9LV3bqEZ2pQOoWQwJUlJ3Cn4v9e2QlBKeqWZtRgb9HCvXokHH+Fxd+j6breF9HqERbdZH/rV5hMSkCFuDbcYF+iSpYRyZ8Q6irSEBu63/b5bHyAdAafHU7/qv8ZPeNgu9qv3j3HJM6QWOboGXiCJsQ0sISGGoQHSEIx+RlqRArEaQkFmhAwWCBqNsYw5WQwlc8NuUM1mOcyMQ18yTp1j8hySi2xBZWyew77sgNQOiPm0nxLRK8CMkC+3Q+qJstgcLV7MYTUaneZcIGrTvzTg1TESZ2Z8KRhWK7h+c6ye7eqJiqjZXGbQlrfN/b82r1bA09oJmS73mQlqBWQz4+IZGYbmb4MwWgnRV4NUg1SDVIPcYBDxVsTUf5BqkGqQapBbDOLZylh5NUg1SDVINchPg7wN3w==\n"
     ]
    },
    {
     "name": "stderr",
     "output_type": "stream",
     "text": [
      "DEBUG:signalr_async.client:Sending: message_content='{}', is_binary=False\n",
      "DEBUG:signalr_async.client:Raw message received: WSMessage(type=<WSMsgType.TEXT: 1>, data='{\"C\":\"d-F23263D5-B,0|Df,0|Dg,11|d,A4|p,989|o,988|a,1|Y,D|Dh,0|n,1|W,2|c,29|i,1|X,C|k,3|l,1|r,2|Z,1|s,59F\",\"M\":[{\"H\":\"Streaming\",\"M\":\"feed\",\"A\":[\"CarData.z\",\"7ZS/CsIwEIff5eZWcsnlT7MW30AXxaFIQUE61G6l726aDi4i9RY73HIJIR9cfjm+Efbd0N/bJ8TzCMfhChG00qZUpsTqgC6Sjuh22lXeWnOCAuqmT7dHwLnUt6br2kc+UBBVATpXkyvlapf9vExTvsDiiMmh+h3EDHJfiOxW3SoQFWU0r+92A/dDuAFp9ghwZ0AbLsj4kuWNngkabjjEnR5rma06bqp+XTif5zXwAkroN1FREpW2XkQlohJRiai2KyofKucDiahEVCIqEdV2RVUlUVEQT4mnxFPiqb966jK9AA==\",\"2023-03-19T16:42:16.989648Z\"]},{\"H\":\"Streaming\",\"M\":\"feed\",\"A\":[\"Position.z\",\"7ZQ9a8MwFEX/y5vtovehz71zC83QpnQIJYMpcUriTsH/vbEVglLSV5pZi5FBh3d1Jc4BHrf7bui2PaTXAyy6zXo/rDafkIAMcWu4xbhAl4QSuju0Io6W0MB9P+y69R7SAXD6PA2r4ev4Cw/9Yrd6/zhueYbUIkfXwAska6SBJSTEMDZAGoLRz0hrbYGIhlCwM0IGCwSNxghjThZDydxwGlSzCYeZcehLxqlzTJ5D9iJbUBnJc9iXHZDaATGfzlMiegWYEfLlcUi9UbaSo8WLOaxGo9OcC0Rt+pcGvDrGxpk5LgqG1QquvxzRs129UWvVbC4zKOVrc/+vzasV8LR3QqbHfWaCWgFJZlw8I+PY/C0Q64VjqAapBqkGqQa5xSCehT3HapBqkGqQapAbDBKtsBipBqkGqQapBvlpkLfxGw==\",\"2023-03-19T16:42:16.9543404Z\"]}]}', extra='')\n"
     ]
    },
    {
     "name": "stdout",
     "output_type": "stream",
     "text": [
      "CarData.z 7ZS/CsIwEIff5eZWcsnlT7MW30AXxaFIQUE61G6l726aDi4i9RY73HIJIR9cfjm+Efbd0N/bJ8TzCMfhChG00qZUpsTqgC6Sjuh22lXeWnOCAuqmT7dHwLnUt6br2kc+UBBVATpXkyvlapf9vExTvsDiiMmh+h3EDHJfiOxW3SoQFWU0r+92A/dDuAFp9ghwZ0AbLsj4kuWNngkabjjEnR5rma06bqp+XTif5zXwAkroN1FREpW2XkQlohJRiai2KyofKucDiahEVCIqEdV2RVUlUVEQT4mnxFPiqb966jK9AA==\n",
      "Position.z 7ZQ9a8MwFEX/y5vtovehz71zC83QpnQIJYMpcUriTsH/vbEVglLSV5pZi5FBh3d1Jc4BHrf7bui2PaTXAyy6zXo/rDafkIAMcWu4xbhAl4QSuju0Io6W0MB9P+y69R7SAXD6PA2r4ev4Cw/9Yrd6/zhueYbUIkfXwAska6SBJSTEMDZAGoLRz0hrbYGIhlCwM0IGCwSNxghjThZDydxwGlSzCYeZcehLxqlzTJ5D9iJbUBnJc9iXHZDaATGfzlMiegWYEfLlcUi9UbaSo8WLOaxGo9OcC0Rt+pcGvDrGxpk5LgqG1QquvxzRs129UWvVbC4zKOVrc/+vzasV8LR3QqbHfWaCWgFJZlw8I+PY/C0Q64VjqAapBqkGqQa5xSCehT3HapBqkGqQapAbDBKtsBipBqkGqQapBvlpkLfxGw==\n"
     ]
    },
    {
     "name": "stderr",
     "output_type": "stream",
     "text": [
      "DEBUG:signalr_async.client:Raw message received: WSMessage(type=<WSMsgType.TEXT: 1>, data='{\"C\":\"d-F23263D5-B,0|Df,0|Dg,11|d,A4|p,98A|o,989|a,1|Y,D|Dh,0|n,1|W,2|c,29|i,1|X,C|k,3|l,1|r,2|Z,1|s,59F\",\"M\":[{\"H\":\"Streaming\",\"M\":\"feed\",\"A\":[\"CarData.z\",\"7ZS/CsIwEIff5ea25C7/sxbfQBfFoUhBQTrUbqXvbnsdXETqLTpkuYSQDy6/HN8Iu27ob+0D0mmEw3CBBKRIl0qXGPfokqGEvjIUbSB3hALqpp9vj4BLqa9N17V3PlCQVAHEVXM1XO26X5Zp4gsizgg5VN+DyKD0hShu1W0CURlGeX21G6QfIg2IxCMgnQHSUlDwJesbvRDU0nCMdHqsFbbqpKn6beG8n9cgC2hGP4kquGjRUxZVFlUWVRbVv4oqVMpFE3z2VPZU9lT21E89dZ6e\",\"2023-03-19T16:42:18.069487Z\"]},{\"H\":\"Streaming\",\"M\":\"feed\",\"A\":[\"Position.z\",\"7ZQ9a8MwFEX/y5vtovehz71zC83QpnQIJYMpSUriTsH/vbYVglLSV5pZi5FBh3d1Jc4RHneHru92W0ivR1h0m/WhX20+IQEZ4tZwi3GBLgkl9HcYhY0soYH7bb/v1gdIR8Dp89Sv+q/xFx62i/3q/WPc8gypRY6ugRdI1kgDS0iIYWiANASjn5HW2gIRDaFgZ4QMFggajRHGnCyGkrnhNKhmEw4z49CXjFPnmDyH7EW2oDKS57AvOyC1A2I+nadE9AowI+TL45B6o2wlR4sXc1iNRqc5F4ja9C8NeHWMjTMzLgqG1QquvxzRs129UWvVbC4zKOVrc/+vzasV8LR3QqbHfWaCWgFJZlw8I8PQ/C0Q64XEUTVINUg1SDXIDQbxo0HQhmqQapBqkGqQGwwSWTCirQapBqkGqQb5aZC34Rs=\",\"2023-03-19T16:42:17.9341915Z\"]}]}', extra='')\n"
     ]
    },
    {
     "name": "stdout",
     "output_type": "stream",
     "text": [
      "CarData.z 7ZS/CsIwEIff5ea25C7/sxbfQBfFoUhBQTrUbqXvbnsdXETqLTpkuYSQDy6/HN8Iu27ob+0D0mmEw3CBBKRIl0qXGPfokqGEvjIUbSB3hALqpp9vj4BLqa9N17V3PlCQVAHEVXM1XO26X5Zp4gsizgg5VN+DyKD0hShu1W0CURlGeX21G6QfIg2IxCMgnQHSUlDwJesbvRDU0nCMdHqsFbbqpKn6beG8n9cgC2hGP4kquGjRUxZVFlUWVRbVv4oqVMpFE3z2VPZU9lT21E89dZ6e\n",
      "Position.z 7ZQ9a8MwFEX/y5vtovehz71zC83QpnQIJYMpSUriTsH/vbYVglLSV5pZi5FBh3d1Jc4RHneHru92W0ivR1h0m/WhX20+IQEZ4tZwi3GBLgkl9HcYhY0soYH7bb/v1gdIR8Dp89Sv+q/xFx62i/3q/WPc8gypRY6ugRdI1kgDS0iIYWiANASjn5HW2gIRDaFgZ4QMFggajRHGnCyGkrnhNKhmEw4z49CXjFPnmDyH7EW2oDKS57AvOyC1A2I+nadE9AowI+TL45B6o2wlR4sXc1iNRqc5F4ja9C8NeHWMjTMzLgqG1QquvxzRs129UWvVbC4zKOVrc/+vzasV8LR3QqbHfWaCWgFJZlw8I8PQ/C0Q64XEUTVINUg1SDXIDQbxo0HQhmqQapBqkGqQGwwSWTCirQapBqkGqQb5aZC34Rs=\n"
     ]
    },
    {
     "name": "stderr",
     "output_type": "stream",
     "text": [
      "DEBUG:signalr_async.client:Raw message received: WSMessage(type=<WSMsgType.TEXT: 1>, data='{\"C\":\"d-F23263D5-B,0|Df,0|Dg,11|d,A5|p,98A|o,989|a,1|Y,D|Dh,0|n,1|W,2|c,29|i,1|X,C|k,3|l,1|r,2|Z,1|s,59F\",\"M\":[{\"H\":\"Streaming\",\"M\":\"feed\",\"A\":[\"Heartbeat\",{\"Utc\":\"2023-03-19T16:42:20.9377053Z\",\"_kf\":true},\"2023-03-19T16:42:20.6Z\"]}]}', extra='')\n"
     ]
    },
    {
     "name": "stdout",
     "output_type": "stream",
     "text": [
      "Heartbeat {'Utc': '2023-03-19T16:42:20.9377053Z', '_kf': True}\n"
     ]
    },
    {
     "name": "stderr",
     "output_type": "stream",
     "text": [
      "DEBUG:signalr_async.client:Raw message received: WSMessage(type=<WSMsgType.TEXT: 1>, data='{\"C\":\"d-F23263D5-B,0|Df,0|Dg,11|d,A5|p,98B|o,98A|a,1|Y,D|Dh,0|n,1|W,2|c,29|i,1|X,C|k,3|l,1|r,2|Z,1|s,59F\",\"M\":[{\"H\":\"Streaming\",\"M\":\"feed\",\"A\":[\"CarData.z\",\"7ZSxCsIwEIbf5eZW7pJr0mYtvoEuikORgoJ00G6l7257HVxE6i063HIJIR9c/hzfANuuv1/bB6TjAPv+DAkcOp+jz6naUUjsElUb9OiZ4wEyqJv7dHsAmkt9abquvckBQsIMnFQvlaUWy35exlEuqDhWcoTfgySg9oWkbjWsAglZUFlf7ZbaD9EG5NQjoJ0B57Wg4kuWN0Yl6LXhsHZ6ikLZatCmGteF835eS11AE/pJVBzRxSqYqExUJioT1f+KKkyiKkxTpinTlGnqp5o6jU8=\",\"2023-03-19T16:42:19.67025Z\"]},{\"H\":\"Streaming\",\"M\":\"feed\",\"A\":[\"Position.z\",\"7Za7asNAEEX/ZWrZaB777FMnEBeJQwoTXIhgO9hKZfTv0cOYdXAm2PU0QoI9zN27y0FHeNodmrbZbSG/HWHRbNaHdrX5ggxUE89qnmFaoM9CGeMcg0MncQkVPGzbfbM+QD4CDo/ndtV+95/wuF3sVx+f/ZIXyDPk5Ct4hexqqWAJGTF2FZCGYAojMnOuQERDKLoRoRoLBGuNEcYpWYolc8duUM0mHEfGYygZr86ppznkLrJFlZFpDoeyA1I7IObTfkpErwAnhEK5HVJPlJ1M0dLFHFaj0WnOBaI2/UcDQR3j0sj0LwXDagXXb47o2a6eqHNqNj8xKOVt87fXFtQKeFg7IMPlPjNRrYBkYnw6I11X/W+QFFzNTGYQM4gZxAxys0HSnIKkGLwZxAxiBjGD3GEQ6Q3igv2DmEHMIGaQewwSk8TEYgYxg5hBzCC/DfLe/QA=\",\"2023-03-19T16:42:19.8948934Z\"]}]}', extra='')\n"
     ]
    },
    {
     "name": "stdout",
     "output_type": "stream",
     "text": [
      "CarData.z 7ZSxCsIwEIbf5eZW7pJr0mYtvoEuikORgoJ00G6l7257HVxE6i063HIJIR9c/hzfANuuv1/bB6TjAPv+DAkcOp+jz6naUUjsElUb9OiZ4wEyqJv7dHsAmkt9abquvckBQsIMnFQvlaUWy35exlEuqDhWcoTfgySg9oWkbjWsAglZUFlf7ZbaD9EG5NQjoJ0B57Wg4kuWN0Yl6LXhsHZ6ikLZatCmGteF835eS11AE/pJVBzRxSqYqExUJioT1f+KKkyiKkxTpinTlGnqp5o6jU8=\n",
      "Position.z 7Za7asNAEEX/ZWrZaB777FMnEBeJQwoTXIhgO9hKZfTv0cOYdXAm2PU0QoI9zN27y0FHeNodmrbZbSG/HWHRbNaHdrX5ggxUE89qnmFaoM9CGeMcg0MncQkVPGzbfbM+QD4CDo/ndtV+95/wuF3sVx+f/ZIXyDPk5Ct4hexqqWAJGTF2FZCGYAojMnOuQERDKLoRoRoLBGuNEcYpWYolc8duUM0mHEfGYygZr86ppznkLrJFlZFpDoeyA1I7IObTfkpErwAnhEK5HVJPlJ1M0dLFHFaj0WnOBaI2/UcDQR3j0sj0LwXDagXXb47o2a6eqHNqNj8xKOVt87fXFtQKeFg7IMPlPjNRrYBkYnw6I11X/W+QFFzNTGYQM4gZxAxys0HSnIKkGLwZxAxiBjGD3GEQ6Q3igv2DmEHMIGaQewwSk8TEYgYxg5hBzCC/DfLe/QA=\n"
     ]
    },
    {
     "name": "stderr",
     "output_type": "stream",
     "text": [
      "DEBUG:signalr_async.client:Raw message received: WSMessage(type=<WSMsgType.TEXT: 1>, data='{\"C\":\"d-F23263D5-B,0|Df,0|Dg,11|d,A5|p,98C|o,98B|a,1|Y,D|Dh,0|n,1|W,2|c,29|i,1|X,C|k,3|l,1|r,2|Z,1|s,59F\",\"M\":[{\"H\":\"Streaming\",\"M\":\"feed\",\"A\":[\"CarData.z\",\"7Zi/CsJADMbfJXMrSe5fe2vxDXRRHIoUFKRD7Vb67rbXwUWkZrFDltxx5IPcl/DjuAH2bd/dmyfE8wDH/goRGNnkaHIqD+Sj5ci4Q4NUunCCDKq6m7IHoDlUt7ptm0c6QIiYAadoUrQpumU/L+OYEkQ6K9QR/i6kJJTekMSl+lVCQpukaX2XW0gbIjWIxSMgnQE2UqGgJcsdg1BopOZY6fQ4JyzVS10N68z5PK+FzKBJ+g1UPIHKe1JQKagUVAqq7YLKOSQq9EWloFJQKag2DKpQIhaGFVQKKgWVgmqroKL5jwqt1xeVgkpBpaD6L6gu4ws=\",\"2023-03-19T16:42:21.0300467Z\"]},{\"H\":\"Streaming\",\"M\":\"feed\",\"A\":[\"Position.z\",\"7ZQ9a8MwFEX/y5vtoPehz71zC83QpnQIJYMpSUriTsH/vbEVglLSV5JZi5FBh3d1Jc4Bnrb7ru+2G0hvB5h369W+X66/IAEZ4tZwi3GOLgklMjPjJTi3gAYeNv2uW+0hHQDHz3O/7L+Pv/C4me+WH5/HLS+QWuToGniFZI00sICEGIYGSEMw+glprS0Q0RAKdkLIYIGg0RhhzMliKJk7ToNqNuEwMQ59yTh1jslzyF5kCyojeQ77sgNSOyDm03lKRK8AM0K+PA6pN8pWcrR4MYfVaHSac4GoTf/RgFfH2Dgxx0XBsFrB9ZcjerarN2qtms1lBqV8be722rxaAY97R2R83GcmqBWQZMbFMzIMzf8CESvBBK4GqQapBqkGucMgLor3GKpBqkGqQapBbjYIzgyKJ6ZqkGqQapBqkN8GeR9+AA==\",\"2023-03-19T16:42:21.0147232Z\"]}]}', extra='')\n",
      "DEBUG:signalr_async.client:Connection keepalive\n",
      "DEBUG:signalr_async.client:Sending: message_content='{}', is_binary=False\n"
     ]
    },
    {
     "name": "stdout",
     "output_type": "stream",
     "text": [
      "CarData.z 7Zi/CsJADMbfJXMrSe5fe2vxDXRRHIoUFKRD7Vb67rbXwUWkZrFDltxx5IPcl/DjuAH2bd/dmyfE8wDH/goRGNnkaHIqD+Sj5ci4Q4NUunCCDKq6m7IHoDlUt7ptm0c6QIiYAadoUrQpumU/L+OYEkQ6K9QR/i6kJJTekMSl+lVCQpukaX2XW0gbIjWIxSMgnQE2UqGgJcsdg1BopOZY6fQ4JyzVS10N68z5PK+FzKBJ+g1UPIHKe1JQKagUVAqq7YLKOSQq9EWloFJQKag2DKpQIhaGFVQKKgWVgmqroKL5jwqt1xeVgkpBpaD6L6gu4ws=\n",
      "Position.z 7ZQ9a8MwFEX/y5vtoPehz71zC83QpnQIJYMpSUriTsH/vbEVglLSV5JZi5FBh3d1Jc4Bnrb7ru+2G0hvB5h369W+X66/IAEZ4tZwi3GOLgklMjPjJTi3gAYeNv2uW+0hHQDHz3O/7L+Pv/C4me+WH5/HLS+QWuToGniFZI00sICEGIYGSEMw+glprS0Q0RAKdkLIYIGg0RhhzMliKJk7ToNqNuEwMQ59yTh1jslzyF5kCyojeQ77sgNSOyDm03lKRK8AM0K+PA6pN8pWcrR4MYfVaHSac4GoTf/RgFfH2Dgxx0XBsFrB9ZcjerarN2qtms1lBqV8be722rxaAY97R2R83GcmqBWQZMbFMzIMzf8CESvBBK4GqQapBqkGucMgLor3GKpBqkGqQapBbjYIzgyKJ6ZqkGqQapBqkN8GeR9+AA==\n"
     ]
    },
    {
     "name": "stderr",
     "output_type": "stream",
     "text": [
      "DEBUG:signalr_async.client:Raw message received: WSMessage(type=<WSMsgType.TEXT: 1>, data='{\"C\":\"d-F23263D5-B,0|Df,0|Dg,11|d,A5|p,98D|o,98C|a,1|Y,D|Dh,0|n,1|W,2|c,29|i,1|X,C|k,3|l,1|r,2|Z,1|s,59F\",\"M\":[{\"H\":\"Streaming\",\"M\":\"feed\",\"A\":[\"CarData.z\",\"7ZS/CsIwEIff5eZW7i5/2mYtvoEuikORgoJ0qN1K3900HVxE6i12uOUSQj64/HJ8I+y7ob+3TwjnEY7DFQIwssnR5FQdyAfLgWlnCBGdOUEGddPH2yPQXOpb03XtIx0gBMyAUzWp2lTdsp+XaUoXRJwVcoS/g5RA6QtJ3KpfBRLahKb13W4p/RBpQCweAekMsJGCgi9Z3lgIQSMNx0qnxzlhq16aarEunM/zWsoCiug3UVlfVSV5FZWKSkWlotquqHwUlWP1lHpKPaWe2q6nyugpZlJRqahUVCqqv4rqMr0A\",\"2023-03-19T16:42:21.8699221Z\"]},{\"H\":\"Streaming\",\"M\":\"feed\",\"A\":[\"Position.z\",\"7ZRNS8NAFEX/y1snkvcxn3vXCmahFRdFugjSVtq4CvnvJplSplKf2PUsEhKYw7tzZzgDPO6PXd/tdxBfB2i77ebYr7efEIEa4rrhGkOLNgpFwjtGsc7ZFVRwv+sP3eYIcQCcX0/9uv+afuFh1x7W7x/TkmeINXKwFbxANI1UsIKI6McKSEMwuAWpjckQ0RDyZkGowQzBRmOEMSULPmdu2A2q2YT9wlh0OWPVOU2aQ+Yim1cZSXPY5R2Q2gExn/aTI3oFmBBy+XZIPVE2kqKFizmsRqPTnAtEbfqXBpw6xoSFmT4yhtUKrt8c0bNdPVFj1Gw2MSj5bbP/r82pFfC8dkbmy31mvFoBSWJsOCPjWP1tEHFiDVMxSDFIMUgxyA0GsSyWfCgGKQYpBikGucEgPoiZnmKQYpBikGKQnwZ5G78B\",\"2023-03-19T16:42:21.8945894Z\"]}]}', extra='')\n"
     ]
    },
    {
     "name": "stdout",
     "output_type": "stream",
     "text": [
      "CarData.z 7ZS/CsIwEIff5eZW7i5/2mYtvoEuikORgoJ0qN1K3900HVxE6i12uOUSQj64/HJ8I+y7ob+3TwjnEY7DFQIwssnR5FQdyAfLgWlnCBGdOUEGddPH2yPQXOpb03XtIx0gBMyAUzWp2lTdsp+XaUoXRJwVcoS/g5RA6QtJ3KpfBRLahKb13W4p/RBpQCweAekMsJGCgi9Z3lgIQSMNx0qnxzlhq16aarEunM/zWsoCiug3UVlfVSV5FZWKSkWlotquqHwUlWP1lHpKPaWe2q6nyugpZlJRqahUVCqqv4rqMr0A\n",
      "Position.z 7ZRNS8NAFEX/y1snkvcxn3vXCmahFRdFugjSVtq4CvnvJplSplKf2PUsEhKYw7tzZzgDPO6PXd/tdxBfB2i77ebYr7efEIEa4rrhGkOLNgpFwjtGsc7ZFVRwv+sP3eYIcQCcX0/9uv+afuFh1x7W7x/TkmeINXKwFbxANI1UsIKI6McKSEMwuAWpjckQ0RDyZkGowQzBRmOEMSULPmdu2A2q2YT9wlh0OWPVOU2aQ+Yim1cZSXPY5R2Q2gExn/aTI3oFmBBy+XZIPVE2kqKFizmsRqPTnAtEbfqXBpw6xoSFmT4yhtUKrt8c0bNdPVFj1Gw2MSj5bbP/r82pFfC8dkbmy31mvFoBSWJsOCPjWP1tEHFiDVMxSDFIMUgxyA0GsSyWfCgGKQYpBikGucEgPoiZnmKQYpBikGKQnwZ5G78B\n"
     ]
    },
    {
     "name": "stderr",
     "output_type": "stream",
     "text": [
      "DEBUG:signalr_async.client:Raw message received: WSMessage(type=<WSMsgType.TEXT: 1>, data='{}', extra='')\n",
      "DEBUG:signalr_async.client:Raw message received: WSMessage(type=<WSMsgType.TEXT: 1>, data='{\"C\":\"d-F23263D5-B,0|Df,0|Dg,11|d,A5|p,98E|o,98D|a,1|Y,D|Dh,0|n,1|W,2|c,29|i,1|X,C|k,3|l,1|r,2|Z,1|s,59F\",\"M\":[{\"H\":\"Streaming\",\"M\":\"feed\",\"A\":[\"CarData.z\",\"7ZS/CsIwEIff5eZWcpf/WYtvoIviUKSgIB1qt9J3t00HF5F6ix1uuYSQDy6/HN8A+7bv7s0T0nmAY3+FBKRIl0qXGA/okqFEtEMVQ7DxBAVUdTfdHgDnUt3qtm0e+UBBUgVQrjpXk6td9vMyjvkCizNMDtXvIGaQ+0Jkt+pWgahMRvP6bjdwP4QbELFHgDsDpLkg40uWN3omqLnhGO70WMts1XFT9evC+TyvgRfQhH4TlXExaC2eEk+Jp8RT2/WUN9FHDCIqEZWISkS1XVHFEL21IioRlYhKRPVfUV3GFw==\",\"2023-03-19T16:42:22.9897558Z\"]},{\"H\":\"Streaming\",\"M\":\"feed\",\"A\":[\"Position.z\",\"7ZRNS8NAFEX/y1snkvcxn3vXCnahFRdBugjSVtq4KvnvJplSJlKf2PVsQgJzeHfuTM4JHvfHru/2O4ivJ1h1282xb7efEIEa4rrhGsMKbRSKRHcYxAj7NVRwv+sP3eYI8QQ4PZ76tv8aP+Fhtzq07x/jkmeINXKwFbxANI1UsIaI6IcKSEMwuBmpjckQ0RDyZkaowQzBRmOEMSULPmdu2A2q2cbCZsaiyxmrzmnSHDKLbF5lJM1hl3dAagfEfN5PjugVYELI5dsh9UTZSIoWFnNYjUbnOQtEbfqXBpw6xoSZGV8yhtUKrt8c0bNdPVFj1Gw2MSj5bbP/r82pFfC0dkKmy31hvFoBSWJsuCDDUP1tkNEf47/DxSDFIMUgxSA3GMQaEcehGKQYpBikGOQGg/ggwk6KQYpBikGKQX4a5G34Bg==\",\"2023-03-19T16:42:22.8944374Z\"]}]}', extra='')\n"
     ]
    },
    {
     "name": "stdout",
     "output_type": "stream",
     "text": [
      "CarData.z 7ZS/CsIwEIff5eZWcpf/WYtvoIviUKSgIB1qt9J3t00HF5F6ix1uuYSQDy6/HN8A+7bv7s0T0nmAY3+FBKRIl0qXGA/okqFEtEMVQ7DxBAVUdTfdHgDnUt3qtm0e+UBBUgVQrjpXk6td9vMyjvkCizNMDtXvIGaQ+0Jkt+pWgahMRvP6bjdwP4QbELFHgDsDpLkg40uWN3omqLnhGO70WMts1XFT9evC+TyvgRfQhH4TlXExaC2eEk+Jp8RT2/WUN9FHDCIqEZWISkS1XVHFEL21IioRlYhKRPVfUV3GFw==\n",
      "Position.z 7ZRNS8NAFEX/y1snkvcxn3vXCnahFRdBugjSVtq4KvnvJplSJlKf2PVsQgJzeHfuTM4JHvfHru/2O4ivJ1h1282xb7efEIEa4rrhGsMKbRSKRHcYxAj7NVRwv+sP3eYI8QQ4PZ76tv8aP+Fhtzq07x/jkmeINXKwFbxANI1UsIaI6IcKSEMwuBmpjckQ0RDyZkaowQzBRmOEMSULPmdu2A2q2cbCZsaiyxmrzmnSHDKLbF5lJM1hl3dAagfEfN5PjugVYELI5dsh9UTZSIoWFnNYjUbnOQtEbfqXBpw6xoSZGV8yhtUKrt8c0bNdPVFj1Gw2MSj5bbP/r82pFfC0dkKmy31hvFoBSWJsuCDDUP1tkNEf47/DxSDFIMUgxSA3GMQaEcehGKQYpBikGOQGg/ggwk6KQYpBikGKQX4a5G34Bg==\n"
     ]
    },
    {
     "name": "stderr",
     "output_type": "stream",
     "text": [
      "DEBUG:signalr_async.client:Raw message received: WSMessage(type=<WSMsgType.TEXT: 1>, data='{\"C\":\"d-F23263D5-B,0|Df,0|Dg,11|d,A5|p,98F|o,98E|a,1|Y,D|Dh,0|n,1|W,2|c,29|i,1|X,C|k,3|l,1|r,2|Z,1|s,59F\",\"M\":[{\"H\":\"Streaming\",\"M\":\"feed\",\"A\":[\"CarData.z\",\"7ZS/CsIwEIff5ea2XC7/sxbfQBfFoUhBQTpot9J3t00HF5F6ix1uuYSQDy6/HN8Au65/3NonpNMAh/4CCQhJl6hLFffKJUOJdEUUPaE6QgF185huD6DmUl+brmvv+QAhYQGUq87V5GqX/byMY77A4gyTU/g7qDLIfaFit+pWgQpNRvP6bjdwP4QbELFHgDsDpLkg40uWN3omqLnhGO70WMts1XFT9evC+TyvgRfQhH4TlaHoIloRlYhKRCWi2q6ofIhOexJRiahEVCKqrYrKVOiijSaIqERUIioR1V9FdR5f\",\"2023-03-19T16:42:24.0695948Z\"]},{\"H\":\"Streaming\",\"M\":\"feed\",\"A\":[\"Position.z\",\"7ZS9asMwFEbf5c520f2RZGnv3EI9tCkdQslgSpKSuJPxu9e2QlBKekszC4yxQYf76ZM4Azzuj13f7XcQXwdou+3m2K+3nxCBDHFtuMbQootCkfjOBBHjV1DB/a4/dJsjxAFwfj316/5r+oWHXXtYv39MS54h1sjBVfAC0RqpYAURsRkrIA3B4BektjZDREOosQtCBjMEjcYIY0oWmpy5YTeoZhNuFsahzxmnzjFpDtmLbI3KSJrDPu+A1A6I+bSfHNErwISQz7dD6omylRQtXMxhNRqd5lwgatO/NODVMTYszPSRMaxWcP3miJ7t6olaq2ZziUHJb5v7f21erYDntTMyX+4z06gVkCTGhTMyjtXfAqEg7J0rBikGKQYpBrnBII6FydpikGKQYpBikBsMErzQ9BSDFIMUgxSD/DTI2/gN\",\"2023-03-19T16:42:23.9742742Z\"]}]}', extra='')\n"
     ]
    },
    {
     "name": "stdout",
     "output_type": "stream",
     "text": [
      "CarData.z 7ZS/CsIwEIff5ea2XC7/sxbfQBfFoUhBQTpot9J3t00HF5F6ix1uuYSQDy6/HN8Au65/3NonpNMAh/4CCQhJl6hLFffKJUOJdEUUPaE6QgF185huD6DmUl+brmvv+QAhYQGUq87V5GqX/byMY77A4gyTU/g7qDLIfaFit+pWgQpNRvP6bjdwP4QbELFHgDsDpLkg40uWN3omqLnhGO70WMts1XFT9evC+TyvgRfQhH4TlaHoIloRlYhKRCWi2q6ofIhOexJRiahEVCKqrYrKVOiijSaIqERUIioR1V9FdR5f\n",
      "Position.z 7ZS9asMwFEbf5c520f2RZGnv3EI9tCkdQslgSpKSuJPxu9e2QlBKekszC4yxQYf76ZM4Azzuj13f7XcQXwdou+3m2K+3nxCBDHFtuMbQootCkfjOBBHjV1DB/a4/dJsjxAFwfj316/5r+oWHXXtYv39MS54h1sjBVfAC0RqpYAURsRkrIA3B4BektjZDREOosQtCBjMEjcYIY0oWmpy5YTeoZhNuFsahzxmnzjFpDtmLbI3KSJrDPu+A1A6I+bSfHNErwISQz7dD6omylRQtXMxhNRqd5lwgatO/NODVMTYszPSRMaxWcP3miJ7t6olaq2ZziUHJb5v7f21erYDntTMyX+4z06gVkCTGhTMyjtXfAqEg7J0rBikGKQYpBrnBII6FydpikGKQYpBikBsMErzQ9BSDFIMUgxSD/DTI2/gN\n"
     ]
    },
    {
     "name": "stderr",
     "output_type": "stream",
     "text": [
      "DEBUG:signalr_async.client:Raw message received: WSMessage(type=<WSMsgType.TEXT: 1>, data='{\"C\":\"d-F23263D5-B,0|Df,0|Dg,11|d,A5|p,990|o,98F|a,1|Y,D|Dh,0|n,1|W,2|c,29|i,1|X,C|k,3|l,1|r,2|Z,1|s,59F\",\"M\":[{\"H\":\"Streaming\",\"M\":\"feed\",\"A\":[\"CarData.z\",\"7ZaxCsIwEIbf5ea2XC6XpMkqvoEuikORgoJ0ULfSd7dNBxeReosdbrmUkA8uf46P9rDtnvdr+4B07GH/PEMCQrIl2tLEnfGJKRFXDqOjGA5QwKa5j6d7MFPZXJqua295AyFhAZSrzZVzdfP3tAxDPiDiWMgZ/B00GZTe0Ihb9YtAg5zRvL7braUPIg2IxCMgnQGyUlDwJPMdgxC00nBYOj3OCVv10lTDsnA+z2stC2hEv4nK++jQq6fUU+op9dR6PVX7yMEbFZWKSkWlolqrqFyFAZmd/lGpqFRUKqr/iuo0vAA=\",\"2023-03-19T16:42:25.0704456Z\"]},{\"H\":\"Streaming\",\"M\":\"feed\",\"A\":[\"Position.z\",\"7ZQ9a8MwFEX/y5vtovehz71zC83QpnQIJYMpSUriTsH/vbYVglLSV5pZi5FBh3d1Jc4RHneHru92W0ivR1h0m/WhX20+IQEZ4tZwi3GBLgklkjtCIfZhCQ3cb/t9tz5AOgJOn6d+1X+Nv/CwXexX7x/jlmdILXJ0DbxAskYaWEJCDEMDpCEY/Yy01haIaAgFOyNksEDQaIww5mQxlMwNp0E1m3CYGYe+ZJw6x+Q5ZC+yBZWRPId92QGpHRDz6TwloleAGSFfHofUG2UrOVq8mMNqNDrNuUDUpn9pwKtjbJyZcVEwrFZw/eWInu3qjVqrZnOZQSlfm/t/bV6tgKe9EzI97jMT1ApIMuPiGRmG5m+DcBRCI9Ug1SDVINUgNxjERYtOfDVINUg1SDXIDQaJ1o5NYzVINUg1SDXIT4O8Dd8=\",\"2023-03-19T16:42:24.9551251Z\"]}]}', extra='')\n"
     ]
    },
    {
     "name": "stdout",
     "output_type": "stream",
     "text": [
      "CarData.z 7ZaxCsIwEIbf5ea2XC6XpMkqvoEuikORgoJ0ULfSd7dNBxeReosdbrmUkA8uf46P9rDtnvdr+4B07GH/PEMCQrIl2tLEnfGJKRFXDqOjGA5QwKa5j6d7MFPZXJqua295AyFhAZSrzZVzdfP3tAxDPiDiWMgZ/B00GZTe0Ihb9YtAg5zRvL7braUPIg2IxCMgnQGyUlDwJPMdgxC00nBYOj3OCVv10lTDsnA+z2stC2hEv4nK++jQq6fUU+op9dR6PVX7yMEbFZWKSkWlolqrqFyFAZmd/lGpqFRUKqr/iuo0vAA=\n",
      "Position.z 7ZQ9a8MwFEX/y5vtovehz71zC83QpnQIJYMpSUriTsH/vbYVglLSV5pZi5FBh3d1Jc4RHneHru92W0ivR1h0m/WhX20+IQEZ4tZwi3GBLgklkjtCIfZhCQ3cb/t9tz5AOgJOn6d+1X+Nv/CwXexX7x/jlmdILXJ0DbxAskYaWEJCDEMDpCEY/Yy01haIaAgFOyNksEDQaIww5mQxlMwNp0E1m3CYGYe+ZJw6x+Q5ZC+yBZWRPId92QGpHRDz6TwloleAGSFfHofUG2UrOVq8mMNqNDrNuUDUpn9pwKtjbJyZcVEwrFZw/eWInu3qjVqrZnOZQSlfm/t/bV6tgKe9EzI97jMT1ApIMuPiGRmG5m+DcBRCI9Ug1SDVINUgNxjERYtOfDVINUg1SDXIDQaJ1o5NYzVINUg1SDXIT4O8Dd8=\n"
     ]
    },
    {
     "name": "stderr",
     "output_type": "stream",
     "text": [
      "DEBUG:signalr_async.client:Raw message received: WSMessage(type=<WSMsgType.TEXT: 1>, data='{\"C\":\"d-F23263D5-B,0|Df,0|Dg,11|d,A5|p,990|o,990|a,1|Y,D|Dh,0|n,1|W,2|c,29|i,1|X,C|k,3|l,1|r,2|Z,1|s,59F\",\"M\":[{\"H\":\"Streaming\",\"M\":\"feed\",\"A\":[\"Position.z\",\"7ZRPS8NAEMW/y5wT2ZnZ2X/3nhXsQSsegvQQpKm08VTy3W2ypWykjug5l7CB/fHevB3eCR72x7Zv9x2klxOs29322De7D0hAhrg2XGNco0uWEskdoxhv7AYqWHX9od0eIZ0Ax89j3/Sf51+479aH5u39fOUJUo0cXQXPkMTYCjaQEMNQAWkIRj8htUiBWA2hIBNCBgsEjcZYxuwshpL5xzSoerMcJsahLxmn6pisQzLzFlTGZh32ZQakZkDMl3lKRI8AM0K+HIfUF2Wx2Vqc6bBqjS46M0RN+ocEvCojcWLOh4JhNYLbm2N1bzdfVET15jKDttw29/fYvBoBj3dHZFzuKxPUCMhmxsUrMgzV7w3ivRhjZGmQpUGWBlka5HuDvA5f\",\"2023-03-19T16:42:25.7750005Z\"]}]}', extra='')\n",
      "DEBUG:signalr_async.client:Raw message received: WSMessage(type=<WSMsgType.TEXT: 1>, data='{\"C\":\"d-F23263D5-B,0|Df,0|Dg,11|d,A5|p,991|o,990|a,1|Y,D|Dh,0|n,1|W,2|c,29|i,1|X,C|k,3|l,1|r,2|Z,1|s,59F\",\"M\":[{\"H\":\"Streaming\",\"M\":\"feed\",\"A\":[\"CarData.z\",\"7ZS/CsIwEIff5eZWLpfLn2YtvoEuikORgoJ00G6l726bDi4i9RYdbrmEkA8uvxzfANuuv1/bB6TjAPv+DAkIyZZoS1PtjE9MidyGA9ro+QAF1M19uj2AmUt9abquveUDhIQFUK42V87VLft5Gcd8QcSxkDP4PWgyKH2hEbfqV4EGOaN5fbUbpR8iDYjEIyCdAbJSUPAlyxuDELTScFg6Pc4JW/XSVMO6cN7Pa5QFNKGfRBUcWnbqKfWUeko99b+eqgxawqiiUlGpqFRUPxXVaXwC\",\"2023-03-19T16:42:25.9103208Z\"]}]}', extra='')\n",
      "DEBUG:signalr_async.client:Connection keepalive\n",
      "DEBUG:signalr_async.client:Sending: message_content='{}', is_binary=False\n"
     ]
    },
    {
     "name": "stdout",
     "output_type": "stream",
     "text": [
      "Position.z 7ZRPS8NAEMW/y5wT2ZnZ2X/3nhXsQSsegvQQpKm08VTy3W2ypWykjug5l7CB/fHevB3eCR72x7Zv9x2klxOs29322De7D0hAhrg2XGNco0uWEskdoxhv7AYqWHX9od0eIZ0Ax89j3/Sf51+479aH5u39fOUJUo0cXQXPkMTYCjaQEMNQAWkIRj8htUiBWA2hIBNCBgsEjcZYxuwshpL5xzSoerMcJsahLxmn6pisQzLzFlTGZh32ZQakZkDMl3lKRI8AM0K+HIfUF2Wx2Vqc6bBqjS46M0RN+ocEvCojcWLOh4JhNYLbm2N1bzdfVET15jKDttw29/fYvBoBj3dHZFzuKxPUCMhmxsUrMgzV7w3ivRhjZGmQpUGWBlka5HuDvA5f\n",
      "CarData.z 7ZS/CsIwEIff5eZWLpfLn2YtvoEuikORgoJ00G6l726bDi4i9RYdbrmEkA8uvxzfANuuv1/bB6TjAPv+DAkIyZZoS1PtjE9MidyGA9ro+QAF1M19uj2AmUt9abquveUDhIQFUK42V87VLft5Gcd8QcSxkDP4PWgyKH2hEbfqV4EGOaN5fbUbpR8iDYjEIyCdAbJSUPAlyxuDELTScFg6Pc4JW/XSVMO6cN7Pa5QFNKGfRBUcWnbqKfWUeko99b+eqgxawqiiUlGpqFRUPxXVaXwC\n"
     ]
    },
    {
     "name": "stderr",
     "output_type": "stream",
     "text": [
      "DEBUG:signalr_async.client:Raw message received: WSMessage(type=<WSMsgType.TEXT: 1>, data='{\"C\":\"d-F23263D5-B,0|Df,0|Dg,11|d,A5|p,992|o,991|a,1|Y,D|Dh,0|n,1|W,2|c,29|i,1|X,C|k,3|l,1|r,2|Z,1|s,59F\",\"M\":[{\"H\":\"Streaming\",\"M\":\"feed\",\"A\":[\"CarData.z\",\"7Za/CoNADIffJbNKkvtnb5W+Qbu0dJAitFAcrJv47tVz6FKKzVKHLDk57oPc78KHA+zbvrs3T4jnAY79FSIwssnR5LQ7kI+WI/uCA7IP5gQZVHU3nR6A5lLd6rZtHmkDIWIGnKpJ1abqlu95Gcd0QMRZIUf4O0gJlN6QxK36VSChTWha3+2W0geRBsTiEZDOABspKHiS5Y5BCBppOFY6Pc4JW/XSVMO6cD7PaykLaEK/icrRtMnqKfWUeko9tV1P+emHCkunolJRqahUVFsVVSjQIDnrVVQqKhWViuqvorqMLw==\",\"2023-03-19T16:42:27.0301546Z\"]},{\"H\":\"Streaming\",\"M\":\"feed\",\"A\":[\"Position.z\",\"7ZQ9a8MwFEX/y5vtoPehz71zC83QpnQIJYMpSUriTsH/vbEVglLSV5JZi5FBh3d1Jc4Bnrb7ru+2G0hvB5h369W+X66/IAEZ4tZwi3GOLgklcjNjJVofF9DAw6bfdas9pAPg+Hnul/338RceN/Pd8uPzuOUFUoscXQOvkKyRBhaQEMPQAGkIRj8hrbUFIhpCwU4IGSwQNBojjDlZDCVzx2lQzSYcJsahLxmnzjF5DtmLbEFlJM9hX3ZAagfEfDpPiegVYEbIl8ch9UbZSo4WL+awGo1Ocy4Qtek/GvDqGBsn5rgoGFYruP5yRM929UatVbO5zKCUr83dXptXK+Bx74iMj/vMBLUCksy4eEaGofnfIBwlGsfVINUg1SDVIHcYxEUJzvhqkGqQapBqkJsN4mcGJSBVgVSBVIFUgfwWyPvwAw==\",\"2023-03-19T16:42:27.014812Z\"]}]}', extra='')\n"
     ]
    },
    {
     "name": "stdout",
     "output_type": "stream",
     "text": [
      "CarData.z 7Za/CoNADIffJbNKkvtnb5W+Qbu0dJAitFAcrJv47tVz6FKKzVKHLDk57oPc78KHA+zbvrs3T4jnAY79FSIwssnR5LQ7kI+WI/uCA7IP5gQZVHU3nR6A5lLd6rZtHmkDIWIGnKpJ1abqlu95Gcd0QMRZIUf4O0gJlN6QxK36VSChTWha3+2W0geRBsTiEZDOABspKHiS5Y5BCBppOFY6Pc4JW/XSVMO6cD7PaykLaEK/icrRtMnqKfWUeko9tV1P+emHCkunolJRqahUVFsVVSjQIDnrVVQqKhWViuqvorqMLw==\n",
      "Position.z 7ZQ9a8MwFEX/y5vtoPehz71zC83QpnQIJYMpSUriTsH/vbEVglLSV5JZi5FBh3d1Jc4Bnrb7ru+2G0hvB5h369W+X66/IAEZ4tZwi3GOLgklcjNjJVofF9DAw6bfdas9pAPg+Hnul/338RceN/Pd8uPzuOUFUoscXQOvkKyRBhaQEMPQAGkIRj8hrbUFIhpCwU4IGSwQNBojjDlZDCVzx2lQzSYcJsahLxmnzjF5DtmLbEFlJM9hX3ZAagfEfDpPiegVYEbIl8ch9UbZSo4WL+awGo1Ocy4Qtek/GvDqGBsn5rgoGFYruP5yRM929UatVbO5zKCUr83dXptXK+Bx74iMj/vMBLUCksy4eEaGofnfIBwlGsfVINUg1SDVIHcYxEUJzvhqkGqQapBqkJsN4mcGJSBVgVSBVIFUgfwWyPvwAw==\n"
     ]
    },
    {
     "name": "stderr",
     "output_type": "stream",
     "text": [
      "DEBUG:signalr_async.client:Raw message received: WSMessage(type=<WSMsgType.TEXT: 1>, data='{\"C\":\"d-F23263D5-B,0|Df,0|Dg,11|d,A5|p,993|o,992|a,1|Y,D|Dh,0|n,1|W,2|c,29|i,1|X,C|k,3|l,1|r,2|Z,1|s,59F\",\"M\":[{\"H\":\"Streaming\",\"M\":\"feed\",\"A\":[\"CarData.z\",\"7ZSxCsIwEIbf5eZW7i5J02QtvoEuikORgoJ0qN1K3902HVxE6i12uOUSQj64/Dm+AfZt392bJ8TzAMf+ChEY2eRocgoHKqLlyH7HBoltOEEGVd1NtweguVS3um2bRzpAiJgBp2pStam6ZT8v45guiDgr5Ah/BymB0heSuNViFUhoE5rWd7ul9EOkAbF4BKQzwEYKCr5keaMXgkYajpVOj3PCVgtpqn5dOJ/ntZQFNKHfRGUCEpJRUamoVFQqqu2KygVET15FpaJSUamotiuqQDidlioqFZWKSkX1V1Fdxhc=\",\"2023-03-19T16:42:27.9100238Z\"]},{\"H\":\"Streaming\",\"M\":\"feed\",\"A\":[\"Position.z\",\"7ZQ9a8MwFEX/y5vtovehz71zC83QpnQIJYMpcUriTsH/vbEVglLSV5pZi5FBh3d1Jc4BHrf7bui2PaTXAyy6zXo/rDafkIAMcWu4xbhAl4QS+Tv04oP3S2jgvh923XoP6QA4fZ6G1fB1/IWHfrFbvX8ctzxDapGja+AFkjXSwBISYhgbIA3B6GektbZAREMo2BkhgwWCRmOEMSeLoWRuOA2q2YTDzDj0JePUOSbPIXuRLaiM5Dnsyw5I7YCYT+cpEb0CzAj58jik3ihbydHixRxWo9FpzgWiNv1LA14dY+PMHBcFw2oF11+O6Nmu3qi1ajaXGZTytbn/1+bVCnjaOyHT4z4zQa2AJDMunpFxbP42iI3iiWM1SDVINUg1yA0GCSguGqkGqQapBqkGucEgMYpzjNUg1SDVINUgPw3yNn4D\",\"2023-03-19T16:42:27.9946631Z\"]}]}', extra='')\n"
     ]
    },
    {
     "name": "stdout",
     "output_type": "stream",
     "text": [
      "CarData.z 7ZSxCsIwEIbf5eZW7i5J02QtvoEuikORgoJ0qN1K3902HVxE6i12uOUSQj64/Dm+AfZt392bJ8TzAMf+ChEY2eRocgoHKqLlyH7HBoltOEEGVd1NtweguVS3um2bRzpAiJgBp2pStam6ZT8v45guiDgr5Ah/BymB0heSuNViFUhoE5rWd7ul9EOkAbF4BKQzwEYKCr5keaMXgkYajpVOj3PCVgtpqn5dOJ/ntZQFNKHfRGUCEpJRUamoVFQqqu2KygVET15FpaJSUamotiuqQDidlioqFZWKSkX1V1Fdxhc=\n",
      "Position.z 7ZQ9a8MwFEX/y5vtovehz71zC83QpnQIJYMpcUriTsH/vbEVglLSV5pZi5FBh3d1Jc4BHrf7bui2PaTXAyy6zXo/rDafkIAMcWu4xbhAl4QS+Tv04oP3S2jgvh923XoP6QA4fZ6G1fB1/IWHfrFbvX8ctzxDapGja+AFkjXSwBISYhgbIA3B6GektbZAREMo2BkhgwWCRmOEMSeLoWRuOA2q2YTDzDj0JePUOSbPIXuRLaiM5Dnsyw5I7YCYT+cpEb0CzAj58jik3ihbydHixRxWo9FpzgWiNv1LA14dY+PMHBcFw2oF11+O6Nmu3qi1ajaXGZTytbn/1+bVCnjaOyHT4z4zQa2AJDMunpFxbP42iI3iiWM1SDVINUg1yA0GCSguGqkGqQapBqkGucEgMYpzjNUg1SDVINUgPw3yNn4D\n"
     ]
    },
    {
     "name": "stderr",
     "output_type": "stream",
     "text": [
      "DEBUG:signalr_async.client:Raw message received: WSMessage(type=<WSMsgType.TEXT: 1>, data='{\"C\":\"d-F23263D5-B,0|Df,0|Dg,11|d,A5|p,994|o,993|a,1|Y,D|Dh,0|n,1|W,2|c,29|i,1|X,C|k,3|l,1|r,2|Z,1|s,59F\",\"M\":[{\"H\":\"Streaming\",\"M\":\"feed\",\"A\":[\"CarData.z\",\"7ZbBasMwDIbfRee2WLLiWL6WvsF2WdmhjMIGJYc2t5B3b+oeehkl+0fHCrrIIfgD+bfykYE2XX/82p+obAd67T+okASJyxCXbC+cikqRvOJgZrF9owWtd8dp90B8KevPXdftD/VFoBIWJLXGWrXW5vp8WcaxboA4BTkOPwe5gugJGW41zQI5aEXrems3oxeCBiTwCKAzIBEFgSu5nrEFwYiGo+j0NA3YakJTbeeF8/28ZiygCb0nKhUzTdFF5aJyUeGiYnVVPVpVaVIVJ/+nejZVzfs2XFZ/J6vGbfVwW1m2nMRt9XS2ylFdV/9LV5ZcV7/X1ft4Bg==\",\"2023-03-19T16:42:28.9898627Z\"]},{\"H\":\"Streaming\",\"M\":\"feed\",\"A\":[\"Position.z\",\"7Zg9a8MwEIb/y81O0H1IlrR3bqEZ2pQOoWQwJUlJ3Cn4v9cfISg0vZLMtxgb9HCvXoln8BGedoembXZbyG9HWDSb9aFdbb4gAznimeMZpgWGLJQpzpElCMYlVPCwbffN+gD5CDg8nttV+91/wuN2sV99fPZLXiDPkFOo4BWyd1LBEjJi7CogDcFUj8jM+wIRDaHoR4QcFgg6jRHGKVmKJXPHblDNJhxHJmBdMkGd46Y55C+yRZWRaQ7XZQekdkDMp/2UiF4BTgjV5XZIPVH2MkVLF3NYjUanOReI2vQfDdTqGJ9Gpn8pGFYruH5zRM929US9V7OFiUEpb1u4vbZarYCHtQMyXO4zE9UKSCYmpDPSddX/BhEWnwKZQcwgZhAzyB0GCV58oNoMYgYxg5hB7jBIRPEcxQxiBjGDmEFuNkiau94gzn6DmEBMICaQXwJ5734A\",\"2023-03-19T16:42:29.014508Z\"]}]}', extra='')\n"
     ]
    },
    {
     "name": "stdout",
     "output_type": "stream",
     "text": [
      "CarData.z 7ZbBasMwDIbfRee2WLLiWL6WvsF2WdmhjMIGJYc2t5B3b+oeehkl+0fHCrrIIfgD+bfykYE2XX/82p+obAd67T+okASJyxCXbC+cikqRvOJgZrF9owWtd8dp90B8KevPXdftD/VFoBIWJLXGWrXW5vp8WcaxboA4BTkOPwe5gugJGW41zQI5aEXrems3oxeCBiTwCKAzIBEFgSu5nrEFwYiGo+j0NA3YakJTbeeF8/28ZiygCb0nKhUzTdFF5aJyUeGiYnVVPVpVaVIVJ/+nejZVzfs2XFZ/J6vGbfVwW1m2nMRt9XS2ylFdV/9LV5ZcV7/X1ft4Bg==\n",
      "Position.z 7Zg9a8MwEIb/y81O0H1IlrR3bqEZ2pQOoWQwJUlJ3Cn4v9cfISg0vZLMtxgb9HCvXoln8BGedoembXZbyG9HWDSb9aFdbb4gAznimeMZpgWGLJQpzpElCMYlVPCwbffN+gD5CDg8nttV+91/wuN2sV99fPZLXiDPkFOo4BWyd1LBEjJi7CogDcFUj8jM+wIRDaHoR4QcFgg6jRHGKVmKJXPHblDNJhxHJmBdMkGd46Y55C+yRZWRaQ7XZQekdkDMp/2UiF4BTgjV5XZIPVH2MkVLF3NYjUanOReI2vQfDdTqGJ9Gpn8pGFYruH5zRM929US9V7OFiUEpb1u4vbZarYCHtQMyXO4zE9UKSCYmpDPSddX/BhEWnwKZQcwgZhAzyB0GCV58oNoMYgYxg5hB7jBIRPEcxQxiBjGDmEFuNkiau94gzn6DmEBMICaQXwJ5734A\n"
     ]
    },
    {
     "name": "stderr",
     "output_type": "stream",
     "text": [
      "DEBUG:signalr_async.client:Raw message received: WSMessage(type=<WSMsgType.TEXT: 1>, data='{\"C\":\"d-F23263D5-B,0|Df,0|Dg,11|d,A5|p,995|o,994|a,1|Y,D|Dh,0|n,1|W,2|c,29|i,1|X,C|k,3|l,1|r,2|Z,1|s,59F\",\"M\":[{\"H\":\"Streaming\",\"M\":\"feed\",\"A\":[\"CarData.z\",\"7ZZNawIxEIb/y5xV5mOTSXKV/oN6sfQgIrRQ9mC9Lfvf1Xjwskg6YHFhLpMQ8sJ8vHnIAG/96fh9+IXyMcDmtIcCjCxLlCXld4ql48J5xZwTx7yFBax3x8vtAega1l+7vj/81AOEggvgGqXGrsZw21+XcawXTLrOqCP8u5Cq0FohmVONTULCrkrrek83TYhJk7bMxNojNrvAagMWq9AwlVuNahTKVHMoBmlxu9VDIRizjdbGalt/pl2bbAa6SB/hKmDWFILjana40pbH4bj6R1xpdFw9GVcpZhXy39X8cMX+u3o1XGXH1TNxJbhCzooaHVezw5U0zcRx5biaF64+xzM=\",\"2023-03-19T16:42:30.0297076Z\"]},{\"H\":\"Streaming\",\"M\":\"feed\",\"A\":[\"Position.z\",\"7ZQ7T8MwFIX/y52Tyvfh584MEh2giKFCHSJEi9owVfnvJHFVuahcVGYvkSP50zn32D5HeNgdur7bbSG9HGHZfWwO/frjExKQIW4NtxiX6JJQorhgFHEkK2jgbtvvu80B0hFw+jz26/5r/IX77XK/fnsftzxBapGja+AZkjXSwAoSYhgaIA3B6GektbZAREMo2BkhgwWCRmOEMTuLoWT+MQ2q3oTDzDj0JeNUHZN1yF54CyojWYd9mQGpGRDzaZ4S0SPAjJAvxyH1RNlKthYvdFi1RiedC0RN+pcEvCpj48yMi4JhNYLrN0d0b1dP1FrVm8vM+OoKxt0em1cj4GnvhEyX+8wENQKSzLh4Roah+btBvBeOZGuD1AapDVIb5NYGYbPAMTwxoTZIbZDaILVBfjbI6/AN\",\"2023-03-19T16:42:30.1143408Z\"]}]}', extra='')\n"
     ]
    },
    {
     "name": "stdout",
     "output_type": "stream",
     "text": [
      "CarData.z 7ZZNawIxEIb/y5xV5mOTSXKV/oN6sfQgIrRQ9mC9Lfvf1Xjwskg6YHFhLpMQ8sJ8vHnIAG/96fh9+IXyMcDmtIcCjCxLlCXld4ql48J5xZwTx7yFBax3x8vtAega1l+7vj/81AOEggvgGqXGrsZw21+XcawXTLrOqCP8u5Cq0FohmVONTULCrkrrek83TYhJk7bMxNojNrvAagMWq9AwlVuNahTKVHMoBmlxu9VDIRizjdbGalt/pl2bbAa6SB/hKmDWFILjana40pbH4bj6R1xpdFw9GVcpZhXy39X8cMX+u3o1XGXH1TNxJbhCzooaHVezw5U0zcRx5biaF64+xzM=\n",
      "Position.z 7ZQ7T8MwFIX/y52Tyvfh584MEh2giKFCHSJEi9owVfnvJHFVuahcVGYvkSP50zn32D5HeNgdur7bbSG9HGHZfWwO/frjExKQIW4NtxiX6JJQorhgFHEkK2jgbtvvu80B0hFw+jz26/5r/IX77XK/fnsftzxBapGja+AZkjXSwAoSYhgaIA3B6GektbZAREMo2BkhgwWCRmOEMTuLoWT+MQ2q3oTDzDj0JeNUHZN1yF54CyojWYd9mQGpGRDzaZ4S0SPAjJAvxyH1RNlKthYvdFi1RiedC0RN+pcEvCpj48yMi4JhNYLrN0d0b1dP1FrVm8vM+OoKxt0em1cj4GnvhEyX+8wENQKSzLh4Roah+btBvBeOZGuD1AapDVIb5NYGYbPAMTwxoTZIbZDaILVBfjbI6/AN\n"
     ]
    },
    {
     "name": "stderr",
     "output_type": "stream",
     "text": [
      "DEBUG:signalr_async.client:Raw message received: WSMessage(type=<WSMsgType.TEXT: 1>, data='{\"C\":\"d-F23263D5-B,0|Df,0|Dg,11|d,A5|p,996|o,995|a,1|Y,D|Dh,0|n,1|W,2|c,29|i,1|X,C|k,3|l,1|r,2|Z,1|s,59F\",\"M\":[{\"H\":\"Streaming\",\"M\":\"feed\",\"A\":[\"CarData.z\",\"7ZfLakIxEIbfZdYqc8l9K32DdlNxIUVooZyFdXc4767GRTeHEkcsBmYzCSE/zOXPBxnhZTgevvY/UDYjvB0/oAAjyxJlSfmVQnFcBFfMOcRE77CA9e5wvj0CXcL6czcM++96gFBwAVyj1Ohq9Nf9ZZmmekGlc0od4e1CqkJthaRONTQJCV2V1vU33TQjpsi+ZSbaHrHaBVobsGiFiqlca4xKocw1h0LMLW7Xesh7ZbZB29jY1p951yadgc7Sv3DlMQeJRqvuaIVNMzFa/R+tEhmtHkyrEHIgcYarznDFKGK4ejJcNbndcHUHrhJnn3I2XPWGK7G/4LPhyv6CD8YVrShlL95w1RuuXJSWx2G4Mlx1hqvtdAI=\",\"2023-03-19T16:42:31.1895359Z\"]},{\"H\":\"Streaming\",\"M\":\"feed\",\"A\":[\"Position.z\",\"7ZaxasMwEIbf5WY76O50kqy9cwvN0KZ0CCWDKXFK4k7B717bCkEp6ZVk1mJs0Mf9+iU+fISn3aHt210H8e0Iy3a7OfTr7RdEIENcG66xWaKLliKbBXvLBnkFFTx0/b7dHCAeAafHc7/uv8dPeOyW+/XH57jkBWKN3LgKXiGKsRWsICKGoQLSEGz8jNQiGWI1hILMCBnMEDQaYxlTsibkzB27QTWb5TAzDn3OOHWOSXNILrIFlbFpDvu8A1I7IObTfnJErwATQj7fDqknymJTtOZiDqvR6DTnAlGb/qMBr46RZmbGl4xhtYLrN8fq2a6eqIiazSUGbX7b3O21ebUCntZOyHS5z0xQKyCbGNeckWGo/jeI85ZEfDFIMUgxSDHIHQYJo0FIyj9IMUgxSDHI7QbBBaGgZykGKQYpBikG+W2Q9+EH\",\"2023-03-19T16:42:31.2151735Z\"]}]}', extra='')\n",
      "DEBUG:signalr_async.client:Connection keepalive\n",
      "DEBUG:signalr_async.client:Sending: message_content='{}', is_binary=False\n"
     ]
    },
    {
     "name": "stdout",
     "output_type": "stream",
     "text": [
      "CarData.z 7ZfLakIxEIbfZdYqc8l9K32DdlNxIUVooZyFdXc4767GRTeHEkcsBmYzCSE/zOXPBxnhZTgevvY/UDYjvB0/oAAjyxJlSfmVQnFcBFfMOcRE77CA9e5wvj0CXcL6czcM++96gFBwAVyj1Ohq9Nf9ZZmmekGlc0od4e1CqkJthaRONTQJCV2V1vU33TQjpsi+ZSbaHrHaBVobsGiFiqlca4xKocw1h0LMLW7Xesh7ZbZB29jY1p951yadgc7Sv3DlMQeJRqvuaIVNMzFa/R+tEhmtHkyrEHIgcYarznDFKGK4ejJcNbndcHUHrhJnn3I2XPWGK7G/4LPhyv6CD8YVrShlL95w1RuuXJSWx2G4Mlx1hqvtdAI=\n",
      "Position.z 7ZaxasMwEIbf5WY76O50kqy9cwvN0KZ0CCWDKXFK4k7B717bCkEp6ZVk1mJs0Mf9+iU+fISn3aHt210H8e0Iy3a7OfTr7RdEIENcG66xWaKLliKbBXvLBnkFFTx0/b7dHCAeAafHc7/uv8dPeOyW+/XH57jkBWKN3LgKXiGKsRWsICKGoQLSEGz8jNQiGWI1hILMCBnMEDQaYxlTsibkzB27QTWb5TAzDn3OOHWOSXNILrIFlbFpDvu8A1I7IObTfnJErwATQj7fDqknymJTtOZiDqvR6DTnAlGb/qMBr46RZmbGl4xhtYLrN8fq2a6eqIiazSUGbX7b3O21ebUCntZOyHS5z0xQKyCbGNeckWGo/jeI85ZEfDFIMUgxSDHIHQYJo0FIyj9IMUgxSDHI7QbBBaGgZykGKQYpBikG+W2Q9+EH\n"
     ]
    },
    {
     "name": "stderr",
     "output_type": "stream",
     "text": [
      "DEBUG:signalr_async.client:Raw message received: WSMessage(type=<WSMsgType.TEXT: 1>, data='{\"C\":\"d-F23263D5-B,0|Df,0|Dg,11|d,A5|p,997|o,996|a,1|Y,D|Dh,0|n,1|W,2|c,29|i,1|X,C|k,3|l,1|r,2|Z,1|s,59F\",\"M\":[{\"H\":\"Streaming\",\"M\":\"feed\",\"A\":[\"CarData.z\",\"7ZW/agMxDIffRXMSJEsn/1lD3yBZWjKEEmih3JBmO+7de3GGLkdxVFpyoEU+Dn8gyz8+D/DUX87vp08oLwPsL69QIGDgNfKa8o60SChMG9EsWeQZVrA9nqfdA9C1bN+OfX/6qD8QCq4g1Mq1Sq3d7fu6jGPdYOLEyBHeD1IFrSckc6vaBBJKRev63W6agUUCt9yJdUbBnAJrDAJbQcOt3M4YjSDPDYc05pa0WzPUdcZu1TrY2Daf+dQmW4Am9CddxYwyKct1tTRdIUfX1YPpSl1Xf6yrPOmKtHNdLUxXHFPLW+66+k9dtTwgriu7rsKGMnLS6Lpamq6Suq4eTVfJdfV7XR3GLw==\",\"2023-03-19T16:42:32.1903867Z\"]},{\"H\":\"Streaming\",\"M\":\"feed\",\"A\":[\"Position.z\",\"7ZY9a8MwEIb/y8120N3pZEt75xaaoU3pEEoGU+KUxJ2C/3v9EYJC0yvJfIuxQQ/36pV48BGedoema3YtpLcjLJvt5tCtt1+QgBxx6bjEuMSQPCXGBUXBgLyCAh7abt9sDpCOgOPjuVt338MnPLbL/frjc1jyAqlEjqGAV0jifAErSIh1XwBpCMZqQkqRDPEaQrVMCDnMEHQa4xnnZLHOmTt2g2o2z/XEBKxyJqhz3DyH5CJbrTJ+nsNV3gGpHRDzaT85oleAM0JVvh1ST5TFz9HixRxWo9FpzgWiNv1HA5U6RuLEDC8Zw2oF12+O17NdPVERNVuYGfT5bQu311apFfC4dkTGy31marUC8jMT4hnp++J/g3gR5MoEYgIxgZhA7hBIGH5BnBMziBnEDGIGucMgUcQFNIGYQEwgJpCbBUILjOLI2y+IGcQMYgb5ZZD3/gc=\",\"2023-03-19T16:42:32.1950245Z\"]}]}', extra='')\n"
     ]
    },
    {
     "name": "stdout",
     "output_type": "stream",
     "text": [
      "CarData.z 7ZW/agMxDIffRXMSJEsn/1lD3yBZWjKEEmih3JBmO+7de3GGLkdxVFpyoEU+Dn8gyz8+D/DUX87vp08oLwPsL69QIGDgNfKa8o60SChMG9EsWeQZVrA9nqfdA9C1bN+OfX/6qD8QCq4g1Mq1Sq3d7fu6jGPdYOLEyBHeD1IFrSckc6vaBBJKRev63W6agUUCt9yJdUbBnAJrDAJbQcOt3M4YjSDPDYc05pa0WzPUdcZu1TrY2Daf+dQmW4Am9CddxYwyKct1tTRdIUfX1YPpSl1Xf6yrPOmKtHNdLUxXHFPLW+66+k9dtTwgriu7rsKGMnLS6Lpamq6Suq4eTVfJdfV7XR3GLw==\n",
      "Position.z 7ZY9a8MwEIb/y8120N3pZEt75xaaoU3pEEoGU+KUxJ2C/3v9EYJC0yvJfIuxQQ/36pV48BGedoema3YtpLcjLJvt5tCtt1+QgBxx6bjEuMSQPCXGBUXBgLyCAh7abt9sDpCOgOPjuVt338MnPLbL/frjc1jyAqlEjqGAV0jifAErSIh1XwBpCMZqQkqRDPEaQrVMCDnMEHQa4xnnZLHOmTt2g2o2z/XEBKxyJqhz3DyH5CJbrTJ+nsNV3gGpHRDzaT85oleAM0JVvh1ST5TFz9HixRxWo9FpzgWiNv1HA5U6RuLEDC8Zw2oF12+O17NdPVERNVuYGfT5bQu311apFfC4dkTGy31marUC8jMT4hnp++J/g3gR5MoEYgIxgZhA7hBIGH5BnBMziBnEDGIGucMgUcQFNIGYQEwgJpCbBUILjOLI2y+IGcQMYgb5ZZD3/gc=\n"
     ]
    },
    {
     "name": "stderr",
     "output_type": "stream",
     "text": [
      "DEBUG:signalr_async.client:Raw message received: WSMessage(type=<WSMsgType.TEXT: 1>, data='{}', extra='')\n",
      "DEBUG:signalr_async.client:Raw message received: WSMessage(type=<WSMsgType.TEXT: 1>, data='{\"C\":\"d-F23263D5-B,0|Df,0|Dg,11|d,A5|p,997|o,997|a,1|Y,D|Dh,0|n,1|W,2|c,29|i,1|X,C|k,3|l,1|r,2|Z,1|s,59F\",\"M\":[{\"H\":\"Streaming\",\"M\":\"feed\",\"A\":[\"Position.z\",\"7ZSxasMwEIbf5Wa76O4kWae9cwv10KZ0CCWDKXFK4k7B717bCkEp6ZVm1mJk0Mf9+iW+IzzuDt3Q7XqIr0dou+3mMKy3nxCBDHFtuEZp0UdLkemOxBkjvIIK7vth320OEI+A8+dpWA9f0y889O1+/f4xbXmGWCOLr+AFojO2ghVExDBWQBqC0ixI7VyGWA2h4BaEDGYIGo2xjCmZhJy54TSoZrMcFsZjkzNenWPSHHIX2YLK2DSHm7wDUjsg5tN5ckSvABNCTX4cUm+UnU3R5GIOq9HoNOcCUZv+pYFGHeNkYaZFxrBawfWXY/VsV2/UOTWbTwza/LX5/9fWqBXwvHdG5sd9ZoJaAdnEeDkj41j9bRDvrDhHxSDFIMUgxSA3GCSwFQrFIMUgxSDFILcYRMSKYSkGKQYpBikG+WmQt/Eb\",\"2023-03-19T16:42:32.9949039Z\"]}]}', extra='')\n",
      "DEBUG:signalr_async.client:Raw message received: WSMessage(type=<WSMsgType.TEXT: 1>, data='{\"C\":\"d-F23263D5-B,0|Df,0|Dg,11|d,A5|p,998|o,997|a,1|Y,D|Dh,0|n,1|W,2|c,29|i,1|X,C|k,3|l,1|r,2|Z,1|s,59F\",\"M\":[{\"H\":\"Streaming\",\"M\":\"feed\",\"A\":[\"CarData.z\",\"7ZS7asNAEEX/ZWrbzGufrckfJE2MCxMMCQQVjjuhf7e8LtKIII+bCE8zK8QemJ25nB5euvPp6/gDddfD2/kDKjCyrFHWVF4pVuUqvNGEokHeYQXbw2m83QNdy/bz0HXH7/YDoeIKuFVpVVsNt+/rMQztgolTI0d4P0gNtL6QzK3GWSChNrSdv+3mCVhyiXN2Yp0Rm1NgjQGLFTRs5fbGZARlajgU05yNqDVDIRi7jdbBpnnzmU5ttgVoRP/SVSIULNl1tThd5eS6cl09ma4KIaeSXFdL01Uh15Xr6rl0JRsZdcUuq4XJSlHZZfXPZBVcVo/Laj9cAA==\",\"2023-03-19T16:42:33.31022Z\"]}]}', extra='')\n"
     ]
    },
    {
     "name": "stdout",
     "output_type": "stream",
     "text": [
      "Position.z 7ZSxasMwEIbf5Wa76O4kWae9cwv10KZ0CCWDKXFK4k7B717bCkEp6ZVm1mJk0Mf9+iW+IzzuDt3Q7XqIr0dou+3mMKy3nxCBDHFtuEZp0UdLkemOxBkjvIIK7vth320OEI+A8+dpWA9f0y889O1+/f4xbXmGWCOLr+AFojO2ghVExDBWQBqC0ixI7VyGWA2h4BaEDGYIGo2xjCmZhJy54TSoZrMcFsZjkzNenWPSHHIX2YLK2DSHm7wDUjsg5tN5ckSvABNCTX4cUm+UnU3R5GIOq9HoNOcCUZv+pYFGHeNkYaZFxrBawfWXY/VsV2/UOTWbTwza/LX5/9fWqBXwvHdG5sd9ZoJaAdnEeDkj41j9bRDvrDhHxSDFIMUgxSA3GCSwFQrFIMUgxSDFILcYRMSKYSkGKQYpBikG+WmQt/Eb\n",
      "CarData.z 7ZS7asNAEEX/ZWrbzGufrckfJE2MCxMMCQQVjjuhf7e8LtKIII+bCE8zK8QemJ25nB5euvPp6/gDddfD2/kDKjCyrFHWVF4pVuUqvNGEokHeYQXbw2m83QNdy/bz0HXH7/YDoeIKuFVpVVsNt+/rMQztgolTI0d4P0gNtL6QzK3GWSChNrSdv+3mCVhyiXN2Yp0Rm1NgjQGLFTRs5fbGZARlajgU05yNqDVDIRi7jdbBpnnzmU5ttgVoRP/SVSIULNl1tThd5eS6cl09ma4KIaeSXFdL01Uh15Xr6rl0JRsZdcUuq4XJSlHZZfXPZBVcVo/Laj9cAA==\n"
     ]
    },
    {
     "name": "stderr",
     "output_type": "stream",
     "text": [
      "DEBUG:signalr_async.client:Raw message received: WSMessage(type=<WSMsgType.TEXT: 1>, data='{\"C\":\"d-F23263D5-B,0|Df,0|Dg,11|d,A6|p,998|o,997|a,1|Y,D|Dh,0|n,1|W,2|c,29|i,1|X,C|k,3|l,1|r,2|Z,1|s,59F\",\"M\":[{\"H\":\"Streaming\",\"M\":\"feed\",\"A\":[\"Heartbeat\",{\"Utc\":\"2023-03-19T16:42:35.9534544Z\",\"_kf\":true},\"2023-03-19T16:42:35.646Z\"]}]}', extra='')\n"
     ]
    },
    {
     "name": "stdout",
     "output_type": "stream",
     "text": [
      "Heartbeat {'Utc': '2023-03-19T16:42:35.9534544Z', '_kf': True}\n"
     ]
    },
    {
     "name": "stderr",
     "output_type": "stream",
     "text": [
      "DEBUG:signalr_async.client:Raw message received: WSMessage(type=<WSMsgType.TEXT: 1>, data='{\"C\":\"d-F23263D5-B,0|Df,0|Dg,11|d,A6|p,999|o,997|a,1|Y,D|Dh,0|n,1|W,2|c,29|i,1|X,C|k,3|l,1|r,2|Z,1|s,59F\",\"M\":[{\"H\":\"Streaming\",\"M\":\"feed\",\"A\":[\"CarData.z\",\"7ZbBCsIwDED/JedNkiZr116Hf6AXxcOQgYLsoLuN/btbPXgZMoOCQi9pKX2QJuHRHtZtdz03Nwj7HrbdEQIYNJwj5+Q3ZIOYwLyyjOSM3UEGVX0db/dAU6hOdds2l3iAEDADEyPHKDEWj/20DEO8oOJEyRG+D1IEtS8kdap2EUgoEY3rM91yBmbviyU90dbIqKdAOwaGtaCiK483OiXIc8Uh65Z0RLQzVBTKbK22sG5ZfeanttQN0Ii+0lXpkNi6pKs/05Wg90lXP6YrTrr6qq5khePviowkXf2drliSrn5MV+l39QFdHYY7\",\"2023-03-19T16:42:34.0301124Z\"]}]}', extra='')\n",
      "DEBUG:signalr_async.client:Raw message received: WSMessage(type=<WSMsgType.TEXT: 1>, data='{\"C\":\"d-F23263D5-B,0|Df,0|Dg,11|d,A6|p,999|o,998|a,1|Y,D|Dh,0|n,1|W,2|c,29|i,1|X,C|k,3|l,1|r,2|Z,1|s,59F\",\"M\":[{\"H\":\"Streaming\",\"M\":\"feed\",\"A\":[\"Position.z\",\"7ZQ9a8MwEIb/y8120OlOn3vnFpqhTekQSgZT4pTEnYL/e/0RglLSK8l8i5FBD/fqlXiO8LQ7NF2zayG/HWHZbDeHbr39ggzWWKoN1ZiW6DPbTLSwjqNnXkEFD223bzYHyEfA8fPcrbvv4Rce2+V+/fE5bHmBXCMlX8ErZGe4ghVkxNhXYCUEU5iQ2rkCYQmx0U2INVggaCSGCedkKZbMHadBMRtTnBiPoWS8OMfMc6y7yBZFhuc5FMoOrNiBJTqdp0TkCnBGbCiPY8UbJcdztHQxh8Ro9jTnAhGb/qOBII5xaWKGRcGQWMH1l8Nytqs36pyYzc8Mcvna/O21BbECGveOyPi4z0wUK7A8Mz6dkb6v/jcIB45kkhpEDaIGUYPcYRA/GMQYpwZRg6hB1CB3GCQGDsGgGkQNogZRg9xsEF4MdxSGKtQgahA1iBrkt0He+x8=\",\"2023-03-19T16:42:34.1347306Z\"]}]}', extra='')\n"
     ]
    },
    {
     "name": "stdout",
     "output_type": "stream",
     "text": [
      "CarData.z 7ZbBCsIwDED/JedNkiZr116Hf6AXxcOQgYLsoLuN/btbPXgZMoOCQi9pKX2QJuHRHtZtdz03Nwj7HrbdEQIYNJwj5+Q3ZIOYwLyyjOSM3UEGVX0db/dAU6hOdds2l3iAEDADEyPHKDEWj/20DEO8oOJEyRG+D1IEtS8kdap2EUgoEY3rM91yBmbviyU90dbIqKdAOwaGtaCiK483OiXIc8Uh65Z0RLQzVBTKbK22sG5ZfeanttQN0Ii+0lXpkNi6pKs/05Wg90lXP6YrTrr6qq5khePviowkXf2drliSrn5MV+l39QFdHYY7\n",
      "Position.z 7ZQ9a8MwEIb/y8120OlOn3vnFpqhTekQSgZT4pTEnYL/e/0RglLSK8l8i5FBD/fqlXiO8LQ7NF2zayG/HWHZbDeHbr39ggzWWKoN1ZiW6DPbTLSwjqNnXkEFD223bzYHyEfA8fPcrbvv4Rce2+V+/fE5bHmBXCMlX8ErZGe4ghVkxNhXYCUEU5iQ2rkCYQmx0U2INVggaCSGCedkKZbMHadBMRtTnBiPoWS8OMfMc6y7yBZFhuc5FMoOrNiBJTqdp0TkCnBGbCiPY8UbJcdztHQxh8Ro9jTnAhGb/qOBII5xaWKGRcGQWMH1l8Nytqs36pyYzc8Mcvna/O21BbECGveOyPi4z0wUK7A8Mz6dkb6v/jcIB45kkhpEDaIGUYPcYRA/GMQYpwZRg6hB1CB3GCQGDsGgGkQNogZRg9xsEF4MdxSGKtQgahA1iBrkt0He+x8=\n"
     ]
    },
    {
     "name": "stderr",
     "output_type": "stream",
     "text": [
      "DEBUG:signalr_async.client:Raw message received: WSMessage(type=<WSMsgType.TEXT: 1>, data='{\"C\":\"d-F23263D5-B,0|Df,0|Dg,11|d,A6|p,99A|o,999|a,1|Y,D|Dh,0|n,1|W,2|c,29|i,1|X,C|k,3|l,1|r,2|Z,1|s,59F\",\"M\":[{\"H\":\"Streaming\",\"M\":\"feed\",\"A\":[\"CarData.z\",\"7Ze7CgIxEEX/ZWqVmSSTVyv+gTaKhYigIFvodsv+u2ssbBaNI4jsppkJIRfmcTmQBhZVfTkdrhA3DazqPURQqPQU9ZTCkmw0Kmoz04xoeQ0TmO8u3eMG6B7mx11VHc7pAiHiBFSKOkWTIj/O99S26YFIZ4Q6ws+FlITSDklcqs0SEpokTflZru8RG0SfsxPpjJTYBVIbKC0VCrby6NEJhbpvOGSdznG71EPMwmqtdLAubz79rvUyA3XSV7RyHa2Q/WBwxXY8wHKmAOvPgJWzkQKsb4AVMARPbjDAIuPDaIil3rRaiFWINTBi8QxtCOyG8yMkJhoLsQjftFqI9XNicSHW98Tatjc=\",\"2023-03-19T16:42:35.0699575Z\"]},{\"H\":\"Streaming\",\"M\":\"feed\",\"A\":[\"Position.z\",\"7ZQ/a8MwEMW/y8120P2RZGnP3EI9tCkdQslgSpKSuJPxd29shaCU9Eo6azEy6Md793S8AR73x67v9juIrwO03XZz7NfbT4hAhrg2XGNo0UWhyLJgFG+YV1DBctcfus0R4gA4fZ76df91+oWHXXtYv3+crjxDrJGDq+AFojVSwQoiYjNWQBqCwc9IbW2GiIZQY2eEDGYIGo0RxuQsNDnzj2lQ9SbczIxDnzNO1TFJh+yVt0ZlJOmwzzMgNQNiPs+TI3oEmBDy+TikvihbSdbClQ6r1uisc4WoSf+SgFdlbJiZ0yFjWI3g9uaI7u3mi1qrenOJQcm3zd0fm1cj4OnuhEzLfWEaNQKSxLhwQcax+rtBPIvjIKVBSoOUBikNcneD2IVBscGF0iClQUqDlAb52SBv4zc=\",\"2023-03-19T16:42:35.0145969Z\"]}]}', extra='')\n"
     ]
    },
    {
     "name": "stdout",
     "output_type": "stream",
     "text": [
      "CarData.z 7Ze7CgIxEEX/ZWqVmSSTVyv+gTaKhYigIFvodsv+u2ssbBaNI4jsppkJIRfmcTmQBhZVfTkdrhA3DazqPURQqPQU9ZTCkmw0Kmoz04xoeQ0TmO8u3eMG6B7mx11VHc7pAiHiBFSKOkWTIj/O99S26YFIZ4Q6ws+FlITSDklcqs0SEpokTflZru8RG0SfsxPpjJTYBVIbKC0VCrby6NEJhbpvOGSdznG71EPMwmqtdLAubz79rvUyA3XSV7RyHa2Q/WBwxXY8wHKmAOvPgJWzkQKsb4AVMARPbjDAIuPDaIil3rRaiFWINTBi8QxtCOyG8yMkJhoLsQjftFqI9XNicSHW98Tatjc=\n",
      "Position.z 7ZQ/a8MwEMW/y8120P2RZGnP3EI9tCkdQslgSpKSuJPxd29shaCU9Eo6azEy6Md793S8AR73x67v9juIrwO03XZz7NfbT4hAhrg2XGNo0UWhyLJgFG+YV1DBctcfus0R4gA4fZ76df91+oWHXXtYv3+crjxDrJGDq+AFojVSwQoiYjNWQBqCwc9IbW2GiIZQY2eEDGYIGo0RxuQsNDnzj2lQ9SbczIxDnzNO1TFJh+yVt0ZlJOmwzzMgNQNiPs+TI3oEmBDy+TikvihbSdbClQ6r1uisc4WoSf+SgFdlbJiZ0yFjWI3g9uaI7u3mi1qrenOJQcm3zd0fm1cj4OnuhEzLfWEaNQKSxLhwQcax+rtBPIvjIKVBSoOUBikNcneD2IVBscGF0iClQUqDlAb52SBv4zc=\n"
     ]
    },
    {
     "name": "stderr",
     "output_type": "stream",
     "text": [
      "DEBUG:signalr_async.client:Connection keepalive\n",
      "DEBUG:signalr_async.client:Sending: message_content='{}', is_binary=False\n",
      "DEBUG:signalr_async.client:Raw message received: WSMessage(type=<WSMsgType.TEXT: 1>, data='{\"C\":\"d-F23263D5-B,0|Df,0|Dg,11|d,A6|p,99B|o,99A|a,1|Y,D|Dh,0|n,1|W,2|c,29|i,1|X,C|k,3|l,1|r,2|Z,1|s,59F\",\"M\":[{\"H\":\"Streaming\",\"M\":\"feed\",\"A\":[\"CarData.z\",\"7ZW/agMxDIffRXMSJEv+I6+hb9AuKR1CCbRQbkizHffuTZwhi0mMCqXceZGPwx8nyz++G+FpOB0/D9+QX0d4Ob1DBoeO18hr0mcKWVxmv2FRpcA7WMF2fzzvHoEuZfuxH4bDV3mBkHEFrlQuVUr11+fLMk1lg4kTI0dYAUnU3WepsNZDkrnb0AQSSkHLems3VWBB1JZrqY3pQcflo84cBGsSHFtBw61czxiNINeGQyFyS+CtGfLe2G2wDja2zaee2mQL0Bm9ZyyfNCWi+RjL03KMFVM3VjfWwoyVgibWOCdj0UKMxapN19KN9YfGagp8N5bZWGGDThN5mZOxHvzmZmMsIdeN9c+MFWI31u+N9Tb9AA==\",\"2023-03-19T16:42:36.0298154Z\"]},{\"H\":\"Streaming\",\"M\":\"feed\",\"A\":[\"Position.z\",\"7ZRLS8NAFIX/y10nJfcxz71rBbvQiosiXQSxlTauSv67k0wpU6lX6noIhATm45x75nKO8LA79EO/20J8OcKy/9gchvXHJ0SgjrjtuMWwRBuFIpsFG0kPraCBu+2w7zcHiEfA6fU4rIev9Av32+V+/faejjxBbJGDbeAZoumkgRVERD82QBqCwc1Ia0yBiIaQNzNCHRYIdhojjNlZ8CXzj2lQ9SbsZ8aiKxmr6nRZh8yFN68yknXYlRmQmgExn+YpET0CzAi5chxSbzTtTbYWLnRYtUYnnQtETfqXBJwqY8LMpI+CYTWC65sjurerN2qM6s1mBqXcNnt7bE6NgKezEzIt95nxagQkmbHhjIxj83eDOCPiRWqD1AapDVIb5OYGsYt0R5LGqg1SG6Q2SG2Qnw3yOn4D\",\"2023-03-19T16:42:36.1344266Z\"]}]}', extra='')\n"
     ]
    },
    {
     "name": "stdout",
     "output_type": "stream",
     "text": [
      "CarData.z 7ZW/agMxDIffRXMSJEv+I6+hb9AuKR1CCbRQbkizHffuTZwhi0mMCqXceZGPwx8nyz++G+FpOB0/D9+QX0d4Ob1DBoeO18hr0mcKWVxmv2FRpcA7WMF2fzzvHoEuZfuxH4bDV3mBkHEFrlQuVUr11+fLMk1lg4kTI0dYAUnU3WepsNZDkrnb0AQSSkHLems3VWBB1JZrqY3pQcflo84cBGsSHFtBw61czxiNINeGQyFyS+CtGfLe2G2wDja2zaee2mQL0Bm9ZyyfNCWi+RjL03KMFVM3VjfWwoyVgibWOCdj0UKMxapN19KN9YfGagp8N5bZWGGDThN5mZOxHvzmZmMsIdeN9c+MFWI31u+N9Tb9AA==\n",
      "Position.z 7ZRLS8NAFIX/y10nJfcxz71rBbvQiosiXQSxlTauSv67k0wpU6lX6noIhATm45x75nKO8LA79EO/20J8OcKy/9gchvXHJ0SgjrjtuMWwRBuFIpsFG0kPraCBu+2w7zcHiEfA6fU4rIev9Av32+V+/faejjxBbJGDbeAZoumkgRVERD82QBqCwc1Ia0yBiIaQNzNCHRYIdhojjNlZ8CXzj2lQ9SbsZ8aiKxmr6nRZh8yFN68yknXYlRmQmgExn+YpET0CzAi5chxSbzTtTbYWLnRYtUYnnQtETfqXBJwqY8LMpI+CYTWC65sjurerN2qM6s1mBqXcNnt7bE6NgKezEzIt95nxagQkmbHhjIxj83eDOCPiRWqD1AapDVIb5OYGsYt0R5LGqg1SG6Q2SG2Qnw3yOn4D\n"
     ]
    },
    {
     "name": "stderr",
     "output_type": "stream",
     "text": [
      "DEBUG:signalr_async.client:Raw message received: WSMessage(type=<WSMsgType.TEXT: 1>, data='{\"C\":\"d-F23263D5-B,0|Df,0|Dg,11|d,A6|p,99C|o,99B|a,1|Y,D|Dh,0|n,1|W,2|c,29|i,1|X,C|k,3|l,1|r,2|Z,1|s,59F\",\"M\":[{\"H\":\"Streaming\",\"M\":\"feed\",\"A\":[\"CarData.z\",\"7ZS9asMwEIDf5eYk3OlOJ8tr6Bu0S0uHUAItFA9pNuN3j6MMXYQtDuLB1nIyRh++P389vHTXy8/5D9qPHt6uX9CCQ8d75D3FV9JWXMt6YIwhcHyHHRxPl/F2D3QPx+9T151/0wuEFnfgUuQUJUX/eL4fw5AumDgxcoQZkDzpNEuJtRZJ5my1CCSUhKbzP90mAwtGXzKWXJtmMk4fdeZFsG6CYytomMqjxmAEOdccUi2ZiFh3yHtjtmptbCjrT35rG9sCjeiUsdTF4FTXZKywGWOFGTlXYy1sLBaqxnqysaJEDc2ajKWyEWNx5JlSq7GWNhZXYT1VWOFAo7BkVcIKzUaEJYgl/0cV1mLCKtr2qqtpXX0ONw==\",\"2023-03-19T16:42:37.1496486Z\"]},{\"H\":\"Streaming\",\"M\":\"feed\",\"A\":[\"Position.z\",\"7Za7asNAEEX/ZWrJaGZnn33qBOIicUhhggsRLAdbqYz+PZLWmDVxJtj1NEISOszdu8tBR3jaHdq+3XWQ3o6wbLebQ7/efkECasjUjakxLtElpmTcgiLz+HoFFTx0/b7dHCAdAafLc7/uv8dHeOyW+/XH5/jJC6QaTXQVvEKyDVewgoQYhgpIQjD6GamtLRCWEAp2RqjBAsFGYthgThZDydyxGhSzsQkz49CXjBPnNHkO2YtsQWQ4zzG+7IDEDsiY03pKRK4AM0K+XA6JO2os52jxYo4Ro9FpzgUiNv1HA14cY+PMjDcFY8QKrp8clrNd3VFrxWwuM8jlaXO31+bFCsz07YRMh/vMBLEC4sy4eEaGofrfIBx53J2oBlGDqEHUIHcYxHk2zFYNogZRg6hB7jBIGA2CjGoQNYgaRA1ys0H8gpDJkf6DqEHUIGqQXwZ5H34A\",\"2023-03-19T16:42:37.2142625Z\"]}]}', extra='')\n"
     ]
    },
    {
     "name": "stdout",
     "output_type": "stream",
     "text": [
      "CarData.z 7ZS9asMwEIDf5eYk3OlOJ8tr6Bu0S0uHUAItFA9pNuN3j6MMXYQtDuLB1nIyRh++P389vHTXy8/5D9qPHt6uX9CCQ8d75D3FV9JWXMt6YIwhcHyHHRxPl/F2D3QPx+9T151/0wuEFnfgUuQUJUX/eL4fw5AumDgxcoQZkDzpNEuJtRZJ5my1CCSUhKbzP90mAwtGXzKWXJtmMk4fdeZFsG6CYytomMqjxmAEOdccUi2ZiFh3yHtjtmptbCjrT35rG9sCjeiUsdTF4FTXZKywGWOFGTlXYy1sLBaqxnqysaJEDc2ajKWyEWNx5JlSq7GWNhZXYT1VWOFAo7BkVcIKzUaEJYgl/0cV1mLCKtr2qqtpXX0ONw==\n",
      "Position.z 7Za7asNAEEX/ZWrJaGZnn33qBOIicUhhggsRLAdbqYz+PZLWmDVxJtj1NEISOszdu8tBR3jaHdq+3XWQ3o6wbLebQ7/efkECasjUjakxLtElpmTcgiLz+HoFFTx0/b7dHCAdAafLc7/uv8dHeOyW+/XH5/jJC6QaTXQVvEKyDVewgoQYhgpIQjD6GamtLRCWEAp2RqjBAsFGYthgThZDydyxGhSzsQkz49CXjBPnNHkO2YtsQWQ4zzG+7IDEDsiY03pKRK4AM0K+XA6JO2os52jxYo4Ro9FpzgUiNv1HA14cY+PMjDcFY8QKrp8clrNd3VFrxWwuM8jlaXO31+bFCsz07YRMh/vMBLEC4sy4eEaGofrfIBx53J2oBlGDqEHUIHcYxHk2zFYNogZRg6hB7jBIGA2CjGoQNYgaRA1ys0H8gpDJkf6DqEHUIGqQXwZ5H34A\n"
     ]
    },
    {
     "name": "stderr",
     "output_type": "stream",
     "text": [
      "DEBUG:signalr_async.client:Raw message received: WSMessage(type=<WSMsgType.TEXT: 1>, data='{\"C\":\"d-F23263D5-B,0|Df,0|Dg,11|d,A6|p,99D|o,99C|a,1|Y,D|Dh,0|n,1|W,2|c,29|i,1|X,C|k,3|l,1|r,2|Z,1|s,59F\",\"M\":[{\"H\":\"Streaming\",\"M\":\"feed\",\"A\":[\"CarData.z\",\"7Ze9isMwDIDfRXNbJMvy31r6Br3ljg6lFO7gyNDrFvLuTdXhltAEjY4XORh/RJLFR9LDobvffq5/UL56+LhfoIBDx1vkLeUjheJd4bhjzMH5/Akb2J9v4+ke6Bn23+euu/7qBkLBDTiNrNFrlNfzcxkGPWDivJEjnABJYnjPkrLWIsmcbVgEEnpFdf1PN03AHiktuZapNs1krC915kGwToJjK2i4lVeN0QiytTneOkAixlSDtatxWXOmRzbZGjSi73QlmCULV6Sr5FajK5kptemq6aouXcVRV0FiTbqi1egqzXxINl01XdWkq7RDl4Wir0lXa/kZZJTYdNV0VZmuTsMD\",\"2023-03-19T16:42:38.0295174Z\"]},{\"H\":\"Streaming\",\"M\":\"feed\",\"A\":[\"Position.z\",\"7ZRNa4NAEIb/y5w1ODP7fe+5hXpoU3oIJQcpMSXak/jfq24Ia0mnJOe9iMI+zLvvrs8AT8eu6ZtjC+FtgLo57Lt+d/iCAFQRlxWX6Gs0QVFgu2GriB1uoYCHtj81+w7CADg/nvtd/z19wmNbn3Yfn9OSFwglsjcFvELQlSpgCwHRjQWQhKC3C1JqnSBKQsjpBaEKEwQriVGMMZl3KXPHblDMptgtjEGbMkacU8U5pFfZnMioOIdt2gGJHRDzeT8pIleAESGbbofEE2WtYjS/msNiNDrPWSFi0380YMUx2i/M9JIwLFZw/eYoOdvVE9VazGYigyq9beb22qxYAc9rZ2S+3BfGiRWQiozxF2Qci/8NYlBN/6jNBskGyQbJBrnDIJ41avLZINkg2SDZIDcbxG3Qa0TmbJBskGyQbJDfBnkffwA=\",\"2023-03-19T16:42:38.1951133Z\"]}]}', extra='')\n"
     ]
    },
    {
     "name": "stdout",
     "output_type": "stream",
     "text": [
      "CarData.z 7Ze9isMwDIDfRXNbJMvy31r6Br3ljg6lFO7gyNDrFvLuTdXhltAEjY4XORh/RJLFR9LDobvffq5/UL56+LhfoIBDx1vkLeUjheJd4bhjzMH5/Akb2J9v4+ke6Bn23+euu/7qBkLBDTiNrNFrlNfzcxkGPWDivJEjnABJYnjPkrLWIsmcbVgEEnpFdf1PN03AHiktuZapNs1krC915kGwToJjK2i4lVeN0QiytTneOkAixlSDtatxWXOmRzbZGjSi73QlmCULV6Sr5FajK5kptemq6aouXcVRV0FiTbqi1egqzXxINl01XdWkq7RDl4Wir0lXa/kZZJTYdNV0VZmuTsMD\n",
      "Position.z 7ZRNa4NAEIb/y5w1ODP7fe+5hXpoU3oIJQcpMSXak/jfq24Ia0mnJOe9iMI+zLvvrs8AT8eu6ZtjC+FtgLo57Lt+d/iCAFQRlxWX6Gs0QVFgu2GriB1uoYCHtj81+w7CADg/nvtd/z19wmNbn3Yfn9OSFwglsjcFvELQlSpgCwHRjQWQhKC3C1JqnSBKQsjpBaEKEwQriVGMMZl3KXPHblDMptgtjEGbMkacU8U5pFfZnMioOIdt2gGJHRDzeT8pIleAESGbbofEE2WtYjS/msNiNDrPWSFi0380YMUx2i/M9JIwLFZw/eYoOdvVE9VazGYigyq9beb22qxYAc9rZ2S+3BfGiRWQiozxF2Qci/8NYlBN/6jNBskGyQbJBrnDIJ41avLZINkg2SDZIDcbxG3Qa0TmbJBskGyQbJDfBnkffwA=\n"
     ]
    },
    {
     "name": "stderr",
     "output_type": "stream",
     "text": [
      "DEBUG:signalr_async.client:Raw message received: WSMessage(type=<WSMsgType.TEXT: 1>, data='{\"C\":\"d-F23263D5-B,0|Df,0|Dg,11|d,A6|p,99E|o,99D|a,1|Y,D|Dh,0|n,1|W,2|c,29|i,1|X,C|k,3|l,1|r,2|Z,1|s,59F\",\"M\":[{\"H\":\"Streaming\",\"M\":\"feed\",\"A\":[\"CarData.z\",\"nZKxDsIwDET/xXOL7DhN26wVfwALiKFClUBCHUq3KP9e6g4sDOWWcxT5Sfb5Eh3HeXoOb4rXROf5TpEcOy1ZS2lPEqJ3UdsDK2to9EIFdf306U4kq3SPfhyHl30wRS7ImaqpN62291pytgaI8yAn/D8oBqIbCjxq2AUKe0Otfsdt0IOgBjk4AmgGnKIgcJJtxxoEFTXHo+mpKnDUgLpa7zPnd14bzKCcb3kB\",\"2023-03-19T16:42:39.0303683Z\"]},{\"H\":\"Streaming\",\"M\":\"feed\",\"A\":[\"Position.z\",\"7ZQ/S8RAEMW/y9SJ7Mzs//5qBVPoiUWQK4JcTi6xCvnuJtnj2Mg5onWasIH98d68Hd4AD6eu6ZtTC/FlgKo5Hrq+Pn5ABFLEpeISQ4U2aooc7hTr4I3bQwG7tj83hw7iADh/Hvu6/5x+4b6tzvXb+3TlCWKJHGwBzxCN0gXsISL6sQCSEAxuQUpjMkRLCHmzIKQwQ1BJjGZMzoLPmX9Mg6I3zX5hLLqcsaKOSjpkVt68yOikwy7PgMQMiPkyT47IEWBCyOXjkPiibHSyFlY6LFqji84KEZP+IQEnypiwMNMhY1iM4PbmaNnbzRc1RvRmE4M63zb799icGAHPd2dkXu4r48UISCfGhisyjsXvDUKog/G8NcjWIFuDbA3yvUFexy8=\",\"2023-03-19T16:42:39.2149583Z\"]}]}', extra='')\n"
     ]
    },
    {
     "name": "stdout",
     "output_type": "stream",
     "text": [
      "CarData.z nZKxDsIwDET/xXOL7DhN26wVfwALiKFClUBCHUq3KP9e6g4sDOWWcxT5Sfb5Eh3HeXoOb4rXROf5TpEcOy1ZS2lPEqJ3UdsDK2to9EIFdf306U4kq3SPfhyHl30wRS7ImaqpN62291pytgaI8yAn/D8oBqIbCjxq2AUKe0Otfsdt0IOgBjk4AmgGnKIgcJJtxxoEFTXHo+mpKnDUgLpa7zPnd14bzKCcb3kB\n",
      "Position.z 7ZQ/S8RAEMW/y9SJ7Mzs//5qBVPoiUWQK4JcTi6xCvnuJtnj2Mg5onWasIH98d68Hd4AD6eu6ZtTC/FlgKo5Hrq+Pn5ABFLEpeISQ4U2aooc7hTr4I3bQwG7tj83hw7iADh/Hvu6/5x+4b6tzvXb+3TlCWKJHGwBzxCN0gXsISL6sQCSEAxuQUpjMkRLCHmzIKQwQ1BJjGZMzoLPmX9Mg6I3zX5hLLqcsaKOSjpkVt68yOikwy7PgMQMiPkyT47IEWBCyOXjkPiibHSyFlY6LFqji84KEZP+IQEnypiwMNMhY1iM4PbmaNnbzRc1RvRmE4M63zb799icGAHPd2dkXu4r48UISCfGhisyjsXvDUKog/G8NcjWIFuDbA3yvUFexy8=\n"
     ]
    },
    {
     "name": "stderr",
     "output_type": "stream",
     "text": [
      "DEBUG:signalr_async.client:Stopping connection with connected state\n",
      "DEBUG:signalr_async.client:Websocket closed\n",
      "DEBUG:signalr_async.client:Session closed\n",
      "DEBUG:signalr_async.client:gather=[None, None, None, None]\n"
     ]
    },
    {
     "ename": "CancelledError",
     "evalue": "",
     "output_type": "error",
     "traceback": [
      "\u001b[1;31m---------------------------------------------------------------------------\u001b[0m",
      "\u001b[1;31mCancelledError\u001b[0m                            Traceback (most recent call last)",
      "Cell \u001b[1;32mIn[1], line 98\u001b[0m, in \u001b[0;36mrun_client\u001b[1;34m()\u001b[0m\n\u001b[0;32m     93\u001b[0m \u001b[39masync\u001b[39;00m \u001b[39mwith\u001b[39;00m F1SignalRClient(\n\u001b[0;32m     94\u001b[0m         _connection_url,\n\u001b[0;32m     95\u001b[0m         [hub],\n\u001b[0;32m     96\u001b[0m         keepalive_interval\u001b[39m=\u001b[39m\u001b[39m5\u001b[39m,\n\u001b[0;32m     97\u001b[0m ) \u001b[39mas\u001b[39;00m client:\n\u001b[1;32m---> 98\u001b[0m     \u001b[39mawait\u001b[39;00m hub\u001b[39m.\u001b[39minvoke(\u001b[39m\"\u001b[39m\u001b[39mSubscribe\u001b[39m\u001b[39m\"\u001b[39m, [\u001b[39m\"\u001b[39m\u001b[39mHeartbeat\u001b[39m\u001b[39m\"\u001b[39m, \u001b[39m\"\u001b[39m\u001b[39mCarData.z\u001b[39m\u001b[39m\"\u001b[39m, \u001b[39m\"\u001b[39m\u001b[39mPosition.z\u001b[39m\u001b[39m\"\u001b[39m,\n\u001b[0;32m     99\u001b[0m                    \u001b[39m\"\u001b[39m\u001b[39mExtrapolatedClock\u001b[39m\u001b[39m\"\u001b[39m, \u001b[39m\"\u001b[39m\u001b[39mTopThree\u001b[39m\u001b[39m\"\u001b[39m, \u001b[39m\"\u001b[39m\u001b[39mRcmSeries\u001b[39m\u001b[39m\"\u001b[39m,\n\u001b[0;32m    100\u001b[0m                    \u001b[39m\"\u001b[39m\u001b[39mTimingStats\u001b[39m\u001b[39m\"\u001b[39m, \u001b[39m\"\u001b[39m\u001b[39mTimingAppData\u001b[39m\u001b[39m\"\u001b[39m,\n\u001b[0;32m    101\u001b[0m                    \u001b[39m\"\u001b[39m\u001b[39mWeatherData\u001b[39m\u001b[39m\"\u001b[39m, \u001b[39m\"\u001b[39m\u001b[39mTrackStatus\u001b[39m\u001b[39m\"\u001b[39m, \u001b[39m\"\u001b[39m\u001b[39mDriverList\u001b[39m\u001b[39m\"\u001b[39m,\n\u001b[0;32m    102\u001b[0m                    \u001b[39m\"\u001b[39m\u001b[39mRaceControlMessages\u001b[39m\u001b[39m\"\u001b[39m, \u001b[39m\"\u001b[39m\u001b[39mSessionInfo\u001b[39m\u001b[39m\"\u001b[39m,\n\u001b[0;32m    103\u001b[0m                    \u001b[39m\"\u001b[39m\u001b[39mSessionData\u001b[39m\u001b[39m\"\u001b[39m, \u001b[39m\"\u001b[39m\u001b[39mLapCount\u001b[39m\u001b[39m\"\u001b[39m, \u001b[39m\"\u001b[39m\u001b[39mTimingData\u001b[39m\u001b[39m\"\u001b[39m])\n\u001b[0;32m    104\u001b[0m     \u001b[39mawait\u001b[39;00m client\u001b[39m.\u001b[39mwait(timeout\u001b[39m=\u001b[39m\u001b[39m5\u001b[39m)\n",
      "File \u001b[1;32mc:\\Users\\blain\\Documents\\GitHub\\F1Data\\venv\\lib\\site-packages\\signalr_async\\hub.py:83\u001b[0m, in \u001b[0;36mHubBase.invoke\u001b[1;34m(self, method, *args)\u001b[0m\n\u001b[0;32m     82\u001b[0m message \u001b[39m=\u001b[39m \u001b[39mself\u001b[39m\u001b[39m.\u001b[39m_create_invocation_message(invocation_id, method, args)\n\u001b[1;32m---> 83\u001b[0m \u001b[39mreturn\u001b[39;00m \u001b[39mawait\u001b[39;00m \u001b[39mself\u001b[39m\u001b[39m.\u001b[39m_invoke_manager\u001b[39m.\u001b[39minvoke_and_wait_for_result(\n\u001b[0;32m     84\u001b[0m     invocation_id, message\n\u001b[0;32m     85\u001b[0m )\n",
      "File \u001b[1;32mc:\\Users\\blain\\Documents\\GitHub\\F1Data\\venv\\lib\\site-packages\\signalr_async\\invoke_manager.py:38\u001b[0m, in \u001b[0;36mInvokeManager.invoke_and_wait_for_result\u001b[1;34m(self, invocation_id, message)\u001b[0m\n\u001b[0;32m     37\u001b[0m \u001b[39mawait\u001b[39;00m \u001b[39mself\u001b[39m\u001b[39m.\u001b[39minvoke(message)\n\u001b[1;32m---> 38\u001b[0m result \u001b[39m=\u001b[39m \u001b[39mawait\u001b[39;00m \u001b[39mself\u001b[39m\u001b[39m.\u001b[39m_wait_for(invocation_id)\n\u001b[0;32m     39\u001b[0m \u001b[39mself\u001b[39m\u001b[39m.\u001b[39minvocation_events\u001b[39m.\u001b[39mpop(invocation_id)\n",
      "File \u001b[1;32mc:\\Users\\blain\\Documents\\GitHub\\F1Data\\venv\\lib\\site-packages\\signalr_async\\invoke_manager.py:28\u001b[0m, in \u001b[0;36mInvokeManager._wait_for\u001b[1;34m(self, invocation_id)\u001b[0m\n\u001b[0;32m     27\u001b[0m     \u001b[39mraise\u001b[39;00m \u001b[39mRuntimeError\u001b[39;00m(\u001b[39mf\u001b[39m\u001b[39m\"\u001b[39m\u001b[39mInvocation \u001b[39m\u001b[39m{\u001b[39;00minvocation_id\u001b[39m}\u001b[39;00m\u001b[39m not found\u001b[39m\u001b[39m\"\u001b[39m)\n\u001b[1;32m---> 28\u001b[0m \u001b[39mawait\u001b[39;00m \u001b[39mself\u001b[39m\u001b[39m.\u001b[39minvocation_events[invocation_id]\u001b[39m.\u001b[39mwait()\n\u001b[0;32m     29\u001b[0m \u001b[39mif\u001b[39;00m invocation_id \u001b[39min\u001b[39;00m \u001b[39mself\u001b[39m\u001b[39m.\u001b[39minvocation_exceptions:\n",
      "File \u001b[1;32m~\\anaconda3\\lib\\asyncio\\locks.py:226\u001b[0m, in \u001b[0;36mEvent.wait\u001b[1;34m(self)\u001b[0m\n\u001b[0;32m    225\u001b[0m \u001b[39mtry\u001b[39;00m:\n\u001b[1;32m--> 226\u001b[0m     \u001b[39mawait\u001b[39;00m fut\n\u001b[0;32m    227\u001b[0m     \u001b[39mreturn\u001b[39;00m \u001b[39mTrue\u001b[39;00m\n",
      "\u001b[1;31mCancelledError\u001b[0m: ",
      "\nDuring handling of the above exception, another exception occurred:\n",
      "\u001b[1;31mCancelledError\u001b[0m                            Traceback (most recent call last)",
      "Cell \u001b[1;32mIn[2], line 3\u001b[0m\n\u001b[0;32m      1\u001b[0m \u001b[39m# https://github.com/iebb/PixooLiveTiming\u001b[39;00m\n\u001b[1;32m----> 3\u001b[0m \u001b[39mawait\u001b[39;00m asyncio\u001b[39m.\u001b[39mgather(\n\u001b[0;32m      4\u001b[0m         run_client(),\n\u001b[0;32m      5\u001b[0m         \u001b[39m# s.heartbeat()\u001b[39;00m\n\u001b[0;32m      6\u001b[0m     )\n",
      "\u001b[1;31mCancelledError\u001b[0m: "
     ]
    }
   ],
   "source": [
    "# https://github.com/iebb/PixooLiveTiming\n",
    "\n",
    "await asyncio.gather(\n",
    "        run_client(),\n",
    "        # s.heartbeat()\n",
    "    )\n"
   ]
  },
  {
   "cell_type": "code",
   "execution_count": 5,
   "metadata": {},
   "outputs": [
    {
     "data": {
      "text/plain": [
       "{'11': {'RacingNumber': '11',\n",
       "  'BroadcastName': 'S PEREZ',\n",
       "  'FullName': 'Sergio PEREZ',\n",
       "  'Tla': 'PER',\n",
       "  'Line': 1,\n",
       "  'TeamName': 'Red Bull Racing',\n",
       "  'TeamColour': '3671C6',\n",
       "  'FirstName': 'Sergio',\n",
       "  'LastName': 'Perez',\n",
       "  'Reference': 'SERPER01',\n",
       "  'CountryCode': 'MEX',\n",
       "  'HeadshotUrl': 'https://www.formula1.com/content/dam/fom-website/drivers/S/SERPER01_Sergio_Perez/serper01.png.transform/1col/image.png'},\n",
       " '14': {'RacingNumber': '14',\n",
       "  'BroadcastName': 'F ALONSO',\n",
       "  'FullName': 'Fernando ALONSO',\n",
       "  'Tla': 'ALO',\n",
       "  'Line': 2,\n",
       "  'TeamName': 'Aston Martin',\n",
       "  'TeamColour': '358C75',\n",
       "  'FirstName': 'Fernando',\n",
       "  'LastName': 'Alonso',\n",
       "  'Reference': 'FERALO01',\n",
       "  'CountryCode': 'ESP',\n",
       "  'HeadshotUrl': 'https://www.formula1.com/content/dam/fom-website/drivers/F/FERALO01_Fernando_Alonso/feralo01.png.transform/1col/image.png'},\n",
       " '63': {'RacingNumber': '63',\n",
       "  'BroadcastName': 'G RUSSELL',\n",
       "  'FullName': 'George RUSSELL',\n",
       "  'Tla': 'RUS',\n",
       "  'Line': 3,\n",
       "  'TeamName': 'Mercedes',\n",
       "  'TeamColour': '6CD3BF',\n",
       "  'FirstName': 'George',\n",
       "  'LastName': 'Russell',\n",
       "  'Reference': 'GEORUS01',\n",
       "  'CountryCode': 'GBR',\n",
       "  'HeadshotUrl': 'https://www.formula1.com/content/dam/fom-website/drivers/G/GEORUS01_George_Russell/georus01.png.transform/1col/image.png'},\n",
       " '55': {'RacingNumber': '55',\n",
       "  'BroadcastName': 'C SAINZ',\n",
       "  'FullName': 'Carlos SAINZ',\n",
       "  'Tla': 'SAI',\n",
       "  'Line': 4,\n",
       "  'TeamName': 'Ferrari',\n",
       "  'TeamColour': 'F91536',\n",
       "  'FirstName': 'Carlos',\n",
       "  'LastName': 'Sainz',\n",
       "  'Reference': 'CARSAI01',\n",
       "  'CountryCode': 'ESP',\n",
       "  'HeadshotUrl': 'https://www.formula1.com/content/dam/fom-website/drivers/C/CARSAI01_Carlos_Sainz/carsai01.png.transform/1col/image.png'},\n",
       " '18': {'RacingNumber': '18',\n",
       "  'BroadcastName': 'L STROLL',\n",
       "  'FullName': 'Lance STROLL',\n",
       "  'Tla': 'STR',\n",
       "  'Line': 5,\n",
       "  'TeamName': 'Aston Martin',\n",
       "  'TeamColour': '358C75',\n",
       "  'FirstName': 'Lance',\n",
       "  'LastName': 'Stroll',\n",
       "  'Reference': 'LANSTR01',\n",
       "  'CountryCode': 'CAN',\n",
       "  'HeadshotUrl': 'https://www.formula1.com/content/dam/fom-website/drivers/L/LANSTR01_Lance_Stroll/lanstr01.png.transform/1col/image.png'},\n",
       " '31': {'RacingNumber': '31',\n",
       "  'BroadcastName': 'E OCON',\n",
       "  'FullName': 'Esteban OCON',\n",
       "  'Tla': 'OCO',\n",
       "  'Line': 6,\n",
       "  'TeamName': 'Alpine',\n",
       "  'TeamColour': '2293D1',\n",
       "  'FirstName': 'Esteban',\n",
       "  'LastName': 'Ocon',\n",
       "  'Reference': 'ESTOCO01',\n",
       "  'CountryCode': 'FRA',\n",
       "  'HeadshotUrl': 'https://www.formula1.com/content/dam/fom-website/drivers/E/ESTOCO01_Esteban_Ocon/estoco01.png.transform/1col/image.png'},\n",
       " '44': {'RacingNumber': '44',\n",
       "  'BroadcastName': 'L HAMILTON',\n",
       "  'FullName': 'Lewis HAMILTON',\n",
       "  'Tla': 'HAM',\n",
       "  'Line': 7,\n",
       "  'TeamName': 'Mercedes',\n",
       "  'TeamColour': '6CD3BF',\n",
       "  'FirstName': 'Lewis',\n",
       "  'LastName': 'Hamilton',\n",
       "  'Reference': 'LEWHAM01',\n",
       "  'CountryCode': 'GBR',\n",
       "  'HeadshotUrl': 'https://www.formula1.com/content/dam/fom-website/drivers/L/LEWHAM01_Lewis_Hamilton/lewham01.png.transform/1col/image.png'},\n",
       " '81': {'RacingNumber': '81',\n",
       "  'BroadcastName': 'O PIASTRI',\n",
       "  'FullName': 'Oscar PIASTRI',\n",
       "  'Tla': 'PIA',\n",
       "  'Line': 8,\n",
       "  'TeamName': 'McLaren',\n",
       "  'TeamColour': 'F58020',\n",
       "  'FirstName': 'Oscar',\n",
       "  'LastName': 'Piastri',\n",
       "  'Reference': 'OSCPIA01',\n",
       "  'CountryCode': 'AUS',\n",
       "  'HeadshotUrl': 'https://www.formula1.com/content/dam/fom-website/drivers/O/OSCPIA01_Oscar_Piastri/oscpia01.png.transform/1col/image.png'},\n",
       " '10': {'RacingNumber': '10',\n",
       "  'BroadcastName': 'P GASLY',\n",
       "  'FullName': 'Pierre GASLY',\n",
       "  'Tla': 'GAS',\n",
       "  'Line': 9,\n",
       "  'TeamName': 'Alpine',\n",
       "  'TeamColour': '2293D1',\n",
       "  'FirstName': 'Pierre',\n",
       "  'LastName': 'Gasly',\n",
       "  'Reference': 'PIEGAS01',\n",
       "  'CountryCode': 'FRA',\n",
       "  'HeadshotUrl': 'https://www.formula1.com/content/dam/fom-website/drivers/P/PIEGAS01_Pierre_Gasly/piegas01.png.transform/1col/image.png'},\n",
       " '27': {'RacingNumber': '27',\n",
       "  'BroadcastName': 'N HULKENBERG',\n",
       "  'FullName': 'Nico HULKENBERG',\n",
       "  'Tla': 'HUL',\n",
       "  'Line': 10,\n",
       "  'TeamName': 'Haas F1 Team',\n",
       "  'TeamColour': 'B6BABD',\n",
       "  'FirstName': 'Nico',\n",
       "  'LastName': 'Hulkenberg',\n",
       "  'Reference': 'NICHUL01',\n",
       "  'CountryCode': 'GER',\n",
       "  'HeadshotUrl': 'https://www.formula1.com/content/dam/fom-website/drivers/N/NICHUL01_Nico_Hulkenberg/nichul01.png.transform/1col/image.png'},\n",
       " '24': {'RacingNumber': '24',\n",
       "  'BroadcastName': 'G ZHOU',\n",
       "  'FullName': 'ZHOU Guanyu',\n",
       "  'Tla': 'ZHO',\n",
       "  'Line': 11,\n",
       "  'TeamName': 'Alfa Romeo',\n",
       "  'TeamColour': 'C92D4B',\n",
       "  'FirstName': 'Guanyu',\n",
       "  'LastName': 'Zhou',\n",
       "  'Reference': 'GUAZHO01',\n",
       "  'NameFormat': 'LastNameIsPrimary',\n",
       "  'CountryCode': 'CHN',\n",
       "  'HeadshotUrl': 'https://www.formula1.com/content/dam/fom-website/drivers/G/GUAZHO01_Guanyu_Zhou/guazho01.png.transform/1col/image.png'},\n",
       " '16': {'RacingNumber': '16',\n",
       "  'BroadcastName': 'C LECLERC',\n",
       "  'FullName': 'Charles LECLERC',\n",
       "  'Tla': 'LEC',\n",
       "  'Line': 12,\n",
       "  'TeamName': 'Ferrari',\n",
       "  'TeamColour': 'F91536',\n",
       "  'FirstName': 'Charles',\n",
       "  'LastName': 'Leclerc',\n",
       "  'Reference': 'CHALEC01',\n",
       "  'CountryCode': 'MON',\n",
       "  'HeadshotUrl': 'https://www.formula1.com/content/dam/fom-website/drivers/C/CHALEC01_Charles_Leclerc/chalec01.png.transform/1col/image.png'},\n",
       " '20': {'RacingNumber': '20',\n",
       "  'BroadcastName': 'K MAGNUSSEN',\n",
       "  'FullName': 'Kevin MAGNUSSEN',\n",
       "  'Tla': 'MAG',\n",
       "  'Line': 13,\n",
       "  'TeamName': 'Haas F1 Team',\n",
       "  'TeamColour': 'B6BABD',\n",
       "  'FirstName': 'Kevin',\n",
       "  'LastName': 'Magnussen',\n",
       "  'Reference': 'KEVMAG01',\n",
       "  'CountryCode': 'DEN',\n",
       "  'HeadshotUrl': 'https://www.formula1.com/content/dam/fom-website/drivers/K/KEVMAG01_Kevin_Magnussen/kevmag01.png.transform/1col/image.png'},\n",
       " '77': {'RacingNumber': '77',\n",
       "  'BroadcastName': 'V BOTTAS',\n",
       "  'FullName': 'Valtteri BOTTAS',\n",
       "  'Tla': 'BOT',\n",
       "  'Line': 14,\n",
       "  'TeamName': 'Alfa Romeo',\n",
       "  'TeamColour': 'C92D4B',\n",
       "  'FirstName': 'Valtteri',\n",
       "  'LastName': 'Bottas',\n",
       "  'Reference': 'VALBOT01',\n",
       "  'CountryCode': 'FIN',\n",
       "  'HeadshotUrl': 'https://www.formula1.com/content/dam/fom-website/drivers/V/VALBOT01_Valtteri_Bottas/valbot01.png.transform/1col/image.png'},\n",
       " '1': {'RacingNumber': '1',\n",
       "  'BroadcastName': 'M VERSTAPPEN',\n",
       "  'FullName': 'Max VERSTAPPEN',\n",
       "  'Tla': 'VER',\n",
       "  'Line': 15,\n",
       "  'TeamName': 'Red Bull Racing',\n",
       "  'TeamColour': '3671C6',\n",
       "  'FirstName': 'Max',\n",
       "  'LastName': 'Verstappen',\n",
       "  'Reference': 'MAXVER01',\n",
       "  'CountryCode': 'NED',\n",
       "  'HeadshotUrl': 'https://www.formula1.com/content/dam/fom-website/drivers/M/MAXVER01_Max_Verstappen/maxver01.png.transform/1col/image.png'},\n",
       " '22': {'RacingNumber': '22',\n",
       "  'BroadcastName': 'Y TSUNODA',\n",
       "  'FullName': 'Yuki TSUNODA',\n",
       "  'Tla': 'TSU',\n",
       "  'Line': 16,\n",
       "  'TeamName': 'AlphaTauri',\n",
       "  'TeamColour': '5E8FAA',\n",
       "  'FirstName': 'Yuki',\n",
       "  'LastName': 'Tsunoda',\n",
       "  'Reference': 'YUKTSU01',\n",
       "  'CountryCode': 'JPN',\n",
       "  'HeadshotUrl': 'https://www.formula1.com/content/dam/fom-website/drivers/Y/YUKTSU01_Yuki_Tsunoda/yuktsu01.png.transform/1col/image.png'},\n",
       " '23': {'RacingNumber': '23',\n",
       "  'BroadcastName': 'A ALBON',\n",
       "  'FullName': 'Alexander ALBON',\n",
       "  'Tla': 'ALB',\n",
       "  'Line': 17,\n",
       "  'TeamName': 'Williams',\n",
       "  'TeamColour': '37BEDD',\n",
       "  'FirstName': 'Alexander',\n",
       "  'LastName': 'Albon',\n",
       "  'Reference': 'ALEALB01',\n",
       "  'CountryCode': 'THA',\n",
       "  'HeadshotUrl': 'https://www.formula1.com/content/dam/fom-website/drivers/A/ALEALB01_Alexander_Albon/alealb01.png.transform/1col/image.png'},\n",
       " '21': {'RacingNumber': '21',\n",
       "  'BroadcastName': 'N DE VRIES',\n",
       "  'FullName': 'Nyck DE VRIES',\n",
       "  'Tla': 'DEV',\n",
       "  'Line': 18,\n",
       "  'TeamName': 'AlphaTauri',\n",
       "  'TeamColour': '5E8FAA',\n",
       "  'FirstName': 'Nyck',\n",
       "  'LastName': 'De Vries',\n",
       "  'Reference': 'NYCDEV01',\n",
       "  'CountryCode': 'NED',\n",
       "  'HeadshotUrl': 'https://www.formula1.com/content/dam/fom-website/drivers/N/NYCDEV01_Nyck_De%20Vries/nycdev01.png.transform/1col/image.png'},\n",
       " '4': {'RacingNumber': '4',\n",
       "  'BroadcastName': 'L NORRIS',\n",
       "  'FullName': 'Lando NORRIS',\n",
       "  'Tla': 'NOR',\n",
       "  'Line': 19,\n",
       "  'TeamName': 'McLaren',\n",
       "  'TeamColour': 'F58020',\n",
       "  'FirstName': 'Lando',\n",
       "  'LastName': 'Norris',\n",
       "  'Reference': 'LANNOR01',\n",
       "  'CountryCode': 'GBR',\n",
       "  'HeadshotUrl': 'https://www.formula1.com/content/dam/fom-website/drivers/L/LANNOR01_Lando_Norris/lannor01.png.transform/1col/image.png'},\n",
       " '2': {'RacingNumber': '2',\n",
       "  'BroadcastName': 'L SARGEANT',\n",
       "  'FullName': 'Logan SARGEANT',\n",
       "  'Tla': 'SAR',\n",
       "  'Line': 20,\n",
       "  'TeamName': 'Williams',\n",
       "  'TeamColour': '37BEDD',\n",
       "  'FirstName': 'Logan',\n",
       "  'LastName': 'Sargeant',\n",
       "  'Reference': 'LOGSAR01',\n",
       "  'CountryCode': 'USA',\n",
       "  'HeadshotUrl': 'https://www.formula1.com/content/dam/fom-website/drivers/L/LOGSAR01_Logan_Sargeant/logsar01.png.transform/1col/image.png'},\n",
       " '_kf': True}"
      ]
     },
     "execution_count": 5,
     "metadata": {},
     "output_type": "execute_result"
    }
   ],
   "source": [
    "F1SignalRClient.driver_list"
   ]
  },
  {
   "cell_type": "code",
   "execution_count": 6,
   "metadata": {},
   "outputs": [
    {
     "data": {
      "text/plain": [
       "{'Lines': {'11': {'GapToLeader': 'LAP 1',\n",
       "   'IntervalToPositionAhead': {'Value': 'LAP 1', 'Catching': False},\n",
       "   'Line': 1,\n",
       "   'Position': '1',\n",
       "   'ShowPosition': True,\n",
       "   'RacingNumber': '11',\n",
       "   'Retired': False,\n",
       "   'InPit': False,\n",
       "   'PitOut': False,\n",
       "   'Stopped': False,\n",
       "   'Status': 64,\n",
       "   'Sectors': [{'Stopped': False,\n",
       "     'Value': '',\n",
       "     'Status': 0,\n",
       "     'OverallFastest': False,\n",
       "     'PersonalFastest': False,\n",
       "     'Segments': [{'Status': 2064},\n",
       "      {'Status': 2064},\n",
       "      {'Status': 2064},\n",
       "      {'Status': 2048},\n",
       "      {'Status': 2048},\n",
       "      {'Status': 2048},\n",
       "      {'Status': 2048},\n",
       "      {'Status': 2048},\n",
       "      {'Status': 2048}]},\n",
       "    {'Stopped': False,\n",
       "     'Value': '',\n",
       "     'Status': 0,\n",
       "     'OverallFastest': False,\n",
       "     'PersonalFastest': False,\n",
       "     'Segments': [{'Status': 2048},\n",
       "      {'Status': 2048},\n",
       "      {'Status': 2048},\n",
       "      {'Status': 2048},\n",
       "      {'Status': 2048},\n",
       "      {'Status': 2048},\n",
       "      {'Status': 2048}]},\n",
       "    {'Stopped': False,\n",
       "     'Value': '',\n",
       "     'Status': 0,\n",
       "     'OverallFastest': False,\n",
       "     'PersonalFastest': False,\n",
       "     'Segments': [{'Status': 2048},\n",
       "      {'Status': 2048},\n",
       "      {'Status': 2048},\n",
       "      {'Status': 2048},\n",
       "      {'Status': 2048},\n",
       "      {'Status': 2048},\n",
       "      {'Status': 2048},\n",
       "      {'Status': 2048},\n",
       "      {'Status': 2048}]}],\n",
       "   'Speeds': {'I1': {'Value': '',\n",
       "     'Status': 0,\n",
       "     'OverallFastest': False,\n",
       "     'PersonalFastest': False},\n",
       "    'I2': {'Value': '',\n",
       "     'Status': 0,\n",
       "     'OverallFastest': False,\n",
       "     'PersonalFastest': False},\n",
       "    'FL': {'Value': '',\n",
       "     'Status': 0,\n",
       "     'OverallFastest': False,\n",
       "     'PersonalFastest': False},\n",
       "    'ST': {'Value': '',\n",
       "     'Status': 0,\n",
       "     'OverallFastest': False,\n",
       "     'PersonalFastest': False}},\n",
       "   'BestLapTime': {'Value': ''},\n",
       "   'LastLapTime': {'Value': '',\n",
       "    'Status': 0,\n",
       "    'OverallFastest': False,\n",
       "    'PersonalFastest': False}},\n",
       "  '14': {'GapToLeader': '',\n",
       "   'IntervalToPositionAhead': {'Value': '', 'Catching': False},\n",
       "   'Line': 2,\n",
       "   'Position': '2',\n",
       "   'ShowPosition': True,\n",
       "   'RacingNumber': '14',\n",
       "   'Retired': False,\n",
       "   'InPit': False,\n",
       "   'PitOut': False,\n",
       "   'Stopped': False,\n",
       "   'Status': 64,\n",
       "   'Sectors': [{'Stopped': False,\n",
       "     'Value': '',\n",
       "     'Status': 0,\n",
       "     'OverallFastest': False,\n",
       "     'PersonalFastest': False,\n",
       "     'Segments': [{'Status': 2064},\n",
       "      {'Status': 2064},\n",
       "      {'Status': 2064},\n",
       "      {'Status': 2048},\n",
       "      {'Status': 2048},\n",
       "      {'Status': 2048},\n",
       "      {'Status': 2048},\n",
       "      {'Status': 2048},\n",
       "      {'Status': 2048}]},\n",
       "    {'Stopped': False,\n",
       "     'Value': '',\n",
       "     'Status': 0,\n",
       "     'OverallFastest': False,\n",
       "     'PersonalFastest': False,\n",
       "     'Segments': [{'Status': 2048},\n",
       "      {'Status': 2048},\n",
       "      {'Status': 2048},\n",
       "      {'Status': 2048},\n",
       "      {'Status': 2048},\n",
       "      {'Status': 2048},\n",
       "      {'Status': 2048}]},\n",
       "    {'Stopped': False,\n",
       "     'Value': '',\n",
       "     'Status': 0,\n",
       "     'OverallFastest': False,\n",
       "     'PersonalFastest': False,\n",
       "     'Segments': [{'Status': 2048},\n",
       "      {'Status': 2048},\n",
       "      {'Status': 2048},\n",
       "      {'Status': 2048},\n",
       "      {'Status': 2048},\n",
       "      {'Status': 2048},\n",
       "      {'Status': 2048},\n",
       "      {'Status': 2048},\n",
       "      {'Status': 2048}]}],\n",
       "   'Speeds': {'I1': {'Value': '',\n",
       "     'Status': 0,\n",
       "     'OverallFastest': False,\n",
       "     'PersonalFastest': False},\n",
       "    'I2': {'Value': '',\n",
       "     'Status': 0,\n",
       "     'OverallFastest': False,\n",
       "     'PersonalFastest': False},\n",
       "    'FL': {'Value': '',\n",
       "     'Status': 0,\n",
       "     'OverallFastest': False,\n",
       "     'PersonalFastest': False},\n",
       "    'ST': {'Value': '',\n",
       "     'Status': 0,\n",
       "     'OverallFastest': False,\n",
       "     'PersonalFastest': False}},\n",
       "   'BestLapTime': {'Value': ''},\n",
       "   'LastLapTime': {'Value': '',\n",
       "    'Status': 0,\n",
       "    'OverallFastest': False,\n",
       "    'PersonalFastest': False}},\n",
       "  '63': {'GapToLeader': '',\n",
       "   'IntervalToPositionAhead': {'Value': '', 'Catching': False},\n",
       "   'Line': 3,\n",
       "   'Position': '3',\n",
       "   'ShowPosition': True,\n",
       "   'RacingNumber': '63',\n",
       "   'Retired': False,\n",
       "   'InPit': False,\n",
       "   'PitOut': False,\n",
       "   'Stopped': False,\n",
       "   'Status': 64,\n",
       "   'Sectors': [{'Stopped': False,\n",
       "     'Value': '',\n",
       "     'Status': 0,\n",
       "     'OverallFastest': False,\n",
       "     'PersonalFastest': False,\n",
       "     'Segments': [{'Status': 2064},\n",
       "      {'Status': 2064},\n",
       "      {'Status': 2064},\n",
       "      {'Status': 2048},\n",
       "      {'Status': 2048},\n",
       "      {'Status': 2048},\n",
       "      {'Status': 2048},\n",
       "      {'Status': 2048},\n",
       "      {'Status': 2048}]},\n",
       "    {'Stopped': False,\n",
       "     'Value': '',\n",
       "     'Status': 0,\n",
       "     'OverallFastest': False,\n",
       "     'PersonalFastest': False,\n",
       "     'Segments': [{'Status': 2048},\n",
       "      {'Status': 2048},\n",
       "      {'Status': 2048},\n",
       "      {'Status': 2048},\n",
       "      {'Status': 2048},\n",
       "      {'Status': 2048},\n",
       "      {'Status': 2048}]},\n",
       "    {'Stopped': False,\n",
       "     'Value': '',\n",
       "     'Status': 0,\n",
       "     'OverallFastest': False,\n",
       "     'PersonalFastest': False,\n",
       "     'Segments': [{'Status': 2048},\n",
       "      {'Status': 2048},\n",
       "      {'Status': 2048},\n",
       "      {'Status': 2048},\n",
       "      {'Status': 2048},\n",
       "      {'Status': 2048},\n",
       "      {'Status': 2048},\n",
       "      {'Status': 2048},\n",
       "      {'Status': 0}]}],\n",
       "   'Speeds': {'I1': {'Value': '',\n",
       "     'Status': 0,\n",
       "     'OverallFastest': False,\n",
       "     'PersonalFastest': False},\n",
       "    'I2': {'Value': '',\n",
       "     'Status': 0,\n",
       "     'OverallFastest': False,\n",
       "     'PersonalFastest': False},\n",
       "    'FL': {'Value': '',\n",
       "     'Status': 0,\n",
       "     'OverallFastest': False,\n",
       "     'PersonalFastest': False},\n",
       "    'ST': {'Value': '',\n",
       "     'Status': 0,\n",
       "     'OverallFastest': False,\n",
       "     'PersonalFastest': False}},\n",
       "   'BestLapTime': {'Value': ''},\n",
       "   'LastLapTime': {'Value': '',\n",
       "    'Status': 0,\n",
       "    'OverallFastest': False,\n",
       "    'PersonalFastest': False}},\n",
       "  '55': {'GapToLeader': '',\n",
       "   'IntervalToPositionAhead': {'Value': '', 'Catching': False},\n",
       "   'Line': 4,\n",
       "   'Position': '4',\n",
       "   'ShowPosition': True,\n",
       "   'RacingNumber': '55',\n",
       "   'Retired': False,\n",
       "   'InPit': False,\n",
       "   'PitOut': False,\n",
       "   'Stopped': False,\n",
       "   'Status': 64,\n",
       "   'Sectors': [{'Stopped': False,\n",
       "     'Value': '',\n",
       "     'Status': 0,\n",
       "     'OverallFastest': False,\n",
       "     'PersonalFastest': False,\n",
       "     'Segments': [{'Status': 2064},\n",
       "      {'Status': 2064},\n",
       "      {'Status': 2064},\n",
       "      {'Status': 2048},\n",
       "      {'Status': 2048},\n",
       "      {'Status': 2048},\n",
       "      {'Status': 2048},\n",
       "      {'Status': 2048},\n",
       "      {'Status': 2048}]},\n",
       "    {'Stopped': False,\n",
       "     'Value': '',\n",
       "     'Status': 0,\n",
       "     'OverallFastest': False,\n",
       "     'PersonalFastest': False,\n",
       "     'Segments': [{'Status': 2048},\n",
       "      {'Status': 2048},\n",
       "      {'Status': 2048},\n",
       "      {'Status': 2048},\n",
       "      {'Status': 2048},\n",
       "      {'Status': 2048},\n",
       "      {'Status': 2048}]},\n",
       "    {'Stopped': False,\n",
       "     'Value': '',\n",
       "     'Status': 0,\n",
       "     'OverallFastest': False,\n",
       "     'PersonalFastest': False,\n",
       "     'Segments': [{'Status': 2048},\n",
       "      {'Status': 2048},\n",
       "      {'Status': 2048},\n",
       "      {'Status': 2048},\n",
       "      {'Status': 2048},\n",
       "      {'Status': 2048},\n",
       "      {'Status': 2048},\n",
       "      {'Status': 2048},\n",
       "      {'Status': 2048}]}],\n",
       "   'Speeds': {'I1': {'Value': '',\n",
       "     'Status': 0,\n",
       "     'OverallFastest': False,\n",
       "     'PersonalFastest': False},\n",
       "    'I2': {'Value': '',\n",
       "     'Status': 0,\n",
       "     'OverallFastest': False,\n",
       "     'PersonalFastest': False},\n",
       "    'FL': {'Value': '',\n",
       "     'Status': 0,\n",
       "     'OverallFastest': False,\n",
       "     'PersonalFastest': False},\n",
       "    'ST': {'Value': '',\n",
       "     'Status': 0,\n",
       "     'OverallFastest': False,\n",
       "     'PersonalFastest': False}},\n",
       "   'BestLapTime': {'Value': ''},\n",
       "   'LastLapTime': {'Value': '',\n",
       "    'Status': 0,\n",
       "    'OverallFastest': False,\n",
       "    'PersonalFastest': False}},\n",
       "  '18': {'GapToLeader': '',\n",
       "   'IntervalToPositionAhead': {'Value': '', 'Catching': False},\n",
       "   'Line': 5,\n",
       "   'Position': '5',\n",
       "   'ShowPosition': True,\n",
       "   'RacingNumber': '18',\n",
       "   'Retired': False,\n",
       "   'InPit': False,\n",
       "   'PitOut': False,\n",
       "   'Stopped': False,\n",
       "   'Status': 64,\n",
       "   'Sectors': [{'Stopped': False,\n",
       "     'Value': '',\n",
       "     'Status': 0,\n",
       "     'OverallFastest': False,\n",
       "     'PersonalFastest': False,\n",
       "     'Segments': [{'Status': 2064},\n",
       "      {'Status': 2064},\n",
       "      {'Status': 2064},\n",
       "      {'Status': 2048},\n",
       "      {'Status': 2048},\n",
       "      {'Status': 2048},\n",
       "      {'Status': 2048},\n",
       "      {'Status': 2048},\n",
       "      {'Status': 2048}]},\n",
       "    {'Stopped': False,\n",
       "     'Value': '',\n",
       "     'Status': 0,\n",
       "     'OverallFastest': False,\n",
       "     'PersonalFastest': False,\n",
       "     'Segments': [{'Status': 2048},\n",
       "      {'Status': 2048},\n",
       "      {'Status': 2048},\n",
       "      {'Status': 2048},\n",
       "      {'Status': 2048},\n",
       "      {'Status': 2048},\n",
       "      {'Status': 2048}]},\n",
       "    {'Stopped': False,\n",
       "     'Value': '',\n",
       "     'Status': 0,\n",
       "     'OverallFastest': False,\n",
       "     'PersonalFastest': False,\n",
       "     'Segments': [{'Status': 2048},\n",
       "      {'Status': 2048},\n",
       "      {'Status': 2048},\n",
       "      {'Status': 2048},\n",
       "      {'Status': 2048},\n",
       "      {'Status': 2048},\n",
       "      {'Status': 2048},\n",
       "      {'Status': 2048},\n",
       "      {'Status': 2048}]}],\n",
       "   'Speeds': {'I1': {'Value': '',\n",
       "     'Status': 0,\n",
       "     'OverallFastest': False,\n",
       "     'PersonalFastest': False},\n",
       "    'I2': {'Value': '',\n",
       "     'Status': 0,\n",
       "     'OverallFastest': False,\n",
       "     'PersonalFastest': False},\n",
       "    'FL': {'Value': '',\n",
       "     'Status': 0,\n",
       "     'OverallFastest': False,\n",
       "     'PersonalFastest': False},\n",
       "    'ST': {'Value': '',\n",
       "     'Status': 0,\n",
       "     'OverallFastest': False,\n",
       "     'PersonalFastest': False}},\n",
       "   'BestLapTime': {'Value': ''},\n",
       "   'LastLapTime': {'Value': '',\n",
       "    'Status': 0,\n",
       "    'OverallFastest': False,\n",
       "    'PersonalFastest': False}},\n",
       "  '31': {'GapToLeader': '',\n",
       "   'IntervalToPositionAhead': {'Value': '', 'Catching': False},\n",
       "   'Line': 6,\n",
       "   'Position': '6',\n",
       "   'ShowPosition': True,\n",
       "   'RacingNumber': '31',\n",
       "   'Retired': False,\n",
       "   'InPit': False,\n",
       "   'PitOut': False,\n",
       "   'Stopped': False,\n",
       "   'Status': 64,\n",
       "   'Sectors': [{'Stopped': False,\n",
       "     'Value': '',\n",
       "     'Status': 0,\n",
       "     'OverallFastest': False,\n",
       "     'PersonalFastest': False,\n",
       "     'Segments': [{'Status': 2064},\n",
       "      {'Status': 2064},\n",
       "      {'Status': 2064},\n",
       "      {'Status': 2048},\n",
       "      {'Status': 2048},\n",
       "      {'Status': 2048},\n",
       "      {'Status': 2048},\n",
       "      {'Status': 2048},\n",
       "      {'Status': 2048}]},\n",
       "    {'Stopped': False,\n",
       "     'Value': '',\n",
       "     'Status': 0,\n",
       "     'OverallFastest': False,\n",
       "     'PersonalFastest': False,\n",
       "     'Segments': [{'Status': 2048},\n",
       "      {'Status': 2048},\n",
       "      {'Status': 2048},\n",
       "      {'Status': 2048},\n",
       "      {'Status': 2048},\n",
       "      {'Status': 2048},\n",
       "      {'Status': 2048}]},\n",
       "    {'Stopped': False,\n",
       "     'Value': '',\n",
       "     'Status': 0,\n",
       "     'OverallFastest': False,\n",
       "     'PersonalFastest': False,\n",
       "     'Segments': [{'Status': 2048},\n",
       "      {'Status': 2048},\n",
       "      {'Status': 2048},\n",
       "      {'Status': 2048},\n",
       "      {'Status': 2048},\n",
       "      {'Status': 2048},\n",
       "      {'Status': 2048},\n",
       "      {'Status': 2048},\n",
       "      {'Status': 2048}]}],\n",
       "   'Speeds': {'I1': {'Value': '',\n",
       "     'Status': 0,\n",
       "     'OverallFastest': False,\n",
       "     'PersonalFastest': False},\n",
       "    'I2': {'Value': '',\n",
       "     'Status': 0,\n",
       "     'OverallFastest': False,\n",
       "     'PersonalFastest': False},\n",
       "    'FL': {'Value': '',\n",
       "     'Status': 0,\n",
       "     'OverallFastest': False,\n",
       "     'PersonalFastest': False},\n",
       "    'ST': {'Value': '',\n",
       "     'Status': 0,\n",
       "     'OverallFastest': False,\n",
       "     'PersonalFastest': False}},\n",
       "   'BestLapTime': {'Value': ''},\n",
       "   'LastLapTime': {'Value': '',\n",
       "    'Status': 0,\n",
       "    'OverallFastest': False,\n",
       "    'PersonalFastest': False}},\n",
       "  '44': {'GapToLeader': '',\n",
       "   'IntervalToPositionAhead': {'Value': '', 'Catching': False},\n",
       "   'Line': 7,\n",
       "   'Position': '7',\n",
       "   'ShowPosition': True,\n",
       "   'RacingNumber': '44',\n",
       "   'Retired': False,\n",
       "   'InPit': False,\n",
       "   'PitOut': False,\n",
       "   'Stopped': False,\n",
       "   'Status': 64,\n",
       "   'Sectors': [{'Stopped': False,\n",
       "     'Value': '',\n",
       "     'Status': 0,\n",
       "     'OverallFastest': False,\n",
       "     'PersonalFastest': False,\n",
       "     'Segments': [{'Status': 2064},\n",
       "      {'Status': 2064},\n",
       "      {'Status': 2064},\n",
       "      {'Status': 2048},\n",
       "      {'Status': 2048},\n",
       "      {'Status': 2048},\n",
       "      {'Status': 2048},\n",
       "      {'Status': 2048},\n",
       "      {'Status': 2048}]},\n",
       "    {'Stopped': False,\n",
       "     'Value': '',\n",
       "     'Status': 0,\n",
       "     'OverallFastest': False,\n",
       "     'PersonalFastest': False,\n",
       "     'Segments': [{'Status': 2048},\n",
       "      {'Status': 2048},\n",
       "      {'Status': 2048},\n",
       "      {'Status': 2048},\n",
       "      {'Status': 2048},\n",
       "      {'Status': 2048},\n",
       "      {'Status': 2048}]},\n",
       "    {'Stopped': False,\n",
       "     'Value': '',\n",
       "     'Status': 0,\n",
       "     'OverallFastest': False,\n",
       "     'PersonalFastest': False,\n",
       "     'Segments': [{'Status': 2048},\n",
       "      {'Status': 2048},\n",
       "      {'Status': 2048},\n",
       "      {'Status': 2048},\n",
       "      {'Status': 2048},\n",
       "      {'Status': 2048},\n",
       "      {'Status': 2048},\n",
       "      {'Status': 2048},\n",
       "      {'Status': 2048}]}],\n",
       "   'Speeds': {'I1': {'Value': '',\n",
       "     'Status': 0,\n",
       "     'OverallFastest': False,\n",
       "     'PersonalFastest': False},\n",
       "    'I2': {'Value': '',\n",
       "     'Status': 0,\n",
       "     'OverallFastest': False,\n",
       "     'PersonalFastest': False},\n",
       "    'FL': {'Value': '',\n",
       "     'Status': 0,\n",
       "     'OverallFastest': False,\n",
       "     'PersonalFastest': False},\n",
       "    'ST': {'Value': '',\n",
       "     'Status': 0,\n",
       "     'OverallFastest': False,\n",
       "     'PersonalFastest': False}},\n",
       "   'BestLapTime': {'Value': ''},\n",
       "   'LastLapTime': {'Value': '',\n",
       "    'Status': 0,\n",
       "    'OverallFastest': False,\n",
       "    'PersonalFastest': False}},\n",
       "  '81': {'GapToLeader': '',\n",
       "   'IntervalToPositionAhead': {'Value': '', 'Catching': False},\n",
       "   'Line': 8,\n",
       "   'Position': '8',\n",
       "   'ShowPosition': True,\n",
       "   'RacingNumber': '81',\n",
       "   'Retired': False,\n",
       "   'InPit': False,\n",
       "   'PitOut': False,\n",
       "   'Stopped': False,\n",
       "   'Status': 64,\n",
       "   'Sectors': [{'Stopped': False,\n",
       "     'Value': '',\n",
       "     'Status': 0,\n",
       "     'OverallFastest': False,\n",
       "     'PersonalFastest': False,\n",
       "     'Segments': [{'Status': 2064},\n",
       "      {'Status': 2064},\n",
       "      {'Status': 2064},\n",
       "      {'Status': 2048},\n",
       "      {'Status': 2048},\n",
       "      {'Status': 2048},\n",
       "      {'Status': 2048},\n",
       "      {'Status': 2048},\n",
       "      {'Status': 2048}]},\n",
       "    {'Stopped': False,\n",
       "     'Value': '',\n",
       "     'Status': 0,\n",
       "     'OverallFastest': False,\n",
       "     'PersonalFastest': False,\n",
       "     'Segments': [{'Status': 2048},\n",
       "      {'Status': 2048},\n",
       "      {'Status': 2048},\n",
       "      {'Status': 2048},\n",
       "      {'Status': 2048},\n",
       "      {'Status': 2048},\n",
       "      {'Status': 2048}]},\n",
       "    {'Stopped': False,\n",
       "     'Value': '',\n",
       "     'Status': 0,\n",
       "     'OverallFastest': False,\n",
       "     'PersonalFastest': False,\n",
       "     'Segments': [{'Status': 2048},\n",
       "      {'Status': 2048},\n",
       "      {'Status': 2048},\n",
       "      {'Status': 2048},\n",
       "      {'Status': 2048},\n",
       "      {'Status': 2048},\n",
       "      {'Status': 2048},\n",
       "      {'Status': 2048},\n",
       "      {'Status': 2048}]}],\n",
       "   'Speeds': {'I1': {'Value': '',\n",
       "     'Status': 0,\n",
       "     'OverallFastest': False,\n",
       "     'PersonalFastest': False},\n",
       "    'I2': {'Value': '',\n",
       "     'Status': 0,\n",
       "     'OverallFastest': False,\n",
       "     'PersonalFastest': False},\n",
       "    'FL': {'Value': '',\n",
       "     'Status': 0,\n",
       "     'OverallFastest': False,\n",
       "     'PersonalFastest': False},\n",
       "    'ST': {'Value': '',\n",
       "     'Status': 0,\n",
       "     'OverallFastest': False,\n",
       "     'PersonalFastest': False}},\n",
       "   'BestLapTime': {'Value': ''},\n",
       "   'LastLapTime': {'Value': '',\n",
       "    'Status': 0,\n",
       "    'OverallFastest': False,\n",
       "    'PersonalFastest': False}},\n",
       "  '10': {'GapToLeader': '',\n",
       "   'IntervalToPositionAhead': {'Value': '', 'Catching': False},\n",
       "   'Line': 9,\n",
       "   'Position': '9',\n",
       "   'ShowPosition': True,\n",
       "   'RacingNumber': '10',\n",
       "   'Retired': False,\n",
       "   'InPit': False,\n",
       "   'PitOut': False,\n",
       "   'Stopped': False,\n",
       "   'Status': 64,\n",
       "   'Sectors': [{'Stopped': False,\n",
       "     'Value': '',\n",
       "     'Status': 0,\n",
       "     'OverallFastest': False,\n",
       "     'PersonalFastest': False,\n",
       "     'Segments': [{'Status': 2064},\n",
       "      {'Status': 2064},\n",
       "      {'Status': 2064},\n",
       "      {'Status': 2048},\n",
       "      {'Status': 2048},\n",
       "      {'Status': 2048},\n",
       "      {'Status': 2048},\n",
       "      {'Status': 2048},\n",
       "      {'Status': 2048}]},\n",
       "    {'Stopped': False,\n",
       "     'Value': '',\n",
       "     'Status': 0,\n",
       "     'OverallFastest': False,\n",
       "     'PersonalFastest': False,\n",
       "     'Segments': [{'Status': 2048},\n",
       "      {'Status': 2048},\n",
       "      {'Status': 2048},\n",
       "      {'Status': 2048},\n",
       "      {'Status': 2048},\n",
       "      {'Status': 2048},\n",
       "      {'Status': 2048}]},\n",
       "    {'Stopped': False,\n",
       "     'Value': '',\n",
       "     'Status': 0,\n",
       "     'OverallFastest': False,\n",
       "     'PersonalFastest': False,\n",
       "     'Segments': [{'Status': 2048},\n",
       "      {'Status': 2048},\n",
       "      {'Status': 2048},\n",
       "      {'Status': 2048},\n",
       "      {'Status': 2048},\n",
       "      {'Status': 2048},\n",
       "      {'Status': 2048},\n",
       "      {'Status': 2048},\n",
       "      {'Status': 2048}]}],\n",
       "   'Speeds': {'I1': {'Value': '',\n",
       "     'Status': 0,\n",
       "     'OverallFastest': False,\n",
       "     'PersonalFastest': False},\n",
       "    'I2': {'Value': '',\n",
       "     'Status': 0,\n",
       "     'OverallFastest': False,\n",
       "     'PersonalFastest': False},\n",
       "    'FL': {'Value': '',\n",
       "     'Status': 0,\n",
       "     'OverallFastest': False,\n",
       "     'PersonalFastest': False},\n",
       "    'ST': {'Value': '',\n",
       "     'Status': 0,\n",
       "     'OverallFastest': False,\n",
       "     'PersonalFastest': False}},\n",
       "   'BestLapTime': {'Value': ''},\n",
       "   'LastLapTime': {'Value': '',\n",
       "    'Status': 0,\n",
       "    'OverallFastest': False,\n",
       "    'PersonalFastest': False}},\n",
       "  '27': {'GapToLeader': '',\n",
       "   'IntervalToPositionAhead': {'Value': '', 'Catching': False},\n",
       "   'Line': 10,\n",
       "   'Position': '10',\n",
       "   'ShowPosition': True,\n",
       "   'RacingNumber': '27',\n",
       "   'Retired': False,\n",
       "   'InPit': False,\n",
       "   'PitOut': False,\n",
       "   'Stopped': False,\n",
       "   'Status': 64,\n",
       "   'Sectors': [{'Stopped': False,\n",
       "     'Value': '',\n",
       "     'Status': 0,\n",
       "     'OverallFastest': False,\n",
       "     'PersonalFastest': False,\n",
       "     'Segments': [{'Status': 2064},\n",
       "      {'Status': 2064},\n",
       "      {'Status': 2064},\n",
       "      {'Status': 2048},\n",
       "      {'Status': 2048},\n",
       "      {'Status': 2048},\n",
       "      {'Status': 2048},\n",
       "      {'Status': 2048},\n",
       "      {'Status': 2048}]},\n",
       "    {'Stopped': False,\n",
       "     'Value': '',\n",
       "     'Status': 0,\n",
       "     'OverallFastest': False,\n",
       "     'PersonalFastest': False,\n",
       "     'Segments': [{'Status': 2048},\n",
       "      {'Status': 2048},\n",
       "      {'Status': 2048},\n",
       "      {'Status': 2048},\n",
       "      {'Status': 2048},\n",
       "      {'Status': 2048},\n",
       "      {'Status': 2048}]},\n",
       "    {'Stopped': False,\n",
       "     'Value': '',\n",
       "     'Status': 0,\n",
       "     'OverallFastest': False,\n",
       "     'PersonalFastest': False,\n",
       "     'Segments': [{'Status': 2048},\n",
       "      {'Status': 2048},\n",
       "      {'Status': 2048},\n",
       "      {'Status': 2048},\n",
       "      {'Status': 2048},\n",
       "      {'Status': 2048},\n",
       "      {'Status': 2048},\n",
       "      {'Status': 2048},\n",
       "      {'Status': 2048}]}],\n",
       "   'Speeds': {'I1': {'Value': '',\n",
       "     'Status': 0,\n",
       "     'OverallFastest': False,\n",
       "     'PersonalFastest': False},\n",
       "    'I2': {'Value': '',\n",
       "     'Status': 0,\n",
       "     'OverallFastest': False,\n",
       "     'PersonalFastest': False},\n",
       "    'FL': {'Value': '',\n",
       "     'Status': 0,\n",
       "     'OverallFastest': False,\n",
       "     'PersonalFastest': False},\n",
       "    'ST': {'Value': '',\n",
       "     'Status': 0,\n",
       "     'OverallFastest': False,\n",
       "     'PersonalFastest': False}},\n",
       "   'BestLapTime': {'Value': ''},\n",
       "   'LastLapTime': {'Value': '',\n",
       "    'Status': 0,\n",
       "    'OverallFastest': False,\n",
       "    'PersonalFastest': False}},\n",
       "  '24': {'GapToLeader': '',\n",
       "   'IntervalToPositionAhead': {'Value': '', 'Catching': False},\n",
       "   'Line': 11,\n",
       "   'Position': '11',\n",
       "   'ShowPosition': True,\n",
       "   'RacingNumber': '24',\n",
       "   'Retired': False,\n",
       "   'InPit': False,\n",
       "   'PitOut': False,\n",
       "   'Stopped': False,\n",
       "   'Status': 64,\n",
       "   'Sectors': [{'Stopped': False,\n",
       "     'Value': '',\n",
       "     'Status': 0,\n",
       "     'OverallFastest': False,\n",
       "     'PersonalFastest': False,\n",
       "     'Segments': [{'Status': 2064},\n",
       "      {'Status': 2064},\n",
       "      {'Status': 2064},\n",
       "      {'Status': 2048},\n",
       "      {'Status': 2048},\n",
       "      {'Status': 2048},\n",
       "      {'Status': 2048},\n",
       "      {'Status': 2048},\n",
       "      {'Status': 2048}]},\n",
       "    {'Stopped': False,\n",
       "     'Value': '',\n",
       "     'Status': 0,\n",
       "     'OverallFastest': False,\n",
       "     'PersonalFastest': False,\n",
       "     'Segments': [{'Status': 2048},\n",
       "      {'Status': 2048},\n",
       "      {'Status': 2048},\n",
       "      {'Status': 2048},\n",
       "      {'Status': 2048},\n",
       "      {'Status': 2048},\n",
       "      {'Status': 2048}]},\n",
       "    {'Stopped': False,\n",
       "     'Value': '',\n",
       "     'Status': 0,\n",
       "     'OverallFastest': False,\n",
       "     'PersonalFastest': False,\n",
       "     'Segments': [{'Status': 2048},\n",
       "      {'Status': 2048},\n",
       "      {'Status': 2048},\n",
       "      {'Status': 2048},\n",
       "      {'Status': 2048},\n",
       "      {'Status': 2048},\n",
       "      {'Status': 2048},\n",
       "      {'Status': 2048},\n",
       "      {'Status': 2048}]}],\n",
       "   'Speeds': {'I1': {'Value': '',\n",
       "     'Status': 0,\n",
       "     'OverallFastest': False,\n",
       "     'PersonalFastest': False},\n",
       "    'I2': {'Value': '',\n",
       "     'Status': 0,\n",
       "     'OverallFastest': False,\n",
       "     'PersonalFastest': False},\n",
       "    'FL': {'Value': '',\n",
       "     'Status': 0,\n",
       "     'OverallFastest': False,\n",
       "     'PersonalFastest': False},\n",
       "    'ST': {'Value': '',\n",
       "     'Status': 0,\n",
       "     'OverallFastest': False,\n",
       "     'PersonalFastest': False}},\n",
       "   'BestLapTime': {'Value': ''},\n",
       "   'LastLapTime': {'Value': '',\n",
       "    'Status': 0,\n",
       "    'OverallFastest': False,\n",
       "    'PersonalFastest': False}},\n",
       "  '16': {'GapToLeader': '',\n",
       "   'IntervalToPositionAhead': {'Value': '', 'Catching': False},\n",
       "   'Line': 12,\n",
       "   'Position': '12',\n",
       "   'ShowPosition': True,\n",
       "   'RacingNumber': '16',\n",
       "   'Retired': False,\n",
       "   'InPit': False,\n",
       "   'PitOut': False,\n",
       "   'Stopped': False,\n",
       "   'Status': 64,\n",
       "   'Sectors': [{'Stopped': False,\n",
       "     'Value': '',\n",
       "     'Status': 0,\n",
       "     'OverallFastest': False,\n",
       "     'PersonalFastest': False,\n",
       "     'Segments': [{'Status': 2064},\n",
       "      {'Status': 2064},\n",
       "      {'Status': 2064},\n",
       "      {'Status': 2048},\n",
       "      {'Status': 2048},\n",
       "      {'Status': 2048},\n",
       "      {'Status': 2048},\n",
       "      {'Status': 2048},\n",
       "      {'Status': 2048}]},\n",
       "    {'Stopped': False,\n",
       "     'Value': '',\n",
       "     'Status': 0,\n",
       "     'OverallFastest': False,\n",
       "     'PersonalFastest': False,\n",
       "     'Segments': [{'Status': 2048},\n",
       "      {'Status': 2048},\n",
       "      {'Status': 2048},\n",
       "      {'Status': 2048},\n",
       "      {'Status': 2048},\n",
       "      {'Status': 2048},\n",
       "      {'Status': 2048}]},\n",
       "    {'Stopped': False,\n",
       "     'Value': '',\n",
       "     'Status': 0,\n",
       "     'OverallFastest': False,\n",
       "     'PersonalFastest': False,\n",
       "     'Segments': [{'Status': 2048},\n",
       "      {'Status': 2048},\n",
       "      {'Status': 2048},\n",
       "      {'Status': 2048},\n",
       "      {'Status': 2048},\n",
       "      {'Status': 2048},\n",
       "      {'Status': 2048},\n",
       "      {'Status': 2048},\n",
       "      {'Status': 2048}]}],\n",
       "   'Speeds': {'I1': {'Value': '',\n",
       "     'Status': 0,\n",
       "     'OverallFastest': False,\n",
       "     'PersonalFastest': False},\n",
       "    'I2': {'Value': '',\n",
       "     'Status': 0,\n",
       "     'OverallFastest': False,\n",
       "     'PersonalFastest': False},\n",
       "    'FL': {'Value': '',\n",
       "     'Status': 0,\n",
       "     'OverallFastest': False,\n",
       "     'PersonalFastest': False},\n",
       "    'ST': {'Value': '',\n",
       "     'Status': 0,\n",
       "     'OverallFastest': False,\n",
       "     'PersonalFastest': False}},\n",
       "   'BestLapTime': {'Value': ''},\n",
       "   'LastLapTime': {'Value': '',\n",
       "    'Status': 0,\n",
       "    'OverallFastest': False,\n",
       "    'PersonalFastest': False}},\n",
       "  '20': {'GapToLeader': '',\n",
       "   'IntervalToPositionAhead': {'Value': '', 'Catching': False},\n",
       "   'Line': 13,\n",
       "   'Position': '13',\n",
       "   'ShowPosition': True,\n",
       "   'RacingNumber': '20',\n",
       "   'Retired': False,\n",
       "   'InPit': False,\n",
       "   'PitOut': False,\n",
       "   'Stopped': False,\n",
       "   'Status': 64,\n",
       "   'Sectors': [{'Stopped': False,\n",
       "     'Value': '',\n",
       "     'Status': 0,\n",
       "     'OverallFastest': False,\n",
       "     'PersonalFastest': False,\n",
       "     'Segments': [{'Status': 2064},\n",
       "      {'Status': 2064},\n",
       "      {'Status': 2064},\n",
       "      {'Status': 2048},\n",
       "      {'Status': 2048},\n",
       "      {'Status': 2048},\n",
       "      {'Status': 2048},\n",
       "      {'Status': 2048},\n",
       "      {'Status': 2048}]},\n",
       "    {'Stopped': False,\n",
       "     'Value': '',\n",
       "     'Status': 0,\n",
       "     'OverallFastest': False,\n",
       "     'PersonalFastest': False,\n",
       "     'Segments': [{'Status': 2048},\n",
       "      {'Status': 2048},\n",
       "      {'Status': 2048},\n",
       "      {'Status': 2048},\n",
       "      {'Status': 2048},\n",
       "      {'Status': 2048},\n",
       "      {'Status': 2048}]},\n",
       "    {'Stopped': False,\n",
       "     'Value': '',\n",
       "     'Status': 0,\n",
       "     'OverallFastest': False,\n",
       "     'PersonalFastest': False,\n",
       "     'Segments': [{'Status': 2048},\n",
       "      {'Status': 2048},\n",
       "      {'Status': 2048},\n",
       "      {'Status': 2048},\n",
       "      {'Status': 2048},\n",
       "      {'Status': 2048},\n",
       "      {'Status': 2048},\n",
       "      {'Status': 2048},\n",
       "      {'Status': 2048}]}],\n",
       "   'Speeds': {'I1': {'Value': '',\n",
       "     'Status': 0,\n",
       "     'OverallFastest': False,\n",
       "     'PersonalFastest': False},\n",
       "    'I2': {'Value': '',\n",
       "     'Status': 0,\n",
       "     'OverallFastest': False,\n",
       "     'PersonalFastest': False},\n",
       "    'FL': {'Value': '',\n",
       "     'Status': 0,\n",
       "     'OverallFastest': False,\n",
       "     'PersonalFastest': False},\n",
       "    'ST': {'Value': '',\n",
       "     'Status': 0,\n",
       "     'OverallFastest': False,\n",
       "     'PersonalFastest': False}},\n",
       "   'BestLapTime': {'Value': ''},\n",
       "   'LastLapTime': {'Value': '',\n",
       "    'Status': 0,\n",
       "    'OverallFastest': False,\n",
       "    'PersonalFastest': False}},\n",
       "  '77': {'GapToLeader': '',\n",
       "   'IntervalToPositionAhead': {'Value': '', 'Catching': False},\n",
       "   'Line': 14,\n",
       "   'Position': '14',\n",
       "   'ShowPosition': True,\n",
       "   'RacingNumber': '77',\n",
       "   'Retired': False,\n",
       "   'InPit': False,\n",
       "   'PitOut': False,\n",
       "   'Stopped': False,\n",
       "   'Status': 64,\n",
       "   'Sectors': [{'Stopped': False,\n",
       "     'Value': '',\n",
       "     'Status': 0,\n",
       "     'OverallFastest': False,\n",
       "     'PersonalFastest': False,\n",
       "     'Segments': [{'Status': 2064},\n",
       "      {'Status': 2064},\n",
       "      {'Status': 2064},\n",
       "      {'Status': 2048},\n",
       "      {'Status': 2048},\n",
       "      {'Status': 2048},\n",
       "      {'Status': 2048},\n",
       "      {'Status': 2048},\n",
       "      {'Status': 2048}]},\n",
       "    {'Stopped': False,\n",
       "     'Value': '',\n",
       "     'Status': 0,\n",
       "     'OverallFastest': False,\n",
       "     'PersonalFastest': False,\n",
       "     'Segments': [{'Status': 2048},\n",
       "      {'Status': 2048},\n",
       "      {'Status': 2048},\n",
       "      {'Status': 2048},\n",
       "      {'Status': 2048},\n",
       "      {'Status': 2048},\n",
       "      {'Status': 2048}]},\n",
       "    {'Stopped': False,\n",
       "     'Value': '',\n",
       "     'Status': 0,\n",
       "     'OverallFastest': False,\n",
       "     'PersonalFastest': False,\n",
       "     'Segments': [{'Status': 2048},\n",
       "      {'Status': 2048},\n",
       "      {'Status': 2048},\n",
       "      {'Status': 2048},\n",
       "      {'Status': 2048},\n",
       "      {'Status': 2048},\n",
       "      {'Status': 2048},\n",
       "      {'Status': 2048},\n",
       "      {'Status': 2048}]}],\n",
       "   'Speeds': {'I1': {'Value': '',\n",
       "     'Status': 0,\n",
       "     'OverallFastest': False,\n",
       "     'PersonalFastest': False},\n",
       "    'I2': {'Value': '',\n",
       "     'Status': 0,\n",
       "     'OverallFastest': False,\n",
       "     'PersonalFastest': False},\n",
       "    'FL': {'Value': '',\n",
       "     'Status': 0,\n",
       "     'OverallFastest': False,\n",
       "     'PersonalFastest': False},\n",
       "    'ST': {'Value': '',\n",
       "     'Status': 0,\n",
       "     'OverallFastest': False,\n",
       "     'PersonalFastest': False}},\n",
       "   'BestLapTime': {'Value': ''},\n",
       "   'LastLapTime': {'Value': '',\n",
       "    'Status': 0,\n",
       "    'OverallFastest': False,\n",
       "    'PersonalFastest': False}},\n",
       "  '1': {'GapToLeader': '',\n",
       "   'IntervalToPositionAhead': {'Value': '', 'Catching': False},\n",
       "   'Line': 15,\n",
       "   'Position': '15',\n",
       "   'ShowPosition': True,\n",
       "   'RacingNumber': '1',\n",
       "   'Retired': False,\n",
       "   'InPit': False,\n",
       "   'PitOut': False,\n",
       "   'Stopped': False,\n",
       "   'Status': 64,\n",
       "   'Sectors': [{'Stopped': False,\n",
       "     'Value': '',\n",
       "     'Status': 0,\n",
       "     'OverallFastest': False,\n",
       "     'PersonalFastest': False,\n",
       "     'Segments': [{'Status': 2064},\n",
       "      {'Status': 2064},\n",
       "      {'Status': 2064},\n",
       "      {'Status': 2048},\n",
       "      {'Status': 2048},\n",
       "      {'Status': 2048},\n",
       "      {'Status': 2048},\n",
       "      {'Status': 2048},\n",
       "      {'Status': 2048}]},\n",
       "    {'Stopped': False,\n",
       "     'Value': '',\n",
       "     'Status': 0,\n",
       "     'OverallFastest': False,\n",
       "     'PersonalFastest': False,\n",
       "     'Segments': [{'Status': 2048},\n",
       "      {'Status': 2048},\n",
       "      {'Status': 2048},\n",
       "      {'Status': 2048},\n",
       "      {'Status': 2048},\n",
       "      {'Status': 2048},\n",
       "      {'Status': 2048}]},\n",
       "    {'Stopped': False,\n",
       "     'Value': '',\n",
       "     'Status': 0,\n",
       "     'OverallFastest': False,\n",
       "     'PersonalFastest': False,\n",
       "     'Segments': [{'Status': 2048},\n",
       "      {'Status': 2048},\n",
       "      {'Status': 2048},\n",
       "      {'Status': 2048},\n",
       "      {'Status': 2048},\n",
       "      {'Status': 2048},\n",
       "      {'Status': 2048},\n",
       "      {'Status': 2048},\n",
       "      {'Status': 2048}]}],\n",
       "   'Speeds': {'I1': {'Value': '',\n",
       "     'Status': 0,\n",
       "     'OverallFastest': False,\n",
       "     'PersonalFastest': False},\n",
       "    'I2': {'Value': '',\n",
       "     'Status': 0,\n",
       "     'OverallFastest': False,\n",
       "     'PersonalFastest': False},\n",
       "    'FL': {'Value': '',\n",
       "     'Status': 0,\n",
       "     'OverallFastest': False,\n",
       "     'PersonalFastest': False},\n",
       "    'ST': {'Value': '',\n",
       "     'Status': 0,\n",
       "     'OverallFastest': False,\n",
       "     'PersonalFastest': False}},\n",
       "   'BestLapTime': {'Value': ''},\n",
       "   'LastLapTime': {'Value': '',\n",
       "    'Status': 0,\n",
       "    'OverallFastest': False,\n",
       "    'PersonalFastest': False}},\n",
       "  '22': {'GapToLeader': '',\n",
       "   'IntervalToPositionAhead': {'Value': '', 'Catching': False},\n",
       "   'Line': 16,\n",
       "   'Position': '16',\n",
       "   'ShowPosition': True,\n",
       "   'RacingNumber': '22',\n",
       "   'Retired': False,\n",
       "   'InPit': False,\n",
       "   'PitOut': False,\n",
       "   'Stopped': False,\n",
       "   'Status': 64,\n",
       "   'Sectors': [{'Stopped': False,\n",
       "     'Value': '',\n",
       "     'Status': 0,\n",
       "     'OverallFastest': False,\n",
       "     'PersonalFastest': False,\n",
       "     'Segments': [{'Status': 2064},\n",
       "      {'Status': 2064},\n",
       "      {'Status': 2064},\n",
       "      {'Status': 2048},\n",
       "      {'Status': 2048},\n",
       "      {'Status': 2048},\n",
       "      {'Status': 2048},\n",
       "      {'Status': 2048},\n",
       "      {'Status': 2048}]},\n",
       "    {'Stopped': False,\n",
       "     'Value': '',\n",
       "     'Status': 0,\n",
       "     'OverallFastest': False,\n",
       "     'PersonalFastest': False,\n",
       "     'Segments': [{'Status': 2048},\n",
       "      {'Status': 2048},\n",
       "      {'Status': 2048},\n",
       "      {'Status': 2048},\n",
       "      {'Status': 2048},\n",
       "      {'Status': 2048},\n",
       "      {'Status': 2048}]},\n",
       "    {'Stopped': False,\n",
       "     'Value': '',\n",
       "     'Status': 0,\n",
       "     'OverallFastest': False,\n",
       "     'PersonalFastest': False,\n",
       "     'Segments': [{'Status': 2048},\n",
       "      {'Status': 2048},\n",
       "      {'Status': 2048},\n",
       "      {'Status': 2048},\n",
       "      {'Status': 2048},\n",
       "      {'Status': 2048},\n",
       "      {'Status': 2048},\n",
       "      {'Status': 2048},\n",
       "      {'Status': 2048}]}],\n",
       "   'Speeds': {'I1': {'Value': '',\n",
       "     'Status': 0,\n",
       "     'OverallFastest': False,\n",
       "     'PersonalFastest': False},\n",
       "    'I2': {'Value': '',\n",
       "     'Status': 0,\n",
       "     'OverallFastest': False,\n",
       "     'PersonalFastest': False},\n",
       "    'FL': {'Value': '',\n",
       "     'Status': 0,\n",
       "     'OverallFastest': False,\n",
       "     'PersonalFastest': False},\n",
       "    'ST': {'Value': '',\n",
       "     'Status': 0,\n",
       "     'OverallFastest': False,\n",
       "     'PersonalFastest': False}},\n",
       "   'BestLapTime': {'Value': ''},\n",
       "   'LastLapTime': {'Value': '',\n",
       "    'Status': 0,\n",
       "    'OverallFastest': False,\n",
       "    'PersonalFastest': False}},\n",
       "  '23': {'GapToLeader': '',\n",
       "   'IntervalToPositionAhead': {'Value': '', 'Catching': False},\n",
       "   'Line': 17,\n",
       "   'Position': '17',\n",
       "   'ShowPosition': True,\n",
       "   'RacingNumber': '23',\n",
       "   'Retired': False,\n",
       "   'InPit': False,\n",
       "   'PitOut': False,\n",
       "   'Stopped': False,\n",
       "   'Status': 64,\n",
       "   'Sectors': [{'Stopped': False,\n",
       "     'Value': '',\n",
       "     'Status': 0,\n",
       "     'OverallFastest': False,\n",
       "     'PersonalFastest': False,\n",
       "     'Segments': [{'Status': 2064},\n",
       "      {'Status': 2064},\n",
       "      {'Status': 2064},\n",
       "      {'Status': 2048},\n",
       "      {'Status': 2048},\n",
       "      {'Status': 2048},\n",
       "      {'Status': 2048},\n",
       "      {'Status': 2048},\n",
       "      {'Status': 2048}]},\n",
       "    {'Stopped': False,\n",
       "     'Value': '',\n",
       "     'Status': 0,\n",
       "     'OverallFastest': False,\n",
       "     'PersonalFastest': False,\n",
       "     'Segments': [{'Status': 2048},\n",
       "      {'Status': 2048},\n",
       "      {'Status': 2048},\n",
       "      {'Status': 2048},\n",
       "      {'Status': 2048},\n",
       "      {'Status': 2048},\n",
       "      {'Status': 2048}]},\n",
       "    {'Stopped': False,\n",
       "     'Value': '',\n",
       "     'Status': 0,\n",
       "     'OverallFastest': False,\n",
       "     'PersonalFastest': False,\n",
       "     'Segments': [{'Status': 2048},\n",
       "      {'Status': 2048},\n",
       "      {'Status': 2048},\n",
       "      {'Status': 2048},\n",
       "      {'Status': 2048},\n",
       "      {'Status': 2048},\n",
       "      {'Status': 2048},\n",
       "      {'Status': 2048},\n",
       "      {'Status': 2048}]}],\n",
       "   'Speeds': {'I1': {'Value': '',\n",
       "     'Status': 0,\n",
       "     'OverallFastest': False,\n",
       "     'PersonalFastest': False},\n",
       "    'I2': {'Value': '',\n",
       "     'Status': 0,\n",
       "     'OverallFastest': False,\n",
       "     'PersonalFastest': False},\n",
       "    'FL': {'Value': '',\n",
       "     'Status': 0,\n",
       "     'OverallFastest': False,\n",
       "     'PersonalFastest': False},\n",
       "    'ST': {'Value': '',\n",
       "     'Status': 0,\n",
       "     'OverallFastest': False,\n",
       "     'PersonalFastest': False}},\n",
       "   'BestLapTime': {'Value': ''},\n",
       "   'LastLapTime': {'Value': '',\n",
       "    'Status': 0,\n",
       "    'OverallFastest': False,\n",
       "    'PersonalFastest': False}},\n",
       "  '21': {'GapToLeader': '',\n",
       "   'IntervalToPositionAhead': {'Value': '', 'Catching': False},\n",
       "   'Line': 18,\n",
       "   'Position': '18',\n",
       "   'ShowPosition': True,\n",
       "   'RacingNumber': '21',\n",
       "   'Retired': False,\n",
       "   'InPit': False,\n",
       "   'PitOut': False,\n",
       "   'Stopped': False,\n",
       "   'Status': 64,\n",
       "   'Sectors': [{'Stopped': False,\n",
       "     'Value': '',\n",
       "     'Status': 0,\n",
       "     'OverallFastest': False,\n",
       "     'PersonalFastest': False,\n",
       "     'Segments': [{'Status': 2064},\n",
       "      {'Status': 2064},\n",
       "      {'Status': 2064},\n",
       "      {'Status': 2048},\n",
       "      {'Status': 2048},\n",
       "      {'Status': 2048},\n",
       "      {'Status': 2048},\n",
       "      {'Status': 2048},\n",
       "      {'Status': 2048}]},\n",
       "    {'Stopped': False,\n",
       "     'Value': '',\n",
       "     'Status': 0,\n",
       "     'OverallFastest': False,\n",
       "     'PersonalFastest': False,\n",
       "     'Segments': [{'Status': 2048},\n",
       "      {'Status': 2048},\n",
       "      {'Status': 2048},\n",
       "      {'Status': 2048},\n",
       "      {'Status': 2048},\n",
       "      {'Status': 2048},\n",
       "      {'Status': 2048}]},\n",
       "    {'Stopped': False,\n",
       "     'Value': '',\n",
       "     'Status': 0,\n",
       "     'OverallFastest': False,\n",
       "     'PersonalFastest': False,\n",
       "     'Segments': [{'Status': 2048},\n",
       "      {'Status': 2048},\n",
       "      {'Status': 2048},\n",
       "      {'Status': 2048},\n",
       "      {'Status': 2048},\n",
       "      {'Status': 2048},\n",
       "      {'Status': 2048},\n",
       "      {'Status': 2048},\n",
       "      {'Status': 2048}]}],\n",
       "   'Speeds': {'I1': {'Value': '',\n",
       "     'Status': 0,\n",
       "     'OverallFastest': False,\n",
       "     'PersonalFastest': False},\n",
       "    'I2': {'Value': '',\n",
       "     'Status': 0,\n",
       "     'OverallFastest': False,\n",
       "     'PersonalFastest': False},\n",
       "    'FL': {'Value': '',\n",
       "     'Status': 0,\n",
       "     'OverallFastest': False,\n",
       "     'PersonalFastest': False},\n",
       "    'ST': {'Value': '',\n",
       "     'Status': 0,\n",
       "     'OverallFastest': False,\n",
       "     'PersonalFastest': False}},\n",
       "   'BestLapTime': {'Value': ''},\n",
       "   'LastLapTime': {'Value': '',\n",
       "    'Status': 0,\n",
       "    'OverallFastest': False,\n",
       "    'PersonalFastest': False}},\n",
       "  '4': {'GapToLeader': '',\n",
       "   'IntervalToPositionAhead': {'Value': '', 'Catching': False},\n",
       "   'Line': 19,\n",
       "   'Position': '19',\n",
       "   'ShowPosition': True,\n",
       "   'RacingNumber': '4',\n",
       "   'Retired': False,\n",
       "   'InPit': False,\n",
       "   'PitOut': False,\n",
       "   'Stopped': False,\n",
       "   'Status': 64,\n",
       "   'Sectors': [{'Stopped': False,\n",
       "     'Value': '',\n",
       "     'Status': 0,\n",
       "     'OverallFastest': False,\n",
       "     'PersonalFastest': False,\n",
       "     'Segments': [{'Status': 2064},\n",
       "      {'Status': 2064},\n",
       "      {'Status': 2064},\n",
       "      {'Status': 2048},\n",
       "      {'Status': 2048},\n",
       "      {'Status': 2048},\n",
       "      {'Status': 2048},\n",
       "      {'Status': 2048},\n",
       "      {'Status': 2048}]},\n",
       "    {'Stopped': False,\n",
       "     'Value': '',\n",
       "     'Status': 0,\n",
       "     'OverallFastest': False,\n",
       "     'PersonalFastest': False,\n",
       "     'Segments': [{'Status': 2048},\n",
       "      {'Status': 2048},\n",
       "      {'Status': 2048},\n",
       "      {'Status': 2048},\n",
       "      {'Status': 2048},\n",
       "      {'Status': 2048},\n",
       "      {'Status': 2048}]},\n",
       "    {'Stopped': False,\n",
       "     'Value': '',\n",
       "     'Status': 0,\n",
       "     'OverallFastest': False,\n",
       "     'PersonalFastest': False,\n",
       "     'Segments': [{'Status': 2048},\n",
       "      {'Status': 2048},\n",
       "      {'Status': 2048},\n",
       "      {'Status': 2048},\n",
       "      {'Status': 2048},\n",
       "      {'Status': 2048},\n",
       "      {'Status': 2048},\n",
       "      {'Status': 2048},\n",
       "      {'Status': 2048}]}],\n",
       "   'Speeds': {'I1': {'Value': '',\n",
       "     'Status': 0,\n",
       "     'OverallFastest': False,\n",
       "     'PersonalFastest': False},\n",
       "    'I2': {'Value': '',\n",
       "     'Status': 0,\n",
       "     'OverallFastest': False,\n",
       "     'PersonalFastest': False},\n",
       "    'FL': {'Value': '',\n",
       "     'Status': 0,\n",
       "     'OverallFastest': False,\n",
       "     'PersonalFastest': False},\n",
       "    'ST': {'Value': '',\n",
       "     'Status': 0,\n",
       "     'OverallFastest': False,\n",
       "     'PersonalFastest': False}},\n",
       "   'BestLapTime': {'Value': ''},\n",
       "   'LastLapTime': {'Value': '',\n",
       "    'Status': 0,\n",
       "    'OverallFastest': False,\n",
       "    'PersonalFastest': False}},\n",
       "  '2': {'GapToLeader': '',\n",
       "   'IntervalToPositionAhead': {'Value': '', 'Catching': False},\n",
       "   'Line': 20,\n",
       "   'Position': '20',\n",
       "   'ShowPosition': True,\n",
       "   'RacingNumber': '2',\n",
       "   'Retired': False,\n",
       "   'InPit': False,\n",
       "   'PitOut': False,\n",
       "   'Stopped': False,\n",
       "   'Status': 64,\n",
       "   'Sectors': [{'Stopped': False,\n",
       "     'Value': '',\n",
       "     'Status': 0,\n",
       "     'OverallFastest': False,\n",
       "     'PersonalFastest': False,\n",
       "     'Segments': [{'Status': 2064},\n",
       "      {'Status': 2064},\n",
       "      {'Status': 2064},\n",
       "      {'Status': 2048},\n",
       "      {'Status': 2048},\n",
       "      {'Status': 2048},\n",
       "      {'Status': 2048},\n",
       "      {'Status': 2048},\n",
       "      {'Status': 2048}]},\n",
       "    {'Stopped': False,\n",
       "     'Value': '',\n",
       "     'Status': 0,\n",
       "     'OverallFastest': False,\n",
       "     'PersonalFastest': False,\n",
       "     'Segments': [{'Status': 2048},\n",
       "      {'Status': 2048},\n",
       "      {'Status': 2048},\n",
       "      {'Status': 2048},\n",
       "      {'Status': 2048},\n",
       "      {'Status': 2048},\n",
       "      {'Status': 2048}]},\n",
       "    {'Stopped': False,\n",
       "     'Value': '',\n",
       "     'Status': 0,\n",
       "     'OverallFastest': False,\n",
       "     'PersonalFastest': False,\n",
       "     'Segments': [{'Status': 2048},\n",
       "      {'Status': 2048},\n",
       "      {'Status': 2048},\n",
       "      {'Status': 2048},\n",
       "      {'Status': 2048},\n",
       "      {'Status': 2048},\n",
       "      {'Status': 2048},\n",
       "      {'Status': 2048},\n",
       "      {'Status': 0}]}],\n",
       "   'Speeds': {'I1': {'Value': '',\n",
       "     'Status': 0,\n",
       "     'OverallFastest': False,\n",
       "     'PersonalFastest': False},\n",
       "    'I2': {'Value': '',\n",
       "     'Status': 0,\n",
       "     'OverallFastest': False,\n",
       "     'PersonalFastest': False},\n",
       "    'FL': {'Value': '',\n",
       "     'Status': 0,\n",
       "     'OverallFastest': False,\n",
       "     'PersonalFastest': False},\n",
       "    'ST': {'Value': '',\n",
       "     'Status': 0,\n",
       "     'OverallFastest': False,\n",
       "     'PersonalFastest': False}},\n",
       "   'BestLapTime': {'Value': ''},\n",
       "   'LastLapTime': {'Value': '',\n",
       "    'Status': 0,\n",
       "    'OverallFastest': False,\n",
       "    'PersonalFastest': False}}},\n",
       " 'Withheld': False,\n",
       " '_kf': True}"
      ]
     },
     "execution_count": 6,
     "metadata": {},
     "output_type": "execute_result"
    }
   ],
   "source": [
    "F1SignalRClient.timing_data"
   ]
  },
  {
   "cell_type": "code",
   "execution_count": 7,
   "metadata": {},
   "outputs": [
    {
     "data": {
      "text/plain": [
       "{'Series': [{'Utc': '2023-03-19T16:01:05.191Z', 'Lap': 1}],\n",
       " 'StatusSeries': [{'Utc': '2023-03-19T16:00:41.957Z',\n",
       "   'TrackStatus': 'AllClear'}],\n",
       " '_kf': True}"
      ]
     },
     "execution_count": 7,
     "metadata": {},
     "output_type": "execute_result"
    }
   ],
   "source": [
    "F1SignalRClient.session_data"
   ]
  },
  {
   "cell_type": "code",
   "execution_count": 8,
   "metadata": {},
   "outputs": [
    {
     "data": {
      "text/plain": [
       "{'Meeting': {'Key': 1142,\n",
       "  'Name': 'Saudi Arabian Grand Prix',\n",
       "  'OfficialName': 'FORMULA 1 STC SAUDI ARABIAN GRAND PRIX 2023',\n",
       "  'Location': 'Jeddah',\n",
       "  'Country': {'Key': 153, 'Code': 'KSA', 'Name': 'Saudi Arabia'},\n",
       "  'Circuit': {'Key': 149, 'ShortName': 'Jeddah'}},\n",
       " 'ArchiveStatus': {'Status': 'Generating'},\n",
       " 'Key': 7779,\n",
       " 'Type': 'Race',\n",
       " 'Name': 'Race',\n",
       " 'StartDate': '2023-03-19T20:00:00',\n",
       " 'EndDate': '2023-03-19T22:00:00',\n",
       " 'GmtOffset': '03:00:00',\n",
       " 'Path': '2023/2023-03-19_Saudi_Arabian_Grand_Prix/2023-03-19_Race/',\n",
       " '_kf': True}"
      ]
     },
     "execution_count": 8,
     "metadata": {},
     "output_type": "execute_result"
    }
   ],
   "source": [
    "F1SignalRClient.session_info"
   ]
  },
  {
   "cell_type": "code",
   "execution_count": null,
   "metadata": {},
   "outputs": [],
   "source": []
  }
 ],
 "metadata": {
  "kernelspec": {
   "display_name": "venv",
   "language": "python",
   "name": "python3"
  },
  "language_info": {
   "codemirror_mode": {
    "name": "ipython",
    "version": 3
   },
   "file_extension": ".py",
   "mimetype": "text/x-python",
   "name": "python",
   "nbconvert_exporter": "python",
   "pygments_lexer": "ipython3",
   "version": "3.9.13"
  },
  "vscode": {
   "interpreter": {
    "hash": "d5f2a690681a0b144277386c2b95c417f6e0af2ddeeacf23f2d1eae76fcfb214"
   }
  }
 },
 "nbformat": 4,
 "nbformat_minor": 4
}
